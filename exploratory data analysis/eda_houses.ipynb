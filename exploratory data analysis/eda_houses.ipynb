{
 "cells": [
  {
   "cell_type": "markdown",
   "metadata": {
    "id": "-VFbjcb3Awb7"
   },
   "source": [
    "# Исследование объявлений о продаже квартир\n",
    "\n",
    "В данном проекте проводится исследовательский анализ данных - архива объявлений о продаже квартир в Санкт-Петербурге и соседних населённых пунктах за несколько лет. В процессе работы были выполнены следующие шаги:\n",
    "1. Первичное знакомство с данными;\n",
    "2. Предообработка данных (обработка пропусков и дубликатов, изменение типов данных);\n",
    "3. Добавление в датафрейм новой информации (с помощью расчетов);\n",
    "4. Исследовательский анализ данных с определением ключевых признаков, влияющих на целевой показатель."
   ]
  },
  {
   "cell_type": "markdown",
   "metadata": {
    "id": "aeFLH07FAwb9"
   },
   "source": [
    "## Первичное знакомство с данными"
   ]
  },
  {
   "cell_type": "markdown",
   "metadata": {},
   "source": [
    "### Импортирование библиотек и открытие файла"
   ]
  },
  {
   "cell_type": "code",
   "execution_count": 2,
   "metadata": {
    "id": "7MZxY65pAwb9"
   },
   "outputs": [],
   "source": [
    "import pandas as pd\n",
    "import matplotlib.pyplot as plt"
   ]
  },
  {
   "cell_type": "code",
   "execution_count": 5,
   "metadata": {},
   "outputs": [
    {
     "ename": "FileNotFoundError",
     "evalue": "[Errno 2] No such file or directory: '/Educational-projects/exploratory data analysis/real_estate_data.csv'",
     "output_type": "error",
     "traceback": [
      "\u001b[1;31m---------------------------------------------------------------------------\u001b[0m",
      "\u001b[1;31mFileNotFoundError\u001b[0m                         Traceback (most recent call last)",
      "Cell \u001b[1;32mIn[5], line 2\u001b[0m\n\u001b[0;32m      1\u001b[0m \u001b[38;5;28;01mtry\u001b[39;00m:\n\u001b[1;32m----> 2\u001b[0m     data \u001b[38;5;241m=\u001b[39m pd\u001b[38;5;241m.\u001b[39mread_csv(\u001b[38;5;124m'\u001b[39m\u001b[38;5;124m/real_estate_data.csv\u001b[39m\u001b[38;5;124m'\u001b[39m, sep\u001b[38;5;241m=\u001b[39m\u001b[38;5;124m'\u001b[39m\u001b[38;5;130;01m\\t\u001b[39;00m\u001b[38;5;124m'\u001b[39m)\n\u001b[0;32m      3\u001b[0m \u001b[38;5;28;01mexcept\u001b[39;00m:\n",
      "File \u001b[1;32m~\\anaconda3\\Lib\\site-packages\\pandas\\io\\parsers\\readers.py:1026\u001b[0m, in \u001b[0;36mread_csv\u001b[1;34m(filepath_or_buffer, sep, delimiter, header, names, index_col, usecols, dtype, engine, converters, true_values, false_values, skipinitialspace, skiprows, skipfooter, nrows, na_values, keep_default_na, na_filter, verbose, skip_blank_lines, parse_dates, infer_datetime_format, keep_date_col, date_parser, date_format, dayfirst, cache_dates, iterator, chunksize, compression, thousands, decimal, lineterminator, quotechar, quoting, doublequote, escapechar, comment, encoding, encoding_errors, dialect, on_bad_lines, delim_whitespace, low_memory, memory_map, float_precision, storage_options, dtype_backend)\u001b[0m\n\u001b[0;32m   1024\u001b[0m kwds\u001b[38;5;241m.\u001b[39mupdate(kwds_defaults)\n\u001b[1;32m-> 1026\u001b[0m \u001b[38;5;28;01mreturn\u001b[39;00m _read(filepath_or_buffer, kwds)\n",
      "File \u001b[1;32m~\\anaconda3\\Lib\\site-packages\\pandas\\io\\parsers\\readers.py:620\u001b[0m, in \u001b[0;36m_read\u001b[1;34m(filepath_or_buffer, kwds)\u001b[0m\n\u001b[0;32m    619\u001b[0m \u001b[38;5;66;03m# Create the parser.\u001b[39;00m\n\u001b[1;32m--> 620\u001b[0m parser \u001b[38;5;241m=\u001b[39m TextFileReader(filepath_or_buffer, \u001b[38;5;241m*\u001b[39m\u001b[38;5;241m*\u001b[39mkwds)\n\u001b[0;32m    622\u001b[0m \u001b[38;5;28;01mif\u001b[39;00m chunksize \u001b[38;5;129;01mor\u001b[39;00m iterator:\n",
      "File \u001b[1;32m~\\anaconda3\\Lib\\site-packages\\pandas\\io\\parsers\\readers.py:1620\u001b[0m, in \u001b[0;36mTextFileReader.__init__\u001b[1;34m(self, f, engine, **kwds)\u001b[0m\n\u001b[0;32m   1619\u001b[0m \u001b[38;5;28mself\u001b[39m\u001b[38;5;241m.\u001b[39mhandles: IOHandles \u001b[38;5;241m|\u001b[39m \u001b[38;5;28;01mNone\u001b[39;00m \u001b[38;5;241m=\u001b[39m \u001b[38;5;28;01mNone\u001b[39;00m\n\u001b[1;32m-> 1620\u001b[0m \u001b[38;5;28mself\u001b[39m\u001b[38;5;241m.\u001b[39m_engine \u001b[38;5;241m=\u001b[39m \u001b[38;5;28mself\u001b[39m\u001b[38;5;241m.\u001b[39m_make_engine(f, \u001b[38;5;28mself\u001b[39m\u001b[38;5;241m.\u001b[39mengine)\n",
      "File \u001b[1;32m~\\anaconda3\\Lib\\site-packages\\pandas\\io\\parsers\\readers.py:1880\u001b[0m, in \u001b[0;36mTextFileReader._make_engine\u001b[1;34m(self, f, engine)\u001b[0m\n\u001b[0;32m   1879\u001b[0m         mode \u001b[38;5;241m+\u001b[39m\u001b[38;5;241m=\u001b[39m \u001b[38;5;124m\"\u001b[39m\u001b[38;5;124mb\u001b[39m\u001b[38;5;124m\"\u001b[39m\n\u001b[1;32m-> 1880\u001b[0m \u001b[38;5;28mself\u001b[39m\u001b[38;5;241m.\u001b[39mhandles \u001b[38;5;241m=\u001b[39m get_handle(\n\u001b[0;32m   1881\u001b[0m     f,\n\u001b[0;32m   1882\u001b[0m     mode,\n\u001b[0;32m   1883\u001b[0m     encoding\u001b[38;5;241m=\u001b[39m\u001b[38;5;28mself\u001b[39m\u001b[38;5;241m.\u001b[39moptions\u001b[38;5;241m.\u001b[39mget(\u001b[38;5;124m\"\u001b[39m\u001b[38;5;124mencoding\u001b[39m\u001b[38;5;124m\"\u001b[39m, \u001b[38;5;28;01mNone\u001b[39;00m),\n\u001b[0;32m   1884\u001b[0m     compression\u001b[38;5;241m=\u001b[39m\u001b[38;5;28mself\u001b[39m\u001b[38;5;241m.\u001b[39moptions\u001b[38;5;241m.\u001b[39mget(\u001b[38;5;124m\"\u001b[39m\u001b[38;5;124mcompression\u001b[39m\u001b[38;5;124m\"\u001b[39m, \u001b[38;5;28;01mNone\u001b[39;00m),\n\u001b[0;32m   1885\u001b[0m     memory_map\u001b[38;5;241m=\u001b[39m\u001b[38;5;28mself\u001b[39m\u001b[38;5;241m.\u001b[39moptions\u001b[38;5;241m.\u001b[39mget(\u001b[38;5;124m\"\u001b[39m\u001b[38;5;124mmemory_map\u001b[39m\u001b[38;5;124m\"\u001b[39m, \u001b[38;5;28;01mFalse\u001b[39;00m),\n\u001b[0;32m   1886\u001b[0m     is_text\u001b[38;5;241m=\u001b[39mis_text,\n\u001b[0;32m   1887\u001b[0m     errors\u001b[38;5;241m=\u001b[39m\u001b[38;5;28mself\u001b[39m\u001b[38;5;241m.\u001b[39moptions\u001b[38;5;241m.\u001b[39mget(\u001b[38;5;124m\"\u001b[39m\u001b[38;5;124mencoding_errors\u001b[39m\u001b[38;5;124m\"\u001b[39m, \u001b[38;5;124m\"\u001b[39m\u001b[38;5;124mstrict\u001b[39m\u001b[38;5;124m\"\u001b[39m),\n\u001b[0;32m   1888\u001b[0m     storage_options\u001b[38;5;241m=\u001b[39m\u001b[38;5;28mself\u001b[39m\u001b[38;5;241m.\u001b[39moptions\u001b[38;5;241m.\u001b[39mget(\u001b[38;5;124m\"\u001b[39m\u001b[38;5;124mstorage_options\u001b[39m\u001b[38;5;124m\"\u001b[39m, \u001b[38;5;28;01mNone\u001b[39;00m),\n\u001b[0;32m   1889\u001b[0m )\n\u001b[0;32m   1890\u001b[0m \u001b[38;5;28;01massert\u001b[39;00m \u001b[38;5;28mself\u001b[39m\u001b[38;5;241m.\u001b[39mhandles \u001b[38;5;129;01mis\u001b[39;00m \u001b[38;5;129;01mnot\u001b[39;00m \u001b[38;5;28;01mNone\u001b[39;00m\n",
      "File \u001b[1;32m~\\anaconda3\\Lib\\site-packages\\pandas\\io\\common.py:873\u001b[0m, in \u001b[0;36mget_handle\u001b[1;34m(path_or_buf, mode, encoding, compression, memory_map, is_text, errors, storage_options)\u001b[0m\n\u001b[0;32m    871\u001b[0m \u001b[38;5;28;01mif\u001b[39;00m ioargs\u001b[38;5;241m.\u001b[39mencoding \u001b[38;5;129;01mand\u001b[39;00m \u001b[38;5;124m\"\u001b[39m\u001b[38;5;124mb\u001b[39m\u001b[38;5;124m\"\u001b[39m \u001b[38;5;129;01mnot\u001b[39;00m \u001b[38;5;129;01min\u001b[39;00m ioargs\u001b[38;5;241m.\u001b[39mmode:\n\u001b[0;32m    872\u001b[0m     \u001b[38;5;66;03m# Encoding\u001b[39;00m\n\u001b[1;32m--> 873\u001b[0m     handle \u001b[38;5;241m=\u001b[39m \u001b[38;5;28mopen\u001b[39m(\n\u001b[0;32m    874\u001b[0m         handle,\n\u001b[0;32m    875\u001b[0m         ioargs\u001b[38;5;241m.\u001b[39mmode,\n\u001b[0;32m    876\u001b[0m         encoding\u001b[38;5;241m=\u001b[39mioargs\u001b[38;5;241m.\u001b[39mencoding,\n\u001b[0;32m    877\u001b[0m         errors\u001b[38;5;241m=\u001b[39merrors,\n\u001b[0;32m    878\u001b[0m         newline\u001b[38;5;241m=\u001b[39m\u001b[38;5;124m\"\u001b[39m\u001b[38;5;124m\"\u001b[39m,\n\u001b[0;32m    879\u001b[0m     )\n\u001b[0;32m    880\u001b[0m \u001b[38;5;28;01melse\u001b[39;00m:\n\u001b[0;32m    881\u001b[0m     \u001b[38;5;66;03m# Binary mode\u001b[39;00m\n",
      "\u001b[1;31mFileNotFoundError\u001b[0m: [Errno 2] No such file or directory: '/real_estate_data.csv'",
      "\nDuring handling of the above exception, another exception occurred:\n",
      "\u001b[1;31mFileNotFoundError\u001b[0m                         Traceback (most recent call last)",
      "Cell \u001b[1;32mIn[5], line 4\u001b[0m\n\u001b[0;32m      2\u001b[0m     data \u001b[38;5;241m=\u001b[39m pd\u001b[38;5;241m.\u001b[39mread_csv(\u001b[38;5;124m'\u001b[39m\u001b[38;5;124m/real_estate_data.csv\u001b[39m\u001b[38;5;124m'\u001b[39m, sep\u001b[38;5;241m=\u001b[39m\u001b[38;5;124m'\u001b[39m\u001b[38;5;130;01m\\t\u001b[39;00m\u001b[38;5;124m'\u001b[39m)\n\u001b[0;32m      3\u001b[0m \u001b[38;5;28;01mexcept\u001b[39;00m:\n\u001b[1;32m----> 4\u001b[0m     data \u001b[38;5;241m=\u001b[39m pd\u001b[38;5;241m.\u001b[39mread_csv(\u001b[38;5;124m'\u001b[39m\u001b[38;5;124m/Educational-projects/exploratory data analysis/real_estate_data.csv\u001b[39m\u001b[38;5;124m'\u001b[39m, sep\u001b[38;5;241m=\u001b[39m\u001b[38;5;124m'\u001b[39m\u001b[38;5;130;01m\\t\u001b[39;00m\u001b[38;5;124m'\u001b[39m)\n",
      "File \u001b[1;32m~\\anaconda3\\Lib\\site-packages\\pandas\\io\\parsers\\readers.py:1026\u001b[0m, in \u001b[0;36mread_csv\u001b[1;34m(filepath_or_buffer, sep, delimiter, header, names, index_col, usecols, dtype, engine, converters, true_values, false_values, skipinitialspace, skiprows, skipfooter, nrows, na_values, keep_default_na, na_filter, verbose, skip_blank_lines, parse_dates, infer_datetime_format, keep_date_col, date_parser, date_format, dayfirst, cache_dates, iterator, chunksize, compression, thousands, decimal, lineterminator, quotechar, quoting, doublequote, escapechar, comment, encoding, encoding_errors, dialect, on_bad_lines, delim_whitespace, low_memory, memory_map, float_precision, storage_options, dtype_backend)\u001b[0m\n\u001b[0;32m   1013\u001b[0m kwds_defaults \u001b[38;5;241m=\u001b[39m _refine_defaults_read(\n\u001b[0;32m   1014\u001b[0m     dialect,\n\u001b[0;32m   1015\u001b[0m     delimiter,\n\u001b[1;32m   (...)\u001b[0m\n\u001b[0;32m   1022\u001b[0m     dtype_backend\u001b[38;5;241m=\u001b[39mdtype_backend,\n\u001b[0;32m   1023\u001b[0m )\n\u001b[0;32m   1024\u001b[0m kwds\u001b[38;5;241m.\u001b[39mupdate(kwds_defaults)\n\u001b[1;32m-> 1026\u001b[0m \u001b[38;5;28;01mreturn\u001b[39;00m _read(filepath_or_buffer, kwds)\n",
      "File \u001b[1;32m~\\anaconda3\\Lib\\site-packages\\pandas\\io\\parsers\\readers.py:620\u001b[0m, in \u001b[0;36m_read\u001b[1;34m(filepath_or_buffer, kwds)\u001b[0m\n\u001b[0;32m    617\u001b[0m _validate_names(kwds\u001b[38;5;241m.\u001b[39mget(\u001b[38;5;124m\"\u001b[39m\u001b[38;5;124mnames\u001b[39m\u001b[38;5;124m\"\u001b[39m, \u001b[38;5;28;01mNone\u001b[39;00m))\n\u001b[0;32m    619\u001b[0m \u001b[38;5;66;03m# Create the parser.\u001b[39;00m\n\u001b[1;32m--> 620\u001b[0m parser \u001b[38;5;241m=\u001b[39m TextFileReader(filepath_or_buffer, \u001b[38;5;241m*\u001b[39m\u001b[38;5;241m*\u001b[39mkwds)\n\u001b[0;32m    622\u001b[0m \u001b[38;5;28;01mif\u001b[39;00m chunksize \u001b[38;5;129;01mor\u001b[39;00m iterator:\n\u001b[0;32m    623\u001b[0m     \u001b[38;5;28;01mreturn\u001b[39;00m parser\n",
      "File \u001b[1;32m~\\anaconda3\\Lib\\site-packages\\pandas\\io\\parsers\\readers.py:1620\u001b[0m, in \u001b[0;36mTextFileReader.__init__\u001b[1;34m(self, f, engine, **kwds)\u001b[0m\n\u001b[0;32m   1617\u001b[0m     \u001b[38;5;28mself\u001b[39m\u001b[38;5;241m.\u001b[39moptions[\u001b[38;5;124m\"\u001b[39m\u001b[38;5;124mhas_index_names\u001b[39m\u001b[38;5;124m\"\u001b[39m] \u001b[38;5;241m=\u001b[39m kwds[\u001b[38;5;124m\"\u001b[39m\u001b[38;5;124mhas_index_names\u001b[39m\u001b[38;5;124m\"\u001b[39m]\n\u001b[0;32m   1619\u001b[0m \u001b[38;5;28mself\u001b[39m\u001b[38;5;241m.\u001b[39mhandles: IOHandles \u001b[38;5;241m|\u001b[39m \u001b[38;5;28;01mNone\u001b[39;00m \u001b[38;5;241m=\u001b[39m \u001b[38;5;28;01mNone\u001b[39;00m\n\u001b[1;32m-> 1620\u001b[0m \u001b[38;5;28mself\u001b[39m\u001b[38;5;241m.\u001b[39m_engine \u001b[38;5;241m=\u001b[39m \u001b[38;5;28mself\u001b[39m\u001b[38;5;241m.\u001b[39m_make_engine(f, \u001b[38;5;28mself\u001b[39m\u001b[38;5;241m.\u001b[39mengine)\n",
      "File \u001b[1;32m~\\anaconda3\\Lib\\site-packages\\pandas\\io\\parsers\\readers.py:1880\u001b[0m, in \u001b[0;36mTextFileReader._make_engine\u001b[1;34m(self, f, engine)\u001b[0m\n\u001b[0;32m   1878\u001b[0m     \u001b[38;5;28;01mif\u001b[39;00m \u001b[38;5;124m\"\u001b[39m\u001b[38;5;124mb\u001b[39m\u001b[38;5;124m\"\u001b[39m \u001b[38;5;129;01mnot\u001b[39;00m \u001b[38;5;129;01min\u001b[39;00m mode:\n\u001b[0;32m   1879\u001b[0m         mode \u001b[38;5;241m+\u001b[39m\u001b[38;5;241m=\u001b[39m \u001b[38;5;124m\"\u001b[39m\u001b[38;5;124mb\u001b[39m\u001b[38;5;124m\"\u001b[39m\n\u001b[1;32m-> 1880\u001b[0m \u001b[38;5;28mself\u001b[39m\u001b[38;5;241m.\u001b[39mhandles \u001b[38;5;241m=\u001b[39m get_handle(\n\u001b[0;32m   1881\u001b[0m     f,\n\u001b[0;32m   1882\u001b[0m     mode,\n\u001b[0;32m   1883\u001b[0m     encoding\u001b[38;5;241m=\u001b[39m\u001b[38;5;28mself\u001b[39m\u001b[38;5;241m.\u001b[39moptions\u001b[38;5;241m.\u001b[39mget(\u001b[38;5;124m\"\u001b[39m\u001b[38;5;124mencoding\u001b[39m\u001b[38;5;124m\"\u001b[39m, \u001b[38;5;28;01mNone\u001b[39;00m),\n\u001b[0;32m   1884\u001b[0m     compression\u001b[38;5;241m=\u001b[39m\u001b[38;5;28mself\u001b[39m\u001b[38;5;241m.\u001b[39moptions\u001b[38;5;241m.\u001b[39mget(\u001b[38;5;124m\"\u001b[39m\u001b[38;5;124mcompression\u001b[39m\u001b[38;5;124m\"\u001b[39m, \u001b[38;5;28;01mNone\u001b[39;00m),\n\u001b[0;32m   1885\u001b[0m     memory_map\u001b[38;5;241m=\u001b[39m\u001b[38;5;28mself\u001b[39m\u001b[38;5;241m.\u001b[39moptions\u001b[38;5;241m.\u001b[39mget(\u001b[38;5;124m\"\u001b[39m\u001b[38;5;124mmemory_map\u001b[39m\u001b[38;5;124m\"\u001b[39m, \u001b[38;5;28;01mFalse\u001b[39;00m),\n\u001b[0;32m   1886\u001b[0m     is_text\u001b[38;5;241m=\u001b[39mis_text,\n\u001b[0;32m   1887\u001b[0m     errors\u001b[38;5;241m=\u001b[39m\u001b[38;5;28mself\u001b[39m\u001b[38;5;241m.\u001b[39moptions\u001b[38;5;241m.\u001b[39mget(\u001b[38;5;124m\"\u001b[39m\u001b[38;5;124mencoding_errors\u001b[39m\u001b[38;5;124m\"\u001b[39m, \u001b[38;5;124m\"\u001b[39m\u001b[38;5;124mstrict\u001b[39m\u001b[38;5;124m\"\u001b[39m),\n\u001b[0;32m   1888\u001b[0m     storage_options\u001b[38;5;241m=\u001b[39m\u001b[38;5;28mself\u001b[39m\u001b[38;5;241m.\u001b[39moptions\u001b[38;5;241m.\u001b[39mget(\u001b[38;5;124m\"\u001b[39m\u001b[38;5;124mstorage_options\u001b[39m\u001b[38;5;124m\"\u001b[39m, \u001b[38;5;28;01mNone\u001b[39;00m),\n\u001b[0;32m   1889\u001b[0m )\n\u001b[0;32m   1890\u001b[0m \u001b[38;5;28;01massert\u001b[39;00m \u001b[38;5;28mself\u001b[39m\u001b[38;5;241m.\u001b[39mhandles \u001b[38;5;129;01mis\u001b[39;00m \u001b[38;5;129;01mnot\u001b[39;00m \u001b[38;5;28;01mNone\u001b[39;00m\n\u001b[0;32m   1891\u001b[0m f \u001b[38;5;241m=\u001b[39m \u001b[38;5;28mself\u001b[39m\u001b[38;5;241m.\u001b[39mhandles\u001b[38;5;241m.\u001b[39mhandle\n",
      "File \u001b[1;32m~\\anaconda3\\Lib\\site-packages\\pandas\\io\\common.py:873\u001b[0m, in \u001b[0;36mget_handle\u001b[1;34m(path_or_buf, mode, encoding, compression, memory_map, is_text, errors, storage_options)\u001b[0m\n\u001b[0;32m    868\u001b[0m \u001b[38;5;28;01melif\u001b[39;00m \u001b[38;5;28misinstance\u001b[39m(handle, \u001b[38;5;28mstr\u001b[39m):\n\u001b[0;32m    869\u001b[0m     \u001b[38;5;66;03m# Check whether the filename is to be opened in binary mode.\u001b[39;00m\n\u001b[0;32m    870\u001b[0m     \u001b[38;5;66;03m# Binary mode does not support 'encoding' and 'newline'.\u001b[39;00m\n\u001b[0;32m    871\u001b[0m     \u001b[38;5;28;01mif\u001b[39;00m ioargs\u001b[38;5;241m.\u001b[39mencoding \u001b[38;5;129;01mand\u001b[39;00m \u001b[38;5;124m\"\u001b[39m\u001b[38;5;124mb\u001b[39m\u001b[38;5;124m\"\u001b[39m \u001b[38;5;129;01mnot\u001b[39;00m \u001b[38;5;129;01min\u001b[39;00m ioargs\u001b[38;5;241m.\u001b[39mmode:\n\u001b[0;32m    872\u001b[0m         \u001b[38;5;66;03m# Encoding\u001b[39;00m\n\u001b[1;32m--> 873\u001b[0m         handle \u001b[38;5;241m=\u001b[39m \u001b[38;5;28mopen\u001b[39m(\n\u001b[0;32m    874\u001b[0m             handle,\n\u001b[0;32m    875\u001b[0m             ioargs\u001b[38;5;241m.\u001b[39mmode,\n\u001b[0;32m    876\u001b[0m             encoding\u001b[38;5;241m=\u001b[39mioargs\u001b[38;5;241m.\u001b[39mencoding,\n\u001b[0;32m    877\u001b[0m             errors\u001b[38;5;241m=\u001b[39merrors,\n\u001b[0;32m    878\u001b[0m             newline\u001b[38;5;241m=\u001b[39m\u001b[38;5;124m\"\u001b[39m\u001b[38;5;124m\"\u001b[39m,\n\u001b[0;32m    879\u001b[0m         )\n\u001b[0;32m    880\u001b[0m     \u001b[38;5;28;01melse\u001b[39;00m:\n\u001b[0;32m    881\u001b[0m         \u001b[38;5;66;03m# Binary mode\u001b[39;00m\n\u001b[0;32m    882\u001b[0m         handle \u001b[38;5;241m=\u001b[39m \u001b[38;5;28mopen\u001b[39m(handle, ioargs\u001b[38;5;241m.\u001b[39mmode)\n",
      "\u001b[1;31mFileNotFoundError\u001b[0m: [Errno 2] No such file or directory: '/Educational-projects/exploratory data analysis/real_estate_data.csv'"
     ]
    }
   ],
   "source": [
    "try:\n",
    "    data = pd.read_csv('/real_estate_data.csv', sep='\\t')\n",
    "except:\n",
    "    data = pd.read_csv('/Educational-projects/exploratory data analysis/real_estate_data.csv', sep='\\t')"
   ]
  },
  {
   "cell_type": "code",
   "execution_count": null,
   "metadata": {},
   "outputs": [],
   "source": [
    "display(data.head())"
   ]
  },
  {
   "cell_type": "markdown",
   "metadata": {},
   "source": [
    "### Получение первичной информации о данных"
   ]
  },
  {
   "cell_type": "code",
   "execution_count": null,
   "metadata": {},
   "outputs": [],
   "source": [
    "data.info()"
   ]
  },
  {
   "cell_type": "markdown",
   "metadata": {},
   "source": [
    "### Построение гистограмм для визуальной оценки данных"
   ]
  },
  {
   "cell_type": "code",
   "execution_count": null,
   "metadata": {},
   "outputs": [],
   "source": [
    "display(data.hist(figsize=(15, 20), bins=50))"
   ]
  },
  {
   "cell_type": "code",
   "execution_count": null,
   "metadata": {},
   "outputs": [],
   "source": [
    "display(data['last_price'].describe())"
   ]
  },
  {
   "cell_type": "code",
   "execution_count": null,
   "metadata": {},
   "outputs": [],
   "source": [
    "display(data['ceiling_height'].describe())"
   ]
  },
  {
   "cell_type": "markdown",
   "metadata": {},
   "source": [
    "**Выводы по первичному знакомству с данными:** \n",
    "- В данных содержится **23 699 наблюдений** и **22 столбца** с информацией;\n",
    "- В данных есть пропуски (больше всего в колонке \"is_apartment\");\n",
    "- Гистограммы \"ceiling_height\" и \"last_price\" выглядят сомнительно. Скорее всего в данных есть аномальные значения (метод describe подтверждает наличие таких данных)."
   ]
  },
  {
   "cell_type": "markdown",
   "metadata": {
    "id": "-O5NtivEAwb9"
   },
   "source": [
    "## Предобработка данных"
   ]
  },
  {
   "cell_type": "markdown",
   "metadata": {},
   "source": [
    "### Обработка пропусков"
   ]
  },
  {
   "cell_type": "markdown",
   "metadata": {},
   "source": [
    "Определение в каких столбцах есть пропуски, и какие из них можно заполнить"
   ]
  },
  {
   "cell_type": "code",
   "execution_count": null,
   "metadata": {},
   "outputs": [],
   "source": [
    "data.info()"
   ]
  },
  {
   "cell_type": "markdown",
   "metadata": {},
   "source": [
    "**Всего в таблице 22 столбца**: из них **14** имеют пропуски ('ceiling_height', 'floors_total', 'living_area', 'floor', 'is_apartment', 'kitchen_area', 'balcony', 'locality_name', 'airports_nearest', 'cityCenters_nearest', 'parks_around3000', 'parks_nearest', 'ponds_around3000', 'ponds_nearest', 'days_exposition').\n",
    "\n",
    "Из них точно нельзя заполнить **12** столбцов: 'ceiling_height', 'floors_total', 'living_area', 'floor', 'kitchen_area', 'locality_name', 'airports_nearest', 'cityCenters_nearest', 'parks_around3000', 'parks_nearest', 'ponds_around3000', 'ponds_nearest', 'days_exposition'.\n",
    "\n",
    "Попробуем обработать следующие **2** столбца: 'is_apartment', 'balcony'."
   ]
  },
  {
   "cell_type": "markdown",
   "metadata": {},
   "source": [
    "**Обрабатываем пропуски в столбце 'is_apartment'**"
   ]
  },
  {
   "cell_type": "code",
   "execution_count": null,
   "metadata": {},
   "outputs": [],
   "source": [
    "display(data[data['is_apartment'].isna()].head())\n",
    "display(data['is_apartment'].isna().sum())"
   ]
  },
  {
   "cell_type": "code",
   "execution_count": null,
   "metadata": {},
   "outputs": [],
   "source": [
    "display(data['is_apartment'].value_counts())"
   ]
  },
  {
   "cell_type": "markdown",
   "metadata": {},
   "source": [
    "Считаем, что, если продавец не указал значение в столбце 'is_apartment', значит тип жилья - квартира (False)"
   ]
  },
  {
   "cell_type": "code",
   "execution_count": null,
   "metadata": {},
   "outputs": [],
   "source": [
    "data['is_apartment'] = data['is_apartment'].fillna(False)\n",
    "display(data['is_apartment'].isna().sum())"
   ]
  },
  {
   "cell_type": "markdown",
   "metadata": {},
   "source": [
    "**Обрабатываем пропуски в столбце 'balcony'**"
   ]
  },
  {
   "cell_type": "code",
   "execution_count": null,
   "metadata": {},
   "outputs": [],
   "source": [
    "display(data[data['balcony'].isna()].head())\n",
    "display(data['balcony'].isna().sum())"
   ]
  },
  {
   "cell_type": "code",
   "execution_count": null,
   "metadata": {},
   "outputs": [],
   "source": [
    "display(data['balcony'].value_counts())"
   ]
  },
  {
   "cell_type": "markdown",
   "metadata": {},
   "source": [
    "Считаем, что, если продавец не указал значение в столбце 'balcony', значит количество балконов равно нулю"
   ]
  },
  {
   "cell_type": "code",
   "execution_count": null,
   "metadata": {},
   "outputs": [],
   "source": [
    "data['balcony'] = data['balcony'].fillna(0)\n",
    "display(data['balcony'].isna().sum())\n",
    "data['balcony'] = data['balcony'].astype('int', errors='ignore')"
   ]
  },
  {
   "cell_type": "markdown",
   "metadata": {},
   "source": [
    "**Возможные причины появления пропусков:**\n",
    "- Человеческий фактор (незаполнение некоторых полей);\n",
    "- Отсутствие информации по причине пропусков в смежных столбцах (связанных);\n",
    "- Ошибки при работе с данными."
   ]
  },
  {
   "cell_type": "markdown",
   "metadata": {},
   "source": [
    "### Рассмотрение типов данных столбцов"
   ]
  },
  {
   "cell_type": "markdown",
   "metadata": {
    "id": "7v3vAeTuAwb-"
   },
   "source": [
    "**Определение столбцов, в которых необходимо изменить тип данных**"
   ]
  },
  {
   "cell_type": "code",
   "execution_count": null,
   "metadata": {},
   "outputs": [],
   "source": [
    "data.info()"
   ]
  },
  {
   "cell_type": "markdown",
   "metadata": {},
   "source": [
    "Исходя из полученной информации, необходимо изменить только тип данных в столбце 'first_day_exposition'. Стоить провести замену с типа 'object' в тип 'datetime'."
   ]
  },
  {
   "cell_type": "markdown",
   "metadata": {},
   "source": [
    "**Преобрзование типа данных в выбранном столбце**"
   ]
  },
  {
   "cell_type": "code",
   "execution_count": null,
   "metadata": {},
   "outputs": [],
   "source": [
    "display(data['first_day_exposition'].head())"
   ]
  },
  {
   "cell_type": "code",
   "execution_count": null,
   "metadata": {},
   "outputs": [],
   "source": [
    "data['first_day_exposition'] = pd.to_datetime(data['first_day_exposition'], format='%Y-%m-%d') "
   ]
  },
  {
   "cell_type": "code",
   "execution_count": null,
   "metadata": {},
   "outputs": [],
   "source": [
    "display(data.head())"
   ]
  },
  {
   "cell_type": "markdown",
   "metadata": {},
   "source": [
    "**Причины изменения типов данных:**\n",
    "- Для быстрой и корректной работы тип 'object' был изменен на 'datetime'."
   ]
  },
  {
   "cell_type": "markdown",
   "metadata": {},
   "source": [
    "### Обработка дубликатов"
   ]
  },
  {
   "cell_type": "markdown",
   "metadata": {},
   "source": [
    "**Определение наличия явных дубликатов**"
   ]
  },
  {
   "cell_type": "code",
   "execution_count": null,
   "metadata": {},
   "outputs": [],
   "source": [
    "display(data.duplicated().sum())"
   ]
  },
  {
   "cell_type": "markdown",
   "metadata": {},
   "source": [
    "**Определение наличия неявных дубликатов и их обработка**"
   ]
  },
  {
   "cell_type": "code",
   "execution_count": null,
   "metadata": {
    "scrolled": true
   },
   "outputs": [],
   "source": [
    "display(data['locality_name'].unique())\n",
    "display(data['locality_name'].nunique())"
   ]
  },
  {
   "cell_type": "code",
   "execution_count": null,
   "metadata": {},
   "outputs": [],
   "source": [
    "def rename_pos(loc_name):\n",
    "    for symbol in loc_name:\n",
    "        if symbol < 'а' and symbol != ' ':\n",
    "            return loc_name[loc_name.index(symbol):]\n",
    "\n",
    "data['cor_locality_name'] = data[data['locality_name'].notna()]['locality_name'].apply(rename_pos)"
   ]
  },
  {
   "cell_type": "code",
   "execution_count": null,
   "metadata": {
    "scrolled": true
   },
   "outputs": [],
   "source": [
    "display(sorted(data[data['cor_locality_name'].notna()]['cor_locality_name'].unique()))\n",
    "display(data['cor_locality_name'].nunique())"
   ]
  },
  {
   "cell_type": "markdown",
   "metadata": {},
   "source": [
    "**Выводы по обработке дубликатов:** \n",
    "- В датасете отсутствовали явные дубликаты;\n",
    "- В датасете были обнаружены и откорректированы **59** (364 - 305) неявных дубликатов в столбце 'locality_name'."
   ]
  },
  {
   "cell_type": "markdown",
   "metadata": {
    "id": "QCcvyY6YAwb-"
   },
   "source": [
    "## Добавление в датафрейм новой информации"
   ]
  },
  {
   "cell_type": "markdown",
   "metadata": {
    "id": "Z8eJek3IAwb-"
   },
   "source": [
    "Добавление столбца \"Цена одного квадратного метра\""
   ]
  },
  {
   "cell_type": "code",
   "execution_count": null,
   "metadata": {},
   "outputs": [],
   "source": [
    "data['price_per_m2'] = round(data['last_price'] / data['total_area'], 2)\n",
    "display(data.head())"
   ]
  },
  {
   "cell_type": "markdown",
   "metadata": {},
   "source": [
    "Добавление столбца \"День недели публикации объявления\""
   ]
  },
  {
   "cell_type": "code",
   "execution_count": null,
   "metadata": {},
   "outputs": [],
   "source": [
    "data['day_of_week'] = data['first_day_exposition'].dt.dayofweek\n",
    "display(data.head())"
   ]
  },
  {
   "cell_type": "markdown",
   "metadata": {},
   "source": [
    "Добавление столбца \"Месяц публикации объявления\""
   ]
  },
  {
   "cell_type": "code",
   "execution_count": null,
   "metadata": {},
   "outputs": [],
   "source": [
    "data['month'] = data['first_day_exposition'].dt.month\n",
    "display(data.head())"
   ]
  },
  {
   "cell_type": "markdown",
   "metadata": {},
   "source": [
    "Добавление столбца \"Год публикации объявления\""
   ]
  },
  {
   "cell_type": "code",
   "execution_count": null,
   "metadata": {},
   "outputs": [],
   "source": [
    "data['year'] = data['first_day_exposition'].dt.year\n",
    "display(data.head())"
   ]
  },
  {
   "cell_type": "markdown",
   "metadata": {},
   "source": [
    "Добавление столбца \"Тип этажа квартиры\""
   ]
  },
  {
   "cell_type": "code",
   "execution_count": null,
   "metadata": {},
   "outputs": [],
   "source": [
    "# Данная категоризация сделана для простоты работы с данными при их анализе\n",
    "def type_of_floor(row):\n",
    "    if row['floor'] == 1:\n",
    "        return 0 # Первый этап\n",
    "    elif row['floor'] == row['floors_total']:\n",
    "        return 2 # Последний этап\n",
    "    else:\n",
    "        return 1 # Другой\n",
    "    \n",
    "data['type_of_floor'] = data.apply(type_of_floor, axis=1)\n",
    "display(data.head())"
   ]
  },
  {
   "cell_type": "markdown",
   "metadata": {},
   "source": [
    "Добавление столбца \"Расстояние до центра города в километрах\""
   ]
  },
  {
   "cell_type": "code",
   "execution_count": null,
   "metadata": {},
   "outputs": [],
   "source": [
    "data['centre_nearest'] = round(data['cityCenters_nearest'] / 1000)\n",
    "display(data.head())"
   ]
  },
  {
   "cell_type": "markdown",
   "metadata": {},
   "source": [
    "**Вывод по разделу:**\n",
    "- В таблицу были добавлены новые столбцы: 'centre_nearest' (расстояние от центра в км), 'type_of_floor' (0-'первый этаж', 1-'другой', 2-'последний'), 'year', 'month', 'day_of_week', 'price_per_m2'."
   ]
  },
  {
   "cell_type": "markdown",
   "metadata": {
    "id": "pPyxrKWTAwb-"
   },
   "source": [
    "## Исследовательский анализ данных "
   ]
  },
  {
   "cell_type": "markdown",
   "metadata": {
    "id": "V2f0D3kLAwb-"
   },
   "source": [
    "### Изучение параметров и обработка аномалий"
   ]
  },
  {
   "cell_type": "code",
   "execution_count": null,
   "metadata": {
    "scrolled": true
   },
   "outputs": [],
   "source": [
    "parametrs = ['total_area', 'living_area', 'kitchen_area', 'last_price', 'rooms', 'ceiling_height',\n",
    "             'floors_total', 'cityCenters_nearest', 'parks_nearest']\n",
    "\n",
    "for parametr in parametrs:\n",
    "    display(data[parametr].describe())\n",
    "    data[parametr].hist(bins = 300, figsize = (12, 4), color='#78d975')\n",
    "    sigma_p = round(data[parametr].median() + 2 * data[parametr].std(), 0)\n",
    "    display(f'Правая граница графика распределения: {sigma_p}')\n",
    "    plt.xlim(0, sigma_p)\n",
    "    plt.title(f'Распределение значений {parametr}')\n",
    "    plt.xlabel(f'{parametr}') \n",
    "    plt.ylabel('Количество объявлений')\n",
    "    plt.show()"
   ]
  },
  {
   "cell_type": "code",
   "execution_count": null,
   "metadata": {},
   "outputs": [],
   "source": [
    "display(data['type_of_floor'].describe())\n",
    "display(data['type_of_floor'].hist(grid=True, bins=3))"
   ]
  },
  {
   "cell_type": "markdown",
   "metadata": {},
   "source": [
    "**Обнаруженные аномалии по указанным параметрам:**\n",
    "1. Столбец 'total_area'. Основная масса квартир имеет площадь до 150 м2. Для дальнейшего анализа предлагается исключить из выборки квартиры с площадью больше 150 м2.\n",
    "2. Столбец 'living_area'. Основная масса квартир имеет жилую площадь до 80 м2. В связи с мультиколлинеарностью фактора со значениями столбца 'total_area' данный столбец можно не фильтровать.\n",
    "3. Столбец 'kitchen_area'. Основная масса квартир имеет площадь кухни до 30 м2. В связи с мультиколлинеарностью фактора со значениями столбца 'total_area' данный столбец можно не фильтровать.\n",
    "4. Столбец 'last_price'. Основная масса квартир имеет стоимость до 27 000 000. Для дальнейшего анализа предлагается исключить из выборки квартиры со стоимостью больше 27 000 000.\n",
    "5. Столбец 'rooms'. Основная масса квартир имеет до 5 комнат. В связи с мультиколлинеарностью фактора со значениями столбца 'total_area' данный столбец можно не фильтровать.\n",
    "6. Столбец 'ceiling_height'. Основная масса квартир имеет высоту потолков до 4 метров. Стоит провести анализ квартир, у которых высота потолка выше 4 метров, так как, скорее, всего была допущена ошибка при внесении значений в данный столбец.\n",
    "7. Столбец 'floors_total'. Основная масса квартир располагаются в зданиях с этажностью до 35. Однако в столбце есть значения от 35 до 60 этажей. Данные значения стоит оставить без изменений в связи с возможностью их существования.\n",
    "8. Столбец 'cityCenters_nearest'. Основная масса квартир располагаются на расстоянии до 35 км от центра. Однако в столбце есть значения до 66 км. Данные значения стоит оставить без изменений в связи с возможностью их существования.\n",
    "9. Столбец 'parks_nearest'. Основная масса квартир располагаются на расстоянии до 1 км до ближайшего парка. Однако в столбце есть значения до 3,3 км. Данные значения стоит оставить без изменений в связи с возможностью их существования.\n",
    "10. Столбец 'parks_nearest'. Основная масса квартир располагаются на расстоянии до 1 км до ближайшего парка. Однако в столбце есть значения до 3,3 км. Данные значения стоит оставить без изменений в связи с возможностью их существования.\n",
    "11. Столбец 'type_of_floor'. Данные столбец не подлежит корректировке в связи с категориальным характером его значений."
   ]
  },
  {
   "cell_type": "code",
   "execution_count": null,
   "metadata": {},
   "outputs": [],
   "source": [
    "new_data = data.query('(total_area < 150) and (last_price < 27_000_000)')\n",
    "new_data.reset_index(drop=True, inplace=True)"
   ]
  },
  {
   "cell_type": "code",
   "execution_count": null,
   "metadata": {},
   "outputs": [],
   "source": [
    "new_data.shape[0] / 23699"
   ]
  },
  {
   "cell_type": "code",
   "execution_count": null,
   "metadata": {},
   "outputs": [],
   "source": [
    "display(new_data.head())"
   ]
  },
  {
   "cell_type": "code",
   "execution_count": null,
   "metadata": {
    "scrolled": true
   },
   "outputs": [],
   "source": [
    "def cor_height(ceiling_height):\n",
    "    if ceiling_height > 50:\n",
    "        return None\n",
    "    elif ceiling_height > 24:\n",
    "        return (ceiling_height / 10)\n",
    "    elif ceiling_height > 5:\n",
    "        return None\n",
    "    elif ceiling_height > 2.49:\n",
    "        return ceiling_height\n",
    "    return None\n",
    "        \n",
    "    \n",
    "new_data['correct_height'] = new_data['ceiling_height'].apply(cor_height)"
   ]
  },
  {
   "cell_type": "code",
   "execution_count": null,
   "metadata": {},
   "outputs": [],
   "source": [
    "display(new_data['correct_height'].describe())"
   ]
  },
  {
   "cell_type": "markdown",
   "metadata": {},
   "source": [
    "**Выводы по изучению параметров и обработке аномалий:**\n",
    "- Изучение параметров проводилось с помощью анализа описательной части значений, а тажке графика (гистограммы) распределения значений. В ходе изучение были обнаружены ряд аномалий.\n",
    "- Один тип аномалий был связан с невозможностью существования данных значений (высота потолков - до 27 м). Анамолия была обработана с помощью логических преобразований.\n",
    "- Другой тип аномалий был связан с ограниченностью (непопулярностью) данных объявлений (площадь жилья - 900 м2). Анамолия была обработана с помощью фильтрации данных. "
   ]
  },
  {
   "cell_type": "markdown",
   "metadata": {},
   "source": [
    "### Определение скорости продажи квартир"
   ]
  },
  {
   "cell_type": "code",
   "execution_count": null,
   "metadata": {},
   "outputs": [],
   "source": [
    "display(new_data['days_exposition'].describe())\n",
    "\n",
    "new_data['days_exposition'].plot(kind='hist', grid=1, bins=50)\n",
    "plt.xlabel('Количество дней до покупки', size=11)\n",
    "plt.ylabel('Количество объявлений', size=11)\n",
    "plt.title('Гистограмма распределения значений количества дней до покупки', size=13)\n",
    "\n",
    "plt.show()"
   ]
  },
  {
   "cell_type": "markdown",
   "metadata": {},
   "source": [
    "**Выводы по разделу:**\n",
    "Среднее значение количества дней, за которые продается квартира, - 178; медиана равна 94 дням. Будем считать, что срок продажи квартиры больше 226 дней будет необычайно долгим (около 25% наблюдений), а срок меньше 44 дней - необычайно коротким (около 25% наблюдений)."
   ]
  },
  {
   "cell_type": "markdown",
   "metadata": {},
   "source": [
    "### Определение факторов, которые больше всего влияют на общую стоимость объекта"
   ]
  },
  {
   "cell_type": "markdown",
   "metadata": {},
   "source": [
    "Проведем комплексный анализ влияния указанных параметров (факторов) на общую стоимость без учета влияния города."
   ]
  },
  {
   "cell_type": "code",
   "execution_count": null,
   "metadata": {
    "scrolled": true
   },
   "outputs": [],
   "source": [
    "parametrs_11 = ['total_area', 'living_area', 'kitchen_area']\n",
    "\n",
    "for parametr in parametrs_11:\n",
    "    correlation = round(new_data['last_price'].corr(new_data[parametr]), 2)\n",
    "    display(f'Коэффициент корреляции Пирсона цены и {parametr}: {correlation}')\n",
    "    new_data.plot(x='last_price', y=parametr, kind='scatter', grid=True, alpha=0.3, figsize=(7, 5), color='#78d975')\n",
    "    plt.title(f'Средняя цена квартиры в зависимости от {parametr}', size=13)\n",
    "    plt.xlabel(f'{parametr}', size=11)\n",
    "    plt.ylabel('Средняя цена квартиры', size=11)\n",
    "    \n",
    "    plt.show()\n",
    "\n",
    "parametrs_12 = ['type_of_floor', 'rooms', 'year', 'month', 'day_of_week']\n",
    "\n",
    "for parametr in parametrs_12:\n",
    "    correlation = round(new_data['last_price'].corr(new_data[parametr]), 2)\n",
    "    display(f'Коэффициент корреляции Пирсона цены и {parametr}: {correlation}')\n",
    "    new_data.groupby(parametr)['last_price'].mean().plot(kind='bar', figsize=(5, 5), color='#78d975')\n",
    "    plt.xticks(rotation=0)\n",
    "    plt.title(f'Средняя цена квартиры в зависимости от {parametr}', size=13)\n",
    "    plt.xlabel(f'{parametr}', size=12)\n",
    "    plt.ylabel('Средняя цена квартиры', size=11)\n",
    "    \n",
    "    plt.show()"
   ]
  },
  {
   "cell_type": "markdown",
   "metadata": {},
   "source": [
    "Опеределим значения корреляции Пирсона в зависимости от населенных пунктов. Для анализа примем 5 самых \"популярных\" населенных пунктов."
   ]
  },
  {
   "cell_type": "code",
   "execution_count": null,
   "metadata": {
    "scrolled": true
   },
   "outputs": [],
   "source": [
    "top_city = new_data['cor_locality_name'].value_counts()[:5]\n",
    "for city in top_city.index:\n",
    "    parametrs_2 = new_data[new_data['cor_locality_name'] == city]\n",
    "    param_table = parametrs_2.pivot_table(index='first_day_exposition', values=['total_area', 'type_of_floor', 'last_price',\n",
    "                                                                                'rooms', 'year', 'month', 'day_of_week', \n",
    "                                                                                'living_area', 'kitchen_area'], aggfunc='median')\n",
    "    display(param_table.corr())"
   ]
  },
  {
   "cell_type": "markdown",
   "metadata": {},
   "source": [
    "**Выводы по разделу:**\n",
    "- Из указанных параметров больше всего влияние на стоимость объекта имеет его общая площадь. Стоимость объекта имеет положительную корреляцию с площадью объектов со среднем значением 0.76. В засимости от города данное значение изменяется и может достигать 0.84.\n",
    "- Стоит отметить, что средняя положительная корреляция также наблюдается со следующими факторами: площадь кухни, жилая площадь, количество комнат. Данное явление обусловлено мультиколлиеарностью факторов с общей площадью объекта."
   ]
  },
  {
   "cell_type": "markdown",
   "metadata": {},
   "source": [
    "### Определение стоимости квадртаного метра в различных населенных пунктах"
   ]
  },
  {
   "cell_type": "code",
   "execution_count": null,
   "metadata": {},
   "outputs": [],
   "source": [
    "top_cities = new_data['cor_locality_name'].value_counts()[:10]\n",
    "table = new_data.query('cor_locality_name in @top_cities.index').pivot_table(index='cor_locality_name',\n",
    "                                                                                   values=['last_price', 'total_area'])\n",
    "table['price_per_m2'] = round(table['last_price'] / table['total_area'], 2)\n",
    "table['count'] = top_cities\n",
    "table.columns = ['price_mean', 'total_area_mean', 'price_per_m2', 'number of ads']\n",
    "display(table.sort_values(by='price_per_m2', ascending=0))"
   ]
  },
  {
   "cell_type": "markdown",
   "metadata": {},
   "source": [
    "**Выводы по разделу:**\n",
    "- Самая высокая средняя стоимость 1 м2 квартиры из 10 самых \"популярных\" городов - в Санкт-Петербурге (111 232,32). \n",
    "- Самая низкая средняя стоимость 1 м2 квартиры из 10 самых \"популярных\" городов - в Выборге (57 665,248)."
   ]
  },
  {
   "cell_type": "markdown",
   "metadata": {},
   "source": [
    "### Определение влияние параметра \"расстояние до центра города\" на стоимость квартиры"
   ]
  },
  {
   "cell_type": "code",
   "execution_count": null,
   "metadata": {},
   "outputs": [],
   "source": [
    "saint_p = new_data[new_data['cor_locality_name'] == 'Санкт-Петербург'].pivot_table(index='centre_nearest', \n",
    "                                                                                   values=['last_price', 'total_area'])\n",
    "saint_p['centre_nearest'] = saint_p.index\n",
    "saint_p['price_per_m2'] = round(saint_p['last_price'] / saint_p['total_area'], 2)\n",
    "display(saint_p.head())"
   ]
  },
  {
   "cell_type": "code",
   "execution_count": null,
   "metadata": {},
   "outputs": [],
   "source": [
    "display(round(saint_p['last_price'].corr(saint_p['centre_nearest']), 2))\n",
    "saint_p.plot(y='last_price', grid=1, kind='line', title='Средняя стоимость квартиры в зависимости от удаленности от центра', style='o-')\n",
    "plt.show()\n",
    "display(round(saint_p['price_per_m2'].corr(saint_p['centre_nearest']), 2))\n",
    "saint_p.plot(y='price_per_m2', grid=1, kind='line', title='Средняя стоимость 1 м2 в зависимости от удаленности от центра', style='o-')\n",
    "plt.show()"
   ]
  },
  {
   "cell_type": "code",
   "execution_count": null,
   "metadata": {},
   "outputs": [],
   "source": [
    "display(new_data[(new_data['cor_locality_name'] == 'Санкт-Петербург') & (new_data['centre_nearest'] == 27)])"
   ]
  },
  {
   "cell_type": "markdown",
   "metadata": {},
   "source": [
    "**Выводы по разделу:** \n",
    "- По результатам проведенного анализа была обнаружена высокая отрицательная корреляция (-0.77) стоимости квартиры и удаленности от центра города.\n",
    "- На расстоянии 27 км от центра была обнаружена аномалия (выброс). Скорее всего данный выброс образовался в связи с ограниченностью количеством объявлений с такой удаленностью (2 шт.)"
   ]
  },
  {
   "cell_type": "markdown",
   "metadata": {
    "id": "h7VpzkIDAwb-"
   },
   "source": [
    "## Общий вывод"
   ]
  },
  {
   "cell_type": "markdown",
   "metadata": {
    "id": "3H4lnp_KAwb-"
   },
   "source": [
    "**Общие выводы по работе:**\n",
    "1. В рамках получения и первичного анализа данных были получены 23 699 наблюдений с 22 колонками показателей;\n",
    "\n",
    "2. После первичного анализа данных были выполнены следующие операции:\n",
    "- Заполнены пропуски по столбцам 'is_apartment' и 'balcony', а также указаны возможные причины появления всех пропусков в таблице;\n",
    "- Изменен тип данных столбца 'first_day_exposition' с 'object' на 'datetime';\n",
    "\n",
    "3. В процессе анализа данных в части значений показателей были обнаружены и исключены аномалии в следующих столбцах: 'total_area', 'living_area', 'kitchen_area', 'last_price', 'rooms', 'ceiling_height\n",
    "\n",
    "4. По результатам исследовательского анализа были сделаны следующие выводы:\n",
    "- Среднее значение количества дней, за которые продается квартира, - 179; медиана равна 98 дням. Будем считать, что срок продажи квартиры больше 450 дней будет необычайно долгим (около 10% наблюдений), а срок меньше 18 дней - необычайно коротким (около 10% наблюдений).\n",
    "- Больше всего влияние на стоимость объекта имеет его общая площадь. Стоимость объекта имеет положительную корреляцию с площадью объектов со среднем значением 0.73. В засимости от города данное значение изменяется и может достигать 0.86.\n",
    "- Стоит отметить, что средняя положительная корреляция также наблюдается со следующими факторами: площадь кухни, жилая площадь, количество комнат. Данное явление обусловлено мультиколлиеарностью факторов с общей площадью объекта.\n",
    "- Самая высокая средняя стоимость 1 м2 квартиры из 10 самых \"популярных\" городов - в Санкт-Петербурге (106 251,27). \n",
    "- Самая низкая средняя стоимость 1 м2 квартиры из 10 самых \"популярных\" городов - во Всеволожске (66 752,62).\n",
    "- В Санкт-Петербурге на стоимость квартиры также влияет показатель удаленности от центра города. Была обнаружена высокая отрицательная корреляция (-0.77) стоимости квартиры и удаленности от центра города."
   ]
  }
 ],
 "metadata": {
  "ExecuteTimeLog": [
   {
    "duration": 565,
    "start_time": "2025-01-16T12:40:06.704Z"
   },
   {
    "duration": 14,
    "start_time": "2025-01-16T12:40:56.274Z"
   },
   {
    "duration": 104,
    "start_time": "2025-01-16T12:41:22.921Z"
   },
   {
    "duration": 27,
    "start_time": "2025-01-16T12:41:23.984Z"
   },
   {
    "duration": 4,
    "start_time": "2025-01-16T12:42:22.633Z"
   },
   {
    "duration": 3,
    "start_time": "2025-01-16T12:44:27.306Z"
   },
   {
    "duration": 2267,
    "start_time": "2025-01-16T12:44:58.346Z"
   },
   {
    "duration": 435,
    "start_time": "2025-01-16T12:55:10.366Z"
   },
   {
    "duration": 7273,
    "start_time": "2025-01-16T12:55:37.728Z"
   },
   {
    "duration": 86,
    "start_time": "2025-01-16T12:56:57.871Z"
   },
   {
    "duration": 9144,
    "start_time": "2025-01-16T12:57:36.179Z"
   },
   {
    "duration": 1681,
    "start_time": "2025-01-16T13:01:29.233Z"
   },
   {
    "duration": 2741,
    "start_time": "2025-01-16T13:08:34.508Z"
   },
   {
    "duration": 94,
    "start_time": "2025-01-16T13:09:42.564Z"
   },
   {
    "duration": 2903,
    "start_time": "2025-01-16T13:15:07.054Z"
   },
   {
    "duration": 14,
    "start_time": "2025-01-16T13:15:50.662Z"
   },
   {
    "duration": 3069,
    "start_time": "2025-01-16T13:17:47.575Z"
   },
   {
    "duration": 3,
    "start_time": "2025-01-16T13:19:31.847Z"
   },
   {
    "duration": 8,
    "start_time": "2025-01-16T13:20:12.543Z"
   },
   {
    "duration": 10,
    "start_time": "2025-01-16T13:20:43.439Z"
   },
   {
    "duration": 3,
    "start_time": "2025-01-16T13:49:33.122Z"
   },
   {
    "duration": 102,
    "start_time": "2025-01-16T13:58:03.599Z"
   },
   {
    "duration": 92,
    "start_time": "2025-01-16T13:58:14.933Z"
   },
   {
    "duration": 1377,
    "start_time": "2025-01-16T13:58:18.373Z"
   },
   {
    "duration": 1439,
    "start_time": "2025-01-16T13:59:00.415Z"
   },
   {
    "duration": 1384,
    "start_time": "2025-01-16T14:00:13.832Z"
   },
   {
    "duration": 10,
    "start_time": "2025-01-16T14:02:13.784Z"
   },
   {
    "duration": 8,
    "start_time": "2025-01-16T14:02:24.392Z"
   },
   {
    "duration": 7,
    "start_time": "2025-01-16T14:02:54.992Z"
   },
   {
    "duration": 6,
    "start_time": "2025-01-16T14:03:47.128Z"
   },
   {
    "duration": 3688,
    "start_time": "2025-01-16T14:05:02.256Z"
   },
   {
    "duration": 2674,
    "start_time": "2025-01-16T14:05:25.193Z"
   },
   {
    "duration": 297,
    "start_time": "2025-01-16T14:06:38.882Z"
   },
   {
    "duration": 1785,
    "start_time": "2025-01-16T14:08:04.298Z"
   },
   {
    "duration": 194,
    "start_time": "2025-01-16T14:08:17.706Z"
   },
   {
    "duration": 201,
    "start_time": "2025-01-16T14:09:10.370Z"
   },
   {
    "duration": 10,
    "start_time": "2025-01-16T14:10:00.930Z"
   },
   {
    "duration": 228,
    "start_time": "2025-01-16T14:13:38.252Z"
   },
   {
    "duration": 92,
    "start_time": "2025-01-16T14:16:37.038Z"
   },
   {
    "duration": 157,
    "start_time": "2025-01-16T14:16:41.700Z"
   },
   {
    "duration": 8,
    "start_time": "2025-01-16T14:17:35.957Z"
   },
   {
    "duration": 83,
    "start_time": "2025-01-16T14:17:45.966Z"
   },
   {
    "duration": 8,
    "start_time": "2025-01-16T14:17:48.637Z"
   },
   {
    "duration": 7,
    "start_time": "2025-01-16T14:17:54.686Z"
   },
   {
    "duration": 9,
    "start_time": "2025-01-16T14:18:21.830Z"
   },
   {
    "duration": 8,
    "start_time": "2025-01-16T14:19:28.190Z"
   },
   {
    "duration": 14,
    "start_time": "2025-01-16T15:12:37.539Z"
   },
   {
    "duration": 34,
    "start_time": "2025-01-16T15:28:36.442Z"
   },
   {
    "duration": 39,
    "start_time": "2025-01-16T15:29:20.475Z"
   },
   {
    "duration": 46,
    "start_time": "2025-01-17T08:46:12.918Z"
   },
   {
    "duration": 957,
    "start_time": "2025-01-17T08:46:17.734Z"
   },
   {
    "duration": 28,
    "start_time": "2025-01-17T08:46:18.693Z"
   },
   {
    "duration": 20,
    "start_time": "2025-01-17T08:46:18.723Z"
   },
   {
    "duration": 2605,
    "start_time": "2025-01-17T08:46:18.745Z"
   },
   {
    "duration": 9,
    "start_time": "2025-01-17T08:46:21.352Z"
   },
   {
    "duration": 10,
    "start_time": "2025-01-17T08:46:21.362Z"
   },
   {
    "duration": 12,
    "start_time": "2025-01-17T08:46:21.373Z"
   },
   {
    "duration": 33,
    "start_time": "2025-01-17T08:46:21.386Z"
   },
   {
    "duration": 41,
    "start_time": "2025-01-17T08:50:40.130Z"
   },
   {
    "duration": 27,
    "start_time": "2025-01-17T08:50:51.792Z"
   },
   {
    "duration": 38,
    "start_time": "2025-01-17T08:59:06.877Z"
   },
   {
    "duration": 6,
    "start_time": "2025-01-17T08:59:39.443Z"
   },
   {
    "duration": 27,
    "start_time": "2025-01-17T09:02:43.267Z"
   },
   {
    "duration": 6,
    "start_time": "2025-01-17T09:02:58.828Z"
   },
   {
    "duration": 31,
    "start_time": "2025-01-17T09:05:34.149Z"
   },
   {
    "duration": 7,
    "start_time": "2025-01-17T09:05:42.667Z"
   },
   {
    "duration": 5,
    "start_time": "2025-01-17T09:09:16.406Z"
   },
   {
    "duration": 3,
    "start_time": "2025-01-17T09:09:24.493Z"
   },
   {
    "duration": 5,
    "start_time": "2025-01-17T09:09:57.382Z"
   },
   {
    "duration": 13,
    "start_time": "2025-01-17T09:11:49.455Z"
   },
   {
    "duration": 23,
    "start_time": "2025-01-17T09:12:04.071Z"
   },
   {
    "duration": 5,
    "start_time": "2025-01-17T09:12:28.695Z"
   },
   {
    "duration": 5,
    "start_time": "2025-01-17T09:13:49.279Z"
   },
   {
    "duration": 5,
    "start_time": "2025-01-17T09:14:10.391Z"
   },
   {
    "duration": 31,
    "start_time": "2025-01-17T09:14:57.640Z"
   },
   {
    "duration": 14,
    "start_time": "2025-01-17T09:17:34.642Z"
   },
   {
    "duration": 25,
    "start_time": "2025-01-17T09:17:48.681Z"
   },
   {
    "duration": 36,
    "start_time": "2025-01-17T09:20:26.459Z"
   },
   {
    "duration": 12,
    "start_time": "2025-01-17T09:20:38.835Z"
   },
   {
    "duration": 13,
    "start_time": "2025-01-17T09:23:55.844Z"
   },
   {
    "duration": 23,
    "start_time": "2025-01-17T09:24:07.531Z"
   },
   {
    "duration": 23,
    "start_time": "2025-01-17T09:24:15.284Z"
   },
   {
    "duration": 97,
    "start_time": "2025-01-17T09:24:36.767Z"
   },
   {
    "duration": 30,
    "start_time": "2025-01-17T09:24:41.363Z"
   },
   {
    "duration": 27,
    "start_time": "2025-01-17T09:25:20.460Z"
   },
   {
    "duration": 27,
    "start_time": "2025-01-17T09:27:25.060Z"
   },
   {
    "duration": 28,
    "start_time": "2025-01-17T09:27:43.436Z"
   },
   {
    "duration": 64,
    "start_time": "2025-01-17T09:27:53.892Z"
   },
   {
    "duration": 31,
    "start_time": "2025-01-17T09:28:06.492Z"
   },
   {
    "duration": 26,
    "start_time": "2025-01-17T09:28:43.380Z"
   },
   {
    "duration": 27,
    "start_time": "2025-01-17T09:29:09.798Z"
   },
   {
    "duration": 5,
    "start_time": "2025-01-17T09:30:02.094Z"
   },
   {
    "duration": 5,
    "start_time": "2025-01-17T09:30:30.565Z"
   },
   {
    "duration": 14,
    "start_time": "2025-01-17T09:30:56.798Z"
   },
   {
    "duration": 15,
    "start_time": "2025-01-17T09:31:05.532Z"
   },
   {
    "duration": 15,
    "start_time": "2025-01-17T09:31:19.196Z"
   },
   {
    "duration": 25,
    "start_time": "2025-01-17T09:31:56.574Z"
   },
   {
    "duration": 9,
    "start_time": "2025-01-17T09:39:08.215Z"
   },
   {
    "duration": 26,
    "start_time": "2025-01-17T09:40:45.537Z"
   },
   {
    "duration": 25,
    "start_time": "2025-01-17T12:06:32.687Z"
   },
   {
    "duration": 30,
    "start_time": "2025-01-17T12:07:32.290Z"
   },
   {
    "duration": 657,
    "start_time": "2025-01-17T12:07:46.103Z"
   },
   {
    "duration": 27,
    "start_time": "2025-01-17T12:07:47.311Z"
   },
   {
    "duration": 14,
    "start_time": "2025-01-17T12:07:48.367Z"
   },
   {
    "duration": 2612,
    "start_time": "2025-01-17T12:07:49.134Z"
   },
   {
    "duration": 9,
    "start_time": "2025-01-17T12:07:51.748Z"
   },
   {
    "duration": 8,
    "start_time": "2025-01-17T12:07:51.759Z"
   },
   {
    "duration": 14,
    "start_time": "2025-01-17T12:07:52.999Z"
   },
   {
    "duration": 32,
    "start_time": "2025-01-17T12:07:54.135Z"
   },
   {
    "duration": 7,
    "start_time": "2025-01-17T12:07:54.639Z"
   },
   {
    "duration": 8,
    "start_time": "2025-01-17T12:07:56.615Z"
   },
   {
    "duration": 28,
    "start_time": "2025-01-17T12:07:57.615Z"
   },
   {
    "duration": 6,
    "start_time": "2025-01-17T12:07:59.279Z"
   },
   {
    "duration": 6,
    "start_time": "2025-01-17T12:08:00.311Z"
   },
   {
    "duration": 31,
    "start_time": "2025-01-17T12:08:03.088Z"
   },
   {
    "duration": 33,
    "start_time": "2025-01-17T12:09:00.760Z"
   },
   {
    "duration": 32,
    "start_time": "2025-01-17T12:09:36.536Z"
   },
   {
    "duration": 32,
    "start_time": "2025-01-17T12:10:03.088Z"
   },
   {
    "duration": 28,
    "start_time": "2025-01-17T12:10:55.418Z"
   },
   {
    "duration": 8,
    "start_time": "2025-01-17T12:11:00.048Z"
   },
   {
    "duration": 25,
    "start_time": "2025-01-17T12:11:18.831Z"
   },
   {
    "duration": 26,
    "start_time": "2025-01-17T12:16:24.579Z"
   },
   {
    "duration": 36,
    "start_time": "2025-01-17T12:16:52.563Z"
   },
   {
    "duration": 33,
    "start_time": "2025-01-17T12:17:03.026Z"
   },
   {
    "duration": 685,
    "start_time": "2025-01-17T12:17:23.498Z"
   },
   {
    "duration": 26,
    "start_time": "2025-01-17T12:17:24.185Z"
   },
   {
    "duration": 15,
    "start_time": "2025-01-17T12:17:25.156Z"
   },
   {
    "duration": 2690,
    "start_time": "2025-01-17T12:17:26.044Z"
   },
   {
    "duration": 9,
    "start_time": "2025-01-17T12:17:28.736Z"
   },
   {
    "duration": 25,
    "start_time": "2025-01-17T12:17:28.746Z"
   },
   {
    "duration": 13,
    "start_time": "2025-01-17T12:17:30.254Z"
   },
   {
    "duration": 32,
    "start_time": "2025-01-17T12:17:32.477Z"
   },
   {
    "duration": 7,
    "start_time": "2025-01-17T12:17:33.014Z"
   },
   {
    "duration": 6,
    "start_time": "2025-01-17T12:17:34.269Z"
   },
   {
    "duration": 27,
    "start_time": "2025-01-17T12:17:38.709Z"
   },
   {
    "duration": 5,
    "start_time": "2025-01-17T12:17:39.237Z"
   },
   {
    "duration": 5,
    "start_time": "2025-01-17T12:17:40.548Z"
   },
   {
    "duration": 30,
    "start_time": "2025-01-17T12:17:45.957Z"
   },
   {
    "duration": 6,
    "start_time": "2025-01-17T12:18:24.061Z"
   },
   {
    "duration": 38,
    "start_time": "2025-01-17T12:18:44.997Z"
   },
   {
    "duration": 8,
    "start_time": "2025-01-17T12:19:39.650Z"
   },
   {
    "duration": 7,
    "start_time": "2025-01-17T12:20:28.543Z"
   },
   {
    "duration": 72,
    "start_time": "2025-01-17T12:21:24.559Z"
   },
   {
    "duration": 6,
    "start_time": "2025-01-17T12:21:29.567Z"
   },
   {
    "duration": 12,
    "start_time": "2025-01-17T12:21:59.775Z"
   },
   {
    "duration": 8,
    "start_time": "2025-01-17T12:26:00.009Z"
   },
   {
    "duration": 12,
    "start_time": "2025-01-17T12:26:25.520Z"
   },
   {
    "duration": 6,
    "start_time": "2025-01-17T12:26:30.114Z"
   },
   {
    "duration": 8,
    "start_time": "2025-01-17T12:27:31.377Z"
   },
   {
    "duration": 7,
    "start_time": "2025-01-17T12:30:21.211Z"
   },
   {
    "duration": 8,
    "start_time": "2025-01-17T12:31:53.586Z"
   },
   {
    "duration": 11,
    "start_time": "2025-01-17T12:32:03.852Z"
   },
   {
    "duration": 10,
    "start_time": "2025-01-17T12:32:19.739Z"
   },
   {
    "duration": 11,
    "start_time": "2025-01-17T12:34:12.931Z"
   },
   {
    "duration": 12,
    "start_time": "2025-01-17T12:34:21.317Z"
   },
   {
    "duration": 11,
    "start_time": "2025-01-17T12:34:23.931Z"
   },
   {
    "duration": 9,
    "start_time": "2025-01-17T12:34:29.148Z"
   },
   {
    "duration": 9,
    "start_time": "2025-01-17T12:34:36.739Z"
   },
   {
    "duration": 8,
    "start_time": "2025-01-17T12:34:49.740Z"
   },
   {
    "duration": 9,
    "start_time": "2025-01-17T12:34:59.244Z"
   },
   {
    "duration": 12,
    "start_time": "2025-01-17T12:39:54.790Z"
   },
   {
    "duration": 29,
    "start_time": "2025-01-17T12:40:08.230Z"
   },
   {
    "duration": 29,
    "start_time": "2025-01-17T12:40:16.583Z"
   },
   {
    "duration": 27,
    "start_time": "2025-01-17T12:40:31.669Z"
   },
   {
    "duration": 8,
    "start_time": "2025-01-17T12:41:01.470Z"
   },
   {
    "duration": 700,
    "start_time": "2025-01-17T12:41:40.192Z"
   },
   {
    "duration": 26,
    "start_time": "2025-01-17T12:41:40.894Z"
   },
   {
    "duration": 15,
    "start_time": "2025-01-17T12:41:41.118Z"
   },
   {
    "duration": 2626,
    "start_time": "2025-01-17T12:41:41.636Z"
   },
   {
    "duration": 9,
    "start_time": "2025-01-17T12:41:44.264Z"
   },
   {
    "duration": 29,
    "start_time": "2025-01-17T12:41:44.274Z"
   },
   {
    "duration": 17,
    "start_time": "2025-01-17T12:41:44.436Z"
   },
   {
    "duration": 29,
    "start_time": "2025-01-17T12:41:46.611Z"
   },
   {
    "duration": 8,
    "start_time": "2025-01-17T12:41:46.860Z"
   },
   {
    "duration": 8,
    "start_time": "2025-01-17T12:41:47.605Z"
   },
   {
    "duration": 24,
    "start_time": "2025-01-17T12:41:48.549Z"
   },
   {
    "duration": 5,
    "start_time": "2025-01-17T12:41:49.004Z"
   },
   {
    "duration": 5,
    "start_time": "2025-01-17T12:41:50.684Z"
   },
   {
    "duration": 32,
    "start_time": "2025-01-17T12:42:58.557Z"
   },
   {
    "duration": 34,
    "start_time": "2025-01-17T12:46:53.470Z"
   },
   {
    "duration": 5,
    "start_time": "2025-01-17T12:50:41.223Z"
   },
   {
    "duration": 32,
    "start_time": "2025-01-17T12:51:41.592Z"
   },
   {
    "duration": 42,
    "start_time": "2025-01-17T12:55:33.130Z"
   },
   {
    "duration": 68,
    "start_time": "2025-01-17T12:57:07.028Z"
   },
   {
    "duration": 44,
    "start_time": "2025-01-17T12:57:18.202Z"
   },
   {
    "duration": 32,
    "start_time": "2025-01-17T12:57:48.947Z"
   },
   {
    "duration": 5,
    "start_time": "2025-01-17T12:58:05.689Z"
   },
   {
    "duration": 12,
    "start_time": "2025-01-17T13:03:35.804Z"
   },
   {
    "duration": 34,
    "start_time": "2025-01-17T13:04:00.948Z"
   },
   {
    "duration": 106,
    "start_time": "2025-01-17T15:20:30.528Z"
   },
   {
    "duration": 34,
    "start_time": "2025-01-17T15:20:45.241Z"
   },
   {
    "duration": 55,
    "start_time": "2025-01-17T15:21:31.376Z"
   },
   {
    "duration": 35,
    "start_time": "2025-01-17T15:22:06.634Z"
   },
   {
    "duration": 676,
    "start_time": "2025-01-17T15:22:51.509Z"
   },
   {
    "duration": 37,
    "start_time": "2025-01-17T15:22:52.187Z"
   },
   {
    "duration": 15,
    "start_time": "2025-01-17T15:22:52.344Z"
   },
   {
    "duration": 2798,
    "start_time": "2025-01-17T15:22:52.873Z"
   },
   {
    "duration": 9,
    "start_time": "2025-01-17T15:22:55.673Z"
   },
   {
    "duration": 18,
    "start_time": "2025-01-17T15:22:55.684Z"
   },
   {
    "duration": 13,
    "start_time": "2025-01-17T15:22:59.937Z"
   },
   {
    "duration": 30,
    "start_time": "2025-01-17T15:23:20.242Z"
   },
   {
    "duration": 7,
    "start_time": "2025-01-17T15:23:21.889Z"
   },
   {
    "duration": 8,
    "start_time": "2025-01-17T15:23:25.705Z"
   },
   {
    "duration": 27,
    "start_time": "2025-01-17T15:23:32.193Z"
   },
   {
    "duration": 5,
    "start_time": "2025-01-17T15:25:24.506Z"
   },
   {
    "duration": 6,
    "start_time": "2025-01-17T15:26:07.682Z"
   },
   {
    "duration": 9,
    "start_time": "2025-01-17T15:27:33.668Z"
   },
   {
    "duration": 7,
    "start_time": "2025-01-17T15:28:02.754Z"
   },
   {
    "duration": 8,
    "start_time": "2025-01-17T15:28:09.739Z"
   },
   {
    "duration": 33,
    "start_time": "2025-01-17T15:29:30.819Z"
   },
   {
    "duration": 31,
    "start_time": "2025-01-17T15:32:38.421Z"
   },
   {
    "duration": 9,
    "start_time": "2025-01-17T15:38:31.574Z"
   },
   {
    "duration": 34,
    "start_time": "2025-01-17T15:38:53.375Z"
   },
   {
    "duration": 7,
    "start_time": "2025-01-17T15:39:25.983Z"
   },
   {
    "duration": 11,
    "start_time": "2025-01-17T15:39:35.136Z"
   },
   {
    "duration": 50,
    "start_time": "2025-01-17T15:39:38.424Z"
   },
   {
    "duration": 42,
    "start_time": "2025-01-17T15:40:57.635Z"
   },
   {
    "duration": 4,
    "start_time": "2025-01-17T15:42:22.880Z"
   },
   {
    "duration": 26,
    "start_time": "2025-01-17T15:42:31.466Z"
   },
   {
    "duration": 34,
    "start_time": "2025-01-17T15:43:10.673Z"
   },
   {
    "duration": 33,
    "start_time": "2025-01-17T15:44:24.706Z"
   },
   {
    "duration": 8,
    "start_time": "2025-01-17T15:46:12.835Z"
   },
   {
    "duration": 8,
    "start_time": "2025-01-17T15:47:10.723Z"
   },
   {
    "duration": 36,
    "start_time": "2025-01-17T15:47:47.891Z"
   },
   {
    "duration": 1109,
    "start_time": "2025-01-20T13:14:41.457Z"
   },
   {
    "duration": 38,
    "start_time": "2025-01-20T13:14:42.568Z"
   },
   {
    "duration": 17,
    "start_time": "2025-01-20T13:14:59.658Z"
   },
   {
    "duration": 3317,
    "start_time": "2025-01-20T13:15:01.862Z"
   },
   {
    "duration": 9,
    "start_time": "2025-01-20T13:15:06.234Z"
   },
   {
    "duration": 13,
    "start_time": "2025-01-20T13:15:07.434Z"
   },
   {
    "duration": 14,
    "start_time": "2025-01-20T13:15:43.978Z"
   },
   {
    "duration": 34,
    "start_time": "2025-01-20T13:15:52.994Z"
   },
   {
    "duration": 10,
    "start_time": "2025-01-20T13:15:53.770Z"
   },
   {
    "duration": 9,
    "start_time": "2025-01-20T13:15:56.842Z"
   },
   {
    "duration": 30,
    "start_time": "2025-01-20T13:15:59.066Z"
   },
   {
    "duration": 6,
    "start_time": "2025-01-20T13:15:59.633Z"
   },
   {
    "duration": 8,
    "start_time": "2025-01-20T13:16:01.521Z"
   },
   {
    "duration": 21,
    "start_time": "2025-01-20T14:38:44.299Z"
   },
   {
    "duration": 5,
    "start_time": "2025-01-20T14:43:52.781Z"
   },
   {
    "duration": 5,
    "start_time": "2025-01-20T14:51:00.217Z"
   },
   {
    "duration": 5,
    "start_time": "2025-01-20T14:51:04.568Z"
   },
   {
    "duration": 6,
    "start_time": "2025-01-20T14:51:10.415Z"
   },
   {
    "duration": 5,
    "start_time": "2025-01-20T14:52:41.239Z"
   },
   {
    "duration": 9,
    "start_time": "2025-01-20T14:52:44.938Z"
   },
   {
    "duration": 26,
    "start_time": "2025-01-20T14:53:06.007Z"
   },
   {
    "duration": 10,
    "start_time": "2025-01-20T14:53:39.393Z"
   },
   {
    "duration": 26,
    "start_time": "2025-01-20T14:53:50.225Z"
   },
   {
    "duration": 28,
    "start_time": "2025-01-20T15:16:24.033Z"
   },
   {
    "duration": 6,
    "start_time": "2025-01-20T15:21:29.475Z"
   },
   {
    "duration": 1111,
    "start_time": "2025-01-21T08:11:55.108Z"
   },
   {
    "duration": 27,
    "start_time": "2025-01-21T08:11:56.221Z"
   },
   {
    "duration": 15,
    "start_time": "2025-01-21T08:11:57.572Z"
   },
   {
    "duration": 2490,
    "start_time": "2025-01-21T08:12:02.589Z"
   },
   {
    "duration": 9,
    "start_time": "2025-01-21T08:12:05.081Z"
   },
   {
    "duration": 12,
    "start_time": "2025-01-21T08:12:09.421Z"
   },
   {
    "duration": 13,
    "start_time": "2025-01-21T08:12:16.684Z"
   },
   {
    "duration": 29,
    "start_time": "2025-01-21T08:12:19.150Z"
   },
   {
    "duration": 7,
    "start_time": "2025-01-21T08:12:20.292Z"
   },
   {
    "duration": 7,
    "start_time": "2025-01-21T08:12:21.861Z"
   },
   {
    "duration": 27,
    "start_time": "2025-01-21T08:12:22.676Z"
   },
   {
    "duration": 7,
    "start_time": "2025-01-21T08:12:23.156Z"
   },
   {
    "duration": 7,
    "start_time": "2025-01-21T08:12:25.037Z"
   },
   {
    "duration": 13,
    "start_time": "2025-01-21T08:12:33.068Z"
   },
   {
    "duration": 5,
    "start_time": "2025-01-21T08:15:53.717Z"
   },
   {
    "duration": 9,
    "start_time": "2025-01-21T08:15:57.054Z"
   },
   {
    "duration": 22,
    "start_time": "2025-01-21T08:15:59.510Z"
   },
   {
    "duration": 23,
    "start_time": "2025-01-21T08:16:07.430Z"
   },
   {
    "duration": 14,
    "start_time": "2025-01-21T08:18:23.297Z"
   },
   {
    "duration": 101,
    "start_time": "2025-01-21T09:04:09.451Z"
   },
   {
    "duration": 26,
    "start_time": "2025-01-21T09:04:10.012Z"
   },
   {
    "duration": 741,
    "start_time": "2025-01-21T09:04:16.402Z"
   },
   {
    "duration": 28,
    "start_time": "2025-01-21T09:04:17.633Z"
   },
   {
    "duration": 15,
    "start_time": "2025-01-21T09:04:18.500Z"
   },
   {
    "duration": 2631,
    "start_time": "2025-01-21T09:04:19.292Z"
   },
   {
    "duration": 9,
    "start_time": "2025-01-21T09:04:21.925Z"
   },
   {
    "duration": 19,
    "start_time": "2025-01-21T09:04:21.935Z"
   },
   {
    "duration": 13,
    "start_time": "2025-01-21T09:04:23.700Z"
   },
   {
    "duration": 30,
    "start_time": "2025-01-21T09:04:24.717Z"
   },
   {
    "duration": 8,
    "start_time": "2025-01-21T09:04:24.891Z"
   },
   {
    "duration": 8,
    "start_time": "2025-01-21T09:04:25.355Z"
   },
   {
    "duration": 25,
    "start_time": "2025-01-21T09:04:25.740Z"
   },
   {
    "duration": 6,
    "start_time": "2025-01-21T09:04:26.443Z"
   },
   {
    "duration": 8,
    "start_time": "2025-01-21T09:04:27.419Z"
   },
   {
    "duration": 13,
    "start_time": "2025-01-21T09:04:30.340Z"
   },
   {
    "duration": 5,
    "start_time": "2025-01-21T09:04:32.212Z"
   },
   {
    "duration": 10,
    "start_time": "2025-01-21T09:04:32.548Z"
   },
   {
    "duration": 23,
    "start_time": "2025-01-21T09:04:33.380Z"
   },
   {
    "duration": 23,
    "start_time": "2025-01-21T09:04:36.572Z"
   },
   {
    "duration": 10,
    "start_time": "2025-01-21T09:04:40.812Z"
   },
   {
    "duration": 74,
    "start_time": "2025-01-21T09:17:18.049Z"
   },
   {
    "duration": 97,
    "start_time": "2025-01-21T09:20:04.456Z"
   },
   {
    "duration": 8,
    "start_time": "2025-01-21T09:20:22.120Z"
   },
   {
    "duration": 11,
    "start_time": "2025-01-21T09:20:28.856Z"
   },
   {
    "duration": 17,
    "start_time": "2025-01-21T09:32:11.773Z"
   },
   {
    "duration": 11,
    "start_time": "2025-01-21T09:32:14.284Z"
   },
   {
    "duration": 9,
    "start_time": "2025-01-21T09:32:33.333Z"
   },
   {
    "duration": 1145,
    "start_time": "2025-01-22T08:33:17.697Z"
   },
   {
    "duration": 34,
    "start_time": "2025-01-22T08:33:18.845Z"
   },
   {
    "duration": 17,
    "start_time": "2025-01-22T08:33:19.917Z"
   },
   {
    "duration": 3102,
    "start_time": "2025-01-22T08:33:20.412Z"
   },
   {
    "duration": 9,
    "start_time": "2025-01-22T08:33:23.517Z"
   },
   {
    "duration": 10,
    "start_time": "2025-01-22T08:33:23.530Z"
   },
   {
    "duration": 15,
    "start_time": "2025-01-22T08:33:23.542Z"
   },
   {
    "duration": 34,
    "start_time": "2025-01-22T08:33:23.559Z"
   },
   {
    "duration": 36,
    "start_time": "2025-01-22T08:33:23.595Z"
   },
   {
    "duration": 10,
    "start_time": "2025-01-22T08:33:23.869Z"
   },
   {
    "duration": 30,
    "start_time": "2025-01-22T08:33:24.580Z"
   },
   {
    "duration": 6,
    "start_time": "2025-01-22T08:33:24.948Z"
   },
   {
    "duration": 7,
    "start_time": "2025-01-22T08:33:25.764Z"
   },
   {
    "duration": 15,
    "start_time": "2025-01-22T08:33:27.283Z"
   },
   {
    "duration": 5,
    "start_time": "2025-01-22T08:33:28.963Z"
   },
   {
    "duration": 9,
    "start_time": "2025-01-22T08:33:29.444Z"
   },
   {
    "duration": 27,
    "start_time": "2025-01-22T08:33:29.884Z"
   },
   {
    "duration": 26,
    "start_time": "2025-01-22T08:33:31.853Z"
   },
   {
    "duration": 11,
    "start_time": "2025-01-22T08:33:33.254Z"
   },
   {
    "duration": 14,
    "start_time": "2025-01-22T08:36:26.694Z"
   },
   {
    "duration": 16,
    "start_time": "2025-01-22T08:36:34.741Z"
   },
   {
    "duration": 16,
    "start_time": "2025-01-22T08:37:43.390Z"
   },
   {
    "duration": 11,
    "start_time": "2025-01-22T08:37:46.494Z"
   },
   {
    "duration": 503,
    "start_time": "2025-01-22T08:47:15.712Z"
   },
   {
    "duration": 13,
    "start_time": "2025-01-22T08:49:10.793Z"
   },
   {
    "duration": 1065,
    "start_time": "2025-01-22T08:49:27.521Z"
   },
   {
    "duration": 14,
    "start_time": "2025-01-22T08:51:03.226Z"
   },
   {
    "duration": 1983,
    "start_time": "2025-01-22T08:51:12.939Z"
   },
   {
    "duration": 15,
    "start_time": "2025-01-22T08:51:33.738Z"
   },
   {
    "duration": 863,
    "start_time": "2025-01-22T08:52:10.647Z"
   },
   {
    "duration": 40,
    "start_time": "2025-01-22T08:52:11.512Z"
   },
   {
    "duration": 17,
    "start_time": "2025-01-22T08:52:12.259Z"
   },
   {
    "duration": 3284,
    "start_time": "2025-01-22T08:52:12.803Z"
   },
   {
    "duration": 10,
    "start_time": "2025-01-22T08:52:16.089Z"
   },
   {
    "duration": 39,
    "start_time": "2025-01-22T08:52:16.100Z"
   },
   {
    "duration": 28,
    "start_time": "2025-01-22T08:52:16.141Z"
   },
   {
    "duration": 45,
    "start_time": "2025-01-22T08:52:16.171Z"
   },
   {
    "duration": 16,
    "start_time": "2025-01-22T08:52:16.217Z"
   },
   {
    "duration": 9,
    "start_time": "2025-01-22T08:52:16.963Z"
   },
   {
    "duration": 32,
    "start_time": "2025-01-22T08:52:17.514Z"
   },
   {
    "duration": 9,
    "start_time": "2025-01-22T08:52:17.795Z"
   },
   {
    "duration": 10,
    "start_time": "2025-01-22T08:52:18.365Z"
   },
   {
    "duration": 14,
    "start_time": "2025-01-22T08:52:20.202Z"
   },
   {
    "duration": 6,
    "start_time": "2025-01-22T08:52:21.442Z"
   },
   {
    "duration": 9,
    "start_time": "2025-01-22T08:52:21.955Z"
   },
   {
    "duration": 27,
    "start_time": "2025-01-22T08:52:22.354Z"
   },
   {
    "duration": 38,
    "start_time": "2025-01-22T08:52:23.066Z"
   },
   {
    "duration": 12,
    "start_time": "2025-01-22T08:52:23.395Z"
   },
   {
    "duration": 14,
    "start_time": "2025-01-22T08:52:23.571Z"
   },
   {
    "duration": 77,
    "start_time": "2025-01-22T08:52:27.165Z"
   },
   {
    "duration": 9,
    "start_time": "2025-01-22T08:52:37.244Z"
   },
   {
    "duration": 89,
    "start_time": "2025-01-22T08:56:49.628Z"
   },
   {
    "duration": 13,
    "start_time": "2025-01-22T08:56:55.108Z"
   },
   {
    "duration": 9,
    "start_time": "2025-01-22T08:57:15.542Z"
   },
   {
    "duration": 8,
    "start_time": "2025-01-22T08:57:27.901Z"
   },
   {
    "duration": 15,
    "start_time": "2025-01-22T08:59:21.693Z"
   },
   {
    "duration": 11,
    "start_time": "2025-01-22T08:59:22.485Z"
   },
   {
    "duration": 396,
    "start_time": "2025-01-22T09:16:06.460Z"
   },
   {
    "duration": 21,
    "start_time": "2025-01-22T09:17:18.644Z"
   },
   {
    "duration": 12,
    "start_time": "2025-01-22T09:17:21.132Z"
   },
   {
    "duration": 24,
    "start_time": "2025-01-22T09:19:46.028Z"
   },
   {
    "duration": 12,
    "start_time": "2025-01-22T09:19:47.860Z"
   },
   {
    "duration": 21,
    "start_time": "2025-01-22T09:29:47.103Z"
   },
   {
    "duration": 12,
    "start_time": "2025-01-22T09:29:48.823Z"
   },
   {
    "duration": 22,
    "start_time": "2025-01-22T09:32:12.448Z"
   },
   {
    "duration": 13,
    "start_time": "2025-01-22T09:32:13.095Z"
   },
   {
    "duration": 87,
    "start_time": "2025-01-22T09:32:35.329Z"
   },
   {
    "duration": 10,
    "start_time": "2025-01-22T09:32:40.369Z"
   },
   {
    "duration": 19,
    "start_time": "2025-01-22T09:33:30.584Z"
   },
   {
    "duration": 6,
    "start_time": "2025-01-22T09:42:22.573Z"
   },
   {
    "duration": 30,
    "start_time": "2025-01-22T09:42:35.405Z"
   },
   {
    "duration": 33,
    "start_time": "2025-01-22T09:43:01.069Z"
   },
   {
    "duration": 28,
    "start_time": "2025-01-22T09:43:13.527Z"
   },
   {
    "duration": 11,
    "start_time": "2025-01-22T09:49:52.992Z"
   },
   {
    "duration": 30,
    "start_time": "2025-01-22T09:50:09.480Z"
   },
   {
    "duration": 31,
    "start_time": "2025-01-22T09:51:36.041Z"
   },
   {
    "duration": 34,
    "start_time": "2025-01-22T09:52:10.633Z"
   },
   {
    "duration": 39,
    "start_time": "2025-01-22T09:55:04.635Z"
   },
   {
    "duration": 367,
    "start_time": "2025-01-22T10:09:00.135Z"
   },
   {
    "duration": 5,
    "start_time": "2025-01-22T10:09:59.823Z"
   },
   {
    "duration": 6,
    "start_time": "2025-01-22T10:10:38.360Z"
   },
   {
    "duration": 1350,
    "start_time": "2025-01-22T10:14:03.857Z"
   },
   {
    "duration": 4,
    "start_time": "2025-01-22T10:14:17.073Z"
   },
   {
    "duration": 15,
    "start_time": "2025-01-22T10:14:20.225Z"
   },
   {
    "duration": 33,
    "start_time": "2025-01-22T10:14:49.122Z"
   },
   {
    "duration": 5,
    "start_time": "2025-01-22T11:36:05.031Z"
   },
   {
    "duration": 2008,
    "start_time": "2025-01-22T11:48:22.404Z"
   },
   {
    "duration": 1086,
    "start_time": "2025-01-23T12:26:30.739Z"
   },
   {
    "duration": 25,
    "start_time": "2025-01-23T12:26:31.827Z"
   },
   {
    "duration": 13,
    "start_time": "2025-01-23T12:26:31.853Z"
   },
   {
    "duration": 2460,
    "start_time": "2025-01-23T12:26:32.581Z"
   },
   {
    "duration": 8,
    "start_time": "2025-01-23T12:26:35.043Z"
   },
   {
    "duration": 11,
    "start_time": "2025-01-23T12:26:35.052Z"
   },
   {
    "duration": 24,
    "start_time": "2025-01-23T12:26:35.065Z"
   },
   {
    "duration": 28,
    "start_time": "2025-01-23T12:26:36.277Z"
   },
   {
    "duration": 7,
    "start_time": "2025-01-23T12:26:36.613Z"
   },
   {
    "duration": 7,
    "start_time": "2025-01-23T12:26:37.293Z"
   },
   {
    "duration": 23,
    "start_time": "2025-01-23T12:26:37.876Z"
   },
   {
    "duration": 5,
    "start_time": "2025-01-23T12:26:38.069Z"
   },
   {
    "duration": 7,
    "start_time": "2025-01-23T12:26:38.677Z"
   },
   {
    "duration": 12,
    "start_time": "2025-01-23T12:26:39.780Z"
   },
   {
    "duration": 5,
    "start_time": "2025-01-23T12:26:41.245Z"
   },
   {
    "duration": 8,
    "start_time": "2025-01-23T12:26:41.477Z"
   },
   {
    "duration": 20,
    "start_time": "2025-01-23T12:26:41.657Z"
   },
   {
    "duration": 22,
    "start_time": "2025-01-23T12:26:42.933Z"
   },
   {
    "duration": 10,
    "start_time": "2025-01-23T12:26:43.597Z"
   },
   {
    "duration": 18,
    "start_time": "2025-01-23T12:26:44.057Z"
   },
   {
    "duration": 17,
    "start_time": "2025-01-23T12:26:44.565Z"
   },
   {
    "duration": 22,
    "start_time": "2025-01-23T12:26:47.014Z"
   },
   {
    "duration": 22,
    "start_time": "2025-01-23T12:26:47.589Z"
   },
   {
    "duration": 22,
    "start_time": "2025-01-23T12:26:47.981Z"
   },
   {
    "duration": 22,
    "start_time": "2025-01-23T12:26:48.365Z"
   },
   {
    "duration": 333,
    "start_time": "2025-01-23T12:26:51.006Z"
   },
   {
    "duration": 21,
    "start_time": "2025-01-23T12:26:54.077Z"
   },
   {
    "duration": 75,
    "start_time": "2025-01-23T12:26:57.333Z"
   },
   {
    "duration": 283,
    "start_time": "2025-01-23T12:27:05.509Z"
   },
   {
    "duration": 1419,
    "start_time": "2025-01-23T12:27:38.254Z"
   },
   {
    "duration": 934,
    "start_time": "2025-01-23T12:30:31.719Z"
   },
   {
    "duration": 285,
    "start_time": "2025-01-23T12:31:19.687Z"
   },
   {
    "duration": 13,
    "start_time": "2025-01-23T12:32:26.839Z"
   },
   {
    "duration": 149,
    "start_time": "2025-01-23T12:34:33.344Z"
   },
   {
    "duration": 1991,
    "start_time": "2025-01-23T12:34:57.467Z"
   },
   {
    "duration": 133,
    "start_time": "2025-01-23T12:35:19.265Z"
   },
   {
    "duration": 2005,
    "start_time": "2025-01-23T12:35:51.577Z"
   },
   {
    "duration": 144,
    "start_time": "2025-01-23T12:38:39.836Z"
   },
   {
    "duration": 126,
    "start_time": "2025-01-23T12:40:13.515Z"
   },
   {
    "duration": 130,
    "start_time": "2025-01-23T12:42:17.723Z"
   },
   {
    "duration": 143,
    "start_time": "2025-01-23T12:44:07.323Z"
   },
   {
    "duration": 169,
    "start_time": "2025-01-23T12:44:13.973Z"
   },
   {
    "duration": 149,
    "start_time": "2025-01-23T12:44:22.291Z"
   },
   {
    "duration": 156,
    "start_time": "2025-01-23T12:44:31.932Z"
   },
   {
    "duration": 193,
    "start_time": "2025-01-23T12:45:56.484Z"
   },
   {
    "duration": 144,
    "start_time": "2025-01-23T12:46:03.967Z"
   },
   {
    "duration": 132,
    "start_time": "2025-01-23T12:46:13.660Z"
   },
   {
    "duration": 131,
    "start_time": "2025-01-23T12:48:18.349Z"
   },
   {
    "duration": 129,
    "start_time": "2025-01-23T12:48:30.382Z"
   },
   {
    "duration": 127,
    "start_time": "2025-01-23T12:48:41.110Z"
   },
   {
    "duration": 128,
    "start_time": "2025-01-23T12:51:58.094Z"
   },
   {
    "duration": 124,
    "start_time": "2025-01-23T12:53:16.072Z"
   },
   {
    "duration": 136,
    "start_time": "2025-01-23T12:56:43.680Z"
   },
   {
    "duration": 142,
    "start_time": "2025-01-23T12:56:49.216Z"
   },
   {
    "duration": 151,
    "start_time": "2025-01-23T12:56:55.728Z"
   },
   {
    "duration": 2285,
    "start_time": "2025-01-23T12:57:26.129Z"
   },
   {
    "duration": 2191,
    "start_time": "2025-01-23T12:57:33.137Z"
   },
   {
    "duration": 1920,
    "start_time": "2025-01-23T12:57:39.315Z"
   },
   {
    "duration": 2021,
    "start_time": "2025-01-23T12:57:52.474Z"
   },
   {
    "duration": 1841,
    "start_time": "2025-01-23T12:59:32.313Z"
   },
   {
    "duration": 1852,
    "start_time": "2025-01-23T12:59:44.465Z"
   },
   {
    "duration": 1911,
    "start_time": "2025-01-23T12:59:54.897Z"
   },
   {
    "duration": 1907,
    "start_time": "2025-01-23T13:00:04.874Z"
   },
   {
    "duration": 2003,
    "start_time": "2025-01-23T13:00:13.938Z"
   },
   {
    "duration": 2099,
    "start_time": "2025-01-23T13:00:19.970Z"
   },
   {
    "duration": 2144,
    "start_time": "2025-01-23T13:00:57.666Z"
   },
   {
    "duration": 126,
    "start_time": "2025-01-23T13:05:09.011Z"
   },
   {
    "duration": 144,
    "start_time": "2025-01-23T13:18:05.130Z"
   },
   {
    "duration": 13,
    "start_time": "2025-01-23T13:18:52.965Z"
   },
   {
    "duration": 7,
    "start_time": "2025-01-23T13:26:25.308Z"
   },
   {
    "duration": 12,
    "start_time": "2025-01-23T13:33:47.198Z"
   },
   {
    "duration": 9,
    "start_time": "2025-01-23T13:33:58.406Z"
   },
   {
    "duration": 309,
    "start_time": "2025-01-23T13:34:07.958Z"
   },
   {
    "duration": 17,
    "start_time": "2025-01-23T13:34:45.111Z"
   },
   {
    "duration": 17,
    "start_time": "2025-01-23T13:35:56.679Z"
   },
   {
    "duration": 20,
    "start_time": "2025-01-23T13:36:39.919Z"
   },
   {
    "duration": 22,
    "start_time": "2025-01-23T13:37:11.663Z"
   },
   {
    "duration": 7,
    "start_time": "2025-01-23T13:37:56.519Z"
   },
   {
    "duration": 109,
    "start_time": "2025-01-23T13:38:09.944Z"
   },
   {
    "duration": 14,
    "start_time": "2025-01-23T13:38:14.768Z"
   },
   {
    "duration": 5,
    "start_time": "2025-01-23T13:38:23.217Z"
   },
   {
    "duration": 26,
    "start_time": "2025-01-23T13:39:06.272Z"
   },
   {
    "duration": 20,
    "start_time": "2025-01-23T13:40:03.217Z"
   },
   {
    "duration": 10,
    "start_time": "2025-01-23T13:41:46.545Z"
   },
   {
    "duration": 7,
    "start_time": "2025-01-23T13:43:23.114Z"
   },
   {
    "duration": 710,
    "start_time": "2025-01-23T13:43:40.438Z"
   },
   {
    "duration": 24,
    "start_time": "2025-01-23T13:43:41.150Z"
   },
   {
    "duration": 14,
    "start_time": "2025-01-23T13:43:41.889Z"
   },
   {
    "duration": 2400,
    "start_time": "2025-01-23T13:43:42.409Z"
   },
   {
    "duration": 7,
    "start_time": "2025-01-23T13:43:44.811Z"
   },
   {
    "duration": 19,
    "start_time": "2025-01-23T13:43:44.819Z"
   },
   {
    "duration": 18,
    "start_time": "2025-01-23T13:43:44.840Z"
   },
   {
    "duration": 26,
    "start_time": "2025-01-23T13:43:44.860Z"
   },
   {
    "duration": 6,
    "start_time": "2025-01-23T13:43:44.935Z"
   },
   {
    "duration": 7,
    "start_time": "2025-01-23T13:43:45.321Z"
   },
   {
    "duration": 24,
    "start_time": "2025-01-23T13:43:45.681Z"
   },
   {
    "duration": 6,
    "start_time": "2025-01-23T13:43:45.858Z"
   },
   {
    "duration": 6,
    "start_time": "2025-01-23T13:43:46.193Z"
   },
   {
    "duration": 14,
    "start_time": "2025-01-23T13:43:46.872Z"
   },
   {
    "duration": 4,
    "start_time": "2025-01-23T13:43:47.585Z"
   },
   {
    "duration": 7,
    "start_time": "2025-01-23T13:43:47.793Z"
   },
   {
    "duration": 21,
    "start_time": "2025-01-23T13:43:47.970Z"
   },
   {
    "duration": 23,
    "start_time": "2025-01-23T13:43:48.961Z"
   },
   {
    "duration": 9,
    "start_time": "2025-01-23T13:43:49.449Z"
   },
   {
    "duration": 19,
    "start_time": "2025-01-23T13:43:49.721Z"
   },
   {
    "duration": 18,
    "start_time": "2025-01-23T13:43:49.907Z"
   },
   {
    "duration": 22,
    "start_time": "2025-01-23T13:43:50.609Z"
   },
   {
    "duration": 23,
    "start_time": "2025-01-23T13:43:53.289Z"
   },
   {
    "duration": 24,
    "start_time": "2025-01-23T13:43:55.097Z"
   },
   {
    "duration": 21,
    "start_time": "2025-01-23T13:43:55.425Z"
   },
   {
    "duration": 326,
    "start_time": "2025-01-23T13:43:55.745Z"
   },
   {
    "duration": 22,
    "start_time": "2025-01-23T13:43:58.210Z"
   },
   {
    "duration": 2157,
    "start_time": "2025-01-23T13:43:59.897Z"
   },
   {
    "duration": 139,
    "start_time": "2025-01-23T13:44:02.056Z"
   },
   {
    "duration": 12,
    "start_time": "2025-01-23T13:44:03.201Z"
   },
   {
    "duration": 20,
    "start_time": "2025-01-23T13:44:03.594Z"
   },
   {
    "duration": 12,
    "start_time": "2025-01-23T13:44:04.121Z"
   },
   {
    "duration": 14,
    "start_time": "2025-01-23T13:44:36.074Z"
   },
   {
    "duration": 10,
    "start_time": "2025-01-23T13:44:40.786Z"
   },
   {
    "duration": 11,
    "start_time": "2025-01-23T13:44:45.458Z"
   },
   {
    "duration": 71,
    "start_time": "2025-01-23T13:46:59.620Z"
   },
   {
    "duration": 8,
    "start_time": "2025-01-23T13:48:14.411Z"
   },
   {
    "duration": 7,
    "start_time": "2025-01-23T13:48:26.211Z"
   },
   {
    "duration": 890,
    "start_time": "2025-01-23T13:50:00.357Z"
   },
   {
    "duration": 8,
    "start_time": "2025-01-23T13:50:40.780Z"
   },
   {
    "duration": 7,
    "start_time": "2025-01-23T13:51:40.404Z"
   },
   {
    "duration": 6,
    "start_time": "2025-01-23T13:51:49.957Z"
   },
   {
    "duration": 898,
    "start_time": "2025-01-23T14:24:58.649Z"
   },
   {
    "duration": 5,
    "start_time": "2025-01-23T14:26:10.378Z"
   },
   {
    "duration": 1048,
    "start_time": "2025-01-23T14:27:00.674Z"
   },
   {
    "duration": 4,
    "start_time": "2025-01-23T14:28:40.474Z"
   },
   {
    "duration": 4,
    "start_time": "2025-01-23T14:29:00.825Z"
   },
   {
    "duration": 4,
    "start_time": "2025-01-23T14:29:20.817Z"
   },
   {
    "duration": 2,
    "start_time": "2025-01-23T14:30:22.307Z"
   },
   {
    "duration": 7,
    "start_time": "2025-01-23T14:31:57.227Z"
   },
   {
    "duration": 3,
    "start_time": "2025-01-23T14:32:01.018Z"
   },
   {
    "duration": 8,
    "start_time": "2025-01-23T14:32:02.610Z"
   },
   {
    "duration": 2,
    "start_time": "2025-01-23T14:33:01.163Z"
   },
   {
    "duration": 207,
    "start_time": "2025-01-23T14:33:02.219Z"
   },
   {
    "duration": 8,
    "start_time": "2025-01-23T14:35:55.964Z"
   },
   {
    "duration": 19,
    "start_time": "2025-01-23T14:35:56.628Z"
   },
   {
    "duration": 2,
    "start_time": "2025-01-23T14:35:57.676Z"
   },
   {
    "duration": 215,
    "start_time": "2025-01-23T14:35:58.028Z"
   },
   {
    "duration": 3,
    "start_time": "2025-01-23T14:36:39.028Z"
   },
   {
    "duration": 8,
    "start_time": "2025-01-23T14:36:39.933Z"
   },
   {
    "duration": 10,
    "start_time": "2025-01-23T14:37:07.901Z"
   },
   {
    "duration": 16,
    "start_time": "2025-01-23T14:40:09.758Z"
   },
   {
    "duration": 10,
    "start_time": "2025-01-23T14:40:26.190Z"
   },
   {
    "duration": 14,
    "start_time": "2025-01-23T14:41:26.542Z"
   },
   {
    "duration": 7,
    "start_time": "2025-01-23T14:42:09.928Z"
   },
   {
    "duration": 10,
    "start_time": "2025-01-23T14:42:20.326Z"
   },
   {
    "duration": 9,
    "start_time": "2025-01-23T14:42:37.830Z"
   },
   {
    "duration": 10,
    "start_time": "2025-01-23T14:42:54.822Z"
   },
   {
    "duration": 8,
    "start_time": "2025-01-23T14:43:29.094Z"
   },
   {
    "duration": 9,
    "start_time": "2025-01-23T14:43:40.974Z"
   },
   {
    "duration": 9,
    "start_time": "2025-01-23T14:44:34.191Z"
   },
   {
    "duration": 9,
    "start_time": "2025-01-23T14:48:36.513Z"
   },
   {
    "duration": 8,
    "start_time": "2025-01-23T14:50:33.843Z"
   },
   {
    "duration": 22,
    "start_time": "2025-01-23T14:50:34.889Z"
   },
   {
    "duration": 8,
    "start_time": "2025-01-23T14:50:40.939Z"
   },
   {
    "duration": 163,
    "start_time": "2025-01-23T14:52:51.227Z"
   },
   {
    "duration": 213,
    "start_time": "2025-01-23T14:53:23.826Z"
   },
   {
    "duration": 215,
    "start_time": "2025-01-23T14:53:33.419Z"
   },
   {
    "duration": 192,
    "start_time": "2025-01-23T14:53:42.738Z"
   },
   {
    "duration": 13,
    "start_time": "2025-01-23T14:54:56.203Z"
   },
   {
    "duration": 8,
    "start_time": "2025-01-23T14:55:28.765Z"
   },
   {
    "duration": 9,
    "start_time": "2025-01-23T14:56:28.490Z"
   },
   {
    "duration": 171,
    "start_time": "2025-01-23T14:57:47.436Z"
   },
   {
    "duration": 163,
    "start_time": "2025-01-23T14:57:54.380Z"
   },
   {
    "duration": 185,
    "start_time": "2025-01-23T14:59:00.511Z"
   },
   {
    "duration": 179,
    "start_time": "2025-01-23T14:59:55.613Z"
   },
   {
    "duration": 243,
    "start_time": "2025-01-23T15:03:04.798Z"
   },
   {
    "duration": 165,
    "start_time": "2025-01-23T15:03:15.126Z"
   },
   {
    "duration": 155,
    "start_time": "2025-01-23T15:03:25.703Z"
   },
   {
    "duration": 173,
    "start_time": "2025-01-23T15:03:44.622Z"
   },
   {
    "duration": 164,
    "start_time": "2025-01-23T15:05:16.374Z"
   },
   {
    "duration": 211,
    "start_time": "2025-01-23T15:05:23.914Z"
   },
   {
    "duration": 186,
    "start_time": "2025-01-23T15:05:28.311Z"
   },
   {
    "duration": 239,
    "start_time": "2025-01-23T15:06:59.231Z"
   },
   {
    "duration": 150,
    "start_time": "2025-01-23T15:10:39.792Z"
   },
   {
    "duration": 172,
    "start_time": "2025-01-23T15:11:01.801Z"
   },
   {
    "duration": 185,
    "start_time": "2025-01-23T15:11:26.585Z"
   },
   {
    "duration": 173,
    "start_time": "2025-01-23T15:12:39.122Z"
   },
   {
    "duration": 176,
    "start_time": "2025-01-23T15:12:45.209Z"
   },
   {
    "duration": 225,
    "start_time": "2025-01-23T15:13:03.907Z"
   },
   {
    "duration": 238,
    "start_time": "2025-01-23T15:13:20.968Z"
   },
   {
    "duration": 177,
    "start_time": "2025-01-23T15:13:32.705Z"
   },
   {
    "duration": 186,
    "start_time": "2025-01-23T15:13:45.034Z"
   },
   {
    "duration": 183,
    "start_time": "2025-01-23T15:14:00.297Z"
   },
   {
    "duration": 179,
    "start_time": "2025-01-23T15:14:16.794Z"
   },
   {
    "duration": 189,
    "start_time": "2025-01-23T15:14:21.531Z"
   },
   {
    "duration": 249,
    "start_time": "2025-01-23T15:14:27.617Z"
   },
   {
    "duration": 179,
    "start_time": "2025-01-23T15:14:31.946Z"
   },
   {
    "duration": 48,
    "start_time": "2025-01-23T17:19:03.858Z"
   },
   {
    "duration": 920,
    "start_time": "2025-01-23T17:19:13.362Z"
   },
   {
    "duration": 31,
    "start_time": "2025-01-23T17:19:14.827Z"
   },
   {
    "duration": 16,
    "start_time": "2025-01-23T17:19:16.132Z"
   },
   {
    "duration": 2928,
    "start_time": "2025-01-23T17:19:17.306Z"
   },
   {
    "duration": 9,
    "start_time": "2025-01-23T17:19:20.236Z"
   },
   {
    "duration": 15,
    "start_time": "2025-01-23T17:19:20.247Z"
   },
   {
    "duration": 15,
    "start_time": "2025-01-23T17:19:21.525Z"
   },
   {
    "duration": 33,
    "start_time": "2025-01-23T17:19:23.094Z"
   },
   {
    "duration": 8,
    "start_time": "2025-01-23T17:19:23.547Z"
   },
   {
    "duration": 8,
    "start_time": "2025-01-23T17:19:24.501Z"
   },
   {
    "duration": 29,
    "start_time": "2025-01-23T17:19:25.344Z"
   },
   {
    "duration": 6,
    "start_time": "2025-01-23T17:19:25.749Z"
   },
   {
    "duration": 8,
    "start_time": "2025-01-23T17:19:26.545Z"
   },
   {
    "duration": 14,
    "start_time": "2025-01-23T17:19:27.890Z"
   },
   {
    "duration": 5,
    "start_time": "2025-01-23T17:19:28.889Z"
   },
   {
    "duration": 8,
    "start_time": "2025-01-23T17:19:29.206Z"
   },
   {
    "duration": 26,
    "start_time": "2025-01-23T17:19:29.508Z"
   },
   {
    "duration": 26,
    "start_time": "2025-01-23T17:19:30.791Z"
   },
   {
    "duration": 10,
    "start_time": "2025-01-23T17:19:31.273Z"
   },
   {
    "duration": 22,
    "start_time": "2025-01-23T17:19:31.599Z"
   },
   {
    "duration": 18,
    "start_time": "2025-01-23T17:19:31.922Z"
   },
   {
    "duration": 28,
    "start_time": "2025-01-23T17:19:33.193Z"
   },
   {
    "duration": 27,
    "start_time": "2025-01-23T17:19:34.002Z"
   },
   {
    "duration": 27,
    "start_time": "2025-01-23T17:19:34.798Z"
   },
   {
    "duration": 28,
    "start_time": "2025-01-23T17:19:35.301Z"
   },
   {
    "duration": 331,
    "start_time": "2025-01-23T17:19:37.021Z"
   },
   {
    "duration": 27,
    "start_time": "2025-01-23T17:19:37.487Z"
   },
   {
    "duration": 2584,
    "start_time": "2025-01-23T17:19:38.805Z"
   },
   {
    "duration": 165,
    "start_time": "2025-01-23T17:19:41.391Z"
   },
   {
    "duration": 14,
    "start_time": "2025-01-23T17:19:45.270Z"
   },
   {
    "duration": 27,
    "start_time": "2025-01-23T17:19:47.597Z"
   },
   {
    "duration": 10,
    "start_time": "2025-01-23T17:19:57.254Z"
   },
   {
    "duration": 9,
    "start_time": "2025-01-23T17:20:41.376Z"
   },
   {
    "duration": 26,
    "start_time": "2025-01-23T17:22:51.693Z"
   },
   {
    "duration": 6,
    "start_time": "2025-01-23T17:23:52.194Z"
   },
   {
    "duration": 30,
    "start_time": "2025-01-23T17:24:30.481Z"
   },
   {
    "duration": 4,
    "start_time": "2025-01-23T17:25:25.233Z"
   },
   {
    "duration": 719,
    "start_time": "2025-01-23T17:26:23.290Z"
   },
   {
    "duration": 31,
    "start_time": "2025-01-23T17:26:24.388Z"
   },
   {
    "duration": 17,
    "start_time": "2025-01-23T17:26:25.044Z"
   },
   {
    "duration": 3037,
    "start_time": "2025-01-23T17:26:25.589Z"
   },
   {
    "duration": 10,
    "start_time": "2025-01-23T17:26:28.628Z"
   },
   {
    "duration": 11,
    "start_time": "2025-01-23T17:26:28.639Z"
   },
   {
    "duration": 24,
    "start_time": "2025-01-23T17:26:28.652Z"
   },
   {
    "duration": 37,
    "start_time": "2025-01-23T17:26:28.678Z"
   },
   {
    "duration": 22,
    "start_time": "2025-01-23T17:26:28.717Z"
   },
   {
    "duration": 9,
    "start_time": "2025-01-23T17:26:29.071Z"
   },
   {
    "duration": 31,
    "start_time": "2025-01-23T17:26:29.582Z"
   },
   {
    "duration": 7,
    "start_time": "2025-01-23T17:26:29.838Z"
   },
   {
    "duration": 8,
    "start_time": "2025-01-23T17:26:30.369Z"
   },
   {
    "duration": 14,
    "start_time": "2025-01-23T17:26:31.388Z"
   },
   {
    "duration": 6,
    "start_time": "2025-01-23T17:26:32.190Z"
   },
   {
    "duration": 10,
    "start_time": "2025-01-23T17:26:32.493Z"
   },
   {
    "duration": 28,
    "start_time": "2025-01-23T17:26:32.752Z"
   },
   {
    "duration": 26,
    "start_time": "2025-01-23T17:26:33.873Z"
   },
   {
    "duration": 10,
    "start_time": "2025-01-23T17:26:34.461Z"
   },
   {
    "duration": 22,
    "start_time": "2025-01-23T17:26:34.750Z"
   },
   {
    "duration": 19,
    "start_time": "2025-01-23T17:26:34.987Z"
   },
   {
    "duration": 28,
    "start_time": "2025-01-23T17:26:36.269Z"
   },
   {
    "duration": 28,
    "start_time": "2025-01-23T17:26:36.753Z"
   },
   {
    "duration": 27,
    "start_time": "2025-01-23T17:26:37.182Z"
   },
   {
    "duration": 26,
    "start_time": "2025-01-23T17:26:37.948Z"
   },
   {
    "duration": 352,
    "start_time": "2025-01-23T17:26:38.627Z"
   },
   {
    "duration": 25,
    "start_time": "2025-01-23T17:26:39.649Z"
   },
   {
    "duration": 2639,
    "start_time": "2025-01-23T17:26:41.470Z"
   },
   {
    "duration": 172,
    "start_time": "2025-01-23T17:26:44.111Z"
   },
   {
    "duration": 19,
    "start_time": "2025-01-23T17:26:44.285Z"
   },
   {
    "duration": 35,
    "start_time": "2025-01-23T17:26:50.213Z"
   },
   {
    "duration": 6,
    "start_time": "2025-01-23T17:27:52.033Z"
   },
   {
    "duration": 5,
    "start_time": "2025-01-23T17:31:30.611Z"
   },
   {
    "duration": 6,
    "start_time": "2025-01-23T17:31:37.921Z"
   },
   {
    "duration": 6,
    "start_time": "2025-01-23T17:31:53.804Z"
   },
   {
    "duration": 12,
    "start_time": "2025-01-23T17:39:13.295Z"
   },
   {
    "duration": 6,
    "start_time": "2025-01-23T17:39:14.106Z"
   },
   {
    "duration": 10,
    "start_time": "2025-01-23T17:39:45.530Z"
   },
   {
    "duration": 14,
    "start_time": "2025-01-23T17:43:21.473Z"
   },
   {
    "duration": 27,
    "start_time": "2025-01-23T17:43:22.280Z"
   },
   {
    "duration": 13,
    "start_time": "2025-01-23T17:43:23.650Z"
   },
   {
    "duration": 11,
    "start_time": "2025-01-23T17:43:24.564Z"
   },
   {
    "duration": 237,
    "start_time": "2025-01-23T17:44:15.027Z"
   },
   {
    "duration": 210,
    "start_time": "2025-01-23T17:46:34.174Z"
   },
   {
    "duration": 214,
    "start_time": "2025-01-23T17:47:16.253Z"
   },
   {
    "duration": 77,
    "start_time": "2025-01-23T18:15:20.676Z"
   },
   {
    "duration": 764,
    "start_time": "2025-01-23T18:18:11.144Z"
   },
   {
    "duration": 32,
    "start_time": "2025-01-23T18:18:12.321Z"
   },
   {
    "duration": 16,
    "start_time": "2025-01-23T18:18:13.677Z"
   },
   {
    "duration": 3008,
    "start_time": "2025-01-23T18:18:14.690Z"
   },
   {
    "duration": 10,
    "start_time": "2025-01-23T18:18:17.700Z"
   },
   {
    "duration": 23,
    "start_time": "2025-01-23T18:18:17.711Z"
   },
   {
    "duration": 28,
    "start_time": "2025-01-23T18:18:17.736Z"
   },
   {
    "duration": 37,
    "start_time": "2025-01-23T18:18:18.455Z"
   },
   {
    "duration": 8,
    "start_time": "2025-01-23T18:18:18.787Z"
   },
   {
    "duration": 8,
    "start_time": "2025-01-23T18:18:19.434Z"
   },
   {
    "duration": 29,
    "start_time": "2025-01-23T18:18:20.079Z"
   },
   {
    "duration": 6,
    "start_time": "2025-01-23T18:18:20.411Z"
   },
   {
    "duration": 8,
    "start_time": "2025-01-23T18:18:21.037Z"
   },
   {
    "duration": 15,
    "start_time": "2025-01-23T18:18:22.303Z"
   },
   {
    "duration": 5,
    "start_time": "2025-01-23T18:18:23.217Z"
   },
   {
    "duration": 9,
    "start_time": "2025-01-23T18:18:23.553Z"
   },
   {
    "duration": 26,
    "start_time": "2025-01-23T18:18:23.855Z"
   },
   {
    "duration": 25,
    "start_time": "2025-01-23T18:18:25.067Z"
   },
   {
    "duration": 13,
    "start_time": "2025-01-23T18:18:25.707Z"
   },
   {
    "duration": 22,
    "start_time": "2025-01-23T18:18:26.018Z"
   },
   {
    "duration": 19,
    "start_time": "2025-01-23T18:18:26.342Z"
   },
   {
    "duration": 27,
    "start_time": "2025-01-23T18:18:27.818Z"
   },
   {
    "duration": 29,
    "start_time": "2025-01-23T18:18:28.361Z"
   },
   {
    "duration": 27,
    "start_time": "2025-01-23T18:18:29.220Z"
   },
   {
    "duration": 28,
    "start_time": "2025-01-23T18:18:30.042Z"
   },
   {
    "duration": 355,
    "start_time": "2025-01-23T18:18:30.852Z"
   },
   {
    "duration": 27,
    "start_time": "2025-01-23T18:18:31.934Z"
   },
   {
    "duration": 2699,
    "start_time": "2025-01-23T18:18:33.882Z"
   },
   {
    "duration": 170,
    "start_time": "2025-01-23T18:18:36.584Z"
   },
   {
    "duration": 15,
    "start_time": "2025-01-23T18:18:36.756Z"
   },
   {
    "duration": 32,
    "start_time": "2025-01-23T18:18:36.773Z"
   },
   {
    "duration": 26,
    "start_time": "2025-01-23T18:18:36.806Z"
   },
   {
    "duration": 12,
    "start_time": "2025-01-23T18:18:36.840Z"
   },
   {
    "duration": 215,
    "start_time": "2025-01-23T18:18:47.775Z"
   },
   {
    "duration": 30808,
    "start_time": "2025-01-23T18:18:54.119Z"
   },
   {
    "duration": 1010,
    "start_time": "2025-01-24T07:52:31.403Z"
   },
   {
    "duration": 32,
    "start_time": "2025-01-24T07:52:32.963Z"
   },
   {
    "duration": 17,
    "start_time": "2025-01-24T07:52:33.808Z"
   },
   {
    "duration": 3067,
    "start_time": "2025-01-24T07:52:34.464Z"
   },
   {
    "duration": 11,
    "start_time": "2025-01-24T07:52:37.533Z"
   },
   {
    "duration": 41,
    "start_time": "2025-01-24T07:52:37.546Z"
   },
   {
    "duration": 17,
    "start_time": "2025-01-24T07:52:37.590Z"
   },
   {
    "duration": 42,
    "start_time": "2025-01-24T07:52:37.609Z"
   },
   {
    "duration": 7,
    "start_time": "2025-01-24T07:52:37.654Z"
   },
   {
    "duration": 8,
    "start_time": "2025-01-24T07:52:37.945Z"
   },
   {
    "duration": 30,
    "start_time": "2025-01-24T07:52:38.497Z"
   },
   {
    "duration": 6,
    "start_time": "2025-01-24T07:52:38.825Z"
   },
   {
    "duration": 8,
    "start_time": "2025-01-24T07:52:39.368Z"
   },
   {
    "duration": 15,
    "start_time": "2025-01-24T07:52:40.432Z"
   },
   {
    "duration": 6,
    "start_time": "2025-01-24T07:52:41.279Z"
   },
   {
    "duration": 9,
    "start_time": "2025-01-24T07:52:41.504Z"
   },
   {
    "duration": 27,
    "start_time": "2025-01-24T07:52:41.697Z"
   },
   {
    "duration": 27,
    "start_time": "2025-01-24T07:52:42.424Z"
   },
   {
    "duration": 11,
    "start_time": "2025-01-24T07:52:42.914Z"
   },
   {
    "duration": 23,
    "start_time": "2025-01-24T07:52:43.168Z"
   },
   {
    "duration": 20,
    "start_time": "2025-01-24T07:52:43.472Z"
   },
   {
    "duration": 31,
    "start_time": "2025-01-24T07:52:44.936Z"
   },
   {
    "duration": 30,
    "start_time": "2025-01-24T07:52:45.338Z"
   },
   {
    "duration": 30,
    "start_time": "2025-01-24T07:52:45.728Z"
   },
   {
    "duration": 29,
    "start_time": "2025-01-24T07:52:46.130Z"
   },
   {
    "duration": 386,
    "start_time": "2025-01-24T07:52:46.521Z"
   },
   {
    "duration": 44,
    "start_time": "2025-01-24T07:52:46.909Z"
   },
   {
    "duration": 2775,
    "start_time": "2025-01-24T07:52:47.800Z"
   },
   {
    "duration": 171,
    "start_time": "2025-01-24T07:52:50.577Z"
   },
   {
    "duration": 16,
    "start_time": "2025-01-24T07:52:50.750Z"
   },
   {
    "duration": 26,
    "start_time": "2025-01-24T07:52:50.768Z"
   },
   {
    "duration": 38,
    "start_time": "2025-01-24T07:52:50.796Z"
   },
   {
    "duration": 12,
    "start_time": "2025-01-24T07:53:05.753Z"
   },
   {
    "duration": 10,
    "start_time": "2025-01-24T07:53:06.881Z"
   },
   {
    "duration": 225,
    "start_time": "2025-01-24T07:53:58.978Z"
   },
   {
    "duration": 4,
    "start_time": "2025-01-24T08:02:16.316Z"
   },
   {
    "duration": 6594,
    "start_time": "2025-01-24T08:06:47.590Z"
   },
   {
    "duration": 1248,
    "start_time": "2025-01-24T08:11:28.312Z"
   },
   {
    "duration": 1346,
    "start_time": "2025-01-24T08:13:01.657Z"
   },
   {
    "duration": 1366,
    "start_time": "2025-01-24T08:13:44.336Z"
   },
   {
    "duration": 83,
    "start_time": "2025-01-24T08:34:37.258Z"
   },
   {
    "duration": 86,
    "start_time": "2025-01-24T08:35:44.883Z"
   },
   {
    "duration": 1497,
    "start_time": "2025-01-24T08:35:57.763Z"
   },
   {
    "duration": 104,
    "start_time": "2025-01-24T08:36:12.099Z"
   },
   {
    "duration": 79,
    "start_time": "2025-01-24T08:36:49.795Z"
   },
   {
    "duration": 94,
    "start_time": "2025-01-24T08:37:10.419Z"
   },
   {
    "duration": 1361,
    "start_time": "2025-01-24T08:37:18.739Z"
   },
   {
    "duration": 1527,
    "start_time": "2025-01-24T08:37:38.939Z"
   },
   {
    "duration": 90,
    "start_time": "2025-01-24T08:53:45.536Z"
   },
   {
    "duration": 807,
    "start_time": "2025-01-24T08:53:52.798Z"
   },
   {
    "duration": 32,
    "start_time": "2025-01-24T08:53:54.041Z"
   },
   {
    "duration": 16,
    "start_time": "2025-01-24T08:53:54.808Z"
   },
   {
    "duration": 3099,
    "start_time": "2025-01-24T08:53:55.328Z"
   },
   {
    "duration": 10,
    "start_time": "2025-01-24T08:53:58.428Z"
   },
   {
    "duration": 11,
    "start_time": "2025-01-24T08:53:58.440Z"
   },
   {
    "duration": 15,
    "start_time": "2025-01-24T08:53:58.453Z"
   },
   {
    "duration": 34,
    "start_time": "2025-01-24T08:53:58.470Z"
   },
   {
    "duration": 7,
    "start_time": "2025-01-24T08:53:58.531Z"
   },
   {
    "duration": 13,
    "start_time": "2025-01-24T08:53:58.539Z"
   },
   {
    "duration": 31,
    "start_time": "2025-01-24T08:53:58.570Z"
   },
   {
    "duration": 6,
    "start_time": "2025-01-24T08:53:58.744Z"
   },
   {
    "duration": 8,
    "start_time": "2025-01-24T08:53:59.104Z"
   },
   {
    "duration": 15,
    "start_time": "2025-01-24T08:53:59.864Z"
   },
   {
    "duration": 5,
    "start_time": "2025-01-24T08:54:00.456Z"
   },
   {
    "duration": 9,
    "start_time": "2025-01-24T08:54:00.640Z"
   },
   {
    "duration": 26,
    "start_time": "2025-01-24T08:54:01.001Z"
   },
   {
    "duration": 26,
    "start_time": "2025-01-24T08:54:01.776Z"
   },
   {
    "duration": 12,
    "start_time": "2025-01-24T08:54:02.240Z"
   },
   {
    "duration": 22,
    "start_time": "2025-01-24T08:54:02.440Z"
   },
   {
    "duration": 20,
    "start_time": "2025-01-24T08:54:02.656Z"
   },
   {
    "duration": 29,
    "start_time": "2025-01-24T08:54:03.441Z"
   },
   {
    "duration": 28,
    "start_time": "2025-01-24T08:54:03.841Z"
   },
   {
    "duration": 28,
    "start_time": "2025-01-24T08:54:04.257Z"
   },
   {
    "duration": 27,
    "start_time": "2025-01-24T08:54:04.640Z"
   },
   {
    "duration": 374,
    "start_time": "2025-01-24T08:54:05.025Z"
   },
   {
    "duration": 27,
    "start_time": "2025-01-24T08:54:05.456Z"
   },
   {
    "duration": 2793,
    "start_time": "2025-01-24T08:54:06.848Z"
   },
   {
    "duration": 178,
    "start_time": "2025-01-24T08:54:09.643Z"
   },
   {
    "duration": 20,
    "start_time": "2025-01-24T08:54:09.823Z"
   },
   {
    "duration": 26,
    "start_time": "2025-01-24T08:54:09.845Z"
   },
   {
    "duration": 20,
    "start_time": "2025-01-24T08:54:09.872Z"
   },
   {
    "duration": 10,
    "start_time": "2025-01-24T08:54:09.894Z"
   },
   {
    "duration": 227,
    "start_time": "2025-01-24T08:54:16.104Z"
   },
   {
    "duration": 4,
    "start_time": "2025-01-24T08:54:38.281Z"
   },
   {
    "duration": 992,
    "start_time": "2025-01-24T09:04:28.133Z"
   },
   {
    "duration": 1382,
    "start_time": "2025-01-24T09:05:39.174Z"
   },
   {
    "duration": 9,
    "start_time": "2025-01-24T09:16:21.113Z"
   },
   {
    "duration": 81,
    "start_time": "2025-01-24T09:17:45.393Z"
   },
   {
    "duration": 7,
    "start_time": "2025-01-24T09:17:52.018Z"
   },
   {
    "duration": 11,
    "start_time": "2025-01-24T09:18:00.376Z"
   },
   {
    "duration": 8,
    "start_time": "2025-01-24T09:18:17.200Z"
   },
   {
    "duration": 8,
    "start_time": "2025-01-24T09:18:24.225Z"
   },
   {
    "duration": 92,
    "start_time": "2025-01-24T09:23:00.044Z"
   },
   {
    "duration": 115,
    "start_time": "2025-01-24T09:23:11.657Z"
   },
   {
    "duration": 12,
    "start_time": "2025-01-24T09:23:48.243Z"
   },
   {
    "duration": 36,
    "start_time": "2025-01-24T09:24:04.411Z"
   },
   {
    "duration": 25,
    "start_time": "2025-01-24T09:25:39.477Z"
   },
   {
    "duration": 0,
    "start_time": "2025-01-24T09:26:37.938Z"
   },
   {
    "duration": 2113,
    "start_time": "2025-01-24T09:26:45.270Z"
   },
   {
    "duration": 11602,
    "start_time": "2025-01-24T09:27:39.349Z"
   },
   {
    "duration": 119,
    "start_time": "2025-01-24T09:29:52.463Z"
   },
   {
    "duration": 141,
    "start_time": "2025-01-24T09:32:11.311Z"
   },
   {
    "duration": 612,
    "start_time": "2025-01-24T09:49:28.974Z"
   },
   {
    "duration": 1453,
    "start_time": "2025-01-24T09:49:44.118Z"
   },
   {
    "duration": 136,
    "start_time": "2025-01-24T09:59:45.355Z"
   },
   {
    "duration": 377,
    "start_time": "2025-01-24T10:01:27.891Z"
   },
   {
    "duration": 27,
    "start_time": "2025-01-24T10:01:29.658Z"
   },
   {
    "duration": 2507,
    "start_time": "2025-01-24T10:01:30.242Z"
   },
   {
    "duration": 210,
    "start_time": "2025-01-24T10:01:32.752Z"
   },
   {
    "duration": 16,
    "start_time": "2025-01-24T10:01:32.964Z"
   },
   {
    "duration": 26,
    "start_time": "2025-01-24T10:01:32.983Z"
   },
   {
    "duration": 29,
    "start_time": "2025-01-24T10:01:33.011Z"
   },
   {
    "duration": 44,
    "start_time": "2025-01-24T10:01:33.042Z"
   },
   {
    "duration": 236,
    "start_time": "2025-01-24T10:01:33.842Z"
   },
   {
    "duration": 1650,
    "start_time": "2025-01-24T10:01:55.315Z"
   },
   {
    "duration": 150,
    "start_time": "2025-01-24T10:03:28.107Z"
   },
   {
    "duration": 139,
    "start_time": "2025-01-24T10:05:52.654Z"
   },
   {
    "duration": 16,
    "start_time": "2025-01-24T10:27:57.466Z"
   },
   {
    "duration": 109,
    "start_time": "2025-01-24T10:29:08.043Z"
   },
   {
    "duration": 23,
    "start_time": "2025-01-24T10:29:18.643Z"
   },
   {
    "duration": 22,
    "start_time": "2025-01-24T10:30:02.707Z"
   },
   {
    "duration": 25,
    "start_time": "2025-01-24T10:31:14.972Z"
   },
   {
    "duration": 28,
    "start_time": "2025-01-24T10:31:30.811Z"
   },
   {
    "duration": 29,
    "start_time": "2025-01-24T10:37:25.438Z"
   },
   {
    "duration": 26,
    "start_time": "2025-01-24T10:37:36.638Z"
   },
   {
    "duration": 1561,
    "start_time": "2025-01-24T10:39:58.679Z"
   },
   {
    "duration": 29,
    "start_time": "2025-01-24T10:42:12.474Z"
   },
   {
    "duration": 30,
    "start_time": "2025-01-24T10:42:59.968Z"
   },
   {
    "duration": 28,
    "start_time": "2025-01-24T10:43:23.657Z"
   },
   {
    "duration": 29,
    "start_time": "2025-01-24T10:43:57.801Z"
   },
   {
    "duration": 84,
    "start_time": "2025-01-24T10:44:42.818Z"
   },
   {
    "duration": 27,
    "start_time": "2025-01-24T10:44:50.120Z"
   },
   {
    "duration": 27,
    "start_time": "2025-01-24T10:45:05.681Z"
   },
   {
    "duration": 23,
    "start_time": "2025-01-24T10:45:45.200Z"
   },
   {
    "duration": 29,
    "start_time": "2025-01-24T10:49:47.754Z"
   },
   {
    "duration": 27,
    "start_time": "2025-01-24T10:49:55.323Z"
   },
   {
    "duration": 30,
    "start_time": "2025-01-24T10:54:28.972Z"
   },
   {
    "duration": 4,
    "start_time": "2025-01-24T12:15:52.127Z"
   },
   {
    "duration": 32,
    "start_time": "2025-01-24T12:17:16.551Z"
   },
   {
    "duration": 29,
    "start_time": "2025-01-24T12:17:52.522Z"
   },
   {
    "duration": 32,
    "start_time": "2025-01-24T12:18:07.809Z"
   },
   {
    "duration": 7,
    "start_time": "2025-01-24T12:18:38.623Z"
   },
   {
    "duration": 39,
    "start_time": "2025-01-24T12:18:52.129Z"
   },
   {
    "duration": 29,
    "start_time": "2025-01-24T12:19:43.585Z"
   },
   {
    "duration": 29,
    "start_time": "2025-01-24T12:21:12.385Z"
   },
   {
    "duration": 35,
    "start_time": "2025-01-24T12:22:04.689Z"
   },
   {
    "duration": 25,
    "start_time": "2025-01-24T12:35:08.557Z"
   },
   {
    "duration": 1988,
    "start_time": "2025-01-24T12:35:30.532Z"
   },
   {
    "duration": 180,
    "start_time": "2025-01-24T12:35:41.917Z"
   },
   {
    "duration": 397,
    "start_time": "2025-01-24T12:37:10.910Z"
   },
   {
    "duration": 401,
    "start_time": "2025-01-24T12:37:29.206Z"
   },
   {
    "duration": 411,
    "start_time": "2025-01-24T12:37:34.125Z"
   },
   {
    "duration": 396,
    "start_time": "2025-01-24T12:38:03.942Z"
   },
   {
    "duration": 335,
    "start_time": "2025-01-24T12:38:18.686Z"
   },
   {
    "duration": 324,
    "start_time": "2025-01-24T12:40:42.391Z"
   },
   {
    "duration": 25,
    "start_time": "2025-01-24T12:42:11.455Z"
   },
   {
    "duration": 29,
    "start_time": "2025-01-24T12:44:17.152Z"
   },
   {
    "duration": 30,
    "start_time": "2025-01-24T12:47:43.450Z"
   },
   {
    "duration": 26,
    "start_time": "2025-01-24T12:49:32.386Z"
   },
   {
    "duration": 21,
    "start_time": "2025-01-24T12:49:55.587Z"
   },
   {
    "duration": 322,
    "start_time": "2025-01-24T12:50:08.042Z"
   },
   {
    "duration": 26,
    "start_time": "2025-01-24T12:50:09.474Z"
   },
   {
    "duration": 323,
    "start_time": "2025-01-24T12:51:34.891Z"
   },
   {
    "duration": 150,
    "start_time": "2025-01-24T13:05:56.461Z"
   },
   {
    "duration": 98,
    "start_time": "2025-01-24T13:06:20.569Z"
   },
   {
    "duration": 311,
    "start_time": "2025-01-24T13:06:45.473Z"
   },
   {
    "duration": 81,
    "start_time": "2025-01-24T13:07:04.049Z"
   },
   {
    "duration": 92,
    "start_time": "2025-01-24T13:07:30.178Z"
   },
   {
    "duration": 86,
    "start_time": "2025-01-24T13:07:58.577Z"
   },
   {
    "duration": 13,
    "start_time": "2025-01-24T13:08:08.210Z"
   },
   {
    "duration": 12,
    "start_time": "2025-01-24T13:08:44.907Z"
   },
   {
    "duration": 26,
    "start_time": "2025-01-24T13:09:42.138Z"
   },
   {
    "duration": 316,
    "start_time": "2025-01-24T13:10:01.946Z"
   },
   {
    "duration": 325,
    "start_time": "2025-01-24T13:10:13.407Z"
   },
   {
    "duration": 947,
    "start_time": "2025-01-24T13:16:14.431Z"
   },
   {
    "duration": 31,
    "start_time": "2025-01-24T13:16:15.382Z"
   },
   {
    "duration": 17,
    "start_time": "2025-01-24T13:16:16.651Z"
   },
   {
    "duration": 3147,
    "start_time": "2025-01-24T13:16:20.956Z"
   },
   {
    "duration": 11,
    "start_time": "2025-01-24T13:16:37.101Z"
   },
   {
    "duration": 10,
    "start_time": "2025-01-24T13:16:41.069Z"
   },
   {
    "duration": 16,
    "start_time": "2025-01-24T13:17:04.324Z"
   },
   {
    "duration": 36,
    "start_time": "2025-01-24T13:17:09.724Z"
   },
   {
    "duration": 7,
    "start_time": "2025-01-24T13:17:10.149Z"
   },
   {
    "duration": 8,
    "start_time": "2025-01-24T13:17:14.566Z"
   },
   {
    "duration": 33,
    "start_time": "2025-01-24T13:17:17.700Z"
   },
   {
    "duration": 6,
    "start_time": "2025-01-24T13:17:18.094Z"
   },
   {
    "duration": 9,
    "start_time": "2025-01-24T13:17:21.111Z"
   },
   {
    "duration": 15,
    "start_time": "2025-01-24T13:17:34.548Z"
   },
   {
    "duration": 5,
    "start_time": "2025-01-24T13:17:37.172Z"
   },
   {
    "duration": 9,
    "start_time": "2025-01-24T13:17:38.054Z"
   },
   {
    "duration": 29,
    "start_time": "2025-01-24T13:17:38.589Z"
   },
   {
    "duration": 28,
    "start_time": "2025-01-24T13:17:51.022Z"
   },
   {
    "duration": 12,
    "start_time": "2025-01-24T13:17:52.509Z"
   },
   {
    "duration": 23,
    "start_time": "2025-01-24T13:17:53.021Z"
   },
   {
    "duration": 22,
    "start_time": "2025-01-24T13:17:54.269Z"
   },
   {
    "duration": 31,
    "start_time": "2025-01-24T13:18:07.117Z"
   },
   {
    "duration": 30,
    "start_time": "2025-01-24T13:18:07.925Z"
   },
   {
    "duration": 29,
    "start_time": "2025-01-24T13:18:08.957Z"
   },
   {
    "duration": 29,
    "start_time": "2025-01-24T13:18:09.789Z"
   },
   {
    "duration": 423,
    "start_time": "2025-01-24T13:18:11.678Z"
   },
   {
    "duration": 28,
    "start_time": "2025-01-24T13:18:13.568Z"
   },
   {
    "duration": 2854,
    "start_time": "2025-01-24T13:18:16.733Z"
   },
   {
    "duration": 204,
    "start_time": "2025-01-24T13:18:19.589Z"
   },
   {
    "duration": 15,
    "start_time": "2025-01-24T13:18:19.795Z"
   },
   {
    "duration": 27,
    "start_time": "2025-01-24T13:18:20.269Z"
   },
   {
    "duration": 12,
    "start_time": "2025-01-24T13:18:20.846Z"
   },
   {
    "duration": 9,
    "start_time": "2025-01-24T13:18:22.094Z"
   },
   {
    "duration": 237,
    "start_time": "2025-01-24T13:18:23.397Z"
   },
   {
    "duration": 1742,
    "start_time": "2025-01-24T13:18:30.013Z"
   },
   {
    "duration": 139,
    "start_time": "2025-01-24T13:18:31.954Z"
   },
   {
    "duration": 30,
    "start_time": "2025-01-24T13:18:35.206Z"
   },
   {
    "duration": 23,
    "start_time": "2025-01-24T13:18:36.334Z"
   },
   {
    "duration": 342,
    "start_time": "2025-01-24T13:18:36.725Z"
   },
   {
    "duration": 28,
    "start_time": "2025-01-24T13:18:37.132Z"
   },
   {
    "duration": 893,
    "start_time": "2025-01-24T14:23:38.683Z"
   },
   {
    "duration": 32,
    "start_time": "2025-01-24T14:23:39.578Z"
   },
   {
    "duration": 23,
    "start_time": "2025-01-24T14:23:39.612Z"
   },
   {
    "duration": 2921,
    "start_time": "2025-01-24T14:23:39.637Z"
   },
   {
    "duration": 10,
    "start_time": "2025-01-24T14:23:42.560Z"
   },
   {
    "duration": 13,
    "start_time": "2025-01-24T14:23:42.571Z"
   },
   {
    "duration": 13,
    "start_time": "2025-01-24T14:23:42.586Z"
   },
   {
    "duration": 39,
    "start_time": "2025-01-24T14:23:42.600Z"
   },
   {
    "duration": 5,
    "start_time": "2025-01-24T14:23:42.641Z"
   },
   {
    "duration": 9,
    "start_time": "2025-01-24T14:23:42.649Z"
   },
   {
    "duration": 27,
    "start_time": "2025-01-24T14:23:42.660Z"
   },
   {
    "duration": 34,
    "start_time": "2025-01-24T14:23:42.689Z"
   },
   {
    "duration": 8,
    "start_time": "2025-01-24T14:23:42.725Z"
   },
   {
    "duration": 14,
    "start_time": "2025-01-24T14:23:42.734Z"
   },
   {
    "duration": 4,
    "start_time": "2025-01-24T14:23:42.750Z"
   },
   {
    "duration": 26,
    "start_time": "2025-01-24T14:23:42.756Z"
   },
   {
    "duration": 39,
    "start_time": "2025-01-24T14:23:42.783Z"
   },
   {
    "duration": 24,
    "start_time": "2025-01-24T14:23:42.824Z"
   },
   {
    "duration": 10,
    "start_time": "2025-01-24T14:23:42.849Z"
   },
   {
    "duration": 20,
    "start_time": "2025-01-24T14:23:42.861Z"
   },
   {
    "duration": 46,
    "start_time": "2025-01-24T14:23:42.882Z"
   },
   {
    "duration": 27,
    "start_time": "2025-01-24T14:23:42.929Z"
   },
   {
    "duration": 26,
    "start_time": "2025-01-24T14:23:42.957Z"
   },
   {
    "duration": 51,
    "start_time": "2025-01-24T14:23:42.985Z"
   },
   {
    "duration": 26,
    "start_time": "2025-01-24T14:23:43.037Z"
   },
   {
    "duration": 362,
    "start_time": "2025-01-24T14:23:43.065Z"
   },
   {
    "duration": 23,
    "start_time": "2025-01-24T14:23:43.428Z"
   },
   {
    "duration": 2529,
    "start_time": "2025-01-24T14:23:43.454Z"
   },
   {
    "duration": 192,
    "start_time": "2025-01-24T14:23:45.985Z"
   },
   {
    "duration": 15,
    "start_time": "2025-01-24T14:23:46.179Z"
   },
   {
    "duration": 35,
    "start_time": "2025-01-24T14:23:46.196Z"
   },
   {
    "duration": 11,
    "start_time": "2025-01-24T14:23:46.233Z"
   },
   {
    "duration": 16,
    "start_time": "2025-01-24T14:23:46.246Z"
   },
   {
    "duration": 238,
    "start_time": "2025-01-24T14:23:46.264Z"
   },
   {
    "duration": 1620,
    "start_time": "2025-01-24T14:23:46.504Z"
   },
   {
    "duration": 178,
    "start_time": "2025-01-24T14:23:48.126Z"
   },
   {
    "duration": 44,
    "start_time": "2025-01-24T14:23:48.306Z"
   },
   {
    "duration": 21,
    "start_time": "2025-01-24T14:23:48.351Z"
   },
   {
    "duration": 333,
    "start_time": "2025-01-24T14:23:48.373Z"
   },
   {
    "duration": 29,
    "start_time": "2025-01-24T14:23:48.708Z"
   },
   {
    "duration": 476,
    "start_time": "2025-01-24T14:27:43.408Z"
   },
   {
    "duration": 39,
    "start_time": "2025-01-24T14:28:21.224Z"
   },
   {
    "duration": 70,
    "start_time": "2025-01-24T14:28:35.058Z"
   },
   {
    "duration": 4,
    "start_time": "2025-01-24T14:28:39.910Z"
   },
   {
    "duration": 3,
    "start_time": "2025-01-24T14:28:53.403Z"
   },
   {
    "duration": 15,
    "start_time": "2025-01-24T14:31:12.718Z"
   },
   {
    "duration": 187,
    "start_time": "2025-01-24T14:31:23.439Z"
   },
   {
    "duration": 161,
    "start_time": "2025-01-24T14:31:38.694Z"
   },
   {
    "duration": 146,
    "start_time": "2025-01-24T14:32:04.797Z"
   },
   {
    "duration": 728,
    "start_time": "2025-01-24T14:34:13.034Z"
   },
   {
    "duration": 28,
    "start_time": "2025-01-24T14:34:13.763Z"
   },
   {
    "duration": 28,
    "start_time": "2025-01-24T14:34:13.795Z"
   },
   {
    "duration": 2834,
    "start_time": "2025-01-24T14:34:13.824Z"
   },
   {
    "duration": 9,
    "start_time": "2025-01-24T14:34:16.660Z"
   },
   {
    "duration": 9,
    "start_time": "2025-01-24T14:34:16.670Z"
   },
   {
    "duration": 16,
    "start_time": "2025-01-24T14:34:16.680Z"
   },
   {
    "duration": 32,
    "start_time": "2025-01-24T14:34:16.697Z"
   },
   {
    "duration": 6,
    "start_time": "2025-01-24T14:34:16.732Z"
   },
   {
    "duration": 13,
    "start_time": "2025-01-24T14:34:16.740Z"
   },
   {
    "duration": 28,
    "start_time": "2025-01-24T14:34:16.755Z"
   },
   {
    "duration": 6,
    "start_time": "2025-01-24T14:34:16.785Z"
   },
   {
    "duration": 37,
    "start_time": "2025-01-24T14:34:16.793Z"
   },
   {
    "duration": 31,
    "start_time": "2025-01-24T14:34:16.832Z"
   },
   {
    "duration": 9,
    "start_time": "2025-01-24T14:34:16.865Z"
   },
   {
    "duration": 27,
    "start_time": "2025-01-24T14:34:16.876Z"
   },
   {
    "duration": 38,
    "start_time": "2025-01-24T14:34:16.905Z"
   },
   {
    "duration": 24,
    "start_time": "2025-01-24T14:34:16.945Z"
   },
   {
    "duration": 27,
    "start_time": "2025-01-24T14:34:16.971Z"
   },
   {
    "duration": 30,
    "start_time": "2025-01-24T14:34:17.000Z"
   },
   {
    "duration": 18,
    "start_time": "2025-01-24T14:34:17.032Z"
   },
   {
    "duration": 27,
    "start_time": "2025-01-24T14:34:17.052Z"
   },
   {
    "duration": 56,
    "start_time": "2025-01-24T14:34:17.081Z"
   },
   {
    "duration": 26,
    "start_time": "2025-01-24T14:34:17.139Z"
   },
   {
    "duration": 26,
    "start_time": "2025-01-24T14:34:17.167Z"
   },
   {
    "duration": 366,
    "start_time": "2025-01-24T14:34:17.195Z"
   },
   {
    "duration": 24,
    "start_time": "2025-01-24T14:34:17.566Z"
   },
   {
    "duration": 2704,
    "start_time": "2025-01-24T14:34:17.591Z"
   },
   {
    "duration": 536,
    "start_time": "2025-01-24T14:34:20.297Z"
   },
   {
    "duration": 183,
    "start_time": "2025-01-24T14:34:20.835Z"
   },
   {
    "duration": 17,
    "start_time": "2025-01-24T14:34:21.021Z"
   },
   {
    "duration": 13,
    "start_time": "2025-01-24T14:34:21.041Z"
   },
   {
    "duration": 47,
    "start_time": "2025-01-24T14:34:21.056Z"
   },
   {
    "duration": 26,
    "start_time": "2025-01-24T14:34:21.105Z"
   },
   {
    "duration": 11,
    "start_time": "2025-01-24T14:34:21.133Z"
   },
   {
    "duration": 243,
    "start_time": "2025-01-24T14:34:21.146Z"
   },
   {
    "duration": 1597,
    "start_time": "2025-01-24T14:34:21.391Z"
   },
   {
    "duration": 177,
    "start_time": "2025-01-24T14:34:22.990Z"
   },
   {
    "duration": 133,
    "start_time": "2025-01-24T14:34:23.168Z"
   },
   {
    "duration": 40,
    "start_time": "2025-01-24T14:34:23.303Z"
   },
   {
    "duration": 20,
    "start_time": "2025-01-24T14:34:23.345Z"
   },
   {
    "duration": 338,
    "start_time": "2025-01-24T14:34:23.366Z"
   },
   {
    "duration": 33,
    "start_time": "2025-01-24T14:34:23.706Z"
   },
   {
    "duration": 943,
    "start_time": "2025-01-24T15:16:11.337Z"
   },
   {
    "duration": 121,
    "start_time": "2025-01-24T15:16:12.282Z"
   },
   {
    "duration": 33,
    "start_time": "2025-01-24T15:16:13.346Z"
   },
   {
    "duration": 20,
    "start_time": "2025-01-24T15:16:16.070Z"
   },
   {
    "duration": 3270,
    "start_time": "2025-01-24T15:16:18.550Z"
   },
   {
    "duration": 11,
    "start_time": "2025-01-24T15:16:32.469Z"
   },
   {
    "duration": 11,
    "start_time": "2025-01-24T15:16:32.949Z"
   },
   {
    "duration": 16,
    "start_time": "2025-01-24T15:16:37.117Z"
   },
   {
    "duration": 36,
    "start_time": "2025-01-24T15:26:03.938Z"
   },
   {
    "duration": 8,
    "start_time": "2025-01-24T15:26:04.665Z"
   },
   {
    "duration": 10,
    "start_time": "2025-01-24T15:26:05.760Z"
   },
   {
    "duration": 32,
    "start_time": "2025-01-24T15:26:06.569Z"
   },
   {
    "duration": 8,
    "start_time": "2025-01-24T15:26:06.888Z"
   },
   {
    "duration": 9,
    "start_time": "2025-01-24T15:26:07.720Z"
   },
   {
    "duration": 16,
    "start_time": "2025-01-24T15:26:09.384Z"
   },
   {
    "duration": 6,
    "start_time": "2025-01-24T15:26:10.840Z"
   },
   {
    "duration": 9,
    "start_time": "2025-01-24T15:26:34.858Z"
   },
   {
    "duration": 29,
    "start_time": "2025-01-24T15:26:35.712Z"
   },
   {
    "duration": 31,
    "start_time": "2025-01-24T15:27:36.201Z"
   },
   {
    "duration": 29,
    "start_time": "2025-01-24T15:27:37.817Z"
   },
   {
    "duration": 12,
    "start_time": "2025-01-24T15:27:38.729Z"
   },
   {
    "duration": 24,
    "start_time": "2025-01-24T15:27:39.193Z"
   },
   {
    "duration": 21,
    "start_time": "2025-01-24T15:27:39.722Z"
   },
   {
    "duration": 32,
    "start_time": "2025-01-24T15:27:41.234Z"
   },
   {
    "duration": 31,
    "start_time": "2025-01-24T15:27:41.800Z"
   },
   {
    "duration": 31,
    "start_time": "2025-01-24T15:27:42.226Z"
   },
   {
    "duration": 30,
    "start_time": "2025-01-24T15:27:42.705Z"
   },
   {
    "duration": 390,
    "start_time": "2025-01-24T15:27:43.481Z"
   },
   {
    "duration": 39,
    "start_time": "2025-01-24T15:29:54.475Z"
   },
   {
    "duration": 853,
    "start_time": "2025-01-25T14:31:11.444Z"
   },
   {
    "duration": 112,
    "start_time": "2025-01-25T14:31:12.299Z"
   },
   {
    "duration": 31,
    "start_time": "2025-01-25T14:31:13.024Z"
   },
   {
    "duration": 17,
    "start_time": "2025-01-25T14:31:13.535Z"
   },
   {
    "duration": 3006,
    "start_time": "2025-01-25T14:31:14.198Z"
   },
   {
    "duration": 11,
    "start_time": "2025-01-25T14:31:17.206Z"
   },
   {
    "duration": 10,
    "start_time": "2025-01-25T14:31:17.219Z"
   },
   {
    "duration": 19,
    "start_time": "2025-01-25T14:31:17.232Z"
   },
   {
    "duration": 32,
    "start_time": "2025-01-25T14:31:20.596Z"
   },
   {
    "duration": 7,
    "start_time": "2025-01-25T14:31:21.077Z"
   },
   {
    "duration": 8,
    "start_time": "2025-01-25T14:31:22.208Z"
   },
   {
    "duration": 31,
    "start_time": "2025-01-25T14:31:23.865Z"
   },
   {
    "duration": 9,
    "start_time": "2025-01-25T14:31:24.305Z"
   },
   {
    "duration": 10,
    "start_time": "2025-01-25T14:31:25.159Z"
   },
   {
    "duration": 14,
    "start_time": "2025-01-25T14:31:27.424Z"
   },
   {
    "duration": 6,
    "start_time": "2025-01-25T14:31:29.541Z"
   },
   {
    "duration": 9,
    "start_time": "2025-01-25T14:31:30.113Z"
   },
   {
    "duration": 26,
    "start_time": "2025-01-25T14:31:32.495Z"
   },
   {
    "duration": 25,
    "start_time": "2025-01-25T14:31:34.409Z"
   },
   {
    "duration": 11,
    "start_time": "2025-01-25T14:31:35.811Z"
   },
   {
    "duration": 22,
    "start_time": "2025-01-25T14:31:37.073Z"
   },
   {
    "duration": 21,
    "start_time": "2025-01-25T14:31:37.400Z"
   },
   {
    "duration": 29,
    "start_time": "2025-01-25T14:31:40.215Z"
   },
   {
    "duration": 28,
    "start_time": "2025-01-25T14:31:40.684Z"
   },
   {
    "duration": 28,
    "start_time": "2025-01-25T14:31:41.664Z"
   },
   {
    "duration": 26,
    "start_time": "2025-01-25T14:31:42.623Z"
   },
   {
    "duration": 340,
    "start_time": "2025-01-25T14:31:44.381Z"
   },
   {
    "duration": 24,
    "start_time": "2025-01-25T14:31:48.236Z"
   },
   {
    "duration": 5560,
    "start_time": "2025-01-25T14:41:46.904Z"
   },
   {
    "duration": 5464,
    "start_time": "2025-01-25T14:45:34.479Z"
   },
   {
    "duration": 5659,
    "start_time": "2025-01-25T14:45:51.788Z"
   },
   {
    "duration": 5368,
    "start_time": "2025-01-25T14:46:05.768Z"
   },
   {
    "duration": 5642,
    "start_time": "2025-01-25T14:46:32.343Z"
   },
   {
    "duration": 5558,
    "start_time": "2025-01-25T14:46:39.750Z"
   },
   {
    "duration": 4886,
    "start_time": "2025-01-25T14:49:43.567Z"
   },
   {
    "duration": 4765,
    "start_time": "2025-01-25T14:55:12.797Z"
   },
   {
    "duration": 4966,
    "start_time": "2025-01-25T14:58:35.155Z"
   },
   {
    "duration": 5044,
    "start_time": "2025-01-25T14:58:41.758Z"
   },
   {
    "duration": 4658,
    "start_time": "2025-01-25T15:04:22.093Z"
   },
   {
    "duration": 4750,
    "start_time": "2025-01-25T15:04:32.717Z"
   },
   {
    "duration": 4674,
    "start_time": "2025-01-25T15:05:06.624Z"
   },
   {
    "duration": 4825,
    "start_time": "2025-01-25T15:08:37.312Z"
   },
   {
    "duration": 4605,
    "start_time": "2025-01-25T15:08:55.761Z"
   },
   {
    "duration": 4598,
    "start_time": "2025-01-25T15:09:22.486Z"
   },
   {
    "duration": 5058,
    "start_time": "2025-01-25T15:26:37.419Z"
   },
   {
    "duration": 4863,
    "start_time": "2025-01-25T15:29:38.720Z"
   },
   {
    "duration": 203,
    "start_time": "2025-01-25T15:29:43.585Z"
   },
   {
    "duration": 25,
    "start_time": "2025-01-25T15:29:43.790Z"
   },
   {
    "duration": 4,
    "start_time": "2025-01-25T15:29:43.817Z"
   },
   {
    "duration": 13,
    "start_time": "2025-01-25T15:30:10.086Z"
   },
   {
    "duration": 5,
    "start_time": "2025-01-25T15:30:11.005Z"
   },
   {
    "duration": 11,
    "start_time": "2025-01-25T15:30:27.998Z"
   },
   {
    "duration": 4,
    "start_time": "2025-01-25T15:30:28.469Z"
   },
   {
    "duration": 13,
    "start_time": "2025-01-25T15:30:50.225Z"
   },
   {
    "duration": 5,
    "start_time": "2025-01-25T15:30:51.029Z"
   },
   {
    "duration": 5359,
    "start_time": "2025-01-25T15:35:29.166Z"
   },
   {
    "duration": 166,
    "start_time": "2025-01-25T15:38:56.064Z"
   },
   {
    "duration": 10,
    "start_time": "2025-01-25T15:42:03.979Z"
   },
   {
    "duration": 4,
    "start_time": "2025-01-25T15:42:04.247Z"
   },
   {
    "duration": 24,
    "start_time": "2025-01-25T15:43:29.839Z"
   },
   {
    "duration": 13,
    "start_time": "2025-01-25T15:43:34.543Z"
   },
   {
    "duration": 9,
    "start_time": "2025-01-25T15:43:35.498Z"
   },
   {
    "duration": 200,
    "start_time": "2025-01-25T15:52:37.436Z"
   },
   {
    "duration": 1691,
    "start_time": "2025-01-25T15:54:20.224Z"
   },
   {
    "duration": 1646,
    "start_time": "2025-01-25T15:54:52.568Z"
   },
   {
    "duration": 1738,
    "start_time": "2025-01-25T15:55:01.453Z"
   },
   {
    "duration": 4,
    "start_time": "2025-01-25T16:02:55.561Z"
   },
   {
    "duration": 215,
    "start_time": "2025-01-25T16:03:17.265Z"
   },
   {
    "duration": 228,
    "start_time": "2025-01-25T16:04:29.335Z"
   },
   {
    "duration": 294,
    "start_time": "2025-01-25T16:04:37.299Z"
   },
   {
    "duration": 230,
    "start_time": "2025-01-25T16:10:53.871Z"
   },
   {
    "duration": 228,
    "start_time": "2025-01-25T16:11:02.823Z"
   },
   {
    "duration": 229,
    "start_time": "2025-01-25T16:11:14.618Z"
   },
   {
    "duration": 149,
    "start_time": "2025-01-25T16:11:49.023Z"
   },
   {
    "duration": 9,
    "start_time": "2025-01-25T16:11:55.825Z"
   },
   {
    "duration": 5,
    "start_time": "2025-01-25T16:11:56.155Z"
   },
   {
    "duration": 26,
    "start_time": "2025-01-25T16:11:58.968Z"
   },
   {
    "duration": 13,
    "start_time": "2025-01-25T16:11:59.407Z"
   },
   {
    "duration": 11,
    "start_time": "2025-01-25T16:11:59.733Z"
   },
   {
    "duration": 246,
    "start_time": "2025-01-25T16:12:05.713Z"
   },
   {
    "duration": 1450,
    "start_time": "2025-01-25T16:14:43.400Z"
   },
   {
    "duration": 1639,
    "start_time": "2025-01-25T16:14:54.553Z"
   },
   {
    "duration": 1433,
    "start_time": "2025-01-25T16:15:01.824Z"
   },
   {
    "duration": 1374,
    "start_time": "2025-01-25T16:15:11.443Z"
   },
   {
    "duration": 1456,
    "start_time": "2025-01-25T16:15:41.266Z"
   },
   {
    "duration": 1466,
    "start_time": "2025-01-25T16:16:39.969Z"
   },
   {
    "duration": 148,
    "start_time": "2025-01-25T16:16:45.273Z"
   },
   {
    "duration": 32,
    "start_time": "2025-01-25T16:17:45.194Z"
   },
   {
    "duration": 22,
    "start_time": "2025-01-25T16:21:23.376Z"
   },
   {
    "duration": 345,
    "start_time": "2025-01-25T16:21:24.315Z"
   },
   {
    "duration": 46,
    "start_time": "2025-01-25T16:21:25.053Z"
   }
  ],
  "colab": {
   "provenance": []
  },
  "kernelspec": {
   "display_name": "Python 3 (ipykernel)",
   "language": "python",
   "name": "python3"
  },
  "language_info": {
   "codemirror_mode": {
    "name": "ipython",
    "version": 3
   },
   "file_extension": ".py",
   "mimetype": "text/x-python",
   "name": "python",
   "nbconvert_exporter": "python",
   "pygments_lexer": "ipython3",
   "version": "3.12.7"
  },
  "toc": {
   "base_numbering": 1,
   "nav_menu": {},
   "number_sections": true,
   "sideBar": true,
   "skip_h1_title": true,
   "title_cell": "Table of Contents",
   "title_sidebar": "Contents",
   "toc_cell": false,
   "toc_position": {},
   "toc_section_display": true,
   "toc_window_display": false
  }
 },
 "nbformat": 4,
 "nbformat_minor": 4
}
