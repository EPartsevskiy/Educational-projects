{
 "cells": [
  {
   "cell_type": "markdown",
   "id": "902faa5a",
   "metadata": {},
   "source": [
    "<div style=\"border:solid green 3px; padding: 20px\">\n",
    "<b>🥇 Егор, спасибо за доработки, проект принят, молодец!</b>\n",
    "    \n",
    "Ты провел  хорошую работу над ошибками! Уверен, ты обязательно достигнешь своей цели! Успехов в дальнейшем обучении! 🙂\n",
    "    "
   ]
  },
  {
   "cell_type": "markdown",
   "metadata": {},
   "source": [
    "<div style=\"border:solid green 2px; padding: 20px\">\n",
    "Егор, привет! Меня зовут Ефимов Денис и сегодня я буду делать ревью твоего проекта!\n",
    "    \n",
    "В Практикуме принято общаться на \"ты\", однако если это неудобно - дай знать, и можем перейти на более официальное общение.\n",
    "\n",
    "Ниже ты найдешь мои комментарии - пожалуйста, не перемещай, не изменяй и не удаляй их. Я буду использовать цветовую разметку: \n",
    "\n",
    "<div class=\"alert alert-block alert-success\">\n",
    "<b>✅Комментарий ревьюера:</b> Если все сделано хорошо. </div>\n",
    "\n",
    "<div class=\"alert alert-block alert-warning\">\n",
    "<b>🔁Комментарий ревьюера:</b> Некритичное замечание, рекомендация.</div>\n",
    "\n",
    "<div class=\"alert alert-block alert-danger\">\n",
    "<b>❌Комментарий ревьюера:</b> Грубая ошибка, необходимо исправить, иначе проект не будет принят.\n",
    "</div>\n",
    "\n",
    "Давай работать над проектом в диалоге: если ты что-то меняешь в проекте или отвечаешь на мои комментарии — пиши об этом. Мне будет легче отследить изменения, если ты выделишь свои комментарии:\n",
    "Например так:\n",
    "<div class=\"alert alert-block alert-info\">\n",
    "<b>🔄Комментарий студента:</b> \n",
    "Hello World! ✔\n",
    "</div>\n",
    "\n",
    "Или можешь использовать эту галочку ✔ в моих комментариях, если писать особо нечего.\n",
    "\n",
    "<div class=\"alert alert-block alert-warning\">\n",
    "<b>Общее впечатление:</b> \n",
    "    \n",
    "- Ты проделал огромную работу :)\n",
    "- У меня есть несколько замечаний, исправив которые ты сделаешь проект  лучше.\n",
    "- Пробегись по моим комментариям, исправь недочёты и всё будет отлично :)\n",
    "    \n",
    "</div>\n",
    "\n"
   ]
  },
  {
   "cell_type": "markdown",
   "metadata": {
    "id": "-VFbjcb3Awb7"
   },
   "source": [
    "# Исследование объявлений о продаже квартир\n",
    "\n",
    "В вашем распоряжении данные сервиса Яндекс Недвижимость — архив объявлений о продаже квартир в Санкт-Петербурге и соседних населённых пунктах за несколько лет. Вам нужно научиться определять рыночную стоимость объектов недвижимости. Для этого проведите исследовательский анализ данных и установите параметры, влияющие на цену объектов. Это позволит построить автоматизированную систему: она отследит аномалии и мошенническую деятельность.\n",
    "\n",
    "По каждой квартире на продажу доступны два вида данных. Первые вписаны пользователем, вторые — получены автоматически на основе картографических данных. Например, расстояние до центра, аэропорта и других объектов — эти данные автоматически получены из геосервисов. Количество парков и водоёмов также заполняется без участия пользователя."
   ]
  },
  {
   "cell_type": "markdown",
   "metadata": {
    "id": "aeFLH07FAwb9"
   },
   "source": [
    "### Откройте файл с данными и изучите общую информацию"
   ]
  },
  {
   "cell_type": "markdown",
   "metadata": {},
   "source": [
    "#### Импортирование библиотек и открытие файла"
   ]
  },
  {
   "cell_type": "code",
   "execution_count": 1,
   "metadata": {
    "id": "7MZxY65pAwb9"
   },
   "outputs": [],
   "source": [
    "import pandas as pd\n",
    "import matplotlib.pyplot as plt"
   ]
  },
  {
   "cell_type": "code",
   "execution_count": 2,
   "metadata": {},
   "outputs": [],
   "source": [
    "data = pd.read_csv('/datasets/real_estate_data.csv', sep='\\t')"
   ]
  },
  {
   "cell_type": "markdown",
   "metadata": {},
   "source": [
    "<div class=\"alert alert-block alert-warning\">\n",
    "<b>🔁Комментарий ревьюера:</b> \n",
    "    \n",
    "Импорт всех библиотек лучше делать в одной отдельной ячейке, чтобы при необходимости можно было ее перезапустить без влияния на другой код и перезаписи датафрейма. </div>"
   ]
  },
  {
   "cell_type": "markdown",
   "id": "12e47024",
   "metadata": {},
   "source": [
    "<div class=\"alert alert-block alert-success\">\n",
    "<b>✅Комментарий ревьюера 2:</b> Отлично, исправлено!👍  </div>"
   ]
  },
  {
   "cell_type": "markdown",
   "metadata": {},
   "source": [
    "<div class=\"alert alert-block alert-info\">\n",
    "<b>🔄Комментарий студента:</b> \n",
    "Понял, принял. Возьму на заметку. Здесь исправил\n",
    "</div>"
   ]
  },
  {
   "cell_type": "code",
   "execution_count": 3,
   "metadata": {},
   "outputs": [
    {
     "data": {
      "text/html": [
       "<div>\n",
       "<style scoped>\n",
       "    .dataframe tbody tr th:only-of-type {\n",
       "        vertical-align: middle;\n",
       "    }\n",
       "\n",
       "    .dataframe tbody tr th {\n",
       "        vertical-align: top;\n",
       "    }\n",
       "\n",
       "    .dataframe thead th {\n",
       "        text-align: right;\n",
       "    }\n",
       "</style>\n",
       "<table border=\"1\" class=\"dataframe\">\n",
       "  <thead>\n",
       "    <tr style=\"text-align: right;\">\n",
       "      <th></th>\n",
       "      <th>total_images</th>\n",
       "      <th>last_price</th>\n",
       "      <th>total_area</th>\n",
       "      <th>first_day_exposition</th>\n",
       "      <th>rooms</th>\n",
       "      <th>ceiling_height</th>\n",
       "      <th>floors_total</th>\n",
       "      <th>living_area</th>\n",
       "      <th>floor</th>\n",
       "      <th>is_apartment</th>\n",
       "      <th>...</th>\n",
       "      <th>kitchen_area</th>\n",
       "      <th>balcony</th>\n",
       "      <th>locality_name</th>\n",
       "      <th>airports_nearest</th>\n",
       "      <th>cityCenters_nearest</th>\n",
       "      <th>parks_around3000</th>\n",
       "      <th>parks_nearest</th>\n",
       "      <th>ponds_around3000</th>\n",
       "      <th>ponds_nearest</th>\n",
       "      <th>days_exposition</th>\n",
       "    </tr>\n",
       "  </thead>\n",
       "  <tbody>\n",
       "    <tr>\n",
       "      <th>0</th>\n",
       "      <td>20</td>\n",
       "      <td>13000000.0</td>\n",
       "      <td>108.0</td>\n",
       "      <td>2019-03-07T00:00:00</td>\n",
       "      <td>3</td>\n",
       "      <td>2.70</td>\n",
       "      <td>16.0</td>\n",
       "      <td>51.0</td>\n",
       "      <td>8</td>\n",
       "      <td>NaN</td>\n",
       "      <td>...</td>\n",
       "      <td>25.0</td>\n",
       "      <td>NaN</td>\n",
       "      <td>Санкт-Петербург</td>\n",
       "      <td>18863.0</td>\n",
       "      <td>16028.0</td>\n",
       "      <td>1.0</td>\n",
       "      <td>482.0</td>\n",
       "      <td>2.0</td>\n",
       "      <td>755.0</td>\n",
       "      <td>NaN</td>\n",
       "    </tr>\n",
       "    <tr>\n",
       "      <th>1</th>\n",
       "      <td>7</td>\n",
       "      <td>3350000.0</td>\n",
       "      <td>40.4</td>\n",
       "      <td>2018-12-04T00:00:00</td>\n",
       "      <td>1</td>\n",
       "      <td>NaN</td>\n",
       "      <td>11.0</td>\n",
       "      <td>18.6</td>\n",
       "      <td>1</td>\n",
       "      <td>NaN</td>\n",
       "      <td>...</td>\n",
       "      <td>11.0</td>\n",
       "      <td>2.0</td>\n",
       "      <td>посёлок Шушары</td>\n",
       "      <td>12817.0</td>\n",
       "      <td>18603.0</td>\n",
       "      <td>0.0</td>\n",
       "      <td>NaN</td>\n",
       "      <td>0.0</td>\n",
       "      <td>NaN</td>\n",
       "      <td>81.0</td>\n",
       "    </tr>\n",
       "    <tr>\n",
       "      <th>2</th>\n",
       "      <td>10</td>\n",
       "      <td>5196000.0</td>\n",
       "      <td>56.0</td>\n",
       "      <td>2015-08-20T00:00:00</td>\n",
       "      <td>2</td>\n",
       "      <td>NaN</td>\n",
       "      <td>5.0</td>\n",
       "      <td>34.3</td>\n",
       "      <td>4</td>\n",
       "      <td>NaN</td>\n",
       "      <td>...</td>\n",
       "      <td>8.3</td>\n",
       "      <td>0.0</td>\n",
       "      <td>Санкт-Петербург</td>\n",
       "      <td>21741.0</td>\n",
       "      <td>13933.0</td>\n",
       "      <td>1.0</td>\n",
       "      <td>90.0</td>\n",
       "      <td>2.0</td>\n",
       "      <td>574.0</td>\n",
       "      <td>558.0</td>\n",
       "    </tr>\n",
       "    <tr>\n",
       "      <th>3</th>\n",
       "      <td>0</td>\n",
       "      <td>64900000.0</td>\n",
       "      <td>159.0</td>\n",
       "      <td>2015-07-24T00:00:00</td>\n",
       "      <td>3</td>\n",
       "      <td>NaN</td>\n",
       "      <td>14.0</td>\n",
       "      <td>NaN</td>\n",
       "      <td>9</td>\n",
       "      <td>NaN</td>\n",
       "      <td>...</td>\n",
       "      <td>NaN</td>\n",
       "      <td>0.0</td>\n",
       "      <td>Санкт-Петербург</td>\n",
       "      <td>28098.0</td>\n",
       "      <td>6800.0</td>\n",
       "      <td>2.0</td>\n",
       "      <td>84.0</td>\n",
       "      <td>3.0</td>\n",
       "      <td>234.0</td>\n",
       "      <td>424.0</td>\n",
       "    </tr>\n",
       "    <tr>\n",
       "      <th>4</th>\n",
       "      <td>2</td>\n",
       "      <td>10000000.0</td>\n",
       "      <td>100.0</td>\n",
       "      <td>2018-06-19T00:00:00</td>\n",
       "      <td>2</td>\n",
       "      <td>3.03</td>\n",
       "      <td>14.0</td>\n",
       "      <td>32.0</td>\n",
       "      <td>13</td>\n",
       "      <td>NaN</td>\n",
       "      <td>...</td>\n",
       "      <td>41.0</td>\n",
       "      <td>NaN</td>\n",
       "      <td>Санкт-Петербург</td>\n",
       "      <td>31856.0</td>\n",
       "      <td>8098.0</td>\n",
       "      <td>2.0</td>\n",
       "      <td>112.0</td>\n",
       "      <td>1.0</td>\n",
       "      <td>48.0</td>\n",
       "      <td>121.0</td>\n",
       "    </tr>\n",
       "  </tbody>\n",
       "</table>\n",
       "<p>5 rows × 22 columns</p>\n",
       "</div>"
      ],
      "text/plain": [
       "   total_images  last_price  total_area first_day_exposition  rooms  \\\n",
       "0            20  13000000.0       108.0  2019-03-07T00:00:00      3   \n",
       "1             7   3350000.0        40.4  2018-12-04T00:00:00      1   \n",
       "2            10   5196000.0        56.0  2015-08-20T00:00:00      2   \n",
       "3             0  64900000.0       159.0  2015-07-24T00:00:00      3   \n",
       "4             2  10000000.0       100.0  2018-06-19T00:00:00      2   \n",
       "\n",
       "   ceiling_height  floors_total  living_area  floor is_apartment  ...  \\\n",
       "0            2.70          16.0         51.0      8          NaN  ...   \n",
       "1             NaN          11.0         18.6      1          NaN  ...   \n",
       "2             NaN           5.0         34.3      4          NaN  ...   \n",
       "3             NaN          14.0          NaN      9          NaN  ...   \n",
       "4            3.03          14.0         32.0     13          NaN  ...   \n",
       "\n",
       "   kitchen_area  balcony    locality_name  airports_nearest  \\\n",
       "0          25.0      NaN  Санкт-Петербург           18863.0   \n",
       "1          11.0      2.0   посёлок Шушары           12817.0   \n",
       "2           8.3      0.0  Санкт-Петербург           21741.0   \n",
       "3           NaN      0.0  Санкт-Петербург           28098.0   \n",
       "4          41.0      NaN  Санкт-Петербург           31856.0   \n",
       "\n",
       "  cityCenters_nearest  parks_around3000  parks_nearest  ponds_around3000  \\\n",
       "0             16028.0               1.0          482.0               2.0   \n",
       "1             18603.0               0.0            NaN               0.0   \n",
       "2             13933.0               1.0           90.0               2.0   \n",
       "3              6800.0               2.0           84.0               3.0   \n",
       "4              8098.0               2.0          112.0               1.0   \n",
       "\n",
       "   ponds_nearest  days_exposition  \n",
       "0          755.0              NaN  \n",
       "1            NaN             81.0  \n",
       "2          574.0            558.0  \n",
       "3          234.0            424.0  \n",
       "4           48.0            121.0  \n",
       "\n",
       "[5 rows x 22 columns]"
      ]
     },
     "metadata": {},
     "output_type": "display_data"
    }
   ],
   "source": [
    "display(data.head())"
   ]
  },
  {
   "cell_type": "markdown",
   "metadata": {},
   "source": [
    "#### Получение первичной информации о данных"
   ]
  },
  {
   "cell_type": "code",
   "execution_count": 4,
   "metadata": {},
   "outputs": [
    {
     "name": "stdout",
     "output_type": "stream",
     "text": [
      "<class 'pandas.core.frame.DataFrame'>\n",
      "RangeIndex: 23699 entries, 0 to 23698\n",
      "Data columns (total 22 columns):\n",
      " #   Column                Non-Null Count  Dtype  \n",
      "---  ------                --------------  -----  \n",
      " 0   total_images          23699 non-null  int64  \n",
      " 1   last_price            23699 non-null  float64\n",
      " 2   total_area            23699 non-null  float64\n",
      " 3   first_day_exposition  23699 non-null  object \n",
      " 4   rooms                 23699 non-null  int64  \n",
      " 5   ceiling_height        14504 non-null  float64\n",
      " 6   floors_total          23613 non-null  float64\n",
      " 7   living_area           21796 non-null  float64\n",
      " 8   floor                 23699 non-null  int64  \n",
      " 9   is_apartment          2775 non-null   object \n",
      " 10  studio                23699 non-null  bool   \n",
      " 11  open_plan             23699 non-null  bool   \n",
      " 12  kitchen_area          21421 non-null  float64\n",
      " 13  balcony               12180 non-null  float64\n",
      " 14  locality_name         23650 non-null  object \n",
      " 15  airports_nearest      18157 non-null  float64\n",
      " 16  cityCenters_nearest   18180 non-null  float64\n",
      " 17  parks_around3000      18181 non-null  float64\n",
      " 18  parks_nearest         8079 non-null   float64\n",
      " 19  ponds_around3000      18181 non-null  float64\n",
      " 20  ponds_nearest         9110 non-null   float64\n",
      " 21  days_exposition       20518 non-null  float64\n",
      "dtypes: bool(2), float64(14), int64(3), object(3)\n",
      "memory usage: 3.7+ MB\n"
     ]
    }
   ],
   "source": [
    "data.info()"
   ]
  },
  {
   "cell_type": "markdown",
   "metadata": {},
   "source": [
    "#### Построение гистограмм для визуальной оценки данных"
   ]
  },
  {
   "cell_type": "code",
   "execution_count": 5,
   "metadata": {},
   "outputs": [
    {
     "data": {
      "text/plain": [
       "array([[<AxesSubplot:title={'center':'total_images'}>,\n",
       "        <AxesSubplot:title={'center':'last_price'}>,\n",
       "        <AxesSubplot:title={'center':'total_area'}>,\n",
       "        <AxesSubplot:title={'center':'rooms'}>],\n",
       "       [<AxesSubplot:title={'center':'ceiling_height'}>,\n",
       "        <AxesSubplot:title={'center':'floors_total'}>,\n",
       "        <AxesSubplot:title={'center':'living_area'}>,\n",
       "        <AxesSubplot:title={'center':'floor'}>],\n",
       "       [<AxesSubplot:title={'center':'kitchen_area'}>,\n",
       "        <AxesSubplot:title={'center':'balcony'}>,\n",
       "        <AxesSubplot:title={'center':'airports_nearest'}>,\n",
       "        <AxesSubplot:title={'center':'cityCenters_nearest'}>],\n",
       "       [<AxesSubplot:title={'center':'parks_around3000'}>,\n",
       "        <AxesSubplot:title={'center':'parks_nearest'}>,\n",
       "        <AxesSubplot:title={'center':'ponds_around3000'}>,\n",
       "        <AxesSubplot:title={'center':'ponds_nearest'}>],\n",
       "       [<AxesSubplot:title={'center':'days_exposition'}>, <AxesSubplot:>,\n",
       "        <AxesSubplot:>, <AxesSubplot:>]], dtype=object)"
      ]
     },
     "metadata": {},
     "output_type": "display_data"
    },
    {
     "data": {
      "image/png": "[encoded data removed]",
      "text/plain": [
       "<Figure size 1080x1440 with 20 Axes>"
      ]
     },
     "metadata": {
      "needs_background": "light"
     },
     "output_type": "display_data"
    }
   ],
   "source": [
    "display(data.hist(figsize=(15, 20), bins=50))"
   ]
  },
  {
   "cell_type": "code",
   "execution_count": 6,
   "metadata": {},
   "outputs": [
    {
     "data": {
      "text/plain": [
       "count    2.369900e+04\n",
       "mean     6.541549e+06\n",
       "std      1.088701e+07\n",
       "min      1.219000e+04\n",
       "25%      3.400000e+06\n",
       "50%      4.650000e+06\n",
       "75%      6.800000e+06\n",
       "max      7.630000e+08\n",
       "Name: last_price, dtype: float64"
      ]
     },
     "metadata": {},
     "output_type": "display_data"
    }
   ],
   "source": [
    "display(data['last_price'].describe())"
   ]
  },
  {
   "cell_type": "code",
   "execution_count": 7,
   "metadata": {},
   "outputs": [
    {
     "data": {
      "text/plain": [
       "count    14504.000000\n",
       "mean         2.771499\n",
       "std          1.261056\n",
       "min          1.000000\n",
       "25%          2.520000\n",
       "50%          2.650000\n",
       "75%          2.800000\n",
       "max        100.000000\n",
       "Name: ceiling_height, dtype: float64"
      ]
     },
     "metadata": {},
     "output_type": "display_data"
    }
   ],
   "source": [
    "display(data['ceiling_height'].describe())"
   ]
  },
  {
   "cell_type": "markdown",
   "metadata": {},
   "source": [
    "**Выводы по первичному знакомству с данными:** \n",
    "- В данных содержится 23 699 наблюдений и 22 колонки с информацией;\n",
    "- В данных есть пропуски (больше всего в колонке \"is_apartment\");\n",
    "- Гистограммы \"ceiling_height\" и \"last_price\" выглядят сомнительно. Скорее всего в данных есть аномальные значения (метод describe подтверждает наличие таких данных)."
   ]
  },
  {
   "cell_type": "markdown",
   "metadata": {},
   "source": [
    "<div class=\"alert alert-block alert-success\">\n",
    "<b>✅Комментарий ревьюера:</b> Отлично, с данными познакомились!  </div>"
   ]
  },
  {
   "cell_type": "markdown",
   "metadata": {
    "id": "-O5NtivEAwb9"
   },
   "source": [
    "### Выполните предобработку данных"
   ]
  },
  {
   "cell_type": "markdown",
   "metadata": {},
   "source": [
    "#### Обработка пропусков"
   ]
  },
  {
   "cell_type": "markdown",
   "metadata": {},
   "source": [
    "Определение в каких столбцах есть пропуски, и какие из них можно заполнить"
   ]
  },
  {
   "cell_type": "code",
   "execution_count": 8,
   "metadata": {},
   "outputs": [
    {
     "name": "stdout",
     "output_type": "stream",
     "text": [
      "<class 'pandas.core.frame.DataFrame'>\n",
      "RangeIndex: 23699 entries, 0 to 23698\n",
      "Data columns (total 22 columns):\n",
      " #   Column                Non-Null Count  Dtype  \n",
      "---  ------                --------------  -----  \n",
      " 0   total_images          23699 non-null  int64  \n",
      " 1   last_price            23699 non-null  float64\n",
      " 2   total_area            23699 non-null  float64\n",
      " 3   first_day_exposition  23699 non-null  object \n",
      " 4   rooms                 23699 non-null  int64  \n",
      " 5   ceiling_height        14504 non-null  float64\n",
      " 6   floors_total          23613 non-null  float64\n",
      " 7   living_area           21796 non-null  float64\n",
      " 8   floor                 23699 non-null  int64  \n",
      " 9   is_apartment          2775 non-null   object \n",
      " 10  studio                23699 non-null  bool   \n",
      " 11  open_plan             23699 non-null  bool   \n",
      " 12  kitchen_area          21421 non-null  float64\n",
      " 13  balcony               12180 non-null  float64\n",
      " 14  locality_name         23650 non-null  object \n",
      " 15  airports_nearest      18157 non-null  float64\n",
      " 16  cityCenters_nearest   18180 non-null  float64\n",
      " 17  parks_around3000      18181 non-null  float64\n",
      " 18  parks_nearest         8079 non-null   float64\n",
      " 19  ponds_around3000      18181 non-null  float64\n",
      " 20  ponds_nearest         9110 non-null   float64\n",
      " 21  days_exposition       20518 non-null  float64\n",
      "dtypes: bool(2), float64(14), int64(3), object(3)\n",
      "memory usage: 3.7+ MB\n"
     ]
    }
   ],
   "source": [
    "data.info()"
   ]
  },
  {
   "cell_type": "markdown",
   "metadata": {},
   "source": [
    "**Всего в таблице 22 столбца**: из них **14** имеют пропуски ('ceiling_height', 'floors_total', 'living_area', 'floor', 'is_apartment', 'kitchen_area', 'balcony', 'locality_name', 'airports_nearest', 'cityCenters_nearest', 'parks_around3000', 'parks_nearest', 'ponds_around3000', 'ponds_nearest', 'days_exposition').\n",
    "\n",
    "Из них точно нельзя заполнить **12** столбцов: 'ceiling_height', 'floors_total', 'living_area', 'floor', 'kitchen_area', 'locality_name', 'airports_nearest', 'cityCenters_nearest', 'parks_around3000', 'parks_nearest', 'ponds_around3000', 'ponds_nearest', 'days_exposition'.\n",
    "\n",
    "Попробуем обработать следующие **2** столбца: 'is_apartment', 'balcony'."
   ]
  },
  {
   "cell_type": "markdown",
   "metadata": {},
   "source": [
    "<div class=\"alert alert-block alert-warning\">\n",
    "<b>🔁Комментарий ревьюера:</b>\n",
    "\n",
    "Почему пропуски в перечисленых столбцах нельзя заполнить?</div>"
   ]
  },
  {
   "cell_type": "markdown",
   "id": "12e47024",
   "metadata": {},
   "source": [
    "<div class=\"alert alert-block alert-success\">\n",
    "<b>✅Комментарий ревьюера 2:</b> Отлично, исправлено!👍  </div>"
   ]
  },
  {
   "cell_type": "markdown",
   "metadata": {},
   "source": [
    "<div class=\"alert alert-block alert-info\">\n",
    "<b>🔄Комментарий студента:</b> \n",
    "По столбцам: 'ceiling_height', 'floors_total', 'living_area', 'floor', 'kitchen_area', 'locality_name', 'airports_nearest', 'cityCenters_nearest', 'parks_nearest', 'ponds_nearest', 'days_exposition' - невозможно заполнить, так как они не подаются логической обработке. Мы лишь можем предположить те или иные значения в интервале от минимума до максимума.\n",
    "По столбцам: 'parks_around3000', 'ponds_around3000' я пробовал внести значения в зависимости от значений столбцов 'parks_nearest', 'ponds_nearest', но чаще всего, если 'parks_around3000', 'ponds_around3000' пусты, то и 'parks_nearest', 'ponds_nearest' также пусты. А брать наугад также нежелательно. Значения могут быть разными (от 0 до неизвестно).\n",
    "</div>"
   ]
  },
  {
   "cell_type": "markdown",
   "metadata": {},
   "source": [
    "**Обрабатываем пропуски в столбце 'is_apartment'**"
   ]
  },
  {
   "cell_type": "code",
   "execution_count": 9,
   "metadata": {},
   "outputs": [
    {
     "data": {
      "text/html": [
       "<div>\n",
       "<style scoped>\n",
       "    .dataframe tbody tr th:only-of-type {\n",
       "        vertical-align: middle;\n",
       "    }\n",
       "\n",
       "    .dataframe tbody tr th {\n",
       "        vertical-align: top;\n",
       "    }\n",
       "\n",
       "    .dataframe thead th {\n",
       "        text-align: right;\n",
       "    }\n",
       "</style>\n",
       "<table border=\"1\" class=\"dataframe\">\n",
       "  <thead>\n",
       "    <tr style=\"text-align: right;\">\n",
       "      <th></th>\n",
       "      <th>total_images</th>\n",
       "      <th>last_price</th>\n",
       "      <th>total_area</th>\n",
       "      <th>first_day_exposition</th>\n",
       "      <th>rooms</th>\n",
       "      <th>ceiling_height</th>\n",
       "      <th>floors_total</th>\n",
       "      <th>living_area</th>\n",
       "      <th>floor</th>\n",
       "      <th>is_apartment</th>\n",
       "      <th>...</th>\n",
       "      <th>kitchen_area</th>\n",
       "      <th>balcony</th>\n",
       "      <th>locality_name</th>\n",
       "      <th>airports_nearest</th>\n",
       "      <th>cityCenters_nearest</th>\n",
       "      <th>parks_around3000</th>\n",
       "      <th>parks_nearest</th>\n",
       "      <th>ponds_around3000</th>\n",
       "      <th>ponds_nearest</th>\n",
       "      <th>days_exposition</th>\n",
       "    </tr>\n",
       "  </thead>\n",
       "  <tbody>\n",
       "    <tr>\n",
       "      <th>0</th>\n",
       "      <td>20</td>\n",
       "      <td>13000000.0</td>\n",
       "      <td>108.0</td>\n",
       "      <td>2019-03-07T00:00:00</td>\n",
       "      <td>3</td>\n",
       "      <td>2.70</td>\n",
       "      <td>16.0</td>\n",
       "      <td>51.0</td>\n",
       "      <td>8</td>\n",
       "      <td>NaN</td>\n",
       "      <td>...</td>\n",
       "      <td>25.0</td>\n",
       "      <td>NaN</td>\n",
       "      <td>Санкт-Петербург</td>\n",
       "      <td>18863.0</td>\n",
       "      <td>16028.0</td>\n",
       "      <td>1.0</td>\n",
       "      <td>482.0</td>\n",
       "      <td>2.0</td>\n",
       "      <td>755.0</td>\n",
       "      <td>NaN</td>\n",
       "    </tr>\n",
       "    <tr>\n",
       "      <th>1</th>\n",
       "      <td>7</td>\n",
       "      <td>3350000.0</td>\n",
       "      <td>40.4</td>\n",
       "      <td>2018-12-04T00:00:00</td>\n",
       "      <td>1</td>\n",
       "      <td>NaN</td>\n",
       "      <td>11.0</td>\n",
       "      <td>18.6</td>\n",
       "      <td>1</td>\n",
       "      <td>NaN</td>\n",
       "      <td>...</td>\n",
       "      <td>11.0</td>\n",
       "      <td>2.0</td>\n",
       "      <td>посёлок Шушары</td>\n",
       "      <td>12817.0</td>\n",
       "      <td>18603.0</td>\n",
       "      <td>0.0</td>\n",
       "      <td>NaN</td>\n",
       "      <td>0.0</td>\n",
       "      <td>NaN</td>\n",
       "      <td>81.0</td>\n",
       "    </tr>\n",
       "    <tr>\n",
       "      <th>2</th>\n",
       "      <td>10</td>\n",
       "      <td>5196000.0</td>\n",
       "      <td>56.0</td>\n",
       "      <td>2015-08-20T00:00:00</td>\n",
       "      <td>2</td>\n",
       "      <td>NaN</td>\n",
       "      <td>5.0</td>\n",
       "      <td>34.3</td>\n",
       "      <td>4</td>\n",
       "      <td>NaN</td>\n",
       "      <td>...</td>\n",
       "      <td>8.3</td>\n",
       "      <td>0.0</td>\n",
       "      <td>Санкт-Петербург</td>\n",
       "      <td>21741.0</td>\n",
       "      <td>13933.0</td>\n",
       "      <td>1.0</td>\n",
       "      <td>90.0</td>\n",
       "      <td>2.0</td>\n",
       "      <td>574.0</td>\n",
       "      <td>558.0</td>\n",
       "    </tr>\n",
       "    <tr>\n",
       "      <th>3</th>\n",
       "      <td>0</td>\n",
       "      <td>64900000.0</td>\n",
       "      <td>159.0</td>\n",
       "      <td>2015-07-24T00:00:00</td>\n",
       "      <td>3</td>\n",
       "      <td>NaN</td>\n",
       "      <td>14.0</td>\n",
       "      <td>NaN</td>\n",
       "      <td>9</td>\n",
       "      <td>NaN</td>\n",
       "      <td>...</td>\n",
       "      <td>NaN</td>\n",
       "      <td>0.0</td>\n",
       "      <td>Санкт-Петербург</td>\n",
       "      <td>28098.0</td>\n",
       "      <td>6800.0</td>\n",
       "      <td>2.0</td>\n",
       "      <td>84.0</td>\n",
       "      <td>3.0</td>\n",
       "      <td>234.0</td>\n",
       "      <td>424.0</td>\n",
       "    </tr>\n",
       "    <tr>\n",
       "      <th>4</th>\n",
       "      <td>2</td>\n",
       "      <td>10000000.0</td>\n",
       "      <td>100.0</td>\n",
       "      <td>2018-06-19T00:00:00</td>\n",
       "      <td>2</td>\n",
       "      <td>3.03</td>\n",
       "      <td>14.0</td>\n",
       "      <td>32.0</td>\n",
       "      <td>13</td>\n",
       "      <td>NaN</td>\n",
       "      <td>...</td>\n",
       "      <td>41.0</td>\n",
       "      <td>NaN</td>\n",
       "      <td>Санкт-Петербург</td>\n",
       "      <td>31856.0</td>\n",
       "      <td>8098.0</td>\n",
       "      <td>2.0</td>\n",
       "      <td>112.0</td>\n",
       "      <td>1.0</td>\n",
       "      <td>48.0</td>\n",
       "      <td>121.0</td>\n",
       "    </tr>\n",
       "  </tbody>\n",
       "</table>\n",
       "<p>5 rows × 22 columns</p>\n",
       "</div>"
      ],
      "text/plain": [
       "   total_images  last_price  total_area first_day_exposition  rooms  \\\n",
       "0            20  13000000.0       108.0  2019-03-07T00:00:00      3   \n",
       "1             7   3350000.0        40.4  2018-12-04T00:00:00      1   \n",
       "2            10   5196000.0        56.0  2015-08-20T00:00:00      2   \n",
       "3             0  64900000.0       159.0  2015-07-24T00:00:00      3   \n",
       "4             2  10000000.0       100.0  2018-06-19T00:00:00      2   \n",
       "\n",
       "   ceiling_height  floors_total  living_area  floor is_apartment  ...  \\\n",
       "0            2.70          16.0         51.0      8          NaN  ...   \n",
       "1             NaN          11.0         18.6      1          NaN  ...   \n",
       "2             NaN           5.0         34.3      4          NaN  ...   \n",
       "3             NaN          14.0          NaN      9          NaN  ...   \n",
       "4            3.03          14.0         32.0     13          NaN  ...   \n",
       "\n",
       "   kitchen_area  balcony    locality_name  airports_nearest  \\\n",
       "0          25.0      NaN  Санкт-Петербург           18863.0   \n",
       "1          11.0      2.0   посёлок Шушары           12817.0   \n",
       "2           8.3      0.0  Санкт-Петербург           21741.0   \n",
       "3           NaN      0.0  Санкт-Петербург           28098.0   \n",
       "4          41.0      NaN  Санкт-Петербург           31856.0   \n",
       "\n",
       "  cityCenters_nearest  parks_around3000  parks_nearest  ponds_around3000  \\\n",
       "0             16028.0               1.0          482.0               2.0   \n",
       "1             18603.0               0.0            NaN               0.0   \n",
       "2             13933.0               1.0           90.0               2.0   \n",
       "3              6800.0               2.0           84.0               3.0   \n",
       "4              8098.0               2.0          112.0               1.0   \n",
       "\n",
       "   ponds_nearest  days_exposition  \n",
       "0          755.0              NaN  \n",
       "1            NaN             81.0  \n",
       "2          574.0            558.0  \n",
       "3          234.0            424.0  \n",
       "4           48.0            121.0  \n",
       "\n",
       "[5 rows x 22 columns]"
      ]
     },
     "metadata": {},
     "output_type": "display_data"
    },
    {
     "data": {
      "text/plain": [
       "20924"
      ]
     },
     "metadata": {},
     "output_type": "display_data"
    }
   ],
   "source": [
    "display(data[data['is_apartment'].isna()].head())\n",
    "display(data['is_apartment'].isna().sum())"
   ]
  },
  {
   "cell_type": "code",
   "execution_count": 10,
   "metadata": {},
   "outputs": [
    {
     "data": {
      "text/plain": [
       "False    2725\n",
       "True       50\n",
       "Name: is_apartment, dtype: int64"
      ]
     },
     "metadata": {},
     "output_type": "display_data"
    }
   ],
   "source": [
    "display(data['is_apartment'].value_counts())"
   ]
  },
  {
   "cell_type": "markdown",
   "metadata": {},
   "source": [
    "Считаем, что, если продавец не указал значение в столбце 'is_apartment', значит тип жилья - квартира (False)"
   ]
  },
  {
   "cell_type": "code",
   "execution_count": 11,
   "metadata": {},
   "outputs": [
    {
     "data": {
      "text/plain": [
       "0"
      ]
     },
     "metadata": {},
     "output_type": "display_data"
    }
   ],
   "source": [
    "data['is_apartment'] = data['is_apartment'].fillna(False)\n",
    "display(data['is_apartment'].isna().sum())"
   ]
  },
  {
   "cell_type": "markdown",
   "metadata": {},
   "source": [
    "**Обрабатываем пропуски в столбце 'balcony'**"
   ]
  },
  {
   "cell_type": "code",
   "execution_count": 12,
   "metadata": {},
   "outputs": [
    {
     "data": {
      "text/html": [
       "<div>\n",
       "<style scoped>\n",
       "    .dataframe tbody tr th:only-of-type {\n",
       "        vertical-align: middle;\n",
       "    }\n",
       "\n",
       "    .dataframe tbody tr th {\n",
       "        vertical-align: top;\n",
       "    }\n",
       "\n",
       "    .dataframe thead th {\n",
       "        text-align: right;\n",
       "    }\n",
       "</style>\n",
       "<table border=\"1\" class=\"dataframe\">\n",
       "  <thead>\n",
       "    <tr style=\"text-align: right;\">\n",
       "      <th></th>\n",
       "      <th>total_images</th>\n",
       "      <th>last_price</th>\n",
       "      <th>total_area</th>\n",
       "      <th>first_day_exposition</th>\n",
       "      <th>rooms</th>\n",
       "      <th>ceiling_height</th>\n",
       "      <th>floors_total</th>\n",
       "      <th>living_area</th>\n",
       "      <th>floor</th>\n",
       "      <th>is_apartment</th>\n",
       "      <th>...</th>\n",
       "      <th>kitchen_area</th>\n",
       "      <th>balcony</th>\n",
       "      <th>locality_name</th>\n",
       "      <th>airports_nearest</th>\n",
       "      <th>cityCenters_nearest</th>\n",
       "      <th>parks_around3000</th>\n",
       "      <th>parks_nearest</th>\n",
       "      <th>ponds_around3000</th>\n",
       "      <th>ponds_nearest</th>\n",
       "      <th>days_exposition</th>\n",
       "    </tr>\n",
       "  </thead>\n",
       "  <tbody>\n",
       "    <tr>\n",
       "      <th>0</th>\n",
       "      <td>20</td>\n",
       "      <td>13000000.0</td>\n",
       "      <td>108.00</td>\n",
       "      <td>2019-03-07T00:00:00</td>\n",
       "      <td>3</td>\n",
       "      <td>2.70</td>\n",
       "      <td>16.0</td>\n",
       "      <td>51.00</td>\n",
       "      <td>8</td>\n",
       "      <td>False</td>\n",
       "      <td>...</td>\n",
       "      <td>25.00</td>\n",
       "      <td>NaN</td>\n",
       "      <td>Санкт-Петербург</td>\n",
       "      <td>18863.0</td>\n",
       "      <td>16028.0</td>\n",
       "      <td>1.0</td>\n",
       "      <td>482.0</td>\n",
       "      <td>2.0</td>\n",
       "      <td>755.0</td>\n",
       "      <td>NaN</td>\n",
       "    </tr>\n",
       "    <tr>\n",
       "      <th>4</th>\n",
       "      <td>2</td>\n",
       "      <td>10000000.0</td>\n",
       "      <td>100.00</td>\n",
       "      <td>2018-06-19T00:00:00</td>\n",
       "      <td>2</td>\n",
       "      <td>3.03</td>\n",
       "      <td>14.0</td>\n",
       "      <td>32.00</td>\n",
       "      <td>13</td>\n",
       "      <td>False</td>\n",
       "      <td>...</td>\n",
       "      <td>41.00</td>\n",
       "      <td>NaN</td>\n",
       "      <td>Санкт-Петербург</td>\n",
       "      <td>31856.0</td>\n",
       "      <td>8098.0</td>\n",
       "      <td>2.0</td>\n",
       "      <td>112.0</td>\n",
       "      <td>1.0</td>\n",
       "      <td>48.0</td>\n",
       "      <td>121.0</td>\n",
       "    </tr>\n",
       "    <tr>\n",
       "      <th>5</th>\n",
       "      <td>10</td>\n",
       "      <td>2890000.0</td>\n",
       "      <td>30.40</td>\n",
       "      <td>2018-09-10T00:00:00</td>\n",
       "      <td>1</td>\n",
       "      <td>NaN</td>\n",
       "      <td>12.0</td>\n",
       "      <td>14.40</td>\n",
       "      <td>5</td>\n",
       "      <td>False</td>\n",
       "      <td>...</td>\n",
       "      <td>9.10</td>\n",
       "      <td>NaN</td>\n",
       "      <td>городской посёлок Янино-1</td>\n",
       "      <td>NaN</td>\n",
       "      <td>NaN</td>\n",
       "      <td>NaN</td>\n",
       "      <td>NaN</td>\n",
       "      <td>NaN</td>\n",
       "      <td>NaN</td>\n",
       "      <td>55.0</td>\n",
       "    </tr>\n",
       "    <tr>\n",
       "      <th>8</th>\n",
       "      <td>20</td>\n",
       "      <td>2900000.0</td>\n",
       "      <td>33.16</td>\n",
       "      <td>2018-05-23T00:00:00</td>\n",
       "      <td>1</td>\n",
       "      <td>NaN</td>\n",
       "      <td>27.0</td>\n",
       "      <td>15.43</td>\n",
       "      <td>26</td>\n",
       "      <td>False</td>\n",
       "      <td>...</td>\n",
       "      <td>8.81</td>\n",
       "      <td>NaN</td>\n",
       "      <td>посёлок Мурино</td>\n",
       "      <td>NaN</td>\n",
       "      <td>NaN</td>\n",
       "      <td>NaN</td>\n",
       "      <td>NaN</td>\n",
       "      <td>NaN</td>\n",
       "      <td>NaN</td>\n",
       "      <td>189.0</td>\n",
       "    </tr>\n",
       "    <tr>\n",
       "      <th>10</th>\n",
       "      <td>5</td>\n",
       "      <td>5050000.0</td>\n",
       "      <td>39.60</td>\n",
       "      <td>2017-11-16T00:00:00</td>\n",
       "      <td>1</td>\n",
       "      <td>2.67</td>\n",
       "      <td>12.0</td>\n",
       "      <td>20.30</td>\n",
       "      <td>3</td>\n",
       "      <td>False</td>\n",
       "      <td>...</td>\n",
       "      <td>8.50</td>\n",
       "      <td>NaN</td>\n",
       "      <td>Санкт-Петербург</td>\n",
       "      <td>38357.0</td>\n",
       "      <td>13878.0</td>\n",
       "      <td>1.0</td>\n",
       "      <td>310.0</td>\n",
       "      <td>2.0</td>\n",
       "      <td>553.0</td>\n",
       "      <td>137.0</td>\n",
       "    </tr>\n",
       "  </tbody>\n",
       "</table>\n",
       "<p>5 rows × 22 columns</p>\n",
       "</div>"
      ],
      "text/plain": [
       "    total_images  last_price  total_area first_day_exposition  rooms  \\\n",
       "0             20  13000000.0      108.00  2019-03-07T00:00:00      3   \n",
       "4              2  10000000.0      100.00  2018-06-19T00:00:00      2   \n",
       "5             10   2890000.0       30.40  2018-09-10T00:00:00      1   \n",
       "8             20   2900000.0       33.16  2018-05-23T00:00:00      1   \n",
       "10             5   5050000.0       39.60  2017-11-16T00:00:00      1   \n",
       "\n",
       "    ceiling_height  floors_total  living_area  floor  is_apartment  ...  \\\n",
       "0             2.70          16.0        51.00      8         False  ...   \n",
       "4             3.03          14.0        32.00     13         False  ...   \n",
       "5              NaN          12.0        14.40      5         False  ...   \n",
       "8              NaN          27.0        15.43     26         False  ...   \n",
       "10            2.67          12.0        20.30      3         False  ...   \n",
       "\n",
       "    kitchen_area  balcony              locality_name  airports_nearest  \\\n",
       "0          25.00      NaN            Санкт-Петербург           18863.0   \n",
       "4          41.00      NaN            Санкт-Петербург           31856.0   \n",
       "5           9.10      NaN  городской посёлок Янино-1               NaN   \n",
       "8           8.81      NaN             посёлок Мурино               NaN   \n",
       "10          8.50      NaN            Санкт-Петербург           38357.0   \n",
       "\n",
       "   cityCenters_nearest  parks_around3000  parks_nearest  ponds_around3000  \\\n",
       "0              16028.0               1.0          482.0               2.0   \n",
       "4               8098.0               2.0          112.0               1.0   \n",
       "5                  NaN               NaN            NaN               NaN   \n",
       "8                  NaN               NaN            NaN               NaN   \n",
       "10             13878.0               1.0          310.0               2.0   \n",
       "\n",
       "    ponds_nearest  days_exposition  \n",
       "0           755.0              NaN  \n",
       "4            48.0            121.0  \n",
       "5             NaN             55.0  \n",
       "8             NaN            189.0  \n",
       "10          553.0            137.0  \n",
       "\n",
       "[5 rows x 22 columns]"
      ]
     },
     "metadata": {},
     "output_type": "display_data"
    },
    {
     "data": {
      "text/plain": [
       "11519"
      ]
     },
     "metadata": {},
     "output_type": "display_data"
    }
   ],
   "source": [
    "display(data[data['balcony'].isna()].head())\n",
    "display(data['balcony'].isna().sum())"
   ]
  },
  {
   "cell_type": "code",
   "execution_count": 13,
   "metadata": {},
   "outputs": [
    {
     "data": {
      "text/plain": [
       "1.0    4195\n",
       "0.0    3758\n",
       "2.0    3659\n",
       "5.0     304\n",
       "4.0     183\n",
       "3.0      81\n",
       "Name: balcony, dtype: int64"
      ]
     },
     "metadata": {},
     "output_type": "display_data"
    }
   ],
   "source": [
    "display(data['balcony'].value_counts())"
   ]
  },
  {
   "cell_type": "markdown",
   "metadata": {},
   "source": [
    "Считаем, что, если продавец не указал значение в столбце 'balcony', значит количество балконов равно нулю"
   ]
  },
  {
   "cell_type": "code",
   "execution_count": 14,
   "metadata": {},
   "outputs": [
    {
     "data": {
      "text/plain": [
       "0"
      ]
     },
     "metadata": {},
     "output_type": "display_data"
    }
   ],
   "source": [
    "data['balcony'] = data['balcony'].fillna(0)\n",
    "display(data['balcony'].isna().sum())\n",
    "data['balcony'] = data['balcony'].astype('int', errors='ignore')"
   ]
  },
  {
   "cell_type": "markdown",
   "metadata": {},
   "source": [
    "**Возможные причины появления пропусков:**\n",
    "- Человеческий фактор (незаполнение некоторых полей);\n",
    "- Отсутствие информации по причине пропусков в смежных столбцах (связанных);\n",
    "- Ошибки при работе с данными."
   ]
  },
  {
   "cell_type": "markdown",
   "metadata": {},
   "source": [
    "#### Рассмотрение типов данных столбцов"
   ]
  },
  {
   "cell_type": "markdown",
   "metadata": {
    "id": "7v3vAeTuAwb-"
   },
   "source": [
    "**Определение столбцов, в которых необходимо изменить тип данных**"
   ]
  },
  {
   "cell_type": "code",
   "execution_count": 15,
   "metadata": {},
   "outputs": [
    {
     "name": "stdout",
     "output_type": "stream",
     "text": [
      "<class 'pandas.core.frame.DataFrame'>\n",
      "RangeIndex: 23699 entries, 0 to 23698\n",
      "Data columns (total 22 columns):\n",
      " #   Column                Non-Null Count  Dtype  \n",
      "---  ------                --------------  -----  \n",
      " 0   total_images          23699 non-null  int64  \n",
      " 1   last_price            23699 non-null  float64\n",
      " 2   total_area            23699 non-null  float64\n",
      " 3   first_day_exposition  23699 non-null  object \n",
      " 4   rooms                 23699 non-null  int64  \n",
      " 5   ceiling_height        14504 non-null  float64\n",
      " 6   floors_total          23613 non-null  float64\n",
      " 7   living_area           21796 non-null  float64\n",
      " 8   floor                 23699 non-null  int64  \n",
      " 9   is_apartment          23699 non-null  bool   \n",
      " 10  studio                23699 non-null  bool   \n",
      " 11  open_plan             23699 non-null  bool   \n",
      " 12  kitchen_area          21421 non-null  float64\n",
      " 13  balcony               23699 non-null  int64  \n",
      " 14  locality_name         23650 non-null  object \n",
      " 15  airports_nearest      18157 non-null  float64\n",
      " 16  cityCenters_nearest   18180 non-null  float64\n",
      " 17  parks_around3000      18181 non-null  float64\n",
      " 18  parks_nearest         8079 non-null   float64\n",
      " 19  ponds_around3000      18181 non-null  float64\n",
      " 20  ponds_nearest         9110 non-null   float64\n",
      " 21  days_exposition       20518 non-null  float64\n",
      "dtypes: bool(3), float64(13), int64(4), object(2)\n",
      "memory usage: 3.5+ MB\n"
     ]
    }
   ],
   "source": [
    "data.info()"
   ]
  },
  {
   "cell_type": "markdown",
   "metadata": {},
   "source": [
    "Исходя из полученной информации, необходимо изменить только тип данных в столбце 'first_day_exposition'. Стоить провести замену с типа 'object' в тип 'datetime'."
   ]
  },
  {
   "cell_type": "markdown",
   "metadata": {},
   "source": [
    "**Преобрзование типа данных в выбранном столбце**"
   ]
  },
  {
   "cell_type": "code",
   "execution_count": 16,
   "metadata": {},
   "outputs": [
    {
     "data": {
      "text/plain": [
       "0    2019-03-07T00:00:00\n",
       "1    2018-12-04T00:00:00\n",
       "2    2015-08-20T00:00:00\n",
       "3    2015-07-24T00:00:00\n",
       "4    2018-06-19T00:00:00\n",
       "Name: first_day_exposition, dtype: object"
      ]
     },
     "metadata": {},
     "output_type": "display_data"
    }
   ],
   "source": [
    "display(data['first_day_exposition'].head())"
   ]
  },
  {
   "cell_type": "code",
   "execution_count": 17,
   "metadata": {},
   "outputs": [],
   "source": [
    "data['first_day_exposition'] = pd.to_datetime(data['first_day_exposition'], format='%Y-%m-%d') "
   ]
  },
  {
   "cell_type": "markdown",
   "metadata": {},
   "source": [
    "<div class=\"alert alert-block alert-warning\">\n",
    "<b>🔁Комментарий ревьюера:</b> \n",
    "\n",
    "Время можно убрать</div>"
   ]
  },
  {
   "cell_type": "markdown",
   "id": "12e47024",
   "metadata": {},
   "source": [
    "<div class=\"alert alert-block alert-success\">\n",
    "<b>✅Комментарий ревьюера 2:</b> Отлично, исправлено!👍  </div>"
   ]
  },
  {
   "cell_type": "markdown",
   "metadata": {},
   "source": [
    "<div class=\"alert alert-block alert-info\">\n",
    "<b>🔄Комментарий студента:</b> \n",
    "Думал, что, возможно, в столбце есть значения с временем. Код откорректировал.\n",
    "</div>"
   ]
  },
  {
   "cell_type": "code",
   "execution_count": 18,
   "metadata": {},
   "outputs": [
    {
     "data": {
      "text/html": [
       "<div>\n",
       "<style scoped>\n",
       "    .dataframe tbody tr th:only-of-type {\n",
       "        vertical-align: middle;\n",
       "    }\n",
       "\n",
       "    .dataframe tbody tr th {\n",
       "        vertical-align: top;\n",
       "    }\n",
       "\n",
       "    .dataframe thead th {\n",
       "        text-align: right;\n",
       "    }\n",
       "</style>\n",
       "<table border=\"1\" class=\"dataframe\">\n",
       "  <thead>\n",
       "    <tr style=\"text-align: right;\">\n",
       "      <th></th>\n",
       "      <th>total_images</th>\n",
       "      <th>last_price</th>\n",
       "      <th>total_area</th>\n",
       "      <th>first_day_exposition</th>\n",
       "      <th>rooms</th>\n",
       "      <th>ceiling_height</th>\n",
       "      <th>floors_total</th>\n",
       "      <th>living_area</th>\n",
       "      <th>floor</th>\n",
       "      <th>is_apartment</th>\n",
       "      <th>...</th>\n",
       "      <th>kitchen_area</th>\n",
       "      <th>balcony</th>\n",
       "      <th>locality_name</th>\n",
       "      <th>airports_nearest</th>\n",
       "      <th>cityCenters_nearest</th>\n",
       "      <th>parks_around3000</th>\n",
       "      <th>parks_nearest</th>\n",
       "      <th>ponds_around3000</th>\n",
       "      <th>ponds_nearest</th>\n",
       "      <th>days_exposition</th>\n",
       "    </tr>\n",
       "  </thead>\n",
       "  <tbody>\n",
       "    <tr>\n",
       "      <th>0</th>\n",
       "      <td>20</td>\n",
       "      <td>13000000.0</td>\n",
       "      <td>108.0</td>\n",
       "      <td>2019-03-07</td>\n",
       "      <td>3</td>\n",
       "      <td>2.70</td>\n",
       "      <td>16.0</td>\n",
       "      <td>51.0</td>\n",
       "      <td>8</td>\n",
       "      <td>False</td>\n",
       "      <td>...</td>\n",
       "      <td>25.0</td>\n",
       "      <td>0</td>\n",
       "      <td>Санкт-Петербург</td>\n",
       "      <td>18863.0</td>\n",
       "      <td>16028.0</td>\n",
       "      <td>1.0</td>\n",
       "      <td>482.0</td>\n",
       "      <td>2.0</td>\n",
       "      <td>755.0</td>\n",
       "      <td>NaN</td>\n",
       "    </tr>\n",
       "    <tr>\n",
       "      <th>1</th>\n",
       "      <td>7</td>\n",
       "      <td>3350000.0</td>\n",
       "      <td>40.4</td>\n",
       "      <td>2018-12-04</td>\n",
       "      <td>1</td>\n",
       "      <td>NaN</td>\n",
       "      <td>11.0</td>\n",
       "      <td>18.6</td>\n",
       "      <td>1</td>\n",
       "      <td>False</td>\n",
       "      <td>...</td>\n",
       "      <td>11.0</td>\n",
       "      <td>2</td>\n",
       "      <td>посёлок Шушары</td>\n",
       "      <td>12817.0</td>\n",
       "      <td>18603.0</td>\n",
       "      <td>0.0</td>\n",
       "      <td>NaN</td>\n",
       "      <td>0.0</td>\n",
       "      <td>NaN</td>\n",
       "      <td>81.0</td>\n",
       "    </tr>\n",
       "    <tr>\n",
       "      <th>2</th>\n",
       "      <td>10</td>\n",
       "      <td>5196000.0</td>\n",
       "      <td>56.0</td>\n",
       "      <td>2015-08-20</td>\n",
       "      <td>2</td>\n",
       "      <td>NaN</td>\n",
       "      <td>5.0</td>\n",
       "      <td>34.3</td>\n",
       "      <td>4</td>\n",
       "      <td>False</td>\n",
       "      <td>...</td>\n",
       "      <td>8.3</td>\n",
       "      <td>0</td>\n",
       "      <td>Санкт-Петербург</td>\n",
       "      <td>21741.0</td>\n",
       "      <td>13933.0</td>\n",
       "      <td>1.0</td>\n",
       "      <td>90.0</td>\n",
       "      <td>2.0</td>\n",
       "      <td>574.0</td>\n",
       "      <td>558.0</td>\n",
       "    </tr>\n",
       "    <tr>\n",
       "      <th>3</th>\n",
       "      <td>0</td>\n",
       "      <td>64900000.0</td>\n",
       "      <td>159.0</td>\n",
       "      <td>2015-07-24</td>\n",
       "      <td>3</td>\n",
       "      <td>NaN</td>\n",
       "      <td>14.0</td>\n",
       "      <td>NaN</td>\n",
       "      <td>9</td>\n",
       "      <td>False</td>\n",
       "      <td>...</td>\n",
       "      <td>NaN</td>\n",
       "      <td>0</td>\n",
       "      <td>Санкт-Петербург</td>\n",
       "      <td>28098.0</td>\n",
       "      <td>6800.0</td>\n",
       "      <td>2.0</td>\n",
       "      <td>84.0</td>\n",
       "      <td>3.0</td>\n",
       "      <td>234.0</td>\n",
       "      <td>424.0</td>\n",
       "    </tr>\n",
       "    <tr>\n",
       "      <th>4</th>\n",
       "      <td>2</td>\n",
       "      <td>10000000.0</td>\n",
       "      <td>100.0</td>\n",
       "      <td>2018-06-19</td>\n",
       "      <td>2</td>\n",
       "      <td>3.03</td>\n",
       "      <td>14.0</td>\n",
       "      <td>32.0</td>\n",
       "      <td>13</td>\n",
       "      <td>False</td>\n",
       "      <td>...</td>\n",
       "      <td>41.0</td>\n",
       "      <td>0</td>\n",
       "      <td>Санкт-Петербург</td>\n",
       "      <td>31856.0</td>\n",
       "      <td>8098.0</td>\n",
       "      <td>2.0</td>\n",
       "      <td>112.0</td>\n",
       "      <td>1.0</td>\n",
       "      <td>48.0</td>\n",
       "      <td>121.0</td>\n",
       "    </tr>\n",
       "  </tbody>\n",
       "</table>\n",
       "<p>5 rows × 22 columns</p>\n",
       "</div>"
      ],
      "text/plain": [
       "   total_images  last_price  total_area first_day_exposition  rooms  \\\n",
       "0            20  13000000.0       108.0           2019-03-07      3   \n",
       "1             7   3350000.0        40.4           2018-12-04      1   \n",
       "2            10   5196000.0        56.0           2015-08-20      2   \n",
       "3             0  64900000.0       159.0           2015-07-24      3   \n",
       "4             2  10000000.0       100.0           2018-06-19      2   \n",
       "\n",
       "   ceiling_height  floors_total  living_area  floor  is_apartment  ...  \\\n",
       "0            2.70          16.0         51.0      8         False  ...   \n",
       "1             NaN          11.0         18.6      1         False  ...   \n",
       "2             NaN           5.0         34.3      4         False  ...   \n",
       "3             NaN          14.0          NaN      9         False  ...   \n",
       "4            3.03          14.0         32.0     13         False  ...   \n",
       "\n",
       "   kitchen_area  balcony    locality_name  airports_nearest  \\\n",
       "0          25.0        0  Санкт-Петербург           18863.0   \n",
       "1          11.0        2   посёлок Шушары           12817.0   \n",
       "2           8.3        0  Санкт-Петербург           21741.0   \n",
       "3           NaN        0  Санкт-Петербург           28098.0   \n",
       "4          41.0        0  Санкт-Петербург           31856.0   \n",
       "\n",
       "  cityCenters_nearest  parks_around3000  parks_nearest  ponds_around3000  \\\n",
       "0             16028.0               1.0          482.0               2.0   \n",
       "1             18603.0               0.0            NaN               0.0   \n",
       "2             13933.0               1.0           90.0               2.0   \n",
       "3              6800.0               2.0           84.0               3.0   \n",
       "4              8098.0               2.0          112.0               1.0   \n",
       "\n",
       "   ponds_nearest  days_exposition  \n",
       "0          755.0              NaN  \n",
       "1            NaN             81.0  \n",
       "2          574.0            558.0  \n",
       "3          234.0            424.0  \n",
       "4           48.0            121.0  \n",
       "\n",
       "[5 rows x 22 columns]"
      ]
     },
     "metadata": {},
     "output_type": "display_data"
    }
   ],
   "source": [
    "display(data.head())"
   ]
  },
  {
   "cell_type": "markdown",
   "metadata": {},
   "source": [
    "**Причины изменения типов данных:**\n",
    "- Для быстрой и корректной работы тип 'object' был изменен на 'datetime'."
   ]
  },
  {
   "cell_type": "markdown",
   "metadata": {},
   "source": [
    "#### Обработка дубликатов"
   ]
  },
  {
   "cell_type": "markdown",
   "metadata": {},
   "source": [
    "**Определение наличия явных дубликатов**"
   ]
  },
  {
   "cell_type": "code",
   "execution_count": 19,
   "metadata": {},
   "outputs": [
    {
     "data": {
      "text/plain": [
       "0"
      ]
     },
     "metadata": {},
     "output_type": "display_data"
    }
   ],
   "source": [
    "display(data.duplicated().sum())"
   ]
  },
  {
   "cell_type": "markdown",
   "metadata": {},
   "source": [
    "**Определение наличия неявных дубликатов и их обработка**"
   ]
  },
  {
   "cell_type": "code",
   "execution_count": 20,
   "metadata": {},
   "outputs": [
    {
     "data": {
      "text/plain": [
       "array(['Санкт-Петербург', 'посёлок Шушары', 'городской посёлок Янино-1',\n",
       "       'посёлок Парголово', 'посёлок Мурино', 'Ломоносов', 'Сертолово',\n",
       "       'Петергоф', 'Пушкин', 'деревня Кудрово', 'Коммунар', 'Колпино',\n",
       "       'поселок городского типа Красный Бор', 'Гатчина', 'поселок Мурино',\n",
       "       'деревня Фёдоровское', 'Выборг', 'Кронштадт', 'Кировск',\n",
       "       'деревня Новое Девяткино', 'посёлок Металлострой',\n",
       "       'посёлок городского типа Лебяжье',\n",
       "       'посёлок городского типа Сиверский', 'поселок Молодцово',\n",
       "       'поселок городского типа Кузьмоловский',\n",
       "       'садовое товарищество Новая Ропша', 'Павловск',\n",
       "       'деревня Пикколово', 'Всеволожск', 'Волхов', 'Кингисепп',\n",
       "       'Приозерск', 'Сестрорецк', 'деревня Куттузи', 'посёлок Аннино',\n",
       "       'поселок городского типа Ефимовский', 'посёлок Плодовое',\n",
       "       'деревня Заклинье', 'поселок Торковичи', 'поселок Первомайское',\n",
       "       'Красное Село', 'посёлок Понтонный', 'Сясьстрой', 'деревня Старая',\n",
       "       'деревня Лесколово', 'посёлок Новый Свет', 'Сланцы',\n",
       "       'село Путилово', 'Ивангород', 'Мурино', 'Шлиссельбург',\n",
       "       'Никольское', 'Зеленогорск', 'Сосновый Бор', 'поселок Новый Свет',\n",
       "       'деревня Оржицы', 'деревня Кальтино', 'Кудрово',\n",
       "       'поселок Романовка', 'посёлок Бугры', 'поселок Бугры',\n",
       "       'поселок городского типа Рощино', 'Кириши', 'Луга', 'Волосово',\n",
       "       'Отрадное', 'село Павлово', 'поселок Оредеж', 'село Копорье',\n",
       "       'посёлок городского типа Красный Бор', 'посёлок Молодёжное',\n",
       "       'Тихвин', 'посёлок Победа', 'деревня Нурма',\n",
       "       'поселок городского типа Синявино', 'Тосно',\n",
       "       'посёлок городского типа Кузьмоловский', 'посёлок Стрельна',\n",
       "       'Бокситогорск', 'посёлок Александровская', 'деревня Лопухинка',\n",
       "       'Пикалёво', 'поселок Терволово',\n",
       "       'поселок городского типа Советский', 'Подпорожье',\n",
       "       'посёлок Петровское', 'посёлок городского типа Токсово',\n",
       "       'поселок Сельцо', 'посёлок городского типа Вырица',\n",
       "       'деревня Кипень', 'деревня Келози', 'деревня Вартемяги',\n",
       "       'посёлок Тельмана', 'поселок Севастьяново',\n",
       "       'городской поселок Большая Ижора', nan,\n",
       "       'городской посёлок Павлово', 'деревня Агалатово',\n",
       "       'посёлок Новогорелово', 'городской посёлок Лесогорский',\n",
       "       'деревня Лаголово', 'поселок Цвелодубово',\n",
       "       'поселок городского типа Рахья', 'поселок городского типа Вырица',\n",
       "       'деревня Белогорка', 'поселок Заводской',\n",
       "       'городской посёлок Новоселье', 'деревня Большие Колпаны',\n",
       "       'деревня Горбунки', 'деревня Батово', 'деревня Заневка',\n",
       "       'деревня Иссад', 'Приморск', 'городской посёлок Фёдоровское',\n",
       "       'деревня Мистолово', 'Новая Ладога', 'поселок Зимитицы',\n",
       "       'поселок Барышево', 'деревня Разметелево',\n",
       "       'поселок городского типа имени Свердлова', 'деревня Пеники',\n",
       "       'поселок Рябово', 'деревня Пудомяги', 'поселок станции Корнево',\n",
       "       'деревня Низино', 'деревня Бегуницы', 'посёлок Поляны',\n",
       "       'городской посёлок Мга', 'поселок Елизаветино',\n",
       "       'посёлок городского типа Кузнечное', 'деревня Колтуши',\n",
       "       'поселок Запорожское', 'посёлок городского типа Рощино',\n",
       "       'деревня Гостилицы', 'деревня Малое Карлино',\n",
       "       'посёлок Мичуринское', 'посёлок городского типа имени Морозова',\n",
       "       'посёлок Песочный', 'посёлок Сосново', 'деревня Аро',\n",
       "       'поселок Ильичёво', 'посёлок городского типа Тайцы',\n",
       "       'деревня Малое Верево', 'деревня Извара', 'поселок станции Вещево',\n",
       "       'село Паша', 'деревня Калитино',\n",
       "       'посёлок городского типа Ульяновка', 'деревня Чудской Бор',\n",
       "       'поселок городского типа Дубровка', 'деревня Мины',\n",
       "       'поселок Войсковицы', 'посёлок городского типа имени Свердлова',\n",
       "       'деревня Коркино', 'посёлок Ропша',\n",
       "       'поселок городского типа Приладожский', 'посёлок Щеглово',\n",
       "       'посёлок Гаврилово', 'Лодейное Поле', 'деревня Рабитицы',\n",
       "       'поселок городского типа Никольский', 'деревня Кузьмолово',\n",
       "       'деревня Малые Колпаны', 'поселок Тельмана',\n",
       "       'посёлок Петро-Славянка', 'городской посёлок Назия',\n",
       "       'посёлок Репино', 'посёлок Ильичёво', 'поселок Углово',\n",
       "       'поселок Старая Малукса', 'садовое товарищество Рахья',\n",
       "       'поселок Аннино', 'поселок Победа', 'деревня Меньково',\n",
       "       'деревня Старые Бегуницы', 'посёлок Сапёрный', 'поселок Семрино',\n",
       "       'поселок Гаврилово', 'поселок Глажево', 'поселок Кобринское',\n",
       "       'деревня Гарболово', 'деревня Юкки',\n",
       "       'поселок станции Приветнинское', 'деревня Мануйлово',\n",
       "       'деревня Пчева', 'поселок Поляны', 'поселок Цвылёво',\n",
       "       'поселок Мельниково', 'посёлок Пудость', 'посёлок Усть-Луга',\n",
       "       'Светогорск', 'Любань', 'поселок Селезнёво',\n",
       "       'поселок городского типа Рябово', 'Каменногорск', 'деревня Кривко',\n",
       "       'поселок Глебычево', 'деревня Парицы', 'поселок Жилпосёлок',\n",
       "       'посёлок городского типа Мга', 'городской поселок Янино-1',\n",
       "       'посёлок Войскорово', 'село Никольское', 'посёлок Терволово',\n",
       "       'поселок Стеклянный', 'посёлок городского типа Важины',\n",
       "       'посёлок Мыза-Ивановка', 'село Русско-Высоцкое',\n",
       "       'поселок городского типа Лебяжье',\n",
       "       'поселок городского типа Форносово', 'село Старая Ладога',\n",
       "       'поселок Житково', 'городской посёлок Виллози', 'деревня Лампово',\n",
       "       'деревня Шпаньково', 'деревня Лаврики', 'посёлок Сумино',\n",
       "       'посёлок Возрождение', 'деревня Старосиверская',\n",
       "       'посёлок Кикерино', 'поселок Возрождение',\n",
       "       'деревня Старое Хинколово', 'посёлок Пригородный',\n",
       "       'посёлок Торфяное', 'городской посёлок Будогощь',\n",
       "       'поселок Суходолье', 'поселок Красная Долина', 'деревня Хапо-Ое',\n",
       "       'поселок городского типа Дружная Горка', 'поселок Лисий Нос',\n",
       "       'деревня Яльгелево', 'посёлок Стеклянный', 'село Рождествено',\n",
       "       'деревня Старополье', 'посёлок Левашово', 'деревня Сяськелево',\n",
       "       'деревня Камышовка',\n",
       "       'садоводческое некоммерческое товарищество Лесная Поляна',\n",
       "       'деревня Хязельки', 'поселок Жилгородок',\n",
       "       'посёлок городского типа Павлово', 'деревня Ялгино',\n",
       "       'поселок Новый Учхоз', 'городской посёлок Рощино',\n",
       "       'поселок Гончарово', 'поселок Почап', 'посёлок Сапёрное',\n",
       "       'посёлок Платформа 69-й километр', 'поселок Каложицы',\n",
       "       'деревня Фалилеево', 'деревня Пельгора',\n",
       "       'поселок городского типа Лесогорский', 'деревня Торошковичи',\n",
       "       'посёлок Белоостров', 'посёлок Алексеевка', 'поселок Серебрянский',\n",
       "       'поселок Лукаши', 'поселок Петровское', 'деревня Щеглово',\n",
       "       'поселок Мичуринское', 'деревня Тарасово', 'поселок Кингисеппский',\n",
       "       'посёлок при железнодорожной станции Вещево', 'поселок Ушаки',\n",
       "       'деревня Котлы', 'деревня Сижно', 'деревня Торосово',\n",
       "       'посёлок Форт Красная Горка', 'поселок городского типа Токсово',\n",
       "       'деревня Новолисино', 'посёлок станции Громово', 'деревня Глинка',\n",
       "       'посёлок Мельниково', 'поселок городского типа Назия',\n",
       "       'деревня Старая Пустошь', 'поселок Коммунары', 'поселок Починок',\n",
       "       'посёлок городского типа Вознесенье', 'деревня Разбегаево',\n",
       "       'посёлок городского типа Рябово', 'поселок Гладкое',\n",
       "       'посёлок при железнодорожной станции Приветнинское',\n",
       "       'поселок Тёсово-4', 'посёлок Жилгородок', 'деревня Бор',\n",
       "       'посёлок Коробицыно', 'деревня Большая Вруда', 'деревня Курковицы',\n",
       "       'посёлок Лисий Нос', 'городской посёлок Советский',\n",
       "       'посёлок Кобралово', 'деревня Суоранда', 'поселок Кобралово',\n",
       "       'поселок городского типа Кондратьево',\n",
       "       'коттеджный поселок Счастье', 'поселок Любань', 'деревня Реброво',\n",
       "       'деревня Зимитицы', 'деревня Тойворово', 'поселок Семиозерье',\n",
       "       'поселок Лесное', 'поселок Совхозный', 'поселок Усть-Луга',\n",
       "       'посёлок Ленинское', 'посёлок Суйда',\n",
       "       'посёлок городского типа Форносово', 'деревня Нижние Осельки',\n",
       "       'посёлок станции Свирь', 'поселок Перово', 'Высоцк',\n",
       "       'поселок Гарболово', 'село Шум', 'поселок Котельский',\n",
       "       'поселок станции Лужайка', 'деревня Большая Пустомержа',\n",
       "       'поселок Красносельское', 'деревня Вахнова Кара', 'деревня Пижма',\n",
       "       'коттеджный поселок Кивеннапа Север', 'поселок Коробицыно',\n",
       "       'поселок Ромашки', 'посёлок Перово', 'деревня Каськово',\n",
       "       'деревня Куровицы', 'посёлок Плоское', 'поселок Сумино',\n",
       "       'поселок городского типа Большая Ижора', 'поселок Кирпичное',\n",
       "       'деревня Ям-Тесово', 'деревня Раздолье', 'деревня Терпилицы',\n",
       "       'посёлок Шугозеро', 'деревня Ваганово', 'поселок Пушное',\n",
       "       'садовое товарищество Садко', 'посёлок Усть-Ижора',\n",
       "       'деревня Выскатка', 'городской посёлок Свирьстрой',\n",
       "       'поселок Громово', 'деревня Кисельня', 'посёлок Старая Малукса',\n",
       "       'деревня Трубников Бор', 'поселок Калитино',\n",
       "       'посёлок Высокоключевой', 'садовое товарищество Приладожский',\n",
       "       'посёлок Пансионат Зелёный Бор', 'деревня Ненимяки',\n",
       "       'поселок Пансионат Зелёный Бор', 'деревня Снегирёвка',\n",
       "       'деревня Рапполово', 'деревня Пустынка', 'поселок Рабитицы',\n",
       "       'деревня Большой Сабск', 'деревня Русско', 'деревня Лупполово',\n",
       "       'деревня Большое Рейзино', 'деревня Малая Романовка',\n",
       "       'поселок Дружноселье', 'поселок Пчевжа', 'поселок Володарское',\n",
       "       'деревня Нижняя', 'коттеджный посёлок Лесное', 'деревня Тихковицы',\n",
       "       'деревня Борисова Грива', 'посёлок Дзержинского'], dtype=object)"
      ]
     },
     "metadata": {},
     "output_type": "display_data"
    },
    {
     "data": {
      "text/plain": [
       "364"
      ]
     },
     "metadata": {},
     "output_type": "display_data"
    }
   ],
   "source": [
    "display(data['locality_name'].unique())\n",
    "display(data['locality_name'].nunique())"
   ]
  },
  {
   "cell_type": "code",
   "execution_count": 21,
   "metadata": {},
   "outputs": [],
   "source": [
    "def rename_pos(loc_name):\n",
    "    for symbol in loc_name:\n",
    "        if symbol < 'а' and symbol != ' ':\n",
    "            return loc_name[loc_name.index(symbol):]\n",
    "\n",
    "data['cor_locality_name'] = data[data['locality_name'].notna()]['locality_name'].apply(rename_pos)"
   ]
  },
  {
   "cell_type": "code",
   "execution_count": 22,
   "metadata": {
    "scrolled": true
   },
   "outputs": [
    {
     "data": {
      "text/plain": [
       "['Агалатово',\n",
       " 'Александровская',\n",
       " 'Алексеевка',\n",
       " 'Аннино',\n",
       " 'Аро',\n",
       " 'Барышево',\n",
       " 'Батово',\n",
       " 'Бегуницы',\n",
       " 'Белогорка',\n",
       " 'Белоостров',\n",
       " 'Бокситогорск',\n",
       " 'Большая Вруда',\n",
       " 'Большая Ижора',\n",
       " 'Большая Пустомержа',\n",
       " 'Большие Колпаны',\n",
       " 'Большое Рейзино',\n",
       " 'Большой Сабск',\n",
       " 'Бор',\n",
       " 'Борисова Грива',\n",
       " 'Бугры',\n",
       " 'Будогощь',\n",
       " 'Ваганово',\n",
       " 'Важины',\n",
       " 'Вартемяги',\n",
       " 'Вахнова Кара',\n",
       " 'Вещево',\n",
       " 'Виллози',\n",
       " 'Вознесенье',\n",
       " 'Возрождение',\n",
       " 'Войсковицы',\n",
       " 'Войскорово',\n",
       " 'Володарское',\n",
       " 'Волосово',\n",
       " 'Волхов',\n",
       " 'Всеволожск',\n",
       " 'Выборг',\n",
       " 'Вырица',\n",
       " 'Выскатка',\n",
       " 'Высокоключевой',\n",
       " 'Высоцк',\n",
       " 'Гаврилово',\n",
       " 'Гарболово',\n",
       " 'Гатчина',\n",
       " 'Гладкое',\n",
       " 'Глажево',\n",
       " 'Глебычево',\n",
       " 'Глинка',\n",
       " 'Гончарово',\n",
       " 'Горбунки',\n",
       " 'Гостилицы',\n",
       " 'Громово',\n",
       " 'Дзержинского',\n",
       " 'Дружная Горка',\n",
       " 'Дружноселье',\n",
       " 'Дубровка',\n",
       " 'Елизаветино',\n",
       " 'Ефимовский',\n",
       " 'Жилгородок',\n",
       " 'Жилпосёлок',\n",
       " 'Житково',\n",
       " 'Заводской',\n",
       " 'Заклинье',\n",
       " 'Заневка',\n",
       " 'Запорожское',\n",
       " 'Зеленогорск',\n",
       " 'Зимитицы',\n",
       " 'Ивангород',\n",
       " 'Извара',\n",
       " 'Ильичёво',\n",
       " 'Иссад',\n",
       " 'Калитино',\n",
       " 'Каложицы',\n",
       " 'Кальтино',\n",
       " 'Каменногорск',\n",
       " 'Камышовка',\n",
       " 'Каськово',\n",
       " 'Келози',\n",
       " 'Кивеннапа Север',\n",
       " 'Кикерино',\n",
       " 'Кингисепп',\n",
       " 'Кингисеппский',\n",
       " 'Кипень',\n",
       " 'Кириши',\n",
       " 'Кировск',\n",
       " 'Кирпичное',\n",
       " 'Кисельня',\n",
       " 'Кобралово',\n",
       " 'Кобринское',\n",
       " 'Колпино',\n",
       " 'Колтуши',\n",
       " 'Коммунар',\n",
       " 'Коммунары',\n",
       " 'Кондратьево',\n",
       " 'Копорье',\n",
       " 'Коркино',\n",
       " 'Корнево',\n",
       " 'Коробицыно',\n",
       " 'Котельский',\n",
       " 'Котлы',\n",
       " 'Красная Долина',\n",
       " 'Красное Село',\n",
       " 'Красносельское',\n",
       " 'Красный Бор',\n",
       " 'Кривко',\n",
       " 'Кронштадт',\n",
       " 'Кудрово',\n",
       " 'Кузнечное',\n",
       " 'Кузьмолово',\n",
       " 'Кузьмоловский',\n",
       " 'Курковицы',\n",
       " 'Куровицы',\n",
       " 'Куттузи',\n",
       " 'Лаврики',\n",
       " 'Лаголово',\n",
       " 'Лампово',\n",
       " 'Лебяжье',\n",
       " 'Левашово',\n",
       " 'Ленинское',\n",
       " 'Лесколово',\n",
       " 'Лесная Поляна',\n",
       " 'Лесное',\n",
       " 'Лесогорский',\n",
       " 'Лисий Нос',\n",
       " 'Лодейное Поле',\n",
       " 'Ломоносов',\n",
       " 'Лопухинка',\n",
       " 'Луга',\n",
       " 'Лужайка',\n",
       " 'Лукаши',\n",
       " 'Лупполово',\n",
       " 'Любань',\n",
       " 'Малая Романовка',\n",
       " 'Малое Верево',\n",
       " 'Малое Карлино',\n",
       " 'Малые Колпаны',\n",
       " 'Мануйлово',\n",
       " 'Мга',\n",
       " 'Мельниково',\n",
       " 'Меньково',\n",
       " 'Металлострой',\n",
       " 'Мины',\n",
       " 'Мистолово',\n",
       " 'Мичуринское',\n",
       " 'Молодцово',\n",
       " 'Молодёжное',\n",
       " 'Морозова',\n",
       " 'Мурино',\n",
       " 'Мыза-Ивановка',\n",
       " 'Назия',\n",
       " 'Ненимяки',\n",
       " 'Нижние Осельки',\n",
       " 'Нижняя',\n",
       " 'Низино',\n",
       " 'Никольский',\n",
       " 'Никольское',\n",
       " 'Новая Ладога',\n",
       " 'Новая Ропша',\n",
       " 'Новогорелово',\n",
       " 'Новое Девяткино',\n",
       " 'Новолисино',\n",
       " 'Новоселье',\n",
       " 'Новый Свет',\n",
       " 'Новый Учхоз',\n",
       " 'Нурма',\n",
       " 'Оредеж',\n",
       " 'Оржицы',\n",
       " 'Отрадное',\n",
       " 'Павлово',\n",
       " 'Павловск',\n",
       " 'Пансионат Зелёный Бор',\n",
       " 'Парголово',\n",
       " 'Парицы',\n",
       " 'Паша',\n",
       " 'Пельгора',\n",
       " 'Пеники',\n",
       " 'Первомайское',\n",
       " 'Перово',\n",
       " 'Песочный',\n",
       " 'Петергоф',\n",
       " 'Петро-Славянка',\n",
       " 'Петровское',\n",
       " 'Пижма',\n",
       " 'Пикалёво',\n",
       " 'Пикколово',\n",
       " 'Платформа 69-й километр',\n",
       " 'Плодовое',\n",
       " 'Плоское',\n",
       " 'Победа',\n",
       " 'Подпорожье',\n",
       " 'Поляны',\n",
       " 'Понтонный',\n",
       " 'Почап',\n",
       " 'Починок',\n",
       " 'Приветнинское',\n",
       " 'Пригородный',\n",
       " 'Приладожский',\n",
       " 'Приморск',\n",
       " 'Приозерск',\n",
       " 'Пудомяги',\n",
       " 'Пудость',\n",
       " 'Пустынка',\n",
       " 'Путилово',\n",
       " 'Пушкин',\n",
       " 'Пушное',\n",
       " 'Пчева',\n",
       " 'Пчевжа',\n",
       " 'Рабитицы',\n",
       " 'Разбегаево',\n",
       " 'Раздолье',\n",
       " 'Разметелево',\n",
       " 'Рапполово',\n",
       " 'Рахья',\n",
       " 'Реброво',\n",
       " 'Репино',\n",
       " 'Рождествено',\n",
       " 'Романовка',\n",
       " 'Ромашки',\n",
       " 'Ропша',\n",
       " 'Рощино',\n",
       " 'Русско',\n",
       " 'Русско-Высоцкое',\n",
       " 'Рябово',\n",
       " 'Садко',\n",
       " 'Санкт-Петербург',\n",
       " 'Сапёрное',\n",
       " 'Сапёрный',\n",
       " 'Свердлова',\n",
       " 'Светогорск',\n",
       " 'Свирь',\n",
       " 'Свирьстрой',\n",
       " 'Севастьяново',\n",
       " 'Селезнёво',\n",
       " 'Сельцо',\n",
       " 'Семиозерье',\n",
       " 'Семрино',\n",
       " 'Серебрянский',\n",
       " 'Сертолово',\n",
       " 'Сестрорецк',\n",
       " 'Сиверский',\n",
       " 'Сижно',\n",
       " 'Синявино',\n",
       " 'Сланцы',\n",
       " 'Снегирёвка',\n",
       " 'Советский',\n",
       " 'Совхозный',\n",
       " 'Сосново',\n",
       " 'Сосновый Бор',\n",
       " 'Старая',\n",
       " 'Старая Ладога',\n",
       " 'Старая Малукса',\n",
       " 'Старая Пустошь',\n",
       " 'Старое Хинколово',\n",
       " 'Старополье',\n",
       " 'Старосиверская',\n",
       " 'Старые Бегуницы',\n",
       " 'Стеклянный',\n",
       " 'Стрельна',\n",
       " 'Суйда',\n",
       " 'Сумино',\n",
       " 'Суоранда',\n",
       " 'Суходолье',\n",
       " 'Счастье',\n",
       " 'Сяськелево',\n",
       " 'Сясьстрой',\n",
       " 'Тайцы',\n",
       " 'Тарасово',\n",
       " 'Тельмана',\n",
       " 'Терволово',\n",
       " 'Терпилицы',\n",
       " 'Тихвин',\n",
       " 'Тихковицы',\n",
       " 'Тойворово',\n",
       " 'Токсово',\n",
       " 'Торковичи',\n",
       " 'Торосово',\n",
       " 'Торошковичи',\n",
       " 'Торфяное',\n",
       " 'Тосно',\n",
       " 'Трубников Бор',\n",
       " 'Тёсово-4',\n",
       " 'Углово',\n",
       " 'Ульяновка',\n",
       " 'Усть-Ижора',\n",
       " 'Усть-Луга',\n",
       " 'Ушаки',\n",
       " 'Фалилеево',\n",
       " 'Форносово',\n",
       " 'Форт Красная Горка',\n",
       " 'Фёдоровское',\n",
       " 'Хапо-Ое',\n",
       " 'Хязельки',\n",
       " 'Цвелодубово',\n",
       " 'Цвылёво',\n",
       " 'Чудской Бор',\n",
       " 'Шлиссельбург',\n",
       " 'Шпаньково',\n",
       " 'Шугозеро',\n",
       " 'Шум',\n",
       " 'Шушары',\n",
       " 'Щеглово',\n",
       " 'Юкки',\n",
       " 'Ялгино',\n",
       " 'Яльгелево',\n",
       " 'Ям-Тесово',\n",
       " 'Янино-1']"
      ]
     },
     "metadata": {},
     "output_type": "display_data"
    },
    {
     "data": {
      "text/plain": [
       "305"
      ]
     },
     "metadata": {},
     "output_type": "display_data"
    }
   ],
   "source": [
    "display(sorted(data[data['cor_locality_name'].notna()]['cor_locality_name'].unique()))\n",
    "display(data['cor_locality_name'].nunique())"
   ]
  },
  {
   "cell_type": "markdown",
   "metadata": {},
   "source": [
    "**Выводы по обработке дубликатов:** \n",
    "- В датасете отсутствовали явные дубликаты;\n",
    "- В датасете были обнаружены и откорректированы **59** (364 - 305) неявных дубликатов в столбце 'locality_name'."
   ]
  },
  {
   "cell_type": "markdown",
   "metadata": {
    "id": "QCcvyY6YAwb-"
   },
   "source": [
    "### Добавьте в таблицу новые столбцы"
   ]
  },
  {
   "cell_type": "markdown",
   "metadata": {
    "id": "Z8eJek3IAwb-"
   },
   "source": [
    "Добавление столбца \"Цена одного квадратного метра\""
   ]
  },
  {
   "cell_type": "code",
   "execution_count": 23,
   "metadata": {},
   "outputs": [
    {
     "data": {
      "text/html": [
       "<div>\n",
       "<style scoped>\n",
       "    .dataframe tbody tr th:only-of-type {\n",
       "        vertical-align: middle;\n",
       "    }\n",
       "\n",
       "    .dataframe tbody tr th {\n",
       "        vertical-align: top;\n",
       "    }\n",
       "\n",
       "    .dataframe thead th {\n",
       "        text-align: right;\n",
       "    }\n",
       "</style>\n",
       "<table border=\"1\" class=\"dataframe\">\n",
       "  <thead>\n",
       "    <tr style=\"text-align: right;\">\n",
       "      <th></th>\n",
       "      <th>total_images</th>\n",
       "      <th>last_price</th>\n",
       "      <th>total_area</th>\n",
       "      <th>first_day_exposition</th>\n",
       "      <th>rooms</th>\n",
       "      <th>ceiling_height</th>\n",
       "      <th>floors_total</th>\n",
       "      <th>living_area</th>\n",
       "      <th>floor</th>\n",
       "      <th>is_apartment</th>\n",
       "      <th>...</th>\n",
       "      <th>locality_name</th>\n",
       "      <th>airports_nearest</th>\n",
       "      <th>cityCenters_nearest</th>\n",
       "      <th>parks_around3000</th>\n",
       "      <th>parks_nearest</th>\n",
       "      <th>ponds_around3000</th>\n",
       "      <th>ponds_nearest</th>\n",
       "      <th>days_exposition</th>\n",
       "      <th>cor_locality_name</th>\n",
       "      <th>price_per_m2</th>\n",
       "    </tr>\n",
       "  </thead>\n",
       "  <tbody>\n",
       "    <tr>\n",
       "      <th>0</th>\n",
       "      <td>20</td>\n",
       "      <td>13000000.0</td>\n",
       "      <td>108.0</td>\n",
       "      <td>2019-03-07</td>\n",
       "      <td>3</td>\n",
       "      <td>2.70</td>\n",
       "      <td>16.0</td>\n",
       "      <td>51.0</td>\n",
       "      <td>8</td>\n",
       "      <td>False</td>\n",
       "      <td>...</td>\n",
       "      <td>Санкт-Петербург</td>\n",
       "      <td>18863.0</td>\n",
       "      <td>16028.0</td>\n",
       "      <td>1.0</td>\n",
       "      <td>482.0</td>\n",
       "      <td>2.0</td>\n",
       "      <td>755.0</td>\n",
       "      <td>NaN</td>\n",
       "      <td>Санкт-Петербург</td>\n",
       "      <td>120370.37</td>\n",
       "    </tr>\n",
       "    <tr>\n",
       "      <th>1</th>\n",
       "      <td>7</td>\n",
       "      <td>3350000.0</td>\n",
       "      <td>40.4</td>\n",
       "      <td>2018-12-04</td>\n",
       "      <td>1</td>\n",
       "      <td>NaN</td>\n",
       "      <td>11.0</td>\n",
       "      <td>18.6</td>\n",
       "      <td>1</td>\n",
       "      <td>False</td>\n",
       "      <td>...</td>\n",
       "      <td>посёлок Шушары</td>\n",
       "      <td>12817.0</td>\n",
       "      <td>18603.0</td>\n",
       "      <td>0.0</td>\n",
       "      <td>NaN</td>\n",
       "      <td>0.0</td>\n",
       "      <td>NaN</td>\n",
       "      <td>81.0</td>\n",
       "      <td>Шушары</td>\n",
       "      <td>82920.79</td>\n",
       "    </tr>\n",
       "    <tr>\n",
       "      <th>2</th>\n",
       "      <td>10</td>\n",
       "      <td>5196000.0</td>\n",
       "      <td>56.0</td>\n",
       "      <td>2015-08-20</td>\n",
       "      <td>2</td>\n",
       "      <td>NaN</td>\n",
       "      <td>5.0</td>\n",
       "      <td>34.3</td>\n",
       "      <td>4</td>\n",
       "      <td>False</td>\n",
       "      <td>...</td>\n",
       "      <td>Санкт-Петербург</td>\n",
       "      <td>21741.0</td>\n",
       "      <td>13933.0</td>\n",
       "      <td>1.0</td>\n",
       "      <td>90.0</td>\n",
       "      <td>2.0</td>\n",
       "      <td>574.0</td>\n",
       "      <td>558.0</td>\n",
       "      <td>Санкт-Петербург</td>\n",
       "      <td>92785.71</td>\n",
       "    </tr>\n",
       "    <tr>\n",
       "      <th>3</th>\n",
       "      <td>0</td>\n",
       "      <td>64900000.0</td>\n",
       "      <td>159.0</td>\n",
       "      <td>2015-07-24</td>\n",
       "      <td>3</td>\n",
       "      <td>NaN</td>\n",
       "      <td>14.0</td>\n",
       "      <td>NaN</td>\n",
       "      <td>9</td>\n",
       "      <td>False</td>\n",
       "      <td>...</td>\n",
       "      <td>Санкт-Петербург</td>\n",
       "      <td>28098.0</td>\n",
       "      <td>6800.0</td>\n",
       "      <td>2.0</td>\n",
       "      <td>84.0</td>\n",
       "      <td>3.0</td>\n",
       "      <td>234.0</td>\n",
       "      <td>424.0</td>\n",
       "      <td>Санкт-Петербург</td>\n",
       "      <td>408176.10</td>\n",
       "    </tr>\n",
       "    <tr>\n",
       "      <th>4</th>\n",
       "      <td>2</td>\n",
       "      <td>10000000.0</td>\n",
       "      <td>100.0</td>\n",
       "      <td>2018-06-19</td>\n",
       "      <td>2</td>\n",
       "      <td>3.03</td>\n",
       "      <td>14.0</td>\n",
       "      <td>32.0</td>\n",
       "      <td>13</td>\n",
       "      <td>False</td>\n",
       "      <td>...</td>\n",
       "      <td>Санкт-Петербург</td>\n",
       "      <td>31856.0</td>\n",
       "      <td>8098.0</td>\n",
       "      <td>2.0</td>\n",
       "      <td>112.0</td>\n",
       "      <td>1.0</td>\n",
       "      <td>48.0</td>\n",
       "      <td>121.0</td>\n",
       "      <td>Санкт-Петербург</td>\n",
       "      <td>100000.00</td>\n",
       "    </tr>\n",
       "  </tbody>\n",
       "</table>\n",
       "<p>5 rows × 24 columns</p>\n",
       "</div>"
      ],
      "text/plain": [
       "   total_images  last_price  total_area first_day_exposition  rooms  \\\n",
       "0            20  13000000.0       108.0           2019-03-07      3   \n",
       "1             7   3350000.0        40.4           2018-12-04      1   \n",
       "2            10   5196000.0        56.0           2015-08-20      2   \n",
       "3             0  64900000.0       159.0           2015-07-24      3   \n",
       "4             2  10000000.0       100.0           2018-06-19      2   \n",
       "\n",
       "   ceiling_height  floors_total  living_area  floor  is_apartment  ...  \\\n",
       "0            2.70          16.0         51.0      8         False  ...   \n",
       "1             NaN          11.0         18.6      1         False  ...   \n",
       "2             NaN           5.0         34.3      4         False  ...   \n",
       "3             NaN          14.0          NaN      9         False  ...   \n",
       "4            3.03          14.0         32.0     13         False  ...   \n",
       "\n",
       "     locality_name  airports_nearest  cityCenters_nearest  parks_around3000  \\\n",
       "0  Санкт-Петербург           18863.0              16028.0               1.0   \n",
       "1   посёлок Шушары           12817.0              18603.0               0.0   \n",
       "2  Санкт-Петербург           21741.0              13933.0               1.0   \n",
       "3  Санкт-Петербург           28098.0               6800.0               2.0   \n",
       "4  Санкт-Петербург           31856.0               8098.0               2.0   \n",
       "\n",
       "  parks_nearest  ponds_around3000  ponds_nearest  days_exposition  \\\n",
       "0         482.0               2.0          755.0              NaN   \n",
       "1           NaN               0.0            NaN             81.0   \n",
       "2          90.0               2.0          574.0            558.0   \n",
       "3          84.0               3.0          234.0            424.0   \n",
       "4         112.0               1.0           48.0            121.0   \n",
       "\n",
       "   cor_locality_name  price_per_m2  \n",
       "0    Санкт-Петербург     120370.37  \n",
       "1             Шушары      82920.79  \n",
       "2    Санкт-Петербург      92785.71  \n",
       "3    Санкт-Петербург     408176.10  \n",
       "4    Санкт-Петербург     100000.00  \n",
       "\n",
       "[5 rows x 24 columns]"
      ]
     },
     "metadata": {},
     "output_type": "display_data"
    }
   ],
   "source": [
    "data['price_per_m2'] = round(data['last_price'] / data['total_area'], 2)\n",
    "display(data.head())"
   ]
  },
  {
   "cell_type": "markdown",
   "metadata": {},
   "source": [
    "Добавление столбца \"День недели публикации объявления\""
   ]
  },
  {
   "cell_type": "code",
   "execution_count": 24,
   "metadata": {},
   "outputs": [
    {
     "data": {
      "text/html": [
       "<div>\n",
       "<style scoped>\n",
       "    .dataframe tbody tr th:only-of-type {\n",
       "        vertical-align: middle;\n",
       "    }\n",
       "\n",
       "    .dataframe tbody tr th {\n",
       "        vertical-align: top;\n",
       "    }\n",
       "\n",
       "    .dataframe thead th {\n",
       "        text-align: right;\n",
       "    }\n",
       "</style>\n",
       "<table border=\"1\" class=\"dataframe\">\n",
       "  <thead>\n",
       "    <tr style=\"text-align: right;\">\n",
       "      <th></th>\n",
       "      <th>total_images</th>\n",
       "      <th>last_price</th>\n",
       "      <th>total_area</th>\n",
       "      <th>first_day_exposition</th>\n",
       "      <th>rooms</th>\n",
       "      <th>ceiling_height</th>\n",
       "      <th>floors_total</th>\n",
       "      <th>living_area</th>\n",
       "      <th>floor</th>\n",
       "      <th>is_apartment</th>\n",
       "      <th>...</th>\n",
       "      <th>airports_nearest</th>\n",
       "      <th>cityCenters_nearest</th>\n",
       "      <th>parks_around3000</th>\n",
       "      <th>parks_nearest</th>\n",
       "      <th>ponds_around3000</th>\n",
       "      <th>ponds_nearest</th>\n",
       "      <th>days_exposition</th>\n",
       "      <th>cor_locality_name</th>\n",
       "      <th>price_per_m2</th>\n",
       "      <th>day_of_week</th>\n",
       "    </tr>\n",
       "  </thead>\n",
       "  <tbody>\n",
       "    <tr>\n",
       "      <th>0</th>\n",
       "      <td>20</td>\n",
       "      <td>13000000.0</td>\n",
       "      <td>108.0</td>\n",
       "      <td>2019-03-07</td>\n",
       "      <td>3</td>\n",
       "      <td>2.70</td>\n",
       "      <td>16.0</td>\n",
       "      <td>51.0</td>\n",
       "      <td>8</td>\n",
       "      <td>False</td>\n",
       "      <td>...</td>\n",
       "      <td>18863.0</td>\n",
       "      <td>16028.0</td>\n",
       "      <td>1.0</td>\n",
       "      <td>482.0</td>\n",
       "      <td>2.0</td>\n",
       "      <td>755.0</td>\n",
       "      <td>NaN</td>\n",
       "      <td>Санкт-Петербург</td>\n",
       "      <td>120370.37</td>\n",
       "      <td>3</td>\n",
       "    </tr>\n",
       "    <tr>\n",
       "      <th>1</th>\n",
       "      <td>7</td>\n",
       "      <td>3350000.0</td>\n",
       "      <td>40.4</td>\n",
       "      <td>2018-12-04</td>\n",
       "      <td>1</td>\n",
       "      <td>NaN</td>\n",
       "      <td>11.0</td>\n",
       "      <td>18.6</td>\n",
       "      <td>1</td>\n",
       "      <td>False</td>\n",
       "      <td>...</td>\n",
       "      <td>12817.0</td>\n",
       "      <td>18603.0</td>\n",
       "      <td>0.0</td>\n",
       "      <td>NaN</td>\n",
       "      <td>0.0</td>\n",
       "      <td>NaN</td>\n",
       "      <td>81.0</td>\n",
       "      <td>Шушары</td>\n",
       "      <td>82920.79</td>\n",
       "      <td>1</td>\n",
       "    </tr>\n",
       "    <tr>\n",
       "      <th>2</th>\n",
       "      <td>10</td>\n",
       "      <td>5196000.0</td>\n",
       "      <td>56.0</td>\n",
       "      <td>2015-08-20</td>\n",
       "      <td>2</td>\n",
       "      <td>NaN</td>\n",
       "      <td>5.0</td>\n",
       "      <td>34.3</td>\n",
       "      <td>4</td>\n",
       "      <td>False</td>\n",
       "      <td>...</td>\n",
       "      <td>21741.0</td>\n",
       "      <td>13933.0</td>\n",
       "      <td>1.0</td>\n",
       "      <td>90.0</td>\n",
       "      <td>2.0</td>\n",
       "      <td>574.0</td>\n",
       "      <td>558.0</td>\n",
       "      <td>Санкт-Петербург</td>\n",
       "      <td>92785.71</td>\n",
       "      <td>3</td>\n",
       "    </tr>\n",
       "    <tr>\n",
       "      <th>3</th>\n",
       "      <td>0</td>\n",
       "      <td>64900000.0</td>\n",
       "      <td>159.0</td>\n",
       "      <td>2015-07-24</td>\n",
       "      <td>3</td>\n",
       "      <td>NaN</td>\n",
       "      <td>14.0</td>\n",
       "      <td>NaN</td>\n",
       "      <td>9</td>\n",
       "      <td>False</td>\n",
       "      <td>...</td>\n",
       "      <td>28098.0</td>\n",
       "      <td>6800.0</td>\n",
       "      <td>2.0</td>\n",
       "      <td>84.0</td>\n",
       "      <td>3.0</td>\n",
       "      <td>234.0</td>\n",
       "      <td>424.0</td>\n",
       "      <td>Санкт-Петербург</td>\n",
       "      <td>408176.10</td>\n",
       "      <td>4</td>\n",
       "    </tr>\n",
       "    <tr>\n",
       "      <th>4</th>\n",
       "      <td>2</td>\n",
       "      <td>10000000.0</td>\n",
       "      <td>100.0</td>\n",
       "      <td>2018-06-19</td>\n",
       "      <td>2</td>\n",
       "      <td>3.03</td>\n",
       "      <td>14.0</td>\n",
       "      <td>32.0</td>\n",
       "      <td>13</td>\n",
       "      <td>False</td>\n",
       "      <td>...</td>\n",
       "      <td>31856.0</td>\n",
       "      <td>8098.0</td>\n",
       "      <td>2.0</td>\n",
       "      <td>112.0</td>\n",
       "      <td>1.0</td>\n",
       "      <td>48.0</td>\n",
       "      <td>121.0</td>\n",
       "      <td>Санкт-Петербург</td>\n",
       "      <td>100000.00</td>\n",
       "      <td>1</td>\n",
       "    </tr>\n",
       "  </tbody>\n",
       "</table>\n",
       "<p>5 rows × 25 columns</p>\n",
       "</div>"
      ],
      "text/plain": [
       "   total_images  last_price  total_area first_day_exposition  rooms  \\\n",
       "0            20  13000000.0       108.0           2019-03-07      3   \n",
       "1             7   3350000.0        40.4           2018-12-04      1   \n",
       "2            10   5196000.0        56.0           2015-08-20      2   \n",
       "3             0  64900000.0       159.0           2015-07-24      3   \n",
       "4             2  10000000.0       100.0           2018-06-19      2   \n",
       "\n",
       "   ceiling_height  floors_total  living_area  floor  is_apartment  ...  \\\n",
       "0            2.70          16.0         51.0      8         False  ...   \n",
       "1             NaN          11.0         18.6      1         False  ...   \n",
       "2             NaN           5.0         34.3      4         False  ...   \n",
       "3             NaN          14.0          NaN      9         False  ...   \n",
       "4            3.03          14.0         32.0     13         False  ...   \n",
       "\n",
       "   airports_nearest  cityCenters_nearest  parks_around3000  parks_nearest  \\\n",
       "0           18863.0              16028.0               1.0          482.0   \n",
       "1           12817.0              18603.0               0.0            NaN   \n",
       "2           21741.0              13933.0               1.0           90.0   \n",
       "3           28098.0               6800.0               2.0           84.0   \n",
       "4           31856.0               8098.0               2.0          112.0   \n",
       "\n",
       "  ponds_around3000  ponds_nearest  days_exposition  cor_locality_name  \\\n",
       "0              2.0          755.0              NaN    Санкт-Петербург   \n",
       "1              0.0            NaN             81.0             Шушары   \n",
       "2              2.0          574.0            558.0    Санкт-Петербург   \n",
       "3              3.0          234.0            424.0    Санкт-Петербург   \n",
       "4              1.0           48.0            121.0    Санкт-Петербург   \n",
       "\n",
       "   price_per_m2  day_of_week  \n",
       "0     120370.37            3  \n",
       "1      82920.79            1  \n",
       "2      92785.71            3  \n",
       "3     408176.10            4  \n",
       "4     100000.00            1  \n",
       "\n",
       "[5 rows x 25 columns]"
      ]
     },
     "metadata": {},
     "output_type": "display_data"
    }
   ],
   "source": [
    "data['day_of_week'] = data['first_day_exposition'].dt.dayofweek\n",
    "display(data.head())"
   ]
  },
  {
   "cell_type": "markdown",
   "metadata": {},
   "source": [
    "Добавление столбца \"Месяц публикации объявления\""
   ]
  },
  {
   "cell_type": "code",
   "execution_count": 25,
   "metadata": {},
   "outputs": [
    {
     "data": {
      "text/html": [
       "<div>\n",
       "<style scoped>\n",
       "    .dataframe tbody tr th:only-of-type {\n",
       "        vertical-align: middle;\n",
       "    }\n",
       "\n",
       "    .dataframe tbody tr th {\n",
       "        vertical-align: top;\n",
       "    }\n",
       "\n",
       "    .dataframe thead th {\n",
       "        text-align: right;\n",
       "    }\n",
       "</style>\n",
       "<table border=\"1\" class=\"dataframe\">\n",
       "  <thead>\n",
       "    <tr style=\"text-align: right;\">\n",
       "      <th></th>\n",
       "      <th>total_images</th>\n",
       "      <th>last_price</th>\n",
       "      <th>total_area</th>\n",
       "      <th>first_day_exposition</th>\n",
       "      <th>rooms</th>\n",
       "      <th>ceiling_height</th>\n",
       "      <th>floors_total</th>\n",
       "      <th>living_area</th>\n",
       "      <th>floor</th>\n",
       "      <th>is_apartment</th>\n",
       "      <th>...</th>\n",
       "      <th>cityCenters_nearest</th>\n",
       "      <th>parks_around3000</th>\n",
       "      <th>parks_nearest</th>\n",
       "      <th>ponds_around3000</th>\n",
       "      <th>ponds_nearest</th>\n",
       "      <th>days_exposition</th>\n",
       "      <th>cor_locality_name</th>\n",
       "      <th>price_per_m2</th>\n",
       "      <th>day_of_week</th>\n",
       "      <th>month</th>\n",
       "    </tr>\n",
       "  </thead>\n",
       "  <tbody>\n",
       "    <tr>\n",
       "      <th>0</th>\n",
       "      <td>20</td>\n",
       "      <td>13000000.0</td>\n",
       "      <td>108.0</td>\n",
       "      <td>2019-03-07</td>\n",
       "      <td>3</td>\n",
       "      <td>2.70</td>\n",
       "      <td>16.0</td>\n",
       "      <td>51.0</td>\n",
       "      <td>8</td>\n",
       "      <td>False</td>\n",
       "      <td>...</td>\n",
       "      <td>16028.0</td>\n",
       "      <td>1.0</td>\n",
       "      <td>482.0</td>\n",
       "      <td>2.0</td>\n",
       "      <td>755.0</td>\n",
       "      <td>NaN</td>\n",
       "      <td>Санкт-Петербург</td>\n",
       "      <td>120370.37</td>\n",
       "      <td>3</td>\n",
       "      <td>3</td>\n",
       "    </tr>\n",
       "    <tr>\n",
       "      <th>1</th>\n",
       "      <td>7</td>\n",
       "      <td>3350000.0</td>\n",
       "      <td>40.4</td>\n",
       "      <td>2018-12-04</td>\n",
       "      <td>1</td>\n",
       "      <td>NaN</td>\n",
       "      <td>11.0</td>\n",
       "      <td>18.6</td>\n",
       "      <td>1</td>\n",
       "      <td>False</td>\n",
       "      <td>...</td>\n",
       "      <td>18603.0</td>\n",
       "      <td>0.0</td>\n",
       "      <td>NaN</td>\n",
       "      <td>0.0</td>\n",
       "      <td>NaN</td>\n",
       "      <td>81.0</td>\n",
       "      <td>Шушары</td>\n",
       "      <td>82920.79</td>\n",
       "      <td>1</td>\n",
       "      <td>12</td>\n",
       "    </tr>\n",
       "    <tr>\n",
       "      <th>2</th>\n",
       "      <td>10</td>\n",
       "      <td>5196000.0</td>\n",
       "      <td>56.0</td>\n",
       "      <td>2015-08-20</td>\n",
       "      <td>2</td>\n",
       "      <td>NaN</td>\n",
       "      <td>5.0</td>\n",
       "      <td>34.3</td>\n",
       "      <td>4</td>\n",
       "      <td>False</td>\n",
       "      <td>...</td>\n",
       "      <td>13933.0</td>\n",
       "      <td>1.0</td>\n",
       "      <td>90.0</td>\n",
       "      <td>2.0</td>\n",
       "      <td>574.0</td>\n",
       "      <td>558.0</td>\n",
       "      <td>Санкт-Петербург</td>\n",
       "      <td>92785.71</td>\n",
       "      <td>3</td>\n",
       "      <td>8</td>\n",
       "    </tr>\n",
       "    <tr>\n",
       "      <th>3</th>\n",
       "      <td>0</td>\n",
       "      <td>64900000.0</td>\n",
       "      <td>159.0</td>\n",
       "      <td>2015-07-24</td>\n",
       "      <td>3</td>\n",
       "      <td>NaN</td>\n",
       "      <td>14.0</td>\n",
       "      <td>NaN</td>\n",
       "      <td>9</td>\n",
       "      <td>False</td>\n",
       "      <td>...</td>\n",
       "      <td>6800.0</td>\n",
       "      <td>2.0</td>\n",
       "      <td>84.0</td>\n",
       "      <td>3.0</td>\n",
       "      <td>234.0</td>\n",
       "      <td>424.0</td>\n",
       "      <td>Санкт-Петербург</td>\n",
       "      <td>408176.10</td>\n",
       "      <td>4</td>\n",
       "      <td>7</td>\n",
       "    </tr>\n",
       "    <tr>\n",
       "      <th>4</th>\n",
       "      <td>2</td>\n",
       "      <td>10000000.0</td>\n",
       "      <td>100.0</td>\n",
       "      <td>2018-06-19</td>\n",
       "      <td>2</td>\n",
       "      <td>3.03</td>\n",
       "      <td>14.0</td>\n",
       "      <td>32.0</td>\n",
       "      <td>13</td>\n",
       "      <td>False</td>\n",
       "      <td>...</td>\n",
       "      <td>8098.0</td>\n",
       "      <td>2.0</td>\n",
       "      <td>112.0</td>\n",
       "      <td>1.0</td>\n",
       "      <td>48.0</td>\n",
       "      <td>121.0</td>\n",
       "      <td>Санкт-Петербург</td>\n",
       "      <td>100000.00</td>\n",
       "      <td>1</td>\n",
       "      <td>6</td>\n",
       "    </tr>\n",
       "  </tbody>\n",
       "</table>\n",
       "<p>5 rows × 26 columns</p>\n",
       "</div>"
      ],
      "text/plain": [
       "   total_images  last_price  total_area first_day_exposition  rooms  \\\n",
       "0            20  13000000.0       108.0           2019-03-07      3   \n",
       "1             7   3350000.0        40.4           2018-12-04      1   \n",
       "2            10   5196000.0        56.0           2015-08-20      2   \n",
       "3             0  64900000.0       159.0           2015-07-24      3   \n",
       "4             2  10000000.0       100.0           2018-06-19      2   \n",
       "\n",
       "   ceiling_height  floors_total  living_area  floor  is_apartment  ...  \\\n",
       "0            2.70          16.0         51.0      8         False  ...   \n",
       "1             NaN          11.0         18.6      1         False  ...   \n",
       "2             NaN           5.0         34.3      4         False  ...   \n",
       "3             NaN          14.0          NaN      9         False  ...   \n",
       "4            3.03          14.0         32.0     13         False  ...   \n",
       "\n",
       "   cityCenters_nearest  parks_around3000  parks_nearest  ponds_around3000  \\\n",
       "0              16028.0               1.0          482.0               2.0   \n",
       "1              18603.0               0.0            NaN               0.0   \n",
       "2              13933.0               1.0           90.0               2.0   \n",
       "3               6800.0               2.0           84.0               3.0   \n",
       "4               8098.0               2.0          112.0               1.0   \n",
       "\n",
       "  ponds_nearest  days_exposition  cor_locality_name  price_per_m2  \\\n",
       "0         755.0              NaN    Санкт-Петербург     120370.37   \n",
       "1           NaN             81.0             Шушары      82920.79   \n",
       "2         574.0            558.0    Санкт-Петербург      92785.71   \n",
       "3         234.0            424.0    Санкт-Петербург     408176.10   \n",
       "4          48.0            121.0    Санкт-Петербург     100000.00   \n",
       "\n",
       "   day_of_week  month  \n",
       "0            3      3  \n",
       "1            1     12  \n",
       "2            3      8  \n",
       "3            4      7  \n",
       "4            1      6  \n",
       "\n",
       "[5 rows x 26 columns]"
      ]
     },
     "metadata": {},
     "output_type": "display_data"
    }
   ],
   "source": [
    "data['month'] = data['first_day_exposition'].dt.month\n",
    "display(data.head())"
   ]
  },
  {
   "cell_type": "markdown",
   "metadata": {},
   "source": [
    "Добавление столбца \"Год публикации объявления\""
   ]
  },
  {
   "cell_type": "code",
   "execution_count": 26,
   "metadata": {},
   "outputs": [
    {
     "data": {
      "text/html": [
       "<div>\n",
       "<style scoped>\n",
       "    .dataframe tbody tr th:only-of-type {\n",
       "        vertical-align: middle;\n",
       "    }\n",
       "\n",
       "    .dataframe tbody tr th {\n",
       "        vertical-align: top;\n",
       "    }\n",
       "\n",
       "    .dataframe thead th {\n",
       "        text-align: right;\n",
       "    }\n",
       "</style>\n",
       "<table border=\"1\" class=\"dataframe\">\n",
       "  <thead>\n",
       "    <tr style=\"text-align: right;\">\n",
       "      <th></th>\n",
       "      <th>total_images</th>\n",
       "      <th>last_price</th>\n",
       "      <th>total_area</th>\n",
       "      <th>first_day_exposition</th>\n",
       "      <th>rooms</th>\n",
       "      <th>ceiling_height</th>\n",
       "      <th>floors_total</th>\n",
       "      <th>living_area</th>\n",
       "      <th>floor</th>\n",
       "      <th>is_apartment</th>\n",
       "      <th>...</th>\n",
       "      <th>parks_around3000</th>\n",
       "      <th>parks_nearest</th>\n",
       "      <th>ponds_around3000</th>\n",
       "      <th>ponds_nearest</th>\n",
       "      <th>days_exposition</th>\n",
       "      <th>cor_locality_name</th>\n",
       "      <th>price_per_m2</th>\n",
       "      <th>day_of_week</th>\n",
       "      <th>month</th>\n",
       "      <th>year</th>\n",
       "    </tr>\n",
       "  </thead>\n",
       "  <tbody>\n",
       "    <tr>\n",
       "      <th>0</th>\n",
       "      <td>20</td>\n",
       "      <td>13000000.0</td>\n",
       "      <td>108.0</td>\n",
       "      <td>2019-03-07</td>\n",
       "      <td>3</td>\n",
       "      <td>2.70</td>\n",
       "      <td>16.0</td>\n",
       "      <td>51.0</td>\n",
       "      <td>8</td>\n",
       "      <td>False</td>\n",
       "      <td>...</td>\n",
       "      <td>1.0</td>\n",
       "      <td>482.0</td>\n",
       "      <td>2.0</td>\n",
       "      <td>755.0</td>\n",
       "      <td>NaN</td>\n",
       "      <td>Санкт-Петербург</td>\n",
       "      <td>120370.37</td>\n",
       "      <td>3</td>\n",
       "      <td>3</td>\n",
       "      <td>2019</td>\n",
       "    </tr>\n",
       "    <tr>\n",
       "      <th>1</th>\n",
       "      <td>7</td>\n",
       "      <td>3350000.0</td>\n",
       "      <td>40.4</td>\n",
       "      <td>2018-12-04</td>\n",
       "      <td>1</td>\n",
       "      <td>NaN</td>\n",
       "      <td>11.0</td>\n",
       "      <td>18.6</td>\n",
       "      <td>1</td>\n",
       "      <td>False</td>\n",
       "      <td>...</td>\n",
       "      <td>0.0</td>\n",
       "      <td>NaN</td>\n",
       "      <td>0.0</td>\n",
       "      <td>NaN</td>\n",
       "      <td>81.0</td>\n",
       "      <td>Шушары</td>\n",
       "      <td>82920.79</td>\n",
       "      <td>1</td>\n",
       "      <td>12</td>\n",
       "      <td>2018</td>\n",
       "    </tr>\n",
       "    <tr>\n",
       "      <th>2</th>\n",
       "      <td>10</td>\n",
       "      <td>5196000.0</td>\n",
       "      <td>56.0</td>\n",
       "      <td>2015-08-20</td>\n",
       "      <td>2</td>\n",
       "      <td>NaN</td>\n",
       "      <td>5.0</td>\n",
       "      <td>34.3</td>\n",
       "      <td>4</td>\n",
       "      <td>False</td>\n",
       "      <td>...</td>\n",
       "      <td>1.0</td>\n",
       "      <td>90.0</td>\n",
       "      <td>2.0</td>\n",
       "      <td>574.0</td>\n",
       "      <td>558.0</td>\n",
       "      <td>Санкт-Петербург</td>\n",
       "      <td>92785.71</td>\n",
       "      <td>3</td>\n",
       "      <td>8</td>\n",
       "      <td>2015</td>\n",
       "    </tr>\n",
       "    <tr>\n",
       "      <th>3</th>\n",
       "      <td>0</td>\n",
       "      <td>64900000.0</td>\n",
       "      <td>159.0</td>\n",
       "      <td>2015-07-24</td>\n",
       "      <td>3</td>\n",
       "      <td>NaN</td>\n",
       "      <td>14.0</td>\n",
       "      <td>NaN</td>\n",
       "      <td>9</td>\n",
       "      <td>False</td>\n",
       "      <td>...</td>\n",
       "      <td>2.0</td>\n",
       "      <td>84.0</td>\n",
       "      <td>3.0</td>\n",
       "      <td>234.0</td>\n",
       "      <td>424.0</td>\n",
       "      <td>Санкт-Петербург</td>\n",
       "      <td>408176.10</td>\n",
       "      <td>4</td>\n",
       "      <td>7</td>\n",
       "      <td>2015</td>\n",
       "    </tr>\n",
       "    <tr>\n",
       "      <th>4</th>\n",
       "      <td>2</td>\n",
       "      <td>10000000.0</td>\n",
       "      <td>100.0</td>\n",
       "      <td>2018-06-19</td>\n",
       "      <td>2</td>\n",
       "      <td>3.03</td>\n",
       "      <td>14.0</td>\n",
       "      <td>32.0</td>\n",
       "      <td>13</td>\n",
       "      <td>False</td>\n",
       "      <td>...</td>\n",
       "      <td>2.0</td>\n",
       "      <td>112.0</td>\n",
       "      <td>1.0</td>\n",
       "      <td>48.0</td>\n",
       "      <td>121.0</td>\n",
       "      <td>Санкт-Петербург</td>\n",
       "      <td>100000.00</td>\n",
       "      <td>1</td>\n",
       "      <td>6</td>\n",
       "      <td>2018</td>\n",
       "    </tr>\n",
       "  </tbody>\n",
       "</table>\n",
       "<p>5 rows × 27 columns</p>\n",
       "</div>"
      ],
      "text/plain": [
       "   total_images  last_price  total_area first_day_exposition  rooms  \\\n",
       "0            20  13000000.0       108.0           2019-03-07      3   \n",
       "1             7   3350000.0        40.4           2018-12-04      1   \n",
       "2            10   5196000.0        56.0           2015-08-20      2   \n",
       "3             0  64900000.0       159.0           2015-07-24      3   \n",
       "4             2  10000000.0       100.0           2018-06-19      2   \n",
       "\n",
       "   ceiling_height  floors_total  living_area  floor  is_apartment  ...  \\\n",
       "0            2.70          16.0         51.0      8         False  ...   \n",
       "1             NaN          11.0         18.6      1         False  ...   \n",
       "2             NaN           5.0         34.3      4         False  ...   \n",
       "3             NaN          14.0          NaN      9         False  ...   \n",
       "4            3.03          14.0         32.0     13         False  ...   \n",
       "\n",
       "   parks_around3000  parks_nearest  ponds_around3000  ponds_nearest  \\\n",
       "0               1.0          482.0               2.0          755.0   \n",
       "1               0.0            NaN               0.0            NaN   \n",
       "2               1.0           90.0               2.0          574.0   \n",
       "3               2.0           84.0               3.0          234.0   \n",
       "4               2.0          112.0               1.0           48.0   \n",
       "\n",
       "  days_exposition  cor_locality_name  price_per_m2  day_of_week  month  year  \n",
       "0             NaN    Санкт-Петербург     120370.37            3      3  2019  \n",
       "1            81.0             Шушары      82920.79            1     12  2018  \n",
       "2           558.0    Санкт-Петербург      92785.71            3      8  2015  \n",
       "3           424.0    Санкт-Петербург     408176.10            4      7  2015  \n",
       "4           121.0    Санкт-Петербург     100000.00            1      6  2018  \n",
       "\n",
       "[5 rows x 27 columns]"
      ]
     },
     "metadata": {},
     "output_type": "display_data"
    }
   ],
   "source": [
    "data['year'] = data['first_day_exposition'].dt.year\n",
    "display(data.head())"
   ]
  },
  {
   "cell_type": "markdown",
   "metadata": {},
   "source": [
    "Добавление столбца \"Тип этажа квартиры\""
   ]
  },
  {
   "cell_type": "code",
   "execution_count": 27,
   "metadata": {},
   "outputs": [
    {
     "data": {
      "text/html": [
       "<div>\n",
       "<style scoped>\n",
       "    .dataframe tbody tr th:only-of-type {\n",
       "        vertical-align: middle;\n",
       "    }\n",
       "\n",
       "    .dataframe tbody tr th {\n",
       "        vertical-align: top;\n",
       "    }\n",
       "\n",
       "    .dataframe thead th {\n",
       "        text-align: right;\n",
       "    }\n",
       "</style>\n",
       "<table border=\"1\" class=\"dataframe\">\n",
       "  <thead>\n",
       "    <tr style=\"text-align: right;\">\n",
       "      <th></th>\n",
       "      <th>total_images</th>\n",
       "      <th>last_price</th>\n",
       "      <th>total_area</th>\n",
       "      <th>first_day_exposition</th>\n",
       "      <th>rooms</th>\n",
       "      <th>ceiling_height</th>\n",
       "      <th>floors_total</th>\n",
       "      <th>living_area</th>\n",
       "      <th>floor</th>\n",
       "      <th>is_apartment</th>\n",
       "      <th>...</th>\n",
       "      <th>parks_nearest</th>\n",
       "      <th>ponds_around3000</th>\n",
       "      <th>ponds_nearest</th>\n",
       "      <th>days_exposition</th>\n",
       "      <th>cor_locality_name</th>\n",
       "      <th>price_per_m2</th>\n",
       "      <th>day_of_week</th>\n",
       "      <th>month</th>\n",
       "      <th>year</th>\n",
       "      <th>type_of_floor</th>\n",
       "    </tr>\n",
       "  </thead>\n",
       "  <tbody>\n",
       "    <tr>\n",
       "      <th>0</th>\n",
       "      <td>20</td>\n",
       "      <td>13000000.0</td>\n",
       "      <td>108.0</td>\n",
       "      <td>2019-03-07</td>\n",
       "      <td>3</td>\n",
       "      <td>2.70</td>\n",
       "      <td>16.0</td>\n",
       "      <td>51.0</td>\n",
       "      <td>8</td>\n",
       "      <td>False</td>\n",
       "      <td>...</td>\n",
       "      <td>482.0</td>\n",
       "      <td>2.0</td>\n",
       "      <td>755.0</td>\n",
       "      <td>NaN</td>\n",
       "      <td>Санкт-Петербург</td>\n",
       "      <td>120370.37</td>\n",
       "      <td>3</td>\n",
       "      <td>3</td>\n",
       "      <td>2019</td>\n",
       "      <td>1</td>\n",
       "    </tr>\n",
       "    <tr>\n",
       "      <th>1</th>\n",
       "      <td>7</td>\n",
       "      <td>3350000.0</td>\n",
       "      <td>40.4</td>\n",
       "      <td>2018-12-04</td>\n",
       "      <td>1</td>\n",
       "      <td>NaN</td>\n",
       "      <td>11.0</td>\n",
       "      <td>18.6</td>\n",
       "      <td>1</td>\n",
       "      <td>False</td>\n",
       "      <td>...</td>\n",
       "      <td>NaN</td>\n",
       "      <td>0.0</td>\n",
       "      <td>NaN</td>\n",
       "      <td>81.0</td>\n",
       "      <td>Шушары</td>\n",
       "      <td>82920.79</td>\n",
       "      <td>1</td>\n",
       "      <td>12</td>\n",
       "      <td>2018</td>\n",
       "      <td>0</td>\n",
       "    </tr>\n",
       "    <tr>\n",
       "      <th>2</th>\n",
       "      <td>10</td>\n",
       "      <td>5196000.0</td>\n",
       "      <td>56.0</td>\n",
       "      <td>2015-08-20</td>\n",
       "      <td>2</td>\n",
       "      <td>NaN</td>\n",
       "      <td>5.0</td>\n",
       "      <td>34.3</td>\n",
       "      <td>4</td>\n",
       "      <td>False</td>\n",
       "      <td>...</td>\n",
       "      <td>90.0</td>\n",
       "      <td>2.0</td>\n",
       "      <td>574.0</td>\n",
       "      <td>558.0</td>\n",
       "      <td>Санкт-Петербург</td>\n",
       "      <td>92785.71</td>\n",
       "      <td>3</td>\n",
       "      <td>8</td>\n",
       "      <td>2015</td>\n",
       "      <td>1</td>\n",
       "    </tr>\n",
       "    <tr>\n",
       "      <th>3</th>\n",
       "      <td>0</td>\n",
       "      <td>64900000.0</td>\n",
       "      <td>159.0</td>\n",
       "      <td>2015-07-24</td>\n",
       "      <td>3</td>\n",
       "      <td>NaN</td>\n",
       "      <td>14.0</td>\n",
       "      <td>NaN</td>\n",
       "      <td>9</td>\n",
       "      <td>False</td>\n",
       "      <td>...</td>\n",
       "      <td>84.0</td>\n",
       "      <td>3.0</td>\n",
       "      <td>234.0</td>\n",
       "      <td>424.0</td>\n",
       "      <td>Санкт-Петербург</td>\n",
       "      <td>408176.10</td>\n",
       "      <td>4</td>\n",
       "      <td>7</td>\n",
       "      <td>2015</td>\n",
       "      <td>1</td>\n",
       "    </tr>\n",
       "    <tr>\n",
       "      <th>4</th>\n",
       "      <td>2</td>\n",
       "      <td>10000000.0</td>\n",
       "      <td>100.0</td>\n",
       "      <td>2018-06-19</td>\n",
       "      <td>2</td>\n",
       "      <td>3.03</td>\n",
       "      <td>14.0</td>\n",
       "      <td>32.0</td>\n",
       "      <td>13</td>\n",
       "      <td>False</td>\n",
       "      <td>...</td>\n",
       "      <td>112.0</td>\n",
       "      <td>1.0</td>\n",
       "      <td>48.0</td>\n",
       "      <td>121.0</td>\n",
       "      <td>Санкт-Петербург</td>\n",
       "      <td>100000.00</td>\n",
       "      <td>1</td>\n",
       "      <td>6</td>\n",
       "      <td>2018</td>\n",
       "      <td>1</td>\n",
       "    </tr>\n",
       "  </tbody>\n",
       "</table>\n",
       "<p>5 rows × 28 columns</p>\n",
       "</div>"
      ],
      "text/plain": [
       "   total_images  last_price  total_area first_day_exposition  rooms  \\\n",
       "0            20  13000000.0       108.0           2019-03-07      3   \n",
       "1             7   3350000.0        40.4           2018-12-04      1   \n",
       "2            10   5196000.0        56.0           2015-08-20      2   \n",
       "3             0  64900000.0       159.0           2015-07-24      3   \n",
       "4             2  10000000.0       100.0           2018-06-19      2   \n",
       "\n",
       "   ceiling_height  floors_total  living_area  floor  is_apartment  ...  \\\n",
       "0            2.70          16.0         51.0      8         False  ...   \n",
       "1             NaN          11.0         18.6      1         False  ...   \n",
       "2             NaN           5.0         34.3      4         False  ...   \n",
       "3             NaN          14.0          NaN      9         False  ...   \n",
       "4            3.03          14.0         32.0     13         False  ...   \n",
       "\n",
       "   parks_nearest  ponds_around3000  ponds_nearest  days_exposition  \\\n",
       "0          482.0               2.0          755.0              NaN   \n",
       "1            NaN               0.0            NaN             81.0   \n",
       "2           90.0               2.0          574.0            558.0   \n",
       "3           84.0               3.0          234.0            424.0   \n",
       "4          112.0               1.0           48.0            121.0   \n",
       "\n",
       "  cor_locality_name  price_per_m2  day_of_week  month  year  type_of_floor  \n",
       "0   Санкт-Петербург     120370.37            3      3  2019              1  \n",
       "1            Шушары      82920.79            1     12  2018              0  \n",
       "2   Санкт-Петербург      92785.71            3      8  2015              1  \n",
       "3   Санкт-Петербург     408176.10            4      7  2015              1  \n",
       "4   Санкт-Петербург     100000.00            1      6  2018              1  \n",
       "\n",
       "[5 rows x 28 columns]"
      ]
     },
     "metadata": {},
     "output_type": "display_data"
    }
   ],
   "source": [
    "# Данная категоризация сделана для простоты работы с данными при их анализе\n",
    "def type_of_floor(row):\n",
    "    if row['floor'] == 1:\n",
    "        return 0 # Первый этап\n",
    "    elif row['floor'] == row['floors_total']:\n",
    "        return 2 # Последний этап\n",
    "    else:\n",
    "        return 1 # Другой\n",
    "    \n",
    "data['type_of_floor'] = data.apply(type_of_floor, axis=1)\n",
    "display(data.head())"
   ]
  },
  {
   "cell_type": "markdown",
   "metadata": {},
   "source": [
    "<div class=\"alert alert-block alert-warning\">\n",
    "<b>🔁Комментарий ревьюера:</b> \n",
    "\n",
    "Тип этажа лучше для ясности прописать текстом</div>"
   ]
  },
  {
   "cell_type": "markdown",
   "metadata": {},
   "source": [
    "<div class=\"alert alert-block alert-info\">\n",
    "<b>🔄Комментарий студента:</b> \n",
    "Далее при анализе возникали трудности, так как в построении графиков выдавало ошибку в связи с типом данных 'str'. Решил поставить интовые значения. Могу сделать отдельную информационную таблицу)\n",
    "</div>"
   ]
  },
  {
   "cell_type": "markdown",
   "id": "12e47024",
   "metadata": {},
   "source": [
    "<div class=\"alert alert-block alert-success\">\n",
    "<b>✅Комментарий ревьюера 2:</b> Да, scatterplot, например, не получится построить. Но можно выбрать другой тип графика\n",
    "</div>"
   ]
  },
  {
   "cell_type": "markdown",
   "metadata": {},
   "source": [
    "Добавление столбца \"Расстояние до центра города в километрах\""
   ]
  },
  {
   "cell_type": "code",
   "execution_count": 28,
   "metadata": {},
   "outputs": [
    {
     "data": {
      "text/html": [
       "<div>\n",
       "<style scoped>\n",
       "    .dataframe tbody tr th:only-of-type {\n",
       "        vertical-align: middle;\n",
       "    }\n",
       "\n",
       "    .dataframe tbody tr th {\n",
       "        vertical-align: top;\n",
       "    }\n",
       "\n",
       "    .dataframe thead th {\n",
       "        text-align: right;\n",
       "    }\n",
       "</style>\n",
       "<table border=\"1\" class=\"dataframe\">\n",
       "  <thead>\n",
       "    <tr style=\"text-align: right;\">\n",
       "      <th></th>\n",
       "      <th>total_images</th>\n",
       "      <th>last_price</th>\n",
       "      <th>total_area</th>\n",
       "      <th>first_day_exposition</th>\n",
       "      <th>rooms</th>\n",
       "      <th>ceiling_height</th>\n",
       "      <th>floors_total</th>\n",
       "      <th>living_area</th>\n",
       "      <th>floor</th>\n",
       "      <th>is_apartment</th>\n",
       "      <th>...</th>\n",
       "      <th>ponds_around3000</th>\n",
       "      <th>ponds_nearest</th>\n",
       "      <th>days_exposition</th>\n",
       "      <th>cor_locality_name</th>\n",
       "      <th>price_per_m2</th>\n",
       "      <th>day_of_week</th>\n",
       "      <th>month</th>\n",
       "      <th>year</th>\n",
       "      <th>type_of_floor</th>\n",
       "      <th>centre_nearest</th>\n",
       "    </tr>\n",
       "  </thead>\n",
       "  <tbody>\n",
       "    <tr>\n",
       "      <th>0</th>\n",
       "      <td>20</td>\n",
       "      <td>13000000.0</td>\n",
       "      <td>108.0</td>\n",
       "      <td>2019-03-07</td>\n",
       "      <td>3</td>\n",
       "      <td>2.70</td>\n",
       "      <td>16.0</td>\n",
       "      <td>51.0</td>\n",
       "      <td>8</td>\n",
       "      <td>False</td>\n",
       "      <td>...</td>\n",
       "      <td>2.0</td>\n",
       "      <td>755.0</td>\n",
       "      <td>NaN</td>\n",
       "      <td>Санкт-Петербург</td>\n",
       "      <td>120370.37</td>\n",
       "      <td>3</td>\n",
       "      <td>3</td>\n",
       "      <td>2019</td>\n",
       "      <td>1</td>\n",
       "      <td>16.0</td>\n",
       "    </tr>\n",
       "    <tr>\n",
       "      <th>1</th>\n",
       "      <td>7</td>\n",
       "      <td>3350000.0</td>\n",
       "      <td>40.4</td>\n",
       "      <td>2018-12-04</td>\n",
       "      <td>1</td>\n",
       "      <td>NaN</td>\n",
       "      <td>11.0</td>\n",
       "      <td>18.6</td>\n",
       "      <td>1</td>\n",
       "      <td>False</td>\n",
       "      <td>...</td>\n",
       "      <td>0.0</td>\n",
       "      <td>NaN</td>\n",
       "      <td>81.0</td>\n",
       "      <td>Шушары</td>\n",
       "      <td>82920.79</td>\n",
       "      <td>1</td>\n",
       "      <td>12</td>\n",
       "      <td>2018</td>\n",
       "      <td>0</td>\n",
       "      <td>19.0</td>\n",
       "    </tr>\n",
       "    <tr>\n",
       "      <th>2</th>\n",
       "      <td>10</td>\n",
       "      <td>5196000.0</td>\n",
       "      <td>56.0</td>\n",
       "      <td>2015-08-20</td>\n",
       "      <td>2</td>\n",
       "      <td>NaN</td>\n",
       "      <td>5.0</td>\n",
       "      <td>34.3</td>\n",
       "      <td>4</td>\n",
       "      <td>False</td>\n",
       "      <td>...</td>\n",
       "      <td>2.0</td>\n",
       "      <td>574.0</td>\n",
       "      <td>558.0</td>\n",
       "      <td>Санкт-Петербург</td>\n",
       "      <td>92785.71</td>\n",
       "      <td>3</td>\n",
       "      <td>8</td>\n",
       "      <td>2015</td>\n",
       "      <td>1</td>\n",
       "      <td>14.0</td>\n",
       "    </tr>\n",
       "    <tr>\n",
       "      <th>3</th>\n",
       "      <td>0</td>\n",
       "      <td>64900000.0</td>\n",
       "      <td>159.0</td>\n",
       "      <td>2015-07-24</td>\n",
       "      <td>3</td>\n",
       "      <td>NaN</td>\n",
       "      <td>14.0</td>\n",
       "      <td>NaN</td>\n",
       "      <td>9</td>\n",
       "      <td>False</td>\n",
       "      <td>...</td>\n",
       "      <td>3.0</td>\n",
       "      <td>234.0</td>\n",
       "      <td>424.0</td>\n",
       "      <td>Санкт-Петербург</td>\n",
       "      <td>408176.10</td>\n",
       "      <td>4</td>\n",
       "      <td>7</td>\n",
       "      <td>2015</td>\n",
       "      <td>1</td>\n",
       "      <td>7.0</td>\n",
       "    </tr>\n",
       "    <tr>\n",
       "      <th>4</th>\n",
       "      <td>2</td>\n",
       "      <td>10000000.0</td>\n",
       "      <td>100.0</td>\n",
       "      <td>2018-06-19</td>\n",
       "      <td>2</td>\n",
       "      <td>3.03</td>\n",
       "      <td>14.0</td>\n",
       "      <td>32.0</td>\n",
       "      <td>13</td>\n",
       "      <td>False</td>\n",
       "      <td>...</td>\n",
       "      <td>1.0</td>\n",
       "      <td>48.0</td>\n",
       "      <td>121.0</td>\n",
       "      <td>Санкт-Петербург</td>\n",
       "      <td>100000.00</td>\n",
       "      <td>1</td>\n",
       "      <td>6</td>\n",
       "      <td>2018</td>\n",
       "      <td>1</td>\n",
       "      <td>8.0</td>\n",
       "    </tr>\n",
       "  </tbody>\n",
       "</table>\n",
       "<p>5 rows × 29 columns</p>\n",
       "</div>"
      ],
      "text/plain": [
       "   total_images  last_price  total_area first_day_exposition  rooms  \\\n",
       "0            20  13000000.0       108.0           2019-03-07      3   \n",
       "1             7   3350000.0        40.4           2018-12-04      1   \n",
       "2            10   5196000.0        56.0           2015-08-20      2   \n",
       "3             0  64900000.0       159.0           2015-07-24      3   \n",
       "4             2  10000000.0       100.0           2018-06-19      2   \n",
       "\n",
       "   ceiling_height  floors_total  living_area  floor  is_apartment  ...  \\\n",
       "0            2.70          16.0         51.0      8         False  ...   \n",
       "1             NaN          11.0         18.6      1         False  ...   \n",
       "2             NaN           5.0         34.3      4         False  ...   \n",
       "3             NaN          14.0          NaN      9         False  ...   \n",
       "4            3.03          14.0         32.0     13         False  ...   \n",
       "\n",
       "   ponds_around3000  ponds_nearest  days_exposition  cor_locality_name  \\\n",
       "0               2.0          755.0              NaN    Санкт-Петербург   \n",
       "1               0.0            NaN             81.0             Шушары   \n",
       "2               2.0          574.0            558.0    Санкт-Петербург   \n",
       "3               3.0          234.0            424.0    Санкт-Петербург   \n",
       "4               1.0           48.0            121.0    Санкт-Петербург   \n",
       "\n",
       "  price_per_m2  day_of_week  month  year  type_of_floor  centre_nearest  \n",
       "0    120370.37            3      3  2019              1            16.0  \n",
       "1     82920.79            1     12  2018              0            19.0  \n",
       "2     92785.71            3      8  2015              1            14.0  \n",
       "3    408176.10            4      7  2015              1             7.0  \n",
       "4    100000.00            1      6  2018              1             8.0  \n",
       "\n",
       "[5 rows x 29 columns]"
      ]
     },
     "metadata": {},
     "output_type": "display_data"
    }
   ],
   "source": [
    "data['centre_nearest'] = round(data['cityCenters_nearest'] / 1000)\n",
    "display(data.head())"
   ]
  },
  {
   "cell_type": "markdown",
   "metadata": {},
   "source": [
    "**Вывод по разделу:**\n",
    "- В таблицу были добавлены новые столбцы: 'centre_nearest' (расстояние от центра в км), 'type_of_floor' (0-'первый этаж', 1-'другой', 2-'последний'), 'year', 'month', 'day_of_week', 'price_per_m2'."
   ]
  },
  {
   "cell_type": "markdown",
   "metadata": {
    "id": "5766e785"
   },
   "source": [
    "<div class=\"alert alert-block alert-danger\">\n",
    "<b>❌Комментарий ревьюера:</b> \n",
    "    \n",
    "После этапа предобработки также нужно сделать краткий резюмирующий вывод о проделанной работе.</div>"
   ]
  },
  {
   "cell_type": "markdown",
   "id": "12e47024",
   "metadata": {},
   "source": [
    "<div class=\"alert alert-block alert-success\">\n",
    "<b>✅Комментарий ревьюера 2:</b> Отлично, исправлено!👍  </div>"
   ]
  },
  {
   "cell_type": "markdown",
   "metadata": {},
   "source": [
    "<div class=\"alert alert-block alert-info\">\n",
    "<b>🔄Комментарий студента:</b> \n",
    "Указал выводы по 3 разделу. По второму разделу делал вывод во втором)\n",
    "</div>"
   ]
  },
  {
   "cell_type": "markdown",
   "metadata": {},
   "source": [
    "<div class=\"alert alert-block alert-success\">\n",
    "<b>✅Комментарий ревьюера:</b> Дополнительные данные рассчитаны и добавлены верно! Можно приступать к исследованию🙂 </div>"
   ]
  },
  {
   "cell_type": "markdown",
   "metadata": {
    "id": "pPyxrKWTAwb-"
   },
   "source": [
    "### Проведите исследовательский анализ данных"
   ]
  },
  {
   "cell_type": "markdown",
   "metadata": {
    "id": "V2f0D3kLAwb-"
   },
   "source": [
    "#### Изучение параметров и обработка аномалий"
   ]
  },
  {
   "cell_type": "code",
   "execution_count": 56,
   "metadata": {
    "scrolled": true
   },
   "outputs": [
    {
     "data": {
      "text/plain": [
       "count    23699.000000\n",
       "mean        60.348651\n",
       "std         35.654083\n",
       "min         12.000000\n",
       "25%         40.000000\n",
       "50%         52.000000\n",
       "75%         69.900000\n",
       "max        900.000000\n",
       "Name: total_area, dtype: float64"
      ]
     },
     "metadata": {},
     "output_type": "display_data"
    },
    {
     "data": {
      "text/plain": [
       "'Правая граница графика распределения: 123.0'"
      ]
     },
     "metadata": {},
     "output_type": "display_data"
    },
    {
     "data": {
      "image/png": "[encoded data removed]",
      "text/plain": [
       "<Figure size 864x288 with 1 Axes>"
      ]
     },
     "metadata": {
      "needs_background": "light"
     },
     "output_type": "display_data"
    },
    {
     "data": {
      "text/plain": [
       "count    21796.000000\n",
       "mean        34.457852\n",
       "std         22.030445\n",
       "min          2.000000\n",
       "25%         18.600000\n",
       "50%         30.000000\n",
       "75%         42.300000\n",
       "max        409.700000\n",
       "Name: living_area, dtype: float64"
      ]
     },
     "metadata": {},
     "output_type": "display_data"
    },
    {
     "data": {
      "text/plain": [
       "'Правая граница графика распределения: 74.0'"
      ]
     },
     "metadata": {},
     "output_type": "display_data"
    },
    {
     "data": {
      "image/png": "[encoded data removed]",
      "text/plain": [
       "<Figure size 864x288 with 1 Axes>"
      ]
     },
     "metadata": {
      "needs_background": "light"
     },
     "output_type": "display_data"
    },
    {
     "data": {
      "text/plain": [
       "count    21421.000000\n",
       "mean        10.569807\n",
       "std          5.905438\n",
       "min          1.300000\n",
       "25%          7.000000\n",
       "50%          9.100000\n",
       "75%         12.000000\n",
       "max        112.000000\n",
       "Name: kitchen_area, dtype: float64"
      ]
     },
     "metadata": {},
     "output_type": "display_data"
    },
    {
     "data": {
      "text/plain": [
       "'Правая граница графика распределения: 21.0'"
      ]
     },
     "metadata": {},
     "output_type": "display_data"
    },
    {
     "data": {
      "image/png": "[encoded data removed]",
      "text/plain": [
       "<Figure size 864x288 with 1 Axes>"
      ]
     },
     "metadata": {
      "needs_background": "light"
     },
     "output_type": "display_data"
    },
    {
     "data": {
      "text/plain": [
       "count    2.369900e+04\n",
       "mean     6.541549e+06\n",
       "std      1.088701e+07\n",
       "min      1.219000e+04\n",
       "25%      3.400000e+06\n",
       "50%      4.650000e+06\n",
       "75%      6.800000e+06\n",
       "max      7.630000e+08\n",
       "Name: last_price, dtype: float64"
      ]
     },
     "metadata": {},
     "output_type": "display_data"
    },
    {
     "data": {
      "text/plain": [
       "'Правая граница графика распределения: 26424027.0'"
      ]
     },
     "metadata": {},
     "output_type": "display_data"
    },
    {
     "data": {
      "image/png": "[encoded data removed]",
      "text/plain": [
       "<Figure size 864x288 with 1 Axes>"
      ]
     },
     "metadata": {
      "needs_background": "light"
     },
     "output_type": "display_data"
    },
    {
     "data": {
      "text/plain": [
       "count    23699.000000\n",
       "mean         2.070636\n",
       "std          1.078405\n",
       "min          0.000000\n",
       "25%          1.000000\n",
       "50%          2.000000\n",
       "75%          3.000000\n",
       "max         19.000000\n",
       "Name: rooms, dtype: float64"
      ]
     },
     "metadata": {},
     "output_type": "display_data"
    },
    {
     "data": {
      "text/plain": [
       "'Правая граница графика распределения: 4.0'"
      ]
     },
     "metadata": {},
     "output_type": "display_data"
    },
    {
     "data": {
      "image/png": "[encoded data removed]",
      "text/plain": [
       "<Figure size 864x288 with 1 Axes>"
      ]
     },
     "metadata": {
      "needs_background": "light"
     },
     "output_type": "display_data"
    },
    {
     "data": {
      "text/plain": [
       "count    14504.000000\n",
       "mean         2.771499\n",
       "std          1.261056\n",
       "min          1.000000\n",
       "25%          2.520000\n",
       "50%          2.650000\n",
       "75%          2.800000\n",
       "max        100.000000\n",
       "Name: ceiling_height, dtype: float64"
      ]
     },
     "metadata": {},
     "output_type": "display_data"
    },
    {
     "data": {
      "text/plain": [
       "'Правая граница графика распределения: 5.0'"
      ]
     },
     "metadata": {},
     "output_type": "display_data"
    },
    {
     "data": {
      "image/png": "[encoded data removed]",
      "text/plain": [
       "<Figure size 864x288 with 1 Axes>"
      ]
     },
     "metadata": {
      "needs_background": "light"
     },
     "output_type": "display_data"
    },
    {
     "data": {
      "text/plain": [
       "count    23613.000000\n",
       "mean        10.673824\n",
       "std          6.597173\n",
       "min          1.000000\n",
       "25%          5.000000\n",
       "50%          9.000000\n",
       "75%         16.000000\n",
       "max         60.000000\n",
       "Name: floors_total, dtype: float64"
      ]
     },
     "metadata": {},
     "output_type": "display_data"
    },
    {
     "data": {
      "text/plain": [
       "'Правая граница графика распределения: 22.0'"
      ]
     },
     "metadata": {},
     "output_type": "display_data"
    },
    {
     "data": {
      "image/png": "[encoded data removed]",
      "text/plain": [
       "<Figure size 864x288 with 1 Axes>"
      ]
     },
     "metadata": {
      "needs_background": "light"
     },
     "output_type": "display_data"
    },
    {
     "data": {
      "text/plain": [
       "count    18180.000000\n",
       "mean     14191.277833\n",
       "std       8608.386210\n",
       "min        181.000000\n",
       "25%       9238.000000\n",
       "50%      13098.500000\n",
       "75%      16293.000000\n",
       "max      65968.000000\n",
       "Name: cityCenters_nearest, dtype: float64"
      ]
     },
     "metadata": {},
     "output_type": "display_data"
    },
    {
     "data": {
      "text/plain": [
       "'Правая граница графика распределения: 30315.0'"
      ]
     },
     "metadata": {},
     "output_type": "display_data"
    },
    {
     "data": {
      "image/png": "[encoded data removed]",
      "text/plain": [
       "<Figure size 864x288 with 1 Axes>"
      ]
     },
     "metadata": {
      "needs_background": "light"
     },
     "output_type": "display_data"
    },
    {
     "data": {
      "text/plain": [
       "count    8079.000000\n",
       "mean      490.804555\n",
       "std       342.317995\n",
       "min         1.000000\n",
       "25%       288.000000\n",
       "50%       455.000000\n",
       "75%       612.000000\n",
       "max      3190.000000\n",
       "Name: parks_nearest, dtype: float64"
      ]
     },
     "metadata": {},
     "output_type": "display_data"
    },
    {
     "data": {
      "text/plain": [
       "'Правая граница графика распределения: 1140.0'"
      ]
     },
     "metadata": {},
     "output_type": "display_data"
    },
    {
     "data": {
      "image/png": "[encoded data removed]",
      "text/plain": [
       "<Figure size 864x288 with 1 Axes>"
      ]
     },
     "metadata": {
      "needs_background": "light"
     },
     "output_type": "display_data"
    }
   ],
   "source": [
    "parametrs = ['total_area', 'living_area', 'kitchen_area', 'last_price', 'rooms', 'ceiling_height',\n",
    "             'floors_total', 'cityCenters_nearest', 'parks_nearest']\n",
    "\n",
    "for parametr in parametrs:\n",
    "    display(data[parametr].describe())\n",
    "    data[parametr].hist(bins = 300, figsize = (12, 4), color='#78d975')\n",
    "    sigma_p = round(data[parametr].median() + 2 * data[parametr].std(), 0)\n",
    "    display(f'Правая граница графика распределения: {sigma_p}')\n",
    "    plt.xlim(0, sigma_p)\n",
    "    plt.title(f'Распределение значений {parametr}')\n",
    "    plt.xlabel(f'{parametr}') \n",
    "    plt.ylabel('Количество объявлений')\n",
    "    plt.show()"
   ]
  },
  {
   "cell_type": "markdown",
   "metadata": {},
   "source": [
    "<div class=\"alert alert-block alert-warning\">\n",
    "<b>🔁Комментарий ревьюера:</b>\n",
    "\n",
    " - Из-за наличия больших значений графики получаются очень сжатыми и реальный диапазон значений очень сложно определить, можно рассмотреть его поближе, ограничив значения на оси с помощью `plt.xlim()`. Пример привел ниже\n",
    "\n",
    " - Необходимо подписывать название для каждого графика и оси на нем. Есть [хорошая статья](https://devpractice.ru/matplotlib-lesson-3-3-text-elements/), которая подскажет как это правильно сделать).</div>"
   ]
  },
  {
   "cell_type": "markdown",
   "id": "12e47024",
   "metadata": {},
   "source": [
    "<div class=\"alert alert-block alert-success\">\n",
    "<b>✅Комментарий ревьюера 2:</b> Отлично, исправлено!👍  </div>"
   ]
  },
  {
   "cell_type": "markdown",
   "metadata": {},
   "source": [
    "<div class=\"alert alert-block alert-info\">\n",
    "<b>🔄Комментарий студента:</b> \n",
    "Убрал boxplot, оставил только график распределения и описание. Правая граница графика (95% по правилу 3 сигм) указана перед графиком.\n",
    "</div>"
   ]
  },
  {
   "cell_type": "code",
   "execution_count": 74,
   "metadata": {},
   "outputs": [
    {
     "data": {
      "text/plain": [
       "count    23699.000000\n",
       "mean         1.017680\n",
       "std          0.513371\n",
       "min          0.000000\n",
       "25%          1.000000\n",
       "50%          1.000000\n",
       "75%          1.000000\n",
       "max          2.000000\n",
       "Name: type_of_floor, dtype: float64"
      ]
     },
     "metadata": {},
     "output_type": "display_data"
    },
    {
     "data": {
      "text/plain": [
       "<AxesSubplot:>"
      ]
     },
     "metadata": {},
     "output_type": "display_data"
    },
    {
     "data": {
      "image/png": "[encoded data removed]",
      "text/plain": [
       "<Figure size 432x288 with 1 Axes>"
      ]
     },
     "metadata": {
      "needs_background": "light"
     },
     "output_type": "display_data"
    }
   ],
   "source": [
    "display(data['type_of_floor'].describe())\n",
    "display(data['type_of_floor'].hist(grid=True, bins=3))"
   ]
  },
  {
   "cell_type": "markdown",
   "metadata": {},
   "source": [
    "**Обнаруженные аномалии по указанным параметрам:**\n",
    "1. Столбец 'total_area'. Основная масса квартир имеет площадь до 150 м2. Для дальнейшего анализа предлагается исключить из выборки квартиры с площадью больше 150 м2.\n",
    "2. Столбец 'living_area'. Основная масса квартир имеет жилую площадь до 80 м2. В связи с мультиколлинеарностью фактора со значениями столбца 'total_area' данный столбец можно не фильтровать.\n",
    "3. Столбец 'kitchen_area'. Основная масса квартир имеет площадь кухни до 30 м2. В связи с мультиколлинеарностью фактора со значениями столбца 'total_area' данный столбец можно не фильтровать.\n",
    "4. Столбец 'last_price'. Основная масса квартир имеет стоимость до 27 000 000. Для дальнейшего анализа предлагается исключить из выборки квартиры со стоимостью больше 27 000 000.\n",
    "5. Столбец 'rooms'. Основная масса квартир имеет до 5 комнат. В связи с мультиколлинеарностью фактора со значениями столбца 'total_area' данный столбец можно не фильтровать.\n",
    "6. Столбец 'ceiling_height'. Основная масса квартир имеет высоту потолков до 4 метров. Стоит провести анализ квартир, у которых высота потолка выше 4 метров, так как, скорее, всего была допущена ошибка при внесении значений в данный столбец.\n",
    "7. Столбец 'floors_total'. Основная масса квартир располагаются в зданиях с этажностью до 35. Однако в столбце есть значения от 35 до 60 этажей. Данные значения стоит оставить без изменений в связи с возможностью их существования.\n",
    "8. Столбец 'cityCenters_nearest'. Основная масса квартир располагаются на расстоянии до 35 км от центра. Однако в столбце есть значения до 66 км. Данные значения стоит оставить без изменений в связи с возможностью их существования.\n",
    "9. Столбец 'parks_nearest'. Основная масса квартир располагаются на расстоянии до 1 км до ближайшего парка. Однако в столбце есть значения до 3,3 км. Данные значения стоит оставить без изменений в связи с возможностью их существования.\n",
    "10. Столбец 'parks_nearest'. Основная масса квартир располагаются на расстоянии до 1 км до ближайшего парка. Однако в столбце есть значения до 3,3 км. Данные значения стоит оставить без изменений в связи с возможностью их существования.\n",
    "11. Столбец 'type_of_floor'. Данные столбец не подлежит корректировке в связи с категориальным характером его значений."
   ]
  },
  {
   "cell_type": "code",
   "execution_count": 75,
   "metadata": {},
   "outputs": [],
   "source": [
    "new_data = data.query('(total_area < 150) and (last_price < 27_000_000)')\n",
    "new_data.reset_index(drop=True, inplace=True)"
   ]
  },
  {
   "cell_type": "code",
   "execution_count": 76,
   "metadata": {},
   "outputs": [
    {
     "data": {
      "text/plain": [
       "0.9697455588843411"
      ]
     },
     "execution_count": 76,
     "metadata": {},
     "output_type": "execute_result"
    }
   ],
   "source": [
    "# код ревьюера\n",
    "new_data.shape[0] / 23699"
   ]
  },
  {
   "cell_type": "markdown",
   "metadata": {},
   "source": [
    "<div class=\"alert alert-block alert-danger\">\n",
    "<b>❌Комментарий ревьюера:</b> \n",
    "    \n",
    "Мы лишились почти 20% данных. Это может повлиять на результаты исследования. \n",
    "    \n",
    "Если проводить чистку данных по столбцу с пропусками - это привидет к удалению из датасета всех строк с пропусками в этом столбце. Нужно это учитывать. Так же стоит пересмотреть некоторые значения, действительно ли они являются аномальными?\n",
    "    \n",
    "Итоговая потеря данных не должна превышать 10-15% от исходного объема.\n",
    "\n",
    "[Здесь](https://proglib.io/p/moem-dataset-rukovodstvo-po-ochistke-dannyh-v-python-2020-03-27) можно дополнительно почитать про чистку данных.\n",
    "</div>"
   ]
  },
  {
   "cell_type": "markdown",
   "id": "12e47024",
   "metadata": {},
   "source": [
    "<div class=\"alert alert-block alert-success\">\n",
    "<b>✅Комментарий ревьюера 2:</b> Отлично, исправлено!👍  </div>"
   ]
  },
  {
   "cell_type": "markdown",
   "metadata": {},
   "source": [
    "<div class=\"alert alert-block alert-info\">\n",
    "<b>🔄Комментарий студента:</b> \n",
    "Удалил фильтры по следующим столбцам: 'rooms', 'kitchen_area', 'living_area'. В 'обнаруженных аномалиях' также указал, что к данным столбцам требования не предъявляются. Верхнюю границу жилья увеличил с 15 млн до 27 млн.\n",
    "    \n",
    "**Итог**: лишились около 3% данных.\n",
    "</div>"
   ]
  },
  {
   "cell_type": "code",
   "execution_count": 77,
   "metadata": {},
   "outputs": [
    {
     "data": {
      "text/html": [
       "<div>\n",
       "<style scoped>\n",
       "    .dataframe tbody tr th:only-of-type {\n",
       "        vertical-align: middle;\n",
       "    }\n",
       "\n",
       "    .dataframe tbody tr th {\n",
       "        vertical-align: top;\n",
       "    }\n",
       "\n",
       "    .dataframe thead th {\n",
       "        text-align: right;\n",
       "    }\n",
       "</style>\n",
       "<table border=\"1\" class=\"dataframe\">\n",
       "  <thead>\n",
       "    <tr style=\"text-align: right;\">\n",
       "      <th></th>\n",
       "      <th>total_images</th>\n",
       "      <th>last_price</th>\n",
       "      <th>total_area</th>\n",
       "      <th>first_day_exposition</th>\n",
       "      <th>rooms</th>\n",
       "      <th>ceiling_height</th>\n",
       "      <th>floors_total</th>\n",
       "      <th>living_area</th>\n",
       "      <th>floor</th>\n",
       "      <th>is_apartment</th>\n",
       "      <th>...</th>\n",
       "      <th>ponds_around3000</th>\n",
       "      <th>ponds_nearest</th>\n",
       "      <th>days_exposition</th>\n",
       "      <th>cor_locality_name</th>\n",
       "      <th>price_per_m2</th>\n",
       "      <th>day_of_week</th>\n",
       "      <th>month</th>\n",
       "      <th>year</th>\n",
       "      <th>type_of_floor</th>\n",
       "      <th>centre_nearest</th>\n",
       "    </tr>\n",
       "  </thead>\n",
       "  <tbody>\n",
       "    <tr>\n",
       "      <th>0</th>\n",
       "      <td>20</td>\n",
       "      <td>13000000.0</td>\n",
       "      <td>108.0</td>\n",
       "      <td>2019-03-07</td>\n",
       "      <td>3</td>\n",
       "      <td>2.70</td>\n",
       "      <td>16.0</td>\n",
       "      <td>51.0</td>\n",
       "      <td>8</td>\n",
       "      <td>False</td>\n",
       "      <td>...</td>\n",
       "      <td>2.0</td>\n",
       "      <td>755.0</td>\n",
       "      <td>NaN</td>\n",
       "      <td>Санкт-Петербург</td>\n",
       "      <td>120370.37</td>\n",
       "      <td>3</td>\n",
       "      <td>3</td>\n",
       "      <td>2019</td>\n",
       "      <td>1</td>\n",
       "      <td>16.0</td>\n",
       "    </tr>\n",
       "    <tr>\n",
       "      <th>1</th>\n",
       "      <td>7</td>\n",
       "      <td>3350000.0</td>\n",
       "      <td>40.4</td>\n",
       "      <td>2018-12-04</td>\n",
       "      <td>1</td>\n",
       "      <td>NaN</td>\n",
       "      <td>11.0</td>\n",
       "      <td>18.6</td>\n",
       "      <td>1</td>\n",
       "      <td>False</td>\n",
       "      <td>...</td>\n",
       "      <td>0.0</td>\n",
       "      <td>NaN</td>\n",
       "      <td>81.0</td>\n",
       "      <td>Шушары</td>\n",
       "      <td>82920.79</td>\n",
       "      <td>1</td>\n",
       "      <td>12</td>\n",
       "      <td>2018</td>\n",
       "      <td>0</td>\n",
       "      <td>19.0</td>\n",
       "    </tr>\n",
       "    <tr>\n",
       "      <th>2</th>\n",
       "      <td>10</td>\n",
       "      <td>5196000.0</td>\n",
       "      <td>56.0</td>\n",
       "      <td>2015-08-20</td>\n",
       "      <td>2</td>\n",
       "      <td>NaN</td>\n",
       "      <td>5.0</td>\n",
       "      <td>34.3</td>\n",
       "      <td>4</td>\n",
       "      <td>False</td>\n",
       "      <td>...</td>\n",
       "      <td>2.0</td>\n",
       "      <td>574.0</td>\n",
       "      <td>558.0</td>\n",
       "      <td>Санкт-Петербург</td>\n",
       "      <td>92785.71</td>\n",
       "      <td>3</td>\n",
       "      <td>8</td>\n",
       "      <td>2015</td>\n",
       "      <td>1</td>\n",
       "      <td>14.0</td>\n",
       "    </tr>\n",
       "    <tr>\n",
       "      <th>3</th>\n",
       "      <td>2</td>\n",
       "      <td>10000000.0</td>\n",
       "      <td>100.0</td>\n",
       "      <td>2018-06-19</td>\n",
       "      <td>2</td>\n",
       "      <td>3.03</td>\n",
       "      <td>14.0</td>\n",
       "      <td>32.0</td>\n",
       "      <td>13</td>\n",
       "      <td>False</td>\n",
       "      <td>...</td>\n",
       "      <td>1.0</td>\n",
       "      <td>48.0</td>\n",
       "      <td>121.0</td>\n",
       "      <td>Санкт-Петербург</td>\n",
       "      <td>100000.00</td>\n",
       "      <td>1</td>\n",
       "      <td>6</td>\n",
       "      <td>2018</td>\n",
       "      <td>1</td>\n",
       "      <td>8.0</td>\n",
       "    </tr>\n",
       "    <tr>\n",
       "      <th>4</th>\n",
       "      <td>10</td>\n",
       "      <td>2890000.0</td>\n",
       "      <td>30.4</td>\n",
       "      <td>2018-09-10</td>\n",
       "      <td>1</td>\n",
       "      <td>NaN</td>\n",
       "      <td>12.0</td>\n",
       "      <td>14.4</td>\n",
       "      <td>5</td>\n",
       "      <td>False</td>\n",
       "      <td>...</td>\n",
       "      <td>NaN</td>\n",
       "      <td>NaN</td>\n",
       "      <td>55.0</td>\n",
       "      <td>Янино-1</td>\n",
       "      <td>95065.79</td>\n",
       "      <td>0</td>\n",
       "      <td>9</td>\n",
       "      <td>2018</td>\n",
       "      <td>1</td>\n",
       "      <td>NaN</td>\n",
       "    </tr>\n",
       "  </tbody>\n",
       "</table>\n",
       "<p>5 rows × 29 columns</p>\n",
       "</div>"
      ],
      "text/plain": [
       "   total_images  last_price  total_area first_day_exposition  rooms  \\\n",
       "0            20  13000000.0       108.0           2019-03-07      3   \n",
       "1             7   3350000.0        40.4           2018-12-04      1   \n",
       "2            10   5196000.0        56.0           2015-08-20      2   \n",
       "3             2  10000000.0       100.0           2018-06-19      2   \n",
       "4            10   2890000.0        30.4           2018-09-10      1   \n",
       "\n",
       "   ceiling_height  floors_total  living_area  floor  is_apartment  ...  \\\n",
       "0            2.70          16.0         51.0      8         False  ...   \n",
       "1             NaN          11.0         18.6      1         False  ...   \n",
       "2             NaN           5.0         34.3      4         False  ...   \n",
       "3            3.03          14.0         32.0     13         False  ...   \n",
       "4             NaN          12.0         14.4      5         False  ...   \n",
       "\n",
       "   ponds_around3000  ponds_nearest  days_exposition  cor_locality_name  \\\n",
       "0               2.0          755.0              NaN    Санкт-Петербург   \n",
       "1               0.0            NaN             81.0             Шушары   \n",
       "2               2.0          574.0            558.0    Санкт-Петербург   \n",
       "3               1.0           48.0            121.0    Санкт-Петербург   \n",
       "4               NaN            NaN             55.0            Янино-1   \n",
       "\n",
       "  price_per_m2  day_of_week  month  year  type_of_floor  centre_nearest  \n",
       "0    120370.37            3      3  2019              1            16.0  \n",
       "1     82920.79            1     12  2018              0            19.0  \n",
       "2     92785.71            3      8  2015              1            14.0  \n",
       "3    100000.00            1      6  2018              1             8.0  \n",
       "4     95065.79            0      9  2018              1             NaN  \n",
       "\n",
       "[5 rows x 29 columns]"
      ]
     },
     "metadata": {},
     "output_type": "display_data"
    }
   ],
   "source": [
    "display(new_data.head())"
   ]
  },
  {
   "cell_type": "code",
   "execution_count": 78,
   "metadata": {
    "scrolled": true
   },
   "outputs": [
    {
     "name": "stderr",
     "output_type": "stream",
     "text": [
      "/tmp/ipykernel_31/1799961197.py:13: SettingWithCopyWarning: \n",
      "A value is trying to be set on a copy of a slice from a DataFrame.\n",
      "Try using .loc[row_indexer,col_indexer] = value instead\n",
      "\n",
      "See the caveats in the documentation: https://pandas.pydata.org/pandas-docs/stable/user_guide/indexing.html#returning-a-view-versus-a-copy\n",
      "  new_data['correct_height'] = new_data['ceiling_height'].apply(cor_height)\n"
     ]
    }
   ],
   "source": [
    "def cor_height(ceiling_height):\n",
    "    if ceiling_height > 50:\n",
    "        return None\n",
    "    elif ceiling_height > 24:\n",
    "        return (ceiling_height / 10)\n",
    "    elif ceiling_height > 5:\n",
    "        return None\n",
    "    elif ceiling_height > 2.49:\n",
    "        return ceiling_height\n",
    "    return None\n",
    "        \n",
    "    \n",
    "new_data['correct_height'] = new_data['ceiling_height'].apply(cor_height)"
   ]
  },
  {
   "cell_type": "code",
   "execution_count": 79,
   "metadata": {},
   "outputs": [
    {
     "data": {
      "text/plain": [
       "count    13935.000000\n",
       "mean         2.710653\n",
       "std          0.250695\n",
       "min          2.500000\n",
       "25%          2.500000\n",
       "50%          2.650000\n",
       "75%          2.800000\n",
       "max          5.000000\n",
       "Name: correct_height, dtype: float64"
      ]
     },
     "metadata": {},
     "output_type": "display_data"
    }
   ],
   "source": [
    "display(new_data['correct_height'].describe())"
   ]
  },
  {
   "cell_type": "markdown",
   "metadata": {},
   "source": [
    "**Выводы по изучению параметров и обработке аномалий:**\n",
    "- Изучение параметров проводилось с помощью анализа описательной части значений, а тажке графика (гистограммы) распределения значений. В ходе изучение были обнаружены ряд аномалий.\n",
    "- Один тип аномалий был связан с невозможностью существования данных значений (высота потолков - до 27 м). Анамолия была обработана с помощью логических преобразований.\n",
    "- Другой тип аномалий был связан с ограниченностью (непопулярностью) данных объявлений (площадь жилья - 900 м2). Анамолия была обработана с помощью фильтрации данных. "
   ]
  },
  {
   "cell_type": "markdown",
   "metadata": {},
   "source": [
    "#### Определение скорости продажи квартир"
   ]
  },
  {
   "cell_type": "code",
   "execution_count": 80,
   "metadata": {},
   "outputs": [
    {
     "data": {
      "text/plain": [
       "count    19991.000000\n",
       "mean       177.765745\n",
       "std        216.505231\n",
       "min          1.000000\n",
       "25%         44.000000\n",
       "50%         94.000000\n",
       "75%        226.000000\n",
       "max       1580.000000\n",
       "Name: days_exposition, dtype: float64"
      ]
     },
     "metadata": {},
     "output_type": "display_data"
    },
    {
     "data": {
      "image/png": "[encoded data removed]",
      "text/plain": [
       "<Figure size 432x288 with 1 Axes>"
      ]
     },
     "metadata": {
      "needs_background": "light"
     },
     "output_type": "display_data"
    }
   ],
   "source": [
    "display(new_data['days_exposition'].describe())\n",
    "\n",
    "new_data['days_exposition'].plot(kind='hist', grid=1, bins=50)\n",
    "plt.xlabel('Количество дней до покупки', size=11)\n",
    "plt.ylabel('Количество объявлений', size=11)\n",
    "plt.title('Гистограмма распределения значений количества дней до покупки', size=13)\n",
    "\n",
    "plt.show()"
   ]
  },
  {
   "cell_type": "markdown",
   "metadata": {},
   "source": [
    "**Выводы по разделу:**\n",
    "Среднее значение количества дней, за которые продается квартира, - 178; медиана равна 94 дням. Будем считать, что срок продажи квартиры больше 226 дней будет необычайно долгим (около 25% наблюдений), а срок меньше 44 дней - необычайно коротким (около 25% наблюдений)."
   ]
  },
  {
   "cell_type": "markdown",
   "metadata": {},
   "source": [
    "<div class=\"alert alert-block alert-warning\">\n",
    "<b>🔁Комментарий ревьюера:</b>\n",
    "\n",
    "При ответе на вопрос о быстрых и долгих продажах лучше обратить внимание на 25 и 75 квартили. </div>"
   ]
  },
  {
   "cell_type": "markdown",
   "id": "12e47024",
   "metadata": {},
   "source": [
    "<div class=\"alert alert-block alert-success\">\n",
    "<b>✅Комментарий ревьюера 2:</b> Отлично, исправлено!👍  </div>"
   ]
  },
  {
   "cell_type": "markdown",
   "metadata": {},
   "source": [
    "<div class=\"alert alert-block alert-info\">\n",
    "<b>🔄Комментарий студента:</b> \n",
    "Вывод откорректировал.\n",
    "</div>"
   ]
  },
  {
   "cell_type": "markdown",
   "metadata": {},
   "source": [
    "#### Определение факторов, которые больше всего влияют на общую стоимость объекта"
   ]
  },
  {
   "cell_type": "markdown",
   "metadata": {},
   "source": [
    "Проведем комплексный анализ влияния указанных параметров (факторов) на общую стоимость без учета влияния города."
   ]
  },
  {
   "cell_type": "code",
   "execution_count": 86,
   "metadata": {
    "scrolled": false
   },
   "outputs": [
    {
     "data": {
      "text/plain": [
       "'Коэффициент корреляции Пирсона цены и total_area: 0.76'"
      ]
     },
     "metadata": {},
     "output_type": "display_data"
    },
    {
     "data": {
      "image/png": "[encoded data removed]",
      "text/plain": [
       "<Figure size 504x360 with 1 Axes>"
      ]
     },
     "metadata": {
      "needs_background": "light"
     },
     "output_type": "display_data"
    },
    {
     "data": {
      "text/plain": [
       "'Коэффициент корреляции Пирсона цены и living_area: 0.63'"
      ]
     },
     "metadata": {},
     "output_type": "display_data"
    },
    {
     "data": {
      "image/png": "[encoded data removed]",
      "text/plain": [
       "<Figure size 504x360 with 1 Axes>"
      ]
     },
     "metadata": {
      "needs_background": "light"
     },
     "output_type": "display_data"
    },
    {
     "data": {
      "text/plain": [
       "'Коэффициент корреляции Пирсона цены и kitchen_area: 0.58'"
      ]
     },
     "metadata": {},
     "output_type": "display_data"
    },
    {
     "data": {
      "image/png": "[encoded data removed]",
      "text/plain": [
       "<Figure size 504x360 with 1 Axes>"
      ]
     },
     "metadata": {
      "needs_background": "light"
     },
     "output_type": "display_data"
    },
    {
     "data": {
      "text/plain": [
       "'Коэффициент корреляции Пирсона цены и type_of_floor: 0.05'"
      ]
     },
     "metadata": {},
     "output_type": "display_data"
    },
    {
     "data": {
      "image/png": "[encoded data removed]",
      "text/plain": [
       "<Figure size 360x360 with 1 Axes>"
      ]
     },
     "metadata": {
      "needs_background": "light"
     },
     "output_type": "display_data"
    },
    {
     "data": {
      "text/plain": [
       "'Коэффициент корреляции Пирсона цены и rooms: 0.46'"
      ]
     },
     "metadata": {},
     "output_type": "display_data"
    },
    {
     "data": {
      "image/png": "[encoded data removed]",
      "text/plain": [
       "<Figure size 360x360 with 1 Axes>"
      ]
     },
     "metadata": {
      "needs_background": "light"
     },
     "output_type": "display_data"
    },
    {
     "data": {
      "text/plain": [
       "'Коэффициент корреляции Пирсона цены и year: -0.02'"
      ]
     },
     "metadata": {},
     "output_type": "display_data"
    },
    {
     "data": {
      "image/png": "[encoded data removed]",
      "text/plain": [
       "<Figure size 360x360 with 1 Axes>"
      ]
     },
     "metadata": {
      "needs_background": "light"
     },
     "output_type": "display_data"
    },
    {
     "data": {
      "text/plain": [
       "'Коэффициент корреляции Пирсона цены и month: 0.0'"
      ]
     },
     "metadata": {},
     "output_type": "display_data"
    },
    {
     "data": {
      "image/png": "[encoded data removed]",
      "text/plain": [
       "<Figure size 360x360 with 1 Axes>"
      ]
     },
     "metadata": {
      "needs_background": "light"
     },
     "output_type": "display_data"
    },
    {
     "data": {
      "text/plain": [
       "'Коэффициент корреляции Пирсона цены и day_of_week: -0.02'"
      ]
     },
     "metadata": {},
     "output_type": "display_data"
    },
    {
     "data": {
      "image/png": "[encoded data removed]",
      "text/plain": [
       "<Figure size 360x360 with 1 Axes>"
      ]
     },
     "metadata": {
      "needs_background": "light"
     },
     "output_type": "display_data"
    }
   ],
   "source": [
    "parametrs_11 = ['total_area', 'living_area', 'kitchen_area']\n",
    "\n",
    "for parametr in parametrs_11:\n",
    "    correlation = round(new_data['last_price'].corr(new_data[parametr]), 2)\n",
    "    display(f'Коэффициент корреляции Пирсона цены и {parametr}: {correlation}')\n",
    "    new_data.plot(x='last_price', y=parametr, kind='scatter', grid=True, alpha=0.3, figsize=(7, 5), color='#78d975')\n",
    "    plt.title(f'Средняя цена квартиры в зависимости от {parametr}', size=13)\n",
    "    plt.xlabel(f'{parametr}', size=11)\n",
    "    plt.ylabel('Средняя цена квартиры', size=11)\n",
    "    \n",
    "    plt.show()\n",
    "\n",
    "parametrs_12 = ['type_of_floor', 'rooms', 'year', 'month', 'day_of_week']\n",
    "\n",
    "for parametr in parametrs_12:\n",
    "    correlation = round(new_data['last_price'].corr(new_data[parametr]), 2)\n",
    "    display(f'Коэффициент корреляции Пирсона цены и {parametr}: {correlation}')\n",
    "    new_data.groupby(parametr)['last_price'].mean().plot(kind='bar', figsize=(5, 5), color='#78d975')\n",
    "    plt.xticks(rotation=0)\n",
    "    plt.title(f'Средняя цена квартиры в зависимости от {parametr}', size=13)\n",
    "    plt.xlabel(f'{parametr}', size=12)\n",
    "    plt.ylabel('Средняя цена квартиры', size=11)\n",
    "    \n",
    "    plt.show()"
   ]
  },
  {
   "cell_type": "markdown",
   "metadata": {},
   "source": [
    "<div class=\"alert alert-block alert-warning\">\n",
    "<b>🔁Комментарий ревьюера:</b>\n",
    "\n",
    " - Не забывай подписывать названия и оси на графиках\n",
    "\n",
    " - При ограниченном количестве значений метрик (категориальные и дискретные переменные), таких как количество комнат, категория этажа, а также день, месяц и год размещения объявления, лучше использовать barplot, предварительно рассчитав среднюю цену с группировкой по нужной метрике. Так зависимости будут гораздо нагляднее. Пример написал ниже.</div>"
   ]
  },
  {
   "cell_type": "markdown",
   "id": "12e47024",
   "metadata": {},
   "source": [
    "<div class=\"alert alert-block alert-success\">\n",
    "<b>✅Комментарий ревьюера 2:</b> Отлично, исправлено!👍  </div>"
   ]
  },
  {
   "cell_type": "markdown",
   "metadata": {},
   "source": [
    "<div class=\"alert alert-block alert-info\">\n",
    "<b>🔄Комментарий студента:</b> \n",
    "Названия и оси на графиках указал. График по категориальным значениям сделал по типу столбчатой диаграммы.\n",
    "</div>"
   ]
  },
  {
   "cell_type": "markdown",
   "metadata": {},
   "source": [
    "Опеределим значения корреляции Пирсона в зависимости от населенных пунктов. Для анализа примем 5 самых \"популярных\" населенных пунктов."
   ]
  },
  {
   "cell_type": "code",
   "execution_count": 87,
   "metadata": {
    "scrolled": true
   },
   "outputs": [
    {
     "data": {
      "text/html": [
       "<div>\n",
       "<style scoped>\n",
       "    .dataframe tbody tr th:only-of-type {\n",
       "        vertical-align: middle;\n",
       "    }\n",
       "\n",
       "    .dataframe tbody tr th {\n",
       "        vertical-align: top;\n",
       "    }\n",
       "\n",
       "    .dataframe thead th {\n",
       "        text-align: right;\n",
       "    }\n",
       "</style>\n",
       "<table border=\"1\" class=\"dataframe\">\n",
       "  <thead>\n",
       "    <tr style=\"text-align: right;\">\n",
       "      <th></th>\n",
       "      <th>day_of_week</th>\n",
       "      <th>kitchen_area</th>\n",
       "      <th>last_price</th>\n",
       "      <th>living_area</th>\n",
       "      <th>month</th>\n",
       "      <th>rooms</th>\n",
       "      <th>total_area</th>\n",
       "      <th>type_of_floor</th>\n",
       "      <th>year</th>\n",
       "    </tr>\n",
       "  </thead>\n",
       "  <tbody>\n",
       "    <tr>\n",
       "      <th>day_of_week</th>\n",
       "      <td>1.000000</td>\n",
       "      <td>0.043280</td>\n",
       "      <td>0.005954</td>\n",
       "      <td>0.020127</td>\n",
       "      <td>-0.002274</td>\n",
       "      <td>-0.007136</td>\n",
       "      <td>0.010289</td>\n",
       "      <td>0.021472</td>\n",
       "      <td>0.044855</td>\n",
       "    </tr>\n",
       "    <tr>\n",
       "      <th>kitchen_area</th>\n",
       "      <td>0.043280</td>\n",
       "      <td>1.000000</td>\n",
       "      <td>0.557649</td>\n",
       "      <td>0.256730</td>\n",
       "      <td>0.020500</td>\n",
       "      <td>0.091436</td>\n",
       "      <td>0.495036</td>\n",
       "      <td>0.051492</td>\n",
       "      <td>-0.200630</td>\n",
       "    </tr>\n",
       "    <tr>\n",
       "      <th>last_price</th>\n",
       "      <td>0.005954</td>\n",
       "      <td>0.557649</td>\n",
       "      <td>1.000000</td>\n",
       "      <td>0.643012</td>\n",
       "      <td>0.042977</td>\n",
       "      <td>0.434276</td>\n",
       "      <td>0.785248</td>\n",
       "      <td>0.052586</td>\n",
       "      <td>-0.205430</td>\n",
       "    </tr>\n",
       "    <tr>\n",
       "      <th>living_area</th>\n",
       "      <td>0.020127</td>\n",
       "      <td>0.256730</td>\n",
       "      <td>0.643012</td>\n",
       "      <td>1.000000</td>\n",
       "      <td>0.034680</td>\n",
       "      <td>0.815170</td>\n",
       "      <td>0.860843</td>\n",
       "      <td>0.045185</td>\n",
       "      <td>-0.206133</td>\n",
       "    </tr>\n",
       "    <tr>\n",
       "      <th>month</th>\n",
       "      <td>-0.002274</td>\n",
       "      <td>0.020500</td>\n",
       "      <td>0.042977</td>\n",
       "      <td>0.034680</td>\n",
       "      <td>1.000000</td>\n",
       "      <td>0.038411</td>\n",
       "      <td>0.042564</td>\n",
       "      <td>-0.010247</td>\n",
       "      <td>-0.241151</td>\n",
       "    </tr>\n",
       "    <tr>\n",
       "      <th>rooms</th>\n",
       "      <td>-0.007136</td>\n",
       "      <td>0.091436</td>\n",
       "      <td>0.434276</td>\n",
       "      <td>0.815170</td>\n",
       "      <td>0.038411</td>\n",
       "      <td>1.000000</td>\n",
       "      <td>0.717260</td>\n",
       "      <td>0.026593</td>\n",
       "      <td>-0.168054</td>\n",
       "    </tr>\n",
       "    <tr>\n",
       "      <th>total_area</th>\n",
       "      <td>0.010289</td>\n",
       "      <td>0.495036</td>\n",
       "      <td>0.785248</td>\n",
       "      <td>0.860843</td>\n",
       "      <td>0.042564</td>\n",
       "      <td>0.717260</td>\n",
       "      <td>1.000000</td>\n",
       "      <td>0.039249</td>\n",
       "      <td>-0.265612</td>\n",
       "    </tr>\n",
       "    <tr>\n",
       "      <th>type_of_floor</th>\n",
       "      <td>0.021472</td>\n",
       "      <td>0.051492</td>\n",
       "      <td>0.052586</td>\n",
       "      <td>0.045185</td>\n",
       "      <td>-0.010247</td>\n",
       "      <td>0.026593</td>\n",
       "      <td>0.039249</td>\n",
       "      <td>1.000000</td>\n",
       "      <td>0.005080</td>\n",
       "    </tr>\n",
       "    <tr>\n",
       "      <th>year</th>\n",
       "      <td>0.044855</td>\n",
       "      <td>-0.200630</td>\n",
       "      <td>-0.205430</td>\n",
       "      <td>-0.206133</td>\n",
       "      <td>-0.241151</td>\n",
       "      <td>-0.168054</td>\n",
       "      <td>-0.265612</td>\n",
       "      <td>0.005080</td>\n",
       "      <td>1.000000</td>\n",
       "    </tr>\n",
       "  </tbody>\n",
       "</table>\n",
       "</div>"
      ],
      "text/plain": [
       "               day_of_week  kitchen_area  last_price  living_area     month  \\\n",
       "day_of_week       1.000000      0.043280    0.005954     0.020127 -0.002274   \n",
       "kitchen_area      0.043280      1.000000    0.557649     0.256730  0.020500   \n",
       "last_price        0.005954      0.557649    1.000000     0.643012  0.042977   \n",
       "living_area       0.020127      0.256730    0.643012     1.000000  0.034680   \n",
       "month            -0.002274      0.020500    0.042977     0.034680  1.000000   \n",
       "rooms            -0.007136      0.091436    0.434276     0.815170  0.038411   \n",
       "total_area        0.010289      0.495036    0.785248     0.860843  0.042564   \n",
       "type_of_floor     0.021472      0.051492    0.052586     0.045185 -0.010247   \n",
       "year              0.044855     -0.200630   -0.205430    -0.206133 -0.241151   \n",
       "\n",
       "                  rooms  total_area  type_of_floor      year  \n",
       "day_of_week   -0.007136    0.010289       0.021472  0.044855  \n",
       "kitchen_area   0.091436    0.495036       0.051492 -0.200630  \n",
       "last_price     0.434276    0.785248       0.052586 -0.205430  \n",
       "living_area    0.815170    0.860843       0.045185 -0.206133  \n",
       "month          0.038411    0.042564      -0.010247 -0.241151  \n",
       "rooms          1.000000    0.717260       0.026593 -0.168054  \n",
       "total_area     0.717260    1.000000       0.039249 -0.265612  \n",
       "type_of_floor  0.026593    0.039249       1.000000  0.005080  \n",
       "year          -0.168054   -0.265612       0.005080  1.000000  "
      ]
     },
     "metadata": {},
     "output_type": "display_data"
    },
    {
     "data": {
      "text/html": [
       "<div>\n",
       "<style scoped>\n",
       "    .dataframe tbody tr th:only-of-type {\n",
       "        vertical-align: middle;\n",
       "    }\n",
       "\n",
       "    .dataframe tbody tr th {\n",
       "        vertical-align: top;\n",
       "    }\n",
       "\n",
       "    .dataframe thead th {\n",
       "        text-align: right;\n",
       "    }\n",
       "</style>\n",
       "<table border=\"1\" class=\"dataframe\">\n",
       "  <thead>\n",
       "    <tr style=\"text-align: right;\">\n",
       "      <th></th>\n",
       "      <th>day_of_week</th>\n",
       "      <th>kitchen_area</th>\n",
       "      <th>last_price</th>\n",
       "      <th>living_area</th>\n",
       "      <th>month</th>\n",
       "      <th>rooms</th>\n",
       "      <th>total_area</th>\n",
       "      <th>type_of_floor</th>\n",
       "      <th>year</th>\n",
       "    </tr>\n",
       "  </thead>\n",
       "  <tbody>\n",
       "    <tr>\n",
       "      <th>day_of_week</th>\n",
       "      <td>1.000000</td>\n",
       "      <td>0.049552</td>\n",
       "      <td>0.087479</td>\n",
       "      <td>0.077624</td>\n",
       "      <td>0.033100</td>\n",
       "      <td>0.068260</td>\n",
       "      <td>0.079603</td>\n",
       "      <td>0.004735</td>\n",
       "      <td>0.043567</td>\n",
       "    </tr>\n",
       "    <tr>\n",
       "      <th>kitchen_area</th>\n",
       "      <td>0.049552</td>\n",
       "      <td>1.000000</td>\n",
       "      <td>0.377220</td>\n",
       "      <td>0.122889</td>\n",
       "      <td>0.038510</td>\n",
       "      <td>0.203689</td>\n",
       "      <td>0.366508</td>\n",
       "      <td>0.049297</td>\n",
       "      <td>0.004947</td>\n",
       "    </tr>\n",
       "    <tr>\n",
       "      <th>last_price</th>\n",
       "      <td>0.087479</td>\n",
       "      <td>0.377220</td>\n",
       "      <td>1.000000</td>\n",
       "      <td>0.759846</td>\n",
       "      <td>0.035566</td>\n",
       "      <td>0.756555</td>\n",
       "      <td>0.849744</td>\n",
       "      <td>0.045621</td>\n",
       "      <td>0.097990</td>\n",
       "    </tr>\n",
       "    <tr>\n",
       "      <th>living_area</th>\n",
       "      <td>0.077624</td>\n",
       "      <td>0.122889</td>\n",
       "      <td>0.759846</td>\n",
       "      <td>1.000000</td>\n",
       "      <td>0.054976</td>\n",
       "      <td>0.882136</td>\n",
       "      <td>0.895140</td>\n",
       "      <td>0.026265</td>\n",
       "      <td>-0.037636</td>\n",
       "    </tr>\n",
       "    <tr>\n",
       "      <th>month</th>\n",
       "      <td>0.033100</td>\n",
       "      <td>0.038510</td>\n",
       "      <td>0.035566</td>\n",
       "      <td>0.054976</td>\n",
       "      <td>1.000000</td>\n",
       "      <td>0.026469</td>\n",
       "      <td>0.050091</td>\n",
       "      <td>-0.058696</td>\n",
       "      <td>-0.201908</td>\n",
       "    </tr>\n",
       "    <tr>\n",
       "      <th>rooms</th>\n",
       "      <td>0.068260</td>\n",
       "      <td>0.203689</td>\n",
       "      <td>0.756555</td>\n",
       "      <td>0.882136</td>\n",
       "      <td>0.026469</td>\n",
       "      <td>1.000000</td>\n",
       "      <td>0.907221</td>\n",
       "      <td>-0.013681</td>\n",
       "      <td>-0.061380</td>\n",
       "    </tr>\n",
       "    <tr>\n",
       "      <th>total_area</th>\n",
       "      <td>0.079603</td>\n",
       "      <td>0.366508</td>\n",
       "      <td>0.849744</td>\n",
       "      <td>0.895140</td>\n",
       "      <td>0.050091</td>\n",
       "      <td>0.907221</td>\n",
       "      <td>1.000000</td>\n",
       "      <td>0.019097</td>\n",
       "      <td>-0.048137</td>\n",
       "    </tr>\n",
       "    <tr>\n",
       "      <th>type_of_floor</th>\n",
       "      <td>0.004735</td>\n",
       "      <td>0.049297</td>\n",
       "      <td>0.045621</td>\n",
       "      <td>0.026265</td>\n",
       "      <td>-0.058696</td>\n",
       "      <td>-0.013681</td>\n",
       "      <td>0.019097</td>\n",
       "      <td>1.000000</td>\n",
       "      <td>0.021882</td>\n",
       "    </tr>\n",
       "    <tr>\n",
       "      <th>year</th>\n",
       "      <td>0.043567</td>\n",
       "      <td>0.004947</td>\n",
       "      <td>0.097990</td>\n",
       "      <td>-0.037636</td>\n",
       "      <td>-0.201908</td>\n",
       "      <td>-0.061380</td>\n",
       "      <td>-0.048137</td>\n",
       "      <td>0.021882</td>\n",
       "      <td>1.000000</td>\n",
       "    </tr>\n",
       "  </tbody>\n",
       "</table>\n",
       "</div>"
      ],
      "text/plain": [
       "               day_of_week  kitchen_area  last_price  living_area     month  \\\n",
       "day_of_week       1.000000      0.049552    0.087479     0.077624  0.033100   \n",
       "kitchen_area      0.049552      1.000000    0.377220     0.122889  0.038510   \n",
       "last_price        0.087479      0.377220    1.000000     0.759846  0.035566   \n",
       "living_area       0.077624      0.122889    0.759846     1.000000  0.054976   \n",
       "month             0.033100      0.038510    0.035566     0.054976  1.000000   \n",
       "rooms             0.068260      0.203689    0.756555     0.882136  0.026469   \n",
       "total_area        0.079603      0.366508    0.849744     0.895140  0.050091   \n",
       "type_of_floor     0.004735      0.049297    0.045621     0.026265 -0.058696   \n",
       "year              0.043567      0.004947    0.097990    -0.037636 -0.201908   \n",
       "\n",
       "                  rooms  total_area  type_of_floor      year  \n",
       "day_of_week    0.068260    0.079603       0.004735  0.043567  \n",
       "kitchen_area   0.203689    0.366508       0.049297  0.004947  \n",
       "last_price     0.756555    0.849744       0.045621  0.097990  \n",
       "living_area    0.882136    0.895140       0.026265 -0.037636  \n",
       "month          0.026469    0.050091      -0.058696 -0.201908  \n",
       "rooms          1.000000    0.907221      -0.013681 -0.061380  \n",
       "total_area     0.907221    1.000000       0.019097 -0.048137  \n",
       "type_of_floor -0.013681    0.019097       1.000000  0.021882  \n",
       "year          -0.061380   -0.048137       0.021882  1.000000  "
      ]
     },
     "metadata": {},
     "output_type": "display_data"
    },
    {
     "data": {
      "text/html": [
       "<div>\n",
       "<style scoped>\n",
       "    .dataframe tbody tr th:only-of-type {\n",
       "        vertical-align: middle;\n",
       "    }\n",
       "\n",
       "    .dataframe tbody tr th {\n",
       "        vertical-align: top;\n",
       "    }\n",
       "\n",
       "    .dataframe thead th {\n",
       "        text-align: right;\n",
       "    }\n",
       "</style>\n",
       "<table border=\"1\" class=\"dataframe\">\n",
       "  <thead>\n",
       "    <tr style=\"text-align: right;\">\n",
       "      <th></th>\n",
       "      <th>day_of_week</th>\n",
       "      <th>kitchen_area</th>\n",
       "      <th>last_price</th>\n",
       "      <th>living_area</th>\n",
       "      <th>month</th>\n",
       "      <th>rooms</th>\n",
       "      <th>total_area</th>\n",
       "      <th>type_of_floor</th>\n",
       "      <th>year</th>\n",
       "    </tr>\n",
       "  </thead>\n",
       "  <tbody>\n",
       "    <tr>\n",
       "      <th>day_of_week</th>\n",
       "      <td>1.000000</td>\n",
       "      <td>0.019254</td>\n",
       "      <td>0.030312</td>\n",
       "      <td>0.010038</td>\n",
       "      <td>0.003348</td>\n",
       "      <td>0.004458</td>\n",
       "      <td>0.003993</td>\n",
       "      <td>-0.016833</td>\n",
       "      <td>0.024250</td>\n",
       "    </tr>\n",
       "    <tr>\n",
       "      <th>kitchen_area</th>\n",
       "      <td>0.019254</td>\n",
       "      <td>1.000000</td>\n",
       "      <td>0.311085</td>\n",
       "      <td>0.172005</td>\n",
       "      <td>0.024357</td>\n",
       "      <td>0.265476</td>\n",
       "      <td>0.405032</td>\n",
       "      <td>0.009726</td>\n",
       "      <td>0.055149</td>\n",
       "    </tr>\n",
       "    <tr>\n",
       "      <th>last_price</th>\n",
       "      <td>0.030312</td>\n",
       "      <td>0.311085</td>\n",
       "      <td>1.000000</td>\n",
       "      <td>0.839913</td>\n",
       "      <td>0.041080</td>\n",
       "      <td>0.822849</td>\n",
       "      <td>0.884690</td>\n",
       "      <td>0.047176</td>\n",
       "      <td>0.104611</td>\n",
       "    </tr>\n",
       "    <tr>\n",
       "      <th>living_area</th>\n",
       "      <td>0.010038</td>\n",
       "      <td>0.172005</td>\n",
       "      <td>0.839913</td>\n",
       "      <td>1.000000</td>\n",
       "      <td>-0.036164</td>\n",
       "      <td>0.876543</td>\n",
       "      <td>0.903587</td>\n",
       "      <td>-0.013429</td>\n",
       "      <td>-0.025117</td>\n",
       "    </tr>\n",
       "    <tr>\n",
       "      <th>month</th>\n",
       "      <td>0.003348</td>\n",
       "      <td>0.024357</td>\n",
       "      <td>0.041080</td>\n",
       "      <td>-0.036164</td>\n",
       "      <td>1.000000</td>\n",
       "      <td>0.015901</td>\n",
       "      <td>0.033835</td>\n",
       "      <td>0.010623</td>\n",
       "      <td>-0.181465</td>\n",
       "    </tr>\n",
       "    <tr>\n",
       "      <th>rooms</th>\n",
       "      <td>0.004458</td>\n",
       "      <td>0.265476</td>\n",
       "      <td>0.822849</td>\n",
       "      <td>0.876543</td>\n",
       "      <td>0.015901</td>\n",
       "      <td>1.000000</td>\n",
       "      <td>0.913912</td>\n",
       "      <td>-0.020416</td>\n",
       "      <td>-0.051682</td>\n",
       "    </tr>\n",
       "    <tr>\n",
       "      <th>total_area</th>\n",
       "      <td>0.003993</td>\n",
       "      <td>0.405032</td>\n",
       "      <td>0.884690</td>\n",
       "      <td>0.903587</td>\n",
       "      <td>0.033835</td>\n",
       "      <td>0.913912</td>\n",
       "      <td>1.000000</td>\n",
       "      <td>0.010092</td>\n",
       "      <td>-0.024083</td>\n",
       "    </tr>\n",
       "    <tr>\n",
       "      <th>type_of_floor</th>\n",
       "      <td>-0.016833</td>\n",
       "      <td>0.009726</td>\n",
       "      <td>0.047176</td>\n",
       "      <td>-0.013429</td>\n",
       "      <td>0.010623</td>\n",
       "      <td>-0.020416</td>\n",
       "      <td>0.010092</td>\n",
       "      <td>1.000000</td>\n",
       "      <td>0.020996</td>\n",
       "    </tr>\n",
       "    <tr>\n",
       "      <th>year</th>\n",
       "      <td>0.024250</td>\n",
       "      <td>0.055149</td>\n",
       "      <td>0.104611</td>\n",
       "      <td>-0.025117</td>\n",
       "      <td>-0.181465</td>\n",
       "      <td>-0.051682</td>\n",
       "      <td>-0.024083</td>\n",
       "      <td>0.020996</td>\n",
       "      <td>1.000000</td>\n",
       "    </tr>\n",
       "  </tbody>\n",
       "</table>\n",
       "</div>"
      ],
      "text/plain": [
       "               day_of_week  kitchen_area  last_price  living_area     month  \\\n",
       "day_of_week       1.000000      0.019254    0.030312     0.010038  0.003348   \n",
       "kitchen_area      0.019254      1.000000    0.311085     0.172005  0.024357   \n",
       "last_price        0.030312      0.311085    1.000000     0.839913  0.041080   \n",
       "living_area       0.010038      0.172005    0.839913     1.000000 -0.036164   \n",
       "month             0.003348      0.024357    0.041080    -0.036164  1.000000   \n",
       "rooms             0.004458      0.265476    0.822849     0.876543  0.015901   \n",
       "total_area        0.003993      0.405032    0.884690     0.903587  0.033835   \n",
       "type_of_floor    -0.016833      0.009726    0.047176    -0.013429  0.010623   \n",
       "year              0.024250      0.055149    0.104611    -0.025117 -0.181465   \n",
       "\n",
       "                  rooms  total_area  type_of_floor      year  \n",
       "day_of_week    0.004458    0.003993      -0.016833  0.024250  \n",
       "kitchen_area   0.265476    0.405032       0.009726  0.055149  \n",
       "last_price     0.822849    0.884690       0.047176  0.104611  \n",
       "living_area    0.876543    0.903587      -0.013429 -0.025117  \n",
       "month          0.015901    0.033835       0.010623 -0.181465  \n",
       "rooms          1.000000    0.913912      -0.020416 -0.051682  \n",
       "total_area     0.913912    1.000000       0.010092 -0.024083  \n",
       "type_of_floor -0.020416    0.010092       1.000000  0.020996  \n",
       "year          -0.051682   -0.024083       0.020996  1.000000  "
      ]
     },
     "metadata": {},
     "output_type": "display_data"
    },
    {
     "data": {
      "text/html": [
       "<div>\n",
       "<style scoped>\n",
       "    .dataframe tbody tr th:only-of-type {\n",
       "        vertical-align: middle;\n",
       "    }\n",
       "\n",
       "    .dataframe tbody tr th {\n",
       "        vertical-align: top;\n",
       "    }\n",
       "\n",
       "    .dataframe thead th {\n",
       "        text-align: right;\n",
       "    }\n",
       "</style>\n",
       "<table border=\"1\" class=\"dataframe\">\n",
       "  <thead>\n",
       "    <tr style=\"text-align: right;\">\n",
       "      <th></th>\n",
       "      <th>day_of_week</th>\n",
       "      <th>kitchen_area</th>\n",
       "      <th>last_price</th>\n",
       "      <th>living_area</th>\n",
       "      <th>month</th>\n",
       "      <th>rooms</th>\n",
       "      <th>total_area</th>\n",
       "      <th>type_of_floor</th>\n",
       "      <th>year</th>\n",
       "    </tr>\n",
       "  </thead>\n",
       "  <tbody>\n",
       "    <tr>\n",
       "      <th>day_of_week</th>\n",
       "      <td>1.000000</td>\n",
       "      <td>0.016971</td>\n",
       "      <td>0.007776</td>\n",
       "      <td>0.057775</td>\n",
       "      <td>-0.076944</td>\n",
       "      <td>0.104177</td>\n",
       "      <td>0.044582</td>\n",
       "      <td>0.011510</td>\n",
       "      <td>0.075049</td>\n",
       "    </tr>\n",
       "    <tr>\n",
       "      <th>kitchen_area</th>\n",
       "      <td>0.016971</td>\n",
       "      <td>1.000000</td>\n",
       "      <td>0.370219</td>\n",
       "      <td>0.142377</td>\n",
       "      <td>0.051747</td>\n",
       "      <td>0.190646</td>\n",
       "      <td>0.393425</td>\n",
       "      <td>0.047052</td>\n",
       "      <td>-0.003358</td>\n",
       "    </tr>\n",
       "    <tr>\n",
       "      <th>last_price</th>\n",
       "      <td>0.007776</td>\n",
       "      <td>0.370219</td>\n",
       "      <td>1.000000</td>\n",
       "      <td>0.818069</td>\n",
       "      <td>0.080112</td>\n",
       "      <td>0.789784</td>\n",
       "      <td>0.875364</td>\n",
       "      <td>0.045241</td>\n",
       "      <td>0.136003</td>\n",
       "    </tr>\n",
       "    <tr>\n",
       "      <th>living_area</th>\n",
       "      <td>0.057775</td>\n",
       "      <td>0.142377</td>\n",
       "      <td>0.818069</td>\n",
       "      <td>1.000000</td>\n",
       "      <td>0.008383</td>\n",
       "      <td>0.920737</td>\n",
       "      <td>0.938577</td>\n",
       "      <td>0.004699</td>\n",
       "      <td>0.024189</td>\n",
       "    </tr>\n",
       "    <tr>\n",
       "      <th>month</th>\n",
       "      <td>-0.076944</td>\n",
       "      <td>0.051747</td>\n",
       "      <td>0.080112</td>\n",
       "      <td>0.008383</td>\n",
       "      <td>1.000000</td>\n",
       "      <td>0.024154</td>\n",
       "      <td>0.043167</td>\n",
       "      <td>0.102539</td>\n",
       "      <td>-0.127709</td>\n",
       "    </tr>\n",
       "    <tr>\n",
       "      <th>rooms</th>\n",
       "      <td>0.104177</td>\n",
       "      <td>0.190646</td>\n",
       "      <td>0.789784</td>\n",
       "      <td>0.920737</td>\n",
       "      <td>0.024154</td>\n",
       "      <td>1.000000</td>\n",
       "      <td>0.893700</td>\n",
       "      <td>0.011211</td>\n",
       "      <td>0.045268</td>\n",
       "    </tr>\n",
       "    <tr>\n",
       "      <th>total_area</th>\n",
       "      <td>0.044582</td>\n",
       "      <td>0.393425</td>\n",
       "      <td>0.875364</td>\n",
       "      <td>0.938577</td>\n",
       "      <td>0.043167</td>\n",
       "      <td>0.893700</td>\n",
       "      <td>1.000000</td>\n",
       "      <td>0.001956</td>\n",
       "      <td>0.001611</td>\n",
       "    </tr>\n",
       "    <tr>\n",
       "      <th>type_of_floor</th>\n",
       "      <td>0.011510</td>\n",
       "      <td>0.047052</td>\n",
       "      <td>0.045241</td>\n",
       "      <td>0.004699</td>\n",
       "      <td>0.102539</td>\n",
       "      <td>0.011211</td>\n",
       "      <td>0.001956</td>\n",
       "      <td>1.000000</td>\n",
       "      <td>0.041221</td>\n",
       "    </tr>\n",
       "    <tr>\n",
       "      <th>year</th>\n",
       "      <td>0.075049</td>\n",
       "      <td>-0.003358</td>\n",
       "      <td>0.136003</td>\n",
       "      <td>0.024189</td>\n",
       "      <td>-0.127709</td>\n",
       "      <td>0.045268</td>\n",
       "      <td>0.001611</td>\n",
       "      <td>0.041221</td>\n",
       "      <td>1.000000</td>\n",
       "    </tr>\n",
       "  </tbody>\n",
       "</table>\n",
       "</div>"
      ],
      "text/plain": [
       "               day_of_week  kitchen_area  last_price  living_area     month  \\\n",
       "day_of_week       1.000000      0.016971    0.007776     0.057775 -0.076944   \n",
       "kitchen_area      0.016971      1.000000    0.370219     0.142377  0.051747   \n",
       "last_price        0.007776      0.370219    1.000000     0.818069  0.080112   \n",
       "living_area       0.057775      0.142377    0.818069     1.000000  0.008383   \n",
       "month            -0.076944      0.051747    0.080112     0.008383  1.000000   \n",
       "rooms             0.104177      0.190646    0.789784     0.920737  0.024154   \n",
       "total_area        0.044582      0.393425    0.875364     0.938577  0.043167   \n",
       "type_of_floor     0.011510      0.047052    0.045241     0.004699  0.102539   \n",
       "year              0.075049     -0.003358    0.136003     0.024189 -0.127709   \n",
       "\n",
       "                  rooms  total_area  type_of_floor      year  \n",
       "day_of_week    0.104177    0.044582       0.011510  0.075049  \n",
       "kitchen_area   0.190646    0.393425       0.047052 -0.003358  \n",
       "last_price     0.789784    0.875364       0.045241  0.136003  \n",
       "living_area    0.920737    0.938577       0.004699  0.024189  \n",
       "month          0.024154    0.043167       0.102539 -0.127709  \n",
       "rooms          1.000000    0.893700       0.011211  0.045268  \n",
       "total_area     0.893700    1.000000       0.001956  0.001611  \n",
       "type_of_floor  0.011211    0.001956       1.000000  0.041221  \n",
       "year           0.045268    0.001611       0.041221  1.000000  "
      ]
     },
     "metadata": {},
     "output_type": "display_data"
    },
    {
     "data": {
      "text/html": [
       "<div>\n",
       "<style scoped>\n",
       "    .dataframe tbody tr th:only-of-type {\n",
       "        vertical-align: middle;\n",
       "    }\n",
       "\n",
       "    .dataframe tbody tr th {\n",
       "        vertical-align: top;\n",
       "    }\n",
       "\n",
       "    .dataframe thead th {\n",
       "        text-align: right;\n",
       "    }\n",
       "</style>\n",
       "<table border=\"1\" class=\"dataframe\">\n",
       "  <thead>\n",
       "    <tr style=\"text-align: right;\">\n",
       "      <th></th>\n",
       "      <th>day_of_week</th>\n",
       "      <th>kitchen_area</th>\n",
       "      <th>last_price</th>\n",
       "      <th>living_area</th>\n",
       "      <th>month</th>\n",
       "      <th>rooms</th>\n",
       "      <th>total_area</th>\n",
       "      <th>type_of_floor</th>\n",
       "      <th>year</th>\n",
       "    </tr>\n",
       "  </thead>\n",
       "  <tbody>\n",
       "    <tr>\n",
       "      <th>day_of_week</th>\n",
       "      <td>1.000000</td>\n",
       "      <td>-0.004065</td>\n",
       "      <td>0.017666</td>\n",
       "      <td>-0.078678</td>\n",
       "      <td>-0.066364</td>\n",
       "      <td>-0.000182</td>\n",
       "      <td>-0.035989</td>\n",
       "      <td>0.006384</td>\n",
       "      <td>0.065208</td>\n",
       "    </tr>\n",
       "    <tr>\n",
       "      <th>kitchen_area</th>\n",
       "      <td>-0.004065</td>\n",
       "      <td>1.000000</td>\n",
       "      <td>0.551644</td>\n",
       "      <td>0.188300</td>\n",
       "      <td>-0.006241</td>\n",
       "      <td>0.125342</td>\n",
       "      <td>0.454546</td>\n",
       "      <td>0.083563</td>\n",
       "      <td>0.096019</td>\n",
       "    </tr>\n",
       "    <tr>\n",
       "      <th>last_price</th>\n",
       "      <td>0.017666</td>\n",
       "      <td>0.551644</td>\n",
       "      <td>1.000000</td>\n",
       "      <td>0.687804</td>\n",
       "      <td>0.025338</td>\n",
       "      <td>0.595867</td>\n",
       "      <td>0.826581</td>\n",
       "      <td>0.064928</td>\n",
       "      <td>0.079120</td>\n",
       "    </tr>\n",
       "    <tr>\n",
       "      <th>living_area</th>\n",
       "      <td>-0.078678</td>\n",
       "      <td>0.188300</td>\n",
       "      <td>0.687804</td>\n",
       "      <td>1.000000</td>\n",
       "      <td>0.049175</td>\n",
       "      <td>0.857535</td>\n",
       "      <td>0.892597</td>\n",
       "      <td>-0.021994</td>\n",
       "      <td>-0.068133</td>\n",
       "    </tr>\n",
       "    <tr>\n",
       "      <th>month</th>\n",
       "      <td>-0.066364</td>\n",
       "      <td>-0.006241</td>\n",
       "      <td>0.025338</td>\n",
       "      <td>0.049175</td>\n",
       "      <td>1.000000</td>\n",
       "      <td>0.050251</td>\n",
       "      <td>0.036297</td>\n",
       "      <td>0.019295</td>\n",
       "      <td>-0.244347</td>\n",
       "    </tr>\n",
       "    <tr>\n",
       "      <th>rooms</th>\n",
       "      <td>-0.000182</td>\n",
       "      <td>0.125342</td>\n",
       "      <td>0.595867</td>\n",
       "      <td>0.857535</td>\n",
       "      <td>0.050251</td>\n",
       "      <td>1.000000</td>\n",
       "      <td>0.812847</td>\n",
       "      <td>-0.067657</td>\n",
       "      <td>-0.046898</td>\n",
       "    </tr>\n",
       "    <tr>\n",
       "      <th>total_area</th>\n",
       "      <td>-0.035989</td>\n",
       "      <td>0.454546</td>\n",
       "      <td>0.826581</td>\n",
       "      <td>0.892597</td>\n",
       "      <td>0.036297</td>\n",
       "      <td>0.812847</td>\n",
       "      <td>1.000000</td>\n",
       "      <td>0.020504</td>\n",
       "      <td>0.014826</td>\n",
       "    </tr>\n",
       "    <tr>\n",
       "      <th>type_of_floor</th>\n",
       "      <td>0.006384</td>\n",
       "      <td>0.083563</td>\n",
       "      <td>0.064928</td>\n",
       "      <td>-0.021994</td>\n",
       "      <td>0.019295</td>\n",
       "      <td>-0.067657</td>\n",
       "      <td>0.020504</td>\n",
       "      <td>1.000000</td>\n",
       "      <td>0.025778</td>\n",
       "    </tr>\n",
       "    <tr>\n",
       "      <th>year</th>\n",
       "      <td>0.065208</td>\n",
       "      <td>0.096019</td>\n",
       "      <td>0.079120</td>\n",
       "      <td>-0.068133</td>\n",
       "      <td>-0.244347</td>\n",
       "      <td>-0.046898</td>\n",
       "      <td>0.014826</td>\n",
       "      <td>0.025778</td>\n",
       "      <td>1.000000</td>\n",
       "    </tr>\n",
       "  </tbody>\n",
       "</table>\n",
       "</div>"
      ],
      "text/plain": [
       "               day_of_week  kitchen_area  last_price  living_area     month  \\\n",
       "day_of_week       1.000000     -0.004065    0.017666    -0.078678 -0.066364   \n",
       "kitchen_area     -0.004065      1.000000    0.551644     0.188300 -0.006241   \n",
       "last_price        0.017666      0.551644    1.000000     0.687804  0.025338   \n",
       "living_area      -0.078678      0.188300    0.687804     1.000000  0.049175   \n",
       "month            -0.066364     -0.006241    0.025338     0.049175  1.000000   \n",
       "rooms            -0.000182      0.125342    0.595867     0.857535  0.050251   \n",
       "total_area       -0.035989      0.454546    0.826581     0.892597  0.036297   \n",
       "type_of_floor     0.006384      0.083563    0.064928    -0.021994  0.019295   \n",
       "year              0.065208      0.096019    0.079120    -0.068133 -0.244347   \n",
       "\n",
       "                  rooms  total_area  type_of_floor      year  \n",
       "day_of_week   -0.000182   -0.035989       0.006384  0.065208  \n",
       "kitchen_area   0.125342    0.454546       0.083563  0.096019  \n",
       "last_price     0.595867    0.826581       0.064928  0.079120  \n",
       "living_area    0.857535    0.892597      -0.021994 -0.068133  \n",
       "month          0.050251    0.036297       0.019295 -0.244347  \n",
       "rooms          1.000000    0.812847      -0.067657 -0.046898  \n",
       "total_area     0.812847    1.000000       0.020504  0.014826  \n",
       "type_of_floor -0.067657    0.020504       1.000000  0.025778  \n",
       "year          -0.046898    0.014826       0.025778  1.000000  "
      ]
     },
     "metadata": {},
     "output_type": "display_data"
    }
   ],
   "source": [
    "top_city = new_data['cor_locality_name'].value_counts()[:5]\n",
    "for city in top_city.index:\n",
    "    parametrs_2 = new_data[new_data['cor_locality_name'] == city]\n",
    "    param_table = parametrs_2.pivot_table(index='first_day_exposition', values=['total_area', 'type_of_floor', 'last_price',\n",
    "                                                                                'rooms', 'year', 'month', 'day_of_week', \n",
    "                                                                                'living_area', 'kitchen_area'], aggfunc='median')\n",
    "    display(param_table.corr())"
   ]
  },
  {
   "cell_type": "markdown",
   "metadata": {},
   "source": [
    "**Выводы по разделу:**\n",
    "- Из указанных параметров больше всего влияние на стоимость объекта имеет его общая площадь. Стоимость объекта имеет положительную корреляцию с площадью объектов со среднем значением 0.76. В засимости от города данное значение изменяется и может достигать 0.84.\n",
    "- Стоит отметить, что средняя положительная корреляция также наблюдается со следующими факторами: площадь кухни, жилая площадь, количество комнат. Данное явление обусловлено мультиколлиеарностью факторов с общей площадью объекта."
   ]
  },
  {
   "cell_type": "markdown",
   "metadata": {},
   "source": [
    "<div class=\"alert alert-block alert-success\">\n",
    "<b>✅Комментарий ревьюера:</b> \n",
    "\n",
    "Отлично, факторы, влияющие(или нет) на стоимость квартиры рассмотрены!</div>"
   ]
  },
  {
   "cell_type": "markdown",
   "metadata": {},
   "source": [
    "#### Определение стоимости квадртаного метра в различных населенных пунктах"
   ]
  },
  {
   "cell_type": "code",
   "execution_count": 88,
   "metadata": {},
   "outputs": [
    {
     "data": {
      "text/html": [
       "<div>\n",
       "<style scoped>\n",
       "    .dataframe tbody tr th:only-of-type {\n",
       "        vertical-align: middle;\n",
       "    }\n",
       "\n",
       "    .dataframe tbody tr th {\n",
       "        vertical-align: top;\n",
       "    }\n",
       "\n",
       "    .dataframe thead th {\n",
       "        text-align: right;\n",
       "    }\n",
       "</style>\n",
       "<table border=\"1\" class=\"dataframe\">\n",
       "  <thead>\n",
       "    <tr style=\"text-align: right;\">\n",
       "      <th></th>\n",
       "      <th>price_mean</th>\n",
       "      <th>total_area_mean</th>\n",
       "      <th>price_per_m2</th>\n",
       "      <th>number of ads</th>\n",
       "    </tr>\n",
       "    <tr>\n",
       "      <th>cor_locality_name</th>\n",
       "      <th></th>\n",
       "      <th></th>\n",
       "      <th></th>\n",
       "      <th></th>\n",
       "    </tr>\n",
       "  </thead>\n",
       "  <tbody>\n",
       "    <tr>\n",
       "      <th>Санкт-Петербург</th>\n",
       "      <td>6.546123e+06</td>\n",
       "      <td>58.850910</td>\n",
       "      <td>111232.32</td>\n",
       "      <td>15042</td>\n",
       "    </tr>\n",
       "    <tr>\n",
       "      <th>Пушкин</th>\n",
       "      <td>5.893226e+06</td>\n",
       "      <td>56.836816</td>\n",
       "      <td>103686.78</td>\n",
       "      <td>358</td>\n",
       "    </tr>\n",
       "    <tr>\n",
       "      <th>Кудрово</th>\n",
       "      <td>4.358688e+06</td>\n",
       "      <td>46.395403</td>\n",
       "      <td>93946.55</td>\n",
       "      <td>472</td>\n",
       "    </tr>\n",
       "    <tr>\n",
       "      <th>Парголово</th>\n",
       "      <td>4.477609e+06</td>\n",
       "      <td>51.061350</td>\n",
       "      <td>87690.76</td>\n",
       "      <td>326</td>\n",
       "    </tr>\n",
       "    <tr>\n",
       "      <th>Мурино</th>\n",
       "      <td>3.678462e+06</td>\n",
       "      <td>44.098932</td>\n",
       "      <td>83413.86</td>\n",
       "      <td>590</td>\n",
       "    </tr>\n",
       "    <tr>\n",
       "      <th>Шушары</th>\n",
       "      <td>4.108082e+06</td>\n",
       "      <td>53.821273</td>\n",
       "      <td>76328.22</td>\n",
       "      <td>440</td>\n",
       "    </tr>\n",
       "    <tr>\n",
       "      <th>Колпино</th>\n",
       "      <td>3.866289e+06</td>\n",
       "      <td>52.358279</td>\n",
       "      <td>73842.93</td>\n",
       "      <td>337</td>\n",
       "    </tr>\n",
       "    <tr>\n",
       "      <th>Гатчина</th>\n",
       "      <td>3.488337e+06</td>\n",
       "      <td>50.942932</td>\n",
       "      <td>68475.38</td>\n",
       "      <td>307</td>\n",
       "    </tr>\n",
       "    <tr>\n",
       "      <th>Всеволожск</th>\n",
       "      <td>3.779720e+06</td>\n",
       "      <td>55.780428</td>\n",
       "      <td>67760.69</td>\n",
       "      <td>397</td>\n",
       "    </tr>\n",
       "    <tr>\n",
       "      <th>Выборг</th>\n",
       "      <td>3.174438e+06</td>\n",
       "      <td>55.049191</td>\n",
       "      <td>57665.48</td>\n",
       "      <td>235</td>\n",
       "    </tr>\n",
       "  </tbody>\n",
       "</table>\n",
       "</div>"
      ],
      "text/plain": [
       "                     price_mean  total_area_mean  price_per_m2  number of ads\n",
       "cor_locality_name                                                            \n",
       "Санкт-Петербург    6.546123e+06        58.850910     111232.32          15042\n",
       "Пушкин             5.893226e+06        56.836816     103686.78            358\n",
       "Кудрово            4.358688e+06        46.395403      93946.55            472\n",
       "Парголово          4.477609e+06        51.061350      87690.76            326\n",
       "Мурино             3.678462e+06        44.098932      83413.86            590\n",
       "Шушары             4.108082e+06        53.821273      76328.22            440\n",
       "Колпино            3.866289e+06        52.358279      73842.93            337\n",
       "Гатчина            3.488337e+06        50.942932      68475.38            307\n",
       "Всеволожск         3.779720e+06        55.780428      67760.69            397\n",
       "Выборг             3.174438e+06        55.049191      57665.48            235"
      ]
     },
     "metadata": {},
     "output_type": "display_data"
    }
   ],
   "source": [
    "top_cities = new_data['cor_locality_name'].value_counts()[:10]\n",
    "table = new_data.query('cor_locality_name in @top_cities.index').pivot_table(index='cor_locality_name',\n",
    "                                                                                   values=['last_price', 'total_area'])\n",
    "table['price_per_m2'] = round(table['last_price'] / table['total_area'], 2)\n",
    "table['count'] = top_cities\n",
    "table.columns = ['price_mean', 'total_area_mean', 'price_per_m2', 'number of ads']\n",
    "display(table.sort_values(by='price_per_m2', ascending=0))"
   ]
  },
  {
   "cell_type": "markdown",
   "metadata": {},
   "source": [
    "**Выводы по разделу:**\n",
    "- Самая высокая средняя стоимость 1 м2 квартиры из 10 самых \"популярных\" городов - в Санкт-Петербурге (111 232,32). \n",
    "- Самая низкая средняя стоимость 1 м2 квартиры из 10 самых \"популярных\" городов - в Выборге (57 665,248)."
   ]
  },
  {
   "cell_type": "markdown",
   "metadata": {},
   "source": [
    "<div class=\"alert alert-block alert-warning\">\n",
    "<b>🔁Комментарий ревьюера:</b>\n",
    "\n",
    "Здесь результат не совсем корректный из-за потери данных. </div>"
   ]
  },
  {
   "cell_type": "markdown",
   "id": "12e47024",
   "metadata": {},
   "source": [
    "<div class=\"alert alert-block alert-success\">\n",
    "<b>✅Комментарий ревьюера 2:</b> Отлично, исправлено!👍  </div>"
   ]
  },
  {
   "cell_type": "markdown",
   "metadata": {},
   "source": [
    "<div class=\"alert alert-block alert-info\">\n",
    "<b>🔄Комментарий студента:</b> \n",
    "Написал вывод по обновленным данным.\n",
    "</div>"
   ]
  },
  {
   "cell_type": "markdown",
   "metadata": {},
   "source": [
    "#### Определение влияние параметра \"расстояние до центра города\" на стоимость квартиры"
   ]
  },
  {
   "cell_type": "code",
   "execution_count": 89,
   "metadata": {},
   "outputs": [
    {
     "data": {
      "text/html": [
       "<div>\n",
       "<style scoped>\n",
       "    .dataframe tbody tr th:only-of-type {\n",
       "        vertical-align: middle;\n",
       "    }\n",
       "\n",
       "    .dataframe tbody tr th {\n",
       "        vertical-align: top;\n",
       "    }\n",
       "\n",
       "    .dataframe thead th {\n",
       "        text-align: right;\n",
       "    }\n",
       "</style>\n",
       "<table border=\"1\" class=\"dataframe\">\n",
       "  <thead>\n",
       "    <tr style=\"text-align: right;\">\n",
       "      <th></th>\n",
       "      <th>last_price</th>\n",
       "      <th>total_area</th>\n",
       "      <th>centre_nearest</th>\n",
       "      <th>price_per_m2</th>\n",
       "    </tr>\n",
       "    <tr>\n",
       "      <th>centre_nearest</th>\n",
       "      <th></th>\n",
       "      <th></th>\n",
       "      <th></th>\n",
       "      <th></th>\n",
       "    </tr>\n",
       "  </thead>\n",
       "  <tbody>\n",
       "    <tr>\n",
       "      <th>0.0</th>\n",
       "      <td>9.248333e+06</td>\n",
       "      <td>80.166667</td>\n",
       "      <td>0.0</td>\n",
       "      <td>115363.83</td>\n",
       "    </tr>\n",
       "    <tr>\n",
       "      <th>1.0</th>\n",
       "      <td>1.082936e+07</td>\n",
       "      <td>82.748590</td>\n",
       "      <td>1.0</td>\n",
       "      <td>130870.62</td>\n",
       "    </tr>\n",
       "    <tr>\n",
       "      <th>2.0</th>\n",
       "      <td>1.031133e+07</td>\n",
       "      <td>81.224659</td>\n",
       "      <td>2.0</td>\n",
       "      <td>126948.31</td>\n",
       "    </tr>\n",
       "    <tr>\n",
       "      <th>3.0</th>\n",
       "      <td>9.145804e+06</td>\n",
       "      <td>77.873119</td>\n",
       "      <td>3.0</td>\n",
       "      <td>117444.95</td>\n",
       "    </tr>\n",
       "    <tr>\n",
       "      <th>4.0</th>\n",
       "      <td>9.587490e+06</td>\n",
       "      <td>78.959460</td>\n",
       "      <td>4.0</td>\n",
       "      <td>121422.94</td>\n",
       "    </tr>\n",
       "  </tbody>\n",
       "</table>\n",
       "</div>"
      ],
      "text/plain": [
       "                  last_price  total_area  centre_nearest  price_per_m2\n",
       "centre_nearest                                                        \n",
       "0.0             9.248333e+06   80.166667             0.0     115363.83\n",
       "1.0             1.082936e+07   82.748590             1.0     130870.62\n",
       "2.0             1.031133e+07   81.224659             2.0     126948.31\n",
       "3.0             9.145804e+06   77.873119             3.0     117444.95\n",
       "4.0             9.587490e+06   78.959460             4.0     121422.94"
      ]
     },
     "metadata": {},
     "output_type": "display_data"
    }
   ],
   "source": [
    "saint_p = new_data[new_data['cor_locality_name'] == 'Санкт-Петербург'].pivot_table(index='centre_nearest', \n",
    "                                                                                   values=['last_price', 'total_area'])\n",
    "saint_p['centre_nearest'] = saint_p.index\n",
    "saint_p['price_per_m2'] = round(saint_p['last_price'] / saint_p['total_area'], 2)\n",
    "display(saint_p.head())"
   ]
  },
  {
   "cell_type": "code",
   "execution_count": 90,
   "metadata": {},
   "outputs": [
    {
     "data": {
      "text/plain": [
       "-0.83"
      ]
     },
     "metadata": {},
     "output_type": "display_data"
    },
    {
     "data": {
      "image/png": "[encoded data removed]",
      "text/plain": [
       "<Figure size 432x288 with 1 Axes>"
      ]
     },
     "metadata": {
      "needs_background": "light"
     },
     "output_type": "display_data"
    },
    {
     "data": {
      "text/plain": [
       "-0.66"
      ]
     },
     "metadata": {},
     "output_type": "display_data"
    },
    {
     "data": {
      "image/png": "[encoded data removed]",
      "text/plain": [
       "<Figure size 432x288 with 1 Axes>"
      ]
     },
     "metadata": {
      "needs_background": "light"
     },
     "output_type": "display_data"
    }
   ],
   "source": [
    "display(round(saint_p['last_price'].corr(saint_p['centre_nearest']), 2))\n",
    "saint_p.plot(y='last_price', grid=1, kind='line', title='Средняя стоимость квартиры в зависимости от удаленности от центра', style='o-')\n",
    "plt.show()\n",
    "display(round(saint_p['price_per_m2'].corr(saint_p['centre_nearest']), 2))\n",
    "saint_p.plot(y='price_per_m2', grid=1, kind='line', title='Средняя стоимость 1 м2 в зависимости от удаленности от центра', style='o-')\n",
    "plt.show()"
   ]
  },
  {
   "cell_type": "code",
   "execution_count": 91,
   "metadata": {},
   "outputs": [
    {
     "data": {
      "text/html": [
       "<div>\n",
       "<style scoped>\n",
       "    .dataframe tbody tr th:only-of-type {\n",
       "        vertical-align: middle;\n",
       "    }\n",
       "\n",
       "    .dataframe tbody tr th {\n",
       "        vertical-align: top;\n",
       "    }\n",
       "\n",
       "    .dataframe thead th {\n",
       "        text-align: right;\n",
       "    }\n",
       "</style>\n",
       "<table border=\"1\" class=\"dataframe\">\n",
       "  <thead>\n",
       "    <tr style=\"text-align: right;\">\n",
       "      <th></th>\n",
       "      <th>total_images</th>\n",
       "      <th>last_price</th>\n",
       "      <th>total_area</th>\n",
       "      <th>first_day_exposition</th>\n",
       "      <th>rooms</th>\n",
       "      <th>ceiling_height</th>\n",
       "      <th>floors_total</th>\n",
       "      <th>living_area</th>\n",
       "      <th>floor</th>\n",
       "      <th>is_apartment</th>\n",
       "      <th>...</th>\n",
       "      <th>ponds_nearest</th>\n",
       "      <th>days_exposition</th>\n",
       "      <th>cor_locality_name</th>\n",
       "      <th>price_per_m2</th>\n",
       "      <th>day_of_week</th>\n",
       "      <th>month</th>\n",
       "      <th>year</th>\n",
       "      <th>type_of_floor</th>\n",
       "      <th>centre_nearest</th>\n",
       "      <th>correct_height</th>\n",
       "    </tr>\n",
       "  </thead>\n",
       "  <tbody>\n",
       "    <tr>\n",
       "      <th>717</th>\n",
       "      <td>13</td>\n",
       "      <td>14350000.0</td>\n",
       "      <td>74.0</td>\n",
       "      <td>2017-11-28</td>\n",
       "      <td>2</td>\n",
       "      <td>3.13</td>\n",
       "      <td>5.0</td>\n",
       "      <td>30.0</td>\n",
       "      <td>3</td>\n",
       "      <td>False</td>\n",
       "      <td>...</td>\n",
       "      <td>NaN</td>\n",
       "      <td>128.0</td>\n",
       "      <td>Санкт-Петербург</td>\n",
       "      <td>193918.92</td>\n",
       "      <td>1</td>\n",
       "      <td>11</td>\n",
       "      <td>2017</td>\n",
       "      <td>1</td>\n",
       "      <td>27.0</td>\n",
       "      <td>3.13</td>\n",
       "    </tr>\n",
       "    <tr>\n",
       "      <th>5776</th>\n",
       "      <td>6</td>\n",
       "      <td>2250000.0</td>\n",
       "      <td>32.0</td>\n",
       "      <td>2018-02-27</td>\n",
       "      <td>1</td>\n",
       "      <td>NaN</td>\n",
       "      <td>2.0</td>\n",
       "      <td>16.5</td>\n",
       "      <td>2</td>\n",
       "      <td>False</td>\n",
       "      <td>...</td>\n",
       "      <td>NaN</td>\n",
       "      <td>178.0</td>\n",
       "      <td>Санкт-Петербург</td>\n",
       "      <td>70312.50</td>\n",
       "      <td>1</td>\n",
       "      <td>2</td>\n",
       "      <td>2018</td>\n",
       "      <td>2</td>\n",
       "      <td>27.0</td>\n",
       "      <td>NaN</td>\n",
       "    </tr>\n",
       "  </tbody>\n",
       "</table>\n",
       "<p>2 rows × 30 columns</p>\n",
       "</div>"
      ],
      "text/plain": [
       "      total_images  last_price  total_area first_day_exposition  rooms  \\\n",
       "717             13  14350000.0        74.0           2017-11-28      2   \n",
       "5776             6   2250000.0        32.0           2018-02-27      1   \n",
       "\n",
       "      ceiling_height  floors_total  living_area  floor  is_apartment  ...  \\\n",
       "717             3.13           5.0         30.0      3         False  ...   \n",
       "5776             NaN           2.0         16.5      2         False  ...   \n",
       "\n",
       "      ponds_nearest  days_exposition  cor_locality_name  price_per_m2  \\\n",
       "717             NaN            128.0    Санкт-Петербург     193918.92   \n",
       "5776            NaN            178.0    Санкт-Петербург      70312.50   \n",
       "\n",
       "     day_of_week  month  year  type_of_floor  centre_nearest  correct_height  \n",
       "717            1     11  2017              1            27.0            3.13  \n",
       "5776           1      2  2018              2            27.0             NaN  \n",
       "\n",
       "[2 rows x 30 columns]"
      ]
     },
     "metadata": {},
     "output_type": "display_data"
    }
   ],
   "source": [
    "display(new_data[(new_data['cor_locality_name'] == 'Санкт-Петербург') & (new_data['centre_nearest'] == 27)])"
   ]
  },
  {
   "cell_type": "markdown",
   "metadata": {},
   "source": [
    "**Выводы по разделу:** \n",
    "- По результатам проведенного анализа была обнаружена высокая отрицательная корреляция (-0.77) стоимости квартиры и удаленности от центра города.\n",
    "- На расстоянии 27 км от центра была обнаружена аномалия (выброс). Скорее всего данный выброс образовался в связи с ограниченностью количеством объявлений с такой удаленностью (2 шт.)"
   ]
  },
  {
   "cell_type": "markdown",
   "metadata": {},
   "source": [
    "<div class=\"alert alert-block alert-success\">\n",
    "<b>✅Комментарий ревьюера:</b> \n",
    "\n",
    "Тут все верно, молодец! Здорово, что обратил внимание на всплеск на 27 км и проанализировал его.</div>"
   ]
  },
  {
   "cell_type": "markdown",
   "metadata": {
    "id": "h7VpzkIDAwb-"
   },
   "source": [
    "### Напишите общий вывод"
   ]
  },
  {
   "cell_type": "markdown",
   "metadata": {
    "id": "3H4lnp_KAwb-"
   },
   "source": [
    "**Общие выводы по работе:**\n",
    "1. В рамках получения и первичного анализа данных были получены 23 699 наблюдений с 22 колонками показателей;\n",
    "\n",
    "2. После первичного анализа данных были выполнены следующие операции:\n",
    "- Заполнены пропуски по столбцам 'is_apartment' и 'balcony', а также указаны возможные причины появления всех пропусков в таблице;\n",
    "- Изменен тип данных столбца 'first_day_exposition' с 'object' на 'datetime';\n",
    "\n",
    "3. В процессе анализа данных в части значений показателей были обнаружены и исключены аномалии в следующих столбцах: 'total_area', 'living_area', 'kitchen_area', 'last_price', 'rooms', 'ceiling_height\n",
    "\n",
    "4. По результатам исследовательского анализа были сделаны следующие выводы:\n",
    "- Среднее значение количества дней, за которые продается квартира, - 179; медиана равна 98 дням. Будем считать, что срок продажи квартиры больше 450 дней будет необычайно долгим (около 10% наблюдений), а срок меньше 18 дней - необычайно коротким (около 10% наблюдений).\n",
    "- Больше всего влияние на стоимость объекта имеет его общая площадь. Стоимость объекта имеет положительную корреляцию с площадью объектов со среднем значением 0.73. В засимости от города данное значение изменяется и может достигать 0.86.\n",
    "- Стоит отметить, что средняя положительная корреляция также наблюдается со следующими факторами: площадь кухни, жилая площадь, количество комнат. Данное явление обусловлено мультиколлиеарностью факторов с общей площадью объекта.\n",
    "- Самая высокая средняя стоимость 1 м2 квартиры из 10 самых \"популярных\" городов - в Санкт-Петербурге (106 251,27). \n",
    "- Самая низкая средняя стоимость 1 м2 квартиры из 10 самых \"популярных\" городов - во Всеволожске (66 752,62).\n",
    "- В Санкт-Петербурге на стоимость квартиры также влияет показатель удаленности от центра города. Была обнаружена высокая отрицательная корреляция (-0.77) стоимости квартиры и удаленности от центра города."
   ]
  },
  {
   "cell_type": "markdown",
   "metadata": {},
   "source": [
    "<div class=\"alert alert-block alert-success\">\n",
    "<b>✅Комментарий ревьюера:</b> \n",
    "\n",
    "\n",
    "Хороший итоговый вывод!\n",
    "\n",
    "\n",
    "    \n",
    "**Хочу обратить твое внимание на то, что после исправления замечаний в некоторых пунктах исследования могут измениться результаты, поэтому нужно будет подкорректировать выводы.**\n",
    "</div>"
   ]
  },
  {
   "cell_type": "markdown",
   "metadata": {
    "id": "A90mc0BgAwb-"
   },
   "source": [
    "**Чек-лист готовности проекта**\n",
    "\n",
    "Поставьте 'x' в выполненных пунктах. Далее нажмите Shift+Enter."
   ]
  },
  {
   "cell_type": "markdown",
   "metadata": {
    "id": "ME3sTWm6Awb-"
   },
   "source": [
    "- [x]  Файл с данными открыт.\n",
    "- [x]  Файл с данными изучен: выведены первые строки, использован метод `info()`, построены гистограммы.\n",
    "- [x]  Найдены пропущенные значения.\n",
    "- [x]  Пропущенные значения заполнены там, где это возможно.\n",
    "- [x]  Объяснено, какие пропущенные значения обнаружены.\n",
    "- [x]  В каждом столбце установлен корректный тип данных.\n",
    "- [x]  Объяснено, в каких столбцах изменён тип данных и почему.\n",
    "- [x]  Устранены неявные дубликаты в названиях населённых пунктов.\n",
    "- [x]  Обработаны редкие и выбивающиеся значения (аномалии).\n",
    "- [x]  В таблицу добавлены новые параметры:\n",
    "       – цена одного квадратного метра;\n",
    "       – день публикации объявления (0 - понедельник, 1 - вторник и т. д.);\n",
    "       – месяц публикации объявления;\n",
    "       – год публикации объявления;\n",
    "       – тип этажа квартиры (значения — «первый», «последний», «другой»);\n",
    "       – расстояние до центра города в километрах.\n",
    "- [x]  Изучены и описаны параметры:\n",
    "        - общая площадь;\n",
    "        - жилая площадь;\n",
    "        - площадь кухни;\n",
    "        - цена объекта;\n",
    "        - количество комнат;\n",
    "        - высота потолков;\n",
    "        - тип этажа квартиры («первый», «последний», «другой»);\n",
    "        - общее количество этажей в доме;\n",
    "        - расстояние до центра города в метрах;\n",
    "        - расстояние до ближайшего парка.\n",
    "- [x]  Выполнено задание «Изучите, как быстро продавались квартиры (столбец `days_exposition`)»:\n",
    "    - построена гистограмма;\n",
    "    - рассчитаны среднее и медиана;\n",
    "    - описано, сколько обычно занимает продажа и указано, какие продажи можно считать быстрыми, а какие — необычно долгими.\n",
    "- [x]  Выполнено задание «Определите факторы, которые больше всего влияют на общую (полную) стоимость объекта». Построены графики, которые показывают зависимость цены от параметров:\n",
    "        - общая площадь;\n",
    "        - жилая площадь;\n",
    "        - площадь кухни;\n",
    "        - количество комнат;\n",
    "        - тип этажа, на котором расположена квартира (первый, последний, другой);\n",
    "        - дата размещения (день недели, месяц, год).\n",
    "- [x]  Выполнено задание «Посчитайте среднюю цену одного квадратного метра в 10 населённых пунктах с наибольшим числом объявлений»:\n",
    "    - выделены населённые пункты с самой высокой и низкой стоимостью квадратного метра.\n",
    "- [x]  Выполнено задание «Выделите квартиры в Санкт-Петербурге с помощью столбца `locality_name` и вычислите их среднюю стоимость на разном удалении от центра»:\n",
    "    -  учтён каждый километр расстояния, известны средние цены квартир в одном километре от центра, в двух и так далее;\n",
    "    -  описано, как стоимость объекта зависит от расстояния до центра города;\n",
    "    -  построен график изменения средней цены для каждого километра от центра Петербурга.\n",
    "- [x]  На каждом этапе сделаны промежуточные выводы.\n",
    "- [x]  В конце проекта сделан общий вывод."
   ]
  }
 ],
 "metadata": {
  "ExecuteTimeLog": [
   {
    "duration": 565,
    "start_time": "2025-01-16T12:40:06.704Z"
   },
   {
    "duration": 14,
    "start_time": "2025-01-16T12:40:56.274Z"
   },
   {
    "duration": 104,
    "start_time": "2025-01-16T12:41:22.921Z"
   },
   {
    "duration": 27,
    "start_time": "2025-01-16T12:41:23.984Z"
   },
   {
    "duration": 4,
    "start_time": "2025-01-16T12:42:22.633Z"
   },
   {
    "duration": 3,
    "start_time": "2025-01-16T12:44:27.306Z"
   },
   {
    "duration": 2267,
    "start_time": "2025-01-16T12:44:58.346Z"
   },
   {
    "duration": 435,
    "start_time": "2025-01-16T12:55:10.366Z"
   },
   {
    "duration": 7273,
    "start_time": "2025-01-16T12:55:37.728Z"
   },
   {
    "duration": 86,
    "start_time": "2025-01-16T12:56:57.871Z"
   },
   {
    "duration": 9144,
    "start_time": "2025-01-16T12:57:36.179Z"
   },
   {
    "duration": 1681,
    "start_time": "2025-01-16T13:01:29.233Z"
   },
   {
    "duration": 2741,
    "start_time": "2025-01-16T13:08:34.508Z"
   },
   {
    "duration": 94,
    "start_time": "2025-01-16T13:09:42.564Z"
   },
   {
    "duration": 2903,
    "start_time": "2025-01-16T13:15:07.054Z"
   },
   {
    "duration": 14,
    "start_time": "2025-01-16T13:15:50.662Z"
   },
   {
    "duration": 3069,
    "start_time": "2025-01-16T13:17:47.575Z"
   },
   {
    "duration": 3,
    "start_time": "2025-01-16T13:19:31.847Z"
   },
   {
    "duration": 8,
    "start_time": "2025-01-16T13:20:12.543Z"
   },
   {
    "duration": 10,
    "start_time": "2025-01-16T13:20:43.439Z"
   },
   {
    "duration": 3,
    "start_time": "2025-01-16T13:49:33.122Z"
   },
   {
    "duration": 102,
    "start_time": "2025-01-16T13:58:03.599Z"
   },
   {
    "duration": 92,
    "start_time": "2025-01-16T13:58:14.933Z"
   },
   {
    "duration": 1377,
    "start_time": "2025-01-16T13:58:18.373Z"
   },
   {
    "duration": 1439,
    "start_time": "2025-01-16T13:59:00.415Z"
   },
   {
    "duration": 1384,
    "start_time": "2025-01-16T14:00:13.832Z"
   },
   {
    "duration": 10,
    "start_time": "2025-01-16T14:02:13.784Z"
   },
   {
    "duration": 8,
    "start_time": "2025-01-16T14:02:24.392Z"
   },
   {
    "duration": 7,
    "start_time": "2025-01-16T14:02:54.992Z"
   },
   {
    "duration": 6,
    "start_time": "2025-01-16T14:03:47.128Z"
   },
   {
    "duration": 3688,
    "start_time": "2025-01-16T14:05:02.256Z"
   },
   {
    "duration": 2674,
    "start_time": "2025-01-16T14:05:25.193Z"
   },
   {
    "duration": 297,
    "start_time": "2025-01-16T14:06:38.882Z"
   },
   {
    "duration": 1785,
    "start_time": "2025-01-16T14:08:04.298Z"
   },
   {
    "duration": 194,
    "start_time": "2025-01-16T14:08:17.706Z"
   },
   {
    "duration": 201,
    "start_time": "2025-01-16T14:09:10.370Z"
   },
   {
    "duration": 10,
    "start_time": "2025-01-16T14:10:00.930Z"
   },
   {
    "duration": 228,
    "start_time": "2025-01-16T14:13:38.252Z"
   },
   {
    "duration": 92,
    "start_time": "2025-01-16T14:16:37.038Z"
   },
   {
    "duration": 157,
    "start_time": "2025-01-16T14:16:41.700Z"
   },
   {
    "duration": 8,
    "start_time": "2025-01-16T14:17:35.957Z"
   },
   {
    "duration": 83,
    "start_time": "2025-01-16T14:17:45.966Z"
   },
   {
    "duration": 8,
    "start_time": "2025-01-16T14:17:48.637Z"
   },
   {
    "duration": 7,
    "start_time": "2025-01-16T14:17:54.686Z"
   },
   {
    "duration": 9,
    "start_time": "2025-01-16T14:18:21.830Z"
   },
   {
    "duration": 8,
    "start_time": "2025-01-16T14:19:28.190Z"
   },
   {
    "duration": 14,
    "start_time": "2025-01-16T15:12:37.539Z"
   },
   {
    "duration": 34,
    "start_time": "2025-01-16T15:28:36.442Z"
   },
   {
    "duration": 39,
    "start_time": "2025-01-16T15:29:20.475Z"
   },
   {
    "duration": 46,
    "start_time": "2025-01-17T08:46:12.918Z"
   },
   {
    "duration": 957,
    "start_time": "2025-01-17T08:46:17.734Z"
   },
   {
    "duration": 28,
    "start_time": "2025-01-17T08:46:18.693Z"
   },
   {
    "duration": 20,
    "start_time": "2025-01-17T08:46:18.723Z"
   },
   {
    "duration": 2605,
    "start_time": "2025-01-17T08:46:18.745Z"
   },
   {
    "duration": 9,
    "start_time": "2025-01-17T08:46:21.352Z"
   },
   {
    "duration": 10,
    "start_time": "2025-01-17T08:46:21.362Z"
   },
   {
    "duration": 12,
    "start_time": "2025-01-17T08:46:21.373Z"
   },
   {
    "duration": 33,
    "start_time": "2025-01-17T08:46:21.386Z"
   },
   {
    "duration": 41,
    "start_time": "2025-01-17T08:50:40.130Z"
   },
   {
    "duration": 27,
    "start_time": "2025-01-17T08:50:51.792Z"
   },
   {
    "duration": 38,
    "start_time": "2025-01-17T08:59:06.877Z"
   },
   {
    "duration": 6,
    "start_time": "2025-01-17T08:59:39.443Z"
   },
   {
    "duration": 27,
    "start_time": "2025-01-17T09:02:43.267Z"
   },
   {
    "duration": 6,
    "start_time": "2025-01-17T09:02:58.828Z"
   },
   {
    "duration": 31,
    "start_time": "2025-01-17T09:05:34.149Z"
   },
   {
    "duration": 7,
    "start_time": "2025-01-17T09:05:42.667Z"
   },
   {
    "duration": 5,
    "start_time": "2025-01-17T09:09:16.406Z"
   },
   {
    "duration": 3,
    "start_time": "2025-01-17T09:09:24.493Z"
   },
   {
    "duration": 5,
    "start_time": "2025-01-17T09:09:57.382Z"
   },
   {
    "duration": 13,
    "start_time": "2025-01-17T09:11:49.455Z"
   },
   {
    "duration": 23,
    "start_time": "2025-01-17T09:12:04.071Z"
   },
   {
    "duration": 5,
    "start_time": "2025-01-17T09:12:28.695Z"
   },
   {
    "duration": 5,
    "start_time": "2025-01-17T09:13:49.279Z"
   },
   {
    "duration": 5,
    "start_time": "2025-01-17T09:14:10.391Z"
   },
   {
    "duration": 31,
    "start_time": "2025-01-17T09:14:57.640Z"
   },
   {
    "duration": 14,
    "start_time": "2025-01-17T09:17:34.642Z"
   },
   {
    "duration": 25,
    "start_time": "2025-01-17T09:17:48.681Z"
   },
   {
    "duration": 36,
    "start_time": "2025-01-17T09:20:26.459Z"
   },
   {
    "duration": 12,
    "start_time": "2025-01-17T09:20:38.835Z"
   },
   {
    "duration": 13,
    "start_time": "2025-01-17T09:23:55.844Z"
   },
   {
    "duration": 23,
    "start_time": "2025-01-17T09:24:07.531Z"
   },
   {
    "duration": 23,
    "start_time": "2025-01-17T09:24:15.284Z"
   },
   {
    "duration": 97,
    "start_time": "2025-01-17T09:24:36.767Z"
   },
   {
    "duration": 30,
    "start_time": "2025-01-17T09:24:41.363Z"
   },
   {
    "duration": 27,
    "start_time": "2025-01-17T09:25:20.460Z"
   },
   {
    "duration": 27,
    "start_time": "2025-01-17T09:27:25.060Z"
   },
   {
    "duration": 28,
    "start_time": "2025-01-17T09:27:43.436Z"
   },
   {
    "duration": 64,
    "start_time": "2025-01-17T09:27:53.892Z"
   },
   {
    "duration": 31,
    "start_time": "2025-01-17T09:28:06.492Z"
   },
   {
    "duration": 26,
    "start_time": "2025-01-17T09:28:43.380Z"
   },
   {
    "duration": 27,
    "start_time": "2025-01-17T09:29:09.798Z"
   },
   {
    "duration": 5,
    "start_time": "2025-01-17T09:30:02.094Z"
   },
   {
    "duration": 5,
    "start_time": "2025-01-17T09:30:30.565Z"
   },
   {
    "duration": 14,
    "start_time": "2025-01-17T09:30:56.798Z"
   },
   {
    "duration": 15,
    "start_time": "2025-01-17T09:31:05.532Z"
   },
   {
    "duration": 15,
    "start_time": "2025-01-17T09:31:19.196Z"
   },
   {
    "duration": 25,
    "start_time": "2025-01-17T09:31:56.574Z"
   },
   {
    "duration": 9,
    "start_time": "2025-01-17T09:39:08.215Z"
   },
   {
    "duration": 26,
    "start_time": "2025-01-17T09:40:45.537Z"
   },
   {
    "duration": 25,
    "start_time": "2025-01-17T12:06:32.687Z"
   },
   {
    "duration": 30,
    "start_time": "2025-01-17T12:07:32.290Z"
   },
   {
    "duration": 657,
    "start_time": "2025-01-17T12:07:46.103Z"
   },
   {
    "duration": 27,
    "start_time": "2025-01-17T12:07:47.311Z"
   },
   {
    "duration": 14,
    "start_time": "2025-01-17T12:07:48.367Z"
   },
   {
    "duration": 2612,
    "start_time": "2025-01-17T12:07:49.134Z"
   },
   {
    "duration": 9,
    "start_time": "2025-01-17T12:07:51.748Z"
   },
   {
    "duration": 8,
    "start_time": "2025-01-17T12:07:51.759Z"
   },
   {
    "duration": 14,
    "start_time": "2025-01-17T12:07:52.999Z"
   },
   {
    "duration": 32,
    "start_time": "2025-01-17T12:07:54.135Z"
   },
   {
    "duration": 7,
    "start_time": "2025-01-17T12:07:54.639Z"
   },
   {
    "duration": 8,
    "start_time": "2025-01-17T12:07:56.615Z"
   },
   {
    "duration": 28,
    "start_time": "2025-01-17T12:07:57.615Z"
   },
   {
    "duration": 6,
    "start_time": "2025-01-17T12:07:59.279Z"
   },
   {
    "duration": 6,
    "start_time": "2025-01-17T12:08:00.311Z"
   },
   {
    "duration": 31,
    "start_time": "2025-01-17T12:08:03.088Z"
   },
   {
    "duration": 33,
    "start_time": "2025-01-17T12:09:00.760Z"
   },
   {
    "duration": 32,
    "start_time": "2025-01-17T12:09:36.536Z"
   },
   {
    "duration": 32,
    "start_time": "2025-01-17T12:10:03.088Z"
   },
   {
    "duration": 28,
    "start_time": "2025-01-17T12:10:55.418Z"
   },
   {
    "duration": 8,
    "start_time": "2025-01-17T12:11:00.048Z"
   },
   {
    "duration": 25,
    "start_time": "2025-01-17T12:11:18.831Z"
   },
   {
    "duration": 26,
    "start_time": "2025-01-17T12:16:24.579Z"
   },
   {
    "duration": 36,
    "start_time": "2025-01-17T12:16:52.563Z"
   },
   {
    "duration": 33,
    "start_time": "2025-01-17T12:17:03.026Z"
   },
   {
    "duration": 685,
    "start_time": "2025-01-17T12:17:23.498Z"
   },
   {
    "duration": 26,
    "start_time": "2025-01-17T12:17:24.185Z"
   },
   {
    "duration": 15,
    "start_time": "2025-01-17T12:17:25.156Z"
   },
   {
    "duration": 2690,
    "start_time": "2025-01-17T12:17:26.044Z"
   },
   {
    "duration": 9,
    "start_time": "2025-01-17T12:17:28.736Z"
   },
   {
    "duration": 25,
    "start_time": "2025-01-17T12:17:28.746Z"
   },
   {
    "duration": 13,
    "start_time": "2025-01-17T12:17:30.254Z"
   },
   {
    "duration": 32,
    "start_time": "2025-01-17T12:17:32.477Z"
   },
   {
    "duration": 7,
    "start_time": "2025-01-17T12:17:33.014Z"
   },
   {
    "duration": 6,
    "start_time": "2025-01-17T12:17:34.269Z"
   },
   {
    "duration": 27,
    "start_time": "2025-01-17T12:17:38.709Z"
   },
   {
    "duration": 5,
    "start_time": "2025-01-17T12:17:39.237Z"
   },
   {
    "duration": 5,
    "start_time": "2025-01-17T12:17:40.548Z"
   },
   {
    "duration": 30,
    "start_time": "2025-01-17T12:17:45.957Z"
   },
   {
    "duration": 6,
    "start_time": "2025-01-17T12:18:24.061Z"
   },
   {
    "duration": 38,
    "start_time": "2025-01-17T12:18:44.997Z"
   },
   {
    "duration": 8,
    "start_time": "2025-01-17T12:19:39.650Z"
   },
   {
    "duration": 7,
    "start_time": "2025-01-17T12:20:28.543Z"
   },
   {
    "duration": 72,
    "start_time": "2025-01-17T12:21:24.559Z"
   },
   {
    "duration": 6,
    "start_time": "2025-01-17T12:21:29.567Z"
   },
   {
    "duration": 12,
    "start_time": "2025-01-17T12:21:59.775Z"
   },
   {
    "duration": 8,
    "start_time": "2025-01-17T12:26:00.009Z"
   },
   {
    "duration": 12,
    "start_time": "2025-01-17T12:26:25.520Z"
   },
   {
    "duration": 6,
    "start_time": "2025-01-17T12:26:30.114Z"
   },
   {
    "duration": 8,
    "start_time": "2025-01-17T12:27:31.377Z"
   },
   {
    "duration": 7,
    "start_time": "2025-01-17T12:30:21.211Z"
   },
   {
    "duration": 8,
    "start_time": "2025-01-17T12:31:53.586Z"
   },
   {
    "duration": 11,
    "start_time": "2025-01-17T12:32:03.852Z"
   },
   {
    "duration": 10,
    "start_time": "2025-01-17T12:32:19.739Z"
   },
   {
    "duration": 11,
    "start_time": "2025-01-17T12:34:12.931Z"
   },
   {
    "duration": 12,
    "start_time": "2025-01-17T12:34:21.317Z"
   },
   {
    "duration": 11,
    "start_time": "2025-01-17T12:34:23.931Z"
   },
   {
    "duration": 9,
    "start_time": "2025-01-17T12:34:29.148Z"
   },
   {
    "duration": 9,
    "start_time": "2025-01-17T12:34:36.739Z"
   },
   {
    "duration": 8,
    "start_time": "2025-01-17T12:34:49.740Z"
   },
   {
    "duration": 9,
    "start_time": "2025-01-17T12:34:59.244Z"
   },
   {
    "duration": 12,
    "start_time": "2025-01-17T12:39:54.790Z"
   },
   {
    "duration": 29,
    "start_time": "2025-01-17T12:40:08.230Z"
   },
   {
    "duration": 29,
    "start_time": "2025-01-17T12:40:16.583Z"
   },
   {
    "duration": 27,
    "start_time": "2025-01-17T12:40:31.669Z"
   },
   {
    "duration": 8,
    "start_time": "2025-01-17T12:41:01.470Z"
   },
   {
    "duration": 700,
    "start_time": "2025-01-17T12:41:40.192Z"
   },
   {
    "duration": 26,
    "start_time": "2025-01-17T12:41:40.894Z"
   },
   {
    "duration": 15,
    "start_time": "2025-01-17T12:41:41.118Z"
   },
   {
    "duration": 2626,
    "start_time": "2025-01-17T12:41:41.636Z"
   },
   {
    "duration": 9,
    "start_time": "2025-01-17T12:41:44.264Z"
   },
   {
    "duration": 29,
    "start_time": "2025-01-17T12:41:44.274Z"
   },
   {
    "duration": 17,
    "start_time": "2025-01-17T12:41:44.436Z"
   },
   {
    "duration": 29,
    "start_time": "2025-01-17T12:41:46.611Z"
   },
   {
    "duration": 8,
    "start_time": "2025-01-17T12:41:46.860Z"
   },
   {
    "duration": 8,
    "start_time": "2025-01-17T12:41:47.605Z"
   },
   {
    "duration": 24,
    "start_time": "2025-01-17T12:41:48.549Z"
   },
   {
    "duration": 5,
    "start_time": "2025-01-17T12:41:49.004Z"
   },
   {
    "duration": 5,
    "start_time": "2025-01-17T12:41:50.684Z"
   },
   {
    "duration": 32,
    "start_time": "2025-01-17T12:42:58.557Z"
   },
   {
    "duration": 34,
    "start_time": "2025-01-17T12:46:53.470Z"
   },
   {
    "duration": 5,
    "start_time": "2025-01-17T12:50:41.223Z"
   },
   {
    "duration": 32,
    "start_time": "2025-01-17T12:51:41.592Z"
   },
   {
    "duration": 42,
    "start_time": "2025-01-17T12:55:33.130Z"
   },
   {
    "duration": 68,
    "start_time": "2025-01-17T12:57:07.028Z"
   },
   {
    "duration": 44,
    "start_time": "2025-01-17T12:57:18.202Z"
   },
   {
    "duration": 32,
    "start_time": "2025-01-17T12:57:48.947Z"
   },
   {
    "duration": 5,
    "start_time": "2025-01-17T12:58:05.689Z"
   },
   {
    "duration": 12,
    "start_time": "2025-01-17T13:03:35.804Z"
   },
   {
    "duration": 34,
    "start_time": "2025-01-17T13:04:00.948Z"
   },
   {
    "duration": 106,
    "start_time": "2025-01-17T15:20:30.528Z"
   },
   {
    "duration": 34,
    "start_time": "2025-01-17T15:20:45.241Z"
   },
   {
    "duration": 55,
    "start_time": "2025-01-17T15:21:31.376Z"
   },
   {
    "duration": 35,
    "start_time": "2025-01-17T15:22:06.634Z"
   },
   {
    "duration": 676,
    "start_time": "2025-01-17T15:22:51.509Z"
   },
   {
    "duration": 37,
    "start_time": "2025-01-17T15:22:52.187Z"
   },
   {
    "duration": 15,
    "start_time": "2025-01-17T15:22:52.344Z"
   },
   {
    "duration": 2798,
    "start_time": "2025-01-17T15:22:52.873Z"
   },
   {
    "duration": 9,
    "start_time": "2025-01-17T15:22:55.673Z"
   },
   {
    "duration": 18,
    "start_time": "2025-01-17T15:22:55.684Z"
   },
   {
    "duration": 13,
    "start_time": "2025-01-17T15:22:59.937Z"
   },
   {
    "duration": 30,
    "start_time": "2025-01-17T15:23:20.242Z"
   },
   {
    "duration": 7,
    "start_time": "2025-01-17T15:23:21.889Z"
   },
   {
    "duration": 8,
    "start_time": "2025-01-17T15:23:25.705Z"
   },
   {
    "duration": 27,
    "start_time": "2025-01-17T15:23:32.193Z"
   },
   {
    "duration": 5,
    "start_time": "2025-01-17T15:25:24.506Z"
   },
   {
    "duration": 6,
    "start_time": "2025-01-17T15:26:07.682Z"
   },
   {
    "duration": 9,
    "start_time": "2025-01-17T15:27:33.668Z"
   },
   {
    "duration": 7,
    "start_time": "2025-01-17T15:28:02.754Z"
   },
   {
    "duration": 8,
    "start_time": "2025-01-17T15:28:09.739Z"
   },
   {
    "duration": 33,
    "start_time": "2025-01-17T15:29:30.819Z"
   },
   {
    "duration": 31,
    "start_time": "2025-01-17T15:32:38.421Z"
   },
   {
    "duration": 9,
    "start_time": "2025-01-17T15:38:31.574Z"
   },
   {
    "duration": 34,
    "start_time": "2025-01-17T15:38:53.375Z"
   },
   {
    "duration": 7,
    "start_time": "2025-01-17T15:39:25.983Z"
   },
   {
    "duration": 11,
    "start_time": "2025-01-17T15:39:35.136Z"
   },
   {
    "duration": 50,
    "start_time": "2025-01-17T15:39:38.424Z"
   },
   {
    "duration": 42,
    "start_time": "2025-01-17T15:40:57.635Z"
   },
   {
    "duration": 4,
    "start_time": "2025-01-17T15:42:22.880Z"
   },
   {
    "duration": 26,
    "start_time": "2025-01-17T15:42:31.466Z"
   },
   {
    "duration": 34,
    "start_time": "2025-01-17T15:43:10.673Z"
   },
   {
    "duration": 33,
    "start_time": "2025-01-17T15:44:24.706Z"
   },
   {
    "duration": 8,
    "start_time": "2025-01-17T15:46:12.835Z"
   },
   {
    "duration": 8,
    "start_time": "2025-01-17T15:47:10.723Z"
   },
   {
    "duration": 36,
    "start_time": "2025-01-17T15:47:47.891Z"
   },
   {
    "duration": 1109,
    "start_time": "2025-01-20T13:14:41.457Z"
   },
   {
    "duration": 38,
    "start_time": "2025-01-20T13:14:42.568Z"
   },
   {
    "duration": 17,
    "start_time": "2025-01-20T13:14:59.658Z"
   },
   {
    "duration": 3317,
    "start_time": "2025-01-20T13:15:01.862Z"
   },
   {
    "duration": 9,
    "start_time": "2025-01-20T13:15:06.234Z"
   },
   {
    "duration": 13,
    "start_time": "2025-01-20T13:15:07.434Z"
   },
   {
    "duration": 14,
    "start_time": "2025-01-20T13:15:43.978Z"
   },
   {
    "duration": 34,
    "start_time": "2025-01-20T13:15:52.994Z"
   },
   {
    "duration": 10,
    "start_time": "2025-01-20T13:15:53.770Z"
   },
   {
    "duration": 9,
    "start_time": "2025-01-20T13:15:56.842Z"
   },
   {
    "duration": 30,
    "start_time": "2025-01-20T13:15:59.066Z"
   },
   {
    "duration": 6,
    "start_time": "2025-01-20T13:15:59.633Z"
   },
   {
    "duration": 8,
    "start_time": "2025-01-20T13:16:01.521Z"
   },
   {
    "duration": 21,
    "start_time": "2025-01-20T14:38:44.299Z"
   },
   {
    "duration": 5,
    "start_time": "2025-01-20T14:43:52.781Z"
   },
   {
    "duration": 5,
    "start_time": "2025-01-20T14:51:00.217Z"
   },
   {
    "duration": 5,
    "start_time": "2025-01-20T14:51:04.568Z"
   },
   {
    "duration": 6,
    "start_time": "2025-01-20T14:51:10.415Z"
   },
   {
    "duration": 5,
    "start_time": "2025-01-20T14:52:41.239Z"
   },
   {
    "duration": 9,
    "start_time": "2025-01-20T14:52:44.938Z"
   },
   {
    "duration": 26,
    "start_time": "2025-01-20T14:53:06.007Z"
   },
   {
    "duration": 10,
    "start_time": "2025-01-20T14:53:39.393Z"
   },
   {
    "duration": 26,
    "start_time": "2025-01-20T14:53:50.225Z"
   },
   {
    "duration": 28,
    "start_time": "2025-01-20T15:16:24.033Z"
   },
   {
    "duration": 6,
    "start_time": "2025-01-20T15:21:29.475Z"
   },
   {
    "duration": 1111,
    "start_time": "2025-01-21T08:11:55.108Z"
   },
   {
    "duration": 27,
    "start_time": "2025-01-21T08:11:56.221Z"
   },
   {
    "duration": 15,
    "start_time": "2025-01-21T08:11:57.572Z"
   },
   {
    "duration": 2490,
    "start_time": "2025-01-21T08:12:02.589Z"
   },
   {
    "duration": 9,
    "start_time": "2025-01-21T08:12:05.081Z"
   },
   {
    "duration": 12,
    "start_time": "2025-01-21T08:12:09.421Z"
   },
   {
    "duration": 13,
    "start_time": "2025-01-21T08:12:16.684Z"
   },
   {
    "duration": 29,
    "start_time": "2025-01-21T08:12:19.150Z"
   },
   {
    "duration": 7,
    "start_time": "2025-01-21T08:12:20.292Z"
   },
   {
    "duration": 7,
    "start_time": "2025-01-21T08:12:21.861Z"
   },
   {
    "duration": 27,
    "start_time": "2025-01-21T08:12:22.676Z"
   },
   {
    "duration": 7,
    "start_time": "2025-01-21T08:12:23.156Z"
   },
   {
    "duration": 7,
    "start_time": "2025-01-21T08:12:25.037Z"
   },
   {
    "duration": 13,
    "start_time": "2025-01-21T08:12:33.068Z"
   },
   {
    "duration": 5,
    "start_time": "2025-01-21T08:15:53.717Z"
   },
   {
    "duration": 9,
    "start_time": "2025-01-21T08:15:57.054Z"
   },
   {
    "duration": 22,
    "start_time": "2025-01-21T08:15:59.510Z"
   },
   {
    "duration": 23,
    "start_time": "2025-01-21T08:16:07.430Z"
   },
   {
    "duration": 14,
    "start_time": "2025-01-21T08:18:23.297Z"
   },
   {
    "duration": 101,
    "start_time": "2025-01-21T09:04:09.451Z"
   },
   {
    "duration": 26,
    "start_time": "2025-01-21T09:04:10.012Z"
   },
   {
    "duration": 741,
    "start_time": "2025-01-21T09:04:16.402Z"
   },
   {
    "duration": 28,
    "start_time": "2025-01-21T09:04:17.633Z"
   },
   {
    "duration": 15,
    "start_time": "2025-01-21T09:04:18.500Z"
   },
   {
    "duration": 2631,
    "start_time": "2025-01-21T09:04:19.292Z"
   },
   {
    "duration": 9,
    "start_time": "2025-01-21T09:04:21.925Z"
   },
   {
    "duration": 19,
    "start_time": "2025-01-21T09:04:21.935Z"
   },
   {
    "duration": 13,
    "start_time": "2025-01-21T09:04:23.700Z"
   },
   {
    "duration": 30,
    "start_time": "2025-01-21T09:04:24.717Z"
   },
   {
    "duration": 8,
    "start_time": "2025-01-21T09:04:24.891Z"
   },
   {
    "duration": 8,
    "start_time": "2025-01-21T09:04:25.355Z"
   },
   {
    "duration": 25,
    "start_time": "2025-01-21T09:04:25.740Z"
   },
   {
    "duration": 6,
    "start_time": "2025-01-21T09:04:26.443Z"
   },
   {
    "duration": 8,
    "start_time": "2025-01-21T09:04:27.419Z"
   },
   {
    "duration": 13,
    "start_time": "2025-01-21T09:04:30.340Z"
   },
   {
    "duration": 5,
    "start_time": "2025-01-21T09:04:32.212Z"
   },
   {
    "duration": 10,
    "start_time": "2025-01-21T09:04:32.548Z"
   },
   {
    "duration": 23,
    "start_time": "2025-01-21T09:04:33.380Z"
   },
   {
    "duration": 23,
    "start_time": "2025-01-21T09:04:36.572Z"
   },
   {
    "duration": 10,
    "start_time": "2025-01-21T09:04:40.812Z"
   },
   {
    "duration": 74,
    "start_time": "2025-01-21T09:17:18.049Z"
   },
   {
    "duration": 97,
    "start_time": "2025-01-21T09:20:04.456Z"
   },
   {
    "duration": 8,
    "start_time": "2025-01-21T09:20:22.120Z"
   },
   {
    "duration": 11,
    "start_time": "2025-01-21T09:20:28.856Z"
   },
   {
    "duration": 17,
    "start_time": "2025-01-21T09:32:11.773Z"
   },
   {
    "duration": 11,
    "start_time": "2025-01-21T09:32:14.284Z"
   },
   {
    "duration": 9,
    "start_time": "2025-01-21T09:32:33.333Z"
   },
   {
    "duration": 1145,
    "start_time": "2025-01-22T08:33:17.697Z"
   },
   {
    "duration": 34,
    "start_time": "2025-01-22T08:33:18.845Z"
   },
   {
    "duration": 17,
    "start_time": "2025-01-22T08:33:19.917Z"
   },
   {
    "duration": 3102,
    "start_time": "2025-01-22T08:33:20.412Z"
   },
   {
    "duration": 9,
    "start_time": "2025-01-22T08:33:23.517Z"
   },
   {
    "duration": 10,
    "start_time": "2025-01-22T08:33:23.530Z"
   },
   {
    "duration": 15,
    "start_time": "2025-01-22T08:33:23.542Z"
   },
   {
    "duration": 34,
    "start_time": "2025-01-22T08:33:23.559Z"
   },
   {
    "duration": 36,
    "start_time": "2025-01-22T08:33:23.595Z"
   },
   {
    "duration": 10,
    "start_time": "2025-01-22T08:33:23.869Z"
   },
   {
    "duration": 30,
    "start_time": "2025-01-22T08:33:24.580Z"
   },
   {
    "duration": 6,
    "start_time": "2025-01-22T08:33:24.948Z"
   },
   {
    "duration": 7,
    "start_time": "2025-01-22T08:33:25.764Z"
   },
   {
    "duration": 15,
    "start_time": "2025-01-22T08:33:27.283Z"
   },
   {
    "duration": 5,
    "start_time": "2025-01-22T08:33:28.963Z"
   },
   {
    "duration": 9,
    "start_time": "2025-01-22T08:33:29.444Z"
   },
   {
    "duration": 27,
    "start_time": "2025-01-22T08:33:29.884Z"
   },
   {
    "duration": 26,
    "start_time": "2025-01-22T08:33:31.853Z"
   },
   {
    "duration": 11,
    "start_time": "2025-01-22T08:33:33.254Z"
   },
   {
    "duration": 14,
    "start_time": "2025-01-22T08:36:26.694Z"
   },
   {
    "duration": 16,
    "start_time": "2025-01-22T08:36:34.741Z"
   },
   {
    "duration": 16,
    "start_time": "2025-01-22T08:37:43.390Z"
   },
   {
    "duration": 11,
    "start_time": "2025-01-22T08:37:46.494Z"
   },
   {
    "duration": 503,
    "start_time": "2025-01-22T08:47:15.712Z"
   },
   {
    "duration": 13,
    "start_time": "2025-01-22T08:49:10.793Z"
   },
   {
    "duration": 1065,
    "start_time": "2025-01-22T08:49:27.521Z"
   },
   {
    "duration": 14,
    "start_time": "2025-01-22T08:51:03.226Z"
   },
   {
    "duration": 1983,
    "start_time": "2025-01-22T08:51:12.939Z"
   },
   {
    "duration": 15,
    "start_time": "2025-01-22T08:51:33.738Z"
   },
   {
    "duration": 863,
    "start_time": "2025-01-22T08:52:10.647Z"
   },
   {
    "duration": 40,
    "start_time": "2025-01-22T08:52:11.512Z"
   },
   {
    "duration": 17,
    "start_time": "2025-01-22T08:52:12.259Z"
   },
   {
    "duration": 3284,
    "start_time": "2025-01-22T08:52:12.803Z"
   },
   {
    "duration": 10,
    "start_time": "2025-01-22T08:52:16.089Z"
   },
   {
    "duration": 39,
    "start_time": "2025-01-22T08:52:16.100Z"
   },
   {
    "duration": 28,
    "start_time": "2025-01-22T08:52:16.141Z"
   },
   {
    "duration": 45,
    "start_time": "2025-01-22T08:52:16.171Z"
   },
   {
    "duration": 16,
    "start_time": "2025-01-22T08:52:16.217Z"
   },
   {
    "duration": 9,
    "start_time": "2025-01-22T08:52:16.963Z"
   },
   {
    "duration": 32,
    "start_time": "2025-01-22T08:52:17.514Z"
   },
   {
    "duration": 9,
    "start_time": "2025-01-22T08:52:17.795Z"
   },
   {
    "duration": 10,
    "start_time": "2025-01-22T08:52:18.365Z"
   },
   {
    "duration": 14,
    "start_time": "2025-01-22T08:52:20.202Z"
   },
   {
    "duration": 6,
    "start_time": "2025-01-22T08:52:21.442Z"
   },
   {
    "duration": 9,
    "start_time": "2025-01-22T08:52:21.955Z"
   },
   {
    "duration": 27,
    "start_time": "2025-01-22T08:52:22.354Z"
   },
   {
    "duration": 38,
    "start_time": "2025-01-22T08:52:23.066Z"
   },
   {
    "duration": 12,
    "start_time": "2025-01-22T08:52:23.395Z"
   },
   {
    "duration": 14,
    "start_time": "2025-01-22T08:52:23.571Z"
   },
   {
    "duration": 77,
    "start_time": "2025-01-22T08:52:27.165Z"
   },
   {
    "duration": 9,
    "start_time": "2025-01-22T08:52:37.244Z"
   },
   {
    "duration": 89,
    "start_time": "2025-01-22T08:56:49.628Z"
   },
   {
    "duration": 13,
    "start_time": "2025-01-22T08:56:55.108Z"
   },
   {
    "duration": 9,
    "start_time": "2025-01-22T08:57:15.542Z"
   },
   {
    "duration": 8,
    "start_time": "2025-01-22T08:57:27.901Z"
   },
   {
    "duration": 15,
    "start_time": "2025-01-22T08:59:21.693Z"
   },
   {
    "duration": 11,
    "start_time": "2025-01-22T08:59:22.485Z"
   },
   {
    "duration": 396,
    "start_time": "2025-01-22T09:16:06.460Z"
   },
   {
    "duration": 21,
    "start_time": "2025-01-22T09:17:18.644Z"
   },
   {
    "duration": 12,
    "start_time": "2025-01-22T09:17:21.132Z"
   },
   {
    "duration": 24,
    "start_time": "2025-01-22T09:19:46.028Z"
   },
   {
    "duration": 12,
    "start_time": "2025-01-22T09:19:47.860Z"
   },
   {
    "duration": 21,
    "start_time": "2025-01-22T09:29:47.103Z"
   },
   {
    "duration": 12,
    "start_time": "2025-01-22T09:29:48.823Z"
   },
   {
    "duration": 22,
    "start_time": "2025-01-22T09:32:12.448Z"
   },
   {
    "duration": 13,
    "start_time": "2025-01-22T09:32:13.095Z"
   },
   {
    "duration": 87,
    "start_time": "2025-01-22T09:32:35.329Z"
   },
   {
    "duration": 10,
    "start_time": "2025-01-22T09:32:40.369Z"
   },
   {
    "duration": 19,
    "start_time": "2025-01-22T09:33:30.584Z"
   },
   {
    "duration": 6,
    "start_time": "2025-01-22T09:42:22.573Z"
   },
   {
    "duration": 30,
    "start_time": "2025-01-22T09:42:35.405Z"
   },
   {
    "duration": 33,
    "start_time": "2025-01-22T09:43:01.069Z"
   },
   {
    "duration": 28,
    "start_time": "2025-01-22T09:43:13.527Z"
   },
   {
    "duration": 11,
    "start_time": "2025-01-22T09:49:52.992Z"
   },
   {
    "duration": 30,
    "start_time": "2025-01-22T09:50:09.480Z"
   },
   {
    "duration": 31,
    "start_time": "2025-01-22T09:51:36.041Z"
   },
   {
    "duration": 34,
    "start_time": "2025-01-22T09:52:10.633Z"
   },
   {
    "duration": 39,
    "start_time": "2025-01-22T09:55:04.635Z"
   },
   {
    "duration": 367,
    "start_time": "2025-01-22T10:09:00.135Z"
   },
   {
    "duration": 5,
    "start_time": "2025-01-22T10:09:59.823Z"
   },
   {
    "duration": 6,
    "start_time": "2025-01-22T10:10:38.360Z"
   },
   {
    "duration": 1350,
    "start_time": "2025-01-22T10:14:03.857Z"
   },
   {
    "duration": 4,
    "start_time": "2025-01-22T10:14:17.073Z"
   },
   {
    "duration": 15,
    "start_time": "2025-01-22T10:14:20.225Z"
   },
   {
    "duration": 33,
    "start_time": "2025-01-22T10:14:49.122Z"
   },
   {
    "duration": 5,
    "start_time": "2025-01-22T11:36:05.031Z"
   },
   {
    "duration": 2008,
    "start_time": "2025-01-22T11:48:22.404Z"
   },
   {
    "duration": 1086,
    "start_time": "2025-01-23T12:26:30.739Z"
   },
   {
    "duration": 25,
    "start_time": "2025-01-23T12:26:31.827Z"
   },
   {
    "duration": 13,
    "start_time": "2025-01-23T12:26:31.853Z"
   },
   {
    "duration": 2460,
    "start_time": "2025-01-23T12:26:32.581Z"
   },
   {
    "duration": 8,
    "start_time": "2025-01-23T12:26:35.043Z"
   },
   {
    "duration": 11,
    "start_time": "2025-01-23T12:26:35.052Z"
   },
   {
    "duration": 24,
    "start_time": "2025-01-23T12:26:35.065Z"
   },
   {
    "duration": 28,
    "start_time": "2025-01-23T12:26:36.277Z"
   },
   {
    "duration": 7,
    "start_time": "2025-01-23T12:26:36.613Z"
   },
   {
    "duration": 7,
    "start_time": "2025-01-23T12:26:37.293Z"
   },
   {
    "duration": 23,
    "start_time": "2025-01-23T12:26:37.876Z"
   },
   {
    "duration": 5,
    "start_time": "2025-01-23T12:26:38.069Z"
   },
   {
    "duration": 7,
    "start_time": "2025-01-23T12:26:38.677Z"
   },
   {
    "duration": 12,
    "start_time": "2025-01-23T12:26:39.780Z"
   },
   {
    "duration": 5,
    "start_time": "2025-01-23T12:26:41.245Z"
   },
   {
    "duration": 8,
    "start_time": "2025-01-23T12:26:41.477Z"
   },
   {
    "duration": 20,
    "start_time": "2025-01-23T12:26:41.657Z"
   },
   {
    "duration": 22,
    "start_time": "2025-01-23T12:26:42.933Z"
   },
   {
    "duration": 10,
    "start_time": "2025-01-23T12:26:43.597Z"
   },
   {
    "duration": 18,
    "start_time": "2025-01-23T12:26:44.057Z"
   },
   {
    "duration": 17,
    "start_time": "2025-01-23T12:26:44.565Z"
   },
   {
    "duration": 22,
    "start_time": "2025-01-23T12:26:47.014Z"
   },
   {
    "duration": 22,
    "start_time": "2025-01-23T12:26:47.589Z"
   },
   {
    "duration": 22,
    "start_time": "2025-01-23T12:26:47.981Z"
   },
   {
    "duration": 22,
    "start_time": "2025-01-23T12:26:48.365Z"
   },
   {
    "duration": 333,
    "start_time": "2025-01-23T12:26:51.006Z"
   },
   {
    "duration": 21,
    "start_time": "2025-01-23T12:26:54.077Z"
   },
   {
    "duration": 75,
    "start_time": "2025-01-23T12:26:57.333Z"
   },
   {
    "duration": 283,
    "start_time": "2025-01-23T12:27:05.509Z"
   },
   {
    "duration": 1419,
    "start_time": "2025-01-23T12:27:38.254Z"
   },
   {
    "duration": 934,
    "start_time": "2025-01-23T12:30:31.719Z"
   },
   {
    "duration": 285,
    "start_time": "2025-01-23T12:31:19.687Z"
   },
   {
    "duration": 13,
    "start_time": "2025-01-23T12:32:26.839Z"
   },
   {
    "duration": 149,
    "start_time": "2025-01-23T12:34:33.344Z"
   },
   {
    "duration": 1991,
    "start_time": "2025-01-23T12:34:57.467Z"
   },
   {
    "duration": 133,
    "start_time": "2025-01-23T12:35:19.265Z"
   },
   {
    "duration": 2005,
    "start_time": "2025-01-23T12:35:51.577Z"
   },
   {
    "duration": 144,
    "start_time": "2025-01-23T12:38:39.836Z"
   },
   {
    "duration": 126,
    "start_time": "2025-01-23T12:40:13.515Z"
   },
   {
    "duration": 130,
    "start_time": "2025-01-23T12:42:17.723Z"
   },
   {
    "duration": 143,
    "start_time": "2025-01-23T12:44:07.323Z"
   },
   {
    "duration": 169,
    "start_time": "2025-01-23T12:44:13.973Z"
   },
   {
    "duration": 149,
    "start_time": "2025-01-23T12:44:22.291Z"
   },
   {
    "duration": 156,
    "start_time": "2025-01-23T12:44:31.932Z"
   },
   {
    "duration": 193,
    "start_time": "2025-01-23T12:45:56.484Z"
   },
   {
    "duration": 144,
    "start_time": "2025-01-23T12:46:03.967Z"
   },
   {
    "duration": 132,
    "start_time": "2025-01-23T12:46:13.660Z"
   },
   {
    "duration": 131,
    "start_time": "2025-01-23T12:48:18.349Z"
   },
   {
    "duration": 129,
    "start_time": "2025-01-23T12:48:30.382Z"
   },
   {
    "duration": 127,
    "start_time": "2025-01-23T12:48:41.110Z"
   },
   {
    "duration": 128,
    "start_time": "2025-01-23T12:51:58.094Z"
   },
   {
    "duration": 124,
    "start_time": "2025-01-23T12:53:16.072Z"
   },
   {
    "duration": 136,
    "start_time": "2025-01-23T12:56:43.680Z"
   },
   {
    "duration": 142,
    "start_time": "2025-01-23T12:56:49.216Z"
   },
   {
    "duration": 151,
    "start_time": "2025-01-23T12:56:55.728Z"
   },
   {
    "duration": 2285,
    "start_time": "2025-01-23T12:57:26.129Z"
   },
   {
    "duration": 2191,
    "start_time": "2025-01-23T12:57:33.137Z"
   },
   {
    "duration": 1920,
    "start_time": "2025-01-23T12:57:39.315Z"
   },
   {
    "duration": 2021,
    "start_time": "2025-01-23T12:57:52.474Z"
   },
   {
    "duration": 1841,
    "start_time": "2025-01-23T12:59:32.313Z"
   },
   {
    "duration": 1852,
    "start_time": "2025-01-23T12:59:44.465Z"
   },
   {
    "duration": 1911,
    "start_time": "2025-01-23T12:59:54.897Z"
   },
   {
    "duration": 1907,
    "start_time": "2025-01-23T13:00:04.874Z"
   },
   {
    "duration": 2003,
    "start_time": "2025-01-23T13:00:13.938Z"
   },
   {
    "duration": 2099,
    "start_time": "2025-01-23T13:00:19.970Z"
   },
   {
    "duration": 2144,
    "start_time": "2025-01-23T13:00:57.666Z"
   },
   {
    "duration": 126,
    "start_time": "2025-01-23T13:05:09.011Z"
   },
   {
    "duration": 144,
    "start_time": "2025-01-23T13:18:05.130Z"
   },
   {
    "duration": 13,
    "start_time": "2025-01-23T13:18:52.965Z"
   },
   {
    "duration": 7,
    "start_time": "2025-01-23T13:26:25.308Z"
   },
   {
    "duration": 12,
    "start_time": "2025-01-23T13:33:47.198Z"
   },
   {
    "duration": 9,
    "start_time": "2025-01-23T13:33:58.406Z"
   },
   {
    "duration": 309,
    "start_time": "2025-01-23T13:34:07.958Z"
   },
   {
    "duration": 17,
    "start_time": "2025-01-23T13:34:45.111Z"
   },
   {
    "duration": 17,
    "start_time": "2025-01-23T13:35:56.679Z"
   },
   {
    "duration": 20,
    "start_time": "2025-01-23T13:36:39.919Z"
   },
   {
    "duration": 22,
    "start_time": "2025-01-23T13:37:11.663Z"
   },
   {
    "duration": 7,
    "start_time": "2025-01-23T13:37:56.519Z"
   },
   {
    "duration": 109,
    "start_time": "2025-01-23T13:38:09.944Z"
   },
   {
    "duration": 14,
    "start_time": "2025-01-23T13:38:14.768Z"
   },
   {
    "duration": 5,
    "start_time": "2025-01-23T13:38:23.217Z"
   },
   {
    "duration": 26,
    "start_time": "2025-01-23T13:39:06.272Z"
   },
   {
    "duration": 20,
    "start_time": "2025-01-23T13:40:03.217Z"
   },
   {
    "duration": 10,
    "start_time": "2025-01-23T13:41:46.545Z"
   },
   {
    "duration": 7,
    "start_time": "2025-01-23T13:43:23.114Z"
   },
   {
    "duration": 710,
    "start_time": "2025-01-23T13:43:40.438Z"
   },
   {
    "duration": 24,
    "start_time": "2025-01-23T13:43:41.150Z"
   },
   {
    "duration": 14,
    "start_time": "2025-01-23T13:43:41.889Z"
   },
   {
    "duration": 2400,
    "start_time": "2025-01-23T13:43:42.409Z"
   },
   {
    "duration": 7,
    "start_time": "2025-01-23T13:43:44.811Z"
   },
   {
    "duration": 19,
    "start_time": "2025-01-23T13:43:44.819Z"
   },
   {
    "duration": 18,
    "start_time": "2025-01-23T13:43:44.840Z"
   },
   {
    "duration": 26,
    "start_time": "2025-01-23T13:43:44.860Z"
   },
   {
    "duration": 6,
    "start_time": "2025-01-23T13:43:44.935Z"
   },
   {
    "duration": 7,
    "start_time": "2025-01-23T13:43:45.321Z"
   },
   {
    "duration": 24,
    "start_time": "2025-01-23T13:43:45.681Z"
   },
   {
    "duration": 6,
    "start_time": "2025-01-23T13:43:45.858Z"
   },
   {
    "duration": 6,
    "start_time": "2025-01-23T13:43:46.193Z"
   },
   {
    "duration": 14,
    "start_time": "2025-01-23T13:43:46.872Z"
   },
   {
    "duration": 4,
    "start_time": "2025-01-23T13:43:47.585Z"
   },
   {
    "duration": 7,
    "start_time": "2025-01-23T13:43:47.793Z"
   },
   {
    "duration": 21,
    "start_time": "2025-01-23T13:43:47.970Z"
   },
   {
    "duration": 23,
    "start_time": "2025-01-23T13:43:48.961Z"
   },
   {
    "duration": 9,
    "start_time": "2025-01-23T13:43:49.449Z"
   },
   {
    "duration": 19,
    "start_time": "2025-01-23T13:43:49.721Z"
   },
   {
    "duration": 18,
    "start_time": "2025-01-23T13:43:49.907Z"
   },
   {
    "duration": 22,
    "start_time": "2025-01-23T13:43:50.609Z"
   },
   {
    "duration": 23,
    "start_time": "2025-01-23T13:43:53.289Z"
   },
   {
    "duration": 24,
    "start_time": "2025-01-23T13:43:55.097Z"
   },
   {
    "duration": 21,
    "start_time": "2025-01-23T13:43:55.425Z"
   },
   {
    "duration": 326,
    "start_time": "2025-01-23T13:43:55.745Z"
   },
   {
    "duration": 22,
    "start_time": "2025-01-23T13:43:58.210Z"
   },
   {
    "duration": 2157,
    "start_time": "2025-01-23T13:43:59.897Z"
   },
   {
    "duration": 139,
    "start_time": "2025-01-23T13:44:02.056Z"
   },
   {
    "duration": 12,
    "start_time": "2025-01-23T13:44:03.201Z"
   },
   {
    "duration": 20,
    "start_time": "2025-01-23T13:44:03.594Z"
   },
   {
    "duration": 12,
    "start_time": "2025-01-23T13:44:04.121Z"
   },
   {
    "duration": 14,
    "start_time": "2025-01-23T13:44:36.074Z"
   },
   {
    "duration": 10,
    "start_time": "2025-01-23T13:44:40.786Z"
   },
   {
    "duration": 11,
    "start_time": "2025-01-23T13:44:45.458Z"
   },
   {
    "duration": 71,
    "start_time": "2025-01-23T13:46:59.620Z"
   },
   {
    "duration": 8,
    "start_time": "2025-01-23T13:48:14.411Z"
   },
   {
    "duration": 7,
    "start_time": "2025-01-23T13:48:26.211Z"
   },
   {
    "duration": 890,
    "start_time": "2025-01-23T13:50:00.357Z"
   },
   {
    "duration": 8,
    "start_time": "2025-01-23T13:50:40.780Z"
   },
   {
    "duration": 7,
    "start_time": "2025-01-23T13:51:40.404Z"
   },
   {
    "duration": 6,
    "start_time": "2025-01-23T13:51:49.957Z"
   },
   {
    "duration": 898,
    "start_time": "2025-01-23T14:24:58.649Z"
   },
   {
    "duration": 5,
    "start_time": "2025-01-23T14:26:10.378Z"
   },
   {
    "duration": 1048,
    "start_time": "2025-01-23T14:27:00.674Z"
   },
   {
    "duration": 4,
    "start_time": "2025-01-23T14:28:40.474Z"
   },
   {
    "duration": 4,
    "start_time": "2025-01-23T14:29:00.825Z"
   },
   {
    "duration": 4,
    "start_time": "2025-01-23T14:29:20.817Z"
   },
   {
    "duration": 2,
    "start_time": "2025-01-23T14:30:22.307Z"
   },
   {
    "duration": 7,
    "start_time": "2025-01-23T14:31:57.227Z"
   },
   {
    "duration": 3,
    "start_time": "2025-01-23T14:32:01.018Z"
   },
   {
    "duration": 8,
    "start_time": "2025-01-23T14:32:02.610Z"
   },
   {
    "duration": 2,
    "start_time": "2025-01-23T14:33:01.163Z"
   },
   {
    "duration": 207,
    "start_time": "2025-01-23T14:33:02.219Z"
   },
   {
    "duration": 8,
    "start_time": "2025-01-23T14:35:55.964Z"
   },
   {
    "duration": 19,
    "start_time": "2025-01-23T14:35:56.628Z"
   },
   {
    "duration": 2,
    "start_time": "2025-01-23T14:35:57.676Z"
   },
   {
    "duration": 215,
    "start_time": "2025-01-23T14:35:58.028Z"
   },
   {
    "duration": 3,
    "start_time": "2025-01-23T14:36:39.028Z"
   },
   {
    "duration": 8,
    "start_time": "2025-01-23T14:36:39.933Z"
   },
   {
    "duration": 10,
    "start_time": "2025-01-23T14:37:07.901Z"
   },
   {
    "duration": 16,
    "start_time": "2025-01-23T14:40:09.758Z"
   },
   {
    "duration": 10,
    "start_time": "2025-01-23T14:40:26.190Z"
   },
   {
    "duration": 14,
    "start_time": "2025-01-23T14:41:26.542Z"
   },
   {
    "duration": 7,
    "start_time": "2025-01-23T14:42:09.928Z"
   },
   {
    "duration": 10,
    "start_time": "2025-01-23T14:42:20.326Z"
   },
   {
    "duration": 9,
    "start_time": "2025-01-23T14:42:37.830Z"
   },
   {
    "duration": 10,
    "start_time": "2025-01-23T14:42:54.822Z"
   },
   {
    "duration": 8,
    "start_time": "2025-01-23T14:43:29.094Z"
   },
   {
    "duration": 9,
    "start_time": "2025-01-23T14:43:40.974Z"
   },
   {
    "duration": 9,
    "start_time": "2025-01-23T14:44:34.191Z"
   },
   {
    "duration": 9,
    "start_time": "2025-01-23T14:48:36.513Z"
   },
   {
    "duration": 8,
    "start_time": "2025-01-23T14:50:33.843Z"
   },
   {
    "duration": 22,
    "start_time": "2025-01-23T14:50:34.889Z"
   },
   {
    "duration": 8,
    "start_time": "2025-01-23T14:50:40.939Z"
   },
   {
    "duration": 163,
    "start_time": "2025-01-23T14:52:51.227Z"
   },
   {
    "duration": 213,
    "start_time": "2025-01-23T14:53:23.826Z"
   },
   {
    "duration": 215,
    "start_time": "2025-01-23T14:53:33.419Z"
   },
   {
    "duration": 192,
    "start_time": "2025-01-23T14:53:42.738Z"
   },
   {
    "duration": 13,
    "start_time": "2025-01-23T14:54:56.203Z"
   },
   {
    "duration": 8,
    "start_time": "2025-01-23T14:55:28.765Z"
   },
   {
    "duration": 9,
    "start_time": "2025-01-23T14:56:28.490Z"
   },
   {
    "duration": 171,
    "start_time": "2025-01-23T14:57:47.436Z"
   },
   {
    "duration": 163,
    "start_time": "2025-01-23T14:57:54.380Z"
   },
   {
    "duration": 185,
    "start_time": "2025-01-23T14:59:00.511Z"
   },
   {
    "duration": 179,
    "start_time": "2025-01-23T14:59:55.613Z"
   },
   {
    "duration": 243,
    "start_time": "2025-01-23T15:03:04.798Z"
   },
   {
    "duration": 165,
    "start_time": "2025-01-23T15:03:15.126Z"
   },
   {
    "duration": 155,
    "start_time": "2025-01-23T15:03:25.703Z"
   },
   {
    "duration": 173,
    "start_time": "2025-01-23T15:03:44.622Z"
   },
   {
    "duration": 164,
    "start_time": "2025-01-23T15:05:16.374Z"
   },
   {
    "duration": 211,
    "start_time": "2025-01-23T15:05:23.914Z"
   },
   {
    "duration": 186,
    "start_time": "2025-01-23T15:05:28.311Z"
   },
   {
    "duration": 239,
    "start_time": "2025-01-23T15:06:59.231Z"
   },
   {
    "duration": 150,
    "start_time": "2025-01-23T15:10:39.792Z"
   },
   {
    "duration": 172,
    "start_time": "2025-01-23T15:11:01.801Z"
   },
   {
    "duration": 185,
    "start_time": "2025-01-23T15:11:26.585Z"
   },
   {
    "duration": 173,
    "start_time": "2025-01-23T15:12:39.122Z"
   },
   {
    "duration": 176,
    "start_time": "2025-01-23T15:12:45.209Z"
   },
   {
    "duration": 225,
    "start_time": "2025-01-23T15:13:03.907Z"
   },
   {
    "duration": 238,
    "start_time": "2025-01-23T15:13:20.968Z"
   },
   {
    "duration": 177,
    "start_time": "2025-01-23T15:13:32.705Z"
   },
   {
    "duration": 186,
    "start_time": "2025-01-23T15:13:45.034Z"
   },
   {
    "duration": 183,
    "start_time": "2025-01-23T15:14:00.297Z"
   },
   {
    "duration": 179,
    "start_time": "2025-01-23T15:14:16.794Z"
   },
   {
    "duration": 189,
    "start_time": "2025-01-23T15:14:21.531Z"
   },
   {
    "duration": 249,
    "start_time": "2025-01-23T15:14:27.617Z"
   },
   {
    "duration": 179,
    "start_time": "2025-01-23T15:14:31.946Z"
   },
   {
    "duration": 48,
    "start_time": "2025-01-23T17:19:03.858Z"
   },
   {
    "duration": 920,
    "start_time": "2025-01-23T17:19:13.362Z"
   },
   {
    "duration": 31,
    "start_time": "2025-01-23T17:19:14.827Z"
   },
   {
    "duration": 16,
    "start_time": "2025-01-23T17:19:16.132Z"
   },
   {
    "duration": 2928,
    "start_time": "2025-01-23T17:19:17.306Z"
   },
   {
    "duration": 9,
    "start_time": "2025-01-23T17:19:20.236Z"
   },
   {
    "duration": 15,
    "start_time": "2025-01-23T17:19:20.247Z"
   },
   {
    "duration": 15,
    "start_time": "2025-01-23T17:19:21.525Z"
   },
   {
    "duration": 33,
    "start_time": "2025-01-23T17:19:23.094Z"
   },
   {
    "duration": 8,
    "start_time": "2025-01-23T17:19:23.547Z"
   },
   {
    "duration": 8,
    "start_time": "2025-01-23T17:19:24.501Z"
   },
   {
    "duration": 29,
    "start_time": "2025-01-23T17:19:25.344Z"
   },
   {
    "duration": 6,
    "start_time": "2025-01-23T17:19:25.749Z"
   },
   {
    "duration": 8,
    "start_time": "2025-01-23T17:19:26.545Z"
   },
   {
    "duration": 14,
    "start_time": "2025-01-23T17:19:27.890Z"
   },
   {
    "duration": 5,
    "start_time": "2025-01-23T17:19:28.889Z"
   },
   {
    "duration": 8,
    "start_time": "2025-01-23T17:19:29.206Z"
   },
   {
    "duration": 26,
    "start_time": "2025-01-23T17:19:29.508Z"
   },
   {
    "duration": 26,
    "start_time": "2025-01-23T17:19:30.791Z"
   },
   {
    "duration": 10,
    "start_time": "2025-01-23T17:19:31.273Z"
   },
   {
    "duration": 22,
    "start_time": "2025-01-23T17:19:31.599Z"
   },
   {
    "duration": 18,
    "start_time": "2025-01-23T17:19:31.922Z"
   },
   {
    "duration": 28,
    "start_time": "2025-01-23T17:19:33.193Z"
   },
   {
    "duration": 27,
    "start_time": "2025-01-23T17:19:34.002Z"
   },
   {
    "duration": 27,
    "start_time": "2025-01-23T17:19:34.798Z"
   },
   {
    "duration": 28,
    "start_time": "2025-01-23T17:19:35.301Z"
   },
   {
    "duration": 331,
    "start_time": "2025-01-23T17:19:37.021Z"
   },
   {
    "duration": 27,
    "start_time": "2025-01-23T17:19:37.487Z"
   },
   {
    "duration": 2584,
    "start_time": "2025-01-23T17:19:38.805Z"
   },
   {
    "duration": 165,
    "start_time": "2025-01-23T17:19:41.391Z"
   },
   {
    "duration": 14,
    "start_time": "2025-01-23T17:19:45.270Z"
   },
   {
    "duration": 27,
    "start_time": "2025-01-23T17:19:47.597Z"
   },
   {
    "duration": 10,
    "start_time": "2025-01-23T17:19:57.254Z"
   },
   {
    "duration": 9,
    "start_time": "2025-01-23T17:20:41.376Z"
   },
   {
    "duration": 26,
    "start_time": "2025-01-23T17:22:51.693Z"
   },
   {
    "duration": 6,
    "start_time": "2025-01-23T17:23:52.194Z"
   },
   {
    "duration": 30,
    "start_time": "2025-01-23T17:24:30.481Z"
   },
   {
    "duration": 4,
    "start_time": "2025-01-23T17:25:25.233Z"
   },
   {
    "duration": 719,
    "start_time": "2025-01-23T17:26:23.290Z"
   },
   {
    "duration": 31,
    "start_time": "2025-01-23T17:26:24.388Z"
   },
   {
    "duration": 17,
    "start_time": "2025-01-23T17:26:25.044Z"
   },
   {
    "duration": 3037,
    "start_time": "2025-01-23T17:26:25.589Z"
   },
   {
    "duration": 10,
    "start_time": "2025-01-23T17:26:28.628Z"
   },
   {
    "duration": 11,
    "start_time": "2025-01-23T17:26:28.639Z"
   },
   {
    "duration": 24,
    "start_time": "2025-01-23T17:26:28.652Z"
   },
   {
    "duration": 37,
    "start_time": "2025-01-23T17:26:28.678Z"
   },
   {
    "duration": 22,
    "start_time": "2025-01-23T17:26:28.717Z"
   },
   {
    "duration": 9,
    "start_time": "2025-01-23T17:26:29.071Z"
   },
   {
    "duration": 31,
    "start_time": "2025-01-23T17:26:29.582Z"
   },
   {
    "duration": 7,
    "start_time": "2025-01-23T17:26:29.838Z"
   },
   {
    "duration": 8,
    "start_time": "2025-01-23T17:26:30.369Z"
   },
   {
    "duration": 14,
    "start_time": "2025-01-23T17:26:31.388Z"
   },
   {
    "duration": 6,
    "start_time": "2025-01-23T17:26:32.190Z"
   },
   {
    "duration": 10,
    "start_time": "2025-01-23T17:26:32.493Z"
   },
   {
    "duration": 28,
    "start_time": "2025-01-23T17:26:32.752Z"
   },
   {
    "duration": 26,
    "start_time": "2025-01-23T17:26:33.873Z"
   },
   {
    "duration": 10,
    "start_time": "2025-01-23T17:26:34.461Z"
   },
   {
    "duration": 22,
    "start_time": "2025-01-23T17:26:34.750Z"
   },
   {
    "duration": 19,
    "start_time": "2025-01-23T17:26:34.987Z"
   },
   {
    "duration": 28,
    "start_time": "2025-01-23T17:26:36.269Z"
   },
   {
    "duration": 28,
    "start_time": "2025-01-23T17:26:36.753Z"
   },
   {
    "duration": 27,
    "start_time": "2025-01-23T17:26:37.182Z"
   },
   {
    "duration": 26,
    "start_time": "2025-01-23T17:26:37.948Z"
   },
   {
    "duration": 352,
    "start_time": "2025-01-23T17:26:38.627Z"
   },
   {
    "duration": 25,
    "start_time": "2025-01-23T17:26:39.649Z"
   },
   {
    "duration": 2639,
    "start_time": "2025-01-23T17:26:41.470Z"
   },
   {
    "duration": 172,
    "start_time": "2025-01-23T17:26:44.111Z"
   },
   {
    "duration": 19,
    "start_time": "2025-01-23T17:26:44.285Z"
   },
   {
    "duration": 35,
    "start_time": "2025-01-23T17:26:50.213Z"
   },
   {
    "duration": 6,
    "start_time": "2025-01-23T17:27:52.033Z"
   },
   {
    "duration": 5,
    "start_time": "2025-01-23T17:31:30.611Z"
   },
   {
    "duration": 6,
    "start_time": "2025-01-23T17:31:37.921Z"
   },
   {
    "duration": 6,
    "start_time": "2025-01-23T17:31:53.804Z"
   },
   {
    "duration": 12,
    "start_time": "2025-01-23T17:39:13.295Z"
   },
   {
    "duration": 6,
    "start_time": "2025-01-23T17:39:14.106Z"
   },
   {
    "duration": 10,
    "start_time": "2025-01-23T17:39:45.530Z"
   },
   {
    "duration": 14,
    "start_time": "2025-01-23T17:43:21.473Z"
   },
   {
    "duration": 27,
    "start_time": "2025-01-23T17:43:22.280Z"
   },
   {
    "duration": 13,
    "start_time": "2025-01-23T17:43:23.650Z"
   },
   {
    "duration": 11,
    "start_time": "2025-01-23T17:43:24.564Z"
   },
   {
    "duration": 237,
    "start_time": "2025-01-23T17:44:15.027Z"
   },
   {
    "duration": 210,
    "start_time": "2025-01-23T17:46:34.174Z"
   },
   {
    "duration": 214,
    "start_time": "2025-01-23T17:47:16.253Z"
   },
   {
    "duration": 77,
    "start_time": "2025-01-23T18:15:20.676Z"
   },
   {
    "duration": 764,
    "start_time": "2025-01-23T18:18:11.144Z"
   },
   {
    "duration": 32,
    "start_time": "2025-01-23T18:18:12.321Z"
   },
   {
    "duration": 16,
    "start_time": "2025-01-23T18:18:13.677Z"
   },
   {
    "duration": 3008,
    "start_time": "2025-01-23T18:18:14.690Z"
   },
   {
    "duration": 10,
    "start_time": "2025-01-23T18:18:17.700Z"
   },
   {
    "duration": 23,
    "start_time": "2025-01-23T18:18:17.711Z"
   },
   {
    "duration": 28,
    "start_time": "2025-01-23T18:18:17.736Z"
   },
   {
    "duration": 37,
    "start_time": "2025-01-23T18:18:18.455Z"
   },
   {
    "duration": 8,
    "start_time": "2025-01-23T18:18:18.787Z"
   },
   {
    "duration": 8,
    "start_time": "2025-01-23T18:18:19.434Z"
   },
   {
    "duration": 29,
    "start_time": "2025-01-23T18:18:20.079Z"
   },
   {
    "duration": 6,
    "start_time": "2025-01-23T18:18:20.411Z"
   },
   {
    "duration": 8,
    "start_time": "2025-01-23T18:18:21.037Z"
   },
   {
    "duration": 15,
    "start_time": "2025-01-23T18:18:22.303Z"
   },
   {
    "duration": 5,
    "start_time": "2025-01-23T18:18:23.217Z"
   },
   {
    "duration": 9,
    "start_time": "2025-01-23T18:18:23.553Z"
   },
   {
    "duration": 26,
    "start_time": "2025-01-23T18:18:23.855Z"
   },
   {
    "duration": 25,
    "start_time": "2025-01-23T18:18:25.067Z"
   },
   {
    "duration": 13,
    "start_time": "2025-01-23T18:18:25.707Z"
   },
   {
    "duration": 22,
    "start_time": "2025-01-23T18:18:26.018Z"
   },
   {
    "duration": 19,
    "start_time": "2025-01-23T18:18:26.342Z"
   },
   {
    "duration": 27,
    "start_time": "2025-01-23T18:18:27.818Z"
   },
   {
    "duration": 29,
    "start_time": "2025-01-23T18:18:28.361Z"
   },
   {
    "duration": 27,
    "start_time": "2025-01-23T18:18:29.220Z"
   },
   {
    "duration": 28,
    "start_time": "2025-01-23T18:18:30.042Z"
   },
   {
    "duration": 355,
    "start_time": "2025-01-23T18:18:30.852Z"
   },
   {
    "duration": 27,
    "start_time": "2025-01-23T18:18:31.934Z"
   },
   {
    "duration": 2699,
    "start_time": "2025-01-23T18:18:33.882Z"
   },
   {
    "duration": 170,
    "start_time": "2025-01-23T18:18:36.584Z"
   },
   {
    "duration": 15,
    "start_time": "2025-01-23T18:18:36.756Z"
   },
   {
    "duration": 32,
    "start_time": "2025-01-23T18:18:36.773Z"
   },
   {
    "duration": 26,
    "start_time": "2025-01-23T18:18:36.806Z"
   },
   {
    "duration": 12,
    "start_time": "2025-01-23T18:18:36.840Z"
   },
   {
    "duration": 215,
    "start_time": "2025-01-23T18:18:47.775Z"
   },
   {
    "duration": 30808,
    "start_time": "2025-01-23T18:18:54.119Z"
   },
   {
    "duration": 1010,
    "start_time": "2025-01-24T07:52:31.403Z"
   },
   {
    "duration": 32,
    "start_time": "2025-01-24T07:52:32.963Z"
   },
   {
    "duration": 17,
    "start_time": "2025-01-24T07:52:33.808Z"
   },
   {
    "duration": 3067,
    "start_time": "2025-01-24T07:52:34.464Z"
   },
   {
    "duration": 11,
    "start_time": "2025-01-24T07:52:37.533Z"
   },
   {
    "duration": 41,
    "start_time": "2025-01-24T07:52:37.546Z"
   },
   {
    "duration": 17,
    "start_time": "2025-01-24T07:52:37.590Z"
   },
   {
    "duration": 42,
    "start_time": "2025-01-24T07:52:37.609Z"
   },
   {
    "duration": 7,
    "start_time": "2025-01-24T07:52:37.654Z"
   },
   {
    "duration": 8,
    "start_time": "2025-01-24T07:52:37.945Z"
   },
   {
    "duration": 30,
    "start_time": "2025-01-24T07:52:38.497Z"
   },
   {
    "duration": 6,
    "start_time": "2025-01-24T07:52:38.825Z"
   },
   {
    "duration": 8,
    "start_time": "2025-01-24T07:52:39.368Z"
   },
   {
    "duration": 15,
    "start_time": "2025-01-24T07:52:40.432Z"
   },
   {
    "duration": 6,
    "start_time": "2025-01-24T07:52:41.279Z"
   },
   {
    "duration": 9,
    "start_time": "2025-01-24T07:52:41.504Z"
   },
   {
    "duration": 27,
    "start_time": "2025-01-24T07:52:41.697Z"
   },
   {
    "duration": 27,
    "start_time": "2025-01-24T07:52:42.424Z"
   },
   {
    "duration": 11,
    "start_time": "2025-01-24T07:52:42.914Z"
   },
   {
    "duration": 23,
    "start_time": "2025-01-24T07:52:43.168Z"
   },
   {
    "duration": 20,
    "start_time": "2025-01-24T07:52:43.472Z"
   },
   {
    "duration": 31,
    "start_time": "2025-01-24T07:52:44.936Z"
   },
   {
    "duration": 30,
    "start_time": "2025-01-24T07:52:45.338Z"
   },
   {
    "duration": 30,
    "start_time": "2025-01-24T07:52:45.728Z"
   },
   {
    "duration": 29,
    "start_time": "2025-01-24T07:52:46.130Z"
   },
   {
    "duration": 386,
    "start_time": "2025-01-24T07:52:46.521Z"
   },
   {
    "duration": 44,
    "start_time": "2025-01-24T07:52:46.909Z"
   },
   {
    "duration": 2775,
    "start_time": "2025-01-24T07:52:47.800Z"
   },
   {
    "duration": 171,
    "start_time": "2025-01-24T07:52:50.577Z"
   },
   {
    "duration": 16,
    "start_time": "2025-01-24T07:52:50.750Z"
   },
   {
    "duration": 26,
    "start_time": "2025-01-24T07:52:50.768Z"
   },
   {
    "duration": 38,
    "start_time": "2025-01-24T07:52:50.796Z"
   },
   {
    "duration": 12,
    "start_time": "2025-01-24T07:53:05.753Z"
   },
   {
    "duration": 10,
    "start_time": "2025-01-24T07:53:06.881Z"
   },
   {
    "duration": 225,
    "start_time": "2025-01-24T07:53:58.978Z"
   },
   {
    "duration": 4,
    "start_time": "2025-01-24T08:02:16.316Z"
   },
   {
    "duration": 6594,
    "start_time": "2025-01-24T08:06:47.590Z"
   },
   {
    "duration": 1248,
    "start_time": "2025-01-24T08:11:28.312Z"
   },
   {
    "duration": 1346,
    "start_time": "2025-01-24T08:13:01.657Z"
   },
   {
    "duration": 1366,
    "start_time": "2025-01-24T08:13:44.336Z"
   },
   {
    "duration": 83,
    "start_time": "2025-01-24T08:34:37.258Z"
   },
   {
    "duration": 86,
    "start_time": "2025-01-24T08:35:44.883Z"
   },
   {
    "duration": 1497,
    "start_time": "2025-01-24T08:35:57.763Z"
   },
   {
    "duration": 104,
    "start_time": "2025-01-24T08:36:12.099Z"
   },
   {
    "duration": 79,
    "start_time": "2025-01-24T08:36:49.795Z"
   },
   {
    "duration": 94,
    "start_time": "2025-01-24T08:37:10.419Z"
   },
   {
    "duration": 1361,
    "start_time": "2025-01-24T08:37:18.739Z"
   },
   {
    "duration": 1527,
    "start_time": "2025-01-24T08:37:38.939Z"
   },
   {
    "duration": 90,
    "start_time": "2025-01-24T08:53:45.536Z"
   },
   {
    "duration": 807,
    "start_time": "2025-01-24T08:53:52.798Z"
   },
   {
    "duration": 32,
    "start_time": "2025-01-24T08:53:54.041Z"
   },
   {
    "duration": 16,
    "start_time": "2025-01-24T08:53:54.808Z"
   },
   {
    "duration": 3099,
    "start_time": "2025-01-24T08:53:55.328Z"
   },
   {
    "duration": 10,
    "start_time": "2025-01-24T08:53:58.428Z"
   },
   {
    "duration": 11,
    "start_time": "2025-01-24T08:53:58.440Z"
   },
   {
    "duration": 15,
    "start_time": "2025-01-24T08:53:58.453Z"
   },
   {
    "duration": 34,
    "start_time": "2025-01-24T08:53:58.470Z"
   },
   {
    "duration": 7,
    "start_time": "2025-01-24T08:53:58.531Z"
   },
   {
    "duration": 13,
    "start_time": "2025-01-24T08:53:58.539Z"
   },
   {
    "duration": 31,
    "start_time": "2025-01-24T08:53:58.570Z"
   },
   {
    "duration": 6,
    "start_time": "2025-01-24T08:53:58.744Z"
   },
   {
    "duration": 8,
    "start_time": "2025-01-24T08:53:59.104Z"
   },
   {
    "duration": 15,
    "start_time": "2025-01-24T08:53:59.864Z"
   },
   {
    "duration": 5,
    "start_time": "2025-01-24T08:54:00.456Z"
   },
   {
    "duration": 9,
    "start_time": "2025-01-24T08:54:00.640Z"
   },
   {
    "duration": 26,
    "start_time": "2025-01-24T08:54:01.001Z"
   },
   {
    "duration": 26,
    "start_time": "2025-01-24T08:54:01.776Z"
   },
   {
    "duration": 12,
    "start_time": "2025-01-24T08:54:02.240Z"
   },
   {
    "duration": 22,
    "start_time": "2025-01-24T08:54:02.440Z"
   },
   {
    "duration": 20,
    "start_time": "2025-01-24T08:54:02.656Z"
   },
   {
    "duration": 29,
    "start_time": "2025-01-24T08:54:03.441Z"
   },
   {
    "duration": 28,
    "start_time": "2025-01-24T08:54:03.841Z"
   },
   {
    "duration": 28,
    "start_time": "2025-01-24T08:54:04.257Z"
   },
   {
    "duration": 27,
    "start_time": "2025-01-24T08:54:04.640Z"
   },
   {
    "duration": 374,
    "start_time": "2025-01-24T08:54:05.025Z"
   },
   {
    "duration": 27,
    "start_time": "2025-01-24T08:54:05.456Z"
   },
   {
    "duration": 2793,
    "start_time": "2025-01-24T08:54:06.848Z"
   },
   {
    "duration": 178,
    "start_time": "2025-01-24T08:54:09.643Z"
   },
   {
    "duration": 20,
    "start_time": "2025-01-24T08:54:09.823Z"
   },
   {
    "duration": 26,
    "start_time": "2025-01-24T08:54:09.845Z"
   },
   {
    "duration": 20,
    "start_time": "2025-01-24T08:54:09.872Z"
   },
   {
    "duration": 10,
    "start_time": "2025-01-24T08:54:09.894Z"
   },
   {
    "duration": 227,
    "start_time": "2025-01-24T08:54:16.104Z"
   },
   {
    "duration": 4,
    "start_time": "2025-01-24T08:54:38.281Z"
   },
   {
    "duration": 992,
    "start_time": "2025-01-24T09:04:28.133Z"
   },
   {
    "duration": 1382,
    "start_time": "2025-01-24T09:05:39.174Z"
   },
   {
    "duration": 9,
    "start_time": "2025-01-24T09:16:21.113Z"
   },
   {
    "duration": 81,
    "start_time": "2025-01-24T09:17:45.393Z"
   },
   {
    "duration": 7,
    "start_time": "2025-01-24T09:17:52.018Z"
   },
   {
    "duration": 11,
    "start_time": "2025-01-24T09:18:00.376Z"
   },
   {
    "duration": 8,
    "start_time": "2025-01-24T09:18:17.200Z"
   },
   {
    "duration": 8,
    "start_time": "2025-01-24T09:18:24.225Z"
   },
   {
    "duration": 92,
    "start_time": "2025-01-24T09:23:00.044Z"
   },
   {
    "duration": 115,
    "start_time": "2025-01-24T09:23:11.657Z"
   },
   {
    "duration": 12,
    "start_time": "2025-01-24T09:23:48.243Z"
   },
   {
    "duration": 36,
    "start_time": "2025-01-24T09:24:04.411Z"
   },
   {
    "duration": 25,
    "start_time": "2025-01-24T09:25:39.477Z"
   },
   {
    "duration": 0,
    "start_time": "2025-01-24T09:26:37.938Z"
   },
   {
    "duration": 2113,
    "start_time": "2025-01-24T09:26:45.270Z"
   },
   {
    "duration": 11602,
    "start_time": "2025-01-24T09:27:39.349Z"
   },
   {
    "duration": 119,
    "start_time": "2025-01-24T09:29:52.463Z"
   },
   {
    "duration": 141,
    "start_time": "2025-01-24T09:32:11.311Z"
   },
   {
    "duration": 612,
    "start_time": "2025-01-24T09:49:28.974Z"
   },
   {
    "duration": 1453,
    "start_time": "2025-01-24T09:49:44.118Z"
   },
   {
    "duration": 136,
    "start_time": "2025-01-24T09:59:45.355Z"
   },
   {
    "duration": 377,
    "start_time": "2025-01-24T10:01:27.891Z"
   },
   {
    "duration": 27,
    "start_time": "2025-01-24T10:01:29.658Z"
   },
   {
    "duration": 2507,
    "start_time": "2025-01-24T10:01:30.242Z"
   },
   {
    "duration": 210,
    "start_time": "2025-01-24T10:01:32.752Z"
   },
   {
    "duration": 16,
    "start_time": "2025-01-24T10:01:32.964Z"
   },
   {
    "duration": 26,
    "start_time": "2025-01-24T10:01:32.983Z"
   },
   {
    "duration": 29,
    "start_time": "2025-01-24T10:01:33.011Z"
   },
   {
    "duration": 44,
    "start_time": "2025-01-24T10:01:33.042Z"
   },
   {
    "duration": 236,
    "start_time": "2025-01-24T10:01:33.842Z"
   },
   {
    "duration": 1650,
    "start_time": "2025-01-24T10:01:55.315Z"
   },
   {
    "duration": 150,
    "start_time": "2025-01-24T10:03:28.107Z"
   },
   {
    "duration": 139,
    "start_time": "2025-01-24T10:05:52.654Z"
   },
   {
    "duration": 16,
    "start_time": "2025-01-24T10:27:57.466Z"
   },
   {
    "duration": 109,
    "start_time": "2025-01-24T10:29:08.043Z"
   },
   {
    "duration": 23,
    "start_time": "2025-01-24T10:29:18.643Z"
   },
   {
    "duration": 22,
    "start_time": "2025-01-24T10:30:02.707Z"
   },
   {
    "duration": 25,
    "start_time": "2025-01-24T10:31:14.972Z"
   },
   {
    "duration": 28,
    "start_time": "2025-01-24T10:31:30.811Z"
   },
   {
    "duration": 29,
    "start_time": "2025-01-24T10:37:25.438Z"
   },
   {
    "duration": 26,
    "start_time": "2025-01-24T10:37:36.638Z"
   },
   {
    "duration": 1561,
    "start_time": "2025-01-24T10:39:58.679Z"
   },
   {
    "duration": 29,
    "start_time": "2025-01-24T10:42:12.474Z"
   },
   {
    "duration": 30,
    "start_time": "2025-01-24T10:42:59.968Z"
   },
   {
    "duration": 28,
    "start_time": "2025-01-24T10:43:23.657Z"
   },
   {
    "duration": 29,
    "start_time": "2025-01-24T10:43:57.801Z"
   },
   {
    "duration": 84,
    "start_time": "2025-01-24T10:44:42.818Z"
   },
   {
    "duration": 27,
    "start_time": "2025-01-24T10:44:50.120Z"
   },
   {
    "duration": 27,
    "start_time": "2025-01-24T10:45:05.681Z"
   },
   {
    "duration": 23,
    "start_time": "2025-01-24T10:45:45.200Z"
   },
   {
    "duration": 29,
    "start_time": "2025-01-24T10:49:47.754Z"
   },
   {
    "duration": 27,
    "start_time": "2025-01-24T10:49:55.323Z"
   },
   {
    "duration": 30,
    "start_time": "2025-01-24T10:54:28.972Z"
   },
   {
    "duration": 4,
    "start_time": "2025-01-24T12:15:52.127Z"
   },
   {
    "duration": 32,
    "start_time": "2025-01-24T12:17:16.551Z"
   },
   {
    "duration": 29,
    "start_time": "2025-01-24T12:17:52.522Z"
   },
   {
    "duration": 32,
    "start_time": "2025-01-24T12:18:07.809Z"
   },
   {
    "duration": 7,
    "start_time": "2025-01-24T12:18:38.623Z"
   },
   {
    "duration": 39,
    "start_time": "2025-01-24T12:18:52.129Z"
   },
   {
    "duration": 29,
    "start_time": "2025-01-24T12:19:43.585Z"
   },
   {
    "duration": 29,
    "start_time": "2025-01-24T12:21:12.385Z"
   },
   {
    "duration": 35,
    "start_time": "2025-01-24T12:22:04.689Z"
   },
   {
    "duration": 25,
    "start_time": "2025-01-24T12:35:08.557Z"
   },
   {
    "duration": 1988,
    "start_time": "2025-01-24T12:35:30.532Z"
   },
   {
    "duration": 180,
    "start_time": "2025-01-24T12:35:41.917Z"
   },
   {
    "duration": 397,
    "start_time": "2025-01-24T12:37:10.910Z"
   },
   {
    "duration": 401,
    "start_time": "2025-01-24T12:37:29.206Z"
   },
   {
    "duration": 411,
    "start_time": "2025-01-24T12:37:34.125Z"
   },
   {
    "duration": 396,
    "start_time": "2025-01-24T12:38:03.942Z"
   },
   {
    "duration": 335,
    "start_time": "2025-01-24T12:38:18.686Z"
   },
   {
    "duration": 324,
    "start_time": "2025-01-24T12:40:42.391Z"
   },
   {
    "duration": 25,
    "start_time": "2025-01-24T12:42:11.455Z"
   },
   {
    "duration": 29,
    "start_time": "2025-01-24T12:44:17.152Z"
   },
   {
    "duration": 30,
    "start_time": "2025-01-24T12:47:43.450Z"
   },
   {
    "duration": 26,
    "start_time": "2025-01-24T12:49:32.386Z"
   },
   {
    "duration": 21,
    "start_time": "2025-01-24T12:49:55.587Z"
   },
   {
    "duration": 322,
    "start_time": "2025-01-24T12:50:08.042Z"
   },
   {
    "duration": 26,
    "start_time": "2025-01-24T12:50:09.474Z"
   },
   {
    "duration": 323,
    "start_time": "2025-01-24T12:51:34.891Z"
   },
   {
    "duration": 150,
    "start_time": "2025-01-24T13:05:56.461Z"
   },
   {
    "duration": 98,
    "start_time": "2025-01-24T13:06:20.569Z"
   },
   {
    "duration": 311,
    "start_time": "2025-01-24T13:06:45.473Z"
   },
   {
    "duration": 81,
    "start_time": "2025-01-24T13:07:04.049Z"
   },
   {
    "duration": 92,
    "start_time": "2025-01-24T13:07:30.178Z"
   },
   {
    "duration": 86,
    "start_time": "2025-01-24T13:07:58.577Z"
   },
   {
    "duration": 13,
    "start_time": "2025-01-24T13:08:08.210Z"
   },
   {
    "duration": 12,
    "start_time": "2025-01-24T13:08:44.907Z"
   },
   {
    "duration": 26,
    "start_time": "2025-01-24T13:09:42.138Z"
   },
   {
    "duration": 316,
    "start_time": "2025-01-24T13:10:01.946Z"
   },
   {
    "duration": 325,
    "start_time": "2025-01-24T13:10:13.407Z"
   },
   {
    "duration": 947,
    "start_time": "2025-01-24T13:16:14.431Z"
   },
   {
    "duration": 31,
    "start_time": "2025-01-24T13:16:15.382Z"
   },
   {
    "duration": 17,
    "start_time": "2025-01-24T13:16:16.651Z"
   },
   {
    "duration": 3147,
    "start_time": "2025-01-24T13:16:20.956Z"
   },
   {
    "duration": 11,
    "start_time": "2025-01-24T13:16:37.101Z"
   },
   {
    "duration": 10,
    "start_time": "2025-01-24T13:16:41.069Z"
   },
   {
    "duration": 16,
    "start_time": "2025-01-24T13:17:04.324Z"
   },
   {
    "duration": 36,
    "start_time": "2025-01-24T13:17:09.724Z"
   },
   {
    "duration": 7,
    "start_time": "2025-01-24T13:17:10.149Z"
   },
   {
    "duration": 8,
    "start_time": "2025-01-24T13:17:14.566Z"
   },
   {
    "duration": 33,
    "start_time": "2025-01-24T13:17:17.700Z"
   },
   {
    "duration": 6,
    "start_time": "2025-01-24T13:17:18.094Z"
   },
   {
    "duration": 9,
    "start_time": "2025-01-24T13:17:21.111Z"
   },
   {
    "duration": 15,
    "start_time": "2025-01-24T13:17:34.548Z"
   },
   {
    "duration": 5,
    "start_time": "2025-01-24T13:17:37.172Z"
   },
   {
    "duration": 9,
    "start_time": "2025-01-24T13:17:38.054Z"
   },
   {
    "duration": 29,
    "start_time": "2025-01-24T13:17:38.589Z"
   },
   {
    "duration": 28,
    "start_time": "2025-01-24T13:17:51.022Z"
   },
   {
    "duration": 12,
    "start_time": "2025-01-24T13:17:52.509Z"
   },
   {
    "duration": 23,
    "start_time": "2025-01-24T13:17:53.021Z"
   },
   {
    "duration": 22,
    "start_time": "2025-01-24T13:17:54.269Z"
   },
   {
    "duration": 31,
    "start_time": "2025-01-24T13:18:07.117Z"
   },
   {
    "duration": 30,
    "start_time": "2025-01-24T13:18:07.925Z"
   },
   {
    "duration": 29,
    "start_time": "2025-01-24T13:18:08.957Z"
   },
   {
    "duration": 29,
    "start_time": "2025-01-24T13:18:09.789Z"
   },
   {
    "duration": 423,
    "start_time": "2025-01-24T13:18:11.678Z"
   },
   {
    "duration": 28,
    "start_time": "2025-01-24T13:18:13.568Z"
   },
   {
    "duration": 2854,
    "start_time": "2025-01-24T13:18:16.733Z"
   },
   {
    "duration": 204,
    "start_time": "2025-01-24T13:18:19.589Z"
   },
   {
    "duration": 15,
    "start_time": "2025-01-24T13:18:19.795Z"
   },
   {
    "duration": 27,
    "start_time": "2025-01-24T13:18:20.269Z"
   },
   {
    "duration": 12,
    "start_time": "2025-01-24T13:18:20.846Z"
   },
   {
    "duration": 9,
    "start_time": "2025-01-24T13:18:22.094Z"
   },
   {
    "duration": 237,
    "start_time": "2025-01-24T13:18:23.397Z"
   },
   {
    "duration": 1742,
    "start_time": "2025-01-24T13:18:30.013Z"
   },
   {
    "duration": 139,
    "start_time": "2025-01-24T13:18:31.954Z"
   },
   {
    "duration": 30,
    "start_time": "2025-01-24T13:18:35.206Z"
   },
   {
    "duration": 23,
    "start_time": "2025-01-24T13:18:36.334Z"
   },
   {
    "duration": 342,
    "start_time": "2025-01-24T13:18:36.725Z"
   },
   {
    "duration": 28,
    "start_time": "2025-01-24T13:18:37.132Z"
   },
   {
    "duration": 893,
    "start_time": "2025-01-24T14:23:38.683Z"
   },
   {
    "duration": 32,
    "start_time": "2025-01-24T14:23:39.578Z"
   },
   {
    "duration": 23,
    "start_time": "2025-01-24T14:23:39.612Z"
   },
   {
    "duration": 2921,
    "start_time": "2025-01-24T14:23:39.637Z"
   },
   {
    "duration": 10,
    "start_time": "2025-01-24T14:23:42.560Z"
   },
   {
    "duration": 13,
    "start_time": "2025-01-24T14:23:42.571Z"
   },
   {
    "duration": 13,
    "start_time": "2025-01-24T14:23:42.586Z"
   },
   {
    "duration": 39,
    "start_time": "2025-01-24T14:23:42.600Z"
   },
   {
    "duration": 5,
    "start_time": "2025-01-24T14:23:42.641Z"
   },
   {
    "duration": 9,
    "start_time": "2025-01-24T14:23:42.649Z"
   },
   {
    "duration": 27,
    "start_time": "2025-01-24T14:23:42.660Z"
   },
   {
    "duration": 34,
    "start_time": "2025-01-24T14:23:42.689Z"
   },
   {
    "duration": 8,
    "start_time": "2025-01-24T14:23:42.725Z"
   },
   {
    "duration": 14,
    "start_time": "2025-01-24T14:23:42.734Z"
   },
   {
    "duration": 4,
    "start_time": "2025-01-24T14:23:42.750Z"
   },
   {
    "duration": 26,
    "start_time": "2025-01-24T14:23:42.756Z"
   },
   {
    "duration": 39,
    "start_time": "2025-01-24T14:23:42.783Z"
   },
   {
    "duration": 24,
    "start_time": "2025-01-24T14:23:42.824Z"
   },
   {
    "duration": 10,
    "start_time": "2025-01-24T14:23:42.849Z"
   },
   {
    "duration": 20,
    "start_time": "2025-01-24T14:23:42.861Z"
   },
   {
    "duration": 46,
    "start_time": "2025-01-24T14:23:42.882Z"
   },
   {
    "duration": 27,
    "start_time": "2025-01-24T14:23:42.929Z"
   },
   {
    "duration": 26,
    "start_time": "2025-01-24T14:23:42.957Z"
   },
   {
    "duration": 51,
    "start_time": "2025-01-24T14:23:42.985Z"
   },
   {
    "duration": 26,
    "start_time": "2025-01-24T14:23:43.037Z"
   },
   {
    "duration": 362,
    "start_time": "2025-01-24T14:23:43.065Z"
   },
   {
    "duration": 23,
    "start_time": "2025-01-24T14:23:43.428Z"
   },
   {
    "duration": 2529,
    "start_time": "2025-01-24T14:23:43.454Z"
   },
   {
    "duration": 192,
    "start_time": "2025-01-24T14:23:45.985Z"
   },
   {
    "duration": 15,
    "start_time": "2025-01-24T14:23:46.179Z"
   },
   {
    "duration": 35,
    "start_time": "2025-01-24T14:23:46.196Z"
   },
   {
    "duration": 11,
    "start_time": "2025-01-24T14:23:46.233Z"
   },
   {
    "duration": 16,
    "start_time": "2025-01-24T14:23:46.246Z"
   },
   {
    "duration": 238,
    "start_time": "2025-01-24T14:23:46.264Z"
   },
   {
    "duration": 1620,
    "start_time": "2025-01-24T14:23:46.504Z"
   },
   {
    "duration": 178,
    "start_time": "2025-01-24T14:23:48.126Z"
   },
   {
    "duration": 44,
    "start_time": "2025-01-24T14:23:48.306Z"
   },
   {
    "duration": 21,
    "start_time": "2025-01-24T14:23:48.351Z"
   },
   {
    "duration": 333,
    "start_time": "2025-01-24T14:23:48.373Z"
   },
   {
    "duration": 29,
    "start_time": "2025-01-24T14:23:48.708Z"
   },
   {
    "duration": 476,
    "start_time": "2025-01-24T14:27:43.408Z"
   },
   {
    "duration": 39,
    "start_time": "2025-01-24T14:28:21.224Z"
   },
   {
    "duration": 70,
    "start_time": "2025-01-24T14:28:35.058Z"
   },
   {
    "duration": 4,
    "start_time": "2025-01-24T14:28:39.910Z"
   },
   {
    "duration": 3,
    "start_time": "2025-01-24T14:28:53.403Z"
   },
   {
    "duration": 15,
    "start_time": "2025-01-24T14:31:12.718Z"
   },
   {
    "duration": 187,
    "start_time": "2025-01-24T14:31:23.439Z"
   },
   {
    "duration": 161,
    "start_time": "2025-01-24T14:31:38.694Z"
   },
   {
    "duration": 146,
    "start_time": "2025-01-24T14:32:04.797Z"
   },
   {
    "duration": 728,
    "start_time": "2025-01-24T14:34:13.034Z"
   },
   {
    "duration": 28,
    "start_time": "2025-01-24T14:34:13.763Z"
   },
   {
    "duration": 28,
    "start_time": "2025-01-24T14:34:13.795Z"
   },
   {
    "duration": 2834,
    "start_time": "2025-01-24T14:34:13.824Z"
   },
   {
    "duration": 9,
    "start_time": "2025-01-24T14:34:16.660Z"
   },
   {
    "duration": 9,
    "start_time": "2025-01-24T14:34:16.670Z"
   },
   {
    "duration": 16,
    "start_time": "2025-01-24T14:34:16.680Z"
   },
   {
    "duration": 32,
    "start_time": "2025-01-24T14:34:16.697Z"
   },
   {
    "duration": 6,
    "start_time": "2025-01-24T14:34:16.732Z"
   },
   {
    "duration": 13,
    "start_time": "2025-01-24T14:34:16.740Z"
   },
   {
    "duration": 28,
    "start_time": "2025-01-24T14:34:16.755Z"
   },
   {
    "duration": 6,
    "start_time": "2025-01-24T14:34:16.785Z"
   },
   {
    "duration": 37,
    "start_time": "2025-01-24T14:34:16.793Z"
   },
   {
    "duration": 31,
    "start_time": "2025-01-24T14:34:16.832Z"
   },
   {
    "duration": 9,
    "start_time": "2025-01-24T14:34:16.865Z"
   },
   {
    "duration": 27,
    "start_time": "2025-01-24T14:34:16.876Z"
   },
   {
    "duration": 38,
    "start_time": "2025-01-24T14:34:16.905Z"
   },
   {
    "duration": 24,
    "start_time": "2025-01-24T14:34:16.945Z"
   },
   {
    "duration": 27,
    "start_time": "2025-01-24T14:34:16.971Z"
   },
   {
    "duration": 30,
    "start_time": "2025-01-24T14:34:17.000Z"
   },
   {
    "duration": 18,
    "start_time": "2025-01-24T14:34:17.032Z"
   },
   {
    "duration": 27,
    "start_time": "2025-01-24T14:34:17.052Z"
   },
   {
    "duration": 56,
    "start_time": "2025-01-24T14:34:17.081Z"
   },
   {
    "duration": 26,
    "start_time": "2025-01-24T14:34:17.139Z"
   },
   {
    "duration": 26,
    "start_time": "2025-01-24T14:34:17.167Z"
   },
   {
    "duration": 366,
    "start_time": "2025-01-24T14:34:17.195Z"
   },
   {
    "duration": 24,
    "start_time": "2025-01-24T14:34:17.566Z"
   },
   {
    "duration": 2704,
    "start_time": "2025-01-24T14:34:17.591Z"
   },
   {
    "duration": 536,
    "start_time": "2025-01-24T14:34:20.297Z"
   },
   {
    "duration": 183,
    "start_time": "2025-01-24T14:34:20.835Z"
   },
   {
    "duration": 17,
    "start_time": "2025-01-24T14:34:21.021Z"
   },
   {
    "duration": 13,
    "start_time": "2025-01-24T14:34:21.041Z"
   },
   {
    "duration": 47,
    "start_time": "2025-01-24T14:34:21.056Z"
   },
   {
    "duration": 26,
    "start_time": "2025-01-24T14:34:21.105Z"
   },
   {
    "duration": 11,
    "start_time": "2025-01-24T14:34:21.133Z"
   },
   {
    "duration": 243,
    "start_time": "2025-01-24T14:34:21.146Z"
   },
   {
    "duration": 1597,
    "start_time": "2025-01-24T14:34:21.391Z"
   },
   {
    "duration": 177,
    "start_time": "2025-01-24T14:34:22.990Z"
   },
   {
    "duration": 133,
    "start_time": "2025-01-24T14:34:23.168Z"
   },
   {
    "duration": 40,
    "start_time": "2025-01-24T14:34:23.303Z"
   },
   {
    "duration": 20,
    "start_time": "2025-01-24T14:34:23.345Z"
   },
   {
    "duration": 338,
    "start_time": "2025-01-24T14:34:23.366Z"
   },
   {
    "duration": 33,
    "start_time": "2025-01-24T14:34:23.706Z"
   },
   {
    "duration": 943,
    "start_time": "2025-01-24T15:16:11.337Z"
   },
   {
    "duration": 121,
    "start_time": "2025-01-24T15:16:12.282Z"
   },
   {
    "duration": 33,
    "start_time": "2025-01-24T15:16:13.346Z"
   },
   {
    "duration": 20,
    "start_time": "2025-01-24T15:16:16.070Z"
   },
   {
    "duration": 3270,
    "start_time": "2025-01-24T15:16:18.550Z"
   },
   {
    "duration": 11,
    "start_time": "2025-01-24T15:16:32.469Z"
   },
   {
    "duration": 11,
    "start_time": "2025-01-24T15:16:32.949Z"
   },
   {
    "duration": 16,
    "start_time": "2025-01-24T15:16:37.117Z"
   },
   {
    "duration": 36,
    "start_time": "2025-01-24T15:26:03.938Z"
   },
   {
    "duration": 8,
    "start_time": "2025-01-24T15:26:04.665Z"
   },
   {
    "duration": 10,
    "start_time": "2025-01-24T15:26:05.760Z"
   },
   {
    "duration": 32,
    "start_time": "2025-01-24T15:26:06.569Z"
   },
   {
    "duration": 8,
    "start_time": "2025-01-24T15:26:06.888Z"
   },
   {
    "duration": 9,
    "start_time": "2025-01-24T15:26:07.720Z"
   },
   {
    "duration": 16,
    "start_time": "2025-01-24T15:26:09.384Z"
   },
   {
    "duration": 6,
    "start_time": "2025-01-24T15:26:10.840Z"
   },
   {
    "duration": 9,
    "start_time": "2025-01-24T15:26:34.858Z"
   },
   {
    "duration": 29,
    "start_time": "2025-01-24T15:26:35.712Z"
   },
   {
    "duration": 31,
    "start_time": "2025-01-24T15:27:36.201Z"
   },
   {
    "duration": 29,
    "start_time": "2025-01-24T15:27:37.817Z"
   },
   {
    "duration": 12,
    "start_time": "2025-01-24T15:27:38.729Z"
   },
   {
    "duration": 24,
    "start_time": "2025-01-24T15:27:39.193Z"
   },
   {
    "duration": 21,
    "start_time": "2025-01-24T15:27:39.722Z"
   },
   {
    "duration": 32,
    "start_time": "2025-01-24T15:27:41.234Z"
   },
   {
    "duration": 31,
    "start_time": "2025-01-24T15:27:41.800Z"
   },
   {
    "duration": 31,
    "start_time": "2025-01-24T15:27:42.226Z"
   },
   {
    "duration": 30,
    "start_time": "2025-01-24T15:27:42.705Z"
   },
   {
    "duration": 390,
    "start_time": "2025-01-24T15:27:43.481Z"
   },
   {
    "duration": 39,
    "start_time": "2025-01-24T15:29:54.475Z"
   },
   {
    "duration": 853,
    "start_time": "2025-01-25T14:31:11.444Z"
   },
   {
    "duration": 112,
    "start_time": "2025-01-25T14:31:12.299Z"
   },
   {
    "duration": 31,
    "start_time": "2025-01-25T14:31:13.024Z"
   },
   {
    "duration": 17,
    "start_time": "2025-01-25T14:31:13.535Z"
   },
   {
    "duration": 3006,
    "start_time": "2025-01-25T14:31:14.198Z"
   },
   {
    "duration": 11,
    "start_time": "2025-01-25T14:31:17.206Z"
   },
   {
    "duration": 10,
    "start_time": "2025-01-25T14:31:17.219Z"
   },
   {
    "duration": 19,
    "start_time": "2025-01-25T14:31:17.232Z"
   },
   {
    "duration": 32,
    "start_time": "2025-01-25T14:31:20.596Z"
   },
   {
    "duration": 7,
    "start_time": "2025-01-25T14:31:21.077Z"
   },
   {
    "duration": 8,
    "start_time": "2025-01-25T14:31:22.208Z"
   },
   {
    "duration": 31,
    "start_time": "2025-01-25T14:31:23.865Z"
   },
   {
    "duration": 9,
    "start_time": "2025-01-25T14:31:24.305Z"
   },
   {
    "duration": 10,
    "start_time": "2025-01-25T14:31:25.159Z"
   },
   {
    "duration": 14,
    "start_time": "2025-01-25T14:31:27.424Z"
   },
   {
    "duration": 6,
    "start_time": "2025-01-25T14:31:29.541Z"
   },
   {
    "duration": 9,
    "start_time": "2025-01-25T14:31:30.113Z"
   },
   {
    "duration": 26,
    "start_time": "2025-01-25T14:31:32.495Z"
   },
   {
    "duration": 25,
    "start_time": "2025-01-25T14:31:34.409Z"
   },
   {
    "duration": 11,
    "start_time": "2025-01-25T14:31:35.811Z"
   },
   {
    "duration": 22,
    "start_time": "2025-01-25T14:31:37.073Z"
   },
   {
    "duration": 21,
    "start_time": "2025-01-25T14:31:37.400Z"
   },
   {
    "duration": 29,
    "start_time": "2025-01-25T14:31:40.215Z"
   },
   {
    "duration": 28,
    "start_time": "2025-01-25T14:31:40.684Z"
   },
   {
    "duration": 28,
    "start_time": "2025-01-25T14:31:41.664Z"
   },
   {
    "duration": 26,
    "start_time": "2025-01-25T14:31:42.623Z"
   },
   {
    "duration": 340,
    "start_time": "2025-01-25T14:31:44.381Z"
   },
   {
    "duration": 24,
    "start_time": "2025-01-25T14:31:48.236Z"
   },
   {
    "duration": 5560,
    "start_time": "2025-01-25T14:41:46.904Z"
   },
   {
    "duration": 5464,
    "start_time": "2025-01-25T14:45:34.479Z"
   },
   {
    "duration": 5659,
    "start_time": "2025-01-25T14:45:51.788Z"
   },
   {
    "duration": 5368,
    "start_time": "2025-01-25T14:46:05.768Z"
   },
   {
    "duration": 5642,
    "start_time": "2025-01-25T14:46:32.343Z"
   },
   {
    "duration": 5558,
    "start_time": "2025-01-25T14:46:39.750Z"
   },
   {
    "duration": 4886,
    "start_time": "2025-01-25T14:49:43.567Z"
   },
   {
    "duration": 4765,
    "start_time": "2025-01-25T14:55:12.797Z"
   },
   {
    "duration": 4966,
    "start_time": "2025-01-25T14:58:35.155Z"
   },
   {
    "duration": 5044,
    "start_time": "2025-01-25T14:58:41.758Z"
   },
   {
    "duration": 4658,
    "start_time": "2025-01-25T15:04:22.093Z"
   },
   {
    "duration": 4750,
    "start_time": "2025-01-25T15:04:32.717Z"
   },
   {
    "duration": 4674,
    "start_time": "2025-01-25T15:05:06.624Z"
   },
   {
    "duration": 4825,
    "start_time": "2025-01-25T15:08:37.312Z"
   },
   {
    "duration": 4605,
    "start_time": "2025-01-25T15:08:55.761Z"
   },
   {
    "duration": 4598,
    "start_time": "2025-01-25T15:09:22.486Z"
   },
   {
    "duration": 5058,
    "start_time": "2025-01-25T15:26:37.419Z"
   },
   {
    "duration": 4863,
    "start_time": "2025-01-25T15:29:38.720Z"
   },
   {
    "duration": 203,
    "start_time": "2025-01-25T15:29:43.585Z"
   },
   {
    "duration": 25,
    "start_time": "2025-01-25T15:29:43.790Z"
   },
   {
    "duration": 4,
    "start_time": "2025-01-25T15:29:43.817Z"
   },
   {
    "duration": 13,
    "start_time": "2025-01-25T15:30:10.086Z"
   },
   {
    "duration": 5,
    "start_time": "2025-01-25T15:30:11.005Z"
   },
   {
    "duration": 11,
    "start_time": "2025-01-25T15:30:27.998Z"
   },
   {
    "duration": 4,
    "start_time": "2025-01-25T15:30:28.469Z"
   },
   {
    "duration": 13,
    "start_time": "2025-01-25T15:30:50.225Z"
   },
   {
    "duration": 5,
    "start_time": "2025-01-25T15:30:51.029Z"
   },
   {
    "duration": 5359,
    "start_time": "2025-01-25T15:35:29.166Z"
   },
   {
    "duration": 166,
    "start_time": "2025-01-25T15:38:56.064Z"
   },
   {
    "duration": 10,
    "start_time": "2025-01-25T15:42:03.979Z"
   },
   {
    "duration": 4,
    "start_time": "2025-01-25T15:42:04.247Z"
   },
   {
    "duration": 24,
    "start_time": "2025-01-25T15:43:29.839Z"
   },
   {
    "duration": 13,
    "start_time": "2025-01-25T15:43:34.543Z"
   },
   {
    "duration": 9,
    "start_time": "2025-01-25T15:43:35.498Z"
   },
   {
    "duration": 200,
    "start_time": "2025-01-25T15:52:37.436Z"
   },
   {
    "duration": 1691,
    "start_time": "2025-01-25T15:54:20.224Z"
   },
   {
    "duration": 1646,
    "start_time": "2025-01-25T15:54:52.568Z"
   },
   {
    "duration": 1738,
    "start_time": "2025-01-25T15:55:01.453Z"
   },
   {
    "duration": 4,
    "start_time": "2025-01-25T16:02:55.561Z"
   },
   {
    "duration": 215,
    "start_time": "2025-01-25T16:03:17.265Z"
   },
   {
    "duration": 228,
    "start_time": "2025-01-25T16:04:29.335Z"
   },
   {
    "duration": 294,
    "start_time": "2025-01-25T16:04:37.299Z"
   },
   {
    "duration": 230,
    "start_time": "2025-01-25T16:10:53.871Z"
   },
   {
    "duration": 228,
    "start_time": "2025-01-25T16:11:02.823Z"
   },
   {
    "duration": 229,
    "start_time": "2025-01-25T16:11:14.618Z"
   },
   {
    "duration": 149,
    "start_time": "2025-01-25T16:11:49.023Z"
   },
   {
    "duration": 9,
    "start_time": "2025-01-25T16:11:55.825Z"
   },
   {
    "duration": 5,
    "start_time": "2025-01-25T16:11:56.155Z"
   },
   {
    "duration": 26,
    "start_time": "2025-01-25T16:11:58.968Z"
   },
   {
    "duration": 13,
    "start_time": "2025-01-25T16:11:59.407Z"
   },
   {
    "duration": 11,
    "start_time": "2025-01-25T16:11:59.733Z"
   },
   {
    "duration": 246,
    "start_time": "2025-01-25T16:12:05.713Z"
   },
   {
    "duration": 1450,
    "start_time": "2025-01-25T16:14:43.400Z"
   },
   {
    "duration": 1639,
    "start_time": "2025-01-25T16:14:54.553Z"
   },
   {
    "duration": 1433,
    "start_time": "2025-01-25T16:15:01.824Z"
   },
   {
    "duration": 1374,
    "start_time": "2025-01-25T16:15:11.443Z"
   },
   {
    "duration": 1456,
    "start_time": "2025-01-25T16:15:41.266Z"
   },
   {
    "duration": 1466,
    "start_time": "2025-01-25T16:16:39.969Z"
   },
   {
    "duration": 148,
    "start_time": "2025-01-25T16:16:45.273Z"
   },
   {
    "duration": 32,
    "start_time": "2025-01-25T16:17:45.194Z"
   },
   {
    "duration": 22,
    "start_time": "2025-01-25T16:21:23.376Z"
   },
   {
    "duration": 345,
    "start_time": "2025-01-25T16:21:24.315Z"
   },
   {
    "duration": 46,
    "start_time": "2025-01-25T16:21:25.053Z"
   }
  ],
  "colab": {
   "provenance": []
  },
  "kernelspec": {
   "display_name": "Python 3 (ipykernel)",
   "language": "python",
   "name": "python3"
  },
  "language_info": {
   "codemirror_mode": {
    "name": "ipython",
    "version": 3
   },
   "file_extension": ".py",
   "mimetype": "text/x-python",
   "name": "python",
   "nbconvert_exporter": "python",
   "pygments_lexer": "ipython3",
   "version": "3.9.5"
  },
  "toc": {
   "base_numbering": 1,
   "nav_menu": {},
   "number_sections": true,
   "sideBar": true,
   "skip_h1_title": true,
   "title_cell": "Table of Contents",
   "title_sidebar": "Contents",
   "toc_cell": false,
   "toc_position": {},
   "toc_section_display": true,
   "toc_window_display": false
  }
 },
 "nbformat": 4,
 "nbformat_minor": 1
}
