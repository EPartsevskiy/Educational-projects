{
 "cells": [
  {
   "cell_type": "markdown",
   "metadata": {
    "toc": true
   },
   "source": [
    "<h1>Содержание<span class=\"tocSkip\"></span></h1>\n",
    "<div class=\"toc\"><ul class=\"toc-item\"><li><span><a href=\"#Подготовка-датафрейма\" data-toc-modified-id=\"Подготовка-датафрейма-1\"><span class=\"toc-item-num\">1&nbsp;&nbsp;</span>Подготовка датафрейма</a></span><ul class=\"toc-item\"><li><span><a href=\"#Загрузка-датафрейма\" data-toc-modified-id=\"Загрузка-датафрейма-1.1\"><span class=\"toc-item-num\">1.1&nbsp;&nbsp;</span>Загрузка датафрейма</a></span></li><li><span><a href=\"#Первичный-анализ-данных\" data-toc-modified-id=\"Первичный-анализ-данных-1.2\"><span class=\"toc-item-num\">1.2&nbsp;&nbsp;</span>Первичный анализ данных</a></span><ul class=\"toc-item\"><li><span><a href=\"#Анализ-распределения-целевого-признака\" data-toc-modified-id=\"Анализ-распределения-целевого-признака-1.2.1\"><span class=\"toc-item-num\">1.2.1&nbsp;&nbsp;</span>Анализ распределения целевого признака</a></span></li><li><span><a href=\"#Анализ-распределения-количества-знаков-в-твитах\" data-toc-modified-id=\"Анализ-распределения-количества-знаков-в-твитах-1.2.2\"><span class=\"toc-item-num\">1.2.2&nbsp;&nbsp;</span>Анализ распределения количества знаков в твитах</a></span></li><li><span><a href=\"#Определение-достоверности-работы-SentimentIntensityAnalyzer-на-размеченных-данных\" data-toc-modified-id=\"Определение-достоверности-работы-SentimentIntensityAnalyzer-на-размеченных-данных-1.2.3\"><span class=\"toc-item-num\">1.2.3&nbsp;&nbsp;</span>Определение достоверности работы <code>SentimentIntensityAnalyzer</code> на размеченных данных</a></span></li></ul></li><li><span><a href=\"#Подготовка-текстовых-данных\" data-toc-modified-id=\"Подготовка-текстовых-данных-1.3\"><span class=\"toc-item-num\">1.3&nbsp;&nbsp;</span>Подготовка текстовых данных</a></span><ul class=\"toc-item\"><li><span><a href=\"#Очистка-текста-от-лишних-знаков\" data-toc-modified-id=\"Очистка-текста-от-лишних-знаков-1.3.1\"><span class=\"toc-item-num\">1.3.1&nbsp;&nbsp;</span>Очистка текста от лишних знаков</a></span></li><li><span><a href=\"#Лемматизация-слов-текстов\" data-toc-modified-id=\"Лемматизация-слов-текстов-1.3.2\"><span class=\"toc-item-num\">1.3.2&nbsp;&nbsp;</span>Лемматизация слов текстов</a></span></li><li><span><a href=\"#Частотный-анализ\" data-toc-modified-id=\"Частотный-анализ-1.3.3\"><span class=\"toc-item-num\">1.3.3&nbsp;&nbsp;</span>Частотный анализ</a></span></li></ul></li><li><span><a href=\"#Выводы-по-разделу\" data-toc-modified-id=\"Выводы-по-разделу-1.4\"><span class=\"toc-item-num\">1.4&nbsp;&nbsp;</span>Выводы по разделу</a></span></li></ul></li><li><span><a href=\"#Обучение\" data-toc-modified-id=\"Обучение-2\"><span class=\"toc-item-num\">2&nbsp;&nbsp;</span>Обучение</a></span><ul class=\"toc-item\"><li><span><a href=\"#Подготовка-выборок\" data-toc-modified-id=\"Подготовка-выборок-2.1\"><span class=\"toc-item-num\">2.1&nbsp;&nbsp;</span>Подготовка выборок</a></span></li><li><span><a href=\"#Логистическая-регрессия\" data-toc-modified-id=\"Логистическая-регрессия-2.2\"><span class=\"toc-item-num\">2.2&nbsp;&nbsp;</span>Логистическая регрессия</a></span></li><li><span><a href=\"#Дерево-решений\" data-toc-modified-id=\"Дерево-решений-2.3\"><span class=\"toc-item-num\">2.3&nbsp;&nbsp;</span>Дерево решений</a></span></li><li><span><a href=\"#Проверка-на-тестовой-выборке\" data-toc-modified-id=\"Проверка-на-тестовой-выборке-2.4\"><span class=\"toc-item-num\">2.4&nbsp;&nbsp;</span>Проверка на тестовой выборке</a></span></li></ul></li><li><span><a href=\"#Выводы\" data-toc-modified-id=\"Выводы-3\"><span class=\"toc-item-num\">3&nbsp;&nbsp;</span>Выводы</a></span></li></ul></div>"
   ]
  },
  {
   "cell_type": "markdown",
   "metadata": {},
   "source": [
    "# Классификация комментариев по токсичности"
   ]
  },
  {
   "cell_type": "markdown",
   "metadata": {},
   "source": [
    "**Краткая информация о проекте:** в проекте проводится обучение моделей для дальнейшей возможности классификации комментариев на их токсичность. Автоматическая классификация позволит оптизировать работу модерации комментариев.\n",
    "\n",
    "**План работы:**\n",
    "1. Загрузить данные;\n",
    "2. Провести первичный и частотный анализ комментариев;\n",
    "3. Подготовить данные для обучения модели;\n",
    "4. Обучить различные модели и выбрать лучшую по выбранной метрики качества.\n",
    "\n",
    "**Цель и задачи проекта:**\n",
    "**Цель** - оптимизировать работу модерации комментариев с помощью их автоматической классификации на токсичность.\n",
    "**Задачи:**\n",
    "1. Загрузить данные;\n",
    "2. Провести первичный и частотный анализ комментариев;\n",
    "3. Подготовить данные для обучения модели;\n",
    "4. Обучить различные модели и выбрать лучшую по выбранной метрики качества."
   ]
  },
  {
   "cell_type": "code",
   "execution_count": 1,
   "metadata": {
    "scrolled": true
   },
   "outputs": [
    {
     "name": "stderr",
     "output_type": "stream",
     "text": [
      "[nltk_data] Downloading package averaged_perceptron_tagger to\n",
      "[nltk_data]     /home/jovyan/nltk_data...\n",
      "[nltk_data]   Unzipping taggers/averaged_perceptron_tagger.zip.\n",
      "[nltk_data] Downloading package universal_tagset to\n",
      "[nltk_data]     /home/jovyan/nltk_data...\n",
      "[nltk_data]   Unzipping taggers/universal_tagset.zip.\n",
      "[nltk_data] Downloading package vader_lexicon to\n",
      "[nltk_data]     /home/jovyan/nltk_data...\n",
      "[nltk_data] Downloading package omw-1.4 to /home/jovyan/nltk_data...\n",
      "[nltk_data] Downloading package stopwords to /home/jovyan/nltk_data...\n",
      "[nltk_data]   Unzipping corpora/stopwords.zip.\n"
     ]
    }
   ],
   "source": [
    "import pandas as pd\n",
    "import re\n",
    "import matplotlib.pyplot as plt\n",
    "import math\n",
    "from tqdm.notebook import tqdm\n",
    "tqdm.pandas()\n",
    "\n",
    "import nltk\n",
    "nltk.download('averaged_perceptron_tagger')\n",
    "nltk.download('universal_tagset')\n",
    "nltk.download('vader_lexicon')\n",
    "nltk.download('omw-1.4')\n",
    "nltk.download('stopwords')\n",
    "from nltk.corpus import wordnet\n",
    "from nltk.probability import FreqDist\n",
    "from nltk.stem import WordNetLemmatizer\n",
    "from nltk.tokenize import word_tokenize\n",
    "from nltk.corpus import stopwords\n",
    "from nltk.sentiment import SentimentIntensityAnalyzer\n",
    "from nltk.tag import pos_tag\n",
    "\n",
    "from sklearn.feature_extraction.text import TfidfVectorizer\n",
    "from sklearn.pipeline import Pipeline\n",
    "from sklearn.compose import ColumnTransformer\n",
    "from sklearn.model_selection import train_test_split, RandomizedSearchCV\n",
    "from sklearn.metrics import f1_score\n",
    "from sklearn.linear_model import LogisticRegression\n",
    "from sklearn.tree import DecisionTreeClassifier"
   ]
  },
  {
   "cell_type": "markdown",
   "metadata": {},
   "source": [
    "## Подготовка датафрейма"
   ]
  },
  {
   "cell_type": "markdown",
   "metadata": {},
   "source": [
    "### Загрузка датафрейма"
   ]
  },
  {
   "cell_type": "code",
   "execution_count": 2,
   "metadata": {},
   "outputs": [],
   "source": [
    "data = pd.read_csv('/datasets/toxic_comments.csv', usecols=['text', 'toxic'])"
   ]
  },
  {
   "cell_type": "code",
   "execution_count": 3,
   "metadata": {},
   "outputs": [
    {
     "data": {
      "text/html": [
       "<div>\n",
       "<style scoped>\n",
       "    .dataframe tbody tr th:only-of-type {\n",
       "        vertical-align: middle;\n",
       "    }\n",
       "\n",
       "    .dataframe tbody tr th {\n",
       "        vertical-align: top;\n",
       "    }\n",
       "\n",
       "    .dataframe thead th {\n",
       "        text-align: right;\n",
       "    }\n",
       "</style>\n",
       "<table border=\"1\" class=\"dataframe\">\n",
       "  <thead>\n",
       "    <tr style=\"text-align: right;\">\n",
       "      <th></th>\n",
       "      <th>text</th>\n",
       "      <th>toxic</th>\n",
       "    </tr>\n",
       "  </thead>\n",
       "  <tbody>\n",
       "    <tr>\n",
       "      <th>0</th>\n",
       "      <td>Explanation\\nWhy the edits made under my usern...</td>\n",
       "      <td>0</td>\n",
       "    </tr>\n",
       "    <tr>\n",
       "      <th>1</th>\n",
       "      <td>D'aww! He matches this background colour I'm s...</td>\n",
       "      <td>0</td>\n",
       "    </tr>\n",
       "    <tr>\n",
       "      <th>2</th>\n",
       "      <td>Hey man, I'm really not trying to edit war. It...</td>\n",
       "      <td>0</td>\n",
       "    </tr>\n",
       "    <tr>\n",
       "      <th>3</th>\n",
       "      <td>\"\\nMore\\nI can't make any real suggestions on ...</td>\n",
       "      <td>0</td>\n",
       "    </tr>\n",
       "    <tr>\n",
       "      <th>4</th>\n",
       "      <td>You, sir, are my hero. Any chance you remember...</td>\n",
       "      <td>0</td>\n",
       "    </tr>\n",
       "  </tbody>\n",
       "</table>\n",
       "</div>"
      ],
      "text/plain": [
       "                                                text  toxic\n",
       "0  Explanation\\nWhy the edits made under my usern...      0\n",
       "1  D'aww! He matches this background colour I'm s...      0\n",
       "2  Hey man, I'm really not trying to edit war. It...      0\n",
       "3  \"\\nMore\\nI can't make any real suggestions on ...      0\n",
       "4  You, sir, are my hero. Any chance you remember...      0"
      ]
     },
     "metadata": {},
     "output_type": "display_data"
    },
    {
     "name": "stdout",
     "output_type": "stream",
     "text": [
      "<class 'pandas.core.frame.DataFrame'>\n",
      "RangeIndex: 159292 entries, 0 to 159291\n",
      "Data columns (total 2 columns):\n",
      " #   Column  Non-Null Count   Dtype \n",
      "---  ------  --------------   ----- \n",
      " 0   text    159292 non-null  object\n",
      " 1   toxic   159292 non-null  int64 \n",
      "dtypes: int64(1), object(1)\n",
      "memory usage: 2.4+ MB\n"
     ]
    }
   ],
   "source": [
    "display(data.head())\n",
    "data.info()"
   ]
  },
  {
   "cell_type": "markdown",
   "metadata": {},
   "source": [
    "### Первичный анализ данных"
   ]
  },
  {
   "cell_type": "markdown",
   "metadata": {},
   "source": [
    "#### Анализ распределения целевого признака"
   ]
  },
  {
   "cell_type": "code",
   "execution_count": 4,
   "metadata": {},
   "outputs": [],
   "source": [
    "def percent(pct, table):\n",
    "    absolute = int(round(pct/100 * table.sum()))\n",
    "    return f\"{pct:.1f}% \\n{absolute}\""
   ]
  },
  {
   "cell_type": "code",
   "execution_count": 5,
   "metadata": {
    "scrolled": true
   },
   "outputs": [
    {
     "data": {
      "image/png": "[encoded data removed]",
      "text/plain": [
       "<Figure size 864x576 with 1 Axes>"
      ]
     },
     "metadata": {},
     "output_type": "display_data"
    }
   ],
   "source": [
    "fig, ax = plt.subplots(figsize=(12, 8))\n",
    "colors = ['#00A86B', '#C41E3A']\n",
    "\n",
    "table = data['toxic'].value_counts()\n",
    "wedges, texts, autotexts = ax.pie(table, autopct=lambda pct: percent(pct, table), colors=colors, \n",
    "                                  radius=1, labels=table.index, explode=[0.05 for i in range(len(table.index))])\n",
    "plt.setp(autotexts, size=19)\n",
    "plt.setp(texts, size=19)\n",
    "ax.set_title('Распределение целевого признака (токсичность)', size=20, weight='bold')\n",
    "\n",
    "plt.show()"
   ]
  },
  {
   "cell_type": "markdown",
   "metadata": {},
   "source": [
    "**Вывод по графику:** В целевом признаке присутствует дисбаланс классов - 89.8 % нетоксичных твитов и 10.2 % токсичных твитов."
   ]
  },
  {
   "cell_type": "markdown",
   "metadata": {},
   "source": [
    "#### Анализ распределения количества знаков в твитах"
   ]
  },
  {
   "cell_type": "code",
   "execution_count": 6,
   "metadata": {},
   "outputs": [],
   "source": [
    "data['signs_quantity'] = data['text'].apply(lambda x: len(x))"
   ]
  },
  {
   "cell_type": "code",
   "execution_count": 7,
   "metadata": {},
   "outputs": [
    {
     "data": {
      "text/html": [
       "<div>\n",
       "<style scoped>\n",
       "    .dataframe tbody tr th:only-of-type {\n",
       "        vertical-align: middle;\n",
       "    }\n",
       "\n",
       "    .dataframe tbody tr th {\n",
       "        vertical-align: top;\n",
       "    }\n",
       "\n",
       "    .dataframe thead th {\n",
       "        text-align: right;\n",
       "    }\n",
       "</style>\n",
       "<table border=\"1\" class=\"dataframe\">\n",
       "  <thead>\n",
       "    <tr style=\"text-align: right;\">\n",
       "      <th></th>\n",
       "      <th>qs_toxic_0</th>\n",
       "      <th>qs_toxic_1</th>\n",
       "    </tr>\n",
       "  </thead>\n",
       "  <tbody>\n",
       "    <tr>\n",
       "      <th>count</th>\n",
       "      <td>143106.000000</td>\n",
       "      <td>16186.000000</td>\n",
       "    </tr>\n",
       "    <tr>\n",
       "      <th>mean</th>\n",
       "      <td>403.956585</td>\n",
       "      <td>302.932411</td>\n",
       "    </tr>\n",
       "    <tr>\n",
       "      <th>std</th>\n",
       "      <td>585.914845</td>\n",
       "      <td>618.647890</td>\n",
       "    </tr>\n",
       "    <tr>\n",
       "      <th>min</th>\n",
       "      <td>6.000000</td>\n",
       "      <td>5.000000</td>\n",
       "    </tr>\n",
       "    <tr>\n",
       "      <th>25%</th>\n",
       "      <td>102.000000</td>\n",
       "      <td>61.000000</td>\n",
       "    </tr>\n",
       "    <tr>\n",
       "      <th>50%</th>\n",
       "      <td>216.000000</td>\n",
       "      <td>128.000000</td>\n",
       "    </tr>\n",
       "    <tr>\n",
       "      <th>75%</th>\n",
       "      <td>452.000000</td>\n",
       "      <td>282.750000</td>\n",
       "    </tr>\n",
       "    <tr>\n",
       "      <th>max</th>\n",
       "      <td>5000.000000</td>\n",
       "      <td>5000.000000</td>\n",
       "    </tr>\n",
       "  </tbody>\n",
       "</table>\n",
       "</div>"
      ],
      "text/plain": [
       "          qs_toxic_0    qs_toxic_1\n",
       "count  143106.000000  16186.000000\n",
       "mean      403.956585    302.932411\n",
       "std       585.914845    618.647890\n",
       "min         6.000000      5.000000\n",
       "25%       102.000000     61.000000\n",
       "50%       216.000000    128.000000\n",
       "75%       452.000000    282.750000\n",
       "max      5000.000000   5000.000000"
      ]
     },
     "metadata": {},
     "output_type": "display_data"
    }
   ],
   "source": [
    "signs_0 = data.query('toxic == 0')['signs_quantity'].describe()\n",
    "signs_1 = data.query('toxic == 1')['signs_quantity'].describe()\n",
    "signs = pd.DataFrame({'qs_toxic_0': signs_0, 'qs_toxic_1': signs_1})\n",
    "display(signs)"
   ]
  },
  {
   "cell_type": "code",
   "execution_count": 8,
   "metadata": {},
   "outputs": [
    {
     "data": {
      "image/png": "[encoded data removed]",
      "text/plain": [
       "<Figure size 1008x576 with 2 Axes>"
      ]
     },
     "metadata": {
      "needs_background": "light"
     },
     "output_type": "display_data"
    }
   ],
   "source": [
    "fig, ax = plt.subplots(1, 2, figsize=(14, 8))\n",
    "\n",
    "ax[0].boxplot(data.query('toxic == 0')['signs_quantity'])\n",
    "ax[0].set_title('Распеределение количества знаков в нетоксичных твитах')\n",
    "    \n",
    "ax[1].boxplot(data.query('toxic == 1')['signs_quantity'])\n",
    "ax[1].set_title('Распеределение количества знаков в токсичных твитах')\n",
    "\n",
    "plt.show()"
   ]
  },
  {
   "cell_type": "markdown",
   "metadata": {},
   "source": [
    "**Выводы по графику:** Токсичные твиты (303) в среднем содержат меньше знаков, чем нетоксичные твиты (404)."
   ]
  },
  {
   "cell_type": "markdown",
   "metadata": {},
   "source": [
    "#### Определение достоверности работы `SentimentIntensityAnalyzer` на размеченных данных"
   ]
  },
  {
   "cell_type": "code",
   "execution_count": 9,
   "metadata": {},
   "outputs": [],
   "source": [
    "senti = SentimentIntensityAnalyzer()\n",
    "senti_score = data['text'].apply(lambda x: senti.polarity_scores(x))"
   ]
  },
  {
   "cell_type": "code",
   "execution_count": 10,
   "metadata": {},
   "outputs": [],
   "source": [
    "senti_scores = senti_score.apply(lambda x: round(x['neg']))"
   ]
  },
  {
   "cell_type": "code",
   "execution_count": 11,
   "metadata": {},
   "outputs": [
    {
     "data": {
      "text/plain": [
       "'Количество токсичных отзывов: 16186'"
      ]
     },
     "metadata": {},
     "output_type": "display_data"
    },
    {
     "data": {
      "text/plain": [
       "'Количество предсказаний настроения текста SentimentIntensityAnalyzer: 2368'"
      ]
     },
     "metadata": {},
     "output_type": "display_data"
    },
    {
     "data": {
      "text/plain": [
       "'Количество правильных/неправильных определений настроений: 1864 / 504'"
      ]
     },
     "metadata": {},
     "output_type": "display_data"
    }
   ],
   "source": [
    "predict_senti = pd.concat([data['toxic'], senti_scores], axis=1)\n",
    "predict_senti['pos'] = predict_senti.apply(lambda x: 1 if x['toxic'] == x['text'] == 1 else 0, axis=1)\n",
    "display('Количество токсичных отзывов: {}'.format(data.query('toxic == 1')['toxic'].count()))\n",
    "display('Количество предсказаний настроения текста SentimentIntensityAnalyzer: {}'.format(predict_senti['text'].sum()))\n",
    "display('Количество правильных/неправильных определений настроений: {} / {}'.\n",
    "        format(predict_senti['pos'].sum(), predict_senti['text'].sum() - predict_senti['pos'].sum()))"
   ]
  },
  {
   "cell_type": "markdown",
   "metadata": {},
   "source": [
    "### Подготовка текстовых данных"
   ]
  },
  {
   "cell_type": "markdown",
   "metadata": {},
   "source": [
    "#### Очистка текста от лишних знаков"
   ]
  },
  {
   "cell_type": "code",
   "execution_count": 12,
   "metadata": {},
   "outputs": [
    {
     "data": {
      "application/vnd.jupyter.widget-view+json": {
       "model_id": "18f1612eb318483394457148f338697b",
       "version_major": 2,
       "version_minor": 0
      },
      "text/plain": [
       "  0%|          | 0/159292 [00:00<?, ?it/s]"
      ]
     },
     "metadata": {},
     "output_type": "display_data"
    }
   ],
   "source": [
    "data['clean_text'] = data['text'].progress_apply(lambda x: ' '.join(re.sub(r'[^a-zA-Z]', ' ', x.lower()).split()))"
   ]
  },
  {
   "cell_type": "code",
   "execution_count": 13,
   "metadata": {},
   "outputs": [
    {
     "data": {
      "text/html": [
       "<div>\n",
       "<style scoped>\n",
       "    .dataframe tbody tr th:only-of-type {\n",
       "        vertical-align: middle;\n",
       "    }\n",
       "\n",
       "    .dataframe tbody tr th {\n",
       "        vertical-align: top;\n",
       "    }\n",
       "\n",
       "    .dataframe thead th {\n",
       "        text-align: right;\n",
       "    }\n",
       "</style>\n",
       "<table border=\"1\" class=\"dataframe\">\n",
       "  <thead>\n",
       "    <tr style=\"text-align: right;\">\n",
       "      <th></th>\n",
       "      <th>text</th>\n",
       "      <th>toxic</th>\n",
       "      <th>signs_quantity</th>\n",
       "      <th>clean_text</th>\n",
       "    </tr>\n",
       "  </thead>\n",
       "  <tbody>\n",
       "    <tr>\n",
       "      <th>0</th>\n",
       "      <td>Explanation\\nWhy the edits made under my usern...</td>\n",
       "      <td>0</td>\n",
       "      <td>264</td>\n",
       "      <td>explanation why the edits made under my userna...</td>\n",
       "    </tr>\n",
       "    <tr>\n",
       "      <th>1</th>\n",
       "      <td>D'aww! He matches this background colour I'm s...</td>\n",
       "      <td>0</td>\n",
       "      <td>112</td>\n",
       "      <td>d aww he matches this background colour i m se...</td>\n",
       "    </tr>\n",
       "    <tr>\n",
       "      <th>2</th>\n",
       "      <td>Hey man, I'm really not trying to edit war. It...</td>\n",
       "      <td>0</td>\n",
       "      <td>233</td>\n",
       "      <td>hey man i m really not trying to edit war it s...</td>\n",
       "    </tr>\n",
       "    <tr>\n",
       "      <th>3</th>\n",
       "      <td>\"\\nMore\\nI can't make any real suggestions on ...</td>\n",
       "      <td>0</td>\n",
       "      <td>622</td>\n",
       "      <td>more i can t make any real suggestions on impr...</td>\n",
       "    </tr>\n",
       "    <tr>\n",
       "      <th>4</th>\n",
       "      <td>You, sir, are my hero. Any chance you remember...</td>\n",
       "      <td>0</td>\n",
       "      <td>67</td>\n",
       "      <td>you sir are my hero any chance you remember wh...</td>\n",
       "    </tr>\n",
       "  </tbody>\n",
       "</table>\n",
       "</div>"
      ],
      "text/plain": [
       "                                                text  toxic  signs_quantity  \\\n",
       "0  Explanation\\nWhy the edits made under my usern...      0             264   \n",
       "1  D'aww! He matches this background colour I'm s...      0             112   \n",
       "2  Hey man, I'm really not trying to edit war. It...      0             233   \n",
       "3  \"\\nMore\\nI can't make any real suggestions on ...      0             622   \n",
       "4  You, sir, are my hero. Any chance you remember...      0              67   \n",
       "\n",
       "                                          clean_text  \n",
       "0  explanation why the edits made under my userna...  \n",
       "1  d aww he matches this background colour i m se...  \n",
       "2  hey man i m really not trying to edit war it s...  \n",
       "3  more i can t make any real suggestions on impr...  \n",
       "4  you sir are my hero any chance you remember wh...  "
      ]
     },
     "metadata": {},
     "output_type": "display_data"
    }
   ],
   "source": [
    "display(data.head())"
   ]
  },
  {
   "cell_type": "markdown",
   "metadata": {},
   "source": [
    "#### Лемматизация слов текстов"
   ]
  },
  {
   "cell_type": "markdown",
   "metadata": {},
   "source": [
    "Создадим функцию для очистки слов маской и их лемматизации"
   ]
  },
  {
   "cell_type": "code",
   "execution_count": 14,
   "metadata": {},
   "outputs": [],
   "source": [
    "lemmatizer = WordNetLemmatizer()\n",
    "\n",
    "def token_lemma(text):\n",
    "    filtered_tokens = [word for word in word_tokenize(text) if not word in stopwords.words('english')]\n",
    "    tokens = pos_tag(filtered_tokens, tagset='universal')\n",
    "    lemma = []\n",
    "    for token in tokens:\n",
    "        if token[1].startswith('J'):\n",
    "            word = lemmatizer.lemmatize(token[0], pos=wordnet.ADJ)\n",
    "        elif token[1].startswith('V'):\n",
    "            word = lemmatizer.lemmatize(token[0], pos=wordnet.VERB)\n",
    "        elif token[1].startswith('N'):\n",
    "            word = lemmatizer.lemmatize(token[0], pos=wordnet.NOUN)\n",
    "        elif token[1].startswith('R'):\n",
    "            word = lemmatizer.lemmatize(token[0], pos=wordnet.ADV)\n",
    "        else:\n",
    "            word = lemmatizer.lemmatize(token[0], pos=wordnet.NOUN)\n",
    "        lemma.append(word)\n",
    "    return ' '.join(lemma)"
   ]
  },
  {
   "cell_type": "code",
   "execution_count": 15,
   "metadata": {},
   "outputs": [
    {
     "data": {
      "application/vnd.jupyter.widget-view+json": {
       "model_id": "2906efba298e468592542afe1c4cea5b",
       "version_major": 2,
       "version_minor": 0
      },
      "text/plain": [
       "  0%|          | 0/159292 [00:00<?, ?it/s]"
      ]
     },
     "metadata": {},
     "output_type": "display_data"
    }
   ],
   "source": [
    "data['lemma'] = data['clean_text'].progress_apply(lambda x: token_lemma(x))"
   ]
  },
  {
   "cell_type": "code",
   "execution_count": 16,
   "metadata": {},
   "outputs": [
    {
     "data": {
      "text/html": [
       "<div>\n",
       "<style scoped>\n",
       "    .dataframe tbody tr th:only-of-type {\n",
       "        vertical-align: middle;\n",
       "    }\n",
       "\n",
       "    .dataframe tbody tr th {\n",
       "        vertical-align: top;\n",
       "    }\n",
       "\n",
       "    .dataframe thead th {\n",
       "        text-align: right;\n",
       "    }\n",
       "</style>\n",
       "<table border=\"1\" class=\"dataframe\">\n",
       "  <thead>\n",
       "    <tr style=\"text-align: right;\">\n",
       "      <th></th>\n",
       "      <th>text</th>\n",
       "      <th>toxic</th>\n",
       "      <th>signs_quantity</th>\n",
       "      <th>clean_text</th>\n",
       "      <th>lemma</th>\n",
       "    </tr>\n",
       "  </thead>\n",
       "  <tbody>\n",
       "    <tr>\n",
       "      <th>0</th>\n",
       "      <td>Explanation\\nWhy the edits made under my usern...</td>\n",
       "      <td>0</td>\n",
       "      <td>264</td>\n",
       "      <td>explanation why the edits made under my userna...</td>\n",
       "      <td>explanation edits make username hardcore metal...</td>\n",
       "    </tr>\n",
       "    <tr>\n",
       "      <th>1</th>\n",
       "      <td>D'aww! He matches this background colour I'm s...</td>\n",
       "      <td>0</td>\n",
       "      <td>112</td>\n",
       "      <td>d aww he matches this background colour i m se...</td>\n",
       "      <td>aww match background colour seemingly stuck th...</td>\n",
       "    </tr>\n",
       "    <tr>\n",
       "      <th>2</th>\n",
       "      <td>Hey man, I'm really not trying to edit war. It...</td>\n",
       "      <td>0</td>\n",
       "      <td>233</td>\n",
       "      <td>hey man i m really not trying to edit war it s...</td>\n",
       "      <td>hey man really try edit war guy constantly rem...</td>\n",
       "    </tr>\n",
       "    <tr>\n",
       "      <th>3</th>\n",
       "      <td>\"\\nMore\\nI can't make any real suggestions on ...</td>\n",
       "      <td>0</td>\n",
       "      <td>622</td>\n",
       "      <td>more i can t make any real suggestions on impr...</td>\n",
       "      <td>make real suggestion improvement wonder sectio...</td>\n",
       "    </tr>\n",
       "    <tr>\n",
       "      <th>4</th>\n",
       "      <td>You, sir, are my hero. Any chance you remember...</td>\n",
       "      <td>0</td>\n",
       "      <td>67</td>\n",
       "      <td>you sir are my hero any chance you remember wh...</td>\n",
       "      <td>sir hero chance remember page</td>\n",
       "    </tr>\n",
       "  </tbody>\n",
       "</table>\n",
       "</div>"
      ],
      "text/plain": [
       "                                                text  toxic  signs_quantity  \\\n",
       "0  Explanation\\nWhy the edits made under my usern...      0             264   \n",
       "1  D'aww! He matches this background colour I'm s...      0             112   \n",
       "2  Hey man, I'm really not trying to edit war. It...      0             233   \n",
       "3  \"\\nMore\\nI can't make any real suggestions on ...      0             622   \n",
       "4  You, sir, are my hero. Any chance you remember...      0              67   \n",
       "\n",
       "                                          clean_text  \\\n",
       "0  explanation why the edits made under my userna...   \n",
       "1  d aww he matches this background colour i m se...   \n",
       "2  hey man i m really not trying to edit war it s...   \n",
       "3  more i can t make any real suggestions on impr...   \n",
       "4  you sir are my hero any chance you remember wh...   \n",
       "\n",
       "                                               lemma  \n",
       "0  explanation edits make username hardcore metal...  \n",
       "1  aww match background colour seemingly stuck th...  \n",
       "2  hey man really try edit war guy constantly rem...  \n",
       "3  make real suggestion improvement wonder sectio...  \n",
       "4                      sir hero chance remember page  "
      ]
     },
     "metadata": {},
     "output_type": "display_data"
    }
   ],
   "source": [
    "display(data.head())"
   ]
  },
  {
   "cell_type": "markdown",
   "metadata": {},
   "source": [
    "#### Частотный анализ"
   ]
  },
  {
   "cell_type": "markdown",
   "metadata": {},
   "source": [
    "Определим топ 10 встечаемых слов **во всех твитах**"
   ]
  },
  {
   "cell_type": "code",
   "execution_count": 17,
   "metadata": {},
   "outputs": [],
   "source": [
    "bag = []\n",
    "for text in data['lemma']:\n",
    "    token = word_tokenize(text)\n",
    "    bag.extend(token)\n",
    "\n",
    "text = nltk.Text(bag)"
   ]
  },
  {
   "cell_type": "code",
   "execution_count": 18,
   "metadata": {},
   "outputs": [],
   "source": [
    "fdist = FreqDist(text)"
   ]
  },
  {
   "cell_type": "code",
   "execution_count": 19,
   "metadata": {},
   "outputs": [
    {
     "data": {
      "text/plain": [
       "'Топ 10 встречаемых слов'"
      ]
     },
     "metadata": {},
     "output_type": "display_data"
    },
    {
     "data": {
      "text/plain": [
       "[('article', 74403),\n",
       " ('page', 57109),\n",
       " ('wikipedia', 48472),\n",
       " ('talk', 40406),\n",
       " ('use', 32334),\n",
       " ('edit', 30915),\n",
       " ('one', 30663),\n",
       " ('make', 30098),\n",
       " ('please', 29849),\n",
       " ('would', 29264)]"
      ]
     },
     "metadata": {},
     "output_type": "display_data"
    }
   ],
   "source": [
    "display('Топ 10 встречаемых слов')\n",
    "display(fdist.most_common(10))"
   ]
  },
  {
   "cell_type": "markdown",
   "metadata": {},
   "source": [
    "Определим топ 10 встечаемых слов **в нетоксичных твитах**"
   ]
  },
  {
   "cell_type": "code",
   "execution_count": 20,
   "metadata": {},
   "outputs": [],
   "source": [
    "bag_0 = []\n",
    "for text in data.query('toxic == 0')['lemma']:\n",
    "    token = word_tokenize(text)\n",
    "    bag_0.extend(token)\n",
    "\n",
    "text_0 = nltk.Text(bag_0)"
   ]
  },
  {
   "cell_type": "code",
   "execution_count": 21,
   "metadata": {},
   "outputs": [],
   "source": [
    "fdist_0 = FreqDist(text_0)"
   ]
  },
  {
   "cell_type": "code",
   "execution_count": 22,
   "metadata": {},
   "outputs": [
    {
     "data": {
      "text/plain": [
       "'Топ 10 встречаемых слов в нетоксичных твитах'"
      ]
     },
     "metadata": {},
     "output_type": "display_data"
    },
    {
     "data": {
      "text/plain": [
       "[('article', 72274),\n",
       " ('page', 54251),\n",
       " ('wikipedia', 44545),\n",
       " ('talk', 38499),\n",
       " ('use', 31269),\n",
       " ('edit', 29161),\n",
       " ('one', 28881),\n",
       " ('please', 28805),\n",
       " ('would', 28102),\n",
       " ('make', 27879)]"
      ]
     },
     "metadata": {},
     "output_type": "display_data"
    }
   ],
   "source": [
    "display('Топ 10 встречаемых слов в нетоксичных твитах')\n",
    "display(fdist_0.most_common(10))"
   ]
  },
  {
   "cell_type": "markdown",
   "metadata": {},
   "source": [
    "Определим топ 10 встечаемых слов **в токсичных твитах**"
   ]
  },
  {
   "cell_type": "code",
   "execution_count": 23,
   "metadata": {},
   "outputs": [],
   "source": [
    "bag_1 = []\n",
    "for text in data.query('toxic == 1')['lemma']:\n",
    "    token = word_tokenize(text)\n",
    "    bag_1.extend(token)\n",
    "\n",
    "text_1 = nltk.Text(bag_1)"
   ]
  },
  {
   "cell_type": "code",
   "execution_count": 24,
   "metadata": {},
   "outputs": [],
   "source": [
    "fdist_1 = FreqDist(text_1)"
   ]
  },
  {
   "cell_type": "code",
   "execution_count": 25,
   "metadata": {},
   "outputs": [
    {
     "data": {
      "text/plain": [
       "'Топ 10 встречаемых слов в токсичных твитах'"
      ]
     },
     "metadata": {},
     "output_type": "display_data"
    },
    {
     "data": {
      "text/plain": [
       "[('fuck', 12856),\n",
       " ('suck', 4812),\n",
       " ('go', 4321),\n",
       " ('like', 3947),\n",
       " ('wikipedia', 3927),\n",
       " ('shit', 3721),\n",
       " ('u', 3493),\n",
       " ('nigger', 3434),\n",
       " ('get', 3381),\n",
       " ('as', 2951)]"
      ]
     },
     "metadata": {},
     "output_type": "display_data"
    }
   ],
   "source": [
    "display('Топ 10 встречаемых слов в токсичных твитах')\n",
    "display(fdist_1.most_common(10))"
   ]
  },
  {
   "cell_type": "markdown",
   "metadata": {},
   "source": [
    "**Выводы по частотному анализу:** Частота встречания слов в нетоксичных и токсичных твитах сильно отличаются. В токсичных твитах часто встречаются слова ненормативной лексики."
   ]
  },
  {
   "cell_type": "markdown",
   "metadata": {},
   "source": [
    "### Выводы по разделу"
   ]
  },
  {
   "cell_type": "markdown",
   "metadata": {},
   "source": [
    "- В данных **159 292** размеченных текстов твитов;\n",
    "- В **целевом** признаке присутствует **дисбаланс** классов - **89.8 %** нетоксичных твитов и **10.2 %** токсичных твитов;\n",
    "- Токсичные твиты (**303**) в среднем содержат меньше знаков, чем нетоксичные твиты (**404**);\n",
    "- В процессе подготовки тестовых данных были выполнены: **очистка текста от знаков пунктуации** и **лемматизация слов**;\n",
    "- Частота встречания слов в нетоксичных и токсичных твитах сильно отличаются. В **токсичных твитах** часто встречаются **слова ненормативной лексики**."
   ]
  },
  {
   "cell_type": "markdown",
   "metadata": {},
   "source": [
    "## Обучение"
   ]
  },
  {
   "cell_type": "markdown",
   "metadata": {},
   "source": [
    "### Подготовка выборок"
   ]
  },
  {
   "cell_type": "code",
   "execution_count": 26,
   "metadata": {},
   "outputs": [],
   "source": [
    "X_tr, X_te, y_train, y_test = train_test_split(data['lemma'].drop(columns=['toxic']), \n",
    "                                                    data['toxic'], test_size=0.2, random_state=7, \n",
    "                                                    stratify=data['toxic'])"
   ]
  },
  {
   "cell_type": "markdown",
   "metadata": {},
   "source": [
    "Проведем расчет `TF-IDF`"
   ]
  },
  {
   "cell_type": "code",
   "execution_count": 27,
   "metadata": {},
   "outputs": [],
   "source": [
    "vectorizer = TfidfVectorizer(max_features=150_000)\n",
    "X_train = vectorizer.fit_transform(X_tr)"
   ]
  },
  {
   "cell_type": "code",
   "execution_count": 28,
   "metadata": {},
   "outputs": [],
   "source": [
    "X_test = vectorizer.transform(X_te)"
   ]
  },
  {
   "cell_type": "markdown",
   "metadata": {},
   "source": [
    "**Для обучения возьмем 2 модели: логистическую регрессию и дерево решений**"
   ]
  },
  {
   "cell_type": "markdown",
   "metadata": {},
   "source": [
    "### Логистическая регрессия"
   ]
  },
  {
   "cell_type": "code",
   "execution_count": 29,
   "metadata": {},
   "outputs": [],
   "source": [
    "param_logreg = [{'models': [LogisticRegression()],\n",
    "               'models__penalty': ['l2', 'l1'],\n",
    "               'models__C': [0.01, 0.1, 1, 10, 100],\n",
    "               'models__solver': ['saga', 'liblinear']}]"
   ]
  },
  {
   "cell_type": "code",
   "execution_count": 30,
   "metadata": {},
   "outputs": [],
   "source": [
    "logreg = Pipeline([('models', LogisticRegression(random_state=7))])"
   ]
  },
  {
   "cell_type": "code",
   "execution_count": 31,
   "metadata": {},
   "outputs": [
    {
     "data": {
      "text/plain": [
       "RandomizedSearchCV(cv=5,\n",
       "                   estimator=Pipeline(steps=[('models',\n",
       "                                              LogisticRegression(random_state=7))]),\n",
       "                   n_iter=5, n_jobs=-1,\n",
       "                   param_distributions=[{'models': [LogisticRegression(C=1,\n",
       "                                                                       penalty='l1',\n",
       "                                                                       solver='liblinear')],\n",
       "                                         'models__C': [0.01, 0.1, 1, 10, 100],\n",
       "                                         'models__penalty': ['l2', 'l1'],\n",
       "                                         'models__solver': ['saga',\n",
       "                                                            'liblinear']}],\n",
       "                   random_state=7, scoring='f1')"
      ]
     },
     "execution_count": 31,
     "metadata": {},
     "output_type": "execute_result"
    }
   ],
   "source": [
    "random_logreg = RandomizedSearchCV(estimator=logreg, param_distributions=param_logreg, scoring='f1', \n",
    "                                   n_jobs=-1, cv=5, n_iter=5, random_state=7)\n",
    "random_logreg.fit(X_train, y_train)"
   ]
  },
  {
   "cell_type": "code",
   "execution_count": 32,
   "metadata": {},
   "outputs": [
    {
     "data": {
      "text/plain": [
       "\"Гиперпараметры лучшей модели: {'models__solver': 'liblinear', 'models__penalty': 'l1', 'models__C': 1, 'models': LogisticRegression(C=1, penalty='l1', solver='liblinear')}\""
      ]
     },
     "metadata": {},
     "output_type": "display_data"
    },
    {
     "data": {
      "text/plain": [
       "'Метрика f1 на кросс-валидации: 0.772'"
      ]
     },
     "metadata": {},
     "output_type": "display_data"
    }
   ],
   "source": [
    "display('Гиперпараметры лучшей модели: {}'.format(random_logreg.best_params_))\n",
    "display('Метрика f1 на кросс-валидации: {}'.format(round(random_logreg.best_score_, 3)))"
   ]
  },
  {
   "cell_type": "markdown",
   "metadata": {},
   "source": [
    "### Дерево решений"
   ]
  },
  {
   "cell_type": "code",
   "execution_count": 33,
   "metadata": {},
   "outputs": [],
   "source": [
    "param_tree = [{'models__max_depth': [10, 15, 20],\n",
    "               'models__min_samples_split': [10, 40, 80]}]"
   ]
  },
  {
   "cell_type": "code",
   "execution_count": 34,
   "metadata": {},
   "outputs": [],
   "source": [
    "tree = Pipeline([('models', DecisionTreeClassifier(random_state=7))])"
   ]
  },
  {
   "cell_type": "code",
   "execution_count": 35,
   "metadata": {},
   "outputs": [
    {
     "data": {
      "text/plain": [
       "RandomizedSearchCV(cv=5,\n",
       "                   estimator=Pipeline(steps=[('models',\n",
       "                                              DecisionTreeClassifier(random_state=7))]),\n",
       "                   n_iter=5, n_jobs=-1,\n",
       "                   param_distributions=[{'models__max_depth': [10, 15, 20],\n",
       "                                         'models__min_samples_split': [10, 40,\n",
       "                                                                       80]}],\n",
       "                   random_state=7, scoring='f1')"
      ]
     },
     "execution_count": 35,
     "metadata": {},
     "output_type": "execute_result"
    }
   ],
   "source": [
    "random_tree = RandomizedSearchCV(estimator=tree, param_distributions=param_tree, scoring='f1', \n",
    "                                 n_jobs=-1, cv=5, n_iter=5, random_state=7)\n",
    "random_tree.fit(X_train, y_train)"
   ]
  },
  {
   "cell_type": "code",
   "execution_count": 36,
   "metadata": {},
   "outputs": [
    {
     "data": {
      "text/plain": [
       "\"Гиперпараметры лучшей модели: {'models__min_samples_split': 80, 'models__max_depth': 20}\""
      ]
     },
     "metadata": {},
     "output_type": "display_data"
    },
    {
     "data": {
      "text/plain": [
       "'Метрика f1 на кросс-валидации: 0.667'"
      ]
     },
     "metadata": {},
     "output_type": "display_data"
    }
   ],
   "source": [
    "display('Гиперпараметры лучшей модели: {}'.format(random_tree.best_params_))\n",
    "display('Метрика f1 на кросс-валидации: {}'.format(round(random_tree.best_score_, 3)))"
   ]
  },
  {
   "cell_type": "markdown",
   "metadata": {},
   "source": [
    "### Проверка на тестовой выборке"
   ]
  },
  {
   "cell_type": "markdown",
   "metadata": {},
   "source": [
    "**Для проверки на тестовой выборке используем лучшую обученную модель - логистическая регрессия.**"
   ]
  },
  {
   "cell_type": "code",
   "execution_count": 37,
   "metadata": {},
   "outputs": [],
   "source": [
    "y_pred = random_logreg.best_estimator_.predict(X_test)"
   ]
  },
  {
   "cell_type": "code",
   "execution_count": 38,
   "metadata": {},
   "outputs": [
    {
     "data": {
      "text/plain": [
       "'Значение метрики f1 на тестовой выборке: 0.783'"
      ]
     },
     "metadata": {},
     "output_type": "display_data"
    },
    {
     "data": {
      "text/plain": [
       "\"Гиперпараметры лучшей модели: {'models__solver': 'liblinear', 'models__penalty': 'l1', 'models__C': 1, 'models': LogisticRegression(C=1, penalty='l1', solver='liblinear')}\""
      ]
     },
     "metadata": {},
     "output_type": "display_data"
    }
   ],
   "source": [
    "logreg_f1 = f1_score(y_test, y_pred)\n",
    "display(f'Значение метрики f1 на тестовой выборке: {round(logreg_f1, 3)}')\n",
    "display(f'Гиперпараметры лучшей модели: {random_logreg.best_params_}')"
   ]
  },
  {
   "cell_type": "markdown",
   "metadata": {},
   "source": [
    "## Выводы"
   ]
  },
  {
   "cell_type": "markdown",
   "metadata": {},
   "source": [
    "В процессе выполнения проекта были выполнены следующие задачи:\n",
    "- В данных **159 292** размеченных текстов твитов;\n",
    "- В **целевом** признаке присутствует **дисбаланс** классов - **89.8 %** нетоксичных твитов и **10.2 %** токсичных твитов;\n",
    "- Токсичные твиты (**303**) в среднем содержат меньше знаков, чем нетоксичные твиты (**404**);\n",
    "- В процессе подготовки тестовых данных были выполнены: **очистка текста от знаков пунктуации** и **лемматизация слов**;\n",
    "- Частота встречания слов в нетоксичных и токсичных твитах сильно отличаются. В **токсичных твитах** часто встречаются **слова ненормативной лексики**;\n",
    "- Проведен расчет TF-IDF по словам в очищенном тексте;\n",
    "- Обучены 2 модели для классификации токсичности текста: `LogisticRegression` и `DecisionTreeClassifier`. По резульатам полученный метрики `f1` на кросс-валидации была выбрана лучшая модель. Гиперпараметры модели: `LogisticRegression(C=1, penalty='l1', solver='liblinear')`. Метрика `f1` на тестовой выборке: **0.783**. "
   ]
  }
 ],
 "metadata": {
  "ExecuteTimeLog": [
   {
    "duration": 1295,
    "start_time": "2025-06-24T11:40:23.976Z"
   },
   {
    "duration": 161,
    "start_time": "2025-06-24T11:41:01.979Z"
   },
   {
    "duration": 863,
    "start_time": "2025-06-24T11:41:18.473Z"
   },
   {
    "duration": 41,
    "start_time": "2025-06-24T11:41:36.859Z"
   },
   {
    "duration": 841,
    "start_time": "2025-06-24T11:43:27.311Z"
   },
   {
    "duration": 33,
    "start_time": "2025-06-24T11:43:28.567Z"
   },
   {
    "duration": 3,
    "start_time": "2025-06-24T11:48:42.082Z"
   },
   {
    "duration": 80812,
    "start_time": "2025-06-24T11:49:58.977Z"
   },
   {
    "duration": 9,
    "start_time": "2025-06-24T11:51:29.524Z"
   },
   {
    "duration": 6703,
    "start_time": "2025-06-24T11:55:22.906Z"
   },
   {
    "duration": 8,
    "start_time": "2025-06-24T11:55:29.611Z"
   },
   {
    "duration": 3,
    "start_time": "2025-06-24T12:00:56.316Z"
   },
   {
    "duration": 3,
    "start_time": "2025-06-24T12:01:19.881Z"
   },
   {
    "duration": 3422,
    "start_time": "2025-06-24T12:04:49.575Z"
   },
   {
    "duration": 585,
    "start_time": "2025-06-24T12:07:32.088Z"
   },
   {
    "duration": 2410217,
    "start_time": "2025-06-24T12:07:34.564Z"
   },
   {
    "duration": 11,
    "start_time": "2025-06-24T12:53:22.888Z"
   },
   {
    "duration": 4562,
    "start_time": "2025-06-24T12:53:49.780Z"
   },
   {
    "duration": 7,
    "start_time": "2025-06-24T12:53:54.347Z"
   },
   {
    "duration": 126,
    "start_time": "2025-06-24T12:55:42.171Z"
   },
   {
    "duration": 9,
    "start_time": "2025-06-24T12:55:42.944Z"
   },
   {
    "duration": 363,
    "start_time": "2025-06-24T12:56:27.753Z"
   },
   {
    "duration": 197,
    "start_time": "2025-06-24T13:17:58.840Z"
   },
   {
    "duration": 46,
    "start_time": "2025-06-24T13:19:40.853Z"
   },
   {
    "duration": 4449,
    "start_time": "2025-06-24T13:21:57.436Z"
   },
   {
    "duration": 800,
    "start_time": "2025-06-24T13:22:01.887Z"
   },
   {
    "duration": 42,
    "start_time": "2025-06-24T13:22:02.689Z"
   },
   {
    "duration": 715,
    "start_time": "2025-06-24T13:22:02.732Z"
   },
   {
    "duration": 2371470,
    "start_time": "2025-06-24T13:22:03.450Z"
   },
   {
    "duration": 4381,
    "start_time": "2025-06-24T14:01:34.922Z"
   },
   {
    "duration": 150,
    "start_time": "2025-06-24T14:01:39.305Z"
   },
   {
    "duration": 13,
    "start_time": "2025-06-24T14:01:39.456Z"
   },
   {
    "duration": 2460,
    "start_time": "2025-06-24T14:01:39.470Z"
   },
   {
    "duration": 207,
    "start_time": "2025-06-24T14:01:41.932Z"
   },
   {
    "duration": 317,
    "start_time": "2025-06-24T14:01:42.140Z"
   },
   {
    "duration": 5,
    "start_time": "2025-06-24T14:20:21.280Z"
   },
   {
    "duration": 18,
    "start_time": "2025-06-24T14:21:06.364Z"
   },
   {
    "duration": 23,
    "start_time": "2025-06-24T14:22:10.026Z"
   },
   {
    "duration": 6869,
    "start_time": "2025-06-25T11:20:51.149Z"
   },
   {
    "duration": 3967,
    "start_time": "2025-06-25T11:20:58.020Z"
   },
   {
    "duration": 992,
    "start_time": "2025-06-25T11:21:01.989Z"
   },
   {
    "duration": 42,
    "start_time": "2025-06-25T11:21:02.982Z"
   },
   {
    "duration": 523,
    "start_time": "2025-06-25T11:21:03.025Z"
   },
   {
    "duration": 2598526,
    "start_time": "2025-06-25T11:21:03.549Z"
   },
   {
    "duration": 4739,
    "start_time": "2025-06-25T12:04:22.077Z"
   },
   {
    "duration": 142,
    "start_time": "2025-06-25T12:04:26.818Z"
   },
   {
    "duration": 9,
    "start_time": "2025-06-25T12:04:26.962Z"
   },
   {
    "duration": 2170,
    "start_time": "2025-06-25T12:04:26.973Z"
   },
   {
    "duration": 318,
    "start_time": "2025-06-25T12:04:29.145Z"
   },
   {
    "duration": 5,
    "start_time": "2025-06-25T12:04:29.464Z"
   },
   {
    "duration": 361,
    "start_time": "2025-06-25T12:04:29.470Z"
   },
   {
    "duration": 22,
    "start_time": "2025-06-25T12:20:41.450Z"
   },
   {
    "duration": 30,
    "start_time": "2025-06-25T12:24:18.602Z"
   },
   {
    "duration": 4,
    "start_time": "2025-06-25T12:25:08.937Z"
   },
   {
    "duration": 4,
    "start_time": "2025-06-25T12:27:29.752Z"
   },
   {
    "duration": 22,
    "start_time": "2025-06-25T12:27:31.617Z"
   },
   {
    "duration": 46,
    "start_time": "2025-06-25T12:34:13.674Z"
   },
   {
    "duration": 3057,
    "start_time": "2025-06-25T12:34:22.703Z"
   },
   {
    "duration": 4290,
    "start_time": "2025-06-25T12:34:25.763Z"
   },
   {
    "duration": 1001,
    "start_time": "2025-06-25T12:34:30.055Z"
   },
   {
    "duration": 44,
    "start_time": "2025-06-25T12:34:31.057Z"
   },
   {
    "duration": 520,
    "start_time": "2025-06-25T12:34:31.104Z"
   },
   {
    "duration": 906404,
    "start_time": "2025-06-25T12:34:31.626Z"
   },
   {
    "duration": 0,
    "start_time": "2025-06-25T12:49:38.032Z"
   },
   {
    "duration": 0,
    "start_time": "2025-06-25T12:49:38.033Z"
   },
   {
    "duration": 0,
    "start_time": "2025-06-25T12:49:38.034Z"
   },
   {
    "duration": 0,
    "start_time": "2025-06-25T12:49:38.035Z"
   },
   {
    "duration": 0,
    "start_time": "2025-06-25T12:49:38.041Z"
   },
   {
    "duration": 0,
    "start_time": "2025-06-25T12:49:38.042Z"
   },
   {
    "duration": 0,
    "start_time": "2025-06-25T12:49:38.044Z"
   },
   {
    "duration": 5663,
    "start_time": "2025-06-25T12:50:04.060Z"
   },
   {
    "duration": 3812,
    "start_time": "2025-06-25T12:50:09.726Z"
   },
   {
    "duration": 1045,
    "start_time": "2025-06-25T12:50:13.539Z"
   },
   {
    "duration": 60,
    "start_time": "2025-06-25T12:50:14.586Z"
   },
   {
    "duration": 519,
    "start_time": "2025-06-25T12:50:14.648Z"
   },
   {
    "duration": 2470239,
    "start_time": "2025-06-25T12:50:15.168Z"
   },
   {
    "duration": 4609,
    "start_time": "2025-06-25T13:31:25.408Z"
   },
   {
    "duration": 149,
    "start_time": "2025-06-25T13:31:30.019Z"
   },
   {
    "duration": 9,
    "start_time": "2025-06-25T13:31:30.169Z"
   },
   {
    "duration": 2247,
    "start_time": "2025-06-25T13:31:30.180Z"
   },
   {
    "duration": 248,
    "start_time": "2025-06-25T13:31:32.429Z"
   },
   {
    "duration": 5,
    "start_time": "2025-06-25T13:31:32.679Z"
   },
   {
    "duration": 48,
    "start_time": "2025-06-25T14:45:25.841Z"
   },
   {
    "duration": 5566,
    "start_time": "2025-06-25T14:47:16.508Z"
   },
   {
    "duration": 4445,
    "start_time": "2025-06-25T14:47:22.077Z"
   },
   {
    "duration": 1015,
    "start_time": "2025-06-25T14:47:26.524Z"
   },
   {
    "duration": 38,
    "start_time": "2025-06-25T14:47:27.541Z"
   },
   {
    "duration": 530,
    "start_time": "2025-06-25T14:47:27.581Z"
   },
   {
    "duration": 2572748,
    "start_time": "2025-06-25T14:47:28.112Z"
   },
   {
    "duration": 4829,
    "start_time": "2025-06-25T15:30:20.862Z"
   },
   {
    "duration": 155,
    "start_time": "2025-06-25T15:30:25.693Z"
   },
   {
    "duration": 11,
    "start_time": "2025-06-25T15:30:25.850Z"
   },
   {
    "duration": 2137,
    "start_time": "2025-06-25T15:30:25.863Z"
   },
   {
    "duration": 247,
    "start_time": "2025-06-25T15:30:28.002Z"
   },
   {
    "duration": 5,
    "start_time": "2025-06-25T15:30:28.251Z"
   },
   {
    "duration": 325,
    "start_time": "2025-06-25T15:54:48.331Z"
   },
   {
    "duration": 3,
    "start_time": "2025-06-25T15:57:33.965Z"
   },
   {
    "duration": 9553,
    "start_time": "2025-06-26T06:43:31.940Z"
   },
   {
    "duration": 4124,
    "start_time": "2025-06-26T06:43:41.496Z"
   },
   {
    "duration": 1126,
    "start_time": "2025-06-26T06:43:45.622Z"
   },
   {
    "duration": 47,
    "start_time": "2025-06-26T06:43:46.750Z"
   },
   {
    "duration": 523,
    "start_time": "2025-06-26T06:43:46.799Z"
   },
   {
    "duration": 2623010,
    "start_time": "2025-06-26T06:43:47.324Z"
   },
   {
    "duration": 4371,
    "start_time": "2025-06-26T07:27:30.336Z"
   },
   {
    "duration": 156,
    "start_time": "2025-06-26T07:27:34.709Z"
   },
   {
    "duration": 10,
    "start_time": "2025-06-26T07:27:34.867Z"
   },
   {
    "duration": 2449,
    "start_time": "2025-06-26T07:27:34.879Z"
   },
   {
    "duration": 318,
    "start_time": "2025-06-26T07:27:37.330Z"
   },
   {
    "duration": 4,
    "start_time": "2025-06-26T07:27:37.650Z"
   },
   {
    "duration": 197,
    "start_time": "2025-06-26T08:02:46.588Z"
   },
   {
    "duration": 101,
    "start_time": "2025-06-26T08:03:06.967Z"
   },
   {
    "duration": 203,
    "start_time": "2025-06-26T08:05:21.113Z"
   },
   {
    "duration": 26,
    "start_time": "2025-06-26T08:08:33.008Z"
   },
   {
    "duration": 10337,
    "start_time": "2025-06-27T08:13:19.455Z"
   },
   {
    "duration": 4490,
    "start_time": "2025-06-27T08:13:29.794Z"
   },
   {
    "duration": 1144,
    "start_time": "2025-06-27T08:13:34.287Z"
   },
   {
    "duration": 46,
    "start_time": "2025-06-27T08:13:35.433Z"
   },
   {
    "duration": 585,
    "start_time": "2025-06-27T08:13:35.487Z"
   },
   {
    "duration": 2795018,
    "start_time": "2025-06-27T08:13:36.074Z"
   },
   {
    "duration": 4893,
    "start_time": "2025-06-27T09:00:11.094Z"
   },
   {
    "duration": 147,
    "start_time": "2025-06-27T09:00:15.991Z"
   },
   {
    "duration": 10,
    "start_time": "2025-06-27T09:00:16.140Z"
   },
   {
    "duration": 8,
    "start_time": "2025-06-27T09:00:16.152Z"
   },
   {
    "duration": 332,
    "start_time": "2025-06-27T09:00:16.162Z"
   },
   {
    "duration": 6,
    "start_time": "2025-06-27T09:00:16.497Z"
   },
   {
    "duration": 7562,
    "start_time": "2025-06-27T09:00:16.505Z"
   },
   {
    "duration": 4,
    "start_time": "2025-06-27T09:04:58.537Z"
   },
   {
    "duration": 4,
    "start_time": "2025-06-27T09:05:06.431Z"
   },
   {
    "duration": 4,
    "start_time": "2025-06-27T09:07:26.156Z"
   },
   {
    "duration": 60,
    "start_time": "2025-06-27T09:09:39.943Z"
   },
   {
    "duration": 6358,
    "start_time": "2025-06-27T09:10:13.762Z"
   },
   {
    "duration": 10,
    "start_time": "2025-06-27T09:10:27.890Z"
   },
   {
    "duration": 8,
    "start_time": "2025-06-27T10:33:05.882Z"
   },
   {
    "duration": 4,
    "start_time": "2025-06-27T10:33:43.659Z"
   },
   {
    "duration": 4,
    "start_time": "2025-06-27T10:34:00.318Z"
   },
   {
    "duration": 208,
    "start_time": "2025-06-27T10:35:23.321Z"
   },
   {
    "duration": 156,
    "start_time": "2025-06-27T10:37:08.713Z"
   },
   {
    "duration": 3,
    "start_time": "2025-06-27T10:39:12.527Z"
   },
   {
    "duration": 380,
    "start_time": "2025-06-27T10:41:03.537Z"
   },
   {
    "duration": 5,
    "start_time": "2025-06-27T10:43:19.687Z"
   },
   {
    "duration": 7,
    "start_time": "2025-06-27T10:43:41.035Z"
   },
   {
    "duration": 5922,
    "start_time": "2025-06-27T10:48:28.454Z"
   },
   {
    "duration": 5353,
    "start_time": "2025-06-27T10:48:34.378Z"
   },
   {
    "duration": 971,
    "start_time": "2025-06-27T10:48:39.732Z"
   },
   {
    "duration": 47,
    "start_time": "2025-06-27T10:48:40.705Z"
   },
   {
    "duration": 529,
    "start_time": "2025-06-27T10:48:40.755Z"
   },
   {
    "duration": 2739980,
    "start_time": "2025-06-27T10:48:41.286Z"
   },
   {
    "duration": 4721,
    "start_time": "2025-06-27T11:34:21.268Z"
   },
   {
    "duration": 168,
    "start_time": "2025-06-27T11:34:25.991Z"
   },
   {
    "duration": 9,
    "start_time": "2025-06-27T11:34:26.161Z"
   },
   {
    "duration": 2235,
    "start_time": "2025-06-27T11:34:26.171Z"
   },
   {
    "duration": 179,
    "start_time": "2025-06-27T11:34:28.408Z"
   },
   {
    "duration": 5,
    "start_time": "2025-06-27T11:34:28.589Z"
   },
   {
    "duration": 5705,
    "start_time": "2025-06-27T12:00:04.506Z"
   },
   {
    "duration": 5405,
    "start_time": "2025-06-27T12:00:10.214Z"
   },
   {
    "duration": 1012,
    "start_time": "2025-06-27T12:00:15.621Z"
   },
   {
    "duration": 48,
    "start_time": "2025-06-27T12:00:16.635Z"
   },
   {
    "duration": 566,
    "start_time": "2025-06-27T12:00:16.685Z"
   },
   {
    "duration": 2587452,
    "start_time": "2025-06-27T12:00:17.253Z"
   },
   {
    "duration": 4419,
    "start_time": "2025-06-27T12:43:24.707Z"
   },
   {
    "duration": 156,
    "start_time": "2025-06-27T12:43:29.127Z"
   },
   {
    "duration": 9,
    "start_time": "2025-06-27T12:43:29.285Z"
   },
   {
    "duration": 2119,
    "start_time": "2025-06-27T12:43:29.296Z"
   },
   {
    "duration": 204,
    "start_time": "2025-06-27T12:43:31.417Z"
   },
   {
    "duration": 3,
    "start_time": "2025-06-27T12:43:31.623Z"
   },
   {
    "duration": 5417,
    "start_time": "2025-06-27T12:44:11.465Z"
   },
   {
    "duration": 5396,
    "start_time": "2025-06-27T12:44:16.885Z"
   },
   {
    "duration": 944,
    "start_time": "2025-06-27T12:44:22.282Z"
   },
   {
    "duration": 47,
    "start_time": "2025-06-27T12:44:23.228Z"
   },
   {
    "duration": 494,
    "start_time": "2025-06-27T12:44:23.277Z"
   },
   {
    "duration": 2566382,
    "start_time": "2025-06-27T12:44:23.772Z"
   },
   {
    "duration": 4335,
    "start_time": "2025-06-27T13:27:10.156Z"
   },
   {
    "duration": 153,
    "start_time": "2025-06-27T13:27:14.493Z"
   },
   {
    "duration": 8,
    "start_time": "2025-06-27T13:27:14.648Z"
   },
   {
    "duration": 2239,
    "start_time": "2025-06-27T13:27:14.658Z"
   },
   {
    "duration": 145,
    "start_time": "2025-06-27T13:27:16.899Z"
   },
   {
    "duration": 5,
    "start_time": "2025-06-27T13:27:17.046Z"
   },
   {
    "duration": 5489,
    "start_time": "2025-06-27T13:33:29.912Z"
   },
   {
    "duration": 5154,
    "start_time": "2025-06-27T13:33:35.404Z"
   },
   {
    "duration": 967,
    "start_time": "2025-06-27T13:33:40.560Z"
   },
   {
    "duration": 49,
    "start_time": "2025-06-27T13:33:41.529Z"
   },
   {
    "duration": 532,
    "start_time": "2025-06-27T13:33:41.580Z"
   },
   {
    "duration": 2564843,
    "start_time": "2025-06-27T13:33:42.114Z"
   },
   {
    "duration": 4347,
    "start_time": "2025-06-27T14:16:26.959Z"
   },
   {
    "duration": 157,
    "start_time": "2025-06-27T14:16:31.308Z"
   },
   {
    "duration": 10,
    "start_time": "2025-06-27T14:16:31.467Z"
   },
   {
    "duration": 2336,
    "start_time": "2025-06-27T14:16:31.479Z"
   },
   {
    "duration": 157,
    "start_time": "2025-06-27T14:16:33.817Z"
   },
   {
    "duration": 4,
    "start_time": "2025-06-27T14:16:33.976Z"
   },
   {
    "duration": 49,
    "start_time": "2025-06-27T14:28:58.045Z"
   },
   {
    "duration": 5661,
    "start_time": "2025-06-27T14:30:03.713Z"
   },
   {
    "duration": 5167,
    "start_time": "2025-06-27T14:30:09.377Z"
   },
   {
    "duration": 960,
    "start_time": "2025-06-27T14:30:14.546Z"
   },
   {
    "duration": 49,
    "start_time": "2025-06-27T14:30:15.508Z"
   },
   {
    "duration": 566,
    "start_time": "2025-06-27T14:30:15.560Z"
   },
   {
    "duration": 2549675,
    "start_time": "2025-06-27T14:30:16.127Z"
   },
   {
    "duration": 4398,
    "start_time": "2025-06-27T15:12:45.803Z"
   },
   {
    "duration": 156,
    "start_time": "2025-06-27T15:12:50.202Z"
   },
   {
    "duration": 8,
    "start_time": "2025-06-27T15:12:50.360Z"
   },
   {
    "duration": 2343,
    "start_time": "2025-06-27T15:12:50.370Z"
   },
   {
    "duration": 140,
    "start_time": "2025-06-27T15:12:52.715Z"
   },
   {
    "duration": 5,
    "start_time": "2025-06-27T15:12:52.857Z"
   },
   {
    "duration": 5498,
    "start_time": "2025-06-27T15:13:20.203Z"
   },
   {
    "duration": 5006,
    "start_time": "2025-06-27T15:13:25.703Z"
   },
   {
    "duration": 980,
    "start_time": "2025-06-27T15:13:30.710Z"
   },
   {
    "duration": 49,
    "start_time": "2025-06-27T15:13:31.692Z"
   },
   {
    "duration": 516,
    "start_time": "2025-06-27T15:13:31.743Z"
   },
   {
    "duration": 2611979,
    "start_time": "2025-06-27T15:13:32.261Z"
   },
   {
    "duration": 4625,
    "start_time": "2025-06-27T15:57:04.242Z"
   },
   {
    "duration": 165,
    "start_time": "2025-06-27T15:57:08.869Z"
   },
   {
    "duration": 9,
    "start_time": "2025-06-27T15:57:09.036Z"
   },
   {
    "duration": 2473,
    "start_time": "2025-06-27T15:57:09.047Z"
   },
   {
    "duration": 212,
    "start_time": "2025-06-27T15:57:11.521Z"
   },
   {
    "duration": 5,
    "start_time": "2025-06-27T15:57:11.734Z"
   },
   {
    "duration": 5536,
    "start_time": "2025-06-27T16:35:57.271Z"
   },
   {
    "duration": 5050,
    "start_time": "2025-06-27T16:36:02.810Z"
   },
   {
    "duration": 944,
    "start_time": "2025-06-27T16:36:07.861Z"
   },
   {
    "duration": 47,
    "start_time": "2025-06-27T16:36:08.807Z"
   },
   {
    "duration": 511,
    "start_time": "2025-06-27T16:36:08.856Z"
   },
   {
    "duration": 2535895,
    "start_time": "2025-06-27T16:36:09.369Z"
   },
   {
    "duration": 4446,
    "start_time": "2025-06-27T17:18:25.266Z"
   },
   {
    "duration": 162,
    "start_time": "2025-06-27T17:18:29.714Z"
   },
   {
    "duration": 9,
    "start_time": "2025-06-27T17:18:29.878Z"
   },
   {
    "duration": 2393,
    "start_time": "2025-06-27T17:18:29.889Z"
   },
   {
    "duration": 142,
    "start_time": "2025-06-27T17:18:32.283Z"
   },
   {
    "duration": 3,
    "start_time": "2025-06-27T17:18:32.427Z"
   },
   {
    "duration": 9666,
    "start_time": "2025-06-29T15:41:08.956Z"
   },
   {
    "duration": 4333,
    "start_time": "2025-06-29T15:41:18.625Z"
   },
   {
    "duration": 870,
    "start_time": "2025-06-29T15:41:22.960Z"
   },
   {
    "duration": 47,
    "start_time": "2025-06-29T15:41:23.831Z"
   },
   {
    "duration": 512,
    "start_time": "2025-06-29T15:41:23.880Z"
   },
   {
    "duration": 2566996,
    "start_time": "2025-06-29T15:41:24.394Z"
   },
   {
    "duration": 4292,
    "start_time": "2025-06-29T16:24:11.392Z"
   },
   {
    "duration": 139,
    "start_time": "2025-06-29T16:24:15.685Z"
   },
   {
    "duration": 14,
    "start_time": "2025-06-29T16:24:15.826Z"
   },
   {
    "duration": 2382,
    "start_time": "2025-06-29T16:24:15.842Z"
   },
   {
    "duration": 396,
    "start_time": "2025-06-29T16:24:18.225Z"
   },
   {
    "duration": 4,
    "start_time": "2025-06-29T16:24:18.623Z"
   },
   {
    "duration": 1324,
    "start_time": "2025-07-01T07:28:33.898Z"
   },
   {
    "duration": 946,
    "start_time": "2025-07-01T07:28:37.817Z"
   },
   {
    "duration": 41,
    "start_time": "2025-07-01T07:28:38.764Z"
   },
   {
    "duration": 4244,
    "start_time": "2025-07-01T07:31:33.194Z"
   },
   {
    "duration": 8,
    "start_time": "2025-07-01T07:31:39.076Z"
   },
   {
    "duration": 2411,
    "start_time": "2025-07-01T07:32:02.818Z"
   },
   {
    "duration": 256,
    "start_time": "2025-07-01T07:32:07.542Z"
   },
   {
    "duration": 9443,
    "start_time": "2025-07-01T07:32:30.747Z"
   },
   {
    "duration": 9207,
    "start_time": "2025-07-01T07:32:40.191Z"
   },
   {
    "duration": 9719,
    "start_time": "2025-07-01T07:33:09.894Z"
   },
   {
    "duration": 9407,
    "start_time": "2025-07-01T07:33:21.919Z"
   },
   {
    "duration": 4,
    "start_time": "2025-07-01T07:33:53.269Z"
   },
   {
    "duration": 47,
    "start_time": "2025-07-01T07:34:07.401Z"
   },
   {
    "duration": 121,
    "start_time": "2025-07-01T07:34:11.159Z"
   },
   {
    "duration": 4,
    "start_time": "2025-07-01T07:34:32.403Z"
   },
   {
    "duration": 15,
    "start_time": "2025-07-01T07:35:39.051Z"
   },
   {
    "duration": 4,
    "start_time": "2025-07-01T07:35:59.951Z"
   },
   {
    "duration": 50,
    "start_time": "2025-07-01T07:36:19.230Z"
   },
   {
    "duration": 6,
    "start_time": "2025-07-01T07:36:20.805Z"
   },
   {
    "duration": 45667,
    "start_time": "2025-07-01T07:36:29.895Z"
   },
   {
    "duration": 14,
    "start_time": "2025-07-01T07:37:49.135Z"
   },
   {
    "duration": 16,
    "start_time": "2025-07-01T07:39:09.657Z"
   },
   {
    "duration": 4,
    "start_time": "2025-07-01T07:39:24.289Z"
   },
   {
    "duration": 428742,
    "start_time": "2025-07-01T07:48:05.865Z"
   },
   {
    "duration": 132,
    "start_time": "2025-07-01T07:55:14.609Z"
   },
   {
    "duration": 14,
    "start_time": "2025-07-01T07:55:14.752Z"
   },
   {
    "duration": 1438,
    "start_time": "2025-07-02T10:11:33.039Z"
   },
   {
    "duration": 973,
    "start_time": "2025-07-02T10:11:34.480Z"
   },
   {
    "duration": 42,
    "start_time": "2025-07-02T10:11:35.455Z"
   },
   {
    "duration": 4229,
    "start_time": "2025-07-02T10:11:35.499Z"
   },
   {
    "duration": 12,
    "start_time": "2025-07-02T10:11:39.731Z"
   },
   {
    "duration": 2495,
    "start_time": "2025-07-02T10:11:39.745Z"
   },
   {
    "duration": 436,
    "start_time": "2025-07-02T10:11:42.242Z"
   },
   {
    "duration": 9970,
    "start_time": "2025-07-02T10:11:42.680Z"
   },
   {
    "duration": 9689,
    "start_time": "2025-07-02T10:11:52.651Z"
   },
   {
    "duration": 60,
    "start_time": "2025-07-02T10:12:23.711Z"
   },
   {
    "duration": 48921,
    "start_time": "2025-07-02T10:12:24.618Z"
   },
   {
    "duration": 7,
    "start_time": "2025-07-02T10:13:13.541Z"
   },
   {
    "duration": 45,
    "start_time": "2025-07-02T10:13:13.550Z"
   },
   {
    "duration": 87,
    "start_time": "2025-07-02T10:13:36.691Z"
   },
   {
    "duration": 13,
    "start_time": "2025-07-02T10:13:39.736Z"
   },
   {
    "duration": 20,
    "start_time": "2025-07-02T10:13:44.183Z"
   },
   {
    "duration": 9795,
    "start_time": "2025-07-02T10:15:50.004Z"
   },
   {
    "duration": 8113,
    "start_time": "2025-07-02T10:16:02.835Z"
   },
   {
    "duration": 15,
    "start_time": "2025-07-02T10:16:13.428Z"
   },
   {
    "duration": 91,
    "start_time": "2025-07-02T10:16:14.511Z"
   },
   {
    "duration": 4,
    "start_time": "2025-07-02T10:16:17.999Z"
   },
   {
    "duration": 13,
    "start_time": "2025-07-02T10:16:18.766Z"
   },
   {
    "duration": 9845,
    "start_time": "2025-07-02T10:16:28.141Z"
   },
   {
    "duration": 9348,
    "start_time": "2025-07-02T10:16:39.364Z"
   },
   {
    "duration": 36,
    "start_time": "2025-07-02T10:16:49.464Z"
   },
   {
    "duration": 22236,
    "start_time": "2025-07-02T10:16:49.905Z"
   },
   {
    "duration": 94,
    "start_time": "2025-07-02T10:17:12.145Z"
   },
   {
    "duration": 107,
    "start_time": "2025-07-02T10:17:12.241Z"
   },
   {
    "duration": 5,
    "start_time": "2025-07-02T10:25:00.160Z"
   },
   {
    "duration": 9863,
    "start_time": "2025-07-02T10:25:19.851Z"
   },
   {
    "duration": 9731,
    "start_time": "2025-07-02T10:25:29.716Z"
   },
   {
    "duration": 37,
    "start_time": "2025-07-02T10:25:39.449Z"
   },
   {
    "duration": 22653,
    "start_time": "2025-07-02T10:25:39.488Z"
   },
   {
    "duration": 96,
    "start_time": "2025-07-02T10:26:02.144Z"
   },
   {
    "duration": 235,
    "start_time": "2025-07-02T10:26:02.243Z"
   },
   {
    "duration": 119,
    "start_time": "2025-07-02T10:32:12.809Z"
   },
   {
    "duration": 16,
    "start_time": "2025-07-02T10:32:35.193Z"
   },
   {
    "duration": 80,
    "start_time": "2025-07-02T10:32:51.977Z"
   },
   {
    "duration": 27768,
    "start_time": "2025-07-02T10:33:00.681Z"
   },
   {
    "duration": 5,
    "start_time": "2025-07-02T10:34:01.715Z"
   },
   {
    "duration": 14,
    "start_time": "2025-07-02T10:34:02.253Z"
   },
   {
    "duration": 13,
    "start_time": "2025-07-02T10:34:26.719Z"
   },
   {
    "duration": 1326,
    "start_time": "2025-07-02T10:38:49.452Z"
   },
   {
    "duration": 929,
    "start_time": "2025-07-02T10:38:50.780Z"
   },
   {
    "duration": 52,
    "start_time": "2025-07-02T10:38:51.711Z"
   },
   {
    "duration": 4330,
    "start_time": "2025-07-02T10:38:51.764Z"
   },
   {
    "duration": 8,
    "start_time": "2025-07-02T10:38:56.096Z"
   },
   {
    "duration": 2127,
    "start_time": "2025-07-02T10:38:56.105Z"
   },
   {
    "duration": 140,
    "start_time": "2025-07-02T10:38:58.238Z"
   },
   {
    "duration": 9708,
    "start_time": "2025-07-02T10:38:58.379Z"
   },
   {
    "duration": 9281,
    "start_time": "2025-07-02T10:39:08.088Z"
   },
   {
    "duration": 76,
    "start_time": "2025-07-02T10:39:17.371Z"
   },
   {
    "duration": 27994,
    "start_time": "2025-07-02T10:39:17.449Z"
   },
   {
    "duration": 93,
    "start_time": "2025-07-02T10:39:45.445Z"
   },
   {
    "duration": 108,
    "start_time": "2025-07-02T10:39:45.542Z"
   },
   {
    "duration": 292061,
    "start_time": "2025-07-02T10:39:45.653Z"
   },
   {
    "duration": 93,
    "start_time": "2025-07-02T10:44:37.716Z"
   },
   {
    "duration": 14,
    "start_time": "2025-07-02T10:44:37.811Z"
   },
   {
    "duration": 3704,
    "start_time": "2025-07-03T06:33:38.286Z"
   },
   {
    "duration": 2557,
    "start_time": "2025-07-03T06:52:17.987Z"
   },
   {
    "duration": 1574,
    "start_time": "2025-07-03T06:52:20.547Z"
   },
   {
    "duration": 993,
    "start_time": "2025-07-03T06:52:22.123Z"
   },
   {
    "duration": 51,
    "start_time": "2025-07-03T06:52:23.117Z"
   },
   {
    "duration": 4,
    "start_time": "2025-07-03T06:52:23.171Z"
   },
   {
    "duration": 143,
    "start_time": "2025-07-03T06:52:23.177Z"
   },
   {
    "duration": 19,
    "start_time": "2025-07-03T06:52:33.813Z"
   },
   {
    "duration": 16,
    "start_time": "2025-07-03T06:53:00.701Z"
   },
   {
    "duration": 12,
    "start_time": "2025-07-03T06:53:56.857Z"
   },
   {
    "duration": 16042,
    "start_time": "2025-07-03T06:54:40.072Z"
   },
   {
    "duration": 3510,
    "start_time": "2025-07-03T06:55:22.172Z"
   },
   {
    "duration": 4,
    "start_time": "2025-07-03T06:55:29.178Z"
   },
   {
    "duration": 19,
    "start_time": "2025-07-03T06:55:32.220Z"
   },
   {
    "duration": 243,
    "start_time": "2025-07-03T06:56:56.619Z"
   },
   {
    "duration": 117,
    "start_time": "2025-07-03T06:57:13.430Z"
   },
   {
    "duration": 34,
    "start_time": "2025-07-03T06:57:20.618Z"
   },
   {
    "duration": 2631,
    "start_time": "2025-07-03T06:57:53.581Z"
   },
   {
    "duration": 1138,
    "start_time": "2025-07-03T06:57:56.214Z"
   },
   {
    "duration": 112,
    "start_time": "2025-07-03T06:58:47.856Z"
   },
   {
    "duration": 797,
    "start_time": "2025-07-03T07:01:00.987Z"
   },
   {
    "duration": 140316,
    "start_time": "2025-07-03T07:01:49.795Z"
   },
   {
    "duration": 619,
    "start_time": "2025-07-03T07:05:11.334Z"
   },
   {
    "duration": 546,
    "start_time": "2025-07-03T07:06:58.389Z"
   },
   {
    "duration": 12131,
    "start_time": "2025-07-03T07:07:38.998Z"
   },
   {
    "duration": 1906,
    "start_time": "2025-07-03T07:08:01.271Z"
   },
   {
    "duration": 951,
    "start_time": "2025-07-03T07:08:20.315Z"
   },
   {
    "duration": 41,
    "start_time": "2025-07-03T07:08:22.186Z"
   },
   {
    "duration": 3,
    "start_time": "2025-07-03T07:08:26.264Z"
   },
   {
    "duration": 181,
    "start_time": "2025-07-03T07:08:27.283Z"
   },
   {
    "duration": 106,
    "start_time": "2025-07-03T07:08:36.310Z"
   },
   {
    "duration": 96,
    "start_time": "2025-07-03T07:08:45.207Z"
   },
   {
    "duration": 101,
    "start_time": "2025-07-03T07:09:07.201Z"
   },
   {
    "duration": 4,
    "start_time": "2025-07-03T07:09:35.013Z"
   },
   {
    "duration": 99,
    "start_time": "2025-07-03T07:14:01.075Z"
   },
   {
    "duration": 16,
    "start_time": "2025-07-03T07:14:01.872Z"
   },
   {
    "duration": 12,
    "start_time": "2025-07-03T07:14:12.293Z"
   },
   {
    "duration": 9,
    "start_time": "2025-07-03T07:14:45.113Z"
   },
   {
    "duration": 8,
    "start_time": "2025-07-03T07:14:46.474Z"
   },
   {
    "duration": 250,
    "start_time": "2025-07-03T07:22:09.822Z"
   },
   {
    "duration": 255,
    "start_time": "2025-07-03T07:22:19.938Z"
   },
   {
    "duration": 257,
    "start_time": "2025-07-03T07:22:29.928Z"
   },
   {
    "duration": 9,
    "start_time": "2025-07-03T07:23:55.850Z"
   },
   {
    "duration": 547,
    "start_time": "2025-07-03T07:24:41.995Z"
   },
   {
    "duration": 2697,
    "start_time": "2025-07-03T07:26:14.244Z"
   },
   {
    "duration": 1677,
    "start_time": "2025-07-03T07:26:18.547Z"
   },
   {
    "duration": 10774,
    "start_time": "2025-07-03T07:27:30.779Z"
   },
   {
    "duration": 393,
    "start_time": "2025-07-03T07:27:48.283Z"
   },
   {
    "duration": 139064,
    "start_time": "2025-07-03T07:29:14.080Z"
   },
   {
    "duration": 2323,
    "start_time": "2025-07-03T07:31:39.985Z"
   },
   {
    "duration": 2529,
    "start_time": "2025-07-03T07:32:39.529Z"
   },
   {
    "duration": 346,
    "start_time": "2025-07-03T07:32:52.226Z"
   },
   {
    "duration": 2585,
    "start_time": "2025-07-03T07:33:05.191Z"
   },
   {
    "duration": 2533,
    "start_time": "2025-07-03T07:33:11.221Z"
   },
   {
    "duration": 875,
    "start_time": "2025-07-03T07:35:25.716Z"
   },
   {
    "duration": 2367,
    "start_time": "2025-07-03T07:36:01.045Z"
   },
   {
    "duration": 2553,
    "start_time": "2025-07-03T07:36:26.809Z"
   },
   {
    "duration": 873,
    "start_time": "2025-07-03T07:36:37.607Z"
   },
   {
    "duration": 145263,
    "start_time": "2025-07-03T07:43:36.407Z"
   },
   {
    "duration": 946,
    "start_time": "2025-07-03T07:46:01.674Z"
   },
   {
    "duration": 496,
    "start_time": "2025-07-03T07:46:02.622Z"
   },
   {
    "duration": 2296,
    "start_time": "2025-07-03T07:46:13.167Z"
   },
   {
    "duration": 2437,
    "start_time": "2025-07-03T07:53:07.855Z"
   },
   {
    "duration": 7291,
    "start_time": "2025-07-03T07:54:06.541Z"
   },
   {
    "duration": 2598,
    "start_time": "2025-07-03T07:54:23.000Z"
   },
   {
    "duration": 915,
    "start_time": "2025-07-03T07:54:39.335Z"
   },
   {
    "duration": 42,
    "start_time": "2025-07-03T07:54:40.905Z"
   },
   {
    "duration": 3,
    "start_time": "2025-07-03T07:54:41.957Z"
   },
   {
    "duration": 281,
    "start_time": "2025-07-03T07:54:42.573Z"
   },
   {
    "duration": 88,
    "start_time": "2025-07-03T07:54:43.498Z"
   },
   {
    "duration": 12,
    "start_time": "2025-07-03T07:54:44.961Z"
   },
   {
    "duration": 11,
    "start_time": "2025-07-03T07:54:45.678Z"
   },
   {
    "duration": 378,
    "start_time": "2025-07-03T07:54:46.401Z"
   },
   {
    "duration": 288,
    "start_time": "2025-07-03T07:54:50.869Z"
   },
   {
    "duration": 101086,
    "start_time": "2025-07-03T07:57:10.776Z"
   },
   {
    "duration": 8,
    "start_time": "2025-07-03T07:59:31.276Z"
   },
   {
    "duration": 4,
    "start_time": "2025-07-03T08:00:24.440Z"
   },
   {
    "duration": 6,
    "start_time": "2025-07-03T08:00:59.822Z"
   },
   {
    "duration": 74,
    "start_time": "2025-07-03T08:02:11.482Z"
   },
   {
    "duration": 3,
    "start_time": "2025-07-03T08:03:01.036Z"
   },
   {
    "duration": 5,
    "start_time": "2025-07-03T08:03:23.203Z"
   },
   {
    "duration": 142,
    "start_time": "2025-07-03T08:03:41.197Z"
   },
   {
    "duration": 6,
    "start_time": "2025-07-03T08:03:45.603Z"
   },
   {
    "duration": 6,
    "start_time": "2025-07-03T08:04:11.841Z"
   },
   {
    "duration": 11,
    "start_time": "2025-07-03T08:04:28.621Z"
   },
   {
    "duration": 5,
    "start_time": "2025-07-03T08:05:48.367Z"
   },
   {
    "duration": 18,
    "start_time": "2025-07-03T08:05:56.407Z"
   },
   {
    "duration": 105,
    "start_time": "2025-07-03T08:07:34.353Z"
   },
   {
    "duration": 5,
    "start_time": "2025-07-03T08:07:43.932Z"
   },
   {
    "duration": 100,
    "start_time": "2025-07-03T08:11:10.407Z"
   },
   {
    "duration": 140,
    "start_time": "2025-07-03T08:11:42.386Z"
   },
   {
    "duration": 110,
    "start_time": "2025-07-03T08:12:12.071Z"
   },
   {
    "duration": 14,
    "start_time": "2025-07-03T08:12:30.948Z"
   },
   {
    "duration": 0,
    "start_time": "2025-07-03T08:14:39.040Z"
   },
   {
    "duration": 14,
    "start_time": "2025-07-03T08:15:09.094Z"
   },
   {
    "duration": 14,
    "start_time": "2025-07-03T08:19:59.826Z"
   },
   {
    "duration": 2666,
    "start_time": "2025-07-03T08:20:49.881Z"
   },
   {
    "duration": 2384,
    "start_time": "2025-07-03T08:20:52.550Z"
   },
   {
    "duration": 875,
    "start_time": "2025-07-03T08:20:54.938Z"
   },
   {
    "duration": 49,
    "start_time": "2025-07-03T08:20:55.815Z"
   },
   {
    "duration": 3,
    "start_time": "2025-07-03T08:20:55.867Z"
   },
   {
    "duration": 185,
    "start_time": "2025-07-03T08:20:55.871Z"
   },
   {
    "duration": 153,
    "start_time": "2025-07-03T08:20:56.058Z"
   },
   {
    "duration": 24,
    "start_time": "2025-07-03T08:20:56.213Z"
   },
   {
    "duration": 9,
    "start_time": "2025-07-03T08:20:56.239Z"
   },
   {
    "duration": 360,
    "start_time": "2025-07-03T08:20:56.249Z"
   },
   {
    "duration": 98721,
    "start_time": "2025-07-03T08:20:56.610Z"
   },
   {
    "duration": 111,
    "start_time": "2025-07-03T08:22:35.332Z"
   },
   {
    "duration": 152,
    "start_time": "2025-07-03T08:22:35.444Z"
   },
   {
    "duration": 16,
    "start_time": "2025-07-03T09:01:11.124Z"
   },
   {
    "duration": 27,
    "start_time": "2025-07-03T09:01:55.900Z"
   },
   {
    "duration": 24,
    "start_time": "2025-07-03T09:02:13.878Z"
   },
   {
    "duration": 24,
    "start_time": "2025-07-03T09:02:31.497Z"
   },
   {
    "duration": 25,
    "start_time": "2025-07-03T09:03:16.617Z"
   },
   {
    "duration": 24,
    "start_time": "2025-07-03T09:04:13.644Z"
   },
   {
    "duration": 19,
    "start_time": "2025-07-03T09:04:46.039Z"
   },
   {
    "duration": 1084,
    "start_time": "2025-07-03T09:05:10.449Z"
   },
   {
    "duration": 159,
    "start_time": "2025-07-03T09:05:39.429Z"
   },
   {
    "duration": 1090,
    "start_time": "2025-07-03T09:06:16.870Z"
   },
   {
    "duration": 1207,
    "start_time": "2025-07-03T09:08:05.974Z"
   },
   {
    "duration": 1155,
    "start_time": "2025-07-03T09:09:45.068Z"
   },
   {
    "duration": 1130,
    "start_time": "2025-07-03T09:09:55.595Z"
   },
   {
    "duration": 5,
    "start_time": "2025-07-03T09:23:12.541Z"
   },
   {
    "duration": 91937,
    "start_time": "2025-07-03T09:49:19.451Z"
   },
   {
    "duration": 59,
    "start_time": "2025-07-03T09:54:10.482Z"
   },
   {
    "duration": 6,
    "start_time": "2025-07-03T09:54:17.887Z"
   },
   {
    "duration": 4,
    "start_time": "2025-07-03T09:54:30.953Z"
   },
   {
    "duration": 110350,
    "start_time": "2025-07-03T09:54:31.632Z"
   },
   {
    "duration": 110140,
    "start_time": "2025-07-03T09:59:15.990Z"
   },
   {
    "duration": 13,
    "start_time": "2025-07-03T10:03:53.337Z"
   },
   {
    "duration": 5,
    "start_time": "2025-07-03T10:04:16.516Z"
   },
   {
    "duration": 160083,
    "start_time": "2025-07-03T10:04:20.815Z"
   },
   {
    "duration": 12,
    "start_time": "2025-07-03T10:10:48.250Z"
   },
   {
    "duration": 2376,
    "start_time": "2025-07-03T10:11:23.656Z"
   },
   {
    "duration": 4,
    "start_time": "2025-07-03T10:11:26.034Z"
   },
   {
    "duration": 983,
    "start_time": "2025-07-03T10:11:26.040Z"
   },
   {
    "duration": 43,
    "start_time": "2025-07-03T10:11:27.024Z"
   },
   {
    "duration": 25,
    "start_time": "2025-07-03T10:11:27.069Z"
   },
   {
    "duration": 167,
    "start_time": "2025-07-03T10:11:27.095Z"
   },
   {
    "duration": 159,
    "start_time": "2025-07-03T10:11:27.265Z"
   },
   {
    "duration": 20,
    "start_time": "2025-07-03T10:11:27.426Z"
   },
   {
    "duration": 9,
    "start_time": "2025-07-03T10:11:27.448Z"
   },
   {
    "duration": 401,
    "start_time": "2025-07-03T10:11:27.459Z"
   },
   {
    "duration": 99685,
    "start_time": "2025-07-03T10:11:27.862Z"
   },
   {
    "duration": 113,
    "start_time": "2025-07-03T10:13:07.549Z"
   },
   {
    "duration": 1157,
    "start_time": "2025-07-03T10:13:07.664Z"
   },
   {
    "duration": 4257,
    "start_time": "2025-07-03T10:13:08.824Z"
   },
   {
    "duration": 7,
    "start_time": "2025-07-03T10:13:13.083Z"
   },
   {
    "duration": 8,
    "start_time": "2025-07-03T10:13:13.092Z"
   },
   {
    "duration": 147665,
    "start_time": "2025-07-03T10:13:13.102Z"
   },
   {
    "duration": 12,
    "start_time": "2025-07-03T10:15:40.769Z"
   },
   {
    "duration": 93634,
    "start_time": "2025-07-03T10:15:56.742Z"
   },
   {
    "duration": 12,
    "start_time": "2025-07-03T10:17:34.176Z"
   },
   {
    "duration": 13,
    "start_time": "2025-07-03T10:20:44.113Z"
   },
   {
    "duration": 38,
    "start_time": "2025-07-03T10:21:31.714Z"
   },
   {
    "duration": 5,
    "start_time": "2025-07-03T10:25:56.003Z"
   },
   {
    "duration": 4,
    "start_time": "2025-07-03T10:42:36.544Z"
   },
   {
    "duration": 4,
    "start_time": "2025-07-03T10:42:43.381Z"
   },
   {
    "duration": 153,
    "start_time": "2025-07-03T10:43:18.329Z"
   },
   {
    "duration": 136,
    "start_time": "2025-07-03T10:43:23.477Z"
   },
   {
    "duration": 14,
    "start_time": "2025-07-03T10:43:43.099Z"
   },
   {
    "duration": 19,
    "start_time": "2025-07-03T10:47:01.668Z"
   },
   {
    "duration": 851,
    "start_time": "2025-07-03T10:47:27.825Z"
   },
   {
    "duration": 256,
    "start_time": "2025-07-03T10:47:53.188Z"
   },
   {
    "duration": 7,
    "start_time": "2025-07-03T10:47:59.630Z"
   },
   {
    "duration": 4,
    "start_time": "2025-07-03T10:49:25.262Z"
   },
   {
    "duration": 106,
    "start_time": "2025-07-03T10:51:38.059Z"
   },
   {
    "duration": 26,
    "start_time": "2025-07-03T10:51:42.526Z"
   },
   {
    "duration": 24,
    "start_time": "2025-07-03T10:52:08.477Z"
   },
   {
    "duration": 7,
    "start_time": "2025-07-03T10:52:31.259Z"
   },
   {
    "duration": 7,
    "start_time": "2025-07-03T10:52:37.462Z"
   },
   {
    "duration": 7,
    "start_time": "2025-07-03T10:52:41.919Z"
   },
   {
    "duration": 7,
    "start_time": "2025-07-03T10:52:46.344Z"
   },
   {
    "duration": 7,
    "start_time": "2025-07-03T10:52:55.553Z"
   },
   {
    "duration": 7,
    "start_time": "2025-07-03T10:55:46.078Z"
   },
   {
    "duration": 7,
    "start_time": "2025-07-03T10:55:49.678Z"
   },
   {
    "duration": 6,
    "start_time": "2025-07-03T10:55:54.547Z"
   },
   {
    "duration": 6,
    "start_time": "2025-07-03T10:56:36.781Z"
   },
   {
    "duration": 7,
    "start_time": "2025-07-03T10:56:40.757Z"
   },
   {
    "duration": 13,
    "start_time": "2025-07-03T10:56:46.821Z"
   },
   {
    "duration": 13,
    "start_time": "2025-07-03T10:56:56.364Z"
   },
   {
    "duration": 6,
    "start_time": "2025-07-03T10:59:18.742Z"
   },
   {
    "duration": 6,
    "start_time": "2025-07-03T10:59:40.769Z"
   },
   {
    "duration": 4,
    "start_time": "2025-07-03T11:02:47.395Z"
   },
   {
    "duration": 4,
    "start_time": "2025-07-03T11:03:19.511Z"
   },
   {
    "duration": 24,
    "start_time": "2025-07-03T11:03:37.604Z"
   },
   {
    "duration": 15,
    "start_time": "2025-07-03T11:04:46.498Z"
   },
   {
    "duration": 14,
    "start_time": "2025-07-03T11:04:58.524Z"
   },
   {
    "duration": 5,
    "start_time": "2025-07-03T11:12:53.728Z"
   },
   {
    "duration": 5,
    "start_time": "2025-07-03T11:13:47.185Z"
   },
   {
    "duration": 155,
    "start_time": "2025-07-03T11:13:49.462Z"
   },
   {
    "duration": 32,
    "start_time": "2025-07-03T11:14:34.787Z"
   },
   {
    "duration": 5,
    "start_time": "2025-07-03T11:14:55.876Z"
   },
   {
    "duration": 36,
    "start_time": "2025-07-03T11:14:58.317Z"
   },
   {
    "duration": 2237,
    "start_time": "2025-07-03T11:18:08.193Z"
   },
   {
    "duration": 1542,
    "start_time": "2025-07-03T11:18:10.432Z"
   },
   {
    "duration": 1078,
    "start_time": "2025-07-03T11:18:11.975Z"
   },
   {
    "duration": 39,
    "start_time": "2025-07-03T11:18:13.055Z"
   },
   {
    "duration": 4,
    "start_time": "2025-07-03T11:18:13.097Z"
   },
   {
    "duration": 235,
    "start_time": "2025-07-03T11:18:13.103Z"
   },
   {
    "duration": 97,
    "start_time": "2025-07-03T11:18:13.340Z"
   },
   {
    "duration": 12,
    "start_time": "2025-07-03T11:18:13.439Z"
   },
   {
    "duration": 10,
    "start_time": "2025-07-03T11:18:13.453Z"
   },
   {
    "duration": 406,
    "start_time": "2025-07-03T11:18:13.464Z"
   },
   {
    "duration": 99039,
    "start_time": "2025-07-03T11:18:13.872Z"
   },
   {
    "duration": 108,
    "start_time": "2025-07-03T11:19:52.913Z"
   },
   {
    "duration": 1128,
    "start_time": "2025-07-03T11:19:53.023Z"
   },
   {
    "duration": 4222,
    "start_time": "2025-07-03T11:19:54.154Z"
   },
   {
    "duration": 7,
    "start_time": "2025-07-03T11:19:58.378Z"
   },
   {
    "duration": 5,
    "start_time": "2025-07-03T11:19:58.387Z"
   },
   {
    "duration": 578822,
    "start_time": "2025-07-03T11:19:58.394Z"
   },
   {
    "duration": 22,
    "start_time": "2025-07-03T11:29:37.217Z"
   },
   {
    "duration": 89,
    "start_time": "2025-07-03T11:56:26.741Z"
   },
   {
    "duration": 1297,
    "start_time": "2025-07-03T11:57:27.302Z"
   },
   {
    "duration": 1210,
    "start_time": "2025-07-03T11:57:36.778Z"
   },
   {
    "duration": 4,
    "start_time": "2025-07-03T12:00:06.120Z"
   },
   {
    "duration": 27514,
    "start_time": "2025-07-03T12:01:24.497Z"
   },
   {
    "duration": 710,
    "start_time": "2025-07-03T12:04:39.278Z"
   },
   {
    "duration": 6111,
    "start_time": "2025-07-03T12:09:33.809Z"
   },
   {
    "duration": 560,
    "start_time": "2025-07-03T12:09:39.922Z"
   },
   {
    "duration": 1079,
    "start_time": "2025-07-03T12:09:40.484Z"
   },
   {
    "duration": 60,
    "start_time": "2025-07-03T12:09:41.565Z"
   },
   {
    "duration": 5,
    "start_time": "2025-07-03T12:09:41.627Z"
   },
   {
    "duration": 225,
    "start_time": "2025-07-03T12:09:41.633Z"
   },
   {
    "duration": 153,
    "start_time": "2025-07-03T12:09:41.860Z"
   },
   {
    "duration": 22,
    "start_time": "2025-07-03T12:09:42.015Z"
   },
   {
    "duration": 9,
    "start_time": "2025-07-03T12:09:42.039Z"
   },
   {
    "duration": 385,
    "start_time": "2025-07-03T12:09:42.050Z"
   },
   {
    "duration": 99308,
    "start_time": "2025-07-03T12:09:42.437Z"
   },
   {
    "duration": 111,
    "start_time": "2025-07-03T12:11:21.747Z"
   },
   {
    "duration": 1163,
    "start_time": "2025-07-03T12:11:21.860Z"
   },
   {
    "duration": 1037,
    "start_time": "2025-07-03T12:11:23.037Z"
   },
   {
    "duration": 33165,
    "start_time": "2025-07-03T12:11:24.076Z"
   },
   {
    "duration": 5,
    "start_time": "2025-07-03T12:11:57.243Z"
   },
   {
    "duration": 8,
    "start_time": "2025-07-03T13:02:00.012Z"
   },
   {
    "duration": 2360,
    "start_time": "2025-07-03T13:02:09.689Z"
   },
   {
    "duration": 2399,
    "start_time": "2025-07-03T13:03:58.324Z"
   },
   {
    "duration": 387,
    "start_time": "2025-07-03T13:04:00.726Z"
   },
   {
    "duration": 961,
    "start_time": "2025-07-03T13:04:01.115Z"
   },
   {
    "duration": 40,
    "start_time": "2025-07-03T13:04:02.078Z"
   },
   {
    "duration": 17,
    "start_time": "2025-07-03T13:04:02.121Z"
   },
   {
    "duration": 211,
    "start_time": "2025-07-03T13:04:02.139Z"
   },
   {
    "duration": 148,
    "start_time": "2025-07-03T13:04:02.354Z"
   },
   {
    "duration": 12,
    "start_time": "2025-07-03T13:04:02.504Z"
   },
   {
    "duration": 22,
    "start_time": "2025-07-03T13:04:02.518Z"
   },
   {
    "duration": 433,
    "start_time": "2025-07-03T13:04:02.542Z"
   },
   {
    "duration": 106324,
    "start_time": "2025-07-03T13:04:02.977Z"
   },
   {
    "duration": 118,
    "start_time": "2025-07-03T13:05:49.303Z"
   },
   {
    "duration": 1237,
    "start_time": "2025-07-03T13:05:49.423Z"
   },
   {
    "duration": 4939,
    "start_time": "2025-07-03T13:05:50.663Z"
   },
   {
    "duration": 8,
    "start_time": "2025-07-03T13:05:55.604Z"
   },
   {
    "duration": 31,
    "start_time": "2025-07-03T13:05:55.614Z"
   },
   {
    "duration": 1625060,
    "start_time": "2025-07-03T13:05:55.647Z"
   },
   {
    "duration": 10,
    "start_time": "2025-07-03T13:36:26.402Z"
   },
   {
    "duration": 554,
    "start_time": "2025-07-03T13:36:31.756Z"
   },
   {
    "duration": 20402,
    "start_time": "2025-07-03T13:36:33.272Z"
   },
   {
    "duration": 5,
    "start_time": "2025-07-03T13:36:53.677Z"
   },
   {
    "duration": 610,
    "start_time": "2025-07-03T13:38:46.852Z"
   },
   {
    "duration": 20344,
    "start_time": "2025-07-03T13:38:50.012Z"
   },
   {
    "duration": 5,
    "start_time": "2025-07-03T13:39:44.285Z"
   },
   {
    "duration": 5,
    "start_time": "2025-07-03T13:39:52.106Z"
   },
   {
    "duration": 34614,
    "start_time": "2025-07-03T13:43:45.378Z"
   },
   {
    "duration": 4125,
    "start_time": "2025-07-03T13:44:19.994Z"
   },
   {
    "duration": 58,
    "start_time": "2025-07-03T13:44:24.121Z"
   },
   {
    "duration": 48,
    "start_time": "2025-07-03T13:45:02.514Z"
   },
   {
    "duration": 34558,
    "start_time": "2025-07-03T13:45:59.493Z"
   },
   {
    "duration": 74,
    "start_time": "2025-07-03T13:57:30.787Z"
   },
   {
    "duration": 9,
    "start_time": "2025-07-03T14:14:27.247Z"
   },
   {
    "duration": 3,
    "start_time": "2025-07-03T14:19:33.290Z"
   },
   {
    "duration": 3,
    "start_time": "2025-07-03T14:23:02.430Z"
   },
   {
    "duration": 266,
    "start_time": "2025-07-03T14:43:20.103Z"
   },
   {
    "duration": 3,
    "start_time": "2025-07-03T15:22:05.517Z"
   },
   {
    "duration": 129,
    "start_time": "2025-07-03T15:22:06.173Z"
   },
   {
    "duration": 86,
    "start_time": "2025-07-03T15:22:15.383Z"
   },
   {
    "duration": 4,
    "start_time": "2025-07-03T15:22:22.861Z"
   },
   {
    "duration": 15,
    "start_time": "2025-07-03T15:22:24.518Z"
   },
   {
    "duration": 5,
    "start_time": "2025-07-03T15:22:57.171Z"
   },
   {
    "duration": 3796193,
    "start_time": "2025-07-03T15:22:57.785Z"
   },
   {
    "duration": 8,
    "start_time": "2025-07-03T16:29:14.119Z"
   },
   {
    "duration": 7,
    "start_time": "2025-07-03T16:30:40.656Z"
   },
   {
    "duration": 8,
    "start_time": "2025-07-03T16:30:52.889Z"
   },
   {
    "duration": 5,
    "start_time": "2025-07-03T16:33:09.471Z"
   },
   {
    "duration": 912,
    "start_time": "2025-07-04T11:03:21.090Z"
   },
   {
    "duration": 0,
    "start_time": "2025-07-04T11:03:22.004Z"
   },
   {
    "duration": 0,
    "start_time": "2025-07-04T11:03:22.005Z"
   },
   {
    "duration": 0,
    "start_time": "2025-07-04T11:03:22.007Z"
   },
   {
    "duration": 0,
    "start_time": "2025-07-04T11:03:22.007Z"
   },
   {
    "duration": 0,
    "start_time": "2025-07-04T11:03:22.008Z"
   },
   {
    "duration": 0,
    "start_time": "2025-07-04T11:03:22.009Z"
   },
   {
    "duration": 0,
    "start_time": "2025-07-04T11:03:22.010Z"
   },
   {
    "duration": 0,
    "start_time": "2025-07-04T11:03:22.011Z"
   },
   {
    "duration": 0,
    "start_time": "2025-07-04T11:03:22.012Z"
   },
   {
    "duration": 0,
    "start_time": "2025-07-04T11:03:22.013Z"
   },
   {
    "duration": 0,
    "start_time": "2025-07-04T11:03:22.014Z"
   },
   {
    "duration": 0,
    "start_time": "2025-07-04T11:03:22.036Z"
   },
   {
    "duration": 0,
    "start_time": "2025-07-04T11:03:22.037Z"
   },
   {
    "duration": 0,
    "start_time": "2025-07-04T11:03:22.038Z"
   },
   {
    "duration": 0,
    "start_time": "2025-07-04T11:03:22.039Z"
   },
   {
    "duration": 0,
    "start_time": "2025-07-04T11:03:22.040Z"
   },
   {
    "duration": 0,
    "start_time": "2025-07-04T11:03:22.041Z"
   },
   {
    "duration": 0,
    "start_time": "2025-07-04T11:03:22.043Z"
   },
   {
    "duration": 0,
    "start_time": "2025-07-04T11:03:22.045Z"
   },
   {
    "duration": 0,
    "start_time": "2025-07-04T11:03:22.047Z"
   },
   {
    "duration": 0,
    "start_time": "2025-07-04T11:03:22.049Z"
   },
   {
    "duration": 0,
    "start_time": "2025-07-04T11:03:22.050Z"
   },
   {
    "duration": 0,
    "start_time": "2025-07-04T11:03:22.052Z"
   },
   {
    "duration": 1,
    "start_time": "2025-07-04T11:03:22.053Z"
   },
   {
    "duration": 0,
    "start_time": "2025-07-04T11:03:22.056Z"
   },
   {
    "duration": 7431,
    "start_time": "2025-07-04T11:03:51.669Z"
   },
   {
    "duration": 1198,
    "start_time": "2025-07-04T11:03:59.102Z"
   },
   {
    "duration": 51,
    "start_time": "2025-07-04T11:04:00.302Z"
   },
   {
    "duration": 4,
    "start_time": "2025-07-04T11:04:00.357Z"
   },
   {
    "duration": 211,
    "start_time": "2025-07-04T11:04:00.363Z"
   },
   {
    "duration": 94,
    "start_time": "2025-07-04T11:04:00.576Z"
   },
   {
    "duration": 11,
    "start_time": "2025-07-04T11:04:00.672Z"
   },
   {
    "duration": 10,
    "start_time": "2025-07-04T11:04:00.685Z"
   },
   {
    "duration": 233,
    "start_time": "2025-07-04T11:04:00.696Z"
   },
   {
    "duration": 97739,
    "start_time": "2025-07-04T11:04:00.936Z"
   },
   {
    "duration": 115,
    "start_time": "2025-07-04T11:05:38.677Z"
   },
   {
    "duration": 1476,
    "start_time": "2025-07-04T11:05:38.793Z"
   },
   {
    "duration": 4256,
    "start_time": "2025-07-04T11:05:40.270Z"
   },
   {
    "duration": 13,
    "start_time": "2025-07-04T11:05:44.528Z"
   },
   {
    "duration": 10,
    "start_time": "2025-07-04T11:05:44.543Z"
   },
   {
    "duration": 1490418,
    "start_time": "2025-07-04T11:05:44.555Z"
   },
   {
    "duration": 8,
    "start_time": "2025-07-04T11:30:34.975Z"
   },
   {
    "duration": 32610,
    "start_time": "2025-07-04T11:30:34.984Z"
   },
   {
    "duration": 3920,
    "start_time": "2025-07-04T11:31:07.596Z"
   },
   {
    "duration": 51,
    "start_time": "2025-07-04T11:31:11.517Z"
   },
   {
    "duration": 77,
    "start_time": "2025-07-04T11:31:11.570Z"
   },
   {
    "duration": 124,
    "start_time": "2025-07-04T11:31:11.649Z"
   },
   {
    "duration": 0,
    "start_time": "2025-07-04T11:31:11.775Z"
   },
   {
    "duration": 0,
    "start_time": "2025-07-04T11:31:11.776Z"
   },
   {
    "duration": 0,
    "start_time": "2025-07-04T11:31:11.778Z"
   },
   {
    "duration": 0,
    "start_time": "2025-07-04T11:31:11.779Z"
   },
   {
    "duration": 96,
    "start_time": "2025-07-04T11:33:48.801Z"
   },
   {
    "duration": 3,
    "start_time": "2025-07-04T11:34:06.670Z"
   },
   {
    "duration": 2,
    "start_time": "2025-07-04T11:34:08.222Z"
   },
   {
    "duration": 4,
    "start_time": "2025-07-04T11:34:08.781Z"
   },
   {
    "duration": 164,
    "start_time": "2025-07-04T11:34:09.563Z"
   },
   {
    "duration": 5,
    "start_time": "2025-07-04T11:35:38.853Z"
   },
   {
    "duration": 274,
    "start_time": "2025-07-04T11:35:39.555Z"
   },
   {
    "duration": 4,
    "start_time": "2025-07-04T11:35:54.607Z"
   },
   {
    "duration": 94,
    "start_time": "2025-07-04T11:42:52.438Z"
   },
   {
    "duration": 5,
    "start_time": "2025-07-04T11:42:52.752Z"
   },
   {
    "duration": 274,
    "start_time": "2025-07-04T11:43:01.914Z"
   },
   {
    "duration": 3,
    "start_time": "2025-07-04T11:44:44.172Z"
   },
   {
    "duration": 4,
    "start_time": "2025-07-04T11:44:45.246Z"
   },
   {
    "duration": 4,
    "start_time": "2025-07-04T11:44:46.073Z"
   },
   {
    "duration": 54,
    "start_time": "2025-07-04T11:44:46.804Z"
   },
   {
    "duration": 5,
    "start_time": "2025-07-04T11:45:11.953Z"
   },
   {
    "duration": 6,
    "start_time": "2025-07-04T11:45:12.254Z"
   },
   {
    "duration": 7,
    "start_time": "2025-07-04T11:45:12.539Z"
   },
   {
    "duration": 40,
    "start_time": "2025-07-04T11:45:13.170Z"
   },
   {
    "duration": 5,
    "start_time": "2025-07-04T11:46:07.185Z"
   },
   {
    "duration": 45,
    "start_time": "2025-07-04T11:46:07.844Z"
   },
   {
    "duration": 4,
    "start_time": "2025-07-04T11:56:38.805Z"
   },
   {
    "duration": 5242,
    "start_time": "2025-07-04T11:56:41.152Z"
   },
   {
    "duration": 4,
    "start_time": "2025-07-04T11:58:08.863Z"
   },
   {
    "duration": 41,
    "start_time": "2025-07-04T11:58:09.252Z"
   },
   {
    "duration": 4,
    "start_time": "2025-07-04T11:59:24.686Z"
   },
   {
    "duration": 38,
    "start_time": "2025-07-04T11:59:25.158Z"
   },
   {
    "duration": 5,
    "start_time": "2025-07-04T11:59:47.157Z"
   },
   {
    "duration": 10,
    "start_time": "2025-07-04T12:01:14.026Z"
   },
   {
    "duration": 4,
    "start_time": "2025-07-04T12:01:22.613Z"
   },
   {
    "duration": 37,
    "start_time": "2025-07-04T12:01:47.785Z"
   },
   {
    "duration": 4,
    "start_time": "2025-07-04T12:07:09.229Z"
   },
   {
    "duration": 60630,
    "start_time": "2025-07-04T12:07:10.136Z"
   },
   {
    "duration": 4,
    "start_time": "2025-07-04T12:10:19.826Z"
   },
   {
    "duration": 3,
    "start_time": "2025-07-04T12:10:56.921Z"
   },
   {
    "duration": 4,
    "start_time": "2025-07-04T12:10:57.352Z"
   },
   {
    "duration": 3,
    "start_time": "2025-07-04T12:10:57.816Z"
   },
   {
    "duration": 3,
    "start_time": "2025-07-04T12:10:59.703Z"
   },
   {
    "duration": 61380,
    "start_time": "2025-07-04T12:11:01.761Z"
   },
   {
    "duration": 5,
    "start_time": "2025-07-04T12:14:02.786Z"
   },
   {
    "duration": 3,
    "start_time": "2025-07-04T12:14:16.419Z"
   },
   {
    "duration": 3,
    "start_time": "2025-07-04T12:14:17.290Z"
   },
   {
    "duration": 5,
    "start_time": "2025-07-04T12:14:17.534Z"
   },
   {
    "duration": 3,
    "start_time": "2025-07-04T12:14:20.762Z"
   },
   {
    "duration": 5,
    "start_time": "2025-07-04T12:14:29.028Z"
   },
   {
    "duration": 6,
    "start_time": "2025-07-04T12:14:50.931Z"
   },
   {
    "duration": 4,
    "start_time": "2025-07-04T12:14:58.119Z"
   },
   {
    "duration": 10,
    "start_time": "2025-07-04T12:15:05.166Z"
   },
   {
    "duration": 5,
    "start_time": "2025-07-04T12:15:12.224Z"
   },
   {
    "duration": 60,
    "start_time": "2025-07-04T12:17:24.994Z"
   },
   {
    "duration": 62,
    "start_time": "2025-07-04T12:18:04.851Z"
   },
   {
    "duration": 5,
    "start_time": "2025-07-04T12:18:07.263Z"
   },
   {
    "duration": 69,
    "start_time": "2025-07-04T12:18:47.640Z"
   },
   {
    "duration": 5,
    "start_time": "2025-07-04T12:18:48.007Z"
   },
   {
    "duration": 69,
    "start_time": "2025-07-04T12:19:30.973Z"
   },
   {
    "duration": 15,
    "start_time": "2025-07-04T12:20:34.102Z"
   },
   {
    "duration": 4,
    "start_time": "2025-07-04T12:20:38.551Z"
   },
   {
    "duration": 3,
    "start_time": "2025-07-04T12:20:41.725Z"
   },
   {
    "duration": 3,
    "start_time": "2025-07-04T12:20:41.998Z"
   },
   {
    "duration": 4,
    "start_time": "2025-07-04T12:20:43.783Z"
   },
   {
    "duration": 77465,
    "start_time": "2025-07-04T12:20:52.545Z"
   },
   {
    "duration": 84,
    "start_time": "2025-07-04T12:22:47.840Z"
   },
   {
    "duration": 3,
    "start_time": "2025-07-04T12:23:00.767Z"
   },
   {
    "duration": 13494,
    "start_time": "2025-07-04T12:23:02.864Z"
   },
   {
    "duration": 5,
    "start_time": "2025-07-04T12:52:10.788Z"
   },
   {
    "duration": 54,
    "start_time": "2025-07-04T12:52:17.772Z"
   },
   {
    "duration": 3,
    "start_time": "2025-07-04T12:55:25.998Z"
   },
   {
    "duration": 5298,
    "start_time": "2025-07-04T12:55:30.784Z"
   },
   {
    "duration": 4,
    "start_time": "2025-07-04T12:58:10.429Z"
   },
   {
    "duration": 6,
    "start_time": "2025-07-04T12:58:11.340Z"
   },
   {
    "duration": 40,
    "start_time": "2025-07-04T12:58:13.027Z"
   },
   {
    "duration": 3,
    "start_time": "2025-07-04T12:58:38.460Z"
   },
   {
    "duration": 2694,
    "start_time": "2025-07-04T12:58:40.296Z"
   },
   {
    "duration": 3541087,
    "start_time": "2025-07-04T12:58:57.396Z"
   },
   {
    "duration": 320,
    "start_time": "2025-07-04T13:59:04.215Z"
   },
   {
    "duration": 17,
    "start_time": "2025-07-04T14:00:25.749Z"
   },
   {
    "duration": 198964,
    "start_time": "2025-07-04T14:00:52.108Z"
   },
   {
    "duration": 10,
    "start_time": "2025-07-04T14:21:59.796Z"
   },
   {
    "duration": 78,
    "start_time": "2025-07-04T14:22:02.601Z"
   },
   {
    "duration": 3437,
    "start_time": "2025-07-04T14:22:03.882Z"
   },
   {
    "duration": 0,
    "start_time": "2025-07-04T14:22:07.321Z"
   },
   {
    "duration": 4059,
    "start_time": "2025-07-04T14:22:22.658Z"
   },
   {
    "duration": 862,
    "start_time": "2025-07-04T14:22:27.464Z"
   },
   {
    "duration": 33,
    "start_time": "2025-07-04T14:24:45.353Z"
   },
   {
    "duration": 3,
    "start_time": "2025-07-04T14:24:53.270Z"
   },
   {
    "duration": 34,
    "start_time": "2025-07-04T14:24:53.559Z"
   },
   {
    "duration": 4,
    "start_time": "2025-07-04T14:25:54.179Z"
   },
   {
    "duration": 3,
    "start_time": "2025-07-04T14:25:54.590Z"
   },
   {
    "duration": 190000,
    "start_time": "2025-07-04T14:25:56.779Z"
   },
   {
    "duration": 4,
    "start_time": "2025-07-04T14:30:04.145Z"
   },
   {
    "duration": 3,
    "start_time": "2025-07-04T14:30:05.774Z"
   },
   {
    "duration": 203113,
    "start_time": "2025-07-04T14:30:07.282Z"
   },
   {
    "duration": 6,
    "start_time": "2025-07-04T14:33:36.405Z"
   },
   {
    "duration": 5,
    "start_time": "2025-07-04T14:37:03.671Z"
   },
   {
    "duration": 6,
    "start_time": "2025-07-04T14:37:15.664Z"
   },
   {
    "duration": 6,
    "start_time": "2025-07-04T14:37:32.822Z"
   },
   {
    "duration": 8,
    "start_time": "2025-07-04T14:37:35.542Z"
   },
   {
    "duration": 9,
    "start_time": "2025-07-04T14:37:40.250Z"
   },
   {
    "duration": 5,
    "start_time": "2025-07-04T14:37:45.088Z"
   },
   {
    "duration": 4,
    "start_time": "2025-07-04T14:43:54.191Z"
   },
   {
    "duration": 4,
    "start_time": "2025-07-04T14:43:54.930Z"
   },
   {
    "duration": 426116,
    "start_time": "2025-07-04T14:43:58.698Z"
   },
   {
    "duration": 5,
    "start_time": "2025-07-04T14:51:04.815Z"
   },
   {
    "duration": 10,
    "start_time": "2025-07-04T15:01:46.312Z"
   },
   {
    "duration": 1868,
    "start_time": "2025-07-04T15:02:50.189Z"
   },
   {
    "duration": 1053,
    "start_time": "2025-07-04T15:02:52.060Z"
   },
   {
    "duration": 58,
    "start_time": "2025-07-04T15:02:53.114Z"
   },
   {
    "duration": 16,
    "start_time": "2025-07-04T15:02:53.174Z"
   },
   {
    "duration": 222,
    "start_time": "2025-07-04T15:02:53.192Z"
   },
   {
    "duration": 101,
    "start_time": "2025-07-04T15:02:53.416Z"
   },
   {
    "duration": 20,
    "start_time": "2025-07-04T15:02:53.518Z"
   },
   {
    "duration": 11,
    "start_time": "2025-07-04T15:02:53.540Z"
   },
   {
    "duration": 240,
    "start_time": "2025-07-04T15:02:53.554Z"
   },
   {
    "duration": 98381,
    "start_time": "2025-07-04T15:02:53.795Z"
   },
   {
    "duration": 105,
    "start_time": "2025-07-04T15:04:32.178Z"
   },
   {
    "duration": 1491,
    "start_time": "2025-07-04T15:04:32.284Z"
   },
   {
    "duration": 4626,
    "start_time": "2025-07-04T15:04:33.777Z"
   },
   {
    "duration": 8,
    "start_time": "2025-07-04T15:04:38.406Z"
   },
   {
    "duration": 11,
    "start_time": "2025-07-04T15:04:38.415Z"
   },
   {
    "duration": 1536947,
    "start_time": "2025-07-04T15:04:38.435Z"
   },
   {
    "duration": 8,
    "start_time": "2025-07-04T15:30:15.384Z"
   },
   {
    "duration": 34385,
    "start_time": "2025-07-04T15:30:15.394Z"
   },
   {
    "duration": 4063,
    "start_time": "2025-07-04T15:30:49.780Z"
   },
   {
    "duration": 39,
    "start_time": "2025-07-04T15:30:53.845Z"
   },
   {
    "duration": 91,
    "start_time": "2025-07-04T15:30:53.885Z"
   },
   {
    "duration": 142,
    "start_time": "2025-07-04T15:30:53.978Z"
   },
   {
    "duration": 0,
    "start_time": "2025-07-04T15:30:54.121Z"
   },
   {
    "duration": 0,
    "start_time": "2025-07-04T15:30:54.122Z"
   },
   {
    "duration": 0,
    "start_time": "2025-07-04T15:30:54.123Z"
   },
   {
    "duration": 0,
    "start_time": "2025-07-04T15:30:54.136Z"
   },
   {
    "duration": 0,
    "start_time": "2025-07-04T15:30:54.137Z"
   },
   {
    "duration": 0,
    "start_time": "2025-07-04T15:30:54.139Z"
   },
   {
    "duration": 0,
    "start_time": "2025-07-04T15:30:54.140Z"
   },
   {
    "duration": 0,
    "start_time": "2025-07-04T15:30:54.142Z"
   },
   {
    "duration": 0,
    "start_time": "2025-07-04T15:30:54.396Z"
   },
   {
    "duration": 0,
    "start_time": "2025-07-04T15:30:54.397Z"
   },
   {
    "duration": 0,
    "start_time": "2025-07-04T15:30:54.398Z"
   },
   {
    "duration": 0,
    "start_time": "2025-07-04T15:30:54.399Z"
   },
   {
    "duration": 0,
    "start_time": "2025-07-04T15:30:54.399Z"
   },
   {
    "duration": 4211,
    "start_time": "2025-07-04T15:31:15.160Z"
   },
   {
    "duration": 1008,
    "start_time": "2025-07-04T15:31:19.373Z"
   },
   {
    "duration": 3,
    "start_time": "2025-07-04T15:31:20.383Z"
   },
   {
    "duration": 137,
    "start_time": "2025-07-04T15:31:20.388Z"
   },
   {
    "duration": 5,
    "start_time": "2025-07-04T15:31:20.527Z"
   },
   {
    "duration": 202329,
    "start_time": "2025-07-04T15:31:20.533Z"
   },
   {
    "duration": 6,
    "start_time": "2025-07-04T15:34:42.864Z"
   },
   {
    "duration": 21,
    "start_time": "2025-07-04T15:34:42.872Z"
   },
   {
    "duration": 37,
    "start_time": "2025-07-04T15:34:42.895Z"
   },
   {
    "duration": 430675,
    "start_time": "2025-07-04T15:34:42.934Z"
   },
   {
    "duration": 6,
    "start_time": "2025-07-04T15:41:53.610Z"
   },
   {
    "duration": 36,
    "start_time": "2025-07-04T15:41:53.618Z"
   },
   {
    "duration": 14,
    "start_time": "2025-07-04T15:41:53.658Z"
   },
   {
    "duration": 70,
    "start_time": "2025-07-04T18:04:38.560Z"
   },
   {
    "duration": 39,
    "start_time": "2025-07-04T18:05:01.125Z"
   },
   {
    "duration": 15,
    "start_time": "2025-07-04T18:05:08.407Z"
   },
   {
    "duration": 46,
    "start_time": "2025-07-04T18:06:21.638Z"
   },
   {
    "duration": 18,
    "start_time": "2025-07-04T18:06:39.168Z"
   },
   {
    "duration": 46,
    "start_time": "2025-07-04T19:20:46.351Z"
   },
   {
    "duration": 38,
    "start_time": "2025-07-04T19:21:10.369Z"
   },
   {
    "duration": 44,
    "start_time": "2025-07-04T19:21:21.739Z"
   },
   {
    "duration": 54,
    "start_time": "2025-07-04T19:21:32.335Z"
   },
   {
    "duration": 66,
    "start_time": "2025-07-04T19:34:06.590Z"
   },
   {
    "duration": 58,
    "start_time": "2025-07-04T19:34:45.100Z"
   },
   {
    "duration": 31731,
    "start_time": "2025-07-04T19:45:53.952Z"
   },
   {
    "duration": 4027,
    "start_time": "2025-07-04T19:46:25.685Z"
   },
   {
    "duration": 57,
    "start_time": "2025-07-04T19:46:29.714Z"
   },
   {
    "duration": 31822,
    "start_time": "2025-07-04T19:46:29.773Z"
   },
   {
    "duration": 3909,
    "start_time": "2025-07-04T19:47:01.597Z"
   },
   {
    "duration": 47,
    "start_time": "2025-07-04T19:47:05.507Z"
   },
   {
    "duration": 35,
    "start_time": "2025-07-04T19:47:16.869Z"
   },
   {
    "duration": 56,
    "start_time": "2025-07-04T19:47:23.134Z"
   },
   {
    "duration": 46,
    "start_time": "2025-07-04T19:48:37.069Z"
   },
   {
    "duration": 4273,
    "start_time": "2025-07-04T19:48:51.623Z"
   },
   {
    "duration": 377,
    "start_time": "2025-07-04T19:48:55.898Z"
   },
   {
    "duration": 10,
    "start_time": "2025-07-04T19:48:56.277Z"
   },
   {
    "duration": 21,
    "start_time": "2025-07-04T20:01:27.968Z"
   },
   {
    "duration": 16,
    "start_time": "2025-07-04T20:01:55.968Z"
   },
   {
    "duration": 13441,
    "start_time": "2025-07-05T07:01:18.917Z"
   },
   {
    "duration": 914,
    "start_time": "2025-07-05T07:01:32.360Z"
   },
   {
    "duration": 40,
    "start_time": "2025-07-05T07:01:33.276Z"
   },
   {
    "duration": 3,
    "start_time": "2025-07-05T07:01:33.318Z"
   },
   {
    "duration": 216,
    "start_time": "2025-07-05T07:01:33.323Z"
   },
   {
    "duration": 158,
    "start_time": "2025-07-05T07:01:33.540Z"
   },
   {
    "duration": 138,
    "start_time": "2025-07-05T07:01:33.699Z"
   },
   {
    "duration": 244,
    "start_time": "2025-07-05T07:01:33.838Z"
   },
   {
    "duration": 104149,
    "start_time": "2025-07-05T07:01:34.084Z"
   },
   {
    "duration": 110,
    "start_time": "2025-07-05T07:03:18.235Z"
   },
   {
    "duration": 1428,
    "start_time": "2025-07-05T07:03:18.347Z"
   },
   {
    "duration": 5197,
    "start_time": "2025-07-05T07:03:19.777Z"
   },
   {
    "duration": 8,
    "start_time": "2025-07-05T07:03:24.976Z"
   },
   {
    "duration": 45,
    "start_time": "2025-07-05T07:03:24.987Z"
   },
   {
    "duration": 1569012,
    "start_time": "2025-07-05T07:03:25.033Z"
   },
   {
    "duration": 27,
    "start_time": "2025-07-05T07:29:34.047Z"
   },
   {
    "duration": 34924,
    "start_time": "2025-07-05T07:29:34.075Z"
   },
   {
    "duration": 4170,
    "start_time": "2025-07-05T07:30:09.000Z"
   },
   {
    "duration": 37,
    "start_time": "2025-07-05T07:30:13.172Z"
   },
   {
    "duration": 31121,
    "start_time": "2025-07-05T07:30:13.210Z"
   },
   {
    "duration": 3888,
    "start_time": "2025-07-05T07:30:44.333Z"
   },
   {
    "duration": 54,
    "start_time": "2025-07-05T07:30:48.222Z"
   },
   {
    "duration": 4152,
    "start_time": "2025-07-05T07:30:48.278Z"
   },
   {
    "duration": 350,
    "start_time": "2025-07-05T07:30:52.431Z"
   },
   {
    "duration": 12,
    "start_time": "2025-07-05T07:30:52.782Z"
   },
   {
    "duration": 87,
    "start_time": "2025-07-05T07:30:52.796Z"
   },
   {
    "duration": 4660,
    "start_time": "2025-07-05T07:30:52.885Z"
   },
   {
    "duration": 962,
    "start_time": "2025-07-05T07:30:57.547Z"
   },
   {
    "duration": 4,
    "start_time": "2025-07-05T07:30:58.510Z"
   },
   {
    "duration": 24,
    "start_time": "2025-07-05T07:30:58.515Z"
   },
   {
    "duration": 195189,
    "start_time": "2025-07-05T07:30:58.541Z"
   },
   {
    "duration": 5,
    "start_time": "2025-07-05T07:34:13.732Z"
   },
   {
    "duration": 7,
    "start_time": "2025-07-05T07:34:13.738Z"
   },
   {
    "duration": 14,
    "start_time": "2025-07-05T07:34:13.747Z"
   },
   {
    "duration": 453985,
    "start_time": "2025-07-05T07:34:13.764Z"
   },
   {
    "duration": 14,
    "start_time": "2025-07-05T07:41:47.751Z"
   },
   {
    "duration": 20,
    "start_time": "2025-07-05T07:41:47.767Z"
   },
   {
    "duration": 15,
    "start_time": "2025-07-05T07:41:47.788Z"
   }
  ],
  "kernelspec": {
   "display_name": "Python [conda env:practicum]",
   "language": "python",
   "name": "conda-env-practicum-py"
  },
  "language_info": {
   "codemirror_mode": {
    "name": "ipython",
    "version": 3
   },
   "file_extension": ".py",
   "mimetype": "text/x-python",
   "name": "python",
   "nbconvert_exporter": "python",
   "pygments_lexer": "ipython3",
   "version": "3.9.23"
  },
  "toc": {
   "base_numbering": 1,
   "nav_menu": {},
   "number_sections": true,
   "sideBar": true,
   "skip_h1_title": true,
   "title_cell": "Содержание",
   "title_sidebar": "Contents",
   "toc_cell": true,
   "toc_position": {
    "height": "calc(100% - 180px)",
    "left": "10px",
    "top": "150px",
    "width": "302.391px"
   },
   "toc_section_display": true,
   "toc_window_display": true
  }
 },
 "nbformat": 4,
 "nbformat_minor": 4
}
