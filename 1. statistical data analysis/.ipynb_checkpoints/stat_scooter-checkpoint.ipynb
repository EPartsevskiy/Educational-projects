{
 "cells": [
  {
   "cell_type": "markdown",
   "id": "5caaf264",
   "metadata": {},
   "source": [
    "# Статистический анализ данных пользователей сервиса аренды электросамокатов"
   ]
  },
  {
   "cell_type": "markdown",
   "id": "aff263e9",
   "metadata": {
    "toc": true
   },
   "source": [
    "<h1>Содержание<span class=\"tocSkip\"></span></h1>\n",
    "<div class=\"toc\"><ul class=\"toc-item\"><li><span><a href=\"#Загрузка-данных\" data-toc-modified-id=\"Загрузка-данных-1\"><span class=\"toc-item-num\">1&nbsp;&nbsp;</span>Загрузка данных</a></span><ul class=\"toc-item\"><li><span><a href=\"#Загрузка-датафреймов\" data-toc-modified-id=\"Загрузка-датафреймов-1.1\"><span class=\"toc-item-num\">1.1&nbsp;&nbsp;</span>Загрузка датафреймов</a></span></li><li><span><a href=\"#Первичное-знакомство-с-данными\" data-toc-modified-id=\"Первичное-знакомство-с-данными-1.2\"><span class=\"toc-item-num\">1.2&nbsp;&nbsp;</span>Первичное знакомство с данными</a></span></li></ul></li><li><span><a href=\"#Предобработка-данных\" data-toc-modified-id=\"Предобработка-данных-2\"><span class=\"toc-item-num\">2&nbsp;&nbsp;</span>Предобработка данных</a></span><ul class=\"toc-item\"><li><span><a href=\"#Приведение-столбца-'date'-к-типу-даты\" data-toc-modified-id=\"Приведение-столбца-'date'-к-типу-даты-2.1\"><span class=\"toc-item-num\">2.1&nbsp;&nbsp;</span>Приведение столбца 'date' к типу даты</a></span></li><li><span><a href=\"#Создание-нового-столбца-с-номером-месяца\" data-toc-modified-id=\"Создание-нового-столбца-с-номером-месяца-2.2\"><span class=\"toc-item-num\">2.2&nbsp;&nbsp;</span>Создание нового столбца с номером месяца</a></span></li><li><span><a href=\"#Обработка-пропущенных-значений-и-дубликатов\" data-toc-modified-id=\"Обработка-пропущенных-значений-и-дубликатов-2.3\"><span class=\"toc-item-num\">2.3&nbsp;&nbsp;</span>Обработка пропущенных значений и дубликатов</a></span></li></ul></li><li><span><a href=\"#Исследовательский-анализ-данных\" data-toc-modified-id=\"Исследовательский-анализ-данных-3\"><span class=\"toc-item-num\">3&nbsp;&nbsp;</span>Исследовательский анализ данных</a></span><ul class=\"toc-item\"><li><span><a href=\"#Описание-и-визуализация-частоты-встречаемости-городов\" data-toc-modified-id=\"Описание-и-визуализация-частоты-встречаемости-городов-3.1\"><span class=\"toc-item-num\">3.1&nbsp;&nbsp;</span>Описание и визуализация частоты встречаемости городов</a></span></li><li><span><a href=\"#Описание-и-визуализация-соотношения-пользователей-с-подпиской-и-без-подписки\" data-toc-modified-id=\"Описание-и-визуализация-соотношения-пользователей-с-подпиской-и-без-подписки-3.2\"><span class=\"toc-item-num\">3.2&nbsp;&nbsp;</span>Описание и визуализация соотношения пользователей с подпиской и без подписки</a></span></li><li><span><a href=\"#Описание-и-визуализация-возраста-пользователей\" data-toc-modified-id=\"Описание-и-визуализация-возраста-пользователей-3.3\"><span class=\"toc-item-num\">3.3&nbsp;&nbsp;</span>Описание и визуализация возраста пользователей</a></span></li><li><span><a href=\"#Описание-и-визуализация-расстояния,-которое-пользователь-преодолел-за-одну-поездку\" data-toc-modified-id=\"Описание-и-визуализация-расстояния,-которое-пользователь-преодолел-за-одну-поездку-3.4\"><span class=\"toc-item-num\">3.4&nbsp;&nbsp;</span>Описание и визуализация расстояния, которое пользователь преодолел за одну поездку</a></span></li><li><span><a href=\"#Описание-и-визуализация-продолжительности-поездок\" data-toc-modified-id=\"Описание-и-визуализация-продолжительности-поездок-3.5\"><span class=\"toc-item-num\">3.5&nbsp;&nbsp;</span>Описание и визуализация продолжительности поездок</a></span></li></ul></li><li><span><a href=\"#Объединение-данных\" data-toc-modified-id=\"Объединение-данных-4\"><span class=\"toc-item-num\">4&nbsp;&nbsp;</span>Объединение данных</a></span><ul class=\"toc-item\"><li><span><a href=\"#Объединение-данных-о-пользователях,-поездках-и-подписках-в-один-датафрейм\" data-toc-modified-id=\"Объединение-данных-о-пользователях,-поездках-и-подписках-в-один-датафрейм-4.1\"><span class=\"toc-item-num\">4.1&nbsp;&nbsp;</span>Объединение данных о пользователях, поездках и подписках в один датафрейм</a></span></li><li><span><a href=\"#Создание-новых-датафреймов\" data-toc-modified-id=\"Создание-новых-датафреймов-4.2\"><span class=\"toc-item-num\">4.2&nbsp;&nbsp;</span>Создание новых датафреймов</a></span></li><li><span><a href=\"#Визуализация-информации-о-расстоянии-и-времени-поездок-для-пользователей-обеих-категорий\" data-toc-modified-id=\"Визуализация-информации-о-расстоянии-и-времени-поездок-для-пользователей-обеих-категорий-4.3\"><span class=\"toc-item-num\">4.3&nbsp;&nbsp;</span>Визуализация информации о расстоянии и времени поездок для пользователей обеих категорий</a></span></li></ul></li><li><span><a href=\"#Подсчёт-выручки\" data-toc-modified-id=\"Подсчёт-выручки-5\"><span class=\"toc-item-num\">5&nbsp;&nbsp;</span>Подсчёт выручки</a></span><ul class=\"toc-item\"><li><span><a href=\"#Создание-датафрейма-с-агрегированными-данными-о-поездках\" data-toc-modified-id=\"Создание-датафрейма-с-агрегированными-данными-о-поездках-5.1\"><span class=\"toc-item-num\">5.1&nbsp;&nbsp;</span>Создание датафрейма с агрегированными данными о поездках</a></span></li><li><span><a href=\"#Добавление-столбца-с-помесячной-выручкой\" data-toc-modified-id=\"Добавление-столбца-с-помесячной-выручкой-5.2\"><span class=\"toc-item-num\">5.2&nbsp;&nbsp;</span>Добавление столбца с помесячной выручкой</a></span></li></ul></li><li><span><a href=\"#Проверка-гипотез\" data-toc-modified-id=\"Проверка-гипотез-6\"><span class=\"toc-item-num\">6&nbsp;&nbsp;</span>Проверка гипотез</a></span><ul class=\"toc-item\"><li><span><a href=\"#Гипотеза-о-продолжительности-поездок-пользователей-с-подпиской-и-без-нее\" data-toc-modified-id=\"Гипотеза-о-продолжительности-поездок-пользователей-с-подпиской-и-без-нее-6.1\"><span class=\"toc-item-num\">6.1&nbsp;&nbsp;</span>Гипотеза о продолжительности поездок пользователей с подпиской и без нее</a></span></li><li><span><a href=\"#Гипотеза-о-среднем-расстоянии-поездок-пользователей-с-подпиской\" data-toc-modified-id=\"Гипотеза-о-среднем-расстоянии-поездок-пользователей-с-подпиской-6.2\"><span class=\"toc-item-num\">6.2&nbsp;&nbsp;</span>Гипотеза о среднем расстоянии поездок пользователей с подпиской</a></span></li><li><span><a href=\"#Гипотеза-о-помесячной-выручке-по-разным-пользователям\" data-toc-modified-id=\"Гипотеза-о-помесячной-выручке-по-разным-пользователям-6.3\"><span class=\"toc-item-num\">6.3&nbsp;&nbsp;</span>Гипотеза о помесячной выручке по разным пользователям</a></span></li><li><span><a href=\"#Гипотеза-о-количестве-обращений-в-техподдержку\" data-toc-modified-id=\"Гипотеза-о-количестве-обращений-в-техподдержку-6.4\"><span class=\"toc-item-num\">6.4&nbsp;&nbsp;</span>Гипотеза о количестве обращений в техподдержку</a></span></li></ul></li><li><span><a href=\"#Распределения\" data-toc-modified-id=\"Распределения-7\"><span class=\"toc-item-num\">7&nbsp;&nbsp;</span>Распределения</a></span><ul class=\"toc-item\"><li><span><a href=\"#Проведение-акции-с-раздачей-промокодов-на-один-бесплатный-месяц-подписки\" data-toc-modified-id=\"Проведение-акции-с-раздачей-промокодов-на-один-бесплатный-месяц-подписки-7.1\"><span class=\"toc-item-num\">7.1&nbsp;&nbsp;</span>Проведение акции с раздачей промокодов на один бесплатный месяц подписки</a></span></li><li><span><a href=\"#Рассылка-клиентам-push-уведомлений\" data-toc-modified-id=\"Рассылка-клиентам-push-уведомлений-7.2\"><span class=\"toc-item-num\">7.2&nbsp;&nbsp;</span>Рассылка клиентам push-уведомлений</a></span></li></ul></li><li><span><a href=\"#Выводы-по-проектной-работе\" data-toc-modified-id=\"Выводы-по-проектной-работе-8\"><span class=\"toc-item-num\">8&nbsp;&nbsp;</span>Выводы по проектной работе</a></span></li></ul></div>"
   ]
  },
  {
   "cell_type": "markdown",
   "id": "86bb5e43",
   "metadata": {},
   "source": [
    "**Краткая информация о проекте:**\n",
    "\n",
    "В проекте проводится анализ данных о пользователях из 8 различных городов (с подпиской и без), а также об их поездках на электросамокатах.В процессе анализа проводится:\n",
    "- Знакомство и предобработка данных;\n",
    "- Описание и визуализация данных;\n",
    "- Агрегирование данных для проведения дальнейших расчетов;\n",
    "- Проверка различных гипотез, связанных с активностью пользователей с подпиской и без.\n",
    "\n",
    "**Цель и задачи проекта:**\n",
    "- **Цель** - также провести статистический анализ рассматриваемых данных в части проверки выдвигаемых гипотез.\n",
    "- **Задачи:**\n",
    " 1. Провести загрузку данных и знакомство с ними;\n",
    " 2. Провести предобработку данных;\n",
    " 3. Провести описание и визуализацию данных;\n",
    " 4. Провести агрегацию данных для расчета выручки;\n",
    " 5. Провести расчет помесячной выручки по каждому пользователю;\n",
    " 6. Провести проверку выдвигаемых гипотез"
   ]
  },
  {
   "cell_type": "code",
   "execution_count": 1,
   "id": "72576667",
   "metadata": {},
   "outputs": [],
   "source": [
    "import os\n",
    "import pandas as pd\n",
    "import matplotlib.pyplot as plt\n",
    "import numpy as np\n",
    "from scipy import stats as st"
   ]
  },
  {
   "cell_type": "markdown",
   "id": "c42cbe00",
   "metadata": {},
   "source": [
    "## Загрузка данных"
   ]
  },
  {
   "cell_type": "code",
   "execution_count": 2,
   "id": "efd3c291-f8de-4376-b21d-4a5d50aed680",
   "metadata": {},
   "outputs": [],
   "source": [
    "for i, path in enumerate (['users_go.csv', 'rides_go.csv', 'subscriptions_go.csv']):\n",
    "    data_path = os.path.join(os.getcwd(), path)\n",
    "    if i == 0:\n",
    "        users = pd.read_csv(data_path)\n",
    "    elif i == 1:\n",
    "        rides = pd.read_csv(data_path)\n",
    "    else:\n",
    "        subs = pd.read_csv(data_path)"
   ]
  },
  {
   "cell_type": "code",
   "execution_count": 3,
   "id": "0a4692ff",
   "metadata": {},
   "outputs": [
    {
     "name": "stdout",
     "output_type": "stream",
     "text": [
      "<class 'pandas.core.frame.DataFrame'>\n",
      "RangeIndex: 1565 entries, 0 to 1564\n",
      "Data columns (total 5 columns):\n",
      " #   Column             Non-Null Count  Dtype \n",
      "---  ------             --------------  ----- \n",
      " 0   user_id            1565 non-null   int64 \n",
      " 1   name               1565 non-null   object\n",
      " 2   age                1565 non-null   int64 \n",
      " 3   city               1565 non-null   object\n",
      " 4   subscription_type  1565 non-null   object\n",
      "dtypes: int64(2), object(3)\n",
      "memory usage: 61.3+ KB\n"
     ]
    },
    {
     "data": {
      "text/html": [
       "<div>\n",
       "<style scoped>\n",
       "    .dataframe tbody tr th:only-of-type {\n",
       "        vertical-align: middle;\n",
       "    }\n",
       "\n",
       "    .dataframe tbody tr th {\n",
       "        vertical-align: top;\n",
       "    }\n",
       "\n",
       "    .dataframe thead th {\n",
       "        text-align: right;\n",
       "    }\n",
       "</style>\n",
       "<table border=\"1\" class=\"dataframe\">\n",
       "  <thead>\n",
       "    <tr style=\"text-align: right;\">\n",
       "      <th></th>\n",
       "      <th>user_id</th>\n",
       "      <th>name</th>\n",
       "      <th>age</th>\n",
       "      <th>city</th>\n",
       "      <th>subscription_type</th>\n",
       "    </tr>\n",
       "  </thead>\n",
       "  <tbody>\n",
       "    <tr>\n",
       "      <th>0</th>\n",
       "      <td>1</td>\n",
       "      <td>Кира</td>\n",
       "      <td>22</td>\n",
       "      <td>Тюмень</td>\n",
       "      <td>ultra</td>\n",
       "    </tr>\n",
       "    <tr>\n",
       "      <th>1</th>\n",
       "      <td>2</td>\n",
       "      <td>Станислав</td>\n",
       "      <td>31</td>\n",
       "      <td>Омск</td>\n",
       "      <td>ultra</td>\n",
       "    </tr>\n",
       "    <tr>\n",
       "      <th>2</th>\n",
       "      <td>3</td>\n",
       "      <td>Алексей</td>\n",
       "      <td>20</td>\n",
       "      <td>Москва</td>\n",
       "      <td>ultra</td>\n",
       "    </tr>\n",
       "    <tr>\n",
       "      <th>3</th>\n",
       "      <td>4</td>\n",
       "      <td>Константин</td>\n",
       "      <td>26</td>\n",
       "      <td>Ростов-на-Дону</td>\n",
       "      <td>ultra</td>\n",
       "    </tr>\n",
       "    <tr>\n",
       "      <th>4</th>\n",
       "      <td>5</td>\n",
       "      <td>Адель</td>\n",
       "      <td>28</td>\n",
       "      <td>Омск</td>\n",
       "      <td>ultra</td>\n",
       "    </tr>\n",
       "  </tbody>\n",
       "</table>\n",
       "</div>"
      ],
      "text/plain": [
       "   user_id        name  age            city subscription_type\n",
       "0        1        Кира   22          Тюмень             ultra\n",
       "1        2   Станислав   31            Омск             ultra\n",
       "2        3     Алексей   20          Москва             ultra\n",
       "3        4  Константин   26  Ростов-на-Дону             ultra\n",
       "4        5       Адель   28            Омск             ultra"
      ]
     },
     "metadata": {},
     "output_type": "display_data"
    }
   ],
   "source": [
    "users.info()\n",
    "display(users.head())"
   ]
  },
  {
   "cell_type": "code",
   "execution_count": 4,
   "id": "570cbbc0",
   "metadata": {},
   "outputs": [
    {
     "name": "stdout",
     "output_type": "stream",
     "text": [
      "<class 'pandas.core.frame.DataFrame'>\n",
      "RangeIndex: 18068 entries, 0 to 18067\n",
      "Data columns (total 4 columns):\n",
      " #   Column    Non-Null Count  Dtype  \n",
      "---  ------    --------------  -----  \n",
      " 0   user_id   18068 non-null  int64  \n",
      " 1   distance  18068 non-null  float64\n",
      " 2   duration  18068 non-null  float64\n",
      " 3   date      18068 non-null  object \n",
      "dtypes: float64(2), int64(1), object(1)\n",
      "memory usage: 564.8+ KB\n"
     ]
    },
    {
     "data": {
      "text/html": [
       "<div>\n",
       "<style scoped>\n",
       "    .dataframe tbody tr th:only-of-type {\n",
       "        vertical-align: middle;\n",
       "    }\n",
       "\n",
       "    .dataframe tbody tr th {\n",
       "        vertical-align: top;\n",
       "    }\n",
       "\n",
       "    .dataframe thead th {\n",
       "        text-align: right;\n",
       "    }\n",
       "</style>\n",
       "<table border=\"1\" class=\"dataframe\">\n",
       "  <thead>\n",
       "    <tr style=\"text-align: right;\">\n",
       "      <th></th>\n",
       "      <th>user_id</th>\n",
       "      <th>distance</th>\n",
       "      <th>duration</th>\n",
       "      <th>date</th>\n",
       "    </tr>\n",
       "  </thead>\n",
       "  <tbody>\n",
       "    <tr>\n",
       "      <th>0</th>\n",
       "      <td>1</td>\n",
       "      <td>4409.919140</td>\n",
       "      <td>25.599769</td>\n",
       "      <td>2021-01-01</td>\n",
       "    </tr>\n",
       "    <tr>\n",
       "      <th>1</th>\n",
       "      <td>1</td>\n",
       "      <td>2617.592153</td>\n",
       "      <td>15.816871</td>\n",
       "      <td>2021-01-18</td>\n",
       "    </tr>\n",
       "    <tr>\n",
       "      <th>2</th>\n",
       "      <td>1</td>\n",
       "      <td>754.159807</td>\n",
       "      <td>6.232113</td>\n",
       "      <td>2021-04-20</td>\n",
       "    </tr>\n",
       "    <tr>\n",
       "      <th>3</th>\n",
       "      <td>1</td>\n",
       "      <td>2694.783254</td>\n",
       "      <td>18.511000</td>\n",
       "      <td>2021-08-11</td>\n",
       "    </tr>\n",
       "    <tr>\n",
       "      <th>4</th>\n",
       "      <td>1</td>\n",
       "      <td>4028.687306</td>\n",
       "      <td>26.265803</td>\n",
       "      <td>2021-08-28</td>\n",
       "    </tr>\n",
       "  </tbody>\n",
       "</table>\n",
       "</div>"
      ],
      "text/plain": [
       "   user_id     distance   duration        date\n",
       "0        1  4409.919140  25.599769  2021-01-01\n",
       "1        1  2617.592153  15.816871  2021-01-18\n",
       "2        1   754.159807   6.232113  2021-04-20\n",
       "3        1  2694.783254  18.511000  2021-08-11\n",
       "4        1  4028.687306  26.265803  2021-08-28"
      ]
     },
     "metadata": {},
     "output_type": "display_data"
    }
   ],
   "source": [
    "rides.info()\n",
    "display(rides.head())"
   ]
  },
  {
   "cell_type": "code",
   "execution_count": 5,
   "id": "a843a5e9",
   "metadata": {},
   "outputs": [
    {
     "name": "stdout",
     "output_type": "stream",
     "text": [
      "<class 'pandas.core.frame.DataFrame'>\n",
      "RangeIndex: 2 entries, 0 to 1\n",
      "Data columns (total 4 columns):\n",
      " #   Column             Non-Null Count  Dtype \n",
      "---  ------             --------------  ----- \n",
      " 0   subscription_type  2 non-null      object\n",
      " 1   minute_price       2 non-null      int64 \n",
      " 2   start_ride_price   2 non-null      int64 \n",
      " 3   subscription_fee   2 non-null      int64 \n",
      "dtypes: int64(3), object(1)\n",
      "memory usage: 196.0+ bytes\n"
     ]
    },
    {
     "data": {
      "text/html": [
       "<div>\n",
       "<style scoped>\n",
       "    .dataframe tbody tr th:only-of-type {\n",
       "        vertical-align: middle;\n",
       "    }\n",
       "\n",
       "    .dataframe tbody tr th {\n",
       "        vertical-align: top;\n",
       "    }\n",
       "\n",
       "    .dataframe thead th {\n",
       "        text-align: right;\n",
       "    }\n",
       "</style>\n",
       "<table border=\"1\" class=\"dataframe\">\n",
       "  <thead>\n",
       "    <tr style=\"text-align: right;\">\n",
       "      <th></th>\n",
       "      <th>subscription_type</th>\n",
       "      <th>minute_price</th>\n",
       "      <th>start_ride_price</th>\n",
       "      <th>subscription_fee</th>\n",
       "    </tr>\n",
       "  </thead>\n",
       "  <tbody>\n",
       "    <tr>\n",
       "      <th>0</th>\n",
       "      <td>free</td>\n",
       "      <td>8</td>\n",
       "      <td>50</td>\n",
       "      <td>0</td>\n",
       "    </tr>\n",
       "    <tr>\n",
       "      <th>1</th>\n",
       "      <td>ultra</td>\n",
       "      <td>6</td>\n",
       "      <td>0</td>\n",
       "      <td>199</td>\n",
       "    </tr>\n",
       "  </tbody>\n",
       "</table>\n",
       "</div>"
      ],
      "text/plain": [
       "  subscription_type  minute_price  start_ride_price  subscription_fee\n",
       "0              free             8                50                 0\n",
       "1             ultra             6                 0               199"
      ]
     },
     "metadata": {},
     "output_type": "display_data"
    }
   ],
   "source": [
    "subs.info()\n",
    "display(subs.head())"
   ]
  },
  {
   "cell_type": "markdown",
   "id": "d06c14e9",
   "metadata": {},
   "source": [
    "**Выводы по 1 разделу:**\n",
    "- Датафрейм 'users' содержит данные о клиентах: id, имя, возраст, город и тип подписки;\n",
    "- Датафрейм 'rides' содержит данные о поезах: id клиента, расстояние, время использования и дата;\n",
    "- В датафрейме 'rides' есть столбец с датами поездок ('date'), тип данных которых 'object'. Для дальнейшей работы данный столбец желательно привести к типу 'datetime'.\n",
    "- Датафрейм 'subs' носит информационный характер о типах подписки: тип, цена за минуту и за старт, а также ежемесячная стоимость.\n",
    "\n",
    "Всего **1 565** пользователей и **18 068** поездок. "
   ]
  },
  {
   "cell_type": "markdown",
   "id": "e95ebca7",
   "metadata": {},
   "source": [
    "## Предобработка данных"
   ]
  },
  {
   "cell_type": "markdown",
   "id": "102089a1",
   "metadata": {},
   "source": [
    "### Приведение столбца 'date' к типу даты"
   ]
  },
  {
   "cell_type": "code",
   "execution_count": 6,
   "id": "9e5ed680",
   "metadata": {},
   "outputs": [
    {
     "name": "stdout",
     "output_type": "stream",
     "text": [
      "<class 'pandas.core.frame.DataFrame'>\n",
      "RangeIndex: 18068 entries, 0 to 18067\n",
      "Data columns (total 4 columns):\n",
      " #   Column    Non-Null Count  Dtype         \n",
      "---  ------    --------------  -----         \n",
      " 0   user_id   18068 non-null  int64         \n",
      " 1   distance  18068 non-null  float64       \n",
      " 2   duration  18068 non-null  float64       \n",
      " 3   date      18068 non-null  datetime64[ns]\n",
      "dtypes: datetime64[ns](1), float64(2), int64(1)\n",
      "memory usage: 564.8 KB\n"
     ]
    }
   ],
   "source": [
    "rides['date'] = pd.to_datetime(rides['date'], format='%Y-%m-%d')\n",
    "rides.info()"
   ]
  },
  {
   "cell_type": "markdown",
   "id": "3f31f6c8",
   "metadata": {},
   "source": [
    "### Создание нового столбца с номером месяца"
   ]
  },
  {
   "cell_type": "code",
   "execution_count": 7,
   "id": "8cc02d53",
   "metadata": {
    "scrolled": true
   },
   "outputs": [
    {
     "data": {
      "text/html": [
       "<div>\n",
       "<style scoped>\n",
       "    .dataframe tbody tr th:only-of-type {\n",
       "        vertical-align: middle;\n",
       "    }\n",
       "\n",
       "    .dataframe tbody tr th {\n",
       "        vertical-align: top;\n",
       "    }\n",
       "\n",
       "    .dataframe thead th {\n",
       "        text-align: right;\n",
       "    }\n",
       "</style>\n",
       "<table border=\"1\" class=\"dataframe\">\n",
       "  <thead>\n",
       "    <tr style=\"text-align: right;\">\n",
       "      <th></th>\n",
       "      <th>user_id</th>\n",
       "      <th>distance</th>\n",
       "      <th>duration</th>\n",
       "      <th>date</th>\n",
       "      <th>month</th>\n",
       "    </tr>\n",
       "  </thead>\n",
       "  <tbody>\n",
       "    <tr>\n",
       "      <th>0</th>\n",
       "      <td>1</td>\n",
       "      <td>4409.919140</td>\n",
       "      <td>25.599769</td>\n",
       "      <td>2021-01-01</td>\n",
       "      <td>1</td>\n",
       "    </tr>\n",
       "    <tr>\n",
       "      <th>1</th>\n",
       "      <td>1</td>\n",
       "      <td>2617.592153</td>\n",
       "      <td>15.816871</td>\n",
       "      <td>2021-01-18</td>\n",
       "      <td>1</td>\n",
       "    </tr>\n",
       "    <tr>\n",
       "      <th>2</th>\n",
       "      <td>1</td>\n",
       "      <td>754.159807</td>\n",
       "      <td>6.232113</td>\n",
       "      <td>2021-04-20</td>\n",
       "      <td>4</td>\n",
       "    </tr>\n",
       "    <tr>\n",
       "      <th>3</th>\n",
       "      <td>1</td>\n",
       "      <td>2694.783254</td>\n",
       "      <td>18.511000</td>\n",
       "      <td>2021-08-11</td>\n",
       "      <td>8</td>\n",
       "    </tr>\n",
       "    <tr>\n",
       "      <th>4</th>\n",
       "      <td>1</td>\n",
       "      <td>4028.687306</td>\n",
       "      <td>26.265803</td>\n",
       "      <td>2021-08-28</td>\n",
       "      <td>8</td>\n",
       "    </tr>\n",
       "  </tbody>\n",
       "</table>\n",
       "</div>"
      ],
      "text/plain": [
       "   user_id     distance   duration       date  month\n",
       "0        1  4409.919140  25.599769 2021-01-01      1\n",
       "1        1  2617.592153  15.816871 2021-01-18      1\n",
       "2        1   754.159807   6.232113 2021-04-20      4\n",
       "3        1  2694.783254  18.511000 2021-08-11      8\n",
       "4        1  4028.687306  26.265803 2021-08-28      8"
      ]
     },
     "metadata": {},
     "output_type": "display_data"
    }
   ],
   "source": [
    "rides['month'] = rides['date'].dt.month\n",
    "display(rides.head())"
   ]
  },
  {
   "cell_type": "code",
   "execution_count": 8,
   "id": "4e93e8bf",
   "metadata": {},
   "outputs": [
    {
     "data": {
      "text/plain": [
       "2021"
      ]
     },
     "metadata": {},
     "output_type": "display_data"
    },
    {
     "data": {
      "text/plain": [
       "2021"
      ]
     },
     "metadata": {},
     "output_type": "display_data"
    }
   ],
   "source": [
    "display(rides['date'].dt.year.min(), rides['date'].dt.year.max())"
   ]
  },
  {
   "cell_type": "markdown",
   "id": "89e1b87a",
   "metadata": {},
   "source": [
    "### Обработка пропущенных значений и дубликатов"
   ]
  },
  {
   "cell_type": "markdown",
   "id": "a7b563cb",
   "metadata": {},
   "source": [
    "Исходя из первичного знакомства с данными, пропущенных значений в датафрейме нет. Таким образом, необходимо лишь определить есть ли в датафреймах дубликаты."
   ]
  },
  {
   "cell_type": "code",
   "execution_count": 9,
   "id": "dc92cbf7",
   "metadata": {},
   "outputs": [
    {
     "data": {
      "text/plain": [
       "0"
      ]
     },
     "metadata": {},
     "output_type": "display_data"
    },
    {
     "data": {
      "text/plain": [
       "31"
      ]
     },
     "metadata": {},
     "output_type": "display_data"
    },
    {
     "data": {
      "text/plain": [
       "31"
      ]
     },
     "metadata": {},
     "output_type": "display_data"
    }
   ],
   "source": [
    "display(rides.duplicated().sum())\n",
    "display(users.duplicated().sum())\n",
    "display(users['user_id'].duplicated().sum())"
   ]
  },
  {
   "cell_type": "code",
   "execution_count": 10,
   "id": "7c2166e7",
   "metadata": {},
   "outputs": [
    {
     "data": {
      "text/html": [
       "<div>\n",
       "<style scoped>\n",
       "    .dataframe tbody tr th:only-of-type {\n",
       "        vertical-align: middle;\n",
       "    }\n",
       "\n",
       "    .dataframe tbody tr th {\n",
       "        vertical-align: top;\n",
       "    }\n",
       "\n",
       "    .dataframe thead th {\n",
       "        text-align: right;\n",
       "    }\n",
       "</style>\n",
       "<table border=\"1\" class=\"dataframe\">\n",
       "  <thead>\n",
       "    <tr style=\"text-align: right;\">\n",
       "      <th></th>\n",
       "      <th>user_id</th>\n",
       "      <th>name</th>\n",
       "      <th>age</th>\n",
       "      <th>city</th>\n",
       "      <th>subscription_type</th>\n",
       "    </tr>\n",
       "  </thead>\n",
       "  <tbody>\n",
       "    <tr>\n",
       "      <th>15</th>\n",
       "      <td>16</td>\n",
       "      <td>Амалия</td>\n",
       "      <td>27</td>\n",
       "      <td>Краснодар</td>\n",
       "      <td>ultra</td>\n",
       "    </tr>\n",
       "    <tr>\n",
       "      <th>1535</th>\n",
       "      <td>16</td>\n",
       "      <td>Амалия</td>\n",
       "      <td>27</td>\n",
       "      <td>Краснодар</td>\n",
       "      <td>ultra</td>\n",
       "    </tr>\n",
       "    <tr>\n",
       "      <th>42</th>\n",
       "      <td>43</td>\n",
       "      <td>Стефания</td>\n",
       "      <td>22</td>\n",
       "      <td>Омск</td>\n",
       "      <td>ultra</td>\n",
       "    </tr>\n",
       "    <tr>\n",
       "      <th>1539</th>\n",
       "      <td>43</td>\n",
       "      <td>Стефания</td>\n",
       "      <td>22</td>\n",
       "      <td>Омск</td>\n",
       "      <td>ultra</td>\n",
       "    </tr>\n",
       "    <tr>\n",
       "      <th>1563</th>\n",
       "      <td>47</td>\n",
       "      <td>Юрий</td>\n",
       "      <td>28</td>\n",
       "      <td>Тюмень</td>\n",
       "      <td>ultra</td>\n",
       "    </tr>\n",
       "    <tr>\n",
       "      <th>46</th>\n",
       "      <td>47</td>\n",
       "      <td>Юрий</td>\n",
       "      <td>28</td>\n",
       "      <td>Тюмень</td>\n",
       "      <td>ultra</td>\n",
       "    </tr>\n",
       "  </tbody>\n",
       "</table>\n",
       "</div>"
      ],
      "text/plain": [
       "      user_id      name  age       city subscription_type\n",
       "15         16    Амалия   27  Краснодар             ultra\n",
       "1535       16    Амалия   27  Краснодар             ultra\n",
       "42         43  Стефания   22       Омск             ultra\n",
       "1539       43  Стефания   22       Омск             ultra\n",
       "1563       47      Юрий   28     Тюмень             ultra\n",
       "46         47      Юрий   28     Тюмень             ultra"
      ]
     },
     "metadata": {},
     "output_type": "display_data"
    }
   ],
   "source": [
    "dupl = users[users['user_id'].duplicated()]['user_id']\n",
    "display(users[users['user_id'].isin(dupl)].sort_values(by='user_id').head(6))"
   ]
  },
  {
   "cell_type": "code",
   "execution_count": 11,
   "id": "6a49b94a",
   "metadata": {},
   "outputs": [
    {
     "data": {
      "text/plain": [
       "0"
      ]
     },
     "metadata": {},
     "output_type": "display_data"
    },
    {
     "data": {
      "text/plain": [
       "(1534, 5)"
      ]
     },
     "metadata": {},
     "output_type": "display_data"
    }
   ],
   "source": [
    "users = users.drop_duplicates(keep='first').reset_index(drop=True)\n",
    "display(users.duplicated().sum())\n",
    "display(users.shape)"
   ]
  },
  {
   "cell_type": "markdown",
   "id": "465b4c10",
   "metadata": {},
   "source": [
    "**Выводы по 2 разделу:**\n",
    "- В датафреймах 'users' и 'rides' отсутствовали пропуски;\n",
    "- В датафрейме 'users' были обнаружены и обработаны явные дубликаты в количестве 31 шт. "
   ]
  },
  {
   "cell_type": "markdown",
   "id": "212593c7",
   "metadata": {},
   "source": [
    "## Исследовательский анализ данных"
   ]
  },
  {
   "cell_type": "markdown",
   "id": "e7bf31e9",
   "metadata": {},
   "source": [
    "### Описание и визуализация частоты встречаемости городов"
   ]
  },
  {
   "cell_type": "code",
   "execution_count": 12,
   "id": "50c667d2",
   "metadata": {
    "scrolled": true
   },
   "outputs": [
    {
     "data": {
      "image/png": "[encoded data removed]",
      "text/plain": [
       "<Figure size 900x500 with 1 Axes>"
      ]
     },
     "metadata": {},
     "output_type": "display_data"
    },
    {
     "data": {
      "text/plain": [
       "city\n",
       "Пятигорск         219\n",
       "Екатеринбург      204\n",
       "Ростов-на-Дону    198\n",
       "Краснодар         193\n",
       "Сочи              189\n",
       "Омск              183\n",
       "Тюмень            180\n",
       "Москва            168\n",
       "Name: count, dtype: int64"
      ]
     },
     "metadata": {},
     "output_type": "display_data"
    },
    {
     "data": {
      "text/plain": [
       "'Среднее количество пользователей в городе: 192.0'"
      ]
     },
     "metadata": {},
     "output_type": "display_data"
    }
   ],
   "source": [
    "fig, ax = plt.subplots(figsize=(9,5))\n",
    "\n",
    "cities = users['city'].value_counts()\n",
    "ax.bar(x=cities.index, height=cities.values)\n",
    "ax.grid()\n",
    "ax.set_ylabel('Количество пользователей в городах')\n",
    "ax.set_xlabel('Город')\n",
    "ax.set_title('Частота встречаемости городов')\n",
    "ax.set_xticks(cities.index)\n",
    "ax.set_xticklabels(cities.index, rotation=45)\n",
    "plt.show()\n",
    "display(cities)\n",
    "display(f'Среднее количество пользователей в городе: {round(cities.mean(), 0)}')"
   ]
  },
  {
   "cell_type": "markdown",
   "id": "56a1ddc0",
   "metadata": {},
   "source": [
    "**Вывод:**\n",
    "- Пользователи распределены по 8 городам;\n",
    "- Среднее количество пользователей в городе - 192 человека."
   ]
  },
  {
   "cell_type": "markdown",
   "id": "93d299e0",
   "metadata": {},
   "source": [
    "### Описание и визуализация соотношения пользователей с подпиской и без подписки"
   ]
  },
  {
   "cell_type": "code",
   "execution_count": 13,
   "id": "a53156c8",
   "metadata": {
    "scrolled": true
   },
   "outputs": [
    {
     "data": {
      "image/png": "[encoded data removed]",
      "text/plain": [
       "<Figure size 640x480 with 1 Axes>"
      ]
     },
     "metadata": {},
     "output_type": "display_data"
    }
   ],
   "source": [
    "type_subs = users['subscription_type'].value_counts()\n",
    "\n",
    "def chill(pct, type_subs):\n",
    "    absolute = int(np.round(pct/100.*np.sum(type_subs)))\n",
    "    return f\"{pct:.1f}%\\n({absolute:d} пользователей)\"\n",
    "    \n",
    "fig, ax = plt.subplots()\n",
    "wedges, texts, autotexts = ax.pie(type_subs, autopct=lambda pct: chill(pct, type_subs),\n",
    "                                  radius=1.2, colors=['#4dde00', '#a59eff'])\n",
    "\n",
    "ax.legend(wedges, type_subs.index,\n",
    "          title='Тип подписки',\n",
    "          loc='center left',\n",
    "          bbox_to_anchor=(1, 0, 0.5, 1), fontsize=12, title_fontsize=12)\n",
    "\n",
    "plt.setp(autotexts, size=10, weight='bold')\n",
    "\n",
    "ax.set_title('Распределение пользователей по подпискам')\n",
    "plt.show()"
   ]
  },
  {
   "cell_type": "markdown",
   "id": "1b721ea0",
   "metadata": {},
   "source": [
    "**Вывод:** количество пользователей с подпиской (**699** - 45,6% от общего количества пользователей) почти равно количеству пользователей без нее (**835** - 54,4% от общего количества пользователей)."
   ]
  },
  {
   "cell_type": "markdown",
   "id": "dc622cbc",
   "metadata": {},
   "source": [
    "### Описание и визуализация возраста пользователей"
   ]
  },
  {
   "cell_type": "code",
   "execution_count": 14,
   "id": "bd3d5c64",
   "metadata": {},
   "outputs": [
    {
     "data": {
      "image/png": "[encoded data removed]",
      "text/plain": [
       "<Figure size 800x500 with 1 Axes>"
      ]
     },
     "metadata": {},
     "output_type": "display_data"
    },
    {
     "data": {
      "text/plain": [
       "count    1534.000000\n",
       "mean       24.903520\n",
       "std         4.572367\n",
       "min        12.000000\n",
       "25%        22.000000\n",
       "50%        25.000000\n",
       "75%        28.000000\n",
       "max        43.000000\n",
       "Name: age, dtype: float64"
      ]
     },
     "metadata": {},
     "output_type": "display_data"
    }
   ],
   "source": [
    "fig, ax = plt.subplots(figsize=(8,5))\n",
    "\n",
    "age = users['age'].value_counts()\n",
    "ax.bar(x=age.index, height=age.values)\n",
    "ax.grid()\n",
    "ax.set_ylabel('Количество пользователей')\n",
    "ax.set_xlabel('Возраст пользователя')\n",
    "ax.set_title('Возраст пользователей')\n",
    "plt.show()\n",
    "display(users['age'].describe())"
   ]
  },
  {
   "cell_type": "markdown",
   "id": "842a609f",
   "metadata": {},
   "source": [
    "**Вывод:** \n",
    "- Возраст пользователей приложения имеет нормальное распределение;\n",
    "- Возраст самого молодого пользователя - 12 лет; \n",
    "- Возраст самого взрослого пользователя - 43 года;\n",
    "- Самый часто встречающийся возраст пользователя - 25 лет;\n",
    "- Основная масса пользователей возрастом от 22 до 28 лет."
   ]
  },
  {
   "cell_type": "markdown",
   "id": "9e45fd88",
   "metadata": {},
   "source": [
    "### Описание и визуализация расстояния, которое пользователь преодолел за одну поездку"
   ]
  },
  {
   "cell_type": "markdown",
   "id": "1d756899",
   "metadata": {},
   "source": [
    "В связи с тем, что расстояние в столбце 'distance' указано в метрах с 6 знаками после запятой, создадим столбец со значениями расстояния в километрах, округленные до 50 м. Данное преобразование даст возможность более точно проанализировать распределение расстояния за одну поездку."
   ]
  },
  {
   "cell_type": "code",
   "execution_count": 15,
   "id": "bdad119c",
   "metadata": {},
   "outputs": [
    {
     "data": {
      "text/html": [
       "<div>\n",
       "<style scoped>\n",
       "    .dataframe tbody tr th:only-of-type {\n",
       "        vertical-align: middle;\n",
       "    }\n",
       "\n",
       "    .dataframe tbody tr th {\n",
       "        vertical-align: top;\n",
       "    }\n",
       "\n",
       "    .dataframe thead th {\n",
       "        text-align: right;\n",
       "    }\n",
       "</style>\n",
       "<table border=\"1\" class=\"dataframe\">\n",
       "  <thead>\n",
       "    <tr style=\"text-align: right;\">\n",
       "      <th></th>\n",
       "      <th>user_id</th>\n",
       "      <th>distance</th>\n",
       "      <th>duration</th>\n",
       "      <th>date</th>\n",
       "      <th>month</th>\n",
       "      <th>distance_50_km</th>\n",
       "    </tr>\n",
       "  </thead>\n",
       "  <tbody>\n",
       "    <tr>\n",
       "      <th>0</th>\n",
       "      <td>1</td>\n",
       "      <td>4409.919140</td>\n",
       "      <td>25.599769</td>\n",
       "      <td>2021-01-01</td>\n",
       "      <td>1</td>\n",
       "      <td>4.40</td>\n",
       "    </tr>\n",
       "    <tr>\n",
       "      <th>1</th>\n",
       "      <td>1</td>\n",
       "      <td>2617.592153</td>\n",
       "      <td>15.816871</td>\n",
       "      <td>2021-01-18</td>\n",
       "      <td>1</td>\n",
       "      <td>2.60</td>\n",
       "    </tr>\n",
       "    <tr>\n",
       "      <th>2</th>\n",
       "      <td>1</td>\n",
       "      <td>754.159807</td>\n",
       "      <td>6.232113</td>\n",
       "      <td>2021-04-20</td>\n",
       "      <td>4</td>\n",
       "      <td>0.75</td>\n",
       "    </tr>\n",
       "    <tr>\n",
       "      <th>3</th>\n",
       "      <td>1</td>\n",
       "      <td>2694.783254</td>\n",
       "      <td>18.511000</td>\n",
       "      <td>2021-08-11</td>\n",
       "      <td>8</td>\n",
       "      <td>2.70</td>\n",
       "    </tr>\n",
       "    <tr>\n",
       "      <th>4</th>\n",
       "      <td>1</td>\n",
       "      <td>4028.687306</td>\n",
       "      <td>26.265803</td>\n",
       "      <td>2021-08-28</td>\n",
       "      <td>8</td>\n",
       "      <td>4.05</td>\n",
       "    </tr>\n",
       "  </tbody>\n",
       "</table>\n",
       "</div>"
      ],
      "text/plain": [
       "   user_id     distance   duration       date  month  distance_50_km\n",
       "0        1  4409.919140  25.599769 2021-01-01      1            4.40\n",
       "1        1  2617.592153  15.816871 2021-01-18      1            2.60\n",
       "2        1   754.159807   6.232113 2021-04-20      4            0.75\n",
       "3        1  2694.783254  18.511000 2021-08-11      8            2.70\n",
       "4        1  4028.687306  26.265803 2021-08-28      8            4.05"
      ]
     },
     "metadata": {},
     "output_type": "display_data"
    }
   ],
   "source": [
    "def round50(n):\n",
    "    return round(n * 2, -2) //  2 / 1000\n",
    "\n",
    "rides['distance_50_km'] = rides['distance'].apply(round50)\n",
    "display(rides.head())"
   ]
  },
  {
   "cell_type": "code",
   "execution_count": 16,
   "id": "8e762c60",
   "metadata": {},
   "outputs": [
    {
     "data": {
      "image/png": "[encoded data removed]",
      "text/plain": [
       "<Figure size 700x500 with 1 Axes>"
      ]
     },
     "metadata": {},
     "output_type": "display_data"
    },
    {
     "data": {
      "text/plain": [
       "count    18068.000000\n",
       "mean      3070.659976\n",
       "std       1116.831209\n",
       "min          0.855683\n",
       "25%       2543.226360\n",
       "50%       3133.609994\n",
       "75%       3776.222735\n",
       "max       7211.007745\n",
       "Name: distance, dtype: float64"
      ]
     },
     "metadata": {},
     "output_type": "display_data"
    },
    {
     "data": {
      "text/plain": [
       "'Количество поездок с расстоянием менее 50 м: 31'"
      ]
     },
     "metadata": {},
     "output_type": "display_data"
    }
   ],
   "source": [
    "fig, ax = plt.subplots(figsize=(7,5))\n",
    "\n",
    "distance = rides['distance_50_km'].value_counts()\n",
    "ax.bar(x=distance.index, height=distance.values)\n",
    "ax.grid()\n",
    "ax.set_ylabel('Количество поездок')\n",
    "ax.set_xlabel('Расстояние, км')\n",
    "ax.set_title('Расстояние, которые пользователи преоделевают за одну поездку')\n",
    "plt.show()\n",
    "display(rides['distance'].describe())\n",
    "display('Количество поездок с расстоянием менее 50 м: {}'.format(rides[rides['distance'] < 50]['distance'].count()))"
   ]
  },
  {
   "cell_type": "markdown",
   "id": "b7d10a45",
   "metadata": {},
   "source": [
    "**Вывод:**\n",
    "- Расстояние за одну поездку имеет бимодальное распределение;\n",
    "- Максимальное расстояние за одну поездку - 7 211.01 метров;\n",
    "- Минимальное расстояние за одну поездку - 0.86 метров;\n",
    "- Чаще всего поездки совершаются на расстояние от 2 543.23 до 3 776.22 метров;\n",
    "- Есть 31 поездка, у которых расстояние менее 50 метров (потенциальные аномалии)."
   ]
  },
  {
   "cell_type": "markdown",
   "id": "e84a2684",
   "metadata": {},
   "source": [
    "### Описание и визуализация продолжительности поездок"
   ]
  },
  {
   "cell_type": "code",
   "execution_count": 17,
   "id": "d3554e36",
   "metadata": {},
   "outputs": [
    {
     "data": {
      "image/png": "[encoded data removed]",
      "text/plain": [
       "<Figure size 700x500 with 1 Axes>"
      ]
     },
     "metadata": {},
     "output_type": "display_data"
    },
    {
     "data": {
      "text/plain": [
       "count    18068.000000\n",
       "mean        17.805011\n",
       "std          6.091051\n",
       "min          0.500000\n",
       "25%         13.597563\n",
       "50%         17.678395\n",
       "75%         21.724800\n",
       "max         40.823963\n",
       "Name: duration, dtype: float64"
      ]
     },
     "metadata": {},
     "output_type": "display_data"
    }
   ],
   "source": [
    "fig, ax = plt.subplots(figsize=(7,5))\n",
    "\n",
    "durat = round(rides['duration'], 0).value_counts()\n",
    "ax.bar(x=durat.index, height=durat.values)\n",
    "ax.grid()\n",
    "ax.set_ylabel('Количество поездок')\n",
    "ax.set_xlabel('Продолжительность поездок, мин')\n",
    "ax.set_title('Продолжительность поездок')\n",
    "plt.show()\n",
    "display(rides['duration'].describe())"
   ]
  },
  {
   "cell_type": "markdown",
   "id": "a3836ab8",
   "metadata": {},
   "source": [
    "**Вывод:** \n",
    "- Продолжительность поездки имеет нормальное распределение;\n",
    "- Минимальная продолжительность поездки - 0.5 минуты;\n",
    "- Максимальная продолнижительно поездки - 40.82 минуты;\n",
    "- Среденяя продолжительность поездки - 17.81 минуты."
   ]
  },
  {
   "cell_type": "code",
   "execution_count": 18,
   "id": "c15c0995",
   "metadata": {},
   "outputs": [
    {
     "data": {
      "text/html": [
       "<div>\n",
       "<style scoped>\n",
       "    .dataframe tbody tr th:only-of-type {\n",
       "        vertical-align: middle;\n",
       "    }\n",
       "\n",
       "    .dataframe tbody tr th {\n",
       "        vertical-align: top;\n",
       "    }\n",
       "\n",
       "    .dataframe thead th {\n",
       "        text-align: right;\n",
       "    }\n",
       "</style>\n",
       "<table border=\"1\" class=\"dataframe\">\n",
       "  <thead>\n",
       "    <tr style=\"text-align: right;\">\n",
       "      <th></th>\n",
       "      <th>user_id</th>\n",
       "      <th>distance</th>\n",
       "      <th>duration</th>\n",
       "      <th>date</th>\n",
       "      <th>month</th>\n",
       "      <th>distance_50_km</th>\n",
       "    </tr>\n",
       "  </thead>\n",
       "  <tbody>\n",
       "    <tr>\n",
       "      <th>6691</th>\n",
       "      <td>712</td>\n",
       "      <td>23.963062</td>\n",
       "      <td>2.053251</td>\n",
       "      <td>2021-11-22</td>\n",
       "      <td>11</td>\n",
       "      <td>0.00</td>\n",
       "    </tr>\n",
       "    <tr>\n",
       "      <th>6801</th>\n",
       "      <td>720</td>\n",
       "      <td>102.323624</td>\n",
       "      <td>2.292353</td>\n",
       "      <td>2021-09-20</td>\n",
       "      <td>9</td>\n",
       "      <td>0.10</td>\n",
       "    </tr>\n",
       "    <tr>\n",
       "      <th>7453</th>\n",
       "      <td>768</td>\n",
       "      <td>273.136262</td>\n",
       "      <td>2.744917</td>\n",
       "      <td>2021-02-20</td>\n",
       "      <td>2</td>\n",
       "      <td>0.25</td>\n",
       "    </tr>\n",
       "    <tr>\n",
       "      <th>8676</th>\n",
       "      <td>863</td>\n",
       "      <td>466.343107</td>\n",
       "      <td>2.999307</td>\n",
       "      <td>2021-04-11</td>\n",
       "      <td>4</td>\n",
       "      <td>0.45</td>\n",
       "    </tr>\n",
       "    <tr>\n",
       "      <th>8906</th>\n",
       "      <td>880</td>\n",
       "      <td>11.283615</td>\n",
       "      <td>2.035632</td>\n",
       "      <td>2021-03-28</td>\n",
       "      <td>3</td>\n",
       "      <td>0.00</td>\n",
       "    </tr>\n",
       "  </tbody>\n",
       "</table>\n",
       "</div>"
      ],
      "text/plain": [
       "      user_id    distance  duration       date  month  distance_50_km\n",
       "6691      712   23.963062  2.053251 2021-11-22     11            0.00\n",
       "6801      720  102.323624  2.292353 2021-09-20      9            0.10\n",
       "7453      768  273.136262  2.744917 2021-02-20      2            0.25\n",
       "8676      863  466.343107  2.999307 2021-04-11      4            0.45\n",
       "8906      880   11.283615  2.035632 2021-03-28      3            0.00"
      ]
     },
     "metadata": {},
     "output_type": "display_data"
    }
   ],
   "source": [
    "display(rides.query('1 <= duration < 3').head())"
   ]
  },
  {
   "cell_type": "code",
   "execution_count": 19,
   "id": "214711c7",
   "metadata": {
    "scrolled": true
   },
   "outputs": [
    {
     "data": {
      "text/html": [
       "<div>\n",
       "<style scoped>\n",
       "    .dataframe tbody tr th:only-of-type {\n",
       "        vertical-align: middle;\n",
       "    }\n",
       "\n",
       "    .dataframe tbody tr th {\n",
       "        vertical-align: top;\n",
       "    }\n",
       "\n",
       "    .dataframe thead th {\n",
       "        text-align: right;\n",
       "    }\n",
       "</style>\n",
       "<table border=\"1\" class=\"dataframe\">\n",
       "  <thead>\n",
       "    <tr style=\"text-align: right;\">\n",
       "      <th></th>\n",
       "      <th>user_id</th>\n",
       "      <th>distance</th>\n",
       "      <th>duration</th>\n",
       "      <th>date</th>\n",
       "      <th>month</th>\n",
       "      <th>distance_50_km</th>\n",
       "    </tr>\n",
       "  </thead>\n",
       "  <tbody>\n",
       "    <tr>\n",
       "      <th>6531</th>\n",
       "      <td>701</td>\n",
       "      <td>4196.445201</td>\n",
       "      <td>0.5</td>\n",
       "      <td>2021-08-31</td>\n",
       "      <td>8</td>\n",
       "      <td>4.20</td>\n",
       "    </tr>\n",
       "    <tr>\n",
       "      <th>6570</th>\n",
       "      <td>704</td>\n",
       "      <td>4830.824371</td>\n",
       "      <td>0.5</td>\n",
       "      <td>2021-10-14</td>\n",
       "      <td>10</td>\n",
       "      <td>4.85</td>\n",
       "    </tr>\n",
       "    <tr>\n",
       "      <th>6680</th>\n",
       "      <td>712</td>\n",
       "      <td>4684.004397</td>\n",
       "      <td>0.5</td>\n",
       "      <td>2021-03-04</td>\n",
       "      <td>3</td>\n",
       "      <td>4.70</td>\n",
       "    </tr>\n",
       "    <tr>\n",
       "      <th>6695</th>\n",
       "      <td>713</td>\n",
       "      <td>5215.642710</td>\n",
       "      <td>0.5</td>\n",
       "      <td>2021-02-25</td>\n",
       "      <td>2</td>\n",
       "      <td>5.20</td>\n",
       "    </tr>\n",
       "    <tr>\n",
       "      <th>6768</th>\n",
       "      <td>718</td>\n",
       "      <td>5197.436649</td>\n",
       "      <td>0.5</td>\n",
       "      <td>2021-02-11</td>\n",
       "      <td>2</td>\n",
       "      <td>5.20</td>\n",
       "    </tr>\n",
       "  </tbody>\n",
       "</table>\n",
       "</div>"
      ],
      "text/plain": [
       "      user_id     distance  duration       date  month  distance_50_km\n",
       "6531      701  4196.445201       0.5 2021-08-31      8            4.20\n",
       "6570      704  4830.824371       0.5 2021-10-14     10            4.85\n",
       "6680      712  4684.004397       0.5 2021-03-04      3            4.70\n",
       "6695      713  5215.642710       0.5 2021-02-25      2            5.20\n",
       "6768      718  5197.436649       0.5 2021-02-11      2            5.20"
      ]
     },
     "metadata": {},
     "output_type": "display_data"
    },
    {
     "data": {
      "text/plain": [
       "5113.176548536017"
      ]
     },
     "metadata": {},
     "output_type": "display_data"
    },
    {
     "data": {
      "text/plain": [
       "95"
      ]
     },
     "metadata": {},
     "output_type": "display_data"
    }
   ],
   "source": [
    "display(rides.query('duration < 1').head())\n",
    "display(rides.query('duration < 1')['distance'].mean())\n",
    "display(rides.query('duration < 1')['distance'].count())"
   ]
  },
  {
   "cell_type": "markdown",
   "id": "f904ee4c",
   "metadata": {},
   "source": [
    "По результатам проведенного анализа данных о времени одной поездки (duration) были обнаружены аномалии со значением времени равным 0,5 минут и среднем значением расстояния поездки равным 5 113.18 метров. Количество данных аномалий 95 штук."
   ]
  },
  {
   "cell_type": "markdown",
   "id": "b7b5272d-2e2c-4b5c-936f-b47a3b83565d",
   "metadata": {},
   "source": [
    "### Выводы по 3 разделу:"
   ]
  },
  {
   "cell_type": "markdown",
   "id": "fc90491b",
   "metadata": {},
   "source": [
    "- Пользователи распределены по **8 городам**,в среднем **192** пользователя в 1 городе;\n",
    "- Количество пользователей **с подпиской** равно **699** (46% от общего количества), **без подписки** - **835** (54% от общего количества);\n",
    "- **Возраст** пользователей приложения имеет нормальное распределение с медианным значением **25** лет. Возраст пользователей распределен в границах **от 12 до 43 лет**;\n",
    "- **Расстояние** за одну поездку имеет бимодальное распределение. Расстояние за одну поездку распределено в границах **от 0.86 до 7 211.01 метров**. С учетом значения минимального расстояния возможно наличие аномалий;\n",
    "- **Продолжительность поездки** имеет нормальное распределение со средним в **17.81 минуты**. Продолжительное поездки распределено в границах **от 0.5 до 40.82 минут**;\n",
    "- В данных о **продолжительности поездки** присутствуют **анамолии** в количестве 95 штук."
   ]
  },
  {
   "cell_type": "markdown",
   "id": "4ef51331",
   "metadata": {},
   "source": [
    "## Объединение данных"
   ]
  },
  {
   "cell_type": "markdown",
   "id": "e3e03c09",
   "metadata": {},
   "source": [
    "### Объединение данных о пользователях, поездках и подписках в один датафрейм"
   ]
  },
  {
   "cell_type": "code",
   "execution_count": 20,
   "id": "394efa61",
   "metadata": {
    "scrolled": true
   },
   "outputs": [
    {
     "data": {
      "text/html": [
       "<div>\n",
       "<style scoped>\n",
       "    .dataframe tbody tr th:only-of-type {\n",
       "        vertical-align: middle;\n",
       "    }\n",
       "\n",
       "    .dataframe tbody tr th {\n",
       "        vertical-align: top;\n",
       "    }\n",
       "\n",
       "    .dataframe thead th {\n",
       "        text-align: right;\n",
       "    }\n",
       "</style>\n",
       "<table border=\"1\" class=\"dataframe\">\n",
       "  <thead>\n",
       "    <tr style=\"text-align: right;\">\n",
       "      <th></th>\n",
       "      <th>user_id</th>\n",
       "      <th>distance</th>\n",
       "      <th>duration</th>\n",
       "      <th>date</th>\n",
       "      <th>month</th>\n",
       "      <th>distance_50_km</th>\n",
       "      <th>name</th>\n",
       "      <th>age</th>\n",
       "      <th>city</th>\n",
       "      <th>subscription_type</th>\n",
       "      <th>minute_price</th>\n",
       "      <th>start_ride_price</th>\n",
       "      <th>subscription_fee</th>\n",
       "    </tr>\n",
       "  </thead>\n",
       "  <tbody>\n",
       "    <tr>\n",
       "      <th>0</th>\n",
       "      <td>1</td>\n",
       "      <td>4409.919140</td>\n",
       "      <td>25.599769</td>\n",
       "      <td>2021-01-01</td>\n",
       "      <td>1</td>\n",
       "      <td>4.40</td>\n",
       "      <td>Кира</td>\n",
       "      <td>22</td>\n",
       "      <td>Тюмень</td>\n",
       "      <td>ultra</td>\n",
       "      <td>6</td>\n",
       "      <td>0</td>\n",
       "      <td>199</td>\n",
       "    </tr>\n",
       "    <tr>\n",
       "      <th>1</th>\n",
       "      <td>1</td>\n",
       "      <td>2617.592153</td>\n",
       "      <td>15.816871</td>\n",
       "      <td>2021-01-18</td>\n",
       "      <td>1</td>\n",
       "      <td>2.60</td>\n",
       "      <td>Кира</td>\n",
       "      <td>22</td>\n",
       "      <td>Тюмень</td>\n",
       "      <td>ultra</td>\n",
       "      <td>6</td>\n",
       "      <td>0</td>\n",
       "      <td>199</td>\n",
       "    </tr>\n",
       "    <tr>\n",
       "      <th>2</th>\n",
       "      <td>1</td>\n",
       "      <td>754.159807</td>\n",
       "      <td>6.232113</td>\n",
       "      <td>2021-04-20</td>\n",
       "      <td>4</td>\n",
       "      <td>0.75</td>\n",
       "      <td>Кира</td>\n",
       "      <td>22</td>\n",
       "      <td>Тюмень</td>\n",
       "      <td>ultra</td>\n",
       "      <td>6</td>\n",
       "      <td>0</td>\n",
       "      <td>199</td>\n",
       "    </tr>\n",
       "    <tr>\n",
       "      <th>3</th>\n",
       "      <td>1</td>\n",
       "      <td>2694.783254</td>\n",
       "      <td>18.511000</td>\n",
       "      <td>2021-08-11</td>\n",
       "      <td>8</td>\n",
       "      <td>2.70</td>\n",
       "      <td>Кира</td>\n",
       "      <td>22</td>\n",
       "      <td>Тюмень</td>\n",
       "      <td>ultra</td>\n",
       "      <td>6</td>\n",
       "      <td>0</td>\n",
       "      <td>199</td>\n",
       "    </tr>\n",
       "    <tr>\n",
       "      <th>4</th>\n",
       "      <td>1</td>\n",
       "      <td>4028.687306</td>\n",
       "      <td>26.265803</td>\n",
       "      <td>2021-08-28</td>\n",
       "      <td>8</td>\n",
       "      <td>4.05</td>\n",
       "      <td>Кира</td>\n",
       "      <td>22</td>\n",
       "      <td>Тюмень</td>\n",
       "      <td>ultra</td>\n",
       "      <td>6</td>\n",
       "      <td>0</td>\n",
       "      <td>199</td>\n",
       "    </tr>\n",
       "  </tbody>\n",
       "</table>\n",
       "</div>"
      ],
      "text/plain": [
       "   user_id     distance   duration       date  month  distance_50_km  name  \\\n",
       "0        1  4409.919140  25.599769 2021-01-01      1            4.40  Кира   \n",
       "1        1  2617.592153  15.816871 2021-01-18      1            2.60  Кира   \n",
       "2        1   754.159807   6.232113 2021-04-20      4            0.75  Кира   \n",
       "3        1  2694.783254  18.511000 2021-08-11      8            2.70  Кира   \n",
       "4        1  4028.687306  26.265803 2021-08-28      8            4.05  Кира   \n",
       "\n",
       "   age    city subscription_type  minute_price  start_ride_price  \\\n",
       "0   22  Тюмень             ultra             6                 0   \n",
       "1   22  Тюмень             ultra             6                 0   \n",
       "2   22  Тюмень             ultra             6                 0   \n",
       "3   22  Тюмень             ultra             6                 0   \n",
       "4   22  Тюмень             ultra             6                 0   \n",
       "\n",
       "   subscription_fee  \n",
       "0               199  \n",
       "1               199  \n",
       "2               199  \n",
       "3               199  \n",
       "4               199  "
      ]
     },
     "metadata": {},
     "output_type": "display_data"
    }
   ],
   "source": [
    "data = rides.merge(users, on='user_id', how='inner')\n",
    "data = data.merge(subs, on='subscription_type', how='inner')\n",
    "display(data.head())"
   ]
  },
  {
   "cell_type": "code",
   "execution_count": 21,
   "id": "5f6528d5",
   "metadata": {},
   "outputs": [
    {
     "name": "stdout",
     "output_type": "stream",
     "text": [
      "<class 'pandas.core.frame.DataFrame'>\n",
      "RangeIndex: 18068 entries, 0 to 18067\n",
      "Data columns (total 13 columns):\n",
      " #   Column             Non-Null Count  Dtype         \n",
      "---  ------             --------------  -----         \n",
      " 0   user_id            18068 non-null  int64         \n",
      " 1   distance           18068 non-null  float64       \n",
      " 2   duration           18068 non-null  float64       \n",
      " 3   date               18068 non-null  datetime64[ns]\n",
      " 4   month              18068 non-null  int32         \n",
      " 5   distance_50_km     18068 non-null  float64       \n",
      " 6   name               18068 non-null  object        \n",
      " 7   age                18068 non-null  int64         \n",
      " 8   city               18068 non-null  object        \n",
      " 9   subscription_type  18068 non-null  object        \n",
      " 10  minute_price       18068 non-null  int64         \n",
      " 11  start_ride_price   18068 non-null  int64         \n",
      " 12  subscription_fee   18068 non-null  int64         \n",
      "dtypes: datetime64[ns](1), float64(3), int32(1), int64(5), object(3)\n",
      "memory usage: 1.7+ MB\n"
     ]
    },
    {
     "data": {
      "text/plain": [
       "None"
      ]
     },
     "metadata": {},
     "output_type": "display_data"
    }
   ],
   "source": [
    "display(data.info())"
   ]
  },
  {
   "cell_type": "markdown",
   "id": "f7b48b4c",
   "metadata": {},
   "source": [
    "### Создание новых датафреймов"
   ]
  },
  {
   "cell_type": "markdown",
   "id": "508c09cd",
   "metadata": {},
   "source": [
    "**Датафрейм с данными о пользователях без подписки**"
   ]
  },
  {
   "cell_type": "code",
   "execution_count": 22,
   "id": "dee67df9",
   "metadata": {},
   "outputs": [
    {
     "data": {
      "text/html": [
       "<div>\n",
       "<style scoped>\n",
       "    .dataframe tbody tr th:only-of-type {\n",
       "        vertical-align: middle;\n",
       "    }\n",
       "\n",
       "    .dataframe tbody tr th {\n",
       "        vertical-align: top;\n",
       "    }\n",
       "\n",
       "    .dataframe thead th {\n",
       "        text-align: right;\n",
       "    }\n",
       "</style>\n",
       "<table border=\"1\" class=\"dataframe\">\n",
       "  <thead>\n",
       "    <tr style=\"text-align: right;\">\n",
       "      <th></th>\n",
       "      <th>user_id</th>\n",
       "      <th>distance</th>\n",
       "      <th>duration</th>\n",
       "      <th>date</th>\n",
       "      <th>month</th>\n",
       "      <th>distance_50_km</th>\n",
       "      <th>name</th>\n",
       "      <th>age</th>\n",
       "      <th>city</th>\n",
       "      <th>subscription_type</th>\n",
       "      <th>minute_price</th>\n",
       "      <th>start_ride_price</th>\n",
       "      <th>subscription_fee</th>\n",
       "    </tr>\n",
       "  </thead>\n",
       "  <tbody>\n",
       "    <tr>\n",
       "      <th>6500</th>\n",
       "      <td>700</td>\n",
       "      <td>2515.690719</td>\n",
       "      <td>14.944286</td>\n",
       "      <td>2021-01-02</td>\n",
       "      <td>1</td>\n",
       "      <td>2.50</td>\n",
       "      <td>Айдар</td>\n",
       "      <td>22</td>\n",
       "      <td>Омск</td>\n",
       "      <td>free</td>\n",
       "      <td>8</td>\n",
       "      <td>50</td>\n",
       "      <td>0</td>\n",
       "    </tr>\n",
       "    <tr>\n",
       "      <th>6501</th>\n",
       "      <td>700</td>\n",
       "      <td>846.932642</td>\n",
       "      <td>16.234663</td>\n",
       "      <td>2021-02-01</td>\n",
       "      <td>2</td>\n",
       "      <td>0.85</td>\n",
       "      <td>Айдар</td>\n",
       "      <td>22</td>\n",
       "      <td>Омск</td>\n",
       "      <td>free</td>\n",
       "      <td>8</td>\n",
       "      <td>50</td>\n",
       "      <td>0</td>\n",
       "    </tr>\n",
       "    <tr>\n",
       "      <th>6502</th>\n",
       "      <td>700</td>\n",
       "      <td>4004.434142</td>\n",
       "      <td>20.016628</td>\n",
       "      <td>2021-02-04</td>\n",
       "      <td>2</td>\n",
       "      <td>4.00</td>\n",
       "      <td>Айдар</td>\n",
       "      <td>22</td>\n",
       "      <td>Омск</td>\n",
       "      <td>free</td>\n",
       "      <td>8</td>\n",
       "      <td>50</td>\n",
       "      <td>0</td>\n",
       "    </tr>\n",
       "    <tr>\n",
       "      <th>6503</th>\n",
       "      <td>700</td>\n",
       "      <td>1205.911290</td>\n",
       "      <td>9.782872</td>\n",
       "      <td>2021-02-10</td>\n",
       "      <td>2</td>\n",
       "      <td>1.20</td>\n",
       "      <td>Айдар</td>\n",
       "      <td>22</td>\n",
       "      <td>Омск</td>\n",
       "      <td>free</td>\n",
       "      <td>8</td>\n",
       "      <td>50</td>\n",
       "      <td>0</td>\n",
       "    </tr>\n",
       "    <tr>\n",
       "      <th>6504</th>\n",
       "      <td>700</td>\n",
       "      <td>3047.379435</td>\n",
       "      <td>17.427673</td>\n",
       "      <td>2021-02-14</td>\n",
       "      <td>2</td>\n",
       "      <td>3.05</td>\n",
       "      <td>Айдар</td>\n",
       "      <td>22</td>\n",
       "      <td>Омск</td>\n",
       "      <td>free</td>\n",
       "      <td>8</td>\n",
       "      <td>50</td>\n",
       "      <td>0</td>\n",
       "    </tr>\n",
       "  </tbody>\n",
       "</table>\n",
       "</div>"
      ],
      "text/plain": [
       "      user_id     distance   duration       date  month  distance_50_km  \\\n",
       "6500      700  2515.690719  14.944286 2021-01-02      1            2.50   \n",
       "6501      700   846.932642  16.234663 2021-02-01      2            0.85   \n",
       "6502      700  4004.434142  20.016628 2021-02-04      2            4.00   \n",
       "6503      700  1205.911290   9.782872 2021-02-10      2            1.20   \n",
       "6504      700  3047.379435  17.427673 2021-02-14      2            3.05   \n",
       "\n",
       "       name  age  city subscription_type  minute_price  start_ride_price  \\\n",
       "6500  Айдар   22  Омск              free             8                50   \n",
       "6501  Айдар   22  Омск              free             8                50   \n",
       "6502  Айдар   22  Омск              free             8                50   \n",
       "6503  Айдар   22  Омск              free             8                50   \n",
       "6504  Айдар   22  Омск              free             8                50   \n",
       "\n",
       "      subscription_fee  \n",
       "6500                 0  \n",
       "6501                 0  \n",
       "6502                 0  \n",
       "6503                 0  \n",
       "6504                 0  "
      ]
     },
     "metadata": {},
     "output_type": "display_data"
    }
   ],
   "source": [
    "data_no_sub = data[data['subscription_type'] == 'free']\n",
    "display(data_no_sub.head())"
   ]
  },
  {
   "cell_type": "markdown",
   "id": "c0517b43",
   "metadata": {},
   "source": [
    "**Датафрейм с данными о пользователях без подписки**"
   ]
  },
  {
   "cell_type": "code",
   "execution_count": 23,
   "id": "27141562",
   "metadata": {
    "scrolled": true
   },
   "outputs": [
    {
     "data": {
      "text/html": [
       "<div>\n",
       "<style scoped>\n",
       "    .dataframe tbody tr th:only-of-type {\n",
       "        vertical-align: middle;\n",
       "    }\n",
       "\n",
       "    .dataframe tbody tr th {\n",
       "        vertical-align: top;\n",
       "    }\n",
       "\n",
       "    .dataframe thead th {\n",
       "        text-align: right;\n",
       "    }\n",
       "</style>\n",
       "<table border=\"1\" class=\"dataframe\">\n",
       "  <thead>\n",
       "    <tr style=\"text-align: right;\">\n",
       "      <th></th>\n",
       "      <th>user_id</th>\n",
       "      <th>distance</th>\n",
       "      <th>duration</th>\n",
       "      <th>date</th>\n",
       "      <th>month</th>\n",
       "      <th>distance_50_km</th>\n",
       "      <th>name</th>\n",
       "      <th>age</th>\n",
       "      <th>city</th>\n",
       "      <th>subscription_type</th>\n",
       "      <th>minute_price</th>\n",
       "      <th>start_ride_price</th>\n",
       "      <th>subscription_fee</th>\n",
       "    </tr>\n",
       "  </thead>\n",
       "  <tbody>\n",
       "    <tr>\n",
       "      <th>0</th>\n",
       "      <td>1</td>\n",
       "      <td>4409.919140</td>\n",
       "      <td>25.599769</td>\n",
       "      <td>2021-01-01</td>\n",
       "      <td>1</td>\n",
       "      <td>4.40</td>\n",
       "      <td>Кира</td>\n",
       "      <td>22</td>\n",
       "      <td>Тюмень</td>\n",
       "      <td>ultra</td>\n",
       "      <td>6</td>\n",
       "      <td>0</td>\n",
       "      <td>199</td>\n",
       "    </tr>\n",
       "    <tr>\n",
       "      <th>1</th>\n",
       "      <td>1</td>\n",
       "      <td>2617.592153</td>\n",
       "      <td>15.816871</td>\n",
       "      <td>2021-01-18</td>\n",
       "      <td>1</td>\n",
       "      <td>2.60</td>\n",
       "      <td>Кира</td>\n",
       "      <td>22</td>\n",
       "      <td>Тюмень</td>\n",
       "      <td>ultra</td>\n",
       "      <td>6</td>\n",
       "      <td>0</td>\n",
       "      <td>199</td>\n",
       "    </tr>\n",
       "    <tr>\n",
       "      <th>2</th>\n",
       "      <td>1</td>\n",
       "      <td>754.159807</td>\n",
       "      <td>6.232113</td>\n",
       "      <td>2021-04-20</td>\n",
       "      <td>4</td>\n",
       "      <td>0.75</td>\n",
       "      <td>Кира</td>\n",
       "      <td>22</td>\n",
       "      <td>Тюмень</td>\n",
       "      <td>ultra</td>\n",
       "      <td>6</td>\n",
       "      <td>0</td>\n",
       "      <td>199</td>\n",
       "    </tr>\n",
       "    <tr>\n",
       "      <th>3</th>\n",
       "      <td>1</td>\n",
       "      <td>2694.783254</td>\n",
       "      <td>18.511000</td>\n",
       "      <td>2021-08-11</td>\n",
       "      <td>8</td>\n",
       "      <td>2.70</td>\n",
       "      <td>Кира</td>\n",
       "      <td>22</td>\n",
       "      <td>Тюмень</td>\n",
       "      <td>ultra</td>\n",
       "      <td>6</td>\n",
       "      <td>0</td>\n",
       "      <td>199</td>\n",
       "    </tr>\n",
       "    <tr>\n",
       "      <th>4</th>\n",
       "      <td>1</td>\n",
       "      <td>4028.687306</td>\n",
       "      <td>26.265803</td>\n",
       "      <td>2021-08-28</td>\n",
       "      <td>8</td>\n",
       "      <td>4.05</td>\n",
       "      <td>Кира</td>\n",
       "      <td>22</td>\n",
       "      <td>Тюмень</td>\n",
       "      <td>ultra</td>\n",
       "      <td>6</td>\n",
       "      <td>0</td>\n",
       "      <td>199</td>\n",
       "    </tr>\n",
       "  </tbody>\n",
       "</table>\n",
       "</div>"
      ],
      "text/plain": [
       "   user_id     distance   duration       date  month  distance_50_km  name  \\\n",
       "0        1  4409.919140  25.599769 2021-01-01      1            4.40  Кира   \n",
       "1        1  2617.592153  15.816871 2021-01-18      1            2.60  Кира   \n",
       "2        1   754.159807   6.232113 2021-04-20      4            0.75  Кира   \n",
       "3        1  2694.783254  18.511000 2021-08-11      8            2.70  Кира   \n",
       "4        1  4028.687306  26.265803 2021-08-28      8            4.05  Кира   \n",
       "\n",
       "   age    city subscription_type  minute_price  start_ride_price  \\\n",
       "0   22  Тюмень             ultra             6                 0   \n",
       "1   22  Тюмень             ultra             6                 0   \n",
       "2   22  Тюмень             ultra             6                 0   \n",
       "3   22  Тюмень             ultra             6                 0   \n",
       "4   22  Тюмень             ultra             6                 0   \n",
       "\n",
       "   subscription_fee  \n",
       "0               199  \n",
       "1               199  \n",
       "2               199  \n",
       "3               199  \n",
       "4               199  "
      ]
     },
     "metadata": {},
     "output_type": "display_data"
    }
   ],
   "source": [
    "data_sub = data[data['subscription_type'] == 'ultra']\n",
    "display(data_sub.head())"
   ]
  },
  {
   "cell_type": "code",
   "execution_count": 24,
   "id": "aab3b22d",
   "metadata": {},
   "outputs": [
    {
     "data": {
      "text/plain": [
       "True"
      ]
     },
     "metadata": {},
     "output_type": "display_data"
    },
    {
     "data": {
      "text/plain": [
       "True"
      ]
     },
     "metadata": {},
     "output_type": "display_data"
    }
   ],
   "source": [
    "display((data_sub.shape[0] + data_no_sub.shape[0]) == data.shape[0])\n",
    "display((data_sub.shape[1] & data_no_sub.shape[1]) == data.shape[1])"
   ]
  },
  {
   "cell_type": "markdown",
   "id": "b8d44f27",
   "metadata": {},
   "source": [
    "### Визуализация информации о расстоянии и времени поездок для пользователей обеих категорий"
   ]
  },
  {
   "cell_type": "markdown",
   "id": "4a5e1ce2",
   "metadata": {},
   "source": [
    "**Визуализация информации о расстоянии**"
   ]
  },
  {
   "cell_type": "code",
   "execution_count": 26,
   "id": "6d69fb68",
   "metadata": {},
   "outputs": [
    {
     "data": {
      "image/png": "[encoded data removed]",
      "text/plain": [
       "<Figure size 700x500 with 1 Axes>"
      ]
     },
     "metadata": {},
     "output_type": "display_data"
    },
    {
     "data": {
      "text/plain": [
       "'Информация по пользователям без подписки'"
      ]
     },
     "metadata": {},
     "output_type": "display_data"
    },
    {
     "data": {
      "text/plain": [
       "count    11568.000000\n",
       "mean      3045.495282\n",
       "std       1246.173806\n",
       "min          0.855683\n",
       "25%       2366.562689\n",
       "50%       3114.648465\n",
       "75%       3905.697894\n",
       "max       7211.007745\n",
       "Name: distance, dtype: float64"
      ]
     },
     "metadata": {},
     "output_type": "display_data"
    },
    {
     "data": {
      "text/plain": [
       "'Информация по пользователям с подпиской'"
      ]
     },
     "metadata": {},
     "output_type": "display_data"
    },
    {
     "data": {
      "text/plain": [
       "count    6500.000000\n",
       "mean     3115.445388\n",
       "std       836.895330\n",
       "min       244.210438\n",
       "25%      2785.444017\n",
       "50%      3148.637229\n",
       "75%      3560.574425\n",
       "max      5699.769662\n",
       "Name: distance, dtype: float64"
      ]
     },
     "metadata": {},
     "output_type": "display_data"
    }
   ],
   "source": [
    "fig, ax = plt.subplots(figsize=(7,5))\n",
    "\n",
    "ax.hist([data_no_sub['distance_50_km'], data_sub['distance_50_km']], bins=25)\n",
    "ax.legend(['free', 'ultra'], title='Тип подписки',\n",
    "           loc='upper left',\n",
    "           bbox_to_anchor=(0, 1), fontsize=12, title_fontsize=12)\n",
    "ax.set_title('Расстояние поездок пользователей')\n",
    "ax.set_ylabel('Количество поездок')\n",
    "ax.set_xlabel('Расстояние, км')\n",
    "plt.show()\n",
    "\n",
    "display('Информация по пользователям без подписки', data_no_sub['distance'].describe())\n",
    "display('Информация по пользователям с подпиской', data_sub['distance'].describe())"
   ]
  },
  {
   "cell_type": "markdown",
   "id": "203eec83",
   "metadata": {},
   "source": [
    "**Визуализация информации о времени**"
   ]
  },
  {
   "cell_type": "code",
   "execution_count": 28,
   "id": "dadb4d49",
   "metadata": {},
   "outputs": [
    {
     "data": {
      "image/png": "[encoded data removed]",
      "text/plain": [
       "<Figure size 700x500 with 1 Axes>"
      ]
     },
     "metadata": {},
     "output_type": "display_data"
    },
    {
     "data": {
      "text/plain": [
       "'Информация по пользователям без подписки'"
      ]
     },
     "metadata": {},
     "output_type": "display_data"
    },
    {
     "data": {
      "text/plain": [
       "count    11568.000000\n",
       "mean        17.390909\n",
       "std          6.326803\n",
       "min          0.500000\n",
       "25%         12.958437\n",
       "50%         17.326890\n",
       "75%         21.594071\n",
       "max         34.948498\n",
       "Name: duration, dtype: float64"
      ]
     },
     "metadata": {},
     "output_type": "display_data"
    },
    {
     "data": {
      "text/plain": [
       "'Информация по пользователям с подпиской'"
      ]
     },
     "metadata": {},
     "output_type": "display_data"
    },
    {
     "data": {
      "text/plain": [
       "count    6500.000000\n",
       "mean       18.541985\n",
       "std         5.572048\n",
       "min         3.760353\n",
       "25%        14.524654\n",
       "50%        18.178153\n",
       "75%        21.884129\n",
       "max        40.823963\n",
       "Name: duration, dtype: float64"
      ]
     },
     "metadata": {},
     "output_type": "display_data"
    }
   ],
   "source": [
    "fig, ax = plt.subplots(figsize=(7,5))\n",
    "\n",
    "ax.hist([np.ceil(data_no_sub['duration']), np.ceil(data_sub['duration'])], bins=20)\n",
    "ax.legend(['free', 'ultra'], title='Тип подписки',\n",
    "           loc='upper left',\n",
    "           bbox_to_anchor=(0, 1), fontsize=12, title_fontsize=12)\n",
    "ax.set_title('Время поездок пользователей')\n",
    "ax.set_ylabel('Количество поездок')\n",
    "ax.set_xlabel('Продолжительность поездок, мин')\n",
    "plt.show()\n",
    "\n",
    "display('Информация по пользователям без подписки', data_no_sub['duration'].describe())\n",
    "display('Информация по пользователям с подпиской', data_sub['duration'].describe())"
   ]
  },
  {
   "cell_type": "markdown",
   "id": "5a08a7ba-131b-4c0f-8d95-ab658a5e04f1",
   "metadata": {},
   "source": [
    "### Выводы по 4 разделу:"
   ]
  },
  {
   "cell_type": "markdown",
   "id": "dfd11fa5",
   "metadata": {},
   "source": [
    "Стоит отметить, что количество поездок, совершаемое пользователями без подписки, превышает количество поездок, совершаемое пользователями с подпиской, **в 1,78 раза** (11 568 против 6 500).\n",
    "\n",
    "1. Расстояние поездок:\n",
    "- Расстояние поездок у пользователей без подписки имеет более ярко выраженное бимодальное распределение с 'широким' диапозоном распределения;\n",
    "- Несмотря на то, что у пользователей без подписки максимальные значения расстояний больше, чем у пользователей с подпиской, их среднее и медианное значение немного ниже, чем у вторых.\n",
    "2. Время поездок:\n",
    "- У пользователей без подписки есть сеансы с аномальной продолжительностью менее 1 минуты;\n",
    "- Среднее и медианое значение времени поездки у пользователей с подпиской больше, чем у пользователей без подписки."
   ]
  },
  {
   "cell_type": "markdown",
   "id": "402d620f",
   "metadata": {},
   "source": [
    "## Подсчёт выручки"
   ]
  },
  {
   "cell_type": "markdown",
   "id": "5b4f308d",
   "metadata": {},
   "source": [
    "### Создание датафрейма с агрегированными данными о поездках"
   ]
  },
  {
   "cell_type": "code",
   "execution_count": 29,
   "id": "7f1614a9",
   "metadata": {},
   "outputs": [
    {
     "data": {
      "text/html": [
       "<div>\n",
       "<style scoped>\n",
       "    .dataframe tbody tr th:only-of-type {\n",
       "        vertical-align: middle;\n",
       "    }\n",
       "\n",
       "    .dataframe tbody tr th {\n",
       "        vertical-align: top;\n",
       "    }\n",
       "\n",
       "    .dataframe thead th {\n",
       "        text-align: right;\n",
       "    }\n",
       "</style>\n",
       "<table border=\"1\" class=\"dataframe\">\n",
       "  <thead>\n",
       "    <tr style=\"text-align: right;\">\n",
       "      <th></th>\n",
       "      <th>user_id</th>\n",
       "      <th>month</th>\n",
       "      <th>qty</th>\n",
       "      <th>summ_dist</th>\n",
       "      <th>summ_dur</th>\n",
       "      <th>subscription_type</th>\n",
       "      <th>minute_price</th>\n",
       "      <th>start_ride_price</th>\n",
       "      <th>subscription_fee</th>\n",
       "    </tr>\n",
       "  </thead>\n",
       "  <tbody>\n",
       "    <tr>\n",
       "      <th>0</th>\n",
       "      <td>1</td>\n",
       "      <td>1</td>\n",
       "      <td>2</td>\n",
       "      <td>7027.511294</td>\n",
       "      <td>41.416640</td>\n",
       "      <td>ultra</td>\n",
       "      <td>6</td>\n",
       "      <td>0</td>\n",
       "      <td>199</td>\n",
       "    </tr>\n",
       "    <tr>\n",
       "      <th>1</th>\n",
       "      <td>1</td>\n",
       "      <td>4</td>\n",
       "      <td>1</td>\n",
       "      <td>754.159807</td>\n",
       "      <td>6.232113</td>\n",
       "      <td>ultra</td>\n",
       "      <td>6</td>\n",
       "      <td>0</td>\n",
       "      <td>199</td>\n",
       "    </tr>\n",
       "    <tr>\n",
       "      <th>2</th>\n",
       "      <td>1</td>\n",
       "      <td>8</td>\n",
       "      <td>2</td>\n",
       "      <td>6723.470560</td>\n",
       "      <td>44.776802</td>\n",
       "      <td>ultra</td>\n",
       "      <td>6</td>\n",
       "      <td>0</td>\n",
       "      <td>199</td>\n",
       "    </tr>\n",
       "    <tr>\n",
       "      <th>3</th>\n",
       "      <td>1</td>\n",
       "      <td>10</td>\n",
       "      <td>2</td>\n",
       "      <td>5809.911100</td>\n",
       "      <td>31.578017</td>\n",
       "      <td>ultra</td>\n",
       "      <td>6</td>\n",
       "      <td>0</td>\n",
       "      <td>199</td>\n",
       "    </tr>\n",
       "    <tr>\n",
       "      <th>4</th>\n",
       "      <td>1</td>\n",
       "      <td>11</td>\n",
       "      <td>3</td>\n",
       "      <td>7003.499363</td>\n",
       "      <td>53.397424</td>\n",
       "      <td>ultra</td>\n",
       "      <td>6</td>\n",
       "      <td>0</td>\n",
       "      <td>199</td>\n",
       "    </tr>\n",
       "  </tbody>\n",
       "</table>\n",
       "</div>"
      ],
      "text/plain": [
       "   user_id  month  qty    summ_dist   summ_dur subscription_type  \\\n",
       "0        1      1    2  7027.511294  41.416640             ultra   \n",
       "1        1      4    1   754.159807   6.232113             ultra   \n",
       "2        1      8    2  6723.470560  44.776802             ultra   \n",
       "3        1     10    2  5809.911100  31.578017             ultra   \n",
       "4        1     11    3  7003.499363  53.397424             ultra   \n",
       "\n",
       "   minute_price  start_ride_price  subscription_fee  \n",
       "0             6                 0               199  \n",
       "1             6                 0               199  \n",
       "2             6                 0               199  \n",
       "3             6                 0               199  \n",
       "4             6                 0               199  "
      ]
     },
     "metadata": {},
     "output_type": "display_data"
    },
    {
     "data": {
      "text/plain": [
       "(11331, 9)"
      ]
     },
     "metadata": {},
     "output_type": "display_data"
    }
   ],
   "source": [
    "new_data = data.groupby(by=['user_id', 'month']).agg({'distance': ['count', 'sum'], \n",
    "                                                      'duration': 'sum'})\n",
    "new_data.columns = ['qty', 'summ_dist', 'summ_dur']\n",
    "new_data = new_data.reset_index(level=['user_id', 'month'])\n",
    "new_data = new_data.merge(users.loc[:, ['user_id', 'subscription_type']], on='user_id', how='inner')\n",
    "new_data = new_data.merge(subs, on='subscription_type', how='inner')\n",
    "display(new_data.head())\n",
    "display(new_data.shape)"
   ]
  },
  {
   "cell_type": "markdown",
   "id": "76581855",
   "metadata": {},
   "source": [
    "### Добавление столбца с помесячной выручкой"
   ]
  },
  {
   "cell_type": "code",
   "execution_count": 30,
   "id": "41730e81",
   "metadata": {
    "scrolled": true
   },
   "outputs": [
    {
     "data": {
      "text/html": [
       "<div>\n",
       "<style scoped>\n",
       "    .dataframe tbody tr th:only-of-type {\n",
       "        vertical-align: middle;\n",
       "    }\n",
       "\n",
       "    .dataframe tbody tr th {\n",
       "        vertical-align: top;\n",
       "    }\n",
       "\n",
       "    .dataframe thead th {\n",
       "        text-align: right;\n",
       "    }\n",
       "</style>\n",
       "<table border=\"1\" class=\"dataframe\">\n",
       "  <thead>\n",
       "    <tr style=\"text-align: right;\">\n",
       "      <th></th>\n",
       "      <th>user_id</th>\n",
       "      <th>month</th>\n",
       "      <th>qty</th>\n",
       "      <th>summ_dist</th>\n",
       "      <th>summ_dur</th>\n",
       "      <th>subscription_type</th>\n",
       "      <th>minute_price</th>\n",
       "      <th>start_ride_price</th>\n",
       "      <th>subscription_fee</th>\n",
       "      <th>revenue</th>\n",
       "    </tr>\n",
       "  </thead>\n",
       "  <tbody>\n",
       "    <tr>\n",
       "      <th>0</th>\n",
       "      <td>1</td>\n",
       "      <td>1</td>\n",
       "      <td>2</td>\n",
       "      <td>7027.511294</td>\n",
       "      <td>41.416640</td>\n",
       "      <td>ultra</td>\n",
       "      <td>6</td>\n",
       "      <td>0</td>\n",
       "      <td>199</td>\n",
       "      <td>451.0</td>\n",
       "    </tr>\n",
       "    <tr>\n",
       "      <th>1</th>\n",
       "      <td>1</td>\n",
       "      <td>4</td>\n",
       "      <td>1</td>\n",
       "      <td>754.159807</td>\n",
       "      <td>6.232113</td>\n",
       "      <td>ultra</td>\n",
       "      <td>6</td>\n",
       "      <td>0</td>\n",
       "      <td>199</td>\n",
       "      <td>241.0</td>\n",
       "    </tr>\n",
       "    <tr>\n",
       "      <th>2</th>\n",
       "      <td>1</td>\n",
       "      <td>8</td>\n",
       "      <td>2</td>\n",
       "      <td>6723.470560</td>\n",
       "      <td>44.776802</td>\n",
       "      <td>ultra</td>\n",
       "      <td>6</td>\n",
       "      <td>0</td>\n",
       "      <td>199</td>\n",
       "      <td>469.0</td>\n",
       "    </tr>\n",
       "    <tr>\n",
       "      <th>3</th>\n",
       "      <td>1</td>\n",
       "      <td>10</td>\n",
       "      <td>2</td>\n",
       "      <td>5809.911100</td>\n",
       "      <td>31.578017</td>\n",
       "      <td>ultra</td>\n",
       "      <td>6</td>\n",
       "      <td>0</td>\n",
       "      <td>199</td>\n",
       "      <td>391.0</td>\n",
       "    </tr>\n",
       "    <tr>\n",
       "      <th>4</th>\n",
       "      <td>1</td>\n",
       "      <td>11</td>\n",
       "      <td>3</td>\n",
       "      <td>7003.499363</td>\n",
       "      <td>53.397424</td>\n",
       "      <td>ultra</td>\n",
       "      <td>6</td>\n",
       "      <td>0</td>\n",
       "      <td>199</td>\n",
       "      <td>523.0</td>\n",
       "    </tr>\n",
       "  </tbody>\n",
       "</table>\n",
       "</div>"
      ],
      "text/plain": [
       "   user_id  month  qty    summ_dist   summ_dur subscription_type  \\\n",
       "0        1      1    2  7027.511294  41.416640             ultra   \n",
       "1        1      4    1   754.159807   6.232113             ultra   \n",
       "2        1      8    2  6723.470560  44.776802             ultra   \n",
       "3        1     10    2  5809.911100  31.578017             ultra   \n",
       "4        1     11    3  7003.499363  53.397424             ultra   \n",
       "\n",
       "   minute_price  start_ride_price  subscription_fee  revenue  \n",
       "0             6                 0               199    451.0  \n",
       "1             6                 0               199    241.0  \n",
       "2             6                 0               199    469.0  \n",
       "3             6                 0               199    391.0  \n",
       "4             6                 0               199    523.0  "
      ]
     },
     "metadata": {},
     "output_type": "display_data"
    }
   ],
   "source": [
    "new_data['revenue'] = (new_data['qty'] * new_data['start_ride_price'] + \n",
    "                       np.ceil(new_data['summ_dur']) * new_data['minute_price'] + new_data['subscription_fee'])\n",
    "display(new_data.head())"
   ]
  },
  {
   "cell_type": "markdown",
   "id": "b7098a27",
   "metadata": {},
   "source": [
    "**Выводы по 5 разделу:** по результатам работы по данному разделу был создан новый датафрейм размером 11 331 x 9, в котором указаны id пользователей, месяца, тип подписки и ее параметры, значения количества поездок, суммарного пройденого расстояния и времени помесячно. Помимо этого, добавлены столбцы с указанием помесячной выручки по каждому пользователю."
   ]
  },
  {
   "cell_type": "markdown",
   "id": "41545ac0",
   "metadata": {},
   "source": [
    "## Проверка гипотез"
   ]
  },
  {
   "cell_type": "markdown",
   "id": "93ca6e2a",
   "metadata": {},
   "source": [
    "### Гипотеза о продолжительности поездок пользователей с подпиской и без нее"
   ]
  },
  {
   "cell_type": "markdown",
   "id": "e6367623",
   "metadata": {},
   "source": [
    "**Гипотеза:**\n",
    "\n",
    "H0: Пользователи с подпиской тратят столько же времени на поездки, сколько и пользователи без подписки.\n",
    "\n",
    "Н1: Пользователи с подпиской тратят больше времени на поездки, чем пользователи без подписки."
   ]
  },
  {
   "cell_type": "code",
   "execution_count": 31,
   "id": "eb86264d",
   "metadata": {},
   "outputs": [
    {
     "data": {
      "text/plain": [
       "'Среднее время поездки пользователей c подпиской: 18.54 минут'"
      ]
     },
     "metadata": {},
     "output_type": "display_data"
    },
    {
     "data": {
      "text/plain": [
       "'Среднее время поездки пользователей без подписки: 17.39 минут'"
      ]
     },
     "metadata": {},
     "output_type": "display_data"
    },
    {
     "data": {
      "text/plain": [
       "'p-значение: 1.2804098316645618e-34'"
      ]
     },
     "metadata": {},
     "output_type": "display_data"
    },
    {
     "data": {
      "text/plain": [
       "'Пользователи с подпиской тратят больше времени на поездки, чем пользователи без подписки'"
      ]
     },
     "metadata": {},
     "output_type": "display_data"
    }
   ],
   "source": [
    "display('Среднее время поездки пользователей c подпиской: {} минут'.format(round(data_sub['duration'].mean(), 2)))\n",
    "display('Среднее время поездки пользователей без подписки: {} минут'.format(round(data_no_sub['duration'].mean(), 2)))\n",
    "\n",
    "alpha = 0.05\n",
    "\n",
    "results = st.ttest_ind(data_sub['duration'], data_no_sub['duration'], alternative='greater')\n",
    "display(f'p-значение: {results.pvalue}')\n",
    "\n",
    "if results.pvalue > alpha:\n",
    "    display('Пользователи с подпиской тратят не больше времени на поездки, чем пользователи без подписки')\n",
    "else:\n",
    "    display('Пользователи с подпиской тратят больше времени на поездки, чем пользователи без подписки')"
   ]
  },
  {
   "cell_type": "markdown",
   "id": "bb4f71dc",
   "metadata": {},
   "source": [
    "### Гипотеза о среднем расстоянии поездок пользователей с подпиской"
   ]
  },
  {
   "cell_type": "markdown",
   "id": "2f0e6188",
   "metadata": {},
   "source": [
    "**Гипотеза:**\n",
    "\n",
    "H0: Пользователи с подпиской в среднем за одну поездку проезжают 3130 метров.\n",
    "\n",
    "Н1: Пользователи с подпиской в среднем за одну поездку проезжают более 3130 метров."
   ]
  },
  {
   "cell_type": "code",
   "execution_count": 32,
   "id": "cc1e0bd9",
   "metadata": {
    "scrolled": true
   },
   "outputs": [
    {
     "data": {
      "text/plain": [
       "'Среднее растояние поездки пользователей с подпиской: 3115.45 метров'"
      ]
     },
     "metadata": {},
     "output_type": "display_data"
    },
    {
     "data": {
      "text/plain": [
       "'p-значение: 0.9195368847849785'"
      ]
     },
     "metadata": {},
     "output_type": "display_data"
    },
    {
     "data": {
      "text/plain": [
       "'Пользователи с подпиской за одну поездку проезжают 3130 метров'"
      ]
     },
     "metadata": {},
     "output_type": "display_data"
    }
   ],
   "source": [
    "display('Среднее растояние поездки пользователей с подпиской: {} метров'.format(round(data_sub['distance'].mean(), 2)))\n",
    "\n",
    "alpha = 0.05\n",
    "val = 3130\n",
    "\n",
    "results = st.ttest_1samp(data_sub['distance'], val, alternative='greater')\n",
    "display(f'p-значение: {results.pvalue}')\n",
    "\n",
    "if results.pvalue > alpha:\n",
    "    display('Пользователи с подпиской за одну поездку проезжают 3130 метров')\n",
    "else:\n",
    "    display('Пользователи с подпиской за одну поездку проезжают более 3130 метров')"
   ]
  },
  {
   "cell_type": "markdown",
   "id": "7c043c85",
   "metadata": {},
   "source": [
    "### Гипотеза о помесячной выручке по разным пользователям"
   ]
  },
  {
   "cell_type": "markdown",
   "id": "aa5a9237",
   "metadata": {},
   "source": [
    "**Гипотеза:**\n",
    "\n",
    "H0: Выручка от пользователей с подпиской равна выручке от пользователей без подписки.\n",
    "\n",
    "Н1: Выручка от пользователей с подпиской выше, чем выручка от пользователей без подписки."
   ]
  },
  {
   "cell_type": "code",
   "execution_count": 33,
   "id": "e1d58f19",
   "metadata": {
    "scrolled": true
   },
   "outputs": [
    {
     "data": {
      "text/plain": [
       "'Среднее помесячная выручка от пользователей с подпиской: 361.48 рублей'"
      ]
     },
     "metadata": {},
     "output_type": "display_data"
    },
    {
     "data": {
      "text/plain": [
       "'Среднее помесячная выручка от пользователей без подписки: 325.84 рублей'"
      ]
     },
     "metadata": {},
     "output_type": "display_data"
    },
    {
     "data": {
      "text/plain": [
       "'p-значение: 2.8130926188487286e-35'"
      ]
     },
     "metadata": {},
     "output_type": "display_data"
    },
    {
     "data": {
      "text/plain": [
       "'Помесячная выручка от пользователей с подпиской больше, чем от пользователей без подписки'"
      ]
     },
     "metadata": {},
     "output_type": "display_data"
    }
   ],
   "source": [
    "revenue_sub = new_data[new_data['subscription_type'] == 'ultra']['revenue']\n",
    "revenue_no_sub = new_data[new_data['subscription_type'] == 'free']['revenue']\n",
    "\n",
    "display('Среднее помесячная выручка от пользователей с подпиской: {} рублей'.format(round(revenue_sub.mean(), 2)))\n",
    "display('Среднее помесячная выручка от пользователей без подписки: {} рублей'.format(round(revenue_no_sub.mean(), 2)))\n",
    "\n",
    "alpha = 0.05\n",
    "\n",
    "results = st.ttest_ind(revenue_sub, revenue_no_sub, alternative='greater')\n",
    "display(f'p-значение: {results.pvalue}')\n",
    "\n",
    "if results.pvalue > alpha:\n",
    "    display('Помесячная выручка от пользователей с подпиской не больше, чем от пользователей без подписки')\n",
    "else:\n",
    "    display('Помесячная выручка от пользователей с подпиской больше, чем от пользователей без подписки')\n"
   ]
  },
  {
   "cell_type": "markdown",
   "id": "60a39753",
   "metadata": {},
   "source": [
    "### Гипотеза о количестве обращений в техподдержку"
   ]
  },
  {
   "cell_type": "markdown",
   "id": "68cdf57d",
   "metadata": {},
   "source": [
    "**Гипотеза:**\n",
    "\n",
    "H0: Количество обращений в техподдержку после обновления равно количеству обращений в техподдержку до обновления.\n",
    "\n",
    "Н1: Количество обращений в техподдержку после обновления ниже, чем количество обращений в техподдержку до обновления (односторонняя).\n",
    "\n",
    "Для проверки указанной гипотезе нам потребуется провести двухвыборочный t-тест для зависимых выборок `st.ttest_rel`. Аргументами в тесте будут служить данные: количество обращений до обновления и количество обращений после обновления."
   ]
  },
  {
   "cell_type": "markdown",
   "id": "cd78994e-0e5c-49f0-9b36-e70b8f9c8bc9",
   "metadata": {},
   "source": [
    "### Выводы по 6 разделу:"
   ]
  },
  {
   "cell_type": "markdown",
   "id": "e3f97ba5",
   "metadata": {},
   "source": [
    "- Пользователи с подпиской тратят больше времени на поездки, чем пользователи без подписки;\n",
    "- Пользователи с подпиской за одну поездку проезжают не больше 3130 метров;\n",
    "- Помесячная выручка от пользователей с подпиской больше, чем от пользователей без подписки."
   ]
  },
  {
   "cell_type": "markdown",
   "id": "61213c5e",
   "metadata": {},
   "source": [
    "## Распределения"
   ]
  },
  {
   "cell_type": "markdown",
   "id": "4fcfd789",
   "metadata": {},
   "source": [
    "### Проведение акции с раздачей промокодов на один бесплатный месяц подписки"
   ]
  },
  {
   "cell_type": "code",
   "execution_count": 34,
   "id": "8b9f63c1",
   "metadata": {},
   "outputs": [
    {
     "data": {
      "image/png": "[encoded data removed]",
      "text/plain": [
       "<Figure size 700x500 with 1 Axes>"
      ]
     },
     "metadata": {},
     "output_type": "display_data"
    },
    {
     "data": {
      "text/plain": [
       "'Вероятность невыполнить план: 4.97 %'"
      ]
     },
     "metadata": {},
     "output_type": "display_data"
    }
   ],
   "source": [
    "n = 1169\n",
    "p = 0.1\n",
    "\n",
    "distr = []\n",
    "\n",
    "for k in range(0, n + 1):\n",
    "    current_value = st.binom.pmf(k, n, p)\n",
    "    distr.append(current_value)\n",
    "    \n",
    "fig, ax = plt.subplots(figsize=(7,5))\n",
    "ax.bar(range(0, n + 1), distr)\n",
    "ax.set_xlim(50, 200)\n",
    "ax.set_xlabel('Количество пользователей, продливших подписку')\n",
    "ax.set_ylabel('Вероятность продления подписки')\n",
    "\n",
    "plt.show()\n",
    "\n",
    "mu = n * p\n",
    "sigma = (n * p * (1 - p)) ** 0.5\n",
    "dist = st.norm(mu, sigma) \n",
    "result = dist.cdf(100)\n",
    "display('Вероятность невыполнить план: {} %'.format(round(result * 100, 2)))"
   ]
  },
  {
   "cell_type": "markdown",
   "id": "1cd951a9",
   "metadata": {},
   "source": [
    "### Рассылка клиентам push-уведомлений"
   ]
  },
  {
   "cell_type": "code",
   "execution_count": 35,
   "id": "4709fc72",
   "metadata": {},
   "outputs": [
    {
     "data": {
      "image/png": "[encoded data removed]",
      "text/plain": [
       "<Figure size 700x500 with 1 Axes>"
      ]
     },
     "metadata": {},
     "output_type": "display_data"
    },
    {
     "data": {
      "text/plain": [
       "'Вероятность того, что 399 500 пользователей не откроют push-уведомление: 100.0 %'"
      ]
     },
     "metadata": {},
     "output_type": "display_data"
    }
   ],
   "source": [
    "def linspace(start, stop, num):\n",
    "    step = (stop - start) / (num - 1)\n",
    "    result = []\n",
    "    for i in range(num):\n",
    "        result.append(start + step * i)\n",
    "    return result\n",
    "\n",
    "n = 1_000_000\n",
    "p = 0.4\n",
    "\n",
    "mu = n * p\n",
    "sigma = (n * p * (1 - p)) ** 0.5\n",
    "left = int(mu - 4 * sigma)\n",
    "right = int(mu + 4 * sigma)\n",
    "\n",
    "x = linspace(left, right, 100)\n",
    "\n",
    "fig, ax = plt.subplots(figsize=(7, 5))\n",
    "\n",
    "ax.plot(x, st.norm.pdf(x, mu, sigma), 'b-', lw=3)\n",
    "x_ticks = list(range(398_500, 401_500, 500))\n",
    "ax.set_xticks(x_ticks)\n",
    "ax.grid()\n",
    "ax.set_xlabel('Количество польователей')\n",
    "\n",
    "plt.show()\n",
    "\n",
    "result = dist.cdf(399_500)\n",
    "display('Вероятность того, что 399 500 пользователей не откроют push-уведомление: {} %'.format(round(result * 100, 2)))"
   ]
  },
  {
   "cell_type": "markdown",
   "id": "1d1b7441-d5e2-4b1d-845a-eed5ed01ac2c",
   "metadata": {},
   "source": [
    "### Выводы по 7 разделу:"
   ]
  },
  {
   "cell_type": "markdown",
   "id": "c6904611",
   "metadata": {},
   "source": [
    "- При проведении акции с раздачей промокодов для выполнения плана (с вероятностью 95%), выраженного в продлении подписки у 100 пользователей, необходимо раздать промокоды минимум 1 169 пользователям;\n",
    "- Про проведении акции с направлением push-уведомлений при направлении уведомлений 1 миллиону пользователей и вероятностью открытия 1 push-уведомлении равному 0.4 вероятность того, что 399 500 пользователей откроют push-уведомление равно 0%."
   ]
  },
  {
   "cell_type": "markdown",
   "id": "d7708a81",
   "metadata": {},
   "source": [
    "## Выводы по проектной работе"
   ]
  },
  {
   "cell_type": "markdown",
   "id": "bdcf4222",
   "metadata": {},
   "source": [
    "В проектной работе были рассмотрены данные о пользователях сервиса электросамокатов и их поездках. Всего **1 565** пользователей и **18 068** поездок. \n",
    "\n",
    "В процессе предобработки данных были выевлены дубликаты в данных о пользователях в количестве 31 шт, а также аномалии в данных о поездках, выраженные в некорректно указанной продолжительности поездки (0,5 минут у пользователей без подписки).\n",
    "\n",
    "По результатам исследовательского анализа данных были сформулированы следующие выводы:\n",
    "- Пользователи распределены по **8 городам**,в среднем **192** пользователя в 1 городе;\n",
    "- Количество пользователей **с подпиской** равно **699** (46% от общего количества), **без подписки** - **835** (54% от общего количества);\n",
    "- **Возраст** пользователей приложения имеет нормальное распределение с медианным значением **25** лет. Возраст пользователей распределен в границах **от 12 до 43 лет**;\n",
    "- **Расстояние** за одну поездку имеет бимодальное распределение. Расстояние за одну поездку распределено в границах **от 0.86 до 7 211.01 метров**. С учетом значения минимального расстояния возможно наличие аномалий;\n",
    "- **Продолжительность поездки** имеет нормальное распределение со средним в **17.81 минуты**. Продолжительное поездки распределено в границах **от 0.5 до 40.82 минут**;\n",
    "- В данных о **продолжительности поездки** присутствуют **анамолии** в количестве 95 штук.\n",
    "- **Расстояние поездок** у пользователей без подписки имеет более ярко выраженное бимодальное распределение с 'широким' диапозоном распределения;\n",
    "- Несмотря на то, что у пользователей без подписки максимальные значения расстояний больше, чем у пользователей с подпиской, их среднее и медианное значение немного ниже, чем у вторых;\n",
    "- Среднее и медианое значение **времени поездки** у пользователей с подпиской больше, чем у пользователей без подписки.\n",
    "\n",
    "В процессе статистического анализа данных, были сформулированы и проверены ряд гипотез. Выводы по результатам проверки гипотез следующие:\n",
    "- Пользователи с подпиской **тратят больше времени на поездки**, чем пользователи без подписки;\n",
    "- Пользователи с подпиской за одну поездку проезжают **не больше 3130 метров**;\n",
    "- **Помесячная выручка** от пользователей с подпиской **больше**, чем от пользователей без подписки.\n",
    "\n",
    "Резюмируя все вышеперечисленное, можно отметить, что **более выгодные** для сервиса электросамокатов являются **пользователи с подпиской**."
   ]
  }
 ],
 "metadata": {
  "ExecuteTimeLog": [
   {
    "duration": 451,
    "start_time": "2025-02-03T18:15:45.382Z"
   },
   {
    "duration": 61,
    "start_time": "2025-02-03T18:50:03.614Z"
   },
   {
    "duration": 26,
    "start_time": "2025-02-03T18:50:49.026Z"
   },
   {
    "duration": 17,
    "start_time": "2025-02-03T18:51:23.644Z"
   },
   {
    "duration": 15,
    "start_time": "2025-02-03T18:51:38.744Z"
   },
   {
    "duration": 16,
    "start_time": "2025-02-03T19:00:25.470Z"
   },
   {
    "duration": 50,
    "start_time": "2025-02-03T19:00:51.122Z"
   },
   {
    "duration": 12,
    "start_time": "2025-02-03T19:02:44.132Z"
   },
   {
    "duration": 67,
    "start_time": "2025-02-03T19:08:46.346Z"
   },
   {
    "duration": 11,
    "start_time": "2025-02-03T19:08:59.749Z"
   },
   {
    "duration": 10,
    "start_time": "2025-02-03T19:09:30.425Z"
   },
   {
    "duration": 7,
    "start_time": "2025-02-03T19:10:16.203Z"
   },
   {
    "duration": 14,
    "start_time": "2025-02-03T19:10:35.959Z"
   },
   {
    "duration": 12,
    "start_time": "2025-02-03T19:13:49.110Z"
   },
   {
    "duration": 9,
    "start_time": "2025-02-03T19:14:36.741Z"
   },
   {
    "duration": 1245,
    "start_time": "2025-02-03T19:15:20.136Z"
   },
   {
    "duration": 13,
    "start_time": "2025-02-03T19:20:15.899Z"
   },
   {
    "duration": 11,
    "start_time": "2025-02-03T19:21:44.558Z"
   },
   {
    "duration": 834,
    "start_time": "2025-02-03T19:22:18.340Z"
   },
   {
    "duration": 9,
    "start_time": "2025-02-03T19:23:03.700Z"
   },
   {
    "duration": 966,
    "start_time": "2025-02-03T19:23:30.061Z"
   },
   {
    "duration": 1351,
    "start_time": "2025-02-03T19:24:17.285Z"
   },
   {
    "duration": 13,
    "start_time": "2025-02-03T19:24:24.692Z"
   },
   {
    "duration": 9,
    "start_time": "2025-02-03T19:24:46.658Z"
   },
   {
    "duration": 12,
    "start_time": "2025-02-03T19:26:13.725Z"
   },
   {
    "duration": 4,
    "start_time": "2025-02-03T19:27:43.298Z"
   },
   {
    "duration": 4,
    "start_time": "2025-02-03T19:27:45.580Z"
   },
   {
    "duration": 9,
    "start_time": "2025-02-03T19:27:54.852Z"
   },
   {
    "duration": 10,
    "start_time": "2025-02-03T19:28:16.485Z"
   },
   {
    "duration": 14,
    "start_time": "2025-02-03T19:32:09.448Z"
   },
   {
    "duration": 10,
    "start_time": "2025-02-03T19:32:40.873Z"
   },
   {
    "duration": 8,
    "start_time": "2025-02-03T19:35:59.047Z"
   },
   {
    "duration": 848,
    "start_time": "2025-02-04T08:55:22.784Z"
   },
   {
    "duration": 72,
    "start_time": "2025-02-04T08:55:24.660Z"
   },
   {
    "duration": 25,
    "start_time": "2025-02-04T08:55:25.600Z"
   },
   {
    "duration": 17,
    "start_time": "2025-02-04T08:55:26.104Z"
   },
   {
    "duration": 15,
    "start_time": "2025-02-04T08:55:26.607Z"
   },
   {
    "duration": 13,
    "start_time": "2025-02-04T08:55:27.911Z"
   },
   {
    "duration": 11,
    "start_time": "2025-02-04T08:55:28.539Z"
   },
   {
    "duration": 12,
    "start_time": "2025-02-04T08:55:30.313Z"
   },
   {
    "duration": 11,
    "start_time": "2025-02-04T08:55:30.937Z"
   },
   {
    "duration": 8,
    "start_time": "2025-02-04T08:55:31.598Z"
   },
   {
    "duration": 90,
    "start_time": "2025-02-04T09:12:34.124Z"
   },
   {
    "duration": 72,
    "start_time": "2025-02-04T09:12:50.380Z"
   },
   {
    "duration": 59,
    "start_time": "2025-02-04T09:12:52.589Z"
   },
   {
    "duration": 16,
    "start_time": "2025-02-04T09:12:53.666Z"
   },
   {
    "duration": 17,
    "start_time": "2025-02-04T09:12:53.953Z"
   },
   {
    "duration": 14,
    "start_time": "2025-02-04T09:12:54.205Z"
   },
   {
    "duration": 14,
    "start_time": "2025-02-04T09:12:56.738Z"
   },
   {
    "duration": 13,
    "start_time": "2025-02-04T09:12:57.763Z"
   },
   {
    "duration": 13,
    "start_time": "2025-02-04T09:12:58.706Z"
   },
   {
    "duration": 15,
    "start_time": "2025-02-04T09:13:02.958Z"
   },
   {
    "duration": 11,
    "start_time": "2025-02-04T09:13:04.086Z"
   },
   {
    "duration": 534,
    "start_time": "2025-02-04T09:14:17.582Z"
   },
   {
    "duration": 161,
    "start_time": "2025-02-04T09:14:27.199Z"
   },
   {
    "duration": 180,
    "start_time": "2025-02-04T09:18:03.559Z"
   },
   {
    "duration": 16,
    "start_time": "2025-02-04T09:18:44.669Z"
   },
   {
    "duration": 1139,
    "start_time": "2025-02-04T09:20:04.815Z"
   },
   {
    "duration": 70,
    "start_time": "2025-02-04T09:20:06.901Z"
   },
   {
    "duration": 22,
    "start_time": "2025-02-04T09:20:07.212Z"
   },
   {
    "duration": 16,
    "start_time": "2025-02-04T09:20:07.360Z"
   },
   {
    "duration": 15,
    "start_time": "2025-02-04T09:20:07.529Z"
   },
   {
    "duration": 14,
    "start_time": "2025-02-04T09:20:08.426Z"
   },
   {
    "duration": 11,
    "start_time": "2025-02-04T09:20:08.855Z"
   },
   {
    "duration": 12,
    "start_time": "2025-02-04T09:20:09.466Z"
   },
   {
    "duration": 11,
    "start_time": "2025-02-04T09:20:09.703Z"
   },
   {
    "duration": 8,
    "start_time": "2025-02-04T09:20:10.015Z"
   },
   {
    "duration": 160,
    "start_time": "2025-02-04T09:20:11.442Z"
   },
   {
    "duration": 163,
    "start_time": "2025-02-04T09:21:10.032Z"
   },
   {
    "duration": 103,
    "start_time": "2025-02-04T09:21:50.658Z"
   },
   {
    "duration": 154,
    "start_time": "2025-02-04T09:22:36.447Z"
   },
   {
    "duration": 11,
    "start_time": "2025-02-04T09:23:15.572Z"
   },
   {
    "duration": 157,
    "start_time": "2025-02-04T09:23:21.699Z"
   },
   {
    "duration": 156,
    "start_time": "2025-02-04T09:23:25.895Z"
   },
   {
    "duration": 146,
    "start_time": "2025-02-04T09:23:31.726Z"
   },
   {
    "duration": 149,
    "start_time": "2025-02-04T09:23:38.833Z"
   },
   {
    "duration": 137,
    "start_time": "2025-02-04T09:24:14.139Z"
   },
   {
    "duration": 12,
    "start_time": "2025-02-04T09:25:06.315Z"
   },
   {
    "duration": 11,
    "start_time": "2025-02-04T09:25:17.023Z"
   },
   {
    "duration": 144,
    "start_time": "2025-02-04T09:25:22.563Z"
   },
   {
    "duration": 16,
    "start_time": "2025-02-04T09:35:35.242Z"
   },
   {
    "duration": 219,
    "start_time": "2025-02-04T09:39:26.499Z"
   },
   {
    "duration": 109,
    "start_time": "2025-02-04T09:39:55.931Z"
   },
   {
    "duration": 116,
    "start_time": "2025-02-04T09:42:14.446Z"
   },
   {
    "duration": 116,
    "start_time": "2025-02-04T09:42:21.520Z"
   },
   {
    "duration": 109,
    "start_time": "2025-02-04T09:43:31.157Z"
   },
   {
    "duration": 1237,
    "start_time": "2025-02-05T15:02:00.802Z"
   },
   {
    "duration": 61,
    "start_time": "2025-02-05T15:02:03.064Z"
   },
   {
    "duration": 21,
    "start_time": "2025-02-05T15:02:03.498Z"
   },
   {
    "duration": 17,
    "start_time": "2025-02-05T15:02:03.704Z"
   },
   {
    "duration": 15,
    "start_time": "2025-02-05T15:02:03.949Z"
   },
   {
    "duration": 16,
    "start_time": "2025-02-05T15:02:04.843Z"
   },
   {
    "duration": 11,
    "start_time": "2025-02-05T15:02:06.227Z"
   },
   {
    "duration": 13,
    "start_time": "2025-02-05T15:02:09.615Z"
   },
   {
    "duration": 12,
    "start_time": "2025-02-05T15:02:09.630Z"
   },
   {
    "duration": 22,
    "start_time": "2025-02-05T15:02:09.643Z"
   },
   {
    "duration": 194,
    "start_time": "2025-02-05T15:02:11.671Z"
   },
   {
    "duration": 222,
    "start_time": "2025-02-05T15:03:28.797Z"
   },
   {
    "duration": 214,
    "start_time": "2025-02-05T15:04:35.759Z"
   },
   {
    "duration": 106,
    "start_time": "2025-02-05T15:06:13.463Z"
   },
   {
    "duration": 218,
    "start_time": "2025-02-05T15:07:25.900Z"
   },
   {
    "duration": 100,
    "start_time": "2025-02-05T15:12:14.617Z"
   },
   {
    "duration": 130,
    "start_time": "2025-02-05T15:12:33.625Z"
   },
   {
    "duration": 150,
    "start_time": "2025-02-05T15:18:02.146Z"
   },
   {
    "duration": 139,
    "start_time": "2025-02-05T15:18:53.151Z"
   },
   {
    "duration": 302,
    "start_time": "2025-02-05T15:19:02.264Z"
   },
   {
    "duration": 141,
    "start_time": "2025-02-05T15:19:20.896Z"
   },
   {
    "duration": 139,
    "start_time": "2025-02-05T15:22:56.292Z"
   },
   {
    "duration": 143,
    "start_time": "2025-02-05T15:23:58.042Z"
   },
   {
    "duration": 144,
    "start_time": "2025-02-05T15:24:28.022Z"
   },
   {
    "duration": 172,
    "start_time": "2025-02-05T15:24:34.620Z"
   },
   {
    "duration": 143,
    "start_time": "2025-02-05T15:25:30.283Z"
   },
   {
    "duration": 156,
    "start_time": "2025-02-05T15:26:24.156Z"
   },
   {
    "duration": 143,
    "start_time": "2025-02-05T15:26:46.796Z"
   },
   {
    "duration": 160,
    "start_time": "2025-02-05T15:27:51.793Z"
   },
   {
    "duration": 144,
    "start_time": "2025-02-05T15:27:57.531Z"
   },
   {
    "duration": 240,
    "start_time": "2025-02-05T15:28:07.585Z"
   },
   {
    "duration": 158,
    "start_time": "2025-02-05T15:28:18.044Z"
   },
   {
    "duration": 149,
    "start_time": "2025-02-05T15:36:05.381Z"
   },
   {
    "duration": 155,
    "start_time": "2025-02-05T15:36:45.000Z"
   },
   {
    "duration": 146,
    "start_time": "2025-02-05T15:37:17.746Z"
   },
   {
    "duration": 152,
    "start_time": "2025-02-05T15:37:38.824Z"
   },
   {
    "duration": 104,
    "start_time": "2025-02-05T15:39:19.108Z"
   },
   {
    "duration": 145,
    "start_time": "2025-02-05T15:39:40.183Z"
   },
   {
    "duration": 119,
    "start_time": "2025-02-05T15:40:36.875Z"
   },
   {
    "duration": 111,
    "start_time": "2025-02-05T15:40:42.017Z"
   },
   {
    "duration": 110,
    "start_time": "2025-02-05T15:40:53.339Z"
   },
   {
    "duration": 201,
    "start_time": "2025-02-05T15:42:08.830Z"
   },
   {
    "duration": 112,
    "start_time": "2025-02-05T15:42:43.382Z"
   },
   {
    "duration": 116,
    "start_time": "2025-02-05T15:42:48.662Z"
   },
   {
    "duration": 156,
    "start_time": "2025-02-05T15:44:08.578Z"
   },
   {
    "duration": 171,
    "start_time": "2025-02-05T15:44:19.276Z"
   },
   {
    "duration": 167,
    "start_time": "2025-02-05T15:44:37.758Z"
   },
   {
    "duration": 184,
    "start_time": "2025-02-05T15:44:56.075Z"
   },
   {
    "duration": 174,
    "start_time": "2025-02-05T15:45:45.292Z"
   },
   {
    "duration": 107,
    "start_time": "2025-02-05T15:49:29.029Z"
   },
   {
    "duration": 10,
    "start_time": "2025-02-05T15:53:22.774Z"
   },
   {
    "duration": 6,
    "start_time": "2025-02-05T15:53:48.495Z"
   },
   {
    "duration": 22,
    "start_time": "2025-02-05T16:11:35.093Z"
   },
   {
    "duration": 307,
    "start_time": "2025-02-05T16:12:02.842Z"
   },
   {
    "duration": 376,
    "start_time": "2025-02-05T16:12:30.430Z"
   },
   {
    "duration": 284,
    "start_time": "2025-02-05T16:13:13.689Z"
   },
   {
    "duration": 104,
    "start_time": "2025-02-05T16:14:43.237Z"
   },
   {
    "duration": 107,
    "start_time": "2025-02-05T16:15:19.566Z"
   },
   {
    "duration": 177,
    "start_time": "2025-02-05T16:15:50.955Z"
   },
   {
    "duration": 20,
    "start_time": "2025-02-05T16:16:32.472Z"
   },
   {
    "duration": 316,
    "start_time": "2025-02-05T16:18:49.984Z"
   },
   {
    "duration": 289,
    "start_time": "2025-02-05T16:19:13.982Z"
   },
   {
    "duration": 403,
    "start_time": "2025-02-05T16:20:35.499Z"
   },
   {
    "duration": 173,
    "start_time": "2025-02-05T16:20:39.582Z"
   },
   {
    "duration": 26,
    "start_time": "2025-02-05T16:21:02.396Z"
   },
   {
    "duration": 297,
    "start_time": "2025-02-05T16:23:00.390Z"
   },
   {
    "duration": 295,
    "start_time": "2025-02-05T16:23:59.588Z"
   },
   {
    "duration": 310,
    "start_time": "2025-02-05T16:24:13.638Z"
   },
   {
    "duration": 24,
    "start_time": "2025-02-05T16:24:33.738Z"
   },
   {
    "duration": 26,
    "start_time": "2025-02-05T16:24:50.931Z"
   },
   {
    "duration": 23,
    "start_time": "2025-02-05T16:27:50.469Z"
   },
   {
    "duration": 234,
    "start_time": "2025-02-05T16:28:14.264Z"
   },
   {
    "duration": 350,
    "start_time": "2025-02-05T16:29:47.729Z"
   },
   {
    "duration": 25,
    "start_time": "2025-02-05T16:36:01.719Z"
   },
   {
    "duration": 1309,
    "start_time": "2025-02-05T16:36:15.339Z"
   },
   {
    "duration": 1348,
    "start_time": "2025-02-05T16:36:39.014Z"
   },
   {
    "duration": 26,
    "start_time": "2025-02-05T16:36:46.399Z"
   },
   {
    "duration": 171,
    "start_time": "2025-02-05T16:36:47.505Z"
   },
   {
    "duration": 185,
    "start_time": "2025-02-05T16:38:20.528Z"
   },
   {
    "duration": 1360,
    "start_time": "2025-02-06T09:48:50.665Z"
   },
   {
    "duration": 59,
    "start_time": "2025-02-06T09:48:52.962Z"
   },
   {
    "duration": 24,
    "start_time": "2025-02-06T09:48:53.459Z"
   },
   {
    "duration": 18,
    "start_time": "2025-02-06T09:48:53.755Z"
   },
   {
    "duration": 17,
    "start_time": "2025-02-06T09:48:53.994Z"
   },
   {
    "duration": 16,
    "start_time": "2025-02-06T09:48:54.948Z"
   },
   {
    "duration": 12,
    "start_time": "2025-02-06T09:48:55.438Z"
   },
   {
    "duration": 15,
    "start_time": "2025-02-06T09:48:56.152Z"
   },
   {
    "duration": 12,
    "start_time": "2025-02-06T09:48:56.400Z"
   },
   {
    "duration": 8,
    "start_time": "2025-02-06T09:48:56.659Z"
   },
   {
    "duration": 205,
    "start_time": "2025-02-06T09:48:57.639Z"
   },
   {
    "duration": 128,
    "start_time": "2025-02-06T09:48:59.246Z"
   },
   {
    "duration": 194,
    "start_time": "2025-02-06T09:49:02.425Z"
   },
   {
    "duration": 27,
    "start_time": "2025-02-06T09:49:10.822Z"
   },
   {
    "duration": 206,
    "start_time": "2025-02-06T09:56:35.507Z"
   },
   {
    "duration": 252,
    "start_time": "2025-02-06T09:56:54.780Z"
   },
   {
    "duration": 228,
    "start_time": "2025-02-06T09:59:19.059Z"
   },
   {
    "duration": 105,
    "start_time": "2025-02-06T09:59:49.247Z"
   },
   {
    "duration": 213,
    "start_time": "2025-02-06T10:06:47.012Z"
   },
   {
    "duration": 202,
    "start_time": "2025-02-06T10:06:53.390Z"
   },
   {
    "duration": 25,
    "start_time": "2025-02-06T10:18:18.999Z"
   },
   {
    "duration": 25,
    "start_time": "2025-02-06T10:18:39.166Z"
   },
   {
    "duration": 27,
    "start_time": "2025-02-06T10:18:51.349Z"
   },
   {
    "duration": 202,
    "start_time": "2025-02-06T10:18:55.180Z"
   },
   {
    "duration": 202,
    "start_time": "2025-02-06T10:19:05.075Z"
   },
   {
    "duration": 189,
    "start_time": "2025-02-06T10:19:19.685Z"
   },
   {
    "duration": 35,
    "start_time": "2025-02-06T11:08:08.630Z"
   },
   {
    "duration": 356,
    "start_time": "2025-02-06T11:08:09.422Z"
   },
   {
    "duration": 47,
    "start_time": "2025-02-06T11:10:16.015Z"
   },
   {
    "duration": 378,
    "start_time": "2025-02-06T11:10:25.887Z"
   },
   {
    "duration": 207,
    "start_time": "2025-02-06T11:21:39.311Z"
   },
   {
    "duration": 201,
    "start_time": "2025-02-06T11:22:53.763Z"
   },
   {
    "duration": 451,
    "start_time": "2025-02-06T11:23:13.008Z"
   },
   {
    "duration": 200,
    "start_time": "2025-02-06T11:24:23.846Z"
   },
   {
    "duration": 73,
    "start_time": "2025-02-06T11:24:31.390Z"
   },
   {
    "duration": 180,
    "start_time": "2025-02-06T11:24:33.668Z"
   },
   {
    "duration": 179,
    "start_time": "2025-02-06T11:25:03.146Z"
   },
   {
    "duration": 173,
    "start_time": "2025-02-06T11:25:18.546Z"
   },
   {
    "duration": 193,
    "start_time": "2025-02-06T11:26:03.593Z"
   },
   {
    "duration": 178,
    "start_time": "2025-02-06T11:26:39.116Z"
   },
   {
    "duration": 178,
    "start_time": "2025-02-06T11:26:57.080Z"
   },
   {
    "duration": 140,
    "start_time": "2025-02-06T11:28:42.428Z"
   },
   {
    "duration": 141,
    "start_time": "2025-02-06T11:33:01.221Z"
   },
   {
    "duration": 234,
    "start_time": "2025-02-06T11:33:12.927Z"
   },
   {
    "duration": 138,
    "start_time": "2025-02-06T11:33:30.577Z"
   },
   {
    "duration": 136,
    "start_time": "2025-02-06T11:33:45.288Z"
   },
   {
    "duration": 226,
    "start_time": "2025-02-06T11:36:42.830Z"
   },
   {
    "duration": 196,
    "start_time": "2025-02-06T11:38:24.906Z"
   },
   {
    "duration": 144,
    "start_time": "2025-02-06T11:39:35.888Z"
   },
   {
    "duration": 136,
    "start_time": "2025-02-06T11:39:46.652Z"
   },
   {
    "duration": 210,
    "start_time": "2025-02-06T11:41:38.000Z"
   },
   {
    "duration": 78,
    "start_time": "2025-02-06T11:43:28.899Z"
   },
   {
    "duration": 207,
    "start_time": "2025-02-06T11:43:34.013Z"
   },
   {
    "duration": 85,
    "start_time": "2025-02-06T11:46:19.865Z"
   },
   {
    "duration": 247,
    "start_time": "2025-02-06T11:46:27.629Z"
   },
   {
    "duration": 217,
    "start_time": "2025-02-06T11:46:39.481Z"
   },
   {
    "duration": 305,
    "start_time": "2025-02-06T11:47:01.569Z"
   },
   {
    "duration": 257,
    "start_time": "2025-02-06T11:47:09.195Z"
   },
   {
    "duration": 219,
    "start_time": "2025-02-06T11:47:36.807Z"
   },
   {
    "duration": 301,
    "start_time": "2025-02-06T11:47:48.166Z"
   },
   {
    "duration": 224,
    "start_time": "2025-02-06T12:02:17.494Z"
   },
   {
    "duration": 324,
    "start_time": "2025-02-06T12:12:53.982Z"
   },
   {
    "duration": 357,
    "start_time": "2025-02-06T12:31:15.255Z"
   },
   {
    "duration": 352,
    "start_time": "2025-02-06T12:31:31.667Z"
   },
   {
    "duration": 470,
    "start_time": "2025-02-06T12:32:41.624Z"
   },
   {
    "duration": 350,
    "start_time": "2025-02-06T12:32:56.814Z"
   },
   {
    "duration": 363,
    "start_time": "2025-02-06T12:33:07.834Z"
   },
   {
    "duration": 333,
    "start_time": "2025-02-06T12:34:54.960Z"
   },
   {
    "duration": 351,
    "start_time": "2025-02-06T12:37:05.900Z"
   },
   {
    "duration": 493,
    "start_time": "2025-02-06T12:37:16.570Z"
   },
   {
    "duration": 331,
    "start_time": "2025-02-06T12:37:44.641Z"
   },
   {
    "duration": 111,
    "start_time": "2025-02-06T12:38:24.024Z"
   },
   {
    "duration": 80,
    "start_time": "2025-02-06T12:38:44.078Z"
   },
   {
    "duration": 348,
    "start_time": "2025-02-06T12:39:35.480Z"
   },
   {
    "duration": 364,
    "start_time": "2025-02-06T12:41:18.078Z"
   },
   {
    "duration": 92,
    "start_time": "2025-02-06T12:42:01.849Z"
   },
   {
    "duration": 361,
    "start_time": "2025-02-06T12:42:12.410Z"
   },
   {
    "duration": 373,
    "start_time": "2025-02-06T12:42:24.784Z"
   },
   {
    "duration": 474,
    "start_time": "2025-02-06T12:43:07.083Z"
   },
   {
    "duration": 82,
    "start_time": "2025-02-06T12:43:37.149Z"
   },
   {
    "duration": 351,
    "start_time": "2025-02-06T12:43:45.017Z"
   },
   {
    "duration": 367,
    "start_time": "2025-02-06T12:44:16.932Z"
   },
   {
    "duration": 385,
    "start_time": "2025-02-06T12:45:20.184Z"
   },
   {
    "duration": 221,
    "start_time": "2025-02-06T12:54:40.505Z"
   },
   {
    "duration": 79,
    "start_time": "2025-02-06T12:55:20.768Z"
   },
   {
    "duration": 206,
    "start_time": "2025-02-06T12:55:24.162Z"
   },
   {
    "duration": 1316,
    "start_time": "2025-02-09T12:59:38.289Z"
   },
   {
    "duration": 71,
    "start_time": "2025-02-09T12:59:43.407Z"
   },
   {
    "duration": 22,
    "start_time": "2025-02-09T12:59:44.221Z"
   },
   {
    "duration": 24,
    "start_time": "2025-02-09T12:59:44.585Z"
   },
   {
    "duration": 14,
    "start_time": "2025-02-09T12:59:44.953Z"
   },
   {
    "duration": 14,
    "start_time": "2025-02-09T12:59:45.838Z"
   },
   {
    "duration": 11,
    "start_time": "2025-02-09T12:59:46.191Z"
   },
   {
    "duration": 12,
    "start_time": "2025-02-09T12:59:46.740Z"
   },
   {
    "duration": 11,
    "start_time": "2025-02-09T12:59:47.149Z"
   },
   {
    "duration": 7,
    "start_time": "2025-02-09T12:59:47.374Z"
   },
   {
    "duration": 164,
    "start_time": "2025-02-09T12:59:48.496Z"
   },
   {
    "duration": 118,
    "start_time": "2025-02-09T12:59:49.123Z"
   },
   {
    "duration": 169,
    "start_time": "2025-02-09T12:59:49.856Z"
   },
   {
    "duration": 25,
    "start_time": "2025-02-09T12:59:51.156Z"
   },
   {
    "duration": 320,
    "start_time": "2025-02-09T12:59:51.505Z"
   },
   {
    "duration": 193,
    "start_time": "2025-02-09T12:59:52.908Z"
   },
   {
    "duration": 192,
    "start_time": "2025-02-09T13:09:56.143Z"
   },
   {
    "duration": 191,
    "start_time": "2025-02-09T13:10:04.350Z"
   },
   {
    "duration": 20,
    "start_time": "2025-02-09T13:22:40.501Z"
   },
   {
    "duration": 121,
    "start_time": "2025-02-09T13:27:02.615Z"
   },
   {
    "duration": 22,
    "start_time": "2025-02-09T13:27:08.395Z"
   },
   {
    "duration": 19,
    "start_time": "2025-02-09T13:27:24.918Z"
   },
   {
    "duration": 22,
    "start_time": "2025-02-09T13:27:50.058Z"
   },
   {
    "duration": 15,
    "start_time": "2025-02-09T13:28:06.201Z"
   },
   {
    "duration": 36,
    "start_time": "2025-02-09T13:28:45.760Z"
   },
   {
    "duration": 50,
    "start_time": "2025-02-09T13:30:21.134Z"
   },
   {
    "duration": 9,
    "start_time": "2025-02-09T13:31:13.382Z"
   },
   {
    "duration": 17,
    "start_time": "2025-02-09T13:31:22.602Z"
   },
   {
    "duration": 16,
    "start_time": "2025-02-09T13:31:43.012Z"
   },
   {
    "duration": 14,
    "start_time": "2025-02-09T13:31:53.490Z"
   },
   {
    "duration": 15,
    "start_time": "2025-02-09T13:32:46.675Z"
   },
   {
    "duration": 15,
    "start_time": "2025-02-09T13:32:47.967Z"
   },
   {
    "duration": 76,
    "start_time": "2025-02-09T13:38:53.696Z"
   },
   {
    "duration": 404,
    "start_time": "2025-02-09T13:39:00.434Z"
   },
   {
    "duration": 313,
    "start_time": "2025-02-09T13:40:02.658Z"
   },
   {
    "duration": 269,
    "start_time": "2025-02-09T13:40:54.058Z"
   },
   {
    "duration": 204,
    "start_time": "2025-02-09T13:41:59.077Z"
   },
   {
    "duration": 199,
    "start_time": "2025-02-09T13:42:26.572Z"
   },
   {
    "duration": 206,
    "start_time": "2025-02-09T13:42:46.015Z"
   },
   {
    "duration": 189,
    "start_time": "2025-02-09T13:42:57.946Z"
   },
   {
    "duration": 78,
    "start_time": "2025-02-09T13:43:15.673Z"
   },
   {
    "duration": 201,
    "start_time": "2025-02-09T13:43:19.896Z"
   },
   {
    "duration": 124,
    "start_time": "2025-02-09T14:00:44.199Z"
   },
   {
    "duration": 421,
    "start_time": "2025-02-09T14:00:59.899Z"
   },
   {
    "duration": 336,
    "start_time": "2025-02-09T14:01:12.611Z"
   },
   {
    "duration": 329,
    "start_time": "2025-02-09T14:01:54.318Z"
   },
   {
    "duration": 506,
    "start_time": "2025-02-09T14:03:34.092Z"
   },
   {
    "duration": 444,
    "start_time": "2025-02-09T14:03:45.079Z"
   },
   {
    "duration": 507,
    "start_time": "2025-02-09T14:03:50.674Z"
   },
   {
    "duration": 482,
    "start_time": "2025-02-09T14:04:05.738Z"
   },
   {
    "duration": 540,
    "start_time": "2025-02-09T14:04:51.275Z"
   },
   {
    "duration": 478,
    "start_time": "2025-02-09T14:05:00.824Z"
   },
   {
    "duration": 484,
    "start_time": "2025-02-09T14:09:49.834Z"
   },
   {
    "duration": 673,
    "start_time": "2025-02-09T14:10:05.400Z"
   },
   {
    "duration": 519,
    "start_time": "2025-02-09T14:10:10.091Z"
   },
   {
    "duration": 520,
    "start_time": "2025-02-09T14:10:44.773Z"
   },
   {
    "duration": 647,
    "start_time": "2025-02-09T14:11:02.828Z"
   },
   {
    "duration": 523,
    "start_time": "2025-02-09T14:11:10.759Z"
   },
   {
    "duration": 513,
    "start_time": "2025-02-09T14:20:00.378Z"
   },
   {
    "duration": 621,
    "start_time": "2025-02-09T14:20:36.817Z"
   },
   {
    "duration": 534,
    "start_time": "2025-02-09T14:21:53.288Z"
   },
   {
    "duration": 176,
    "start_time": "2025-02-09T14:27:17.322Z"
   },
   {
    "duration": 343,
    "start_time": "2025-02-09T14:27:31.231Z"
   },
   {
    "duration": 538,
    "start_time": "2025-02-09T14:43:05.160Z"
   },
   {
    "duration": 555,
    "start_time": "2025-02-09T14:43:16.303Z"
   },
   {
    "duration": 543,
    "start_time": "2025-02-09T14:43:29.383Z"
   },
   {
    "duration": 668,
    "start_time": "2025-02-09T14:43:32.758Z"
   },
   {
    "duration": 586,
    "start_time": "2025-02-09T14:44:12.595Z"
   },
   {
    "duration": 365,
    "start_time": "2025-02-09T14:45:43.441Z"
   },
   {
    "duration": 21,
    "start_time": "2025-02-09T15:00:04.733Z"
   },
   {
    "duration": 36,
    "start_time": "2025-02-09T15:08:15.657Z"
   },
   {
    "duration": 20,
    "start_time": "2025-02-09T15:09:08.575Z"
   },
   {
    "duration": 25,
    "start_time": "2025-02-09T15:14:52.994Z"
   },
   {
    "duration": 18,
    "start_time": "2025-02-09T15:21:43.311Z"
   },
   {
    "duration": 13,
    "start_time": "2025-02-09T15:21:59.082Z"
   },
   {
    "duration": 19,
    "start_time": "2025-02-09T15:22:05.226Z"
   },
   {
    "duration": 27,
    "start_time": "2025-02-09T15:24:17.795Z"
   },
   {
    "duration": 36,
    "start_time": "2025-02-09T15:24:54.092Z"
   },
   {
    "duration": 26,
    "start_time": "2025-02-09T15:27:15.537Z"
   },
   {
    "duration": 25,
    "start_time": "2025-02-09T15:28:35.650Z"
   },
   {
    "duration": 20,
    "start_time": "2025-02-09T15:29:08.940Z"
   },
   {
    "duration": 39,
    "start_time": "2025-02-09T15:29:21.502Z"
   },
   {
    "duration": 26,
    "start_time": "2025-02-09T15:30:28.226Z"
   },
   {
    "duration": 25,
    "start_time": "2025-02-09T15:31:46.629Z"
   },
   {
    "duration": 30,
    "start_time": "2025-02-09T15:33:08.124Z"
   },
   {
    "duration": 109,
    "start_time": "2025-02-09T15:33:12.599Z"
   },
   {
    "duration": 100,
    "start_time": "2025-02-09T15:33:28.953Z"
   },
   {
    "duration": 7,
    "start_time": "2025-02-09T15:36:09.120Z"
   },
   {
    "duration": 19,
    "start_time": "2025-02-09T15:39:16.062Z"
   },
   {
    "duration": 12,
    "start_time": "2025-02-09T15:39:41.871Z"
   },
   {
    "duration": 96,
    "start_time": "2025-02-09T15:40:38.301Z"
   },
   {
    "duration": 105,
    "start_time": "2025-02-09T15:42:56.596Z"
   },
   {
    "duration": 3,
    "start_time": "2025-02-09T15:47:30.749Z"
   },
   {
    "duration": 15,
    "start_time": "2025-02-09T15:58:10.494Z"
   },
   {
    "duration": 22,
    "start_time": "2025-02-09T15:58:28.876Z"
   },
   {
    "duration": 26,
    "start_time": "2025-02-09T16:05:36.388Z"
   },
   {
    "duration": 334,
    "start_time": "2025-02-09T16:06:48.985Z"
   },
   {
    "duration": 11,
    "start_time": "2025-02-09T16:07:47.238Z"
   },
   {
    "duration": 104,
    "start_time": "2025-02-09T16:12:28.534Z"
   },
   {
    "duration": 109,
    "start_time": "2025-02-09T16:12:42.633Z"
   },
   {
    "duration": 339,
    "start_time": "2025-02-09T16:12:53.770Z"
   },
   {
    "duration": 11,
    "start_time": "2025-02-09T16:13:43.115Z"
   },
   {
    "duration": 343,
    "start_time": "2025-02-09T16:14:46.917Z"
   },
   {
    "duration": 334,
    "start_time": "2025-02-09T16:14:52.661Z"
   },
   {
    "duration": 11,
    "start_time": "2025-02-09T16:15:26.740Z"
   },
   {
    "duration": 16,
    "start_time": "2025-02-09T17:03:07.702Z"
   },
   {
    "duration": 13,
    "start_time": "2025-02-09T17:04:36.818Z"
   },
   {
    "duration": 15,
    "start_time": "2025-02-09T17:05:46.052Z"
   },
   {
    "duration": 11,
    "start_time": "2025-02-09T17:08:17.258Z"
   },
   {
    "duration": 9,
    "start_time": "2025-02-09T17:08:25.021Z"
   },
   {
    "duration": 9,
    "start_time": "2025-02-09T17:13:26.945Z"
   },
   {
    "duration": 9,
    "start_time": "2025-02-09T17:13:42.076Z"
   },
   {
    "duration": 8,
    "start_time": "2025-02-09T17:14:04.543Z"
   },
   {
    "duration": 10,
    "start_time": "2025-02-09T17:14:39.386Z"
   },
   {
    "duration": 9,
    "start_time": "2025-02-09T17:14:53.192Z"
   },
   {
    "duration": 10,
    "start_time": "2025-02-09T17:14:56.933Z"
   },
   {
    "duration": 11,
    "start_time": "2025-02-09T17:15:05.246Z"
   },
   {
    "duration": 9,
    "start_time": "2025-02-09T17:15:15.938Z"
   },
   {
    "duration": 1159,
    "start_time": "2025-02-09T17:30:14.030Z"
   },
   {
    "duration": 70,
    "start_time": "2025-02-09T17:30:15.658Z"
   },
   {
    "duration": 22,
    "start_time": "2025-02-09T17:30:16.362Z"
   },
   {
    "duration": 17,
    "start_time": "2025-02-09T17:30:16.667Z"
   },
   {
    "duration": 14,
    "start_time": "2025-02-09T17:30:16.945Z"
   },
   {
    "duration": 16,
    "start_time": "2025-02-09T17:30:17.934Z"
   },
   {
    "duration": 14,
    "start_time": "2025-02-09T17:30:18.407Z"
   },
   {
    "duration": 15,
    "start_time": "2025-02-09T17:30:19.190Z"
   },
   {
    "duration": 11,
    "start_time": "2025-02-09T17:30:19.453Z"
   },
   {
    "duration": 11,
    "start_time": "2025-02-09T17:30:19.727Z"
   },
   {
    "duration": 184,
    "start_time": "2025-02-09T17:30:20.759Z"
   },
   {
    "duration": 134,
    "start_time": "2025-02-09T17:30:21.530Z"
   },
   {
    "duration": 181,
    "start_time": "2025-02-09T17:30:22.298Z"
   },
   {
    "duration": 27,
    "start_time": "2025-02-09T17:30:23.326Z"
   },
   {
    "duration": 351,
    "start_time": "2025-02-09T17:30:23.590Z"
   },
   {
    "duration": 200,
    "start_time": "2025-02-09T17:30:24.337Z"
   },
   {
    "duration": 28,
    "start_time": "2025-02-09T17:30:25.563Z"
   },
   {
    "duration": 19,
    "start_time": "2025-02-09T17:30:26.282Z"
   },
   {
    "duration": 17,
    "start_time": "2025-02-09T17:30:26.728Z"
   },
   {
    "duration": 658,
    "start_time": "2025-02-09T17:30:27.417Z"
   },
   {
    "duration": 383,
    "start_time": "2025-02-09T17:30:28.077Z"
   },
   {
    "duration": 109,
    "start_time": "2025-02-09T17:30:28.775Z"
   },
   {
    "duration": 116,
    "start_time": "2025-02-09T17:30:32.533Z"
   },
   {
    "duration": 374,
    "start_time": "2025-02-09T17:30:45.953Z"
   },
   {
    "duration": 821,
    "start_time": "2025-02-09T17:30:48.326Z"
   },
   {
    "duration": 4,
    "start_time": "2025-02-09T17:31:34.441Z"
   },
   {
    "duration": 12,
    "start_time": "2025-02-09T17:32:07.449Z"
   },
   {
    "duration": 31,
    "start_time": "2025-02-09T17:32:20.590Z"
   },
   {
    "duration": 30,
    "start_time": "2025-02-09T17:33:38.987Z"
   },
   {
    "duration": 30,
    "start_time": "2025-02-09T17:35:57.792Z"
   },
   {
    "duration": 29,
    "start_time": "2025-02-09T17:37:01.907Z"
   },
   {
    "duration": 81,
    "start_time": "2025-02-09T17:38:12.532Z"
   },
   {
    "duration": 28,
    "start_time": "2025-02-09T17:38:48.170Z"
   },
   {
    "duration": 27,
    "start_time": "2025-02-09T17:39:53.020Z"
   },
   {
    "duration": 27,
    "start_time": "2025-02-09T17:40:13.411Z"
   },
   {
    "duration": 27,
    "start_time": "2025-02-09T17:42:32.756Z"
   },
   {
    "duration": 43,
    "start_time": "2025-02-09T17:43:36.106Z"
   },
   {
    "duration": 26,
    "start_time": "2025-02-09T17:44:53.050Z"
   },
   {
    "duration": 27,
    "start_time": "2025-02-09T17:47:30.848Z"
   },
   {
    "duration": 25,
    "start_time": "2025-02-09T17:51:36.759Z"
   },
   {
    "duration": 349,
    "start_time": "2025-02-09T17:54:39.877Z"
   },
   {
    "duration": 358,
    "start_time": "2025-02-09T17:56:06.725Z"
   },
   {
    "duration": 6,
    "start_time": "2025-02-09T17:58:57.829Z"
   },
   {
    "duration": 352,
    "start_time": "2025-02-09T17:59:56.108Z"
   },
   {
    "duration": 340,
    "start_time": "2025-02-09T18:00:12.217Z"
   },
   {
    "duration": 1163,
    "start_time": "2025-02-09T18:00:30.932Z"
   },
   {
    "duration": 61,
    "start_time": "2025-02-09T18:00:32.753Z"
   },
   {
    "duration": 27,
    "start_time": "2025-02-09T18:00:33.121Z"
   },
   {
    "duration": 18,
    "start_time": "2025-02-09T18:00:33.294Z"
   },
   {
    "duration": 15,
    "start_time": "2025-02-09T18:00:33.470Z"
   },
   {
    "duration": 14,
    "start_time": "2025-02-09T18:00:34.162Z"
   },
   {
    "duration": 11,
    "start_time": "2025-02-09T18:00:34.516Z"
   },
   {
    "duration": 13,
    "start_time": "2025-02-09T18:00:35.046Z"
   },
   {
    "duration": 11,
    "start_time": "2025-02-09T18:00:35.211Z"
   },
   {
    "duration": 11,
    "start_time": "2025-02-09T18:00:35.387Z"
   },
   {
    "duration": 184,
    "start_time": "2025-02-09T18:00:36.098Z"
   },
   {
    "duration": 129,
    "start_time": "2025-02-09T18:00:36.616Z"
   },
   {
    "duration": 181,
    "start_time": "2025-02-09T18:00:37.178Z"
   },
   {
    "duration": 26,
    "start_time": "2025-02-09T18:00:37.943Z"
   },
   {
    "duration": 316,
    "start_time": "2025-02-09T18:00:38.541Z"
   },
   {
    "duration": 188,
    "start_time": "2025-02-09T18:00:40.079Z"
   },
   {
    "duration": 28,
    "start_time": "2025-02-09T18:00:42.986Z"
   },
   {
    "duration": 19,
    "start_time": "2025-02-09T18:00:44.269Z"
   },
   {
    "duration": 17,
    "start_time": "2025-02-09T18:00:45.305Z"
   },
   {
    "duration": 623,
    "start_time": "2025-02-09T18:00:46.673Z"
   },
   {
    "duration": 354,
    "start_time": "2025-02-09T18:00:48.336Z"
   },
   {
    "duration": 107,
    "start_time": "2025-02-09T18:00:51.161Z"
   },
   {
    "duration": 347,
    "start_time": "2025-02-09T18:00:55.886Z"
   },
   {
    "duration": 374,
    "start_time": "2025-02-09T18:01:16.471Z"
   },
   {
    "duration": 335,
    "start_time": "2025-02-09T18:02:41.410Z"
   },
   {
    "duration": 1075,
    "start_time": "2025-02-09T18:03:25.005Z"
   },
   {
    "duration": 70,
    "start_time": "2025-02-09T18:03:26.909Z"
   },
   {
    "duration": 21,
    "start_time": "2025-02-09T18:03:27.409Z"
   },
   {
    "duration": 16,
    "start_time": "2025-02-09T18:03:27.654Z"
   },
   {
    "duration": 15,
    "start_time": "2025-02-09T18:03:27.897Z"
   },
   {
    "duration": 14,
    "start_time": "2025-02-09T18:03:28.921Z"
   },
   {
    "duration": 11,
    "start_time": "2025-02-09T18:03:29.415Z"
   },
   {
    "duration": 15,
    "start_time": "2025-02-09T18:03:30.160Z"
   },
   {
    "duration": 13,
    "start_time": "2025-02-09T18:03:30.407Z"
   },
   {
    "duration": 9,
    "start_time": "2025-02-09T18:03:30.639Z"
   },
   {
    "duration": 173,
    "start_time": "2025-02-09T18:03:31.805Z"
   },
   {
    "duration": 127,
    "start_time": "2025-02-09T18:03:33.293Z"
   },
   {
    "duration": 201,
    "start_time": "2025-02-09T18:03:34.282Z"
   },
   {
    "duration": 29,
    "start_time": "2025-02-09T18:03:36.307Z"
   },
   {
    "duration": 340,
    "start_time": "2025-02-09T18:03:36.827Z"
   },
   {
    "duration": 215,
    "start_time": "2025-02-09T18:03:38.520Z"
   },
   {
    "duration": 27,
    "start_time": "2025-02-09T18:03:40.727Z"
   },
   {
    "duration": 18,
    "start_time": "2025-02-09T18:03:42.115Z"
   },
   {
    "duration": 16,
    "start_time": "2025-02-09T18:03:43.248Z"
   },
   {
    "duration": 653,
    "start_time": "2025-02-09T18:03:44.495Z"
   },
   {
    "duration": 352,
    "start_time": "2025-02-09T18:03:45.297Z"
   },
   {
    "duration": 106,
    "start_time": "2025-02-09T18:03:47.643Z"
   },
   {
    "duration": 347,
    "start_time": "2025-02-09T18:03:52.316Z"
   },
   {
    "duration": 12,
    "start_time": "2025-02-09T18:04:03.259Z"
   },
   {
    "duration": 9,
    "start_time": "2025-02-09T18:04:04.196Z"
   },
   {
    "duration": 7,
    "start_time": "2025-02-09T18:04:15.095Z"
   },
   {
    "duration": 6,
    "start_time": "2025-02-09T18:04:30.214Z"
   },
   {
    "duration": 14,
    "start_time": "2025-02-09T18:07:47.926Z"
   },
   {
    "duration": 13,
    "start_time": "2025-02-09T18:08:04.747Z"
   },
   {
    "duration": 12,
    "start_time": "2025-02-09T18:08:32.114Z"
   },
   {
    "duration": 1435,
    "start_time": "2025-02-09T18:25:49.803Z"
   },
   {
    "duration": 71,
    "start_time": "2025-02-09T18:25:51.240Z"
   },
   {
    "duration": 25,
    "start_time": "2025-02-09T18:25:51.313Z"
   },
   {
    "duration": 20,
    "start_time": "2025-02-09T18:25:51.341Z"
   },
   {
    "duration": 16,
    "start_time": "2025-02-09T18:25:51.363Z"
   },
   {
    "duration": 53,
    "start_time": "2025-02-09T18:25:51.381Z"
   },
   {
    "duration": 13,
    "start_time": "2025-02-09T18:25:51.436Z"
   },
   {
    "duration": 23,
    "start_time": "2025-02-09T18:25:51.451Z"
   },
   {
    "duration": 13,
    "start_time": "2025-02-09T18:25:51.476Z"
   },
   {
    "duration": 44,
    "start_time": "2025-02-09T18:25:51.493Z"
   },
   {
    "duration": 194,
    "start_time": "2025-02-09T18:25:51.539Z"
   },
   {
    "duration": 137,
    "start_time": "2025-02-09T18:25:51.735Z"
   },
   {
    "duration": 201,
    "start_time": "2025-02-09T18:25:51.874Z"
   },
   {
    "duration": 27,
    "start_time": "2025-02-09T18:25:52.077Z"
   },
   {
    "duration": 363,
    "start_time": "2025-02-09T18:25:52.106Z"
   },
   {
    "duration": 213,
    "start_time": "2025-02-09T18:25:52.471Z"
   },
   {
    "duration": 29,
    "start_time": "2025-02-09T18:25:52.685Z"
   },
   {
    "duration": 37,
    "start_time": "2025-02-09T18:25:52.715Z"
   },
   {
    "duration": 16,
    "start_time": "2025-02-09T18:25:52.753Z"
   },
   {
    "duration": 705,
    "start_time": "2025-02-09T18:25:52.771Z"
   },
   {
    "duration": 386,
    "start_time": "2025-02-09T18:25:53.478Z"
   },
   {
    "duration": 121,
    "start_time": "2025-02-09T18:25:53.865Z"
   },
   {
    "duration": 349,
    "start_time": "2025-02-09T18:25:53.988Z"
   },
   {
    "duration": 11,
    "start_time": "2025-02-09T18:25:54.338Z"
   },
   {
    "duration": 8,
    "start_time": "2025-02-09T18:25:54.350Z"
   },
   {
    "duration": 13,
    "start_time": "2025-02-09T18:25:54.359Z"
   },
   {
    "duration": 14,
    "start_time": "2025-02-09T19:17:01.239Z"
   },
   {
    "duration": 11,
    "start_time": "2025-02-09T19:17:39.141Z"
   },
   {
    "duration": 1194,
    "start_time": "2025-02-09T19:21:48.230Z"
   },
   {
    "duration": 62,
    "start_time": "2025-02-09T19:21:49.426Z"
   },
   {
    "duration": 23,
    "start_time": "2025-02-09T19:21:49.489Z"
   },
   {
    "duration": 19,
    "start_time": "2025-02-09T19:21:49.513Z"
   },
   {
    "duration": 15,
    "start_time": "2025-02-09T19:21:49.534Z"
   },
   {
    "duration": 15,
    "start_time": "2025-02-09T19:21:49.550Z"
   },
   {
    "duration": 18,
    "start_time": "2025-02-09T19:21:49.567Z"
   },
   {
    "duration": 13,
    "start_time": "2025-02-09T19:21:49.586Z"
   },
   {
    "duration": 36,
    "start_time": "2025-02-09T19:21:49.600Z"
   },
   {
    "duration": 12,
    "start_time": "2025-02-09T19:21:49.637Z"
   },
   {
    "duration": 204,
    "start_time": "2025-02-09T19:21:49.650Z"
   },
   {
    "duration": 145,
    "start_time": "2025-02-09T19:21:49.856Z"
   },
   {
    "duration": 211,
    "start_time": "2025-02-09T19:21:50.002Z"
   },
   {
    "duration": 37,
    "start_time": "2025-02-09T19:21:50.216Z"
   },
   {
    "duration": 382,
    "start_time": "2025-02-09T19:21:50.255Z"
   },
   {
    "duration": 215,
    "start_time": "2025-02-09T19:21:50.639Z"
   },
   {
    "duration": 31,
    "start_time": "2025-02-09T19:21:50.855Z"
   },
   {
    "duration": 45,
    "start_time": "2025-02-09T19:21:50.889Z"
   },
   {
    "duration": 17,
    "start_time": "2025-02-09T19:21:50.936Z"
   },
   {
    "duration": 677,
    "start_time": "2025-02-09T19:21:50.956Z"
   },
   {
    "duration": 379,
    "start_time": "2025-02-09T19:21:51.635Z"
   },
   {
    "duration": 122,
    "start_time": "2025-02-09T19:21:52.017Z"
   },
   {
    "duration": 361,
    "start_time": "2025-02-09T19:21:52.142Z"
   },
   {
    "duration": 11,
    "start_time": "2025-02-09T19:21:52.506Z"
   },
   {
    "duration": 8,
    "start_time": "2025-02-09T19:21:52.532Z"
   },
   {
    "duration": 12,
    "start_time": "2025-02-09T19:21:52.542Z"
   },
   {
    "duration": 1171,
    "start_time": "2025-02-09T19:29:18.253Z"
   },
   {
    "duration": 76,
    "start_time": "2025-02-09T19:29:19.426Z"
   },
   {
    "duration": 21,
    "start_time": "2025-02-09T19:29:19.505Z"
   },
   {
    "duration": 20,
    "start_time": "2025-02-09T19:29:19.527Z"
   },
   {
    "duration": 15,
    "start_time": "2025-02-09T19:29:19.549Z"
   },
   {
    "duration": 22,
    "start_time": "2025-02-09T19:29:19.565Z"
   },
   {
    "duration": 12,
    "start_time": "2025-02-09T19:29:19.589Z"
   },
   {
    "duration": 36,
    "start_time": "2025-02-09T19:29:19.603Z"
   },
   {
    "duration": 11,
    "start_time": "2025-02-09T19:29:19.641Z"
   },
   {
    "duration": 10,
    "start_time": "2025-02-09T19:29:19.654Z"
   },
   {
    "duration": 208,
    "start_time": "2025-02-09T19:29:19.666Z"
   },
   {
    "duration": 158,
    "start_time": "2025-02-09T19:29:19.876Z"
   },
   {
    "duration": 208,
    "start_time": "2025-02-09T19:29:20.036Z"
   },
   {
    "duration": 29,
    "start_time": "2025-02-09T19:29:20.248Z"
   },
   {
    "duration": 377,
    "start_time": "2025-02-09T19:29:20.279Z"
   },
   {
    "duration": 214,
    "start_time": "2025-02-09T19:29:20.658Z"
   },
   {
    "duration": 29,
    "start_time": "2025-02-09T19:29:20.874Z"
   },
   {
    "duration": 45,
    "start_time": "2025-02-09T19:29:20.906Z"
   },
   {
    "duration": 24,
    "start_time": "2025-02-09T19:29:20.954Z"
   },
   {
    "duration": 668,
    "start_time": "2025-02-09T19:29:20.980Z"
   },
   {
    "duration": 392,
    "start_time": "2025-02-09T19:29:21.650Z"
   },
   {
    "duration": 127,
    "start_time": "2025-02-09T19:29:22.045Z"
   },
   {
    "duration": 355,
    "start_time": "2025-02-09T19:29:22.175Z"
   },
   {
    "duration": 10,
    "start_time": "2025-02-09T19:29:22.532Z"
   },
   {
    "duration": 8,
    "start_time": "2025-02-09T19:29:22.544Z"
   },
   {
    "duration": 13,
    "start_time": "2025-02-09T19:29:22.554Z"
   },
   {
    "duration": 1324,
    "start_time": "2025-02-10T14:36:09.297Z"
   },
   {
    "duration": 59,
    "start_time": "2025-02-10T14:36:11.546Z"
   },
   {
    "duration": 21,
    "start_time": "2025-02-10T14:36:12.058Z"
   },
   {
    "duration": 17,
    "start_time": "2025-02-10T14:36:12.401Z"
   },
   {
    "duration": 16,
    "start_time": "2025-02-10T14:36:12.674Z"
   },
   {
    "duration": 15,
    "start_time": "2025-02-10T14:58:49.586Z"
   },
   {
    "duration": 11,
    "start_time": "2025-02-10T14:58:50.705Z"
   },
   {
    "duration": 10,
    "start_time": "2025-02-10T15:03:16.986Z"
   },
   {
    "duration": 10,
    "start_time": "2025-02-10T15:04:33.674Z"
   },
   {
    "duration": 13,
    "start_time": "2025-02-10T15:04:50.298Z"
   },
   {
    "duration": 11,
    "start_time": "2025-02-10T15:04:50.547Z"
   },
   {
    "duration": 13,
    "start_time": "2025-02-10T15:04:50.820Z"
   },
   {
    "duration": 173,
    "start_time": "2025-02-10T15:04:55.122Z"
   },
   {
    "duration": 132,
    "start_time": "2025-02-10T15:05:14.882Z"
   },
   {
    "duration": 89,
    "start_time": "2025-02-10T15:13:26.165Z"
   },
   {
    "duration": 64,
    "start_time": "2025-02-10T15:13:38.238Z"
   },
   {
    "duration": 68,
    "start_time": "2025-02-10T15:13:44.157Z"
   },
   {
    "duration": 98,
    "start_time": "2025-02-10T15:22:31.465Z"
   },
   {
    "duration": 99,
    "start_time": "2025-02-10T15:22:39.377Z"
   },
   {
    "duration": 98,
    "start_time": "2025-02-10T15:27:05.850Z"
   },
   {
    "duration": 91,
    "start_time": "2025-02-10T15:27:17.810Z"
   },
   {
    "duration": 93,
    "start_time": "2025-02-10T15:27:21.194Z"
   },
   {
    "duration": 209,
    "start_time": "2025-02-10T15:27:57.466Z"
   },
   {
    "duration": 93,
    "start_time": "2025-02-10T15:28:15.090Z"
   },
   {
    "duration": 104,
    "start_time": "2025-02-10T15:28:20.330Z"
   },
   {
    "duration": 145,
    "start_time": "2025-02-10T15:29:20.090Z"
   },
   {
    "duration": 117,
    "start_time": "2025-02-10T15:32:02.996Z"
   },
   {
    "duration": 94,
    "start_time": "2025-02-10T15:32:30.411Z"
   },
   {
    "duration": 121,
    "start_time": "2025-02-10T15:32:44.947Z"
   },
   {
    "duration": 100,
    "start_time": "2025-02-10T15:35:49.325Z"
   },
   {
    "duration": 104,
    "start_time": "2025-02-10T15:35:58.748Z"
   },
   {
    "duration": 102,
    "start_time": "2025-02-10T15:45:39.395Z"
   },
   {
    "duration": 107,
    "start_time": "2025-02-10T15:45:43.001Z"
   },
   {
    "duration": 101,
    "start_time": "2025-02-10T15:46:32.617Z"
   },
   {
    "duration": 112,
    "start_time": "2025-02-10T15:47:16.392Z"
   },
   {
    "duration": 102,
    "start_time": "2025-02-10T15:47:45.617Z"
   },
   {
    "duration": 100,
    "start_time": "2025-02-10T15:47:48.369Z"
   },
   {
    "duration": 184,
    "start_time": "2025-02-10T15:48:08.889Z"
   },
   {
    "duration": 101,
    "start_time": "2025-02-10T15:48:14.945Z"
   },
   {
    "duration": 101,
    "start_time": "2025-02-10T15:49:29.731Z"
   },
   {
    "duration": 130,
    "start_time": "2025-02-10T15:49:34.403Z"
   },
   {
    "duration": 98,
    "start_time": "2025-02-10T15:49:38.490Z"
   },
   {
    "duration": 100,
    "start_time": "2025-02-10T15:50:25.690Z"
   },
   {
    "duration": 98,
    "start_time": "2025-02-10T15:51:50.787Z"
   },
   {
    "duration": 1396,
    "start_time": "2025-02-10T18:07:17.705Z"
   },
   {
    "duration": 72,
    "start_time": "2025-02-10T18:07:20.329Z"
   },
   {
    "duration": 23,
    "start_time": "2025-02-10T18:07:20.821Z"
   },
   {
    "duration": 24,
    "start_time": "2025-02-10T18:07:21.190Z"
   },
   {
    "duration": 17,
    "start_time": "2025-02-10T18:07:21.475Z"
   },
   {
    "duration": 17,
    "start_time": "2025-02-10T18:07:24.224Z"
   },
   {
    "duration": 12,
    "start_time": "2025-02-10T18:07:25.107Z"
   },
   {
    "duration": 10,
    "start_time": "2025-02-10T18:07:26.042Z"
   },
   {
    "duration": 14,
    "start_time": "2025-02-10T18:07:32.488Z"
   },
   {
    "duration": 11,
    "start_time": "2025-02-10T18:07:32.999Z"
   },
   {
    "duration": 11,
    "start_time": "2025-02-10T18:07:33.417Z"
   },
   {
    "duration": 186,
    "start_time": "2025-02-10T18:07:36.319Z"
   },
   {
    "duration": 114,
    "start_time": "2025-02-10T18:07:38.079Z"
   },
   {
    "duration": 120,
    "start_time": "2025-02-10T18:08:47.064Z"
   },
   {
    "duration": 225,
    "start_time": "2025-02-10T18:09:08.987Z"
   },
   {
    "duration": 299,
    "start_time": "2025-02-10T18:09:49.533Z"
   },
   {
    "duration": 201,
    "start_time": "2025-02-10T18:10:10.120Z"
   },
   {
    "duration": 228,
    "start_time": "2025-02-10T18:10:19.027Z"
   },
   {
    "duration": 198,
    "start_time": "2025-02-10T18:11:49.268Z"
   },
   {
    "duration": 198,
    "start_time": "2025-02-10T18:12:27.414Z"
   },
   {
    "duration": 287,
    "start_time": "2025-02-10T18:13:11.195Z"
   },
   {
    "duration": 1134,
    "start_time": "2025-02-10T18:16:58.533Z"
   },
   {
    "duration": 28,
    "start_time": "2025-02-10T18:17:06.303Z"
   },
   {
    "duration": 337,
    "start_time": "2025-02-10T18:17:06.891Z"
   },
   {
    "duration": 213,
    "start_time": "2025-02-10T18:19:03.174Z"
   },
   {
    "duration": 19,
    "start_time": "2025-02-10T18:20:09.812Z"
   },
   {
    "duration": 18,
    "start_time": "2025-02-10T18:20:33.495Z"
   },
   {
    "duration": 18,
    "start_time": "2025-02-10T18:22:00.655Z"
   },
   {
    "duration": 10,
    "start_time": "2025-02-10T18:22:12.892Z"
   },
   {
    "duration": 11,
    "start_time": "2025-02-10T18:22:22.653Z"
   },
   {
    "duration": 19,
    "start_time": "2025-02-10T18:22:32.220Z"
   },
   {
    "duration": 18,
    "start_time": "2025-02-10T18:23:27.611Z"
   },
   {
    "duration": 19,
    "start_time": "2025-02-10T18:23:32.095Z"
   },
   {
    "duration": 13,
    "start_time": "2025-02-10T18:23:43.001Z"
   },
   {
    "duration": 13,
    "start_time": "2025-02-10T18:23:54.097Z"
   },
   {
    "duration": 19,
    "start_time": "2025-02-10T18:24:26.890Z"
   },
   {
    "duration": 7,
    "start_time": "2025-02-10T18:26:08.713Z"
   },
   {
    "duration": 23,
    "start_time": "2025-02-10T18:28:04.684Z"
   },
   {
    "duration": 41,
    "start_time": "2025-02-10T18:32:10.475Z"
   },
   {
    "duration": 27,
    "start_time": "2025-02-10T18:32:36.491Z"
   },
   {
    "duration": 26,
    "start_time": "2025-02-10T18:34:26.451Z"
   },
   {
    "duration": 12,
    "start_time": "2025-02-10T18:34:35.682Z"
   },
   {
    "duration": 19,
    "start_time": "2025-02-10T18:34:38.524Z"
   },
   {
    "duration": 19,
    "start_time": "2025-02-10T18:40:44.897Z"
   },
   {
    "duration": 21,
    "start_time": "2025-02-10T18:40:46.325Z"
   },
   {
    "duration": 4,
    "start_time": "2025-02-10T18:41:32.499Z"
   },
   {
    "duration": 4,
    "start_time": "2025-02-10T18:42:17.005Z"
   },
   {
    "duration": 6,
    "start_time": "2025-02-10T18:42:48.811Z"
   },
   {
    "duration": 7,
    "start_time": "2025-02-10T18:42:57.769Z"
   },
   {
    "duration": 14,
    "start_time": "2025-02-10T18:48:16.198Z"
   },
   {
    "duration": 257,
    "start_time": "2025-02-10T18:48:28.273Z"
   },
   {
    "duration": 202,
    "start_time": "2025-02-10T18:50:54.059Z"
   },
   {
    "duration": 133,
    "start_time": "2025-02-10T18:51:26.575Z"
   },
   {
    "duration": 126,
    "start_time": "2025-02-10T18:51:36.309Z"
   },
   {
    "duration": 187,
    "start_time": "2025-02-10T18:51:40.843Z"
   },
   {
    "duration": 240,
    "start_time": "2025-02-10T18:51:50.755Z"
   },
   {
    "duration": 132,
    "start_time": "2025-02-10T18:52:42.503Z"
   },
   {
    "duration": 139,
    "start_time": "2025-02-10T18:52:49.502Z"
   },
   {
    "duration": 200,
    "start_time": "2025-02-10T18:52:57.919Z"
   },
   {
    "duration": 139,
    "start_time": "2025-02-10T18:53:30.156Z"
   },
   {
    "duration": 153,
    "start_time": "2025-02-10T18:53:36.220Z"
   },
   {
    "duration": 193,
    "start_time": "2025-02-10T18:53:46.041Z"
   },
   {
    "duration": 148,
    "start_time": "2025-02-10T18:55:15.101Z"
   },
   {
    "duration": 159,
    "start_time": "2025-02-10T18:59:16.345Z"
   },
   {
    "duration": 65,
    "start_time": "2025-02-10T19:00:06.950Z"
   },
   {
    "duration": 221,
    "start_time": "2025-02-10T19:00:21.494Z"
   },
   {
    "duration": 355,
    "start_time": "2025-02-10T19:00:36.748Z"
   },
   {
    "duration": 206,
    "start_time": "2025-02-10T19:00:40.108Z"
   },
   {
    "duration": 204,
    "start_time": "2025-02-10T19:00:44.200Z"
   },
   {
    "duration": 231,
    "start_time": "2025-02-10T19:03:43.597Z"
   },
   {
    "duration": 270,
    "start_time": "2025-02-10T19:04:11.452Z"
   },
   {
    "duration": 259,
    "start_time": "2025-02-10T19:04:58.721Z"
   },
   {
    "duration": 245,
    "start_time": "2025-02-10T19:08:05.141Z"
   },
   {
    "duration": 299,
    "start_time": "2025-02-10T19:09:11.712Z"
   },
   {
    "duration": 217,
    "start_time": "2025-02-10T19:10:55.617Z"
   },
   {
    "duration": 268,
    "start_time": "2025-02-10T19:11:09.108Z"
   },
   {
    "duration": 259,
    "start_time": "2025-02-10T19:11:17.096Z"
   },
   {
    "duration": 247,
    "start_time": "2025-02-10T19:11:30.627Z"
   },
   {
    "duration": 255,
    "start_time": "2025-02-10T19:11:56.707Z"
   },
   {
    "duration": 259,
    "start_time": "2025-02-10T19:12:04.830Z"
   },
   {
    "duration": 365,
    "start_time": "2025-02-10T19:12:09.411Z"
   },
   {
    "duration": 276,
    "start_time": "2025-02-10T19:12:18.122Z"
   },
   {
    "duration": 249,
    "start_time": "2025-02-10T19:12:22.425Z"
   },
   {
    "duration": 255,
    "start_time": "2025-02-10T19:12:29.388Z"
   },
   {
    "duration": 252,
    "start_time": "2025-02-10T19:12:37.625Z"
   },
   {
    "duration": 265,
    "start_time": "2025-02-10T19:12:48.277Z"
   },
   {
    "duration": 355,
    "start_time": "2025-02-10T19:12:52.655Z"
   },
   {
    "duration": 254,
    "start_time": "2025-02-10T19:12:56.261Z"
   },
   {
    "duration": 253,
    "start_time": "2025-02-10T19:13:02.133Z"
   },
   {
    "duration": 267,
    "start_time": "2025-02-10T19:13:07.376Z"
   },
   {
    "duration": 249,
    "start_time": "2025-02-10T19:13:11.407Z"
   },
   {
    "duration": 256,
    "start_time": "2025-02-10T19:13:14.642Z"
   },
   {
    "duration": 356,
    "start_time": "2025-02-10T19:13:21.376Z"
   },
   {
    "duration": 247,
    "start_time": "2025-02-10T19:13:26.613Z"
   },
   {
    "duration": 253,
    "start_time": "2025-02-10T19:13:36.595Z"
   },
   {
    "duration": 259,
    "start_time": "2025-02-10T19:13:42.074Z"
   },
   {
    "duration": 263,
    "start_time": "2025-02-10T19:13:47.932Z"
   },
   {
    "duration": 245,
    "start_time": "2025-02-10T19:15:51.342Z"
   },
   {
    "duration": 358,
    "start_time": "2025-02-10T19:17:07.497Z"
   },
   {
    "duration": 271,
    "start_time": "2025-02-10T19:17:56.128Z"
   },
   {
    "duration": 259,
    "start_time": "2025-02-10T19:23:03.990Z"
   },
   {
    "duration": 234,
    "start_time": "2025-02-10T19:23:21.996Z"
   },
   {
    "duration": 243,
    "start_time": "2025-02-10T19:23:33.592Z"
   },
   {
    "duration": 268,
    "start_time": "2025-02-10T19:23:51.014Z"
   },
   {
    "duration": 1261,
    "start_time": "2025-02-11T16:25:50.103Z"
   },
   {
    "duration": 59,
    "start_time": "2025-02-11T16:25:51.366Z"
   },
   {
    "duration": 21,
    "start_time": "2025-02-11T16:25:51.427Z"
   },
   {
    "duration": 93,
    "start_time": "2025-02-11T16:25:51.450Z"
   },
   {
    "duration": 14,
    "start_time": "2025-02-11T16:25:51.544Z"
   },
   {
    "duration": 13,
    "start_time": "2025-02-11T16:25:51.560Z"
   },
   {
    "duration": 10,
    "start_time": "2025-02-11T16:25:51.574Z"
   },
   {
    "duration": 9,
    "start_time": "2025-02-11T16:25:51.585Z"
   },
   {
    "duration": 12,
    "start_time": "2025-02-11T16:25:51.596Z"
   },
   {
    "duration": 11,
    "start_time": "2025-02-11T16:25:51.610Z"
   },
   {
    "duration": 47,
    "start_time": "2025-02-11T16:25:51.622Z"
   },
   {
    "duration": 168,
    "start_time": "2025-02-11T16:25:51.675Z"
   },
   {
    "duration": 111,
    "start_time": "2025-02-11T16:25:51.844Z"
   },
   {
    "duration": 196,
    "start_time": "2025-02-11T16:25:51.956Z"
   },
   {
    "duration": 31,
    "start_time": "2025-02-11T16:25:52.153Z"
   },
   {
    "duration": 317,
    "start_time": "2025-02-11T16:25:52.186Z"
   },
   {
    "duration": 183,
    "start_time": "2025-02-11T16:25:52.504Z"
   },
   {
    "duration": 13,
    "start_time": "2025-02-11T16:25:52.688Z"
   },
   {
    "duration": 46,
    "start_time": "2025-02-11T16:25:52.702Z"
   },
   {
    "duration": 24,
    "start_time": "2025-02-11T16:25:52.749Z"
   },
   {
    "duration": 15,
    "start_time": "2025-02-11T16:25:52.775Z"
   },
   {
    "duration": 17,
    "start_time": "2025-02-11T16:25:52.792Z"
   },
   {
    "duration": 14,
    "start_time": "2025-02-11T16:25:52.811Z"
   },
   {
    "duration": 5,
    "start_time": "2025-02-11T16:25:52.826Z"
   },
   {
    "duration": 258,
    "start_time": "2025-02-11T16:25:52.832Z"
   },
   {
    "duration": 249,
    "start_time": "2025-02-11T16:25:53.092Z"
   },
   {
    "duration": 193,
    "start_time": "2025-02-11T16:25:53.343Z"
   },
   {
    "duration": 308,
    "start_time": "2025-02-11T16:25:53.539Z"
   },
   {
    "duration": 8,
    "start_time": "2025-02-11T16:25:53.849Z"
   },
   {
    "duration": 52,
    "start_time": "2025-02-11T16:25:53.859Z"
   },
   {
    "duration": 17,
    "start_time": "2025-02-11T16:25:53.912Z"
   },
   {
    "duration": 1237,
    "start_time": "2025-02-12T11:47:26.537Z"
   },
   {
    "duration": 58,
    "start_time": "2025-02-12T11:47:27.776Z"
   },
   {
    "duration": 19,
    "start_time": "2025-02-12T11:47:27.836Z"
   },
   {
    "duration": 60,
    "start_time": "2025-02-12T11:47:27.856Z"
   },
   {
    "duration": 12,
    "start_time": "2025-02-12T11:47:27.918Z"
   },
   {
    "duration": 15,
    "start_time": "2025-02-12T11:47:27.932Z"
   },
   {
    "duration": 10,
    "start_time": "2025-02-12T11:47:27.948Z"
   },
   {
    "duration": 8,
    "start_time": "2025-02-12T11:47:27.959Z"
   },
   {
    "duration": 44,
    "start_time": "2025-02-12T11:47:27.968Z"
   },
   {
    "duration": 10,
    "start_time": "2025-02-12T11:47:28.013Z"
   },
   {
    "duration": 14,
    "start_time": "2025-02-12T11:47:28.024Z"
   },
   {
    "duration": 176,
    "start_time": "2025-02-12T11:47:28.039Z"
   },
   {
    "duration": 110,
    "start_time": "2025-02-12T11:47:28.216Z"
   },
   {
    "duration": 181,
    "start_time": "2025-02-12T11:47:28.329Z"
   },
   {
    "duration": 26,
    "start_time": "2025-02-12T11:47:28.512Z"
   },
   {
    "duration": 345,
    "start_time": "2025-02-12T11:47:28.539Z"
   },
   {
    "duration": 193,
    "start_time": "2025-02-12T11:47:28.886Z"
   },
   {
    "duration": 12,
    "start_time": "2025-02-12T11:47:29.080Z"
   },
   {
    "duration": 26,
    "start_time": "2025-02-12T11:47:29.093Z"
   },
   {
    "duration": 24,
    "start_time": "2025-02-12T11:47:29.121Z"
   },
   {
    "duration": 13,
    "start_time": "2025-02-12T11:47:29.146Z"
   },
   {
    "duration": 16,
    "start_time": "2025-02-12T11:47:29.161Z"
   },
   {
    "duration": 15,
    "start_time": "2025-02-12T11:47:29.210Z"
   },
   {
    "duration": 5,
    "start_time": "2025-02-12T11:47:29.227Z"
   },
   {
    "duration": 243,
    "start_time": "2025-02-12T11:47:29.234Z"
   },
   {
    "duration": 239,
    "start_time": "2025-02-12T11:47:29.479Z"
   },
   {
    "duration": 182,
    "start_time": "2025-02-12T11:47:29.720Z"
   },
   {
    "duration": 319,
    "start_time": "2025-02-12T11:47:29.904Z"
   },
   {
    "duration": 10,
    "start_time": "2025-02-12T11:47:30.224Z"
   },
   {
    "duration": 22,
    "start_time": "2025-02-12T11:47:30.235Z"
   },
   {
    "duration": 15,
    "start_time": "2025-02-12T11:47:30.259Z"
   },
   {
    "duration": 1007,
    "start_time": "2025-02-12T11:55:17.766Z"
   },
   {
    "duration": 57,
    "start_time": "2025-02-12T11:55:19.522Z"
   },
   {
    "duration": 21,
    "start_time": "2025-02-12T11:55:19.842Z"
   },
   {
    "duration": 18,
    "start_time": "2025-02-12T11:55:19.994Z"
   },
   {
    "duration": 15,
    "start_time": "2025-02-12T11:55:20.154Z"
   },
   {
    "duration": 13,
    "start_time": "2025-02-12T11:55:21.129Z"
   },
   {
    "duration": 11,
    "start_time": "2025-02-12T11:55:21.458Z"
   },
   {
    "duration": 9,
    "start_time": "2025-02-12T11:55:21.611Z"
   },
   {
    "duration": 13,
    "start_time": "2025-02-12T11:55:22.441Z"
   },
   {
    "duration": 11,
    "start_time": "2025-02-12T11:55:22.617Z"
   },
   {
    "duration": 9,
    "start_time": "2025-02-12T11:55:22.778Z"
   },
   {
    "duration": 169,
    "start_time": "2025-02-12T11:55:23.593Z"
   },
   {
    "duration": 111,
    "start_time": "2025-02-12T11:55:24.666Z"
   },
   {
    "duration": 182,
    "start_time": "2025-02-12T11:55:25.513Z"
   },
   {
    "duration": 25,
    "start_time": "2025-02-12T11:55:30.714Z"
   },
   {
    "duration": 306,
    "start_time": "2025-02-12T11:55:30.881Z"
   },
   {
    "duration": 181,
    "start_time": "2025-02-12T11:55:32.378Z"
   },
   {
    "duration": 13,
    "start_time": "2025-02-12T11:55:33.026Z"
   },
   {
    "duration": 19,
    "start_time": "2025-02-12T11:55:33.299Z"
   },
   {
    "duration": 26,
    "start_time": "2025-02-12T11:55:35.681Z"
   },
   {
    "duration": 15,
    "start_time": "2025-02-12T11:55:35.858Z"
   },
   {
    "duration": 17,
    "start_time": "2025-02-12T11:55:38.721Z"
   },
   {
    "duration": 15,
    "start_time": "2025-02-12T11:55:40.866Z"
   },
   {
    "duration": 5,
    "start_time": "2025-02-12T11:55:41.370Z"
   },
   {
    "duration": 246,
    "start_time": "2025-02-12T11:55:43.033Z"
   },
   {
    "duration": 223,
    "start_time": "2025-02-12T11:55:44.745Z"
   },
   {
    "duration": 22,
    "start_time": "2025-02-12T11:59:43.052Z"
   },
   {
    "duration": 20,
    "start_time": "2025-02-12T11:59:53.067Z"
   },
   {
    "duration": 21,
    "start_time": "2025-02-12T12:00:50.927Z"
   },
   {
    "duration": 21,
    "start_time": "2025-02-12T12:02:03.588Z"
   },
   {
    "duration": 20,
    "start_time": "2025-02-12T12:02:15.566Z"
   },
   {
    "duration": 1400,
    "start_time": "2025-02-12T12:03:56.199Z"
   },
   {
    "duration": 1324,
    "start_time": "2025-02-12T12:04:22.861Z"
   },
   {
    "duration": 1539,
    "start_time": "2025-02-12T12:04:27.214Z"
   },
   {
    "duration": 9,
    "start_time": "2025-02-12T12:04:57.797Z"
   },
   {
    "duration": 6,
    "start_time": "2025-02-12T12:08:41.127Z"
   },
   {
    "duration": 1388,
    "start_time": "2025-02-12T12:10:31.450Z"
   },
   {
    "duration": 1510,
    "start_time": "2025-02-12T12:10:36.024Z"
   },
   {
    "duration": 1435,
    "start_time": "2025-02-12T12:10:57.512Z"
   },
   {
    "duration": 1405,
    "start_time": "2025-02-12T12:11:04.448Z"
   },
   {
    "duration": 6,
    "start_time": "2025-02-12T12:11:24.760Z"
   },
   {
    "duration": 1396,
    "start_time": "2025-02-12T12:13:17.547Z"
   },
   {
    "duration": 1502,
    "start_time": "2025-02-12T12:13:30.056Z"
   },
   {
    "duration": 20,
    "start_time": "2025-02-12T12:15:26.610Z"
   },
   {
    "duration": 20,
    "start_time": "2025-02-12T12:15:36.594Z"
   },
   {
    "duration": 25,
    "start_time": "2025-02-12T12:15:45.793Z"
   },
   {
    "duration": 20,
    "start_time": "2025-02-12T12:15:52.793Z"
   },
   {
    "duration": 20,
    "start_time": "2025-02-12T12:16:12.219Z"
   },
   {
    "duration": 81,
    "start_time": "2025-02-12T12:18:49.482Z"
   },
   {
    "duration": 24,
    "start_time": "2025-02-12T12:18:54.459Z"
   },
   {
    "duration": 20,
    "start_time": "2025-02-12T12:23:05.485Z"
   },
   {
    "duration": 20,
    "start_time": "2025-02-12T12:23:11.005Z"
   },
   {
    "duration": 20,
    "start_time": "2025-02-12T12:24:36.190Z"
   },
   {
    "duration": 20,
    "start_time": "2025-02-12T12:24:40.791Z"
   },
   {
    "duration": 20,
    "start_time": "2025-02-12T12:24:45.326Z"
   },
   {
    "duration": 20,
    "start_time": "2025-02-12T12:24:49.327Z"
   },
   {
    "duration": 19,
    "start_time": "2025-02-12T12:24:53.174Z"
   },
   {
    "duration": 19,
    "start_time": "2025-02-12T12:25:00.966Z"
   },
   {
    "duration": 19,
    "start_time": "2025-02-12T12:25:18.412Z"
   },
   {
    "duration": 22,
    "start_time": "2025-02-12T12:26:34.679Z"
   },
   {
    "duration": 137,
    "start_time": "2025-02-12T12:28:42.014Z"
   },
   {
    "duration": 27,
    "start_time": "2025-02-12T12:29:06.695Z"
   },
   {
    "duration": 24,
    "start_time": "2025-02-12T12:29:11.879Z"
   },
   {
    "duration": 27,
    "start_time": "2025-02-12T12:38:46.013Z"
   },
   {
    "duration": 14,
    "start_time": "2025-02-12T12:40:24.847Z"
   },
   {
    "duration": 12,
    "start_time": "2025-02-12T12:40:35.852Z"
   },
   {
    "duration": 13,
    "start_time": "2025-02-12T12:40:48.604Z"
   },
   {
    "duration": 18,
    "start_time": "2025-02-12T12:47:16.590Z"
   },
   {
    "duration": 13,
    "start_time": "2025-02-12T12:47:28.038Z"
   },
   {
    "duration": 12,
    "start_time": "2025-02-12T12:47:30.470Z"
   },
   {
    "duration": 45,
    "start_time": "2025-02-12T12:55:36.376Z"
   },
   {
    "duration": 57,
    "start_time": "2025-02-12T12:57:58.376Z"
   },
   {
    "duration": 14,
    "start_time": "2025-02-12T12:58:05.096Z"
   },
   {
    "duration": 1343,
    "start_time": "2025-02-12T14:43:47.045Z"
   },
   {
    "duration": 72,
    "start_time": "2025-02-12T14:43:48.390Z"
   },
   {
    "duration": 22,
    "start_time": "2025-02-12T14:43:48.463Z"
   },
   {
    "duration": 19,
    "start_time": "2025-02-12T14:43:48.487Z"
   },
   {
    "duration": 14,
    "start_time": "2025-02-12T14:43:48.649Z"
   },
   {
    "duration": 16,
    "start_time": "2025-02-12T14:43:49.879Z"
   },
   {
    "duration": 11,
    "start_time": "2025-02-12T14:43:50.231Z"
   },
   {
    "duration": 9,
    "start_time": "2025-02-12T14:43:50.386Z"
   },
   {
    "duration": 13,
    "start_time": "2025-02-12T14:43:51.288Z"
   },
   {
    "duration": 11,
    "start_time": "2025-02-12T14:43:51.495Z"
   },
   {
    "duration": 11,
    "start_time": "2025-02-12T14:43:51.680Z"
   },
   {
    "duration": 158,
    "start_time": "2025-02-12T14:43:52.677Z"
   },
   {
    "duration": 101,
    "start_time": "2025-02-12T14:43:53.505Z"
   },
   {
    "duration": 173,
    "start_time": "2025-02-12T14:43:54.504Z"
   },
   {
    "duration": 25,
    "start_time": "2025-02-12T14:43:56.349Z"
   },
   {
    "duration": 310,
    "start_time": "2025-02-12T14:43:56.524Z"
   },
   {
    "duration": 176,
    "start_time": "2025-02-12T14:43:57.527Z"
   },
   {
    "duration": 13,
    "start_time": "2025-02-12T14:43:58.043Z"
   },
   {
    "duration": 18,
    "start_time": "2025-02-12T14:43:58.638Z"
   },
   {
    "duration": 26,
    "start_time": "2025-02-12T14:44:00.730Z"
   },
   {
    "duration": 15,
    "start_time": "2025-02-12T14:44:01.547Z"
   },
   {
    "duration": 18,
    "start_time": "2025-02-12T14:44:05.780Z"
   },
   {
    "duration": 16,
    "start_time": "2025-02-12T14:44:06.830Z"
   },
   {
    "duration": 5,
    "start_time": "2025-02-12T14:44:07.332Z"
   },
   {
    "duration": 229,
    "start_time": "2025-02-12T14:44:09.463Z"
   },
   {
    "duration": 226,
    "start_time": "2025-02-12T14:44:10.747Z"
   },
   {
    "duration": 23,
    "start_time": "2025-02-12T14:51:24.240Z"
   },
   {
    "duration": 121,
    "start_time": "2025-02-12T14:51:55.067Z"
   },
   {
    "duration": 46,
    "start_time": "2025-02-12T14:52:13.792Z"
   },
   {
    "duration": 20,
    "start_time": "2025-02-12T15:03:59.474Z"
   },
   {
    "duration": 20,
    "start_time": "2025-02-12T15:04:41.451Z"
   },
   {
    "duration": 23,
    "start_time": "2025-02-12T15:05:21.688Z"
   },
   {
    "duration": 107,
    "start_time": "2025-02-12T15:06:54.710Z"
   },
   {
    "duration": 23,
    "start_time": "2025-02-12T15:08:29.249Z"
   },
   {
    "duration": 30,
    "start_time": "2025-02-12T15:12:43.792Z"
   },
   {
    "duration": 19,
    "start_time": "2025-02-12T15:16:37.424Z"
   },
   {
    "duration": 29,
    "start_time": "2025-02-12T15:17:01.980Z"
   },
   {
    "duration": 23,
    "start_time": "2025-02-12T15:17:17.562Z"
   },
   {
    "duration": 28,
    "start_time": "2025-02-12T15:18:23.908Z"
   },
   {
    "duration": 12,
    "start_time": "2025-02-12T15:20:07.107Z"
   },
   {
    "duration": 62,
    "start_time": "2025-02-12T15:20:16.942Z"
   },
   {
    "duration": 13,
    "start_time": "2025-02-12T15:20:21.002Z"
   },
   {
    "duration": 15,
    "start_time": "2025-02-12T15:21:01.615Z"
   },
   {
    "duration": 53,
    "start_time": "2025-02-12T15:21:14.618Z"
   },
   {
    "duration": 56,
    "start_time": "2025-02-12T15:21:38.973Z"
   },
   {
    "duration": 56,
    "start_time": "2025-02-12T15:22:09.272Z"
   },
   {
    "duration": 28,
    "start_time": "2025-02-12T15:28:16.767Z"
   },
   {
    "duration": 29,
    "start_time": "2025-02-12T15:28:55.475Z"
   },
   {
    "duration": 56,
    "start_time": "2025-02-12T15:30:38.269Z"
   },
   {
    "duration": 13,
    "start_time": "2025-02-12T15:30:42.557Z"
   },
   {
    "duration": 15,
    "start_time": "2025-02-12T15:31:30.918Z"
   },
   {
    "duration": 57,
    "start_time": "2025-02-12T15:31:34.674Z"
   },
   {
    "duration": 13,
    "start_time": "2025-02-12T15:33:26.806Z"
   },
   {
    "duration": 14,
    "start_time": "2025-02-12T15:34:34.940Z"
   },
   {
    "duration": 977,
    "start_time": "2025-02-12T15:40:15.125Z"
   },
   {
    "duration": 1764,
    "start_time": "2025-02-12T15:42:38.762Z"
   },
   {
    "duration": 239,
    "start_time": "2025-02-12T15:42:48.732Z"
   },
   {
    "duration": 15,
    "start_time": "2025-02-12T15:43:23.441Z"
   },
   {
    "duration": 1168,
    "start_time": "2025-02-12T15:43:42.666Z"
   },
   {
    "duration": 81,
    "start_time": "2025-02-12T15:43:43.836Z"
   },
   {
    "duration": 21,
    "start_time": "2025-02-12T15:43:43.918Z"
   },
   {
    "duration": 31,
    "start_time": "2025-02-12T15:43:43.940Z"
   },
   {
    "duration": 25,
    "start_time": "2025-02-12T15:43:43.973Z"
   },
   {
    "duration": 28,
    "start_time": "2025-02-12T15:43:44.000Z"
   },
   {
    "duration": 12,
    "start_time": "2025-02-12T15:43:44.030Z"
   },
   {
    "duration": 20,
    "start_time": "2025-02-12T15:43:44.044Z"
   },
   {
    "duration": 26,
    "start_time": "2025-02-12T15:43:44.065Z"
   },
   {
    "duration": 33,
    "start_time": "2025-02-12T15:43:44.093Z"
   },
   {
    "duration": 27,
    "start_time": "2025-02-12T15:43:44.129Z"
   },
   {
    "duration": 173,
    "start_time": "2025-02-12T15:43:44.159Z"
   },
   {
    "duration": 118,
    "start_time": "2025-02-12T15:43:44.334Z"
   },
   {
    "duration": 202,
    "start_time": "2025-02-12T15:43:44.460Z"
   },
   {
    "duration": 26,
    "start_time": "2025-02-12T15:43:44.664Z"
   },
   {
    "duration": 348,
    "start_time": "2025-02-12T15:43:44.691Z"
   },
   {
    "duration": 211,
    "start_time": "2025-02-12T15:43:45.040Z"
   },
   {
    "duration": 14,
    "start_time": "2025-02-12T15:43:45.260Z"
   },
   {
    "duration": 46,
    "start_time": "2025-02-12T15:43:45.276Z"
   },
   {
    "duration": 40,
    "start_time": "2025-02-12T15:43:45.325Z"
   },
   {
    "duration": 23,
    "start_time": "2025-02-12T15:43:45.367Z"
   },
   {
    "duration": 39,
    "start_time": "2025-02-12T15:43:45.392Z"
   },
   {
    "duration": 33,
    "start_time": "2025-02-12T15:43:45.433Z"
   },
   {
    "duration": 8,
    "start_time": "2025-02-12T15:43:45.468Z"
   },
   {
    "duration": 277,
    "start_time": "2025-02-12T15:43:45.477Z"
   },
   {
    "duration": 262,
    "start_time": "2025-02-12T15:43:45.761Z"
   },
   {
    "duration": 134,
    "start_time": "2025-02-12T15:43:46.024Z"
   },
   {
    "duration": 13,
    "start_time": "2025-02-12T15:43:46.161Z"
   },
   {
    "duration": 39,
    "start_time": "2025-02-12T15:43:46.176Z"
   },
   {
    "duration": 20,
    "start_time": "2025-02-12T15:43:46.216Z"
   },
   {
    "duration": 68,
    "start_time": "2025-02-12T15:43:46.238Z"
   },
   {
    "duration": 35,
    "start_time": "2025-02-12T15:50:06.361Z"
   },
   {
    "duration": 1188,
    "start_time": "2025-02-12T15:57:05.089Z"
   },
   {
    "duration": 65,
    "start_time": "2025-02-12T15:57:06.279Z"
   },
   {
    "duration": 23,
    "start_time": "2025-02-12T15:57:06.349Z"
   },
   {
    "duration": 30,
    "start_time": "2025-02-12T15:57:06.374Z"
   },
   {
    "duration": 25,
    "start_time": "2025-02-12T15:57:06.406Z"
   },
   {
    "duration": 28,
    "start_time": "2025-02-12T15:57:06.433Z"
   },
   {
    "duration": 28,
    "start_time": "2025-02-12T15:57:06.463Z"
   },
   {
    "duration": 35,
    "start_time": "2025-02-12T15:57:06.493Z"
   },
   {
    "duration": 16,
    "start_time": "2025-02-12T15:57:06.531Z"
   },
   {
    "duration": 25,
    "start_time": "2025-02-12T15:57:06.549Z"
   },
   {
    "duration": 36,
    "start_time": "2025-02-12T15:57:06.576Z"
   },
   {
    "duration": 191,
    "start_time": "2025-02-12T15:57:06.614Z"
   },
   {
    "duration": 130,
    "start_time": "2025-02-12T15:57:06.807Z"
   },
   {
    "duration": 215,
    "start_time": "2025-02-12T15:57:06.939Z"
   },
   {
    "duration": 31,
    "start_time": "2025-02-12T15:57:07.156Z"
   },
   {
    "duration": 355,
    "start_time": "2025-02-12T15:57:07.188Z"
   },
   {
    "duration": 232,
    "start_time": "2025-02-12T15:57:07.545Z"
   },
   {
    "duration": 16,
    "start_time": "2025-02-12T15:57:07.779Z"
   },
   {
    "duration": 23,
    "start_time": "2025-02-12T15:57:07.798Z"
   },
   {
    "duration": 62,
    "start_time": "2025-02-12T15:57:07.823Z"
   },
   {
    "duration": 19,
    "start_time": "2025-02-12T15:57:07.887Z"
   },
   {
    "duration": 21,
    "start_time": "2025-02-12T15:57:07.908Z"
   },
   {
    "duration": 46,
    "start_time": "2025-02-12T15:57:07.931Z"
   },
   {
    "duration": 6,
    "start_time": "2025-02-12T15:57:07.979Z"
   },
   {
    "duration": 290,
    "start_time": "2025-02-12T15:57:07.987Z"
   },
   {
    "duration": 284,
    "start_time": "2025-02-12T15:57:08.278Z"
   },
   {
    "duration": 137,
    "start_time": "2025-02-12T15:57:08.566Z"
   },
   {
    "duration": 16,
    "start_time": "2025-02-12T15:57:08.705Z"
   },
   {
    "duration": 12,
    "start_time": "2025-02-12T15:57:08.723Z"
   },
   {
    "duration": 9,
    "start_time": "2025-02-12T15:57:08.762Z"
   },
   {
    "duration": 17,
    "start_time": "2025-02-12T15:57:08.773Z"
   },
   {
    "duration": 10,
    "start_time": "2025-02-12T16:08:52.276Z"
   },
   {
    "duration": 9,
    "start_time": "2025-02-12T16:18:56.583Z"
   },
   {
    "duration": 9,
    "start_time": "2025-02-12T16:19:30.578Z"
   },
   {
    "duration": 1281,
    "start_time": "2025-02-12T16:20:16.277Z"
   },
   {
    "duration": 75,
    "start_time": "2025-02-12T16:20:17.560Z"
   },
   {
    "duration": 23,
    "start_time": "2025-02-12T16:20:17.637Z"
   },
   {
    "duration": 19,
    "start_time": "2025-02-12T16:20:17.662Z"
   },
   {
    "duration": 16,
    "start_time": "2025-02-12T16:20:17.683Z"
   },
   {
    "duration": 18,
    "start_time": "2025-02-12T16:20:17.701Z"
   },
   {
    "duration": 16,
    "start_time": "2025-02-12T16:20:17.721Z"
   },
   {
    "duration": 30,
    "start_time": "2025-02-12T16:20:17.739Z"
   },
   {
    "duration": 68,
    "start_time": "2025-02-12T16:20:17.771Z"
   },
   {
    "duration": 13,
    "start_time": "2025-02-12T16:20:17.841Z"
   },
   {
    "duration": 12,
    "start_time": "2025-02-12T16:20:17.855Z"
   },
   {
    "duration": 209,
    "start_time": "2025-02-12T16:20:17.868Z"
   },
   {
    "duration": 146,
    "start_time": "2025-02-12T16:20:18.079Z"
   },
   {
    "duration": 218,
    "start_time": "2025-02-12T16:20:18.228Z"
   },
   {
    "duration": 40,
    "start_time": "2025-02-12T16:20:18.447Z"
   },
   {
    "duration": 378,
    "start_time": "2025-02-12T16:20:18.489Z"
   },
   {
    "duration": 219,
    "start_time": "2025-02-12T16:20:18.869Z"
   },
   {
    "duration": 15,
    "start_time": "2025-02-12T16:20:19.090Z"
   },
   {
    "duration": 35,
    "start_time": "2025-02-12T16:20:19.107Z"
   },
   {
    "duration": 45,
    "start_time": "2025-02-12T16:20:19.143Z"
   },
   {
    "duration": 19,
    "start_time": "2025-02-12T16:20:19.190Z"
   },
   {
    "duration": 20,
    "start_time": "2025-02-12T16:20:19.211Z"
   },
   {
    "duration": 46,
    "start_time": "2025-02-12T16:20:19.233Z"
   },
   {
    "duration": 7,
    "start_time": "2025-02-12T16:20:19.281Z"
   },
   {
    "duration": 297,
    "start_time": "2025-02-12T16:20:19.290Z"
   },
   {
    "duration": 280,
    "start_time": "2025-02-12T16:20:19.588Z"
   },
   {
    "duration": 143,
    "start_time": "2025-02-12T16:20:19.870Z"
   },
   {
    "duration": 15,
    "start_time": "2025-02-12T16:20:20.015Z"
   },
   {
    "duration": 38,
    "start_time": "2025-02-12T16:20:20.032Z"
   },
   {
    "duration": 31,
    "start_time": "2025-02-12T16:20:20.072Z"
   },
   {
    "duration": 38,
    "start_time": "2025-02-12T16:20:20.105Z"
   },
   {
    "duration": 18,
    "start_time": "2025-02-12T16:33:42.952Z"
   },
   {
    "duration": 91,
    "start_time": "2025-02-12T17:18:18.491Z"
   },
   {
    "duration": 9,
    "start_time": "2025-02-12T17:20:04.706Z"
   },
   {
    "duration": 5,
    "start_time": "2025-02-12T17:20:24.576Z"
   },
   {
    "duration": 5,
    "start_time": "2025-02-12T17:20:32.845Z"
   },
   {
    "duration": 1626,
    "start_time": "2025-02-12T17:21:11.088Z"
   },
   {
    "duration": 211,
    "start_time": "2025-02-12T17:23:13.423Z"
   },
   {
    "duration": 1600,
    "start_time": "2025-02-12T17:23:40.830Z"
   },
   {
    "duration": 1542,
    "start_time": "2025-02-12T17:23:48.889Z"
   },
   {
    "duration": 2851,
    "start_time": "2025-02-12T17:24:15.971Z"
   },
   {
    "duration": 2280,
    "start_time": "2025-02-12T17:24:32.745Z"
   },
   {
    "duration": 1856,
    "start_time": "2025-02-12T17:24:41.808Z"
   },
   {
    "duration": 1682,
    "start_time": "2025-02-12T17:25:00.204Z"
   },
   {
    "duration": 1776,
    "start_time": "2025-02-12T17:25:08.313Z"
   },
   {
    "duration": 1745,
    "start_time": "2025-02-12T17:25:15.955Z"
   },
   {
    "duration": 1742,
    "start_time": "2025-02-12T17:25:26.105Z"
   },
   {
    "duration": 1746,
    "start_time": "2025-02-12T17:25:34.609Z"
   },
   {
    "duration": 1743,
    "start_time": "2025-02-12T17:25:40.957Z"
   },
   {
    "duration": 1810,
    "start_time": "2025-02-12T17:25:49.423Z"
   },
   {
    "duration": 1762,
    "start_time": "2025-02-12T17:25:55.873Z"
   },
   {
    "duration": 1770,
    "start_time": "2025-02-12T17:33:22.832Z"
   },
   {
    "duration": 1763,
    "start_time": "2025-02-12T17:33:40.798Z"
   },
   {
    "duration": 1748,
    "start_time": "2025-02-12T17:33:59.067Z"
   },
   {
    "duration": 1717,
    "start_time": "2025-02-12T17:34:24.952Z"
   },
   {
    "duration": 1873,
    "start_time": "2025-02-12T17:35:01.083Z"
   },
   {
    "duration": 1861,
    "start_time": "2025-02-12T17:35:30.901Z"
   },
   {
    "duration": 85,
    "start_time": "2025-02-12T17:35:44.539Z"
   },
   {
    "duration": 1814,
    "start_time": "2025-02-12T17:35:47.442Z"
   },
   {
    "duration": 1708,
    "start_time": "2025-02-12T17:35:53.282Z"
   },
   {
    "duration": 1722,
    "start_time": "2025-02-12T17:35:59.573Z"
   },
   {
    "duration": 1884,
    "start_time": "2025-02-12T17:37:16.189Z"
   },
   {
    "duration": 1786,
    "start_time": "2025-02-12T17:38:28.694Z"
   },
   {
    "duration": 1760,
    "start_time": "2025-02-12T17:38:37.050Z"
   },
   {
    "duration": 1867,
    "start_time": "2025-02-12T17:39:51.694Z"
   },
   {
    "duration": 1804,
    "start_time": "2025-02-12T17:40:00.125Z"
   },
   {
    "duration": 1865,
    "start_time": "2025-02-12T17:40:35.443Z"
   },
   {
    "duration": 1889,
    "start_time": "2025-02-12T17:43:34.312Z"
   },
   {
    "duration": 34,
    "start_time": "2025-02-12T18:02:39.984Z"
   },
   {
    "duration": 117,
    "start_time": "2025-02-12T18:02:53.018Z"
   },
   {
    "duration": 34577,
    "start_time": "2025-02-12T18:03:03.009Z"
   },
   {
    "duration": 1860,
    "start_time": "2025-02-12T18:09:53.808Z"
   },
   {
    "duration": 1774,
    "start_time": "2025-02-12T18:10:18.176Z"
   },
   {
    "duration": 118,
    "start_time": "2025-02-12T18:12:45.981Z"
   },
   {
    "duration": 126,
    "start_time": "2025-02-12T18:13:31.799Z"
   },
   {
    "duration": 125,
    "start_time": "2025-02-12T18:13:38.910Z"
   },
   {
    "duration": 261,
    "start_time": "2025-02-12T18:13:51.487Z"
   },
   {
    "duration": 143,
    "start_time": "2025-02-12T18:13:55.707Z"
   },
   {
    "duration": 140,
    "start_time": "2025-02-12T18:14:39.078Z"
   },
   {
    "duration": 154,
    "start_time": "2025-02-12T18:15:35.643Z"
   },
   {
    "duration": 312,
    "start_time": "2025-02-12T18:15:41.859Z"
   },
   {
    "duration": 154,
    "start_time": "2025-02-12T18:16:11.500Z"
   },
   {
    "duration": 151,
    "start_time": "2025-02-12T18:16:51.916Z"
   },
   {
    "duration": 108,
    "start_time": "2025-02-12T18:16:55.030Z"
   },
   {
    "duration": 846,
    "start_time": "2025-02-12T18:17:02.758Z"
   },
   {
    "duration": 3730,
    "start_time": "2025-02-12T18:17:07.426Z"
   },
   {
    "duration": 156,
    "start_time": "2025-02-12T18:17:11.522Z"
   },
   {
    "duration": 1242,
    "start_time": "2025-02-12T18:45:02.529Z"
   },
   {
    "duration": 62,
    "start_time": "2025-02-12T18:45:03.773Z"
   },
   {
    "duration": 24,
    "start_time": "2025-02-12T18:45:03.837Z"
   },
   {
    "duration": 43,
    "start_time": "2025-02-12T18:45:03.864Z"
   },
   {
    "duration": 20,
    "start_time": "2025-02-12T18:45:03.910Z"
   },
   {
    "duration": 33,
    "start_time": "2025-02-12T18:45:03.933Z"
   },
   {
    "duration": 11,
    "start_time": "2025-02-12T18:45:03.968Z"
   },
   {
    "duration": 13,
    "start_time": "2025-02-12T18:45:03.981Z"
   },
   {
    "duration": 41,
    "start_time": "2025-02-12T18:45:03.996Z"
   },
   {
    "duration": 32,
    "start_time": "2025-02-12T18:45:04.040Z"
   },
   {
    "duration": 38,
    "start_time": "2025-02-12T18:45:04.074Z"
   },
   {
    "duration": 178,
    "start_time": "2025-02-12T18:45:04.113Z"
   },
   {
    "duration": 118,
    "start_time": "2025-02-12T18:45:04.292Z"
   },
   {
    "duration": 193,
    "start_time": "2025-02-12T18:45:04.411Z"
   },
   {
    "duration": 26,
    "start_time": "2025-02-12T18:45:04.605Z"
   },
   {
    "duration": 352,
    "start_time": "2025-02-12T18:45:04.633Z"
   },
   {
    "duration": 214,
    "start_time": "2025-02-12T18:45:04.987Z"
   },
   {
    "duration": 13,
    "start_time": "2025-02-12T18:45:05.203Z"
   },
   {
    "duration": 28,
    "start_time": "2025-02-12T18:45:05.218Z"
   },
   {
    "duration": 28,
    "start_time": "2025-02-12T18:45:05.260Z"
   },
   {
    "duration": 15,
    "start_time": "2025-02-12T18:45:05.289Z"
   },
   {
    "duration": 34,
    "start_time": "2025-02-12T18:45:05.305Z"
   },
   {
    "duration": 29,
    "start_time": "2025-02-12T18:45:05.341Z"
   },
   {
    "duration": 6,
    "start_time": "2025-02-12T18:45:05.372Z"
   },
   {
    "duration": 251,
    "start_time": "2025-02-12T18:45:05.379Z"
   },
   {
    "duration": 261,
    "start_time": "2025-02-12T18:45:05.632Z"
   },
   {
    "duration": 136,
    "start_time": "2025-02-12T18:45:05.894Z"
   },
   {
    "duration": 14,
    "start_time": "2025-02-12T18:45:06.033Z"
   },
   {
    "duration": 21,
    "start_time": "2025-02-12T18:45:06.049Z"
   },
   {
    "duration": 32,
    "start_time": "2025-02-12T18:45:06.072Z"
   },
   {
    "duration": 15,
    "start_time": "2025-02-12T18:45:06.106Z"
   },
   {
    "duration": 1780,
    "start_time": "2025-02-12T18:45:06.123Z"
   },
   {
    "duration": 153,
    "start_time": "2025-02-12T18:45:07.904Z"
   },
   {
    "duration": 1327,
    "start_time": "2025-02-13T11:10:22.331Z"
   },
   {
    "duration": 72,
    "start_time": "2025-02-13T11:10:23.661Z"
   },
   {
    "duration": 28,
    "start_time": "2025-02-13T11:10:23.735Z"
   },
   {
    "duration": 28,
    "start_time": "2025-02-13T11:10:23.766Z"
   },
   {
    "duration": 18,
    "start_time": "2025-02-13T11:10:23.796Z"
   },
   {
    "duration": 23,
    "start_time": "2025-02-13T11:10:23.815Z"
   },
   {
    "duration": 10,
    "start_time": "2025-02-13T11:10:23.840Z"
   },
   {
    "duration": 27,
    "start_time": "2025-02-13T11:10:23.851Z"
   },
   {
    "duration": 21,
    "start_time": "2025-02-13T11:10:23.880Z"
   },
   {
    "duration": 12,
    "start_time": "2025-02-13T11:10:23.905Z"
   },
   {
    "duration": 12,
    "start_time": "2025-02-13T11:10:23.918Z"
   },
   {
    "duration": 236,
    "start_time": "2025-02-13T11:10:23.932Z"
   },
   {
    "duration": 132,
    "start_time": "2025-02-13T11:10:24.176Z"
   },
   {
    "duration": 213,
    "start_time": "2025-02-13T11:10:24.309Z"
   },
   {
    "duration": 27,
    "start_time": "2025-02-13T11:10:24.524Z"
   },
   {
    "duration": 386,
    "start_time": "2025-02-13T11:10:24.553Z"
   },
   {
    "duration": 234,
    "start_time": "2025-02-13T11:10:24.941Z"
   },
   {
    "duration": 20,
    "start_time": "2025-02-13T11:10:25.177Z"
   },
   {
    "duration": 29,
    "start_time": "2025-02-13T11:10:25.201Z"
   },
   {
    "duration": 69,
    "start_time": "2025-02-13T11:10:25.233Z"
   },
   {
    "duration": 19,
    "start_time": "2025-02-13T11:10:25.304Z"
   },
   {
    "duration": 25,
    "start_time": "2025-02-13T11:10:25.326Z"
   },
   {
    "duration": 50,
    "start_time": "2025-02-13T11:10:25.353Z"
   },
   {
    "duration": 6,
    "start_time": "2025-02-13T11:10:25.405Z"
   },
   {
    "duration": 270,
    "start_time": "2025-02-13T11:10:25.413Z"
   },
   {
    "duration": 260,
    "start_time": "2025-02-13T11:10:25.685Z"
   },
   {
    "duration": 162,
    "start_time": "2025-02-13T11:10:25.947Z"
   },
   {
    "duration": 23,
    "start_time": "2025-02-13T11:10:26.114Z"
   },
   {
    "duration": 17,
    "start_time": "2025-02-13T11:10:26.139Z"
   },
   {
    "duration": 17,
    "start_time": "2025-02-13T11:10:26.174Z"
   },
   {
    "duration": 26,
    "start_time": "2025-02-13T11:10:26.194Z"
   },
   {
    "duration": 1942,
    "start_time": "2025-02-13T11:10:26.223Z"
   },
   {
    "duration": 162,
    "start_time": "2025-02-13T11:10:28.175Z"
   },
   {
    "duration": 1212,
    "start_time": "2025-02-13T14:13:04.963Z"
   },
   {
    "duration": 68,
    "start_time": "2025-02-13T14:13:06.177Z"
   },
   {
    "duration": 23,
    "start_time": "2025-02-13T14:13:06.247Z"
   },
   {
    "duration": 26,
    "start_time": "2025-02-13T14:13:06.272Z"
   },
   {
    "duration": 14,
    "start_time": "2025-02-13T14:13:06.299Z"
   },
   {
    "duration": 43,
    "start_time": "2025-02-13T14:13:06.314Z"
   },
   {
    "duration": 10,
    "start_time": "2025-02-13T14:13:06.359Z"
   },
   {
    "duration": 12,
    "start_time": "2025-02-13T14:13:06.371Z"
   },
   {
    "duration": 26,
    "start_time": "2025-02-13T14:13:06.385Z"
   },
   {
    "duration": 36,
    "start_time": "2025-02-13T14:13:06.413Z"
   },
   {
    "duration": 10,
    "start_time": "2025-02-13T14:13:06.450Z"
   },
   {
    "duration": 179,
    "start_time": "2025-02-13T14:13:06.461Z"
   },
   {
    "duration": 115,
    "start_time": "2025-02-13T14:13:06.642Z"
   },
   {
    "duration": 181,
    "start_time": "2025-02-13T14:13:06.759Z"
   },
   {
    "duration": 28,
    "start_time": "2025-02-13T14:13:06.942Z"
   },
   {
    "duration": 343,
    "start_time": "2025-02-13T14:13:06.972Z"
   },
   {
    "duration": 194,
    "start_time": "2025-02-13T14:13:07.317Z"
   },
   {
    "duration": 13,
    "start_time": "2025-02-13T14:13:07.513Z"
   },
   {
    "duration": 80,
    "start_time": "2025-02-13T14:13:07.527Z"
   },
   {
    "duration": 24,
    "start_time": "2025-02-13T14:13:07.609Z"
   },
   {
    "duration": 13,
    "start_time": "2025-02-13T14:13:07.635Z"
   },
   {
    "duration": 16,
    "start_time": "2025-02-13T14:13:07.650Z"
   },
   {
    "duration": 14,
    "start_time": "2025-02-13T14:13:07.668Z"
   },
   {
    "duration": 29,
    "start_time": "2025-02-13T14:13:07.683Z"
   },
   {
    "duration": 273,
    "start_time": "2025-02-13T14:13:07.714Z"
   },
   {
    "duration": 238,
    "start_time": "2025-02-13T14:13:07.989Z"
   },
   {
    "duration": 123,
    "start_time": "2025-02-13T14:13:08.228Z"
   },
   {
    "duration": 13,
    "start_time": "2025-02-13T14:13:08.354Z"
   },
   {
    "duration": 28,
    "start_time": "2025-02-13T14:13:08.368Z"
   },
   {
    "duration": 12,
    "start_time": "2025-02-13T14:13:08.398Z"
   },
   {
    "duration": 16,
    "start_time": "2025-02-13T14:13:08.412Z"
   },
   {
    "duration": 1780,
    "start_time": "2025-02-13T14:13:08.430Z"
   },
   {
    "duration": 147,
    "start_time": "2025-02-13T14:13:10.212Z"
   },
   {
    "duration": 11,
    "start_time": "2025-02-13T14:16:04.798Z"
   },
   {
    "duration": 32,
    "start_time": "2025-02-13T14:17:55.456Z"
   },
   {
    "duration": 13,
    "start_time": "2025-02-13T14:17:57.569Z"
   },
   {
    "duration": 10,
    "start_time": "2025-02-13T14:17:59.041Z"
   },
   {
    "duration": 31,
    "start_time": "2025-02-13T14:18:10.303Z"
   },
   {
    "duration": 1107,
    "start_time": "2025-02-13T14:18:14.360Z"
   },
   {
    "duration": 58,
    "start_time": "2025-02-13T14:18:15.469Z"
   },
   {
    "duration": 20,
    "start_time": "2025-02-13T14:18:15.528Z"
   },
   {
    "duration": 76,
    "start_time": "2025-02-13T14:18:15.550Z"
   },
   {
    "duration": 15,
    "start_time": "2025-02-13T14:18:15.628Z"
   },
   {
    "duration": 15,
    "start_time": "2025-02-13T14:18:15.645Z"
   },
   {
    "duration": 11,
    "start_time": "2025-02-13T14:18:15.662Z"
   },
   {
    "duration": 38,
    "start_time": "2025-02-13T14:18:15.674Z"
   },
   {
    "duration": 12,
    "start_time": "2025-02-13T14:18:15.714Z"
   },
   {
    "duration": 66,
    "start_time": "2025-02-13T14:18:15.728Z"
   },
   {
    "duration": 10,
    "start_time": "2025-02-13T14:18:15.795Z"
   },
   {
    "duration": 173,
    "start_time": "2025-02-13T14:18:15.806Z"
   },
   {
    "duration": 116,
    "start_time": "2025-02-13T14:18:15.980Z"
   },
   {
    "duration": 186,
    "start_time": "2025-02-13T14:18:16.099Z"
   },
   {
    "duration": 33,
    "start_time": "2025-02-13T14:18:16.286Z"
   },
   {
    "duration": 311,
    "start_time": "2025-02-13T14:18:16.320Z"
   },
   {
    "duration": 192,
    "start_time": "2025-02-13T14:18:16.632Z"
   },
   {
    "duration": 13,
    "start_time": "2025-02-13T14:18:16.825Z"
   },
   {
    "duration": 18,
    "start_time": "2025-02-13T14:18:16.839Z"
   },
   {
    "duration": 25,
    "start_time": "2025-02-13T14:18:16.858Z"
   },
   {
    "duration": 16,
    "start_time": "2025-02-13T14:18:16.910Z"
   },
   {
    "duration": 19,
    "start_time": "2025-02-13T14:18:16.928Z"
   },
   {
    "duration": 15,
    "start_time": "2025-02-13T14:18:16.948Z"
   },
   {
    "duration": 6,
    "start_time": "2025-02-13T14:18:16.964Z"
   },
   {
    "duration": 269,
    "start_time": "2025-02-13T14:18:16.971Z"
   },
   {
    "duration": 240,
    "start_time": "2025-02-13T14:18:17.241Z"
   },
   {
    "duration": 129,
    "start_time": "2025-02-13T14:18:17.483Z"
   },
   {
    "duration": 12,
    "start_time": "2025-02-13T14:18:17.614Z"
   },
   {
    "duration": 19,
    "start_time": "2025-02-13T14:18:17.628Z"
   },
   {
    "duration": 18,
    "start_time": "2025-02-13T14:18:17.649Z"
   },
   {
    "duration": 29,
    "start_time": "2025-02-13T14:18:17.669Z"
   },
   {
    "duration": 14,
    "start_time": "2025-02-13T14:18:17.700Z"
   },
   {
    "duration": 1859,
    "start_time": "2025-02-13T14:18:17.715Z"
   },
   {
    "duration": 159,
    "start_time": "2025-02-13T14:18:19.576Z"
   },
   {
    "duration": 6,
    "start_time": "2025-02-13T14:27:20.462Z"
   },
   {
    "duration": 145,
    "start_time": "2025-02-13T14:29:18.128Z"
   },
   {
    "duration": 1144,
    "start_time": "2025-02-13T14:30:43.745Z"
   },
   {
    "duration": 70,
    "start_time": "2025-02-13T14:30:44.890Z"
   },
   {
    "duration": 21,
    "start_time": "2025-02-13T14:30:44.962Z"
   },
   {
    "duration": 19,
    "start_time": "2025-02-13T14:30:44.985Z"
   },
   {
    "duration": 16,
    "start_time": "2025-02-13T14:30:45.006Z"
   },
   {
    "duration": 35,
    "start_time": "2025-02-13T14:30:45.025Z"
   },
   {
    "duration": 20,
    "start_time": "2025-02-13T14:30:45.062Z"
   },
   {
    "duration": 28,
    "start_time": "2025-02-13T14:30:45.083Z"
   },
   {
    "duration": 25,
    "start_time": "2025-02-13T14:30:45.113Z"
   },
   {
    "duration": 10,
    "start_time": "2025-02-13T14:30:45.140Z"
   },
   {
    "duration": 34,
    "start_time": "2025-02-13T14:30:45.151Z"
   },
   {
    "duration": 204,
    "start_time": "2025-02-13T14:30:45.186Z"
   },
   {
    "duration": 140,
    "start_time": "2025-02-13T14:30:45.392Z"
   },
   {
    "duration": 214,
    "start_time": "2025-02-13T14:30:45.534Z"
   },
   {
    "duration": 24,
    "start_time": "2025-02-13T14:30:45.749Z"
   },
   {
    "duration": 390,
    "start_time": "2025-02-13T14:30:45.775Z"
   },
   {
    "duration": 260,
    "start_time": "2025-02-13T14:30:46.166Z"
   },
   {
    "duration": 13,
    "start_time": "2025-02-13T14:30:46.429Z"
   },
   {
    "duration": 18,
    "start_time": "2025-02-13T14:30:46.444Z"
   },
   {
    "duration": 25,
    "start_time": "2025-02-13T14:30:46.463Z"
   },
   {
    "duration": 24,
    "start_time": "2025-02-13T14:30:46.490Z"
   },
   {
    "duration": 20,
    "start_time": "2025-02-13T14:30:46.516Z"
   },
   {
    "duration": 14,
    "start_time": "2025-02-13T14:30:46.537Z"
   },
   {
    "duration": 5,
    "start_time": "2025-02-13T14:30:46.553Z"
   },
   {
    "duration": 264,
    "start_time": "2025-02-13T14:30:46.559Z"
   },
   {
    "duration": 420,
    "start_time": "2025-02-13T14:30:46.826Z"
   },
   {
    "duration": 131,
    "start_time": "2025-02-13T14:30:47.248Z"
   },
   {
    "duration": 13,
    "start_time": "2025-02-13T14:30:47.382Z"
   },
   {
    "duration": 13,
    "start_time": "2025-02-13T14:30:47.410Z"
   },
   {
    "duration": 105,
    "start_time": "2025-02-13T14:30:47.426Z"
   },
   {
    "duration": 15,
    "start_time": "2025-02-13T14:30:47.533Z"
   },
   {
    "duration": 1922,
    "start_time": "2025-02-13T14:30:47.550Z"
   },
   {
    "duration": 176,
    "start_time": "2025-02-13T14:30:49.474Z"
   },
   {
    "duration": 1273,
    "start_time": "2025-02-13T16:10:13.889Z"
   },
   {
    "duration": 73,
    "start_time": "2025-02-13T16:10:15.164Z"
   },
   {
    "duration": 22,
    "start_time": "2025-02-13T16:10:15.238Z"
   },
   {
    "duration": 61,
    "start_time": "2025-02-13T16:10:15.262Z"
   },
   {
    "duration": 23,
    "start_time": "2025-02-13T16:10:15.326Z"
   },
   {
    "duration": 25,
    "start_time": "2025-02-13T16:10:15.351Z"
   },
   {
    "duration": 10,
    "start_time": "2025-02-13T16:10:15.377Z"
   },
   {
    "duration": 10,
    "start_time": "2025-02-13T16:10:15.389Z"
   },
   {
    "duration": 38,
    "start_time": "2025-02-13T16:10:15.400Z"
   },
   {
    "duration": 10,
    "start_time": "2025-02-13T16:10:15.440Z"
   },
   {
    "duration": 30,
    "start_time": "2025-02-13T16:10:15.452Z"
   },
   {
    "duration": 172,
    "start_time": "2025-02-13T16:10:15.484Z"
   },
   {
    "duration": 118,
    "start_time": "2025-02-13T16:10:15.657Z"
   },
   {
    "duration": 191,
    "start_time": "2025-02-13T16:10:15.777Z"
   },
   {
    "duration": 28,
    "start_time": "2025-02-13T16:10:15.970Z"
   },
   {
    "duration": 322,
    "start_time": "2025-02-13T16:10:15.999Z"
   },
   {
    "duration": 187,
    "start_time": "2025-02-13T16:10:16.323Z"
   },
   {
    "duration": 13,
    "start_time": "2025-02-13T16:10:16.511Z"
   },
   {
    "duration": 22,
    "start_time": "2025-02-13T16:10:16.526Z"
   },
   {
    "duration": 45,
    "start_time": "2025-02-13T16:10:16.550Z"
   },
   {
    "duration": 14,
    "start_time": "2025-02-13T16:10:16.597Z"
   },
   {
    "duration": 20,
    "start_time": "2025-02-13T16:10:16.612Z"
   },
   {
    "duration": 15,
    "start_time": "2025-02-13T16:10:16.633Z"
   },
   {
    "duration": 27,
    "start_time": "2025-02-13T16:10:16.650Z"
   },
   {
    "duration": 239,
    "start_time": "2025-02-13T16:10:16.679Z"
   },
   {
    "duration": 234,
    "start_time": "2025-02-13T16:10:16.920Z"
   },
   {
    "duration": 120,
    "start_time": "2025-02-13T16:10:17.156Z"
   },
   {
    "duration": 12,
    "start_time": "2025-02-13T16:10:17.278Z"
   },
   {
    "duration": 9,
    "start_time": "2025-02-13T16:10:17.292Z"
   },
   {
    "duration": 32,
    "start_time": "2025-02-13T16:10:17.302Z"
   },
   {
    "duration": 17,
    "start_time": "2025-02-13T16:10:17.336Z"
   },
   {
    "duration": 1737,
    "start_time": "2025-02-13T16:10:17.355Z"
   },
   {
    "duration": 147,
    "start_time": "2025-02-13T16:10:19.093Z"
   }
  ],
  "kernelspec": {
   "display_name": "Python 3 (ipykernel)",
   "language": "python",
   "name": "python3"
  },
  "language_info": {
   "codemirror_mode": {
    "name": "ipython",
    "version": 3
   },
   "file_extension": ".py",
   "mimetype": "text/x-python",
   "name": "python",
   "nbconvert_exporter": "python",
   "pygments_lexer": "ipython3",
   "version": "3.12.7"
  },
  "toc": {
   "base_numbering": 1,
   "nav_menu": {},
   "number_sections": true,
   "sideBar": true,
   "skip_h1_title": true,
   "title_cell": "Содержание",
   "title_sidebar": "Contents",
   "toc_cell": true,
   "toc_position": {
    "height": "calc(100% - 180px)",
    "left": "10px",
    "top": "150px",
    "width": "328.528px"
   },
   "toc_section_display": true,
   "toc_window_display": true
  }
 },
 "nbformat": 4,
 "nbformat_minor": 5
}
